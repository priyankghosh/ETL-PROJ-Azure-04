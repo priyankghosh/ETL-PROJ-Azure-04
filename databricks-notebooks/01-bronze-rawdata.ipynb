{
 "cells": [
  {
   "cell_type": "code",
   "execution_count": 0,
   "metadata": {
    "application/vnd.databricks.v1+cell": {
     "cellMetadata": {
      "byteLimit": 2048000,
      "rowLimit": 10000
     },
     "inputWidgets": {},
     "nuid": "89b35b8d-57eb-423f-902e-73b8dad92f57",
     "showTitle": false,
     "tableResultSettingsMap": {},
     "title": ""
    }
   },
   "outputs": [],
   "source": [
    "# Imports\n",
    "from pyspark.sql.functions import *"
   ]
  },
  {
   "cell_type": "code",
   "execution_count": 0,
   "metadata": {
    "application/vnd.databricks.v1+cell": {
     "cellMetadata": {
      "byteLimit": 2048000,
      "rowLimit": 10000
     },
     "inputWidgets": {},
     "nuid": "33c9d9ea-3af2-493a-961a-95a47a8c8215",
     "showTitle": false,
     "tableResultSettingsMap": {},
     "title": ""
    }
   },
   "outputs": [],
   "source": [
    "# Azure Event Hub Configuration\n",
    "event_hub_namespace = \"<your-event-hub-namespace>\"\n",
    "event_hub_name=\"<event-hub-name>\"\n",
    "event_hub_conn_str = \"<your-event-hub-connection-string>\""
   ]
  },
  {
   "cell_type": "code",
   "execution_count": 0,
   "metadata": {
    "application/vnd.databricks.v1+cell": {
     "cellMetadata": {
      "byteLimit": 2048000,
      "rowLimit": 10000
     },
     "inputWidgets": {},
     "nuid": "f8bda19f-82b1-4d03-b976-5991f8fa6af1",
     "showTitle": false,
     "tableResultSettingsMap": {},
     "title": ""
    }
   },
   "outputs": [],
   "source": [
    "kafka_options = {\n",
    "    'kafka.bootstrap.servers': f\"{event_hub_namespace}:9093\",\n",
    "    'subscribe': event_hub_name,\n",
    "    'kafka.security.protocol': 'SASL_SSL',\n",
    "    'kafka.sasl.mechanism': 'PLAIN',\n",
    "    'kafka.sasl.jaas.config': f'kafkashaded.org.apache.kafka.common.security.plain.PlainLoginModule required username=\"$ConnectionString\" password=\"{event_hub_conn_str}\";',\n",
    "    'startingOffsets': 'latest',\n",
    "    'failOnDataLoss': 'false'\n",
    "}\n",
    "\n",
    "#Read from eventhub\n",
    "raw_df = (spark.readStream\n",
    "          .format(\"kafka\")\n",
    "          .options(**kafka_options)\n",
    "          .load()\n",
    "          )"
   ]
  },
  {
   "cell_type": "code",
   "execution_count": 0,
   "metadata": {
    "application/vnd.databricks.v1+cell": {
     "cellMetadata": {
      "byteLimit": 2048000,
      "rowLimit": 10000
     },
     "inputWidgets": {},
     "nuid": "3a19d3c2-829d-4408-9775-52712b65992b",
     "showTitle": false,
     "tableResultSettingsMap": {},
     "title": ""
    }
   },
   "outputs": [],
   "source": [
    "#Cast data to json\n",
    "json_df = raw_df.selectExpr(\"CAST(value AS STRING) as raw_json\")"
   ]
  },
  {
   "cell_type": "code",
   "execution_count": 0,
   "metadata": {
    "application/vnd.databricks.v1+cell": {
     "cellMetadata": {
      "byteLimit": 2048000,
      "rowLimit": 10000
     },
     "inputWidgets": {},
     "nuid": "e9aa17b2-d937-4e23-a321-5fb6ed1405de",
     "showTitle": false,
     "tableResultSettingsMap": {},
     "title": ""
    }
   },
   "outputs": [
    {
     "data": {
      "text/html": [
       "<style scoped>\n",
       "  .table-result-container {\n",
       "    max-height: 300px;\n",
       "    overflow: auto;\n",
       "  }\n",
       "  table, th, td {\n",
       "    border: 1px solid black;\n",
       "    border-collapse: collapse;\n",
       "  }\n",
       "  th, td {\n",
       "    padding: 5px;\n",
       "  }\n",
       "  th {\n",
       "    text-align: left;\n",
       "  }\n",
       "</style><div class='table-result-container'><table class='table-result'><thead style='background-color: white'><tr><th>raw_json</th></tr></thead><tbody><tr><td>{\"patient_id\": \"bf216871-150d-495b-96e0-1e62de110afd\", \"gender\": \"Male\", \"age\": 87, \"department\": \"Maternity\", \"admission_time\": \"2025-09-24T17:25:26.309377\", \"discharge_time\": \"2025-09-22T17:25:26.309307\", \"bed_id\": 107, \"hospital_id\": 7}</td></tr><tr><td>{\"patient_id\": \"ded430c3-f4bc-4602-b0ba-97370ff1926e\", \"gender\": \"Male\", \"age\": 30, \"department\": \"Pediatrics\", \"admission_time\": \"2025-09-22T13:25:27.310246\", \"discharge_time\": \"2025-09-23T01:25:27.310246\", \"bed_id\": 442, \"hospital_id\": 1}</td></tr><tr><td>{\"patient_id\": \"a80db7e2-07bb-41a6-81fd-1c9eb1e9b620\", \"gender\": \"Male\", \"age\": 56, \"department\": \"Emergency\", \"admission_time\": \"2025-09-25T14:25:28.310787\", \"discharge_time\": \"2025-09-22T20:25:28.310717\", \"bed_id\": 63, \"hospital_id\": 7}</td></tr><tr><td>{\"patient_id\": \"0f36892f-78ac-4c0a-a6eb-c405f384c43f\", \"gender\": \"Female\", \"age\": 24, \"department\": \"Cardiology\", \"admission_time\": \"2025-09-20T10:25:29.311153\", \"discharge_time\": \"2025-09-22T12:25:29.311153\", \"bed_id\": 108, \"hospital_id\": 5}</td></tr><tr><td>{\"patient_id\": \"b6096ac3-1f0e-4cbe-bf61-d306597f6ca0\", \"gender\": \"Male\", \"age\": 21, \"department\": \"Emergency\", \"admission_time\": \"2025-09-21T02:25:30.312090\", \"discharge_time\": \"2025-09-22T17:25:30.312090\", \"bed_id\": 413, \"hospital_id\": 6}</td></tr><tr><td>{\"patient_id\": \"3c43d178-a469-4ced-915b-4c3e5bd79a5b\", \"gender\": \"Male\", \"age\": 25, \"department\": \"Cardiology\", \"admission_time\": \"2025-09-20T16:25:31.312525\", \"discharge_time\": \"2025-09-22T08:25:31.312525\", \"bed_id\": 88, \"hospital_id\": 3}</td></tr><tr><td>{\"patient_id\": \"5569817a-193f-4742-b615-b03c6331b508\", \"gender\": \"Male\", \"age\": 9, \"department\": \"ICU\", \"admission_time\": \"2025-09-20T08:25:32.313737\", \"discharge_time\": \"2025-09-21T07:25:32.313737\", \"bed_id\": 388, \"hospital_id\": 3}</td></tr><tr><td>{\"patient_id\": \"bc605664-b738-483e-ac72-65e11771aafe\", \"gender\": \"Male\", \"age\": 4, \"department\": \"ICU\", \"admission_time\": \"2025-09-20T12:25:33.314436\", \"discharge_time\": \"2025-09-22T05:25:33.314436\", \"bed_id\": 109, \"hospital_id\": 4}</td></tr><tr><td>{\"patient_id\": \"22267310-48ba-40d9-88e3-3bed71f5de4f\", \"gender\": \"Female\", \"age\": 14, \"department\": \"Maternity\", \"admission_time\": \"2025-09-21T20:25:34.315866\", \"discharge_time\": \"2025-09-23T07:25:34.315866\", \"bed_id\": 351, \"hospital_id\": 4}</td></tr><tr><td>{\"patient_id\": \"b2f8d6be-6f11-438c-9739-ea8d641ac1d6\", \"gender\": \"Female\", \"age\": 87, \"department\": \"Emergency\", \"admission_time\": \"2025-09-21T19:25:35.316306\", \"discharge_time\": \"2025-09-21T22:25:35.316306\", \"bed_id\": 68, \"hospital_id\": 7}</td></tr><tr><td>{\"patient_id\": \"d9165111-191e-4222-a0cd-33d98172042d\", \"gender\": \"Female\", \"age\": 86, \"department\": \"Surgery\", \"admission_time\": \"2025-09-20T20:25:36.317511\", \"discharge_time\": \"2025-09-23T07:25:36.317511\", \"bed_id\": 333, \"hospital_id\": 6}</td></tr><tr><td>{\"patient_id\": \"bebf4f4b-a886-49f7-a3e9-7b70ab7ca498\", \"gender\": \"Female\", \"age\": 16, \"department\": \"Surgery\", \"admission_time\": \"2025-09-22T05:25:37.318681\", \"discharge_time\": \"2025-09-24T15:25:37.318681\", \"bed_id\": 454, \"hospital_id\": 4}</td></tr><tr><td>{\"patient_id\": \"2319408c-f539-46be-9d84-dfc3a5ea2ff1\", \"gender\": \"Female\", \"age\": 73, \"department\": \"Emergency\", \"admission_time\": \"2025-09-21T02:25:38.319612\", \"discharge_time\": \"2025-09-23T07:25:38.319612\", \"bed_id\": 278, \"hospital_id\": 2}</td></tr><tr><td>{\"patient_id\": \"bc3228e0-446c-47e1-8470-a7a256dbb96e\", \"gender\": \"Female\", \"age\": 59, \"department\": \"Oncology\", \"admission_time\": \"2025-09-21T19:25:39.320042\", \"discharge_time\": \"2025-09-22T15:25:39.320042\", \"bed_id\": 359, \"hospital_id\": 5}</td></tr><tr><td>{\"patient_id\": \"d38fea45-0219-4bea-8dc2-54f3cded050e\", \"gender\": \"Female\", \"age\": 44, \"department\": \"Maternity\", \"admission_time\": \"2025-09-23T07:25:40.321184\", \"discharge_time\": \"2025-09-26T00:25:40.321184\", \"bed_id\": 341, \"hospital_id\": 5}</td></tr><tr><td>{\"patient_id\": \"6aecc26e-0976-4aba-adda-746d67f7e40c\", \"gender\": \"Male\", \"age\": 64, \"department\": \"Surgery\", \"admission_time\": \"2025-09-20T18:25:41.321644\", \"discharge_time\": \"2025-09-22T13:25:41.321644\", \"bed_id\": 33, \"hospital_id\": 6}</td></tr><tr><td>{\"patient_id\": \"107130f3-f9ca-45fc-b4c6-031a95ec9696\", \"gender\": \"Female\", \"age\": 22, \"department\": \"Oncology\", \"admission_time\": \"2025-09-23T01:25:42.322163\", \"discharge_time\": \"2025-09-25T05:25:42.322163\", \"bed_id\": 46, \"hospital_id\": 5}</td></tr><tr><td>{\"patient_id\": \"da76efdb-bef0-4524-b322-53efaa424f09\", \"gender\": \"Male\", \"age\": 68, \"department\": \"Maternity\", \"admission_time\": \"2025-09-23T02:25:43.322793\", \"discharge_time\": \"2025-09-25T23:25:43.322793\", \"bed_id\": 268, \"hospital_id\": 2}</td></tr><tr><td>{\"patient_id\": \"f1bedbee-ada5-40b1-9ee7-80564acea33f\", \"gender\": \"Female\", \"age\": 67, \"department\": \"Surgery\", \"admission_time\": \"2025-09-25T09:25:44.323352\", \"discharge_time\": \"2025-09-22T03:25:44.323270\", \"bed_id\": 390, \"hospital_id\": 3}</td></tr><tr><td>{\"patient_id\": \"f94a9af3-7812-4c3c-a32a-7f20176f7825\", \"gender\": \"Male\", \"age\": 97, \"department\": \"Emergency\", \"admission_time\": \"2025-09-20T15:25:45.323753\", \"discharge_time\": \"2025-09-21T07:25:45.323753\", \"bed_id\": 458, \"hospital_id\": 2}</td></tr><tr><td>{\"patient_id\": \"1f1e7510-fd49-48f3-8566-406330a8ec75\", \"gender\": \"Male\", \"age\": 99, \"department\": \"Emergency\", \"admission_time\": \"2025-09-21T10:25:46.324176\", \"discharge_time\": \"2025-09-22T04:25:46.324176\", \"bed_id\": 110, \"hospital_id\": 2}</td></tr><tr><td>{\"patient_id\": \"65659c86-050f-4a20-8148-dff9fa9e658e\", \"gender\": \"Male\", \"age\": 47, \"department\": \"Surgery\", \"admission_time\": \"2025-09-20T16:25:47.324621\", \"discharge_time\": \"2025-09-23T16:25:47.324621\", \"bed_id\": 372, \"hospital_id\": 5}</td></tr><tr><td>{\"patient_id\": \"efd1cdbf-4f2f-4ac8-a6c9-dd86c622052a\", \"gender\": \"Female\", \"age\": 91, \"department\": \"Pediatrics\", \"admission_time\": \"2025-09-23T09:25:48.325144\", \"discharge_time\": \"2025-09-24T09:25:48.325062\", \"bed_id\": 40, \"hospital_id\": 5}</td></tr><tr><td>{\"patient_id\": \"a6c28fb5-2669-4874-9f3d-922e84c89c29\", \"gender\": \"Male\", \"age\": 61, \"department\": \"Emergency\", \"admission_time\": \"2025-09-21T00:25:49.325527\", \"discharge_time\": \"2025-09-23T19:25:49.325527\", \"bed_id\": 490, \"hospital_id\": 3}</td></tr><tr><td>{\"patient_id\": \"65a6c2d3-07cd-4e6b-9e5b-0667daa7551d\", \"gender\": \"Female\", \"age\": 14, \"department\": \"Cardiology\", \"admission_time\": \"2025-09-22T20:25:50.325971\", \"discharge_time\": \"2025-09-24T21:25:50.325971\", \"bed_id\": 263, \"hospital_id\": 4}</td></tr><tr><td>{\"patient_id\": \"cf19aa7f-c34a-4bf9-8de2-546229857df2\", \"gender\": \"Male\", \"age\": 92, \"department\": \"Emergency\", \"admission_time\": \"2025-09-22T17:25:51.326405\", \"discharge_time\": \"2025-09-25T00:25:51.326405\", \"bed_id\": 96, \"hospital_id\": 3}</td></tr><tr><td>{\"patient_id\": \"60d24d3a-c5dd-43e6-b2f3-91627c228836\", \"gender\": \"Female\", \"age\": 69, \"department\": \"Surgery\", \"admission_time\": \"2025-09-20T14:25:52.326863\", \"discharge_time\": \"2025-09-21T12:25:52.326863\", \"bed_id\": 360, \"hospital_id\": 6}</td></tr></tbody></table></div>"
      ]
     },
     "metadata": {
      "application/vnd.databricks.v1+output": {
       "addedWidgets": {},
       "aggData": [],
       "aggError": "",
       "aggOverflow": false,
       "aggSchema": [],
       "aggSeriesLimitReached": false,
       "aggType": "",
       "arguments": {},
       "columnCustomDisplayInfos": {},
       "data": [
        [
         "{\"patient_id\": \"bf216871-150d-495b-96e0-1e62de110afd\", \"gender\": \"Male\", \"age\": 87, \"department\": \"Maternity\", \"admission_time\": \"2025-09-24T17:25:26.309377\", \"discharge_time\": \"2025-09-22T17:25:26.309307\", \"bed_id\": 107, \"hospital_id\": 7}"
        ],
        [
         "{\"patient_id\": \"ded430c3-f4bc-4602-b0ba-97370ff1926e\", \"gender\": \"Male\", \"age\": 30, \"department\": \"Pediatrics\", \"admission_time\": \"2025-09-22T13:25:27.310246\", \"discharge_time\": \"2025-09-23T01:25:27.310246\", \"bed_id\": 442, \"hospital_id\": 1}"
        ],
        [
         "{\"patient_id\": \"a80db7e2-07bb-41a6-81fd-1c9eb1e9b620\", \"gender\": \"Male\", \"age\": 56, \"department\": \"Emergency\", \"admission_time\": \"2025-09-25T14:25:28.310787\", \"discharge_time\": \"2025-09-22T20:25:28.310717\", \"bed_id\": 63, \"hospital_id\": 7}"
        ],
        [
         "{\"patient_id\": \"0f36892f-78ac-4c0a-a6eb-c405f384c43f\", \"gender\": \"Female\", \"age\": 24, \"department\": \"Cardiology\", \"admission_time\": \"2025-09-20T10:25:29.311153\", \"discharge_time\": \"2025-09-22T12:25:29.311153\", \"bed_id\": 108, \"hospital_id\": 5}"
        ],
        [
         "{\"patient_id\": \"b6096ac3-1f0e-4cbe-bf61-d306597f6ca0\", \"gender\": \"Male\", \"age\": 21, \"department\": \"Emergency\", \"admission_time\": \"2025-09-21T02:25:30.312090\", \"discharge_time\": \"2025-09-22T17:25:30.312090\", \"bed_id\": 413, \"hospital_id\": 6}"
        ],
        [
         "{\"patient_id\": \"3c43d178-a469-4ced-915b-4c3e5bd79a5b\", \"gender\": \"Male\", \"age\": 25, \"department\": \"Cardiology\", \"admission_time\": \"2025-09-20T16:25:31.312525\", \"discharge_time\": \"2025-09-22T08:25:31.312525\", \"bed_id\": 88, \"hospital_id\": 3}"
        ],
        [
         "{\"patient_id\": \"5569817a-193f-4742-b615-b03c6331b508\", \"gender\": \"Male\", \"age\": 9, \"department\": \"ICU\", \"admission_time\": \"2025-09-20T08:25:32.313737\", \"discharge_time\": \"2025-09-21T07:25:32.313737\", \"bed_id\": 388, \"hospital_id\": 3}"
        ],
        [
         "{\"patient_id\": \"bc605664-b738-483e-ac72-65e11771aafe\", \"gender\": \"Male\", \"age\": 4, \"department\": \"ICU\", \"admission_time\": \"2025-09-20T12:25:33.314436\", \"discharge_time\": \"2025-09-22T05:25:33.314436\", \"bed_id\": 109, \"hospital_id\": 4}"
        ],
        [
         "{\"patient_id\": \"22267310-48ba-40d9-88e3-3bed71f5de4f\", \"gender\": \"Female\", \"age\": 14, \"department\": \"Maternity\", \"admission_time\": \"2025-09-21T20:25:34.315866\", \"discharge_time\": \"2025-09-23T07:25:34.315866\", \"bed_id\": 351, \"hospital_id\": 4}"
        ],
        [
         "{\"patient_id\": \"b2f8d6be-6f11-438c-9739-ea8d641ac1d6\", \"gender\": \"Female\", \"age\": 87, \"department\": \"Emergency\", \"admission_time\": \"2025-09-21T19:25:35.316306\", \"discharge_time\": \"2025-09-21T22:25:35.316306\", \"bed_id\": 68, \"hospital_id\": 7}"
        ],
        [
         "{\"patient_id\": \"d9165111-191e-4222-a0cd-33d98172042d\", \"gender\": \"Female\", \"age\": 86, \"department\": \"Surgery\", \"admission_time\": \"2025-09-20T20:25:36.317511\", \"discharge_time\": \"2025-09-23T07:25:36.317511\", \"bed_id\": 333, \"hospital_id\": 6}"
        ],
        [
         "{\"patient_id\": \"bebf4f4b-a886-49f7-a3e9-7b70ab7ca498\", \"gender\": \"Female\", \"age\": 16, \"department\": \"Surgery\", \"admission_time\": \"2025-09-22T05:25:37.318681\", \"discharge_time\": \"2025-09-24T15:25:37.318681\", \"bed_id\": 454, \"hospital_id\": 4}"
        ],
        [
         "{\"patient_id\": \"2319408c-f539-46be-9d84-dfc3a5ea2ff1\", \"gender\": \"Female\", \"age\": 73, \"department\": \"Emergency\", \"admission_time\": \"2025-09-21T02:25:38.319612\", \"discharge_time\": \"2025-09-23T07:25:38.319612\", \"bed_id\": 278, \"hospital_id\": 2}"
        ],
        [
         "{\"patient_id\": \"bc3228e0-446c-47e1-8470-a7a256dbb96e\", \"gender\": \"Female\", \"age\": 59, \"department\": \"Oncology\", \"admission_time\": \"2025-09-21T19:25:39.320042\", \"discharge_time\": \"2025-09-22T15:25:39.320042\", \"bed_id\": 359, \"hospital_id\": 5}"
        ],
        [
         "{\"patient_id\": \"d38fea45-0219-4bea-8dc2-54f3cded050e\", \"gender\": \"Female\", \"age\": 44, \"department\": \"Maternity\", \"admission_time\": \"2025-09-23T07:25:40.321184\", \"discharge_time\": \"2025-09-26T00:25:40.321184\", \"bed_id\": 341, \"hospital_id\": 5}"
        ],
        [
         "{\"patient_id\": \"6aecc26e-0976-4aba-adda-746d67f7e40c\", \"gender\": \"Male\", \"age\": 64, \"department\": \"Surgery\", \"admission_time\": \"2025-09-20T18:25:41.321644\", \"discharge_time\": \"2025-09-22T13:25:41.321644\", \"bed_id\": 33, \"hospital_id\": 6}"
        ],
        [
         "{\"patient_id\": \"107130f3-f9ca-45fc-b4c6-031a95ec9696\", \"gender\": \"Female\", \"age\": 22, \"department\": \"Oncology\", \"admission_time\": \"2025-09-23T01:25:42.322163\", \"discharge_time\": \"2025-09-25T05:25:42.322163\", \"bed_id\": 46, \"hospital_id\": 5}"
        ],
        [
         "{\"patient_id\": \"da76efdb-bef0-4524-b322-53efaa424f09\", \"gender\": \"Male\", \"age\": 68, \"department\": \"Maternity\", \"admission_time\": \"2025-09-23T02:25:43.322793\", \"discharge_time\": \"2025-09-25T23:25:43.322793\", \"bed_id\": 268, \"hospital_id\": 2}"
        ],
        [
         "{\"patient_id\": \"f1bedbee-ada5-40b1-9ee7-80564acea33f\", \"gender\": \"Female\", \"age\": 67, \"department\": \"Surgery\", \"admission_time\": \"2025-09-25T09:25:44.323352\", \"discharge_time\": \"2025-09-22T03:25:44.323270\", \"bed_id\": 390, \"hospital_id\": 3}"
        ],
        [
         "{\"patient_id\": \"f94a9af3-7812-4c3c-a32a-7f20176f7825\", \"gender\": \"Male\", \"age\": 97, \"department\": \"Emergency\", \"admission_time\": \"2025-09-20T15:25:45.323753\", \"discharge_time\": \"2025-09-21T07:25:45.323753\", \"bed_id\": 458, \"hospital_id\": 2}"
        ],
        [
         "{\"patient_id\": \"1f1e7510-fd49-48f3-8566-406330a8ec75\", \"gender\": \"Male\", \"age\": 99, \"department\": \"Emergency\", \"admission_time\": \"2025-09-21T10:25:46.324176\", \"discharge_time\": \"2025-09-22T04:25:46.324176\", \"bed_id\": 110, \"hospital_id\": 2}"
        ],
        [
         "{\"patient_id\": \"65659c86-050f-4a20-8148-dff9fa9e658e\", \"gender\": \"Male\", \"age\": 47, \"department\": \"Surgery\", \"admission_time\": \"2025-09-20T16:25:47.324621\", \"discharge_time\": \"2025-09-23T16:25:47.324621\", \"bed_id\": 372, \"hospital_id\": 5}"
        ],
        [
         "{\"patient_id\": \"efd1cdbf-4f2f-4ac8-a6c9-dd86c622052a\", \"gender\": \"Female\", \"age\": 91, \"department\": \"Pediatrics\", \"admission_time\": \"2025-09-23T09:25:48.325144\", \"discharge_time\": \"2025-09-24T09:25:48.325062\", \"bed_id\": 40, \"hospital_id\": 5}"
        ],
        [
         "{\"patient_id\": \"a6c28fb5-2669-4874-9f3d-922e84c89c29\", \"gender\": \"Male\", \"age\": 61, \"department\": \"Emergency\", \"admission_time\": \"2025-09-21T00:25:49.325527\", \"discharge_time\": \"2025-09-23T19:25:49.325527\", \"bed_id\": 490, \"hospital_id\": 3}"
        ],
        [
         "{\"patient_id\": \"65a6c2d3-07cd-4e6b-9e5b-0667daa7551d\", \"gender\": \"Female\", \"age\": 14, \"department\": \"Cardiology\", \"admission_time\": \"2025-09-22T20:25:50.325971\", \"discharge_time\": \"2025-09-24T21:25:50.325971\", \"bed_id\": 263, \"hospital_id\": 4}"
        ],
        [
         "{\"patient_id\": \"cf19aa7f-c34a-4bf9-8de2-546229857df2\", \"gender\": \"Male\", \"age\": 92, \"department\": \"Emergency\", \"admission_time\": \"2025-09-22T17:25:51.326405\", \"discharge_time\": \"2025-09-25T00:25:51.326405\", \"bed_id\": 96, \"hospital_id\": 3}"
        ],
        [
         "{\"patient_id\": \"60d24d3a-c5dd-43e6-b2f3-91627c228836\", \"gender\": \"Female\", \"age\": 69, \"department\": \"Surgery\", \"admission_time\": \"2025-09-20T14:25:52.326863\", \"discharge_time\": \"2025-09-21T12:25:52.326863\", \"bed_id\": 360, \"hospital_id\": 6}"
        ]
       ],
       "datasetInfos": [],
       "dbfsResultPath": null,
       "isJsonSchema": true,
       "metadata": {
        "isDbfsCommandResult": false
       },
       "overflow": false,
       "plotOptions": {
        "customPlotOptions": {},
        "displayType": "table",
        "pivotAggregation": null,
        "pivotColumns": null,
        "xColumns": null,
        "yColumns": null
       },
       "removedWidgets": [],
       "schema": [
        {
         "metadata": "{}",
         "name": "raw_json",
         "type": "\"string\""
        }
       ],
       "type": "table"
      }
     },
     "output_type": "display_data"
    }
   ],
   "source": [
    "display(json_df)"
   ]
  },
  {
   "cell_type": "code",
   "execution_count": 0,
   "metadata": {
    "application/vnd.databricks.v1+cell": {
     "cellMetadata": {
      "byteLimit": 2048000,
      "rowLimit": 10000
     },
     "inputWidgets": {},
     "nuid": "376eca37-49fc-40cb-b6fb-9e9b8103337e",
     "showTitle": false,
     "tableResultSettingsMap": {},
     "title": ""
    }
   },
   "outputs": [],
   "source": [
    "#ADLS configuration \n",
    "spark.conf.set(\n",
    "    \"fs.azure.account.key.<storage-account-name>.dfs.core.windows.net\",\n",
    "    \"<your-storage-account-access-key>\"\n",
    ")"
   ]
  },
  {
   "cell_type": "code",
   "execution_count": 0,
   "metadata": {
    "application/vnd.databricks.v1+cell": {
     "cellMetadata": {
      "byteLimit": 2048000,
      "rowLimit": 10000
     },
     "inputWidgets": {},
     "nuid": "f72feef9-8fd8-4818-b20d-f0a3adadb255",
     "showTitle": false,
     "tableResultSettingsMap": {},
     "title": ""
    }
   },
   "outputs": [
    {
     "data": {
      "text/html": [
       "<style scoped>\n",
       "  .ansiout {\n",
       "    display: block;\n",
       "    unicode-bidi: embed;\n",
       "    white-space: pre-wrap;\n",
       "    word-wrap: break-word;\n",
       "    word-break: break-all;\n",
       "    font-family: \"Menlo\", \"Monaco\", \"Consolas\", \"Ubuntu Mono\", \"Source Code Pro\", monospace;\n",
       "    font-size: 13px;\n",
       "    color: #555;\n",
       "    margin-left: 4px;\n",
       "    line-height: 19px;\n",
       "  }\n",
       "</style>"
      ]
     },
     "metadata": {
      "application/vnd.databricks.v1+output": {
       "arguments": {},
       "data": "",
       "errorSummary": "The cluster was unhealthy or has been terminated. Please restart the cluster or attach this notebook to a different cluster.",
       "errorTraceType": null,
       "metadata": {},
       "type": "ipynbError"
      }
     },
     "output_type": "display_data"
    }
   ],
   "source": [
    "bronze_path = \"abfss://<bronze-container>@<storage-account-name>.dfs.core.windows.net/patient_flow\"\n",
    "\n",
    "#Write stream to bronze\n",
    "(\n",
    "    json_df\n",
    "    .writeStream\n",
    "    .format(\"delta\")\n",
    "    .outputMode(\"append\")\n",
    "    .option(\"checkpointLocation\", \"dbfs:/mnt/bronze/_checkpoints/patient_flow\")\n",
    "    .start(bronze_path)\n",
    ")"
   ]
  },
  {
   "cell_type": "code",
   "execution_count": 0,
   "metadata": {
    "application/vnd.databricks.v1+cell": {
     "cellMetadata": {
      "byteLimit": 2048000,
      "rowLimit": 10000
     },
     "inputWidgets": {},
     "nuid": "f646a81b-7b12-4dc8-bc94-6de013391121",
     "showTitle": false,
     "tableResultSettingsMap": {},
     "title": ""
    }
   },
   "outputs": [
    {
     "data": {
      "text/html": [
       "<style scoped>\n",
       "  .table-result-container {\n",
       "    max-height: 300px;\n",
       "    overflow: auto;\n",
       "  }\n",
       "  table, th, td {\n",
       "    border: 1px solid black;\n",
       "    border-collapse: collapse;\n",
       "  }\n",
       "  th, td {\n",
       "    padding: 5px;\n",
       "  }\n",
       "  th {\n",
       "    text-align: left;\n",
       "  }\n",
       "</style><div class='table-result-container'><table class='table-result'><thead style='background-color: white'><tr><th>raw_json</th></tr></thead><tbody><tr><td>{\"patient_id\": \"3c4f6a4d-9327-48f3-b5e5-d56120e03bf4\", \"gender\": \"Female\", \"age\": 58, \"department\": \"Emergency\", \"admission_time\": \"2025-09-21T01:25:05.038845\", \"discharge_time\": \"2025-09-23T06:25:05.038845\", \"bed_id\": 193, \"hospital_id\": 5}</td></tr><tr><td>{\"patient_id\": \"0ba2f27c-2d57-4908-99e4-a213ed08f065\", \"gender\": \"Female\", \"age\": 43, \"department\": \"Maternity\", \"admission_time\": \"2025-09-21T06:25:06.294223\", \"discharge_time\": \"2025-09-21T15:25:06.294223\", \"bed_id\": 31, \"hospital_id\": 3}</td></tr><tr><td>{\"patient_id\": \"87ecb86b-ccdd-4c1d-bc1e-179791f00ce2\", \"gender\": \"Male\", \"age\": 14, \"department\": \"Oncology\", \"admission_time\": \"2025-09-20T13:25:07.295149\", \"discharge_time\": \"2025-09-23T07:25:07.295149\", \"bed_id\": 468, \"hospital_id\": 3}</td></tr><tr><td>{\"patient_id\": \"061c6042-40f2-4aed-a453-48f8e8f8ab58\", \"gender\": \"Male\", \"age\": 54, \"department\": \"Pediatrics\", \"admission_time\": \"2025-09-25T02:25:08.295772\", \"discharge_time\": \"2025-09-24T05:25:08.295635\", \"bed_id\": 195, \"hospital_id\": 4}</td></tr><tr><td>{\"patient_id\": \"a57eace0-08bc-46d1-a839-9ad50bbc0cd6\", \"gender\": \"Female\", \"age\": 65, \"department\": \"Emergency\", \"admission_time\": \"2025-09-20T17:25:09.296344\", \"discharge_time\": \"2025-09-22T04:25:09.296344\", \"bed_id\": 51, \"hospital_id\": 7}</td></tr><tr><td>{\"patient_id\": \"6ad58d86-2058-4011-a350-25e7597e473d\", \"gender\": \"Female\", \"age\": 94, \"department\": \"Pediatrics\", \"admission_time\": \"2025-09-21T01:25:10.298410\", \"discharge_time\": \"2025-09-23T23:25:10.298410\", \"bed_id\": 35, \"hospital_id\": 7}</td></tr><tr><td>{\"patient_id\": \"308951c7-79b6-4461-a5d5-ebb11cb2a2c8\", \"gender\": \"Female\", \"age\": 88, \"department\": \"Emergency\", \"admission_time\": \"2025-09-20T15:25:11.299584\", \"discharge_time\": \"2025-09-21T01:25:11.299584\", \"bed_id\": 161, \"hospital_id\": 3}</td></tr><tr><td>{\"patient_id\": \"242159b6-a085-4f70-bd3e-344718f6fb6d\", \"gender\": \"Female\", \"age\": 80, \"department\": \"Pediatrics\", \"admission_time\": \"2025-09-22T17:25:12.300253\", \"discharge_time\": \"2025-09-23T15:25:12.300253\", \"bed_id\": 398, \"hospital_id\": 5}</td></tr><tr><td>{\"patient_id\": \"ba9e103f-b22d-4cc2-8cf6-3c56fd06f758\", \"gender\": \"Female\", \"age\": 67, \"department\": \"Pediatrics\", \"admission_time\": \"2025-09-21T14:25:13.301379\", \"discharge_time\": \"2025-09-22T00:25:13.301379\", \"bed_id\": 176, \"hospital_id\": 7}</td></tr><tr><td>{\"patient_id\": \"1eb560c6-3121-4f9e-a528-fe7d28641fa8\", \"gender\": \"Female\", \"age\": 71, \"department\": \"Cardiology\", \"admission_time\": \"2025-09-21T07:25:14.301824\", \"discharge_time\": \"2025-09-22T13:25:14.301824\", \"bed_id\": 206, \"hospital_id\": 3}</td></tr><tr><td>{\"patient_id\": \"257b3e80-7155-47a3-a35a-8e9d7addc9bd\", \"gender\": \"Female\", \"age\": 27, \"department\": \"Oncology\", \"admission_time\": \"2025-09-23T02:25:15.302262\", \"discharge_time\": \"2025-09-24T14:25:15.302262\", \"bed_id\": 424, \"hospital_id\": 5}</td></tr><tr><td>{\"patient_id\": \"828d0984-883c-472b-be04-6a56200acfa7\", \"gender\": \"Female\", \"age\": 26, \"department\": \"Surgery\", \"admission_time\": \"2025-09-24T16:25:16.303276\", \"discharge_time\": \"2025-09-25T07:25:16.303193\", \"bed_id\": 237, \"hospital_id\": 6}</td></tr><tr><td>{\"patient_id\": \"d0ad850f-ab84-443a-aa6b-c4b9f00883f7\", \"gender\": \"Male\", \"age\": 87, \"department\": \"Cardiology\", \"admission_time\": \"2025-09-20T18:25:17.303638\", \"discharge_time\": \"2025-09-21T04:25:17.303638\", \"bed_id\": 209, \"hospital_id\": 6}</td></tr><tr><td>{\"patient_id\": \"20a76e0c-eebd-4cd7-8a45-bfec77c392b3\", \"gender\": \"Male\", \"age\": 16, \"department\": \"Surgery\", \"admission_time\": \"2025-09-21T20:25:18.304209\", \"discharge_time\": \"2025-09-23T16:25:18.304209\", \"bed_id\": 165, \"hospital_id\": 5}</td></tr><tr><td>{\"patient_id\": \"65360648-4ccc-43fa-972a-fdcecb02fc3e\", \"gender\": \"Female\", \"age\": 74, \"department\": \"Pediatrics\", \"admission_time\": \"2025-09-22T23:25:19.305137\", \"discharge_time\": \"2025-09-25T06:25:19.305137\", \"bed_id\": 343, \"hospital_id\": 6}</td></tr><tr><td>{\"patient_id\": \"4a8e1a2e-eaa4-4e1f-8ea5-9c4aae36f17e\", \"gender\": \"Female\", \"age\": 6, \"department\": \"Emergency\", \"admission_time\": \"2025-09-21T17:25:20.305593\", \"discharge_time\": \"2025-09-24T09:25:20.305593\", \"bed_id\": 391, \"hospital_id\": 5}</td></tr><tr><td>{\"patient_id\": \"ee580a25-d9bd-4615-968f-f1edb8d6b970\", \"gender\": \"Male\", \"age\": 68, \"department\": \"Oncology\", \"admission_time\": \"2025-09-22T20:25:21.306525\", \"discharge_time\": \"2025-09-23T22:25:21.306525\", \"bed_id\": 429, \"hospital_id\": 7}</td></tr><tr><td>{\"patient_id\": \"4490eea4-8927-48ea-9855-fff45ec1c2bc\", \"gender\": \"Female\", \"age\": 91, \"department\": \"Emergency\", \"admission_time\": \"2025-09-21T16:25:22.306985\", \"discharge_time\": \"2025-09-21T19:25:22.306985\", \"bed_id\": 351, \"hospital_id\": 4}</td></tr><tr><td>{\"patient_id\": \"974a35fd-97bb-476c-8117-0990ee1b8b27\", \"gender\": \"Male\", \"age\": 30, \"department\": \"Pediatrics\", \"admission_time\": \"2025-09-22T02:25:23.307413\", \"discharge_time\": \"2025-09-23T19:25:23.307413\", \"bed_id\": 75, \"hospital_id\": 1}</td></tr><tr><td>{\"patient_id\": \"30572a3e-ff8e-4aa9-a6dc-35295c52a554\", \"gender\": \"Male\", \"age\": 41, \"department\": \"Maternity\", \"admission_time\": \"2025-09-22T14:25:24.307890\", \"discharge_time\": \"2025-09-25T08:25:24.307890\", \"bed_id\": 63, \"hospital_id\": 7}</td></tr><tr><td>{\"patient_id\": \"85a3311c-014c-48fd-829a-346dadb8cfe0\", \"gender\": \"Female\", \"age\": 44, \"department\": \"Oncology\", \"admission_time\": \"2025-09-23T12:25:25.308941\", \"discharge_time\": \"2025-09-24T02:25:25.308871\", \"bed_id\": 397, \"hospital_id\": 6}</td></tr><tr><td>{\"patient_id\": \"bf216871-150d-495b-96e0-1e62de110afd\", \"gender\": \"Male\", \"age\": 87, \"department\": \"Maternity\", \"admission_time\": \"2025-09-24T17:25:26.309377\", \"discharge_time\": \"2025-09-22T17:25:26.309307\", \"bed_id\": 107, \"hospital_id\": 7}</td></tr><tr><td>{\"patient_id\": \"ded430c3-f4bc-4602-b0ba-97370ff1926e\", \"gender\": \"Male\", \"age\": 30, \"department\": \"Pediatrics\", \"admission_time\": \"2025-09-22T13:25:27.310246\", \"discharge_time\": \"2025-09-23T01:25:27.310246\", \"bed_id\": 442, \"hospital_id\": 1}</td></tr><tr><td>{\"patient_id\": \"a80db7e2-07bb-41a6-81fd-1c9eb1e9b620\", \"gender\": \"Male\", \"age\": 56, \"department\": \"Emergency\", \"admission_time\": \"2025-09-25T14:25:28.310787\", \"discharge_time\": \"2025-09-22T20:25:28.310717\", \"bed_id\": 63, \"hospital_id\": 7}</td></tr><tr><td>{\"patient_id\": \"984e31d7-a3fb-4057-aae8-abb0af1eed4c\", \"gender\": \"Male\", \"age\": 98, \"department\": \"Maternity\", \"admission_time\": \"2025-09-20T23:25:55.329592\", \"discharge_time\": \"2025-09-21T20:25:55.329592\", \"bed_id\": 299, \"hospital_id\": 7}</td></tr><tr><td>{\"patient_id\": \"cedfe68e-c83a-429a-955a-812651388b3b\", \"gender\": \"Male\", \"age\": 86, \"department\": \"Pediatrics\", \"admission_time\": \"2025-09-21T13:25:56.330041\", \"discharge_time\": \"2025-09-22T07:25:56.330041\", \"bed_id\": 277, \"hospital_id\": 2}</td></tr><tr><td>{\"patient_id\": \"a38814ba-2cd6-4cd9-90a2-5b58681519ea\", \"gender\": \"Female\", \"age\": 81, \"department\": \"Oncology\", \"admission_time\": \"2025-09-20T14:25:57.330989\", \"discharge_time\": \"2025-09-20T17:25:57.330989\", \"bed_id\": 85, \"hospital_id\": 1}</td></tr><tr><td>{\"patient_id\": \"0c12741f-5efe-46d4-9aad-72f5021e97e0\", \"gender\": \"Male\", \"age\": 42, \"department\": \"Cardiology\", \"admission_time\": \"2025-09-22T13:25:58.331412\", \"discharge_time\": \"2025-09-22T15:25:58.331412\", \"bed_id\": 160, \"hospital_id\": 2}</td></tr><tr><td>{\"patient_id\": \"349a48dd-5377-4a3e-97e8-6846dc2b71e9\", \"gender\": \"Female\", \"age\": 68, \"department\": \"Emergency\", \"admission_time\": \"2025-09-21T21:25:59.332395\", \"discharge_time\": \"2025-09-22T01:25:59.332395\", \"bed_id\": 213, \"hospital_id\": 2}</td></tr><tr><td>{\"patient_id\": \"bf1ce393-e8a8-44ca-a9ff-318466c400cb\", \"gender\": \"Female\", \"age\": 47, \"department\": \"Cardiology\", \"admission_time\": \"2025-09-20T20:26:00.333624\", \"discharge_time\": \"2025-09-22T17:26:00.333624\", \"bed_id\": 74, \"hospital_id\": 4}</td></tr><tr><td>{\"patient_id\": \"71b6d971-489d-48da-8eee-8639eca2a9f7\", \"gender\": \"Male\", \"age\": 99, \"department\": \"Oncology\", \"admission_time\": \"2025-09-22T17:26:01.334409\", \"discharge_time\": \"2025-09-24T00:26:01.334409\", \"bed_id\": 260, \"hospital_id\": 4}</td></tr><tr><td>{\"patient_id\": \"a981f21c-6b8e-4040-aa4c-58c951977a6c\", \"gender\": \"Male\", \"age\": 3, \"department\": \"Maternity\", \"admission_time\": \"2025-09-21T19:26:02.335605\", \"discharge_time\": \"2025-09-23T02:26:02.335605\", \"bed_id\": 188, \"hospital_id\": 6}</td></tr><tr><td>{\"patient_id\": \"e6c5e6ef-5650-4351-a7e7-c21266d77b51\", \"gender\": \"Male\", \"age\": 13, \"department\": \"Oncology\", \"admission_time\": \"2025-09-21T16:26:03.336362\", \"discharge_time\": \"2025-09-22T14:26:03.336362\", \"bed_id\": 175, \"hospital_id\": 4}</td></tr><tr><td>{\"patient_id\": \"0c515e7a-e7fc-4c4e-a421-969f3e3b003f\", \"gender\": \"Male\", \"age\": 56, \"department\": \"ICU\", \"admission_time\": \"2025-09-23T08:26:04.336838\", \"discharge_time\": \"2025-09-23T12:26:04.336838\", \"bed_id\": 441, \"hospital_id\": 2}</td></tr><tr><td>{\"patient_id\": \"1b4a2b97-f6e0-42e3-8e7d-456336920139\", \"gender\": \"Male\", \"age\": 100, \"department\": \"Cardiology\", \"admission_time\": \"2025-09-23T05:26:05.337259\", \"discharge_time\": \"2025-09-25T00:26:05.337259\", \"bed_id\": 23, \"hospital_id\": 5}</td></tr><tr><td>{\"patient_id\": \"0d239eae-51f8-4819-ac77-cf2d22de154e\", \"gender\": \"Female\", \"age\": 67, \"department\": \"Emergency\", \"admission_time\": \"2025-09-21T16:26:06.338215\", \"discharge_time\": \"2025-09-24T11:26:06.338215\", \"bed_id\": 339, \"hospital_id\": 7}</td></tr><tr><td>{\"patient_id\": \"6381bf1e-9383-4f20-b6a5-2e2215604e23\", \"gender\": \"Female\", \"age\": 36, \"department\": \"Cardiology\", \"admission_time\": \"2025-09-21T13:26:07.338640\", \"discharge_time\": \"2025-09-22T07:26:07.338640\", \"bed_id\": 146, \"hospital_id\": 7}</td></tr><tr><td>{\"patient_id\": \"5ca0ebc6-0ab6-435d-91d3-9c939e2dfb9f\", \"gender\": \"Male\", \"age\": 13, \"department\": \"Cardiology\", \"admission_time\": \"2025-09-22T15:26:08.339078\", \"discharge_time\": \"2025-09-24T07:26:08.339078\", \"bed_id\": 207, \"hospital_id\": 5}</td></tr><tr><td>{\"patient_id\": \"edf0f166-6d42-447d-89dd-2f8f1277c55c\", \"gender\": \"Female\", \"age\": 22, \"department\": \"Emergency\", \"admission_time\": \"2025-09-21T22:52:09.836955\", \"discharge_time\": \"2025-09-23T17:52:09.836955\", \"bed_id\": 406, \"hospital_id\": 5}</td></tr><tr><td>{\"patient_id\": \"edf0f166-6d42-447d-89dd-2f8f1277c55c\", \"gender\": \"Female\", \"age\": 22, \"department\": \"Emergency\", \"admission_time\": \"2025-09-21T22:52:09.836955\", \"discharge_time\": \"2025-09-23T17:52:09.836955\", \"bed_id\": 406, \"hospital_id\": 5}</td></tr><tr><td>{\"patient_id\": \"edf0f166-6d42-447d-89dd-2f8f1277c55c\", \"gender\": \"Female\", \"age\": 22, \"department\": \"Emergency\", \"admission_time\": \"2025-09-21T22:52:09.836955\", \"discharge_time\": \"2025-09-23T17:52:09.836955\", \"bed_id\": 406, \"hospital_id\": 5}</td></tr><tr><td>{\"patient_id\": \"edf0f166-6d42-447d-89dd-2f8f1277c55c\", \"gender\": \"Female\", \"age\": 22, \"department\": \"Emergency\", \"admission_time\": \"2025-09-21T22:52:09.836955\", \"discharge_time\": \"2025-09-23T17:52:09.836955\", \"bed_id\": 406, \"hospital_id\": 5}</td></tr><tr><td>{\"patient_id\": \"edf0f166-6d42-447d-89dd-2f8f1277c55c\", \"gender\": \"Female\", \"age\": 22, \"department\": \"Emergency\", \"admission_time\": \"2025-09-21T22:52:09.836955\", \"discharge_time\": \"2025-09-23T17:52:09.836955\", \"bed_id\": 406, \"hospital_id\": 5}</td></tr><tr><td>{\"patient_id\": \"4ea3bc47-d7d4-43e1-96ed-3111a373541a\", \"gender\": \"Female\", \"age\": 86, \"department\": \"Oncology\", \"admission_time\": \"2025-09-22T03:58:14.077268\", \"discharge_time\": \"2025-09-24T21:58:14.077268\", \"bed_id\": 361, \"hospital_id\": 1}</td></tr><tr><td>{\"patient_id\": \"da11ec7a-4f7d-44b8-984d-4cdd2defc385\", \"gender\": \"Female\", \"age\": 113, \"department\": \"Cardiology\", \"admission_time\": \"2025-09-20T18:00:16.154970\", \"discharge_time\": \"2025-09-21T13:00:16.154970\", \"bed_id\": 154, \"hospital_id\": 3}</td></tr><tr><td>{\"patient_id\": \"a685b0fa-e4ca-454e-9c5c-c317944024a9\", \"gender\": \"Female\", \"age\": 68, \"department\": \"Pediatrics\", \"admission_time\": \"2025-09-24T09:08:46.494041\", \"discharge_time\": \"2025-09-23T11:08:46.493967\", \"bed_id\": 299, \"hospital_id\": 4}</td></tr><tr><td>{\"patient_id\": \"d023dfac-f7c4-4b1b-8379-03f252741adb\", \"gender\": \"Female\", \"age\": 61, \"department\": \"Emergency\", \"admission_time\": \"2025-09-24T18:00:35.166056\", \"discharge_time\": \"2025-09-22T21:00:35.165978\", \"bed_id\": 105, \"hospital_id\": 4}</td></tr><tr><td>{\"patient_id\": \"06d4204b-568d-43bc-9c65-03408e734457\", \"gender\": \"Female\", \"age\": 100, \"department\": \"Pediatrics\", \"admission_time\": \"2025-09-20T07:03:56.301354\", \"discharge_time\": \"2025-09-22T10:03:56.301354\", \"bed_id\": 155, \"hospital_id\": 5}</td></tr><tr><td>{\"patient_id\": \"396b17ce-1129-4115-b8f7-c1be5248b51a\", \"gender\": \"Female\", \"age\": 58, \"department\": \"Pediatrics\", \"admission_time\": \"2025-09-20T14:04:09.310741\", \"discharge_time\": \"2025-09-21T12:04:09.310741\", \"bed_id\": 136, \"hospital_id\": 7}</td></tr><tr><td>{\"patient_id\": \"18788b5b-e9a6-4b02-91d3-4c5a34608749\", \"gender\": \"Male\", \"age\": 64, \"department\": \"Cardiology\", \"admission_time\": \"2025-09-22T00:02:01.222452\", \"discharge_time\": \"2025-09-24T06:02:01.222452\", \"bed_id\": 437, \"hospital_id\": 4}</td></tr><tr><td>{\"patient_id\": \"22e9400f-d88a-49a5-bdb7-90b5b3452833\", \"gender\": \"Female\", \"age\": 22, \"department\": \"Pediatrics\", \"admission_time\": \"2025-09-25T06:01:47.212889\", \"discharge_time\": \"2025-09-23T12:01:47.212815\", \"bed_id\": 390, \"hospital_id\": 2}</td></tr><tr><td>{\"patient_id\": \"07f87482-c12f-4ed3-a9f9-f4394460387d\", \"gender\": \"Male\", \"age\": 60, \"department\": \"Cardiology\", \"admission_time\": \"2025-09-23T10:02:57.261389\", \"discharge_time\": \"2025-09-24T03:02:57.261315\", \"bed_id\": 284, \"hospital_id\": 4}</td></tr><tr><td>{\"patient_id\": \"60f7cab7-c941-4092-aaeb-ccd91dd8b18f\", \"gender\": \"Female\", \"age\": 70, \"department\": \"Cardiology\", \"admission_time\": \"2025-09-24T20:59:42.134277\", \"discharge_time\": \"2025-09-23T21:59:42.134209\", \"bed_id\": 153, \"hospital_id\": 3}</td></tr><tr><td>{\"patient_id\": \"2e088773-ec58-42f3-bb80-31a3585bb0aa\", \"gender\": \"Female\", \"age\": 146, \"department\": \"Maternity\", \"admission_time\": \"2025-09-25T09:06:46.417325\", \"discharge_time\": \"2025-09-24T08:06:46.417252\", \"bed_id\": 400, \"hospital_id\": 3}</td></tr><tr><td>{\"patient_id\": \"cab2d253-7ff7-4444-8eca-5664718df858\", \"gender\": \"Female\", \"age\": 27, \"department\": \"Emergency\", \"admission_time\": \"2025-09-25T18:09:00.501740\", \"discharge_time\": \"2025-09-23T01:09:00.501669\", \"bed_id\": 357, \"hospital_id\": 5}</td></tr><tr><td>{\"patient_id\": \"7ea5ce0d-597c-45fb-8ccb-cdc966a59517\", \"gender\": \"Female\", \"age\": 97, \"department\": \"Maternity\", \"admission_time\": \"2025-09-21T15:01:55.217856\", \"discharge_time\": \"2025-09-24T07:01:55.217856\", \"bed_id\": 179, \"hospital_id\": 4}</td></tr><tr><td>{\"patient_id\": \"b98b665d-e533-48c6-ba93-4ab01a67061f\", \"gender\": \"Female\", \"age\": 13, \"department\": \"Cardiology\", \"admission_time\": \"2025-09-25T12:01:56.218376\", \"discharge_time\": \"2025-09-23T01:01:56.218308\", \"bed_id\": 227, \"hospital_id\": 7}</td></tr><tr><td>{\"patient_id\": \"246743ec-5f67-4d92-8e73-2b0d278f4e32\", \"gender\": \"Female\", \"age\": 73, \"department\": \"Emergency\", \"admission_time\": \"2025-09-21T14:06:02.384671\", \"discharge_time\": \"2025-09-24T03:06:02.384671\", \"bed_id\": 409, \"hospital_id\": 1}</td></tr><tr><td>{\"patient_id\": \"0267d11a-22d3-42e5-9355-01023c63d169\", \"gender\": \"Female\", \"age\": 22, \"department\": \"Emergency\", \"admission_time\": \"2025-09-23T04:01:11.187045\", \"discharge_time\": \"2025-09-25T07:01:11.187045\", \"bed_id\": 221, \"hospital_id\": 1}</td></tr><tr><td>{\"patient_id\": \"ac7f8b60-16ff-4082-968e-414e24f220a0\", \"gender\": \"Female\", \"age\": 14, \"department\": \"Cardiology\", \"admission_time\": \"2025-09-22T19:06:07.387341\", \"discharge_time\": \"2025-09-25T11:06:07.387341\", \"bed_id\": 100, \"hospital_id\": 7}</td></tr><tr><td>{\"patient_id\": \"57896564-0ac8-4a03-b1ab-649c13b117ec\", \"gender\": \"Female\", \"age\": 48, \"department\": \"Pediatrics\", \"admission_time\": \"2025-09-21T12:56:21.003518\", \"discharge_time\": \"2025-09-22T10:56:21.003518\", \"bed_id\": 404, \"hospital_id\": 1}</td></tr><tr><td>{\"patient_id\": \"ca78279a-1bb1-4fad-b81e-3cf7addc27f9\", \"gender\": \"Female\", \"age\": 31, \"department\": \"Cardiology\", \"admission_time\": \"2025-09-22T21:04:47.337583\", \"discharge_time\": \"2025-09-23T02:04:47.337583\", \"bed_id\": 123, \"hospital_id\": 5}</td></tr><tr><td>{\"patient_id\": \"a3ed504a-95cc-4afc-831b-d8471c1937df\", \"gender\": \"Female\", \"age\": 100, \"department\": \"Oncology\", \"admission_time\": \"2025-09-23T14:00:40.169223\", \"discharge_time\": \"2025-09-23T00:00:40.169149\", \"bed_id\": 235, \"hospital_id\": 6}</td></tr><tr><td>{\"patient_id\": \"19bbb418-b6d8-471f-84e7-668dcb75b4b8\", \"gender\": \"Female\", \"age\": 50, \"department\": \"Pediatrics\", \"admission_time\": \"2025-09-20T23:04:00.304612\", \"discharge_time\": \"2025-09-21T06:04:00.304612\", \"bed_id\": 421, \"hospital_id\": 4}</td></tr><tr><td>{\"patient_id\": \"9e219929-bcfc-4d40-86f2-4c0f17fcbfcc\", \"gender\": \"Female\", \"age\": 23, \"department\": \"Pediatrics\", \"admission_time\": \"2025-09-22T22:09:18.515730\", \"discharge_time\": \"2025-09-25T00:09:18.515730\", \"bed_id\": 409, \"hospital_id\": 1}</td></tr><tr><td>{\"patient_id\": \"8ee9a78e-d486-46b1-91ba-72a5d6dced7f\", \"gender\": \"Female\", \"age\": 85, \"department\": \"Pediatrics\", \"admission_time\": \"2025-09-22T17:04:15.316382\", \"discharge_time\": \"2025-09-23T06:04:15.316382\", \"bed_id\": 257, \"hospital_id\": 7}</td></tr><tr><td>{\"patient_id\": \"f1bedbee-ada5-40b1-9ee7-80564acea33f\", \"gender\": \"Female\", \"age\": 67, \"department\": \"Surgery\", \"admission_time\": \"2025-09-25T09:25:44.323352\", \"discharge_time\": \"2025-09-22T03:25:44.323270\", \"bed_id\": 390, \"hospital_id\": 3}</td></tr><tr><td>{\"patient_id\": \"71aa8d4f-db08-4838-945e-7e32713e8b8a\", \"gender\": \"Female\", \"age\": 90, \"department\": \"Pediatrics\", \"admission_time\": \"2025-09-22T09:09:32.523287\", \"discharge_time\": \"2025-09-23T17:09:32.523287\", \"bed_id\": 496, \"hospital_id\": 5}</td></tr><tr><td>{\"patient_id\": \"debb9cdd-da64-4912-a6d1-e13dc6633855\", \"gender\": \"Female\", \"age\": 18, \"department\": \"Cardiology\", \"admission_time\": \"2025-09-21T06:01:31.201409\", \"discharge_time\": \"2025-09-23T07:01:31.201409\", \"bed_id\": 416, \"hospital_id\": 5}</td></tr><tr><td>{\"patient_id\": \"0e293343-5863-4166-9cd8-24868ec966d0\", \"gender\": \"Female\", \"age\": 89, \"department\": \"Emergency\", \"admission_time\": \"2025-09-25T02:08:01.468113\", \"discharge_time\": \"2025-09-23T13:08:01.468039\", \"bed_id\": 489, \"hospital_id\": 5}</td></tr><tr><td>{\"patient_id\": \"0c1aebc7-5df1-4c35-a111-59e21e971838\", \"gender\": \"Female\", \"age\": 148, \"department\": \"Pediatrics\", \"admission_time\": \"2025-09-20T23:00:56.178918\", \"discharge_time\": \"2025-09-22T12:00:56.178918\", \"bed_id\": 426, \"hospital_id\": 4}</td></tr><tr><td>{\"patient_id\": \"c1e1d441-8d01-45fd-9202-800007d12e44\", \"gender\": \"Female\", \"age\": 71, \"department\": \"Pediatrics\", \"admission_time\": \"2025-09-22T07:55:35.976015\", \"discharge_time\": \"2025-09-23T00:55:35.976015\", \"bed_id\": 484, \"hospital_id\": 6}</td></tr><tr><td>{\"patient_id\": \"6a9d83d3-8cad-4b0d-bb93-0d17f94b83a3\", \"gender\": \"Female\", \"age\": 63, \"department\": \"Cardiology\", \"admission_time\": \"2025-09-22T21:59:24.123511\", \"discharge_time\": \"2025-09-24T16:59:24.123511\", \"bed_id\": 227, \"hospital_id\": 5}</td></tr><tr><td>{\"patient_id\": \"4ce90f3c-aec3-48bd-abef-1e01799c8c7b\", \"gender\": \"Female\", \"age\": 47, \"department\": \"Pediatrics\", \"admission_time\": \"2025-09-20T23:59:54.142297\", \"discharge_time\": \"2025-09-23T10:59:54.142297\", \"bed_id\": 404, \"hospital_id\": 3}</td></tr><tr><td>{\"patient_id\": \"46b14caf-d3c8-41b8-9dc7-0d45b45bdb7a\", \"gender\": \"Female\", \"age\": 15, \"department\": \"Cardiology\", \"admission_time\": \"2025-09-20T10:58:53.101627\", \"discharge_time\": \"2025-09-21T00:58:53.101627\", \"bed_id\": 295, \"hospital_id\": 2}</td></tr><tr><td>{\"patient_id\": \"4388abb1-2f41-4557-b8cc-6244441c9681\", \"gender\": \"Female\", \"age\": 57, \"department\": \"Pediatrics\", \"admission_time\": \"2025-09-21T13:54:17.920069\", \"discharge_time\": \"2025-09-24T04:54:17.920069\", \"bed_id\": 309, \"hospital_id\": 6}</td></tr><tr><td>{\"patient_id\": \"554d66a8-25b6-4e7c-a431-18a6480af8b6\", \"gender\": \"Female\", \"age\": 16, \"department\": \"Cardiology\", \"admission_time\": \"2025-09-22T16:55:17.962603\", \"discharge_time\": \"2025-09-25T05:55:17.962603\", \"bed_id\": 310, \"hospital_id\": 5}</td></tr><tr><td>{\"patient_id\": \"803117db-5203-4716-ad06-e0fe0b8468ba\", \"gender\": \"Female\", \"age\": 36, \"department\": \"Oncology\", \"admission_time\": \"2025-09-25T20:05:01.345861\", \"discharge_time\": \"2025-09-24T04:05:01.345783\", \"bed_id\": 377, \"hospital_id\": 1}</td></tr><tr><td>{\"patient_id\": \"1b303348-6c67-44c2-a383-a1e3f0ff0be7\", \"gender\": \"Female\", \"age\": 61, \"department\": \"Cardiology\", \"admission_time\": \"2025-09-21T03:00:52.176959\", \"discharge_time\": \"2025-09-23T19:00:52.176959\", \"bed_id\": 393, \"hospital_id\": 1}</td></tr><tr><td>{\"patient_id\": \"1f6e9867-c4d4-4652-95a3-a6c2beda7327\", \"gender\": \"Female\", \"age\": 69, \"department\": \"Cardiology\", \"admission_time\": \"2025-09-21T12:03:44.291952\", \"discharge_time\": \"2025-09-22T06:03:44.291952\", \"bed_id\": 452, \"hospital_id\": 2}</td></tr><tr><td>{\"patient_id\": \"e40fd0f7-73de-4c29-ac7c-cc9307265ae3\", \"gender\": \"Female\", \"age\": 130, \"department\": \"Pediatrics\", \"admission_time\": \"2025-09-23T07:01:52.215622\", \"discharge_time\": \"2025-09-23T17:01:52.215622\", \"bed_id\": 359, \"hospital_id\": 6}</td></tr><tr><td>{\"patient_id\": \"dcdc4afa-cd76-4b03-a92d-8008d8f982c0\", \"gender\": \"Male\", \"age\": 51, \"department\": \"Cardiology\", \"admission_time\": \"2025-09-25T23:07:37.452702\", \"discharge_time\": \"2025-09-21T06:07:37.452632\", \"bed_id\": 127, \"hospital_id\": 6}</td></tr><tr><td>{\"patient_id\": \"16012ccc-580b-4651-9a06-148698211075\", \"gender\": \"Male\", \"age\": 80, \"department\": \"Cardiology\", \"admission_time\": \"2025-09-24T09:55:11.959275\", \"discharge_time\": \"2025-09-22T00:55:11.959188\", \"bed_id\": 131, \"hospital_id\": 4}</td></tr><tr><td>{\"patient_id\": \"aedc0f9b-3486-4d2a-998f-e2f79bcc3c6c\", \"gender\": \"Female\", \"age\": 89, \"department\": \"Pediatrics\", \"admission_time\": \"2025-09-20T20:54:52.944649\", \"discharge_time\": \"2025-09-22T22:54:52.944649\", \"bed_id\": 151, \"hospital_id\": 1}</td></tr><tr><td>{\"patient_id\": \"ac877f16-b4f6-4c0e-8017-8dcab16b4a50\", \"gender\": \"Female\", \"age\": 77, \"department\": \"Cardiology\", \"admission_time\": \"2025-09-20T16:09:01.502120\", \"discharge_time\": \"2025-09-23T12:09:01.502120\", \"bed_id\": 453, \"hospital_id\": 7}</td></tr><tr><td>{\"patient_id\": \"11bdb318-8ffb-4f9d-8763-2c69474a86a7\", \"gender\": \"Female\", \"age\": 53, \"department\": \"Oncology\", \"admission_time\": \"2025-09-21T06:53:28.887362\", \"discharge_time\": \"2025-09-22T19:53:28.887362\", \"bed_id\": 136, \"hospital_id\": 7}</td></tr><tr><td>{\"patient_id\": \"ee7eca74-6cea-451a-bc4a-f89bbf3da48c\", \"gender\": \"Female\", \"age\": 41, \"department\": \"Pediatrics\", \"admission_time\": \"2025-09-25T21:05:00.345405\", \"discharge_time\": \"2025-09-23T14:05:00.345334\", \"bed_id\": 55, \"hospital_id\": 5}</td></tr><tr><td>{\"patient_id\": \"e8106db6-9279-4407-b7b2-be3c77b7c7d7\", \"gender\": \"Female\", \"age\": 10, \"department\": \"Pediatrics\", \"admission_time\": \"2025-09-20T09:07:15.434616\", \"discharge_time\": \"2025-09-22T18:07:15.434616\", \"bed_id\": 216, \"hospital_id\": 3}</td></tr><tr><td>{\"patient_id\": \"b9577b2c-f359-4d04-9c6c-df007489381e\", \"gender\": \"Female\", \"age\": 49, \"department\": \"Cardiology\", \"admission_time\": \"2025-09-23T01:57:50.061389\", \"discharge_time\": \"2025-09-25T18:57:50.061389\", \"bed_id\": 181, \"hospital_id\": 1}</td></tr><tr><td>{\"patient_id\": \"b6fe2fb2-166c-4042-8087-041595b1d2ba\", \"gender\": \"Female\", \"age\": 60, \"department\": \"Pediatrics\", \"admission_time\": \"2025-09-23T02:10:34.568474\", \"discharge_time\": \"2025-09-24T05:10:34.568474\", \"bed_id\": 463, \"hospital_id\": 1}</td></tr><tr><td>{\"patient_id\": \"39afc638-34fb-4d38-b454-49f1b6fe3ad2\", \"gender\": \"Female\", \"age\": 24, \"department\": \"Pediatrics\", \"admission_time\": \"2025-09-21T19:53:26.886058\", \"discharge_time\": \"2025-09-23T23:53:26.886058\", \"bed_id\": 375, \"hospital_id\": 5}</td></tr><tr><td>{\"patient_id\": \"dc0a9e1d-a239-4410-b62d-21c351b923b7\", \"gender\": \"Female\", \"age\": 148, \"department\": \"Pediatrics\", \"admission_time\": \"2025-09-21T06:59:19.119903\", \"discharge_time\": \"2025-09-22T21:59:19.119903\", \"bed_id\": 66, \"hospital_id\": 4}</td></tr><tr><td>{\"patient_id\": \"752d3191-21ab-42f1-be19-599550bb7f83\", \"gender\": \"Male\", \"age\": 63, \"department\": \"Pediatrics\", \"admission_time\": \"2025-09-26T04:58:48.098833\", \"discharge_time\": \"2025-09-25T15:58:48.098756\", \"bed_id\": 354, \"hospital_id\": 1}</td></tr><tr><td>{\"patient_id\": \"561fd35e-f60d-4948-ba46-be874fb653ad\", \"gender\": \"Female\", \"age\": 55, \"department\": \"Pediatrics\", \"admission_time\": \"2025-09-23T04:09:19.516171\", \"discharge_time\": \"2025-09-25T07:09:19.516171\", \"bed_id\": 420, \"hospital_id\": 5}</td></tr><tr><td>{\"patient_id\": \"037f3a5d-b7b1-499e-9536-50c3c995304e\", \"gender\": \"Female\", \"age\": 97, \"department\": \"Pediatrics\", \"admission_time\": \"2025-09-21T21:59:05.110310\", \"discharge_time\": \"2025-09-24T00:59:05.110310\", \"bed_id\": 277, \"hospital_id\": 5}</td></tr><tr><td>{\"patient_id\": \"b5fb265c-8b88-44d3-8bc6-d1da59982a22\", \"gender\": \"Female\", \"age\": 35, \"department\": \"Pediatrics\", \"admission_time\": \"2025-09-23T02:53:53.903079\", \"discharge_time\": \"2025-09-24T23:53:53.903079\", \"bed_id\": 167, \"hospital_id\": 5}</td></tr><tr><td>{\"patient_id\": \"a00599a6-46c3-4375-9807-8cbe207dd1a2\", \"gender\": \"Female\", \"age\": 66, \"department\": \"Pediatrics\", \"admission_time\": \"2025-09-21T02:05:48.374013\", \"discharge_time\": \"2025-09-23T13:05:48.374013\", \"bed_id\": 393, \"hospital_id\": 7}</td></tr><tr><td>{\"patient_id\": \"0a48702b-688f-4d6b-9fa3-d4f71c1586d7\", \"gender\": \"Male\", \"age\": 58, \"department\": \"Pediatrics\", \"admission_time\": \"2025-09-24T23:55:07.956007\", \"discharge_time\": \"2025-09-25T23:55:07.955927\", \"bed_id\": 379, \"hospital_id\": 3}</td></tr><tr><td>{\"patient_id\": \"2a97d1db-9c83-4e92-b5bc-9a16c2911177\", \"gender\": \"Female\", \"age\": 88, \"department\": \"Cardiology\", \"admission_time\": \"2025-09-21T16:53:47.899868\", \"discharge_time\": \"2025-09-22T19:53:47.899868\", \"bed_id\": 292, \"hospital_id\": 3}</td></tr><tr><td>{\"patient_id\": \"86b3c931-3966-43d6-a7de-c3a0f1aea38f\", \"gender\": \"Female\", \"age\": 43, \"department\": \"Pediatrics\", \"admission_time\": \"2025-09-21T19:06:32.406655\", \"discharge_time\": \"2025-09-23T16:06:32.406655\", \"bed_id\": 423, \"hospital_id\": 3}</td></tr><tr><td>{\"patient_id\": \"7e6dd638-915b-4477-b932-96675de1d100\", \"gender\": \"Female\", \"age\": 39, \"department\": \"Maternity\", \"admission_time\": \"2025-09-21T22:03:22.278460\", \"discharge_time\": \"2025-09-23T16:03:22.278460\", \"bed_id\": 111, \"hospital_id\": 5}</td></tr><tr><td>{\"patient_id\": \"088940c5-8d97-4162-a712-9717c79c5a89\", \"gender\": \"Female\", \"age\": 45, \"department\": \"Cardiology\", \"admission_time\": \"2025-09-20T10:10:40.571491\", \"discharge_time\": \"2025-09-21T07:10:40.571491\", \"bed_id\": 343, \"hospital_id\": 4}</td></tr><tr><td>{\"patient_id\": \"3d3e4067-e81c-40a0-b395-8273387f54c2\", \"gender\": \"Female\", \"age\": 62, \"department\": \"Pediatrics\", \"admission_time\": \"2025-09-20T12:07:21.439841\", \"discharge_time\": \"2025-09-23T11:07:21.439841\", \"bed_id\": 471, \"hospital_id\": 7}</td></tr><tr><td>{\"patient_id\": \"ba1492c1-18ac-4ed9-89a3-68c51635a333\", \"gender\": \"Female\", \"age\": 75, \"department\": \"Oncology\", \"admission_time\": \"2025-09-22T20:55:00.949444\", \"discharge_time\": \"2025-09-23T11:55:00.949444\", \"bed_id\": 423, \"hospital_id\": 6}</td></tr><tr><td>{\"patient_id\": \"e567d857-6c13-4bb3-b89b-6acb67f0da5e\", \"gender\": \"Female\", \"age\": 125, \"department\": \"Pediatrics\", \"admission_time\": \"2025-09-20T15:02:47.253965\", \"discharge_time\": \"2025-09-22T10:02:47.253965\", \"bed_id\": 16, \"hospital_id\": 5}</td></tr><tr><td>{\"patient_id\": \"a975ad85-415e-4709-b0e6-8c18a955821b\", \"gender\": \"Female\", \"age\": 69, \"department\": \"Cardiology\", \"admission_time\": \"2025-09-21T09:02:48.254423\", \"discharge_time\": \"2025-09-23T03:02:48.254423\", \"bed_id\": 492, \"hospital_id\": 5}</td></tr><tr><td>{\"patient_id\": \"436b45af-e04b-4f64-a89d-6ce95ef9cbed\", \"gender\": \"Female\", \"age\": 77, \"department\": \"Pediatrics\", \"admission_time\": \"2025-09-21T20:06:38.410597\", \"discharge_time\": \"2025-09-24T09:06:38.410597\", \"bed_id\": 145, \"hospital_id\": 7}</td></tr><tr><td>{\"patient_id\": \"9e137561-a155-4a80-a869-f986f7403b95\", \"gender\": \"Female\", \"age\": 34, \"department\": \"Cardiology\", \"admission_time\": \"2025-09-20T21:01:02.182396\", \"discharge_time\": \"2025-09-22T00:01:02.182396\", \"bed_id\": 334, \"hospital_id\": 5}</td></tr><tr><td>{\"patient_id\": \"dfd26c42-2e14-4413-8c6e-4730adf68153\", \"gender\": \"Female\", \"age\": 46, \"department\": \"Pediatrics\", \"admission_time\": \"2025-09-20T17:57:08.035881\", \"discharge_time\": \"2025-09-23T12:57:08.035881\", \"bed_id\": 463, \"hospital_id\": 6}</td></tr><tr><td>{\"patient_id\": \"c9ab7343-718e-4921-bfa3-8fcc957f10c8\", \"gender\": \"Female\", \"age\": 46, \"department\": \"Cardiology\", \"admission_time\": \"2025-09-22T22:01:32.202346\", \"discharge_time\": \"2025-09-25T17:01:32.202346\", \"bed_id\": 343, \"hospital_id\": 6}</td></tr><tr><td>{\"patient_id\": \"b002d94a-108c-4d4a-ac22-a33073ff9ead\", \"gender\": \"Female\", \"age\": 48, \"department\": \"Pediatrics\", \"admission_time\": \"2025-09-20T08:57:52.062329\", \"discharge_time\": \"2025-09-22T19:57:52.062329\", \"bed_id\": 284, \"hospital_id\": 1}</td></tr><tr><td>{\"patient_id\": \"03c51c58-b04b-4f0f-91fc-e97c64fff92e\", \"gender\": \"Female\", \"age\": 22, \"department\": \"Cardiology\", \"admission_time\": \"2025-09-21T16:00:48.173735\", \"discharge_time\": \"2025-09-23T14:00:48.173735\", \"bed_id\": 283, \"hospital_id\": 3}</td></tr><tr><td>{\"patient_id\": \"e3966f0a-7c1b-4059-934f-876912c51fdb\", \"gender\": \"Female\", \"age\": 67, \"department\": \"Pediatrics\", \"admission_time\": \"2025-09-20T12:54:29.928226\", \"discharge_time\": \"2025-09-22T21:54:29.928226\", \"bed_id\": 245, \"hospital_id\": 5}</td></tr><tr><td>{\"patient_id\": \"90c181f6-d110-4a8d-9838-924ce5a1df68\", \"gender\": \"Female\", \"age\": 24, \"department\": \"Emergency\", \"admission_time\": \"2025-09-25T20:06:21.399262\", \"discharge_time\": \"2025-09-24T13:06:21.399182\", \"bed_id\": 64, \"hospital_id\": 4}</td></tr><tr><td>{\"patient_id\": \"f3e51ebc-ed39-4f3b-8081-744c0561cb2a\", \"gender\": \"Female\", \"age\": 71, \"department\": \"Emergency\", \"admission_time\": \"2025-09-22T02:57:07.035057\", \"discharge_time\": \"2025-09-24T18:57:07.035057\", \"bed_id\": 483, \"hospital_id\": 2}</td></tr><tr><td>{\"patient_id\": \"18cd1d59-f5f3-486c-92ba-4a9cd037315d\", \"gender\": \"Female\", \"age\": 62, \"department\": \"Pediatrics\", \"admission_time\": \"2025-09-22T22:06:20.398393\", \"discharge_time\": \"2025-09-24T21:06:20.398393\", \"bed_id\": 149, \"hospital_id\": 6}</td></tr><tr><td>{\"patient_id\": \"b19014f1-2435-4307-ba89-8f4ef28c3477\", \"gender\": \"Female\", \"age\": 50, \"department\": \"Maternity\", \"admission_time\": \"2025-09-20T13:56:29.010809\", \"discharge_time\": \"2025-09-21T11:56:29.010809\", \"bed_id\": 253, \"hospital_id\": 1}</td></tr><tr><td>{\"patient_id\": \"0b939a6b-b1e2-4b29-97dd-14513300c0bd\", \"gender\": \"Female\", \"age\": 90, \"department\": \"Pediatrics\", \"admission_time\": \"2025-09-22T14:57:14.039994\", \"discharge_time\": \"2025-09-24T15:57:14.039994\", \"bed_id\": 357, \"hospital_id\": 5}</td></tr><tr><td>{\"patient_id\": \"bc30df40-fa39-49db-80ab-03345241631c\", \"gender\": \"Female\", \"age\": 33, \"department\": \"Maternity\", \"admission_time\": \"2025-09-22T04:59:56.143189\", \"discharge_time\": \"2025-09-24T07:59:56.143189\", \"bed_id\": 454, \"hospital_id\": 4}</td></tr><tr><td>{\"patient_id\": \"e5799775-d827-419d-8172-bf286db3d042\", \"gender\": \"Female\", \"age\": 39, \"department\": \"Oncology\", \"admission_time\": \"2025-09-22T04:02:52.257067\", \"discharge_time\": \"2025-09-24T07:02:52.257067\", \"bed_id\": 306, \"hospital_id\": 5}</td></tr><tr><td>{\"patient_id\": \"418bd70d-fefa-4d85-b4b8-d7154950f534\", \"gender\": \"Female\", \"age\": 58, \"department\": \"Cardiology\", \"admission_time\": \"2025-09-21T05:06:00.383783\", \"discharge_time\": \"2025-09-24T03:06:00.383783\", \"bed_id\": 472, \"hospital_id\": 4}</td></tr><tr><td>{\"patient_id\": \"c1cdd61d-21b3-4942-a405-b98b2d48093e\", \"gender\": \"Female\", \"age\": 54, \"department\": \"Cardiology\", \"admission_time\": \"2025-09-21T10:00:21.157842\", \"discharge_time\": \"2025-09-23T18:00:21.157842\", \"bed_id\": 425, \"hospital_id\": 5}</td></tr><tr><td>{\"patient_id\": \"efd1cdbf-4f2f-4ac8-a6c9-dd86c622052a\", \"gender\": \"Female\", \"age\": 91, \"department\": \"Pediatrics\", \"admission_time\": \"2025-09-23T09:25:48.325144\", \"discharge_time\": \"2025-09-24T09:25:48.325062\", \"bed_id\": 40, \"hospital_id\": 5}</td></tr><tr><td>{\"patient_id\": \"65a6c2d3-07cd-4e6b-9e5b-0667daa7551d\", \"gender\": \"Female\", \"age\": 14, \"department\": \"Cardiology\", \"admission_time\": \"2025-09-22T20:25:50.325971\", \"discharge_time\": \"2025-09-24T21:25:50.325971\", \"bed_id\": 263, \"hospital_id\": 4}</td></tr><tr><td>{\"patient_id\": \"82000744-29ca-4fb9-b14b-17c7d1c9ee5b\", \"gender\": \"Female\", \"age\": 51, \"department\": \"Pediatrics\", \"admission_time\": \"2025-09-20T08:53:13.877573\", \"discharge_time\": \"2025-09-21T01:53:13.877573\", \"bed_id\": 421, \"hospital_id\": 3}</td></tr><tr><td>{\"patient_id\": \"5c2fad88-55d9-48e3-9690-962e55ee9e42\", \"gender\": \"Female\", \"age\": 142, \"department\": \"Emergency\", \"admission_time\": \"2025-09-21T15:56:06.996287\", \"discharge_time\": \"2025-09-23T06:56:06.996287\", \"bed_id\": 174, \"hospital_id\": 3}</td></tr><tr><td>{\"patient_id\": \"ec3c03e6-aebd-4ac4-a645-9e400519be49\", \"gender\": \"Female\", \"age\": 82, \"department\": \"Pediatrics\", \"admission_time\": \"2025-09-22T14:58:18.079416\", \"discharge_time\": \"2025-09-25T13:58:18.079416\", \"bed_id\": 300, \"hospital_id\": 6}</td></tr><tr><td>{\"patient_id\": \"6fb5b956-cd63-47da-9c9b-0aecd350a04a\", \"gender\": \"Female\", \"age\": 88, \"department\": \"Maternity\", \"admission_time\": \"2025-09-21T23:04:33.328148\", \"discharge_time\": \"2025-09-24T08:04:33.328148\", \"bed_id\": 155, \"hospital_id\": 2}</td></tr><tr><td>{\"patient_id\": \"681ebdfc-45bf-4822-afc8-179d122e1162\", \"gender\": \"Female\", \"age\": 80, \"department\": \"Pediatrics\", \"admission_time\": \"2025-09-20T18:06:42.414103\", \"discharge_time\": \"2025-09-23T14:06:42.414103\", \"bed_id\": 111, \"hospital_id\": 6}</td></tr><tr><td>{\"patient_id\": \"b1bf4034-810e-48f2-8f58-4160c574e615\", \"gender\": \"Female\", \"age\": 48, \"department\": \"Pediatrics\", \"admission_time\": \"2025-09-21T05:58:46.097140\", \"discharge_time\": \"2025-09-23T19:58:46.097140\", \"bed_id\": 458, \"hospital_id\": 7}</td></tr><tr><td>{\"patient_id\": \"b1aeaec6-22d0-452e-bd50-c40d9dee4e42\", \"gender\": \"Female\", \"age\": 91, \"department\": \"Pediatrics\", \"admission_time\": \"2025-09-22T17:53:51.901807\", \"discharge_time\": \"2025-09-23T02:53:51.901807\", \"bed_id\": 326, \"hospital_id\": 5}</td></tr><tr><td>{\"patient_id\": \"154d00e0-298d-4525-8ce2-c9865de2b42c\", \"gender\": \"Female\", \"age\": 96, \"department\": \"Pediatrics\", \"admission_time\": \"2025-09-21T00:02:58.261820\", \"discharge_time\": \"2025-09-22T09:02:58.261820\", \"bed_id\": 261, \"hospital_id\": 3}</td></tr><tr><td>{\"patient_id\": \"8840d55a-6df3-4482-9c4c-26baff854517\", \"gender\": \"Female\", \"age\": 16, \"department\": \"Pediatrics\", \"admission_time\": \"2025-09-23T04:52:54.862954\", \"discharge_time\": \"2025-09-25T15:52:54.862954\", \"bed_id\": 221, \"hospital_id\": 5}</td></tr><tr><td>{\"patient_id\": \"41ff0fd6-8aab-4a5e-a9a0-d85c80f4c5d7\", \"gender\": \"Female\", \"age\": 98, \"department\": \"Pediatrics\", \"admission_time\": \"2025-09-20T11:56:53.025011\", \"discharge_time\": \"2025-09-23T03:56:53.025011\", \"bed_id\": 491, \"hospital_id\": 3}</td></tr><tr><td>{\"patient_id\": \"b59c8d74-0421-48e4-bf42-537cb3172412\", \"gender\": \"Female\", \"age\": 67, \"department\": \"Pediatrics\", \"admission_time\": \"2025-09-23T01:06:55.424465\", \"discharge_time\": \"2025-09-24T18:06:55.424465\", \"bed_id\": 383, \"hospital_id\": 6}</td></tr><tr><td>{\"patient_id\": \"2eb9fa14-72ef-4482-827d-ae7d88a969b7\", \"gender\": \"Female\", \"age\": 19, \"department\": \"Maternity\", \"admission_time\": \"2025-09-21T09:04:27.323848\", \"discharge_time\": \"2025-09-24T06:04:27.323848\", \"bed_id\": 135, \"hospital_id\": 3}</td></tr><tr><td>{\"patient_id\": \"c5cfd4d0-69ab-4882-8c97-2da00b72b7f8\", \"gender\": \"Female\", \"age\": 93, \"department\": \"Pediatrics\", \"admission_time\": \"2025-09-21T04:54:08.914252\", \"discharge_time\": \"2025-09-23T11:54:08.914252\", \"bed_id\": 105, \"hospital_id\": 6}</td></tr><tr><td>{\"patient_id\": \"a7f78b51-9b8a-4240-8a6f-8364a0a6d079\", \"gender\": \"Female\", \"age\": 11, \"department\": \"Cardiology\", \"admission_time\": \"2025-09-21T07:58:23.082676\", \"discharge_time\": \"2025-09-22T16:58:23.082676\", \"bed_id\": 217, \"hospital_id\": 4}</td></tr><tr><td>{\"patient_id\": \"8c31914c-0d3f-497c-ab2b-3d856ba5d263\", \"gender\": \"Female\", \"age\": 47, \"department\": \"Maternity\", \"admission_time\": \"2025-09-20T21:08:43.492631\", \"discharge_time\": \"2025-09-23T01:08:43.492631\", \"bed_id\": 391, \"hospital_id\": 5}</td></tr><tr><td>{\"patient_id\": \"4c6e76dd-94f3-42e7-ab14-055c37575005\", \"gender\": \"Female\", \"age\": 98, \"department\": \"Cardiology\", \"admission_time\": \"2025-09-20T13:08:00.467613\", \"discharge_time\": \"2025-09-20T19:08:00.467613\", \"bed_id\": 410, \"hospital_id\": 3}</td></tr><tr><td>{\"patient_id\": \"550a99ff-b6d9-40dc-bed0-9346b1e7ab2c\", \"gender\": \"Female\", \"age\": 44, \"department\": \"Pediatrics\", \"admission_time\": \"2025-09-22T19:07:38.453061\", \"discharge_time\": \"2025-09-23T16:07:38.453061\", \"bed_id\": 150, \"hospital_id\": 2}</td></tr><tr><td>{\"patient_id\": \"a2dace02-212a-400e-b7f3-4d2502000fff\", \"gender\": \"Female\", \"age\": 71, \"department\": \"Pediatrics\", \"admission_time\": \"2025-09-20T18:02:53.257792\", \"discharge_time\": \"2025-09-22T03:02:53.257792\", \"bed_id\": 241, \"hospital_id\": 1}</td></tr><tr><td>{\"patient_id\": \"3bf77805-7955-4558-943b-90175e7a5d97\", \"gender\": \"Female\", \"age\": 105, \"department\": \"Maternity\", \"admission_time\": \"2025-09-20T14:08:45.493501\", \"discharge_time\": \"2025-09-21T15:08:45.493501\", \"bed_id\": 288, \"hospital_id\": 1}</td></tr><tr><td>{\"patient_id\": \"5d933a2d-9ddd-4834-8ecb-0669890cc2ca\", \"gender\": \"Female\", \"age\": 40, \"department\": \"Cardiology\", \"admission_time\": \"2025-09-20T22:53:00.867254\", \"discharge_time\": \"2025-09-22T23:53:00.867254\", \"bed_id\": 185, \"hospital_id\": 2}</td></tr><tr><td>{\"patient_id\": \"68e972a7-4320-4191-a4a7-d55f8b230473\", \"gender\": \"Female\", \"age\": 80, \"department\": \"Cardiology\", \"admission_time\": \"2025-09-21T12:03:58.303176\", \"discharge_time\": \"2025-09-21T19:03:58.303176\", \"bed_id\": 332, \"hospital_id\": 2}</td></tr><tr><td>{\"patient_id\": \"49ded9d0-7dee-42ae-8494-7247baa08572\", \"gender\": \"Female\", \"age\": 52, \"department\": \"Cardiology\", \"admission_time\": \"2025-09-20T10:10:32.566195\", \"discharge_time\": \"2025-09-22T15:10:32.566195\", \"bed_id\": 382, \"hospital_id\": 5}</td></tr><tr><td>{\"patient_id\": \"5f3adc66-e5bf-4a61-b071-004a41c3bc2a\", \"gender\": \"Male\", \"age\": 94, \"department\": \"Pediatrics\", \"admission_time\": \"2025-09-24T14:53:32.890983\", \"discharge_time\": \"2025-09-23T05:53:32.890907\", \"bed_id\": 346, \"hospital_id\": 4}</td></tr><tr><td>{\"patient_id\": \"9ecc5ab5-454d-48f6-90d2-09a94004931d\", \"gender\": \"Female\", \"age\": 49, \"department\": \"Pediatrics\", \"admission_time\": \"2025-09-22T06:55:53.986531\", \"discharge_time\": \"2025-09-24T11:55:53.986531\", \"bed_id\": 169, \"hospital_id\": 7}</td></tr><tr><td>{\"patient_id\": \"2319408c-f539-46be-9d84-dfc3a5ea2ff1\", \"gender\": \"Female\", \"age\": 73, \"department\": \"Emergency\", \"admission_time\": \"2025-09-21T02:25:38.319612\", \"discharge_time\": \"2025-09-23T07:25:38.319612\", \"bed_id\": 278, \"hospital_id\": 2}</td></tr><tr><td>{\"patient_id\": \"cae3e742-902a-43f9-9890-bac6acce766e\", \"gender\": \"Female\", \"age\": 125, \"department\": \"Emergency\", \"admission_time\": \"2025-09-21T17:02:04.224342\", \"discharge_time\": \"2025-09-22T01:02:04.224342\", \"bed_id\": 272, \"hospital_id\": 5}</td></tr><tr><td>{\"patient_id\": \"76a17e40-ff4f-48d1-bca0-61f4782557d5\", \"gender\": \"Female\", \"age\": 49, \"department\": \"Cardiology\", \"admission_time\": \"2025-09-22T17:02:21.237111\", \"discharge_time\": \"2025-09-23T23:02:21.237111\", \"bed_id\": 360, \"hospital_id\": 4}</td></tr><tr><td>{\"patient_id\": \"8bb92bfc-39a0-4f2b-9571-d8066e2860c2\", \"gender\": \"Male\", \"age\": 45, \"department\": \"Cardiology\", \"admission_time\": \"2025-09-22T02:56:08.997175\", \"discharge_time\": \"2025-09-24T14:56:08.997175\", \"bed_id\": 309, \"hospital_id\": 6}</td></tr><tr><td>{\"patient_id\": \"75dfee05-837b-4e1f-9e9d-9b45c18f030c\", \"gender\": \"Female\", \"age\": 140, \"department\": \"Cardiology\", \"admission_time\": \"2025-09-23T06:55:05.954672\", \"discharge_time\": \"2025-09-24T11:55:05.954672\", \"bed_id\": 15, \"hospital_id\": 6}</td></tr><tr><td>{\"patient_id\": \"67f39dd6-507a-44a3-a399-5ab7ea3110bb\", \"gender\": \"Female\", \"age\": 24, \"department\": \"Cardiology\", \"admission_time\": \"2025-09-22T05:09:27.520766\", \"discharge_time\": \"2025-09-23T17:09:27.520766\", \"bed_id\": 446, \"hospital_id\": 1}</td></tr><tr><td>{\"patient_id\": \"9b782643-6e32-4552-bc4e-be491ded0c5d\", \"gender\": \"Female\", \"age\": 58, \"department\": \"Emergency\", \"admission_time\": \"2025-09-23T02:09:35.525302\", \"discharge_time\": \"2025-09-24T11:09:35.525302\", \"bed_id\": 303, \"hospital_id\": 1}</td></tr><tr><td>{\"patient_id\": \"9d00d14f-75b2-4762-b755-79ab99658f5d\", \"gender\": \"Female\", \"age\": 82, \"department\": \"Maternity\", \"admission_time\": \"2025-09-20T23:02:12.230167\", \"discharge_time\": \"2025-09-21T07:02:12.230167\", \"bed_id\": 350, \"hospital_id\": 5}</td></tr><tr><td>{\"patient_id\": \"cfb70032-cadf-4b2c-a635-93ca8b3585f5\", \"gender\": \"Female\", \"age\": 98, \"department\": \"Pediatrics\", \"admission_time\": \"2025-09-22T19:01:51.214671\", \"discharge_time\": \"2025-09-23T18:01:51.214671\", \"bed_id\": 398, \"hospital_id\": 6}</td></tr><tr><td>{\"patient_id\": \"f581569c-2052-4f84-ba9a-e9db2e1ee3f9\", \"gender\": \"Female\", \"age\": 26, \"department\": \"Emergency\", \"admission_time\": \"2025-09-21T13:55:49.983922\", \"discharge_time\": \"2025-09-22T05:55:49.983922\", \"bed_id\": 177, \"hospital_id\": 5}</td></tr><tr><td>{\"patient_id\": \"583cfffe-b2ff-4581-9d26-c286ef0b7b77\", \"gender\": \"Female\", \"age\": 36, \"department\": \"Maternity\", \"admission_time\": \"2025-09-20T20:01:15.189389\", \"discharge_time\": \"2025-09-21T23:01:15.189389\", \"bed_id\": 472, \"hospital_id\": 2}</td></tr><tr><td>{\"patient_id\": \"50fa6886-69db-4e31-9a0a-e38c96d0ebc6\", \"gender\": \"Female\", \"age\": 95, \"department\": \"Emergency\", \"admission_time\": \"2025-09-21T11:55:44.981056\", \"discharge_time\": \"2025-09-23T23:55:44.981056\", \"bed_id\": 365, \"hospital_id\": 6}</td></tr><tr><td>{\"patient_id\": \"45a089ab-16b1-45b3-b719-cf25414a0e15\", \"gender\": \"Female\", \"age\": 121, \"department\": \"Oncology\", \"admission_time\": \"2025-09-20T12:53:04.871401\", \"discharge_time\": \"2025-09-22T07:53:04.871401\", \"bed_id\": 153, \"hospital_id\": 5}</td></tr><tr><td>{\"patient_id\": \"e4a3c743-36da-40cf-a9ed-483e52c95232\", \"gender\": \"Female\", \"age\": 74, \"department\": \"Emergency\", \"admission_time\": \"2025-09-22T05:57:40.055306\", \"discharge_time\": \"2025-09-23T17:57:40.055306\", \"bed_id\": 297, \"hospital_id\": 7}</td></tr><tr><td>{\"patient_id\": \"60da3cb9-c3bd-4a4b-951a-472ea9750d04\", \"gender\": \"Female\", \"age\": 92, \"department\": \"Maternity\", \"admission_time\": \"2025-09-22T03:03:25.280261\", \"discharge_time\": \"2025-09-24T17:03:25.280261\", \"bed_id\": 426, \"hospital_id\": 4}</td></tr><tr><td>{\"patient_id\": \"c15e687f-a5be-40b7-ab70-f13e674c986c\", \"gender\": \"Female\", \"age\": 73, \"department\": \"Emergency\", \"admission_time\": \"2025-09-20T22:08:50.496155\", \"discharge_time\": \"2025-09-21T09:08:50.496155\", \"bed_id\": 391, \"hospital_id\": 3}</td></tr><tr><td>{\"patient_id\": \"256c6422-a6ea-42f9-8716-075ebe14240c\", \"gender\": \"Female\", \"age\": 87, \"department\": \"Maternity\", \"admission_time\": \"2025-09-20T09:06:41.413186\", \"discharge_time\": \"2025-09-21T01:06:41.413186\", \"bed_id\": 408, \"hospital_id\": 1}</td></tr><tr><td>{\"patient_id\": \"ca88b43b-65f8-4efd-b1ad-c0e7a2150f20\", \"gender\": \"Female\", \"age\": 76, \"department\": \"Emergency\", \"admission_time\": \"2025-09-23T05:02:55.259711\", \"discharge_time\": \"2025-09-24T10:02:55.259711\", \"bed_id\": 235, \"hospital_id\": 4}</td></tr><tr><td>{\"patient_id\": \"d6cc591d-b8a9-4617-bf7d-08fb41cdcc4e\", \"gender\": \"Female\", \"age\": 54, \"department\": \"Maternity\", \"admission_time\": \"2025-09-23T01:10:10.548917\", \"discharge_time\": \"2025-09-26T00:10:10.548917\", \"bed_id\": 338, \"hospital_id\": 4}</td></tr><tr><td>{\"patient_id\": \"cebee790-7d0a-4837-93a4-2b6f23f48d03\", \"gender\": \"Male\", \"age\": 146, \"department\": \"Pediatrics\", \"admission_time\": \"2025-09-20T16:01:46.212314\", \"discharge_time\": \"2025-09-21T15:01:46.212314\", \"bed_id\": 459, \"hospital_id\": 7}</td></tr><tr><td>{\"patient_id\": \"9219218e-36cb-450d-8301-075bd4d1ef9a\", \"gender\": \"Female\", \"age\": 29, \"department\": \"Maternity\", \"admission_time\": \"2025-09-22T02:56:07.996768\", \"discharge_time\": \"2025-09-23T10:56:07.996768\", \"bed_id\": 220, \"hospital_id\": 5}</td></tr><tr><td>{\"patient_id\": \"2a49d99f-7748-4213-be09-91ee97ab5974\", \"gender\": \"Female\", \"age\": 29, \"department\": \"Emergency\", \"admission_time\": \"2025-09-22T01:03:53.298962\", \"discharge_time\": \"2025-09-24T10:03:53.298962\", \"bed_id\": 488, \"hospital_id\": 2}</td></tr><tr><td>{\"patient_id\": \"f950ef28-4487-49b2-893d-946580871175\", \"gender\": \"Female\", \"age\": 77, \"department\": \"Emergency\", \"admission_time\": \"2025-09-20T22:01:30.200987\", \"discharge_time\": \"2025-09-23T16:01:30.200987\", \"bed_id\": 406, \"hospital_id\": 3}</td></tr><tr><td>{\"patient_id\": \"f2296d86-a2de-402f-8185-f335948fc48e\", \"gender\": \"Female\", \"age\": 12, \"department\": \"Maternity\", \"admission_time\": \"2025-09-22T22:56:30.011249\", \"discharge_time\": \"2025-09-23T13:56:30.011249\", \"bed_id\": 373, \"hospital_id\": 1}</td></tr><tr><td>{\"patient_id\": \"8f40610e-0f09-457a-98f0-fce2b51c49cf\", \"gender\": \"Female\", \"age\": 18, \"department\": \"Emergency\", \"admission_time\": \"2025-09-21T05:53:34.892229\", \"discharge_time\": \"2025-09-22T18:53:34.892229\", \"bed_id\": 176, \"hospital_id\": 6}</td></tr><tr><td>{\"patient_id\": \"aa6f1042-b867-4d64-b860-91fcabf3c39c\", \"gender\": \"Female\", \"age\": 99, \"department\": \"Maternity\", \"admission_time\": \"2025-09-22T07:04:22.321419\", \"discharge_time\": \"2025-09-23T18:04:22.321419\", \"bed_id\": 336, \"hospital_id\": 3}</td></tr><tr><td>{\"patient_id\": \"7e1860cb-f963-4fd1-a9b0-7ebd80f6621b\", \"gender\": \"Female\", \"age\": 24, \"department\": \"Emergency\", \"admission_time\": \"2025-09-20T19:02:28.242380\", \"discharge_time\": \"2025-09-22T07:02:28.242380\", \"bed_id\": 150, \"hospital_id\": 6}</td></tr><tr><td>{\"patient_id\": \"fa9bf641-15b5-4222-98d4-692644f4daaa\", \"gender\": \"Female\", \"age\": 80, \"department\": \"Maternity\", \"admission_time\": \"2025-09-23T00:00:24.159718\", \"discharge_time\": \"2025-09-24T00:00:24.159718\", \"bed_id\": 359, \"hospital_id\": 4}</td></tr><tr><td>{\"patient_id\": \"8b50222c-41cc-4535-ae0e-c4f590564113\", \"gender\": \"Female\", \"age\": 87, \"department\": \"Maternity\", \"admission_time\": \"2025-09-20T16:04:56.342500\", \"discharge_time\": \"2025-09-23T01:04:56.342500\", \"bed_id\": 471, \"hospital_id\": 6}</td></tr><tr><td>{\"patient_id\": \"6a90e7fc-f1df-464a-8695-c1bebb0a9e77\", \"gender\": \"Female\", \"age\": 90, \"department\": \"Maternity\", \"admission_time\": \"2025-09-20T17:06:23.401789\", \"discharge_time\": \"2025-09-21T04:06:23.401789\", \"bed_id\": 478, \"hospital_id\": 4}</td></tr><tr><td>{\"patient_id\": \"9f876bc7-fa22-4270-9a25-29fcbf2febb0\", \"gender\": \"Female\", \"age\": 68, \"department\": \"Maternity\", \"admission_time\": \"2025-09-20T10:52:58.865882\", \"discharge_time\": \"2025-09-21T12:52:58.865882\", \"bed_id\": 483, \"hospital_id\": 4}</td></tr><tr><td>{\"patient_id\": \"4907bf8b-add2-4582-9696-57b9f29cc226\", \"gender\": \"Male\", \"age\": 17, \"department\": \"Pediatrics\", \"admission_time\": \"2025-09-21T09:26:44.364114\", \"discharge_time\": \"2025-09-23T20:26:44.364114\", \"bed_id\": 483, \"hospital_id\": 6}</td></tr><tr><td>{\"patient_id\": \"83d38ce2-b0e1-4dfe-a322-6f8d741c47f1\", \"gender\": \"Female\", \"age\": 51, \"department\": \"Maternity\", \"admission_time\": \"2025-09-22T13:09:43.531166\", \"discharge_time\": \"2025-09-25T03:09:43.531166\", \"bed_id\": 250, \"hospital_id\": 3}</td></tr><tr><td>{\"patient_id\": \"b3aecf17-c56a-437f-a6c6-e82db92228d4\", \"gender\": \"Female\", \"age\": 23, \"department\": \"Pediatrics\", \"admission_time\": \"2025-09-21T23:10:33.567533\", \"discharge_time\": \"2025-09-22T03:10:33.567533\", \"bed_id\": 312, \"hospital_id\": 5}</td></tr><tr><td>{\"patient_id\": \"2c87bfdb-2ada-4354-9202-e0ecd6d37228\", \"gender\": \"Female\", \"age\": 18, \"department\": \"Maternity\", \"admission_time\": \"2025-09-22T07:26:42.362735\", \"discharge_time\": \"2025-09-25T01:26:42.362735\", \"bed_id\": 284, \"hospital_id\": 2}</td></tr><tr><td>{\"patient_id\": \"19929a32-9589-408c-9b6f-47e459e97324\", \"gender\": \"Female\", \"age\": 62, \"department\": \"Emergency\", \"admission_time\": \"2025-09-21T21:04:28.324894\", \"discharge_time\": \"2025-09-24T11:04:28.324894\", \"bed_id\": 492, \"hospital_id\": 4}</td></tr><tr><td>{\"patient_id\": \"a5dfad72-861f-4f39-9e90-8741b2d5e40a\", \"gender\": \"Female\", \"age\": 44, \"department\": \"Maternity\", \"admission_time\": \"2025-09-21T23:55:09.958041\", \"discharge_time\": \"2025-09-22T02:55:09.958041\", \"bed_id\": 370, \"hospital_id\": 5}</td></tr><tr><td>{\"patient_id\": \"6222bc90-dc19-4594-a57b-828833e790ef\", \"gender\": \"Female\", \"age\": 90, \"department\": \"Maternity\", \"admission_time\": \"2025-09-23T05:05:47.373361\", \"discharge_time\": \"2025-09-26T05:05:47.373361\", \"bed_id\": 412, \"hospital_id\": 4}</td></tr><tr><td>{\"patient_id\": \"39470121-848d-432d-a883-5715343adb2f\", \"gender\": \"Female\", \"age\": 29, \"department\": \"Maternity\", \"admission_time\": \"2025-09-21T11:02:09.228073\", \"discharge_time\": \"2025-09-24T02:02:09.228073\", \"bed_id\": 360, \"hospital_id\": 4}</td></tr><tr><td>{\"patient_id\": \"22267310-48ba-40d9-88e3-3bed71f5de4f\", \"gender\": \"Female\", \"age\": 14, \"department\": \"Maternity\", \"admission_time\": \"2025-09-21T20:25:34.315866\", \"discharge_time\": \"2025-09-23T07:25:34.315866\", \"bed_id\": 351, \"hospital_id\": 4}</td></tr><tr><td>{\"patient_id\": \"72f167d9-61df-4b86-ba38-8e0014fc6644\", \"gender\": \"Female\", \"age\": 73, \"department\": \"Emergency\", \"admission_time\": \"2025-09-23T02:54:15.918595\", \"discharge_time\": \"2025-09-25T11:54:15.918595\", \"bed_id\": 396, \"hospital_id\": 4}</td></tr><tr><td>{\"patient_id\": \"bfb609fb-1d75-45ed-9a12-7dde466b3d2e\", \"gender\": \"Female\", \"age\": 47, \"department\": \"Emergency\", \"admission_time\": \"2025-09-22T03:07:59.467176\", \"discharge_time\": \"2025-09-24T07:07:59.467176\", \"bed_id\": 243, \"hospital_id\": 3}</td></tr><tr><td>{\"patient_id\": \"8a8e47a7-594a-48b6-815c-548aeb036691\", \"gender\": \"Female\", \"age\": 76, \"department\": \"Emergency\", \"admission_time\": \"2025-09-20T09:54:35.933183\", \"discharge_time\": \"2025-09-21T21:54:35.933183\", \"bed_id\": 450, \"hospital_id\": 5}</td></tr><tr><td>{\"patient_id\": \"b9f68c4e-c947-435a-85bc-8730ed49a665\", \"gender\": \"Female\", \"age\": 76, \"department\": \"Pediatrics\", \"admission_time\": \"2025-09-22T16:55:23.968122\", \"discharge_time\": \"2025-09-24T06:55:23.968122\", \"bed_id\": 440, \"hospital_id\": 5}</td></tr><tr><td>{\"patient_id\": \"a6da67b4-789d-4d90-8b49-89c2a6612d69\", \"gender\": \"Female\", \"age\": 85, \"department\": \"Cardiology\", \"admission_time\": \"2025-09-22T00:59:21.121277\", \"discharge_time\": \"2025-09-22T06:59:21.121277\", \"bed_id\": 475, \"hospital_id\": 4}</td></tr><tr><td>{\"patient_id\": \"6d798ca0-878a-4baa-bb80-eea28abfbbed\", \"gender\": \"Male\", \"age\": 136, \"department\": \"Pediatrics\", \"admission_time\": \"2025-09-20T22:58:20.080896\", \"discharge_time\": \"2025-09-21T16:58:20.080896\", \"bed_id\": 430, \"hospital_id\": 1}</td></tr><tr><td>{\"patient_id\": \"e95efddb-ddf4-4a09-b410-2ec2322cd9c5\", \"gender\": \"Female\", \"age\": 38, \"department\": \"Maternity\", \"admission_time\": \"2025-09-22T15:09:11.509606\", \"discharge_time\": \"2025-09-23T04:09:11.509606\", \"bed_id\": 404, \"hospital_id\": 5}</td></tr><tr><td>{\"patient_id\": \"3a9b36a9-7258-446b-a0c8-401b5358c13a\", \"gender\": \"Female\", \"age\": 34, \"department\": \"Maternity\", \"admission_time\": \"2025-09-22T19:54:06.911970\", \"discharge_time\": \"2025-09-24T08:54:06.911970\", \"bed_id\": 454, \"hospital_id\": 6}</td></tr><tr><td>{\"patient_id\": \"aaa28cd6-c1fb-4337-a46e-e9d39aeb9612\", \"gender\": \"Female\", \"age\": 95, \"department\": \"Emergency\", \"admission_time\": \"2025-09-22T23:57:02.031442\", \"discharge_time\": \"2025-09-23T15:57:02.031442\", \"bed_id\": 100, \"hospital_id\": 2}</td></tr><tr><td>{\"patient_id\": \"1140c867-b82d-4f2b-9d38-83380a6faaa1\", \"gender\": \"Female\", \"age\": 41, \"department\": \"Maternity\", \"admission_time\": \"2025-09-22T15:59:25.124222\", \"discharge_time\": \"2025-09-25T04:59:25.124222\", \"bed_id\": 450, \"hospital_id\": 2}</td></tr><tr><td>{\"patient_id\": \"9c70541c-b08b-448e-b29e-c7c213db9792\", \"gender\": \"Female\", \"age\": 133, \"department\": \"Emergency\", \"admission_time\": \"2025-09-21T16:10:17.554884\", \"discharge_time\": \"2025-09-23T02:10:17.554884\", \"bed_id\": 112, \"hospital_id\": 3}</td></tr><tr><td>{\"patient_id\": \"59665afb-09cb-47cc-ab6d-92901f499079\", \"gender\": \"Female\", \"age\": 50, \"department\": \"Maternity\", \"admission_time\": \"2025-09-20T07:04:43.334868\", \"discharge_time\": \"2025-09-21T23:04:43.334868\", \"bed_id\": 210, \"hospital_id\": 2}</td></tr><tr><td>{\"patient_id\": \"339821dc-02da-4629-b451-a76dfd0441d6\", \"gender\": \"Female\", \"age\": 54, \"department\": \"Maternity\", \"admission_time\": \"2025-09-20T22:10:08.547179\", \"discharge_time\": \"2025-09-22T09:10:08.547179\", \"bed_id\": 297, \"hospital_id\": 4}</td></tr><tr><td>{\"patient_id\": \"40802ff5-c7df-4d07-aded-e5f0dc4d5f3c\", \"gender\": \"Female\", \"age\": 49, \"department\": \"Oncology\", \"admission_time\": \"2025-09-23T13:04:30.326353\", \"discharge_time\": \"2025-09-23T10:04:30.326276\", \"bed_id\": 397, \"hospital_id\": 1}</td></tr><tr><td>{\"patient_id\": \"1d997c7b-bfd0-4d04-be0b-113ddc33916a\", \"gender\": \"Female\", \"age\": 85, \"department\": \"Maternity\", \"admission_time\": \"2025-09-22T13:26:11.340533\", \"discharge_time\": \"2025-09-25T05:26:11.340533\", \"bed_id\": 450, \"hospital_id\": 1}</td></tr><tr><td>{\"patient_id\": \"dd28fc04-1292-49ce-8894-d5e91e5109fa\", \"gender\": \"Female\", \"age\": 30, \"department\": \"Maternity\", \"admission_time\": \"2025-09-22T17:07:10.432083\", \"discharge_time\": \"2025-09-23T06:07:10.432083\", \"bed_id\": 187, \"hospital_id\": 3}</td></tr><tr><td>{\"patient_id\": \"fc5c1eef-cfd2-4b32-9437-777f9eade57c\", \"gender\": \"Female\", \"age\": 62, \"department\": \"Emergency\", \"admission_time\": \"2025-09-21T20:53:08.874206\", \"discharge_time\": \"2025-09-22T20:53:08.874206\", \"bed_id\": 107, \"hospital_id\": 6}</td></tr><tr><td>{\"patient_id\": \"d853a10e-a5de-4969-b2dd-73647f038a3f\", \"gender\": \"Female\", \"age\": 66, \"department\": \"Emergency\", \"admission_time\": \"2025-09-22T08:58:02.069229\", \"discharge_time\": \"2025-09-23T03:58:02.069229\", \"bed_id\": 320, \"hospital_id\": 1}</td></tr><tr><td>{\"patient_id\": \"952fa1f6-cb84-4edb-9994-759aff6e0c6f\", \"gender\": \"Female\", \"age\": 17, \"department\": \"Emergency\", \"admission_time\": \"2025-09-20T10:03:33.285528\", \"discharge_time\": \"2025-09-22T23:03:33.285528\", \"bed_id\": 317, \"hospital_id\": 2}</td></tr><tr><td>{\"patient_id\": \"6ed78ba9-568e-47c0-8459-c81ce5a72b3e\", \"gender\": \"Female\", \"age\": 26, \"department\": \"Emergency\", \"admission_time\": \"2025-09-21T10:55:51.985599\", \"discharge_time\": \"2025-09-23T19:55:51.985599\", \"bed_id\": 494, \"hospital_id\": 1}</td></tr><tr><td>{\"patient_id\": \"66e25fd6-f92d-40f5-876a-5cf6accd437a\", \"gender\": \"Female\", \"age\": 20, \"department\": \"Pediatrics\", \"admission_time\": \"2025-09-22T03:55:42.979630\", \"discharge_time\": \"2025-09-24T03:55:42.979630\", \"bed_id\": 368, \"hospital_id\": 6}</td></tr><tr><td>{\"patient_id\": \"1155f796-5698-4d60-9e80-58f509102be2\", \"gender\": \"Female\", \"age\": 128, \"department\": \"Maternity\", \"admission_time\": \"2025-09-21T07:08:25.482469\", \"discharge_time\": \"2025-09-24T05:08:25.482469\", \"bed_id\": 125, \"hospital_id\": 1}</td></tr><tr><td>{\"patient_id\": \"8d1adc96-8467-4678-bfdb-79578da127a7\", \"gender\": \"Female\", \"age\": 127, \"department\": \"Oncology\", \"admission_time\": \"2025-09-21T13:08:02.469145\", \"discharge_time\": \"2025-09-23T05:08:02.469145\", \"bed_id\": 297, \"hospital_id\": 1}</td></tr><tr><td>{\"patient_id\": \"43f4cad7-a5b3-4865-af70-987aaa4ad56d\", \"gender\": \"Female\", \"age\": 25, \"department\": \"Maternity\", \"admission_time\": \"2025-09-20T18:08:04.470606\", \"discharge_time\": \"2025-09-22T07:08:04.470606\", \"bed_id\": 446, \"hospital_id\": 6}</td></tr><tr><td>{\"patient_id\": \"a117b8d8-8325-4673-8630-bf9fd4e2b635\", \"gender\": \"Female\", \"age\": 20, \"department\": \"Emergency\", \"admission_time\": \"2025-09-21T11:03:46.293502\", \"discharge_time\": \"2025-09-24T00:03:46.293502\", \"bed_id\": 381, \"hospital_id\": 3}</td></tr><tr><td>{\"patient_id\": \"e9a04dc6-ad59-4575-9e4e-878ada283b92\", \"gender\": \"Female\", \"age\": 78, \"department\": \"Emergency\", \"admission_time\": \"2025-09-22T03:08:30.485924\", \"discharge_time\": \"2025-09-23T02:08:30.485924\", \"bed_id\": 206, \"hospital_id\": 3}</td></tr><tr><td>{\"patient_id\": \"db43dfd2-5699-44fb-b9ba-b17ba27bae6a\", \"gender\": \"Female\", \"age\": 71, \"department\": \"Maternity\", \"admission_time\": \"2025-09-20T23:57:06.034615\", \"discharge_time\": \"2025-09-21T07:57:06.034615\", \"bed_id\": 116, \"hospital_id\": 4}</td></tr><tr><td>{\"patient_id\": \"4bbcfa7c-def5-4b68-a45c-ab632405d7a7\", \"gender\": \"Female\", \"age\": 65, \"department\": \"Maternity\", \"admission_time\": \"2025-09-21T19:09:25.519331\", \"discharge_time\": \"2025-09-22T16:09:25.519331\", \"bed_id\": 110, \"hospital_id\": 2}</td></tr><tr><td>{\"patient_id\": \"7b70f11b-9a3f-43aa-a3e8-362a0ff114a4\", \"gender\": \"Female\", \"age\": 37, \"department\": \"Maternity\", \"admission_time\": \"2025-09-20T13:02:11.229747\", \"discharge_time\": \"2025-09-21T16:02:11.229747\", \"bed_id\": 203, \"hospital_id\": 1}</td></tr><tr><td>{\"patient_id\": \"7444740d-b5f3-4982-80b6-af9f8a70a245\", \"gender\": \"Female\", \"age\": 28, \"department\": \"Maternity\", \"admission_time\": \"2025-09-21T17:26:38.360018\", \"discharge_time\": \"2025-09-23T06:26:38.360018\", \"bed_id\": 142, \"hospital_id\": 6}</td></tr><tr><td>{\"patient_id\": \"5cf011e1-43ac-4ed0-9b82-3495955422cb\", \"gender\": \"Female\", \"age\": 21, \"department\": \"Maternity\", \"admission_time\": \"2025-09-20T21:09:04.503467\", \"discharge_time\": \"2025-09-22T10:09:04.503467\", \"bed_id\": 266, \"hospital_id\": 3}</td></tr><tr><td>{\"patient_id\": \"d38fea45-0219-4bea-8dc2-54f3cded050e\", \"gender\": \"Female\", \"age\": 44, \"department\": \"Maternity\", \"admission_time\": \"2025-09-23T07:25:40.321184\", \"discharge_time\": \"2025-09-26T00:25:40.321184\", \"bed_id\": 341, \"hospital_id\": 5}</td></tr><tr><td>{\"patient_id\": \"aa93857b-0840-4d6c-8c6f-2e2f661cd5ff\", \"gender\": \"Female\", \"age\": 61, \"department\": \"Emergency\", \"admission_time\": \"2025-09-20T14:03:09.268613\", \"discharge_time\": \"2025-09-21T20:03:09.268613\", \"bed_id\": 360, \"hospital_id\": 7}</td></tr><tr><td>{\"patient_id\": \"de9a23d2-fe73-4aa1-9807-466ec699c329\", \"gender\": \"Female\", \"age\": 34, \"department\": \"Pediatrics\", \"admission_time\": \"2025-09-21T07:54:24.924315\", \"discharge_time\": \"2025-09-22T17:54:24.924315\", \"bed_id\": 460, \"hospital_id\": 7}</td></tr><tr><td>{\"patient_id\": \"aed541f0-e711-4a53-b032-d2e368336598\", \"gender\": \"Female\", \"age\": 86, \"department\": \"Emergency\", \"admission_time\": \"2025-09-21T20:53:39.894980\", \"discharge_time\": \"2025-09-22T01:53:39.894980\", \"bed_id\": 164, \"hospital_id\": 6}</td></tr><tr><td>{\"patient_id\": \"d73ce1f2-9f99-4c2f-9bd2-0e6616dab92a\", \"gender\": \"Female\", \"age\": 63, \"department\": \"Emergency\", \"admission_time\": \"2025-09-21T11:09:55.538252\", \"discharge_time\": \"2025-09-23T03:09:55.538252\", \"bed_id\": 372, \"hospital_id\": 2}</td></tr><tr><td>{\"patient_id\": \"d49d0458-7580-4853-afa2-454d4715276a\", \"gender\": \"Female\", \"age\": 19, \"department\": \"Maternity\", \"admission_time\": \"2025-09-21T15:53:55.904651\", \"discharge_time\": \"2025-09-22T01:53:55.904651\", \"bed_id\": 467, \"hospital_id\": 5}</td></tr><tr><td>{\"patient_id\": \"2a936b48-1192-420d-bb38-6292dc40c86c\", \"gender\": \"Female\", \"age\": 81, \"department\": \"Emergency\", \"admission_time\": \"2025-09-22T15:56:11.998509\", \"discharge_time\": \"2025-09-23T17:56:11.998509\", \"bed_id\": 474, \"hospital_id\": 5}</td></tr><tr><td>{\"patient_id\": \"d6f5f458-33b2-4e56-8278-05961deb289b\", \"gender\": \"Female\", \"age\": 49, \"department\": \"Emergency\", \"admission_time\": \"2025-09-21T16:09:53.537340\", \"discharge_time\": \"2025-09-23T18:09:53.537340\", \"bed_id\": 97, \"hospital_id\": 2}</td></tr><tr><td>{\"patient_id\": \"010d7c5e-fcc0-4998-96d0-d4a1f45d3dc8\", \"gender\": \"Female\", \"age\": 71, \"department\": \"Emergency\", \"admission_time\": \"2025-09-22T00:04:41.333079\", \"discharge_time\": \"2025-09-24T10:04:41.333079\", \"bed_id\": 163, \"hospital_id\": 2}</td></tr><tr><td>{\"patient_id\": \"6c69cebb-592d-4916-b3a6-57a9610105d6\", \"gender\": \"Female\", \"age\": 22, \"department\": \"Emergency\", \"admission_time\": \"2025-09-20T19:05:45.372438\", \"discharge_time\": \"2025-09-22T12:05:45.372438\", \"bed_id\": 193, \"hospital_id\": 5}</td></tr><tr><td>{\"patient_id\": \"099b3bf0-9558-487e-baae-9f4525725f36\", \"gender\": \"Female\", \"age\": 13, \"department\": \"Maternity\", \"admission_time\": \"2025-09-22T02:57:55.064858\", \"discharge_time\": \"2025-09-24T17:57:55.064858\", \"bed_id\": 451, \"hospital_id\": 3}</td></tr><tr><td>{\"patient_id\": \"2aa4e4eb-ab7e-4977-b007-e0a49b30606a\", \"gender\": \"Female\", \"age\": 38, \"department\": \"Emergency\", \"admission_time\": \"2025-09-21T14:09:31.522841\", \"discharge_time\": \"2025-09-24T11:09:31.522841\", \"bed_id\": 128, \"hospital_id\": 6}</td></tr><tr><td>{\"patient_id\": \"c29e0a10-983b-44b3-ae22-adaaf237d349\", \"gender\": \"Female\", \"age\": 48, \"department\": \"Maternity\", \"admission_time\": \"2025-09-21T16:07:32.448130\", \"discharge_time\": \"2025-09-23T06:07:32.448130\", \"bed_id\": 127, \"hospital_id\": 2}</td></tr><tr><td>{\"patient_id\": \"ed10d0c6-34dc-420e-aa70-9689d27bad61\", \"gender\": \"Female\", \"age\": 23, \"department\": \"Emergency\", \"admission_time\": \"2025-09-21T10:58:16.078386\", \"discharge_time\": \"2025-09-23T07:58:16.078386\", \"bed_id\": 145, \"hospital_id\": 5}</td></tr><tr><td>{\"patient_id\": \"31a34745-5645-4e98-af66-d32841cff11b\", \"gender\": \"Female\", \"age\": 96, \"department\": \"Maternity\", \"admission_time\": \"2025-09-22T08:04:01.305044\", \"discharge_time\": \"2025-09-24T23:04:01.305044\", \"bed_id\": 435, \"hospital_id\": 3}</td></tr><tr><td>{\"patient_id\": \"32d1c68d-d7a3-4ae2-b972-1662b115de3e\", \"gender\": \"Female\", \"age\": 80, \"department\": \"Cardiology\", \"admission_time\": \"2025-09-22T08:10:36.569517\", \"discharge_time\": \"2025-09-24T12:10:36.569517\", \"bed_id\": 275, \"hospital_id\": 6}</td></tr><tr><td>{\"patient_id\": \"c870e8fd-2aee-4a89-b094-15acd712af13\", \"gender\": \"Female\", \"age\": 96, \"department\": \"Cardiology\", \"admission_time\": \"2025-09-22T08:00:34.165483\", \"discharge_time\": \"2025-09-24T09:00:34.165483\", \"bed_id\": 483, \"hospital_id\": 4}</td></tr><tr><td>{\"patient_id\": \"21d3cb9d-4f5d-44b8-967f-5c943fa1291d\", \"gender\": \"Female\", \"age\": 52, \"department\": \"Emergency\", \"admission_time\": \"2025-09-21T00:01:29.200471\", \"discharge_time\": \"2025-09-23T17:01:29.200471\", \"bed_id\": 259, \"hospital_id\": 4}</td></tr><tr><td>{\"patient_id\": \"2d2c37a3-cc4a-443f-9c58-56636642f050\", \"gender\": \"Female\", \"age\": 26, \"department\": \"Maternity\", \"admission_time\": \"2025-09-21T11:02:27.241983\", \"discharge_time\": \"2025-09-24T07:02:27.241983\", \"bed_id\": 333, \"hospital_id\": 4}</td></tr><tr><td>{\"patient_id\": \"602b19a1-e5c8-41f3-bff4-f7012c3a6708\", \"gender\": \"Female\", \"age\": 82, \"department\": \"Maternity\", \"admission_time\": \"2025-09-21T14:08:21.480739\", \"discharge_time\": \"2025-09-22T05:08:21.480739\", \"bed_id\": 360, \"hospital_id\": 7}</td></tr><tr><td>{\"patient_id\": \"4bcf55a1-4e10-478e-9c16-dd06dd90129f\", \"gender\": \"Female\", \"age\": 75, \"department\": \"Maternity\", \"admission_time\": \"2025-09-23T06:02:33.245595\", \"discharge_time\": \"2025-09-25T09:02:33.245595\", \"bed_id\": 98, \"hospital_id\": 4}</td></tr><tr><td>{\"patient_id\": \"4652ca44-d2d3-4ca5-9330-f9361e218db7\", \"gender\": \"Female\", \"age\": 65, \"department\": \"Pediatrics\", \"admission_time\": \"2025-09-21T10:05:08.349450\", \"discharge_time\": \"2025-09-21T23:05:08.349450\", \"bed_id\": 203, \"hospital_id\": 6}</td></tr><tr><td>{\"patient_id\": \"67af6069-b30a-4a38-a5e9-9c4bbe406243\", \"gender\": \"Female\", \"age\": 90, \"department\": \"Emergency\", \"admission_time\": \"2025-09-21T19:09:36.526256\", \"discharge_time\": \"2025-09-24T07:09:36.526256\", \"bed_id\": 211, \"hospital_id\": 2}</td></tr><tr><td>{\"patient_id\": \"36301bfd-4c43-4fa6-8eea-08cc02938ea2\", \"gender\": \"Female\", \"age\": 11, \"department\": \"Maternity\", \"admission_time\": \"2025-09-23T07:26:59.374259\", \"discharge_time\": \"2025-09-25T22:26:59.374259\", \"bed_id\": 360, \"hospital_id\": 4}</td></tr><tr><td>{\"patient_id\": \"739351a6-24a3-43c3-af0a-3d1d41b8db59\", \"gender\": \"Female\", \"age\": 20, \"department\": \"Cardiology\", \"admission_time\": \"2025-09-23T02:00:09.151156\", \"discharge_time\": \"2025-09-26T02:00:09.151156\", \"bed_id\": 234, \"hospital_id\": 5}</td></tr><tr><td>{\"patient_id\": \"b0837196-9869-4666-87ba-1bb7a87f3961\", \"gender\": \"Female\", \"age\": 37, \"department\": \"Pediatrics\", \"admission_time\": \"2025-09-20T10:06:40.412752\", \"discharge_time\": \"2025-09-20T22:06:40.412752\", \"bed_id\": 213, \"hospital_id\": 6}</td></tr><tr><td>{\"patient_id\": \"346619cc-3f61-443c-98e3-d08ba4a74bb3\", \"gender\": \"Female\", \"age\": 87, \"department\": \"Pediatrics\", \"admission_time\": \"2025-09-22T01:54:00.908527\", \"discharge_time\": \"2025-09-22T23:54:00.908527\", \"bed_id\": 173, \"hospital_id\": 2}</td></tr><tr><td>{\"patient_id\": \"9aad9200-e925-4259-96bf-8c74d7523b1e\", \"gender\": \"Female\", \"age\": 87, \"department\": \"Maternity\", \"admission_time\": \"2025-09-21T16:54:54.945498\", \"discharge_time\": \"2025-09-22T23:54:54.945498\", \"bed_id\": 254, \"hospital_id\": 1}</td></tr><tr><td>{\"patient_id\": \"199492d9-9845-43f3-a20e-bba3dab87a83\", \"gender\": \"Female\", \"age\": 16, \"department\": \"Emergency\", \"admission_time\": \"2025-09-20T19:07:52.463074\", \"discharge_time\": \"2025-09-22T23:07:52.463074\", \"bed_id\": 210, \"hospital_id\": 3}</td></tr><tr><td>{\"patient_id\": \"e8e61406-a7f4-4aed-a6fd-4e6ef2c9bb12\", \"gender\": \"Female\", \"age\": 19, \"department\": \"Pediatrics\", \"admission_time\": \"2025-09-22T02:08:05.471007\", \"discharge_time\": \"2025-09-22T09:08:05.471007\", \"bed_id\": 377, \"hospital_id\": 5}</td></tr><tr><td>{\"patient_id\": \"8905e0e6-3923-48f3-b4ab-1587641480a5\", \"gender\": \"Female\", \"age\": 10, \"department\": \"Cardiology\", \"admission_time\": \"2025-09-20T23:55:48.983465\", \"discharge_time\": \"2025-09-23T00:55:48.983465\", \"bed_id\": 322, \"hospital_id\": 3}</td></tr><tr><td>{\"patient_id\": \"152addb1-162d-4eec-ad72-7c98cef34089\", \"gender\": \"Female\", \"age\": 25, \"department\": \"Emergency\", \"admission_time\": \"2025-09-21T06:01:12.187486\", \"discharge_time\": \"2025-09-21T11:01:12.187486\", \"bed_id\": 448, \"hospital_id\": 7}</td></tr><tr><td>{\"patient_id\": \"b85d556d-bad7-490e-8c17-0fa17425c2df\", \"gender\": \"Female\", \"age\": 90, \"department\": \"Pediatrics\", \"admission_time\": \"2025-09-21T01:05:55.379833\", \"discharge_time\": \"2025-09-21T13:05:55.379833\", \"bed_id\": 487, \"hospital_id\": 5}</td></tr><tr><td>{\"patient_id\": \"84c284da-9b36-49d4-9810-a8e1791e1309\", \"gender\": \"Female\", \"age\": 47, \"department\": \"Pediatrics\", \"admission_time\": \"2025-09-20T09:04:06.307921\", \"discharge_time\": \"2025-09-21T18:04:06.307921\", \"bed_id\": 15, \"hospital_id\": 7}</td></tr><tr><td>{\"patient_id\": \"4faff738-6967-4731-8d8e-2c63c4a5b779\", \"gender\": \"Female\", \"age\": 11, \"department\": \"Maternity\", \"admission_time\": \"2025-09-21T04:53:16.880470\", \"discharge_time\": \"2025-09-23T18:53:16.880470\", \"bed_id\": 164, \"hospital_id\": 3}</td></tr><tr><td>{\"patient_id\": \"82eb120d-f37c-4717-bdd7-b6415301c959\", \"gender\": \"Female\", \"age\": 16, \"department\": \"Surgery\", \"admission_time\": \"2025-09-25T15:03:08.268167\", \"discharge_time\": \"2025-09-23T00:03:08.268096\", \"bed_id\": 136, \"hospital_id\": 3}</td></tr><tr><td>{\"patient_id\": \"513aae61-a8fb-4f79-ba7d-2d32a698e0c7\", \"gender\": \"Female\", \"age\": 72, \"department\": \"Cardiology\", \"admission_time\": \"2025-09-22T10:07:36.452187\", \"discharge_time\": \"2025-09-25T04:07:36.452187\", \"bed_id\": 272, \"hospital_id\": 6}</td></tr><tr><td>{\"patient_id\": \"b8a2cb13-e1bb-4817-87aa-b4b4819c82a3\", \"gender\": \"Female\", \"age\": 74, \"department\": \"Pediatrics\", \"admission_time\": \"2025-09-20T15:54:38.934513\", \"discharge_time\": \"2025-09-21T10:54:38.934513\", \"bed_id\": 203, \"hospital_id\": 4}</td></tr><tr><td>{\"patient_id\": \"5a375c3e-f860-4835-8d04-e6ce4dff03e4\", \"gender\": \"Female\", \"age\": 76, \"department\": \"Pediatrics\", \"admission_time\": \"2025-09-22T07:01:24.196123\", \"discharge_time\": \"2025-09-22T12:01:24.196123\", \"bed_id\": 280, \"hospital_id\": 2}</td></tr><tr><td>{\"patient_id\": \"b901d528-813b-4406-a795-9e56d338257a\", \"gender\": \"Female\", \"age\": 61, \"department\": \"Surgery\", \"admission_time\": \"2025-09-24T22:53:07.873731\", \"discharge_time\": \"2025-09-23T00:53:07.873660\", \"bed_id\": 202, \"hospital_id\": 5}</td></tr><tr><td>{\"patient_id\": \"98a67fc9-9710-4c53-a57c-946242bc2021\", \"gender\": \"Female\", \"age\": 71, \"department\": \"Surgery\", \"admission_time\": \"2025-09-24T18:01:48.213335\", \"discharge_time\": \"2025-09-25T09:01:48.213259\", \"bed_id\": 159, \"hospital_id\": 3}</td></tr><tr><td>{\"patient_id\": \"3ae63750-4c72-4150-89c1-3b743c435d75\", \"gender\": \"Female\", \"age\": 34, \"department\": \"Cardiology\", \"admission_time\": \"2025-09-20T22:03:54.299589\", \"discharge_time\": \"2025-09-20T23:03:54.299589\", \"bed_id\": 380, \"hospital_id\": 2}</td></tr><tr><td>{\"patient_id\": \"649aa8c4-1962-46fb-9eb7-bc3e42e040be\", \"gender\": \"Male\", \"age\": 91, \"department\": \"Cardiology\", \"admission_time\": \"2025-09-23T15:06:25.403282\", \"discharge_time\": \"2025-09-23T00:06:25.403204\", \"bed_id\": 385, \"hospital_id\": 3}</td></tr><tr><td>{\"patient_id\": \"bd978a7f-d50c-49cb-96bb-13841c36beaa\", \"gender\": \"Female\", \"age\": 20, \"department\": \"Pediatrics\", \"admission_time\": \"2025-09-22T05:08:49.495707\", \"discharge_time\": \"2025-09-23T23:08:49.495707\", \"bed_id\": 79, \"hospital_id\": 6}</td></tr><tr><td>{\"patient_id\": \"932c3910-7bab-48ae-b0a7-2985f71bf0f4\", \"gender\": \"Female\", \"age\": 49, \"department\": \"Pediatrics\", \"admission_time\": \"2025-09-21T06:56:19.002586\", \"discharge_time\": \"2025-09-21T11:56:19.002586\", \"bed_id\": 279, \"hospital_id\": 5}</td></tr><tr><td>{\"patient_id\": \"5c0adf72-fa1f-4700-804a-7f0f021f5d6f\", \"gender\": \"Female\", \"age\": 29, \"department\": \"Cardiology\", \"admission_time\": \"2025-09-20T11:56:23.005634\", \"discharge_time\": \"2025-09-20T20:56:23.005634\", \"bed_id\": 274, \"hospital_id\": 7}</td></tr><tr><td>{\"patient_id\": \"956c30bc-24e5-4560-8898-e4a4126925a1\", \"gender\": \"Female\", \"age\": 108, \"department\": \"Maternity\", \"admission_time\": \"2025-09-23T07:07:09.431571\", \"discharge_time\": \"2025-09-24T04:07:09.431571\", \"bed_id\": 448, \"hospital_id\": 4}</td></tr><tr><td>{\"patient_id\": \"6854afc0-8759-4e31-b15d-318aa2ef3cf7\", \"gender\": \"Female\", \"age\": 133, \"department\": \"Emergency\", \"admission_time\": \"2025-09-22T07:09:47.533399\", \"discharge_time\": \"2025-09-22T13:09:47.533399\", \"bed_id\": 321, \"hospital_id\": 7}</td></tr><tr><td>{\"patient_id\": \"14a68edc-c4b1-4f23-b363-f28361ff5ebb\", \"gender\": \"Female\", \"age\": 80, \"department\": \"Maternity\", \"admission_time\": \"2025-09-22T07:06:37.410139\", \"discharge_time\": \"2025-09-22T08:06:37.410139\", \"bed_id\": 151, \"hospital_id\": 5}</td></tr><tr><td>{\"patient_id\": \"fe956d98-e4be-477e-85d0-4ae5c9dbe5b2\", \"gender\": \"Female\", \"age\": 54, \"department\": \"Surgery\", \"admission_time\": \"2025-09-21T21:08:40.491262\", \"discharge_time\": \"2025-09-24T03:08:40.491262\", \"bed_id\": 416, \"hospital_id\": 4}</td></tr><tr><td>{\"patient_id\": \"46bb7a62-ab97-448e-9b29-782f9021d7d1\", \"gender\": \"Male\", \"age\": 27, \"department\": \"Pediatrics\", \"admission_time\": \"2025-09-21T16:53:33.891331\", \"discharge_time\": \"2025-09-23T04:53:33.891331\", \"bed_id\": 333, \"hospital_id\": 1}</td></tr><tr><td>{\"patient_id\": \"a5fbc59b-da9c-4de2-9227-078c9a64c03f\", \"gender\": \"Female\", \"age\": 15, \"department\": \"Surgery\", \"admission_time\": \"2025-09-20T16:09:17.515269\", \"discharge_time\": \"2025-09-22T10:09:17.515269\", \"bed_id\": 109, \"hospital_id\": 7}</td></tr><tr><td>{\"patient_id\": \"8dc0c919-b94d-4f60-ae63-700a7161bddc\", \"gender\": \"Female\", \"age\": 67, \"department\": \"Cardiology\", \"admission_time\": \"2025-09-21T02:26:33.357009\", \"discharge_time\": \"2025-09-24T02:26:33.357009\", \"bed_id\": 282, \"hospital_id\": 7}</td></tr><tr><td>{\"patient_id\": \"44c78223-4087-47bc-bb0d-43f0a45ee7a6\", \"gender\": \"Female\", \"age\": 52, \"department\": \"Oncology\", \"admission_time\": \"2025-09-23T00:08:08.473590\", \"discharge_time\": \"2025-09-25T21:08:08.473590\", \"bed_id\": 350, \"hospital_id\": 3}</td></tr><tr><td>{\"patient_id\": \"7866ebca-0bfe-4823-ac36-57051569210a\", \"gender\": \"Male\", \"age\": 90, \"department\": \"Cardiology\", \"admission_time\": \"2025-09-21T10:57:13.039533\", \"discharge_time\": \"2025-09-24T10:57:13.039533\", \"bed_id\": 128, \"hospital_id\": 3}</td></tr><tr><td>{\"patient_id\": \"74a6f85d-0cf9-4a4a-91fe-f1fa0562eb7a\", \"gender\": \"Female\", \"age\": 28, \"department\": \"Emergency\", \"admission_time\": \"2025-09-20T13:52:59.866314\", \"discharge_time\": \"2025-09-20T21:52:59.866314\", \"bed_id\": 217, \"hospital_id\": 4}</td></tr><tr><td>{\"patient_id\": \"4e0a43d7-48e4-4867-8f5c-be2a273feff4\", \"gender\": \"Female\", \"age\": 42, \"department\": \"Oncology\", \"admission_time\": \"2025-09-20T19:58:52.101184\", \"discharge_time\": \"2025-09-23T19:58:52.101184\", \"bed_id\": 139, \"hospital_id\": 3}</td></tr><tr><td>{\"patient_id\": \"7374e360-394a-44b2-8340-2c8f6ea685f2\", \"gender\": \"Male\", \"age\": 97, \"department\": \"Cardiology\", \"admission_time\": \"2025-09-21T09:08:07.471900\", \"discharge_time\": \"2025-09-22T16:08:07.471900\", \"bed_id\": 443, \"hospital_id\": 5}</td></tr><tr><td>{\"patient_id\": \"2670a0ed-9a5f-4680-9e42-2079cb70dc0a\", \"gender\": \"Female\", \"age\": 94, \"department\": \"Surgery\", \"admission_time\": \"2025-09-22T07:02:41.250207\", \"discharge_time\": \"2025-09-23T11:02:41.250207\", \"bed_id\": 410, \"hospital_id\": 2}</td></tr><tr><td>{\"patient_id\": \"fb8b12da-74bb-41d4-a9d1-f0f54f3c7a8a\", \"gender\": \"Male\", \"age\": 54, \"department\": \"Cardiology\", \"admission_time\": \"2025-09-20T12:52:50.859948\", \"discharge_time\": \"2025-09-23T10:52:50.859948\", \"bed_id\": 496, \"hospital_id\": 4}</td></tr><tr><td>{\"patient_id\": \"a74d94af-ab12-4081-a08f-c84dc6744e20\", \"gender\": \"Female\", \"age\": 41, \"department\": \"Cardiology\", \"admission_time\": \"2025-09-21T23:05:46.372920\", \"discharge_time\": \"2025-09-23T03:05:46.372920\", \"bed_id\": 161, \"hospital_id\": 2}</td></tr><tr><td>{\"patient_id\": \"7437ffc8-bc0b-4adb-b9c6-0651532ddb60\", \"gender\": \"Female\", \"age\": 23, \"department\": \"Oncology\", \"admission_time\": \"2025-09-22T13:56:31.011697\", \"discharge_time\": \"2025-09-25T05:56:31.011697\", \"bed_id\": 250, \"hospital_id\": 5}</td></tr><tr><td>{\"patient_id\": \"c5cfd05d-3c8d-47f5-a5dd-da3015366ad4\", \"gender\": \"Female\", \"age\": 67, \"department\": \"Maternity\", \"admission_time\": \"2025-09-23T02:02:16.232478\", \"discharge_time\": \"2025-09-23T11:02:16.232478\", \"bed_id\": 279, \"hospital_id\": 2}</td></tr><tr><td>{\"patient_id\": \"80d5905c-4c4c-4ff6-ba7f-0577491e45e0\", \"gender\": \"Female\", \"age\": 61, \"department\": \"Emergency\", \"admission_time\": \"2025-09-20T09:09:10.509184\", \"discharge_time\": \"2025-09-20T22:09:10.509184\", \"bed_id\": 140, \"hospital_id\": 6}</td></tr><tr><td>{\"patient_id\": \"9c8cfe0d-6874-4bee-ad60-48305d5b6321\", \"gender\": \"Female\", \"age\": 93, \"department\": \"Maternity\", \"admission_time\": \"2025-09-21T06:08:52.497049\", \"discharge_time\": \"2025-09-21T10:08:52.497049\", \"bed_id\": 295, \"hospital_id\": 4}</td></tr><tr><td>{\"patient_id\": \"572e865d-3bb6-452f-808c-f0928433848b\", \"gender\": \"Female\", \"age\": 87, \"department\": \"Cardiology\", \"admission_time\": \"2025-09-21T03:54:19.921519\", \"discharge_time\": \"2025-09-23T00:54:19.921519\", \"bed_id\": 47, \"hospital_id\": 6}</td></tr><tr><td>{\"patient_id\": \"976f75b4-36bc-4524-9943-ad62dadb952e\", \"gender\": \"Female\", \"age\": 79, \"department\": \"Emergency\", \"admission_time\": \"2025-09-22T02:05:57.381230\", \"discharge_time\": \"2025-09-22T14:05:57.381230\", \"bed_id\": 313, \"hospital_id\": 3}</td></tr><tr><td>{\"patient_id\": \"db94f637-b7b1-4008-880d-a80917d6b8f6\", \"gender\": \"Female\", \"age\": 79, \"department\": \"Pediatrics\", \"admission_time\": \"2025-09-21T00:55:01.950229\", \"discharge_time\": \"2025-09-23T00:55:01.950229\", \"bed_id\": 247, \"hospital_id\": 6}</td></tr><tr><td>{\"patient_id\": \"b68c8653-5f4a-46b0-a4a6-8b8a5c4bcc4d\", \"gender\": \"Female\", \"age\": 77, \"department\": \"Maternity\", \"admission_time\": \"2025-09-20T09:01:22.194763\", \"discharge_time\": \"2025-09-20T22:01:22.194763\", \"bed_id\": 251, \"hospital_id\": 3}</td></tr><tr><td>{\"patient_id\": \"9d4b1f8e-7036-46d2-bce6-86c40e8df603\", \"gender\": \"Female\", \"age\": 18, \"department\": \"Oncology\", \"admission_time\": \"2025-09-25T01:10:11.549928\", \"discharge_time\": \"2025-09-24T14:10:11.549852\", \"bed_id\": 62, \"hospital_id\": 4}</td></tr><tr><td>{\"patient_id\": \"1dc97efe-7221-4d8c-83f4-49a2d880dea0\", \"gender\": \"Female\", \"age\": 10, \"department\": \"Surgery\", \"admission_time\": \"2025-09-24T08:56:04.994963\", \"discharge_time\": \"2025-09-23T19:56:04.994889\", \"bed_id\": 115, \"hospital_id\": 4}</td></tr><tr><td>{\"patient_id\": \"2306b5c9-186e-4a2a-b530-01a6d9678e74\", \"gender\": \"Female\", \"age\": 62, \"department\": \"Cardiology\", \"admission_time\": \"2025-09-20T10:05:56.380281\", \"discharge_time\": \"2025-09-23T10:05:56.380281\", \"bed_id\": 115, \"hospital_id\": 4}</td></tr><tr><td>{\"patient_id\": \"4e741c18-163d-420f-869d-a2204752d507\", \"gender\": \"Male\", \"age\": 72, \"department\": \"Cardiology\", \"admission_time\": \"2025-09-21T09:01:33.203245\", \"discharge_time\": \"2025-09-23T08:01:33.203245\", \"bed_id\": 238, \"hospital_id\": 4}</td></tr><tr><td>{\"patient_id\": \"de60a05a-e8da-435d-af7f-d23f842929b4\", \"gender\": \"Female\", \"age\": 27, \"department\": \"Maternity\", \"admission_time\": \"2025-09-20T16:02:13.231175\", \"discharge_time\": \"2025-09-20T20:02:13.231175\", \"bed_id\": 311, \"hospital_id\": 2}</td></tr><tr><td>{\"patient_id\": \"2b1f0143-3ca0-4ee2-ba69-80df9a5d6665\", \"gender\": \"Female\", \"age\": 33, \"department\": \"ICU\", \"admission_time\": \"2025-09-23T04:56:56.027047\", \"discharge_time\": \"2025-09-25T18:56:56.027047\", \"bed_id\": 249, \"hospital_id\": 1}</td></tr><tr><td>{\"patient_id\": \"13c81f55-c866-4dd7-b910-fe3aad1bb839\", \"gender\": \"Male\", \"age\": 42, \"department\": \"Cardiology\", \"admission_time\": \"2025-09-22T22:04:34.328608\", \"discharge_time\": \"2025-09-25T18:04:34.328608\", \"bed_id\": 270, \"hospital_id\": 2}</td></tr><tr><td>{\"patient_id\": \"e0e9fbb1-28f2-4ca9-96b3-0954ffce041e\", \"gender\": \"Female\", \"age\": 27, \"department\": \"Emergency\", \"admission_time\": \"2025-09-21T09:57:17.042222\", \"discharge_time\": \"2025-09-21T18:57:17.042222\", \"bed_id\": 338, \"hospital_id\": 3}</td></tr><tr><td>{\"patient_id\": \"03a32649-7eb5-4a5c-bc82-09fc37580f52\", \"gender\": \"Female\", \"age\": 109, \"department\": \"Surgery\", \"admission_time\": \"2025-09-22T15:56:57.027504\", \"discharge_time\": \"2025-09-23T17:56:57.027504\", \"bed_id\": 281, \"hospital_id\": 6}</td></tr><tr><td>{\"patient_id\": \"65e9064a-6fec-4883-bd22-fd786569c671\", \"gender\": \"Female\", \"age\": 92, \"department\": \"Pediatrics\", \"admission_time\": \"2025-09-21T15:07:08.430778\", \"discharge_time\": \"2025-09-24T15:07:08.430778\", \"bed_id\": 311, \"hospital_id\": 5}</td></tr><tr><td>{\"patient_id\": \"a07bf4d7-2a4c-46a3-b5a5-7e93f3861cdc\", \"gender\": \"Male\", \"age\": 21, \"department\": \"Cardiology\", \"admission_time\": \"2025-09-21T23:58:51.100174\", \"discharge_time\": \"2025-09-23T17:58:51.100174\", \"bed_id\": 187, \"hospital_id\": 1}</td></tr><tr><td>{\"patient_id\": \"c5b1c222-1224-4ee0-97f7-47d6efcdd08a\", \"gender\": \"Female\", \"age\": 30, \"department\": \"Oncology\", \"admission_time\": \"2025-09-21T20:04:21.320339\", \"discharge_time\": \"2025-09-24T04:04:21.320339\", \"bed_id\": 418, \"hospital_id\": 1}</td></tr><tr><td>{\"patient_id\": \"05645f17-609b-4c4e-acce-e9d59e6781b6\", \"gender\": \"Female\", \"age\": 56, \"department\": \"Emergency\", \"admission_time\": \"2025-09-22T18:58:17.078876\", \"discharge_time\": \"2025-09-25T11:58:17.078876\", \"bed_id\": 256, \"hospital_id\": 2}</td></tr><tr><td>{\"patient_id\": \"7d710108-c557-4f25-95f9-99ccbdc69562\", \"gender\": \"Female\", \"age\": 92, \"department\": \"Pediatrics\", \"admission_time\": \"2025-09-20T12:03:30.283620\", \"discharge_time\": \"2025-09-23T12:03:30.283620\", \"bed_id\": 363, \"hospital_id\": 1}</td></tr><tr><td>{\"patient_id\": \"4e97516c-3b2c-4229-950b-fcc8b742e9ff\", \"gender\": \"Female\", \"age\": 60, \"department\": \"Emergency\", \"admission_time\": \"2025-09-23T03:56:24.006411\", \"discharge_time\": \"2025-09-23T18:56:24.006411\", \"bed_id\": 478, \"hospital_id\": 4}</td></tr><tr><td>{\"patient_id\": \"6af1b81d-6144-42f8-8001-6552a62a256b\", \"gender\": \"Female\", \"age\": 84, \"department\": \"Pediatrics\", \"admission_time\": \"2025-09-22T00:00:06.149119\", \"discharge_time\": \"2025-09-24T00:00:06.149119\", \"bed_id\": 146, \"hospital_id\": 1}</td></tr><tr><td>{\"patient_id\": \"c81fe5d4-4739-4dba-840b-3200e8ed0e6f\", \"gender\": \"Male\", \"age\": 90, \"department\": \"Cardiology\", \"admission_time\": \"2025-09-20T19:59:06.110783\", \"discharge_time\": \"2025-09-22T15:59:06.110783\", \"bed_id\": 458, \"hospital_id\": 4}</td></tr><tr><td>{\"patient_id\": \"d846b610-3c0a-4523-8368-2aebf4eff3c5\", \"gender\": \"Female\", \"age\": 99, \"department\": \"Pediatrics\", \"admission_time\": \"2025-09-23T04:01:16.190364\", \"discharge_time\": \"2025-09-23T05:01:16.190364\", \"bed_id\": 461, \"hospital_id\": 7}</td></tr><tr><td>{\"patient_id\": \"49daf154-2ba5-4a2b-aa69-ecee0016fc64\", \"gender\": \"Female\", \"age\": 18, \"department\": \"Oncology\", \"admission_time\": \"2025-09-20T13:00:13.152938\", \"discharge_time\": \"2025-09-21T08:00:13.152938\", \"bed_id\": 448, \"hospital_id\": 6}</td></tr><tr><td>{\"patient_id\": \"e85e27c7-bb3e-4da9-b770-4742de208bb8\", \"gender\": \"Female\", \"age\": 14, \"department\": \"Maternity\", \"admission_time\": \"2025-09-22T06:55:04.954089\", \"discharge_time\": \"2025-09-22T14:55:04.954089\", \"bed_id\": 116, \"hospital_id\": 5}</td></tr><tr><td>{\"patient_id\": \"35b50201-cd57-42f8-9ffc-575283d81ec7\", \"gender\": \"Female\", \"age\": 18, \"department\": \"Surgery\", \"admission_time\": \"2025-09-22T19:06:03.385104\", \"discharge_time\": \"2025-09-24T00:06:03.385104\", \"bed_id\": 208, \"hospital_id\": 4}</td></tr><tr><td>{\"patient_id\": \"2a625d5f-d42d-4a1c-9b87-41c400d21436\", \"gender\": \"Female\", \"age\": 97, \"department\": \"Surgery\", \"admission_time\": \"2025-09-21T15:26:56.372426\", \"discharge_time\": \"2025-09-22T14:26:56.372426\", \"bed_id\": 304, \"hospital_id\": 4}</td></tr><tr><td>{\"patient_id\": \"12ee598e-5b96-4dcf-b3ac-3996aac215a5\", \"gender\": \"Female\", \"age\": 91, \"department\": \"Oncology\", \"admission_time\": \"2025-09-22T21:03:29.282651\", \"discharge_time\": \"2025-09-24T06:03:29.282651\", \"bed_id\": 163, \"hospital_id\": 1}</td></tr><tr><td>{\"patient_id\": \"e0da5a1e-651d-474e-a393-de91a23cc496\", \"gender\": \"Male\", \"age\": 90, \"department\": \"Pediatrics\", \"admission_time\": \"2025-09-21T00:06:39.411465\", \"discharge_time\": \"2025-09-22T00:06:39.411465\", \"bed_id\": 420, \"hospital_id\": 1}</td></tr><tr><td>{\"patient_id\": \"d0911454-e6c5-4cc3-8109-04298fbdf373\", \"gender\": \"Female\", \"age\": 62, \"department\": \"Oncology\", \"admission_time\": \"2025-09-22T20:00:03.147090\", \"discharge_time\": \"2025-09-23T03:00:03.147090\", \"bed_id\": 135, \"hospital_id\": 2}</td></tr><tr><td>{\"patient_id\": \"0e026e9c-db85-48f0-a2e8-9f1375e861d7\", \"gender\": \"Male\", \"age\": 48, \"department\": \"Pediatrics\", \"admission_time\": \"2025-09-21T04:54:42.936993\", \"discharge_time\": \"2025-09-22T16:54:42.936993\", \"bed_id\": 389, \"hospital_id\": 2}</td></tr><tr><td>{\"patient_id\": \"62cb6510-b7e5-4b1f-ad6c-25d6f4af5944\", \"gender\": \"Female\", \"age\": 56, \"department\": \"Maternity\", \"admission_time\": \"2025-09-21T04:58:58.105631\", \"discharge_time\": \"2025-09-21T05:58:58.105631\", \"bed_id\": 334, \"hospital_id\": 7}</td></tr><tr><td>{\"patient_id\": \"77fc8e3e-efa4-4729-960a-4ecaa8511266\", \"gender\": \"Male\", \"age\": 62, \"department\": \"Pediatrics\", \"admission_time\": \"2025-09-22T08:00:43.171096\", \"discharge_time\": \"2025-09-23T15:00:43.171096\", \"bed_id\": 366, \"hospital_id\": 2}</td></tr><tr><td>{\"patient_id\": \"ba6d781b-bbc0-4b27-9be1-6107e3cb6a27\", \"gender\": \"Male\", \"age\": 83, \"department\": \"Cardiology\", \"admission_time\": \"2025-09-23T02:06:16.395481\", \"discharge_time\": \"2025-09-24T10:06:16.395481\", \"bed_id\": 128, \"hospital_id\": 3}</td></tr><tr><td>{\"patient_id\": \"0265cc8f-ebe1-4f69-ab52-9a0b620781d8\", \"gender\": \"Female\", \"age\": 44, \"department\": \"Oncology\", \"admission_time\": \"2025-09-22T19:57:45.058576\", \"discharge_time\": \"2025-09-23T03:57:45.058576\", \"bed_id\": 453, \"hospital_id\": 7}</td></tr><tr><td>{\"patient_id\": \"1a12ef62-dd6a-47c9-ac0e-5e1f2f68c645\", \"gender\": \"Male\", \"age\": 81, \"department\": \"Pediatrics\", \"admission_time\": \"2025-09-20T17:05:24.359163\", \"discharge_time\": \"2025-09-23T16:05:24.359163\", \"bed_id\": 408, \"hospital_id\": 6}</td></tr><tr><td>{\"patient_id\": \"17bb67e1-21a0-4665-9bc3-b29dbc4eb08a\", \"gender\": \"Male\", \"age\": 86, \"department\": \"Cardiology\", \"admission_time\": \"2025-09-21T11:53:09.874738\", \"discharge_time\": \"2025-09-23T05:53:09.874738\", \"bed_id\": 335, \"hospital_id\": 1}</td></tr><tr><td>{\"patient_id\": \"1ec7eb14-8bdc-4bcd-91a9-273981f2f0a4\", \"gender\": \"Female\", \"age\": 145, \"department\": \"Surgery\", \"admission_time\": \"2025-09-20T08:57:31.050029\", \"discharge_time\": \"2025-09-21T00:57:31.050029\", \"bed_id\": 159, \"hospital_id\": 6}</td></tr><tr><td>{\"patient_id\": \"75df2a54-929e-4bfa-a900-1b8a36039450\", \"gender\": \"Female\", \"age\": 80, \"department\": \"Oncology\", \"admission_time\": \"2025-09-20T15:26:31.356102\", \"discharge_time\": \"2025-09-22T14:26:31.356102\", \"bed_id\": 238, \"hospital_id\": 2}</td></tr><tr><td>{\"patient_id\": \"4c4f4335-7441-4603-94ec-1f0a5f06da53\", \"gender\": \"Male\", \"age\": 42, \"department\": \"Cardiology\", \"admission_time\": \"2025-09-21T10:01:44.211276\", \"discharge_time\": \"2025-09-22T06:01:44.211276\", \"bed_id\": 254, \"hospital_id\": 6}</td></tr><tr><td>{\"patient_id\": \"e0d44a97-628b-41e8-8d2d-74a6a1096179\", \"gender\": \"Female\", \"age\": 51, \"department\": \"Oncology\", \"admission_time\": \"2025-09-20T11:58:26.085189\", \"discharge_time\": \"2025-09-21T21:58:26.085189\", \"bed_id\": 439, \"hospital_id\": 1}</td></tr><tr><td>{\"patient_id\": \"d9863561-7643-4a18-8c66-ea6d2a430c8c\", \"gender\": \"Female\", \"age\": 69, \"department\": \"Oncology\", \"admission_time\": \"2025-09-22T08:06:43.414658\", \"discharge_time\": \"2025-09-24T19:06:43.414658\", \"bed_id\": 257, \"hospital_id\": 1}</td></tr><tr><td>{\"patient_id\": \"ad838de2-871f-4074-b01d-a9776aa32656\", \"gender\": \"Female\", \"age\": 92, \"department\": \"Maternity\", \"admission_time\": \"2025-09-22T08:07:48.460609\", \"discharge_time\": \"2025-09-25T05:07:48.460609\", \"bed_id\": 178, \"hospital_id\": 5}</td></tr><tr><td>{\"patient_id\": \"2d3c167f-1254-4ca8-be15-a6a1e57e1f97\", \"gender\": \"Female\", \"age\": 34, \"department\": \"Oncology\", \"admission_time\": \"2025-09-20T13:56:41.017239\", \"discharge_time\": \"2025-09-22T16:56:41.017239\", \"bed_id\": 402, \"hospital_id\": 1}</td></tr><tr><td>{\"patient_id\": \"991c4adc-7614-49b4-8403-5541ce1f7ec0\", \"gender\": \"Female\", \"age\": 54, \"department\": \"Oncology\", \"admission_time\": \"2025-09-22T03:55:34.974999\", \"discharge_time\": \"2025-09-25T01:55:34.974999\", \"bed_id\": 321, \"hospital_id\": 5}</td></tr><tr><td>{\"patient_id\": \"5d2307cc-9662-45df-bf10-f3e444b4471a\", \"gender\": \"Male\", \"age\": 10, \"department\": \"Pediatrics\", \"admission_time\": \"2025-09-22T04:04:46.337139\", \"discharge_time\": \"2025-09-24T20:04:46.337139\", \"bed_id\": 394, \"hospital_id\": 2}</td></tr><tr><td>{\"patient_id\": \"1123b240-e60a-483b-9ff8-f2147b44067b\", \"gender\": \"Male\", \"age\": 66, \"department\": \"Cardiology\", \"admission_time\": \"2025-09-22T10:59:57.144142\", \"discharge_time\": \"2025-09-23T00:59:57.144142\", \"bed_id\": 283, \"hospital_id\": 3}</td></tr><tr><td>{\"patient_id\": \"7d67387a-3d9c-4152-affb-a912562806df\", \"gender\": \"Male\", \"age\": 97, \"department\": \"Pediatrics\", \"admission_time\": \"2025-09-22T23:53:52.902625\", \"discharge_time\": \"2025-09-24T18:53:52.902625\", \"bed_id\": 460, \"hospital_id\": 4}</td></tr><tr><td>{\"patient_id\": \"856fb6be-e788-4f77-b7bb-c80a1559687a\", \"gender\": \"Female\", \"age\": 31, \"department\": \"Emergency\", \"admission_time\": \"2025-09-21T14:09:20.516664\", \"discharge_time\": \"2025-09-21T17:09:20.516664\", \"bed_id\": 322, \"hospital_id\": 4}</td></tr><tr><td>{\"patient_id\": \"a272e09e-afc4-48a9-8fd0-5485289106c3\", \"gender\": \"Male\", \"age\": 70, \"department\": \"Pediatrics\", \"admission_time\": \"2025-09-21T13:10:14.551182\", \"discharge_time\": \"2025-09-22T05:10:14.551182\", \"bed_id\": 294, \"hospital_id\": 2}</td></tr><tr><td>{\"patient_id\": \"ad8ec2d2-715e-48cf-80a0-85ef61b2154b\", \"gender\": \"Female\", \"age\": 88, \"department\": \"Oncology\", \"admission_time\": \"2025-09-20T12:52:57.865066\", \"discharge_time\": \"2025-09-22T05:52:57.865066\", \"bed_id\": 245, \"hospital_id\": 3}</td></tr><tr><td>{\"patient_id\": \"db378c0b-f224-4bf2-a8f3-74d0be5537df\", \"gender\": \"Male\", \"age\": 58, \"department\": \"Pediatrics\", \"admission_time\": \"2025-09-23T04:05:27.360865\", \"discharge_time\": \"2025-09-25T07:05:27.360865\", \"bed_id\": 215, \"hospital_id\": 1}</td></tr><tr><td>{\"patient_id\": \"f685f305-4fb6-418e-9227-22ec360c6099\", \"gender\": \"Female\", \"age\": 92, \"department\": \"Emergency\", \"admission_time\": \"2025-09-23T03:07:50.461594\", \"discharge_time\": \"2025-09-23T05:07:50.461594\", \"bed_id\": 324, \"hospital_id\": 5}</td></tr><tr><td>{\"patient_id\": \"adf72c6f-bdcc-40ab-bcc9-50210d5b2ef2\", \"gender\": \"Male\", \"age\": 42, \"department\": \"Pediatrics\", \"admission_time\": \"2025-09-23T05:57:34.051581\", \"discharge_time\": \"2025-09-25T05:57:34.051581\", \"bed_id\": 162, \"hospital_id\": 5}</td></tr><tr><td>{\"patient_id\": \"1b88eb9d-de51-4912-aa36-44ed88db9aa6\", \"gender\": \"Male\", \"age\": 93, \"department\": \"Pediatrics\", \"admission_time\": \"2025-09-22T21:00:49.174299\", \"discharge_time\": \"2025-09-23T20:00:49.174299\", \"bed_id\": 480, \"hospital_id\": 7}</td></tr><tr><td>{\"patient_id\": \"3b9baade-f6fa-4ffa-9d2f-d8c06219e1b5\", \"gender\": \"Female\", \"age\": 15, \"department\": \"Oncology\", \"admission_time\": \"2025-09-21T06:26:20.348072\", \"discharge_time\": \"2025-09-23T19:26:20.348072\", \"bed_id\": 270, \"hospital_id\": 1}</td></tr><tr><td>{\"patient_id\": \"c3fc4849-9720-4e6b-9670-cc00c8f2011f\", \"gender\": \"Male\", \"age\": 41, \"department\": \"Cardiology\", \"admission_time\": \"2025-09-22T18:01:28.199927\", \"discharge_time\": \"2025-09-23T16:01:28.199927\", \"bed_id\": 495, \"hospital_id\": 3}</td></tr><tr><td>{\"patient_id\": \"622bdd76-3cdf-4382-b52a-92cc15fa043c\", \"gender\": \"Female\", \"age\": 93, \"department\": \"Oncology\", \"admission_time\": \"2025-09-21T23:04:36.330345\", \"discharge_time\": \"2025-09-24T22:04:36.330345\", \"bed_id\": 110, \"hospital_id\": 2}</td></tr><tr><td>{\"patient_id\": \"e72a9aaa-ee4d-45c9-8c95-45ad31c06281\", \"gender\": \"Female\", \"age\": 115, \"department\": \"Surgery\", \"admission_time\": \"2025-09-20T15:01:09.185913\", \"discharge_time\": \"2025-09-23T04:01:09.185913\", \"bed_id\": 260, \"hospital_id\": 3}</td></tr><tr><td>{\"patient_id\": \"f68b84d6-9514-4ca7-977d-77a32dc46795\", \"gender\": \"Female\", \"age\": 81, \"department\": \"Oncology\", \"admission_time\": \"2025-09-20T13:02:50.256118\", \"discharge_time\": \"2025-09-21T21:02:50.256118\", \"bed_id\": 309, \"hospital_id\": 4}</td></tr><tr><td>{\"patient_id\": \"603a12e6-7dfe-42b6-a9f1-9bdb7d56e28c\", \"gender\": \"Female\", \"age\": 47, \"department\": \"Oncology\", \"admission_time\": \"2025-09-25T14:01:41.209674\", \"discharge_time\": \"2025-09-24T07:01:41.209604\", \"bed_id\": 22, \"hospital_id\": 7}</td></tr><tr><td>{\"patient_id\": \"22abe0f7-37b1-451c-8177-f9e85b1275da\", \"gender\": \"Female\", \"age\": 53, \"department\": \"Oncology\", \"admission_time\": \"2025-09-22T23:03:05.265856\", \"discharge_time\": \"2025-09-25T21:03:05.265856\", \"bed_id\": 198, \"hospital_id\": 6}</td></tr><tr><td>{\"patient_id\": \"f49e5e8e-d585-4d37-b1d9-339995196794\", \"gender\": \"Female\", \"age\": 52, \"department\": \"Oncology\", \"admission_time\": \"2025-09-22T13:01:42.210309\", \"discharge_time\": \"2025-09-23T05:01:42.210309\", \"bed_id\": 145, \"hospital_id\": 1}</td></tr><tr><td>{\"patient_id\": \"3d546c5e-3c4d-4286-bbf6-725e3fbf0af1\", \"gender\": \"Male\", \"age\": 46, \"department\": \"Cardiology\", \"admission_time\": \"2025-09-22T19:59:41.133168\", \"discharge_time\": \"2025-09-24T08:59:41.133168\", \"bed_id\": 462, \"hospital_id\": 6}</td></tr><tr><td>{\"patient_id\": \"c124525b-3c62-4fef-91db-110aba7d98ef\", \"gender\": \"Female\", \"age\": 73, \"department\": \"Oncology\", \"admission_time\": \"2025-09-22T19:53:24.885200\", \"discharge_time\": \"2025-09-25T16:53:24.885200\", \"bed_id\": 221, \"hospital_id\": 2}</td></tr><tr><td>{\"patient_id\": \"408f59ab-6445-402d-b6a3-68a937ae8732\", \"gender\": \"Male\", \"age\": 74, \"department\": \"Pediatrics\", \"admission_time\": \"2025-09-20T23:10:41.572452\", \"discharge_time\": \"2025-09-21T23:10:41.572452\", \"bed_id\": 129, \"hospital_id\": 5}</td></tr><tr><td>{\"patient_id\": \"5c6e9343-12cc-4894-89d7-02a18409277b\", \"gender\": \"Male\", \"age\": 84, \"department\": \"Pediatrics\", \"admission_time\": \"2025-09-21T14:06:09.389585\", \"discharge_time\": \"2025-09-22T14:06:09.389585\", \"bed_id\": 424, \"hospital_id\": 7}</td></tr><tr><td>{\"patient_id\": \"247e6123-c733-474f-96b1-a89b697395a1\", \"gender\": \"Male\", \"age\": 43, \"department\": \"Cardiology\", \"admission_time\": \"2025-09-20T08:09:37.527188\", \"discharge_time\": \"2025-09-22T21:09:37.527188\", \"bed_id\": 294, \"hospital_id\": 5}</td></tr><tr><td>{\"patient_id\": \"799c5acf-ec60-4223-bd22-c348fac8150f\", \"gender\": \"Female\", \"age\": 65, \"department\": \"Oncology\", \"admission_time\": \"2025-09-22T15:58:24.083773\", \"discharge_time\": \"2025-09-23T20:58:24.083773\", \"bed_id\": 310, \"hospital_id\": 6}</td></tr><tr><td>{\"patient_id\": \"9698cf9b-0a0a-4dca-8c88-ce62f55f418a\", \"gender\": \"Female\", \"age\": 77, \"department\": \"Oncology\", \"admission_time\": \"2025-09-21T08:57:15.040404\", \"discharge_time\": \"2025-09-23T23:57:15.040404\", \"bed_id\": 260, \"hospital_id\": 6}</td></tr><tr><td>{\"patient_id\": \"61223b0f-d78c-4d9b-afa2-8da8c1e40caa\", \"gender\": \"Male\", \"age\": 30, \"department\": \"Pediatrics\", \"admission_time\": \"2025-09-21T08:55:13.960093\", \"discharge_time\": \"2025-09-23T18:55:13.960093\", \"bed_id\": 200, \"hospital_id\": 7}</td></tr><tr><td>{\"patient_id\": \"b240ab3e-7375-49ce-be69-5bc7511f5c24\", \"gender\": \"Female\", \"age\": 76, \"department\": \"Maternity\", \"admission_time\": \"2025-09-22T21:58:09.074497\", \"discharge_time\": \"2025-09-22T22:58:09.074497\", \"bed_id\": 282, \"hospital_id\": 4}</td></tr><tr><td>{\"patient_id\": \"ba251406-eaca-41e9-80ab-08c4f6961ec7\", \"gender\": \"Male\", \"age\": 55, \"department\": \"Pediatrics\", \"admission_time\": \"2025-09-22T18:57:12.038193\", \"discharge_time\": \"2025-09-25T03:57:12.038193\", \"bed_id\": 429, \"hospital_id\": 6}</td></tr><tr><td>{\"patient_id\": \"e6f95c7a-a079-4b90-8a3e-4b53bab9ae06\", \"gender\": \"Male\", \"age\": 75, \"department\": \"Pediatrics\", \"admission_time\": \"2025-09-22T17:07:28.444357\", \"discharge_time\": \"2025-09-25T09:07:28.444357\", \"bed_id\": 246, \"hospital_id\": 7}</td></tr><tr><td>{\"patient_id\": \"1a0a78ab-8692-4ef4-9924-3339214d715c\", \"gender\": \"Female\", \"age\": 116, \"department\": \"Surgery\", \"admission_time\": \"2025-09-21T03:26:21.348656\", \"discharge_time\": \"2025-09-22T12:26:21.348656\", \"bed_id\": 162, \"hospital_id\": 5}</td></tr><tr><td>{\"patient_id\": \"8e1cd2d0-b831-4e54-8d3a-c6ab3baa2428\", \"gender\": \"Female\", \"age\": 44, \"department\": \"Emergency\", \"admission_time\": \"2025-09-21T11:59:03.109419\", \"discharge_time\": \"2025-09-21T15:59:03.109419\", \"bed_id\": 275, \"hospital_id\": 2}</td></tr><tr><td>{\"patient_id\": \"3285d62f-45e5-4bec-b4f9-645663686b43\", \"gender\": \"Male\", \"age\": 10, \"department\": \"Cardiology\", \"admission_time\": \"2025-09-20T14:56:47.022110\", \"discharge_time\": \"2025-09-23T14:56:47.022110\", \"bed_id\": 252, \"hospital_id\": 7}</td></tr><tr><td>{\"patient_id\": \"2211826a-137d-4dec-bee3-b057473b79d8\", \"gender\": \"Male\", \"age\": 65, \"department\": \"Cardiology\", \"admission_time\": \"2025-09-20T23:06:19.397951\", \"discharge_time\": \"2025-09-23T22:06:19.397951\", \"bed_id\": 299, \"hospital_id\": 4}</td></tr><tr><td>{\"patient_id\": \"5cbb1f81-d5dd-4d3b-8273-47b4d9e7320d\", \"gender\": \"Female\", \"age\": 37, \"department\": \"Oncology\", \"admission_time\": \"2025-09-22T20:03:52.298174\", \"discharge_time\": \"2025-09-24T22:03:52.298174\", \"bed_id\": 231, \"hospital_id\": 1}</td></tr><tr><td>{\"patient_id\": \"f3c5c9e7-fe76-4fc7-9df9-89a96e231aed\", \"gender\": \"Male\", \"age\": 26, \"department\": \"Cardiology\", \"admission_time\": \"2025-09-20T09:07:46.458342\", \"discharge_time\": \"2025-09-22T21:07:46.458342\", \"bed_id\": 223, \"hospital_id\": 1}</td></tr><tr><td>{\"patient_id\": \"872d6fa4-8024-457c-8db4-570b97450ab9\", \"gender\": \"Female\", \"age\": 37, \"department\": \"Oncology\", \"admission_time\": \"2025-09-21T23:09:07.506829\", \"discharge_time\": \"2025-09-22T11:09:07.506829\", \"bed_id\": 135, \"hospital_id\": 6}</td></tr><tr><td>{\"patient_id\": \"ec40cf76-c4a4-4f09-a19a-dacc1861827e\", \"gender\": \"Male\", \"age\": 18, \"department\": \"Pediatrics\", \"admission_time\": \"2025-09-22T09:03:04.265395\", \"discharge_time\": \"2025-09-24T15:03:04.265395\", \"bed_id\": 448, \"hospital_id\": 1}</td></tr><tr><td>{\"patient_id\": \"de9429bf-d28d-46aa-9399-d922b24839de\", \"gender\": \"Female\", \"age\": 39, \"department\": \"Oncology\", \"admission_time\": \"2025-09-21T10:53:15.880060\", \"discharge_time\": \"2025-09-23T03:53:15.880060\", \"bed_id\": 372, \"hospital_id\": 4}</td></tr><tr><td>{\"patient_id\": \"10510c61-c6d8-4ba4-88f8-76ab91022a9b\", \"gender\": \"Female\", \"age\": 39, \"department\": \"Oncology\", \"admission_time\": \"2025-09-22T20:09:41.529289\", \"discharge_time\": \"2025-09-23T13:09:41.529289\", \"bed_id\": 163, \"hospital_id\": 1}</td></tr><tr><td>{\"patient_id\": \"727b9d05-0ee2-4484-b6a5-a2f818880f9a\", \"gender\": \"Male\", \"age\": 22, \"department\": \"Pediatrics\", \"admission_time\": \"2025-09-22T00:56:50.023673\", \"discharge_time\": \"2025-09-24T17:56:50.023673\", \"bed_id\": 318, \"hospital_id\": 6}</td></tr><tr><td>{\"patient_id\": \"11985953-bb78-450e-bdfa-31f7624e3077\", \"gender\": \"Male\", \"age\": 44, \"department\": \"Cardiology\", \"admission_time\": \"2025-09-21T03:59:59.145041\", \"discharge_time\": \"2025-09-23T16:59:59.145041\", \"bed_id\": 237, \"hospital_id\": 4}</td></tr><tr><td>{\"patient_id\": \"602dccec-def8-4ca0-80aa-1ee2540b2ce2\", \"gender\": \"Female\", \"age\": 57, \"department\": \"Oncology\", \"admission_time\": \"2025-09-21T17:56:43.019766\", \"discharge_time\": \"2025-09-23T09:56:43.019766\", \"bed_id\": 105, \"hospital_id\": 2}</td></tr><tr><td>{\"patient_id\": \"221888f6-dee6-4d6e-8eb3-c9dbdd1e21e3\", \"gender\": \"Male\", \"age\": 14, \"department\": \"Cardiology\", \"admission_time\": \"2025-09-21T09:54:22.922964\", \"discharge_time\": \"2025-09-23T13:54:22.922964\", \"bed_id\": 131, \"hospital_id\": 5}</td></tr><tr><td>{\"patient_id\": \"5ca0e7be-72e3-49fe-b818-7f5c19aee725\", \"gender\": \"Male\", \"age\": 52, \"department\": \"Cardiology\", \"admission_time\": \"2025-09-23T04:05:31.363018\", \"discharge_time\": \"2025-09-24T16:05:31.363018\", \"bed_id\": 403, \"hospital_id\": 6}</td></tr><tr><td>{\"patient_id\": \"b85c7687-9976-4dc8-b7d6-17087d3434eb\", \"gender\": \"Male\", \"age\": 49, \"department\": \"Pediatrics\", \"admission_time\": \"2025-09-22T23:56:58.028447\", \"discharge_time\": \"2025-09-25T09:56:58.028447\", \"bed_id\": 148, \"hospital_id\": 4}</td></tr><tr><td>{\"patient_id\": \"13011ed2-d571-49f5-aab1-43fb506c52dc\", \"gender\": \"Female\", \"age\": 58, \"department\": \"Oncology\", \"admission_time\": \"2025-09-22T13:02:17.233379\", \"discharge_time\": \"2025-09-23T15:02:17.233379\", \"bed_id\": 348, \"hospital_id\": 6}</td></tr><tr><td>{\"patient_id\": \"352b8cbe-94a9-4e53-8d2b-23135a0b3b5f\", \"gender\": \"Male\", \"age\": 24, \"department\": \"Cardiology\", \"admission_time\": \"2025-09-21T15:09:26.520303\", \"discharge_time\": \"2025-09-24T14:09:26.520303\", \"bed_id\": 288, \"hospital_id\": 1}</td></tr><tr><td>{\"patient_id\": \"6ee32b6d-d893-4c71-a9cd-7e38ffb4ebe7\", \"gender\": \"Female\", \"age\": 32, \"department\": \"Oncology\", \"admission_time\": \"2025-09-22T06:07:55.465041\", \"discharge_time\": \"2025-09-24T10:07:55.465041\", \"bed_id\": 261, \"hospital_id\": 1}</td></tr><tr><td>{\"patient_id\": \"29a7143e-910d-486f-8381-7a8fa05376d9\", \"gender\": \"Male\", \"age\": 32, \"department\": \"Cardiology\", \"admission_time\": \"2025-09-21T18:08:24.482047\", \"discharge_time\": \"2025-09-24T11:08:24.482047\", \"bed_id\": 188, \"hospital_id\": 4}</td></tr><tr><td>{\"patient_id\": \"8e9a651c-dab3-4353-8bfc-5922003a08e4\", \"gender\": \"Female\", \"age\": 99, \"department\": \"Oncology\", \"admission_time\": \"2025-09-21T11:58:11.075919\", \"discharge_time\": \"2025-09-22T14:58:11.075919\", \"bed_id\": 222, \"hospital_id\": 3}</td></tr><tr><td>{\"patient_id\": \"676c56af-b84a-41d8-a8ba-13b385f5262d\", \"gender\": \"Male\", \"age\": 13, \"department\": \"Cardiology\", \"admission_time\": \"2025-09-20T23:01:05.183823\", \"discharge_time\": \"2025-09-21T05:01:05.183823\", \"bed_id\": 252, \"hospital_id\": 2}</td></tr><tr><td>{\"patient_id\": \"e87a08f2-6944-41ec-8d75-32be28fe9ea8\", \"gender\": \"Male\", \"age\": 37, \"department\": \"Pediatrics\", \"admission_time\": \"2025-09-23T05:57:25.047035\", \"discharge_time\": \"2025-09-24T23:57:25.047035\", \"bed_id\": 327, \"hospital_id\": 2}</td></tr><tr><td>{\"patient_id\": \"07dd2bb1-a738-4494-9017-ecdd1e623095\", \"gender\": \"Male\", \"age\": 35, \"department\": \"Pediatrics\", \"admission_time\": \"2025-09-20T10:58:01.068234\", \"discharge_time\": \"2025-09-21T17:58:01.068234\", \"bed_id\": 393, \"hospital_id\": 3}</td></tr><tr><td>{\"patient_id\": \"6f17f2a2-d7e5-4098-a56a-c2e31cd76750\", \"gender\": \"Male\", \"age\": 86, \"department\": \"Pediatrics\", \"admission_time\": \"2025-09-21T22:07:24.441905\", \"discharge_time\": \"2025-09-23T00:07:24.441905\", \"bed_id\": 257, \"hospital_id\": 5}</td></tr><tr><td>{\"patient_id\": \"ef9e8319-648d-452d-8e03-7014c2b576d6\", \"gender\": \"Male\", \"age\": 24, \"department\": \"Cardiology\", \"admission_time\": \"2025-09-22T17:05:50.375273\", \"discharge_time\": \"2025-09-25T16:05:50.375273\", \"bed_id\": 341, \"hospital_id\": 2}</td></tr><tr><td>{\"patient_id\": \"721a4ac9-06bc-44ae-9ad0-f9e20ba80156\", \"gender\": \"Male\", \"age\": 39, \"department\": \"Pediatrics\", \"admission_time\": \"2025-09-21T09:09:21.517102\", \"discharge_time\": \"2025-09-24T06:09:21.517102\", \"bed_id\": 409, \"hospital_id\": 4}</td></tr><tr><td>{\"patient_id\": \"70339744-b9e5-470c-be6a-2a2cad2749f1\", \"gender\": \"Male\", \"age\": 30, \"department\": \"Cardiology\", \"admission_time\": \"2025-09-21T06:58:47.098175\", \"discharge_time\": \"2025-09-22T13:58:47.098175\", \"bed_id\": 402, \"hospital_id\": 2}</td></tr><tr><td>{\"patient_id\": \"549e383e-ad4a-4978-9b1f-0e9a6d7d67a3\", \"gender\": \"Male\", \"age\": 14, \"department\": \"Pediatrics\", \"admission_time\": \"2025-09-21T02:05:37.366267\", \"discharge_time\": \"2025-09-22T02:05:37.366267\", \"bed_id\": 396, \"hospital_id\": 6}</td></tr><tr><td>{\"patient_id\": \"2ec0ae4a-7736-436d-9ae3-a5dc97e2e5be\", \"gender\": \"Female\", \"age\": 25, \"department\": \"Oncology\", \"admission_time\": \"2025-09-20T12:57:59.067321\", \"discharge_time\": \"2025-09-21T03:57:59.067321\", \"bed_id\": 255, \"hospital_id\": 2}</td></tr><tr><td>{\"patient_id\": \"ef5e9c8d-6167-4e70-8ce7-3388f91a81b2\", \"gender\": \"Female\", \"age\": 77, \"department\": \"Oncology\", \"admission_time\": \"2025-09-20T22:56:14.000033\", \"discharge_time\": \"2025-09-23T11:56:14.000033\", \"bed_id\": 176, \"hospital_id\": 6}</td></tr><tr><td>{\"patient_id\": \"409e9953-4bd3-4eb2-bdf8-dcb335262153\", \"gender\": \"Male\", \"age\": 39, \"department\": \"Pediatrics\", \"admission_time\": \"2025-09-21T13:07:19.437640\", \"discharge_time\": \"2025-09-23T10:07:19.437640\", \"bed_id\": 129, \"hospital_id\": 4}</td></tr><tr><td>{\"patient_id\": \"7199ade1-701c-467d-8d7b-bc131bc28304\", \"gender\": \"Female\", \"age\": 76, \"department\": \"Oncology\", \"admission_time\": \"2025-09-21T19:01:40.208751\", \"discharge_time\": \"2025-09-24T05:01:40.208751\", \"bed_id\": 102, \"hospital_id\": 5}</td></tr><tr><td>{\"patient_id\": \"4c485cc5-c362-498b-aeb5-1bba2aecf190\", \"gender\": \"Male\", \"age\": 54, \"department\": \"Pediatrics\", \"admission_time\": \"2025-09-21T07:05:43.371027\", \"discharge_time\": \"2025-09-22T12:05:43.371027\", \"bed_id\": 236, \"hospital_id\": 1}</td></tr><tr><td>{\"patient_id\": \"7d222def-8ed8-4d97-b634-d851e511e81d\", \"gender\": \"Male\", \"age\": 51, \"department\": \"Pediatrics\", \"admission_time\": \"2025-09-21T04:58:25.084759\", \"discharge_time\": \"2025-09-23T10:58:25.084759\", \"bed_id\": 416, \"hospital_id\": 5}</td></tr><tr><td>{\"patient_id\": \"09d00402-8537-443b-8fc2-18db8bdc7ce1\", \"gender\": \"Male\", \"age\": 69, \"department\": \"Pediatrics\", \"admission_time\": \"2025-09-22T06:05:21.357320\", \"discharge_time\": \"2025-09-23T17:05:21.357320\", \"bed_id\": 318, \"hospital_id\": 3}</td></tr><tr><td>{\"patient_id\": \"6fb0a4fd-4411-4096-9bb6-7475fda0efee\", \"gender\": \"Female\", \"age\": 142, \"department\": \"Surgery\", \"admission_time\": \"2025-09-22T10:01:45.211756\", \"discharge_time\": \"2025-09-23T12:01:45.211756\", \"bed_id\": 215, \"hospital_id\": 2}</td></tr><tr><td>{\"patient_id\": \"891bbf33-d3af-4aa1-b33b-8a163e268856\", \"gender\": \"Male\", \"age\": 53, \"department\": \"Pediatrics\", \"admission_time\": \"2025-09-21T13:09:44.532009\", \"discharge_time\": \"2025-09-24T12:09:44.532009\", \"bed_id\": 324, \"hospital_id\": 5}</td></tr><tr><td>{\"patient_id\": \"767e3bc3-2ce7-44c1-b8bc-e79b6910d9b1\", \"gender\": \"Male\", \"age\": 41, \"department\": \"Pediatrics\", \"admission_time\": \"2025-09-23T03:05:09.350522\", \"discharge_time\": \"2025-09-24T10:05:09.350522\", \"bed_id\": 266, \"hospital_id\": 7}</td></tr><tr><td>{\"patient_id\": \"d0e05bb2-36ea-44e0-9d42-21c84c9b646e\", \"gender\": \"Male\", \"age\": 71, \"department\": \"Pediatrics\", \"admission_time\": \"2025-09-21T15:00:27.161690\", \"discharge_time\": \"2025-09-22T12:00:27.161690\", \"bed_id\": 451, \"hospital_id\": 2}</td></tr><tr><td>{\"patient_id\": \"b4ce9c59-1e17-4194-8982-10623c2c3a95\", \"gender\": \"Male\", \"age\": 40, \"department\": \"Pediatrics\", \"admission_time\": \"2025-09-22T21:08:39.490832\", \"discharge_time\": \"2025-09-25T03:08:39.490832\", \"bed_id\": 180, \"hospital_id\": 1}</td></tr><tr><td>{\"patient_id\": \"678b3e74-a20f-4dc2-bdad-bb14d2849c56\", \"gender\": \"Male\", \"age\": 38, \"department\": \"Pediatrics\", \"admission_time\": \"2025-09-22T11:56:49.023246\", \"discharge_time\": \"2025-09-24T14:56:49.023246\", \"bed_id\": 308, \"hospital_id\": 5}</td></tr><tr><td>{\"patient_id\": \"7b66be3c-9027-4dd6-af70-a9d80b168e18\", \"gender\": \"Male\", \"age\": 89, \"department\": \"Pediatrics\", \"admission_time\": \"2025-09-21T09:10:23.560136\", \"discharge_time\": \"2025-09-23T15:10:23.560136\", \"bed_id\": 246, \"hospital_id\": 4}</td></tr><tr><td>{\"patient_id\": \"f546a36c-c35f-416c-84d6-3fcc5529aebf\", \"gender\": \"Male\", \"age\": 98, \"department\": \"Pediatrics\", \"admission_time\": \"2025-09-20T19:56:33.013075\", \"discharge_time\": \"2025-09-22T19:56:33.013075\", \"bed_id\": 402, \"hospital_id\": 6}</td></tr><tr><td>{\"patient_id\": \"8e6a91b8-83c9-4041-91ad-266c3cc92656\", \"gender\": \"Male\", \"age\": 11, \"department\": \"Pediatrics\", \"admission_time\": \"2025-09-22T13:00:25.160166\", \"discharge_time\": \"2025-09-23T04:00:25.160166\", \"bed_id\": 398, \"hospital_id\": 6}</td></tr><tr><td>{\"patient_id\": \"503826b0-962a-4363-b3fe-b7d2a1f988e8\", \"gender\": \"Male\", \"age\": 92, \"department\": \"Pediatrics\", \"admission_time\": \"2025-09-23T06:02:23.239207\", \"discharge_time\": \"2025-09-25T22:02:23.239207\", \"bed_id\": 102, \"hospital_id\": 5}</td></tr><tr><td>{\"patient_id\": \"e8b28b16-b93c-4243-9e81-97f82c997fbf\", \"gender\": \"Male\", \"age\": 48, \"department\": \"Pediatrics\", \"admission_time\": \"2025-09-23T06:01:19.191903\", \"discharge_time\": \"2025-09-25T22:01:19.191903\", \"bed_id\": 189, \"hospital_id\": 6}</td></tr><tr><td>{\"patient_id\": \"82aaf95f-9d7c-4ecf-9488-7bc9886e5157\", \"gender\": \"Male\", \"age\": 76, \"department\": \"Cardiology\", \"admission_time\": \"2025-09-20T14:06:22.399884\", \"discharge_time\": \"2025-09-21T16:06:22.399884\", \"bed_id\": 452, \"hospital_id\": 7}</td></tr><tr><td>{\"patient_id\": \"88123402-dd61-47e3-b616-4e612395600f\", \"gender\": \"Male\", \"age\": 11, \"department\": \"Pediatrics\", \"admission_time\": \"2025-09-22T18:08:10.474472\", \"discharge_time\": \"2025-09-24T11:08:10.474472\", \"bed_id\": 171, \"hospital_id\": 4}</td></tr><tr><td>{\"patient_id\": \"f5012eec-b640-4b83-a844-3df9cf4a1f73\", \"gender\": \"Female\", \"age\": 39, \"department\": \"Emergency\", \"admission_time\": \"2025-09-21T13:59:31.127927\", \"discharge_time\": \"2025-09-21T15:59:31.127927\", \"bed_id\": 308, \"hospital_id\": 4}</td></tr><tr><td>{\"patient_id\": \"5aa17e71-a8c2-4c0e-ae1d-e8122dbed801\", \"gender\": \"Male\", \"age\": 86, \"department\": \"Pediatrics\", \"admission_time\": \"2025-09-22T02:56:45.020805\", \"discharge_time\": \"2025-09-24T22:56:45.020805\", \"bed_id\": 266, \"hospital_id\": 4}</td></tr><tr><td>{\"patient_id\": \"b6cb6c54-b51a-4d5f-8220-30c1ebfb7ed8\", \"gender\": \"Female\", \"age\": 140, \"department\": \"Emergency\", \"admission_time\": \"2025-09-22T02:05:35.365331\", \"discharge_time\": \"2025-09-22T05:05:35.365331\", \"bed_id\": 431, \"hospital_id\": 2}</td></tr><tr><td>{\"patient_id\": \"7c4c9fae-e197-4042-ad39-92d1ce3561b7\", \"gender\": \"Male\", \"age\": 35, \"department\": \"Pediatrics\", \"admission_time\": \"2025-09-21T19:04:35.329889\", \"discharge_time\": \"2025-09-24T16:04:35.329889\", \"bed_id\": 202, \"hospital_id\": 5}</td></tr><tr><td>{\"patient_id\": \"5d439fe8-304d-464d-af0d-b472ccf863f8\", \"gender\": \"Male\", \"age\": 34, \"department\": \"Pediatrics\", \"admission_time\": \"2025-09-22T23:54:18.920506\", \"discharge_time\": \"2025-09-23T16:54:18.920506\", \"bed_id\": 218, \"hospital_id\": 3}</td></tr><tr><td>{\"patient_id\": \"0a71f75d-b280-42e9-b9af-f567e6aea1f3\", \"gender\": \"Female\", \"age\": 84, \"department\": \"Oncology\", \"admission_time\": \"2025-09-20T14:04:40.332649\", \"discharge_time\": \"2025-09-22T14:04:40.332649\", \"bed_id\": 140, \"hospital_id\": 6}</td></tr><tr><td>{\"patient_id\": \"410a80a2-c8bd-4325-88e7-96d0b9bb87fa\", \"gender\": \"Female\", \"age\": 33, \"department\": \"Oncology\", \"admission_time\": \"2025-09-22T13:02:51.256631\", \"discharge_time\": \"2025-09-23T11:02:51.256631\", \"bed_id\": 390, \"hospital_id\": 2}</td></tr><tr><td>{\"patient_id\": \"7aba7a73-8c25-4ff2-9c48-d9034e8d8c33\", \"gender\": \"Male\", \"age\": 16, \"department\": \"Cardiology\", \"admission_time\": \"2025-09-23T00:09:28.521207\", \"discharge_time\": \"2025-09-24T01:09:28.521207\", \"bed_id\": 149, \"hospital_id\": 5}</td></tr><tr><td>{\"patient_id\": \"5f27c925-7ec3-4881-b9af-809a483aa436\", \"gender\": \"Male\", \"age\": 70, \"department\": \"Pediatrics\", \"admission_time\": \"2025-09-21T02:56:01.992034\", \"discharge_time\": \"2025-09-23T09:56:01.992034\", \"bed_id\": 473, \"hospital_id\": 6}</td></tr><tr><td>{\"patient_id\": \"4b246b81-3c94-430a-a5f5-9d174f01e3fa\", \"gender\": \"Male\", \"age\": 66, \"department\": \"Pediatrics\", \"admission_time\": \"2025-09-21T08:02:34.246003\", \"discharge_time\": \"2025-09-24T04:02:34.246003\", \"bed_id\": 202, \"hospital_id\": 1}</td></tr><tr><td>{\"patient_id\": \"3a0d1307-1f28-4f81-80f1-65d40ce702c0\", \"gender\": \"Female\", \"age\": 25, \"department\": \"Oncology\", \"admission_time\": \"2025-09-21T20:03:24.279864\", \"discharge_time\": \"2025-09-23T16:03:24.279864\", \"bed_id\": 192, \"hospital_id\": 6}</td></tr><tr><td>{\"patient_id\": \"531ed7c3-4c3a-44e9-b64c-32a13a936406\", \"gender\": \"Female\", \"age\": 34, \"department\": \"Oncology\", \"admission_time\": \"2025-09-21T07:03:17.275146\", \"discharge_time\": \"2025-09-23T13:03:17.275146\", \"bed_id\": 402, \"hospital_id\": 7}</td></tr><tr><td>{\"patient_id\": \"a486ab80-e13c-4560-b88d-a3b27b9cdf71\", \"gender\": \"Female\", \"age\": 63, \"department\": \"Oncology\", \"admission_time\": \"2025-09-20T11:59:18.119108\", \"discharge_time\": \"2025-09-21T11:59:18.119108\", \"bed_id\": 333, \"hospital_id\": 1}</td></tr><tr><td>{\"patient_id\": \"b88fef24-497f-4977-ae33-23962c4193a8\", \"gender\": \"Female\", \"age\": 59, \"department\": \"Oncology\", \"admission_time\": \"2025-09-20T16:06:59.426246\", \"discharge_time\": \"2025-09-23T11:06:59.426246\", \"bed_id\": 476, \"hospital_id\": 1}</td></tr><tr><td>{\"patient_id\": \"2f8acf65-7e39-4222-8859-f23394c7507e\", \"gender\": \"Female\", \"age\": 43, \"department\": \"Cardiology\", \"admission_time\": \"2025-09-22T05:08:29.485304\", \"discharge_time\": \"2025-09-24T08:08:29.485304\", \"bed_id\": 39, \"hospital_id\": 4}</td></tr><tr><td>{\"patient_id\": \"7d18f5b3-ef34-4d3f-9452-99ae3030f00d\", \"gender\": \"Male\", \"age\": 87, \"department\": \"Pediatrics\", \"admission_time\": \"2025-09-21T16:00:42.170687\", \"discharge_time\": \"2025-09-22T07:00:42.170687\", \"bed_id\": 297, \"hospital_id\": 5}</td></tr><tr><td>{\"patient_id\": \"95df07e1-9984-4b60-98b4-4816e4f03e77\", \"gender\": \"Male\", \"age\": 76, \"department\": \"Cardiology\", \"admission_time\": \"2025-09-21T14:58:39.092968\", \"discharge_time\": \"2025-09-24T04:58:39.092968\", \"bed_id\": 471, \"hospital_id\": 5}</td></tr><tr><td>{\"patient_id\": \"e89baaeb-69b3-4c05-a057-d4e8546ce573\", \"gender\": \"Female\", \"age\": 94, \"department\": \"Maternity\", \"admission_time\": \"2025-09-22T16:09:23.518233\", \"discharge_time\": \"2025-09-22T17:09:23.518233\", \"bed_id\": 340, \"hospital_id\": 5}</td></tr><tr><td>{\"patient_id\": \"b726d379-dc7c-40d8-b4e5-19dbf0912adf\", \"gender\": \"Male\", \"age\": 58, \"department\": \"Cardiology\", \"admission_time\": \"2025-09-22T17:26:50.368607\", \"discharge_time\": \"2025-09-24T08:26:50.368607\", \"bed_id\": 479, \"hospital_id\": 6}</td></tr><tr><td>{\"patient_id\": \"144b095c-dd37-4603-a6c7-d40ecc35c3f9\", \"gender\": \"Female\", \"age\": 82, \"department\": \"Oncology\", \"admission_time\": \"2025-09-21T09:27:02.376235\", \"discharge_time\": \"2025-09-23T14:27:02.376235\", \"bed_id\": 490, \"hospital_id\": 2}</td></tr><tr><td>{\"patient_id\": \"85d30661-a2b5-4b82-96d1-c6ffbf4de71c\", \"gender\": \"Female\", \"age\": 77, \"department\": \"Cardiology\", \"admission_time\": \"2025-09-22T09:56:54.025976\", \"discharge_time\": \"2025-09-25T00:56:54.025976\", \"bed_id\": 97, \"hospital_id\": 2}</td></tr><tr><td>{\"patient_id\": \"b7c1091e-0764-45cd-be64-a50e2ad8d416\", \"gender\": \"Female\", \"age\": 58, \"department\": \"Pediatrics\", \"admission_time\": \"2025-09-21T13:26:12.341512\", \"discharge_time\": \"2025-09-24T07:26:12.341512\", \"bed_id\": 35, \"hospital_id\": 3}</td></tr><tr><td>{\"patient_id\": \"9c237ea5-99a2-4a88-b9e5-16486eebc11d\", \"gender\": \"Female\", \"age\": 12, \"department\": \"Cardiology\", \"admission_time\": \"2025-09-22T14:52:51.860501\", \"discharge_time\": \"2025-09-25T12:52:51.860501\", \"bed_id\": 91, \"hospital_id\": 6}</td></tr><tr><td>{\"patient_id\": \"b8793e0f-68bd-475d-a5f9-9e774fb36389\", \"gender\": \"Female\", \"age\": 40, \"department\": \"Cardiology\", \"admission_time\": \"2025-09-20T09:54:26.926141\", \"discharge_time\": \"2025-09-23T04:54:26.926141\", \"bed_id\": 80, \"hospital_id\": 7}</td></tr><tr><td>{\"patient_id\": \"d7c00bf5-faa0-4853-89b3-38e16dc562e2\", \"gender\": \"Female\", \"age\": 52, \"department\": \"Cardiology\", \"admission_time\": \"2025-09-22T10:07:30.446693\", \"discharge_time\": \"2025-09-24T22:07:30.446693\", \"bed_id\": 99, \"hospital_id\": 5}</td></tr><tr><td>{\"patient_id\": \"3909308c-77b4-4aea-9c1d-3a96919fb5e9\", \"gender\": \"Male\", \"age\": 58, \"department\": \"Cardiology\", \"admission_time\": \"2025-09-21T12:05:13.352508\", \"discharge_time\": \"2025-09-22T04:05:13.352508\", \"bed_id\": 414, \"hospital_id\": 7}</td></tr><tr><td>{\"patient_id\": \"be5df02a-4cec-4b43-b8f3-fb262dd686a2\", \"gender\": \"Female\", \"age\": 71, \"department\": \"Pediatrics\", \"admission_time\": \"2025-09-21T01:56:38.015862\", \"discharge_time\": \"2025-09-21T09:56:38.015862\", \"bed_id\": 165, \"hospital_id\": 3}</td></tr><tr><td>{\"patient_id\": \"c335baf9-51f3-44fb-b82d-6021b7586760\", \"gender\": \"Female\", \"age\": 91, \"department\": \"Cardiology\", \"admission_time\": \"2025-09-21T20:55:08.956391\", \"discharge_time\": \"2025-09-24T05:55:08.956391\", \"bed_id\": 82, \"hospital_id\": 2}</td></tr><tr><td>{\"patient_id\": \"aafc87a4-bcdf-4cad-8fdb-08e8ea4ebd78\", \"gender\": \"Female\", \"age\": 41, \"department\": \"Pediatrics\", \"admission_time\": \"2025-09-22T06:05:16.354841\", \"discharge_time\": \"2025-09-24T00:05:16.354841\", \"bed_id\": 77, \"hospital_id\": 7}</td></tr><tr><td>{\"patient_id\": \"6480374e-0869-4d1f-ac01-b919955c14a6\", \"gender\": \"Female\", \"age\": 24, \"department\": \"Cardiology\", \"admission_time\": \"2025-09-22T01:55:14.960531\", \"discharge_time\": \"2025-09-22T16:55:14.960531\", \"bed_id\": 59, \"hospital_id\": 3}</td></tr><tr><td>{\"patient_id\": \"160fbfda-6aa8-47d0-a665-3c8b89a27e37\", \"gender\": \"Male\", \"age\": 78, \"department\": \"Cardiology\", \"admission_time\": \"2025-09-20T13:53:43.897198\", \"discharge_time\": \"2025-09-21T07:53:43.897198\", \"bed_id\": 314, \"hospital_id\": 7}</td></tr><tr><td>{\"patient_id\": \"ed503015-722a-4508-8b35-a91478b90661\", \"gender\": \"Female\", \"age\": 102, \"department\": \"Maternity\", \"admission_time\": \"2025-09-23T06:55:45.981505\", \"discharge_time\": \"2025-09-25T17:55:45.981505\", \"bed_id\": 60, \"hospital_id\": 4}</td></tr><tr><td>{\"patient_id\": \"780efcf9-62b6-4850-9c58-0c7ed4f1b8a0\", \"gender\": \"Female\", \"age\": 76, \"department\": \"Oncology\", \"admission_time\": \"2025-09-20T17:05:28.361735\", \"discharge_time\": \"2025-09-20T21:05:28.361735\", \"bed_id\": 272, \"hospital_id\": 3}</td></tr><tr><td>{\"patient_id\": \"2f588995-eec9-4ff1-a1a8-be558bef8a31\", \"gender\": \"Female\", \"age\": 84, \"department\": \"Pediatrics\", \"admission_time\": \"2025-09-22T10:01:34.204605\", \"discharge_time\": \"2025-09-25T09:01:34.204605\", \"bed_id\": 94, \"hospital_id\": 5}</td></tr><tr><td>{\"patient_id\": \"5d4ad0be-e814-4e5b-ad7d-cb6f8c0c0a23\", \"gender\": \"Female\", \"age\": 15, \"department\": \"Cardiology\", \"admission_time\": \"2025-09-20T20:01:21.193597\", \"discharge_time\": \"2025-09-21T01:01:21.193597\", \"bed_id\": 90, \"hospital_id\": 1}</td></tr><tr><td>{\"patient_id\": \"69b0f811-57c2-4c58-af71-29e0533c3fff\", \"gender\": \"Male\", \"age\": 15, \"department\": \"Pediatrics\", \"admission_time\": \"2025-09-22T11:54:45.938996\", \"discharge_time\": \"2025-09-22T23:54:45.938996\", \"bed_id\": 459, \"hospital_id\": 6}</td></tr><tr><td>{\"patient_id\": \"968ee47b-1ea3-456e-bb55-64d4968a96a4\", \"gender\": \"Female\", \"age\": 1, \"department\": \"Cardiology\", \"admission_time\": \"2025-09-20T07:04:20.319905\", \"discharge_time\": \"2025-09-22T10:04:20.319905\", \"bed_id\": 154, \"hospital_id\": 2}</td></tr><tr><td>{\"patient_id\": \"36e505fe-77d7-4475-8cb9-cec982f847dd\", \"gender\": \"Female\", \"age\": 42, \"department\": \"Oncology\", \"admission_time\": \"2025-09-22T02:59:11.114015\", \"discharge_time\": \"2025-09-24T15:59:11.114015\", \"bed_id\": 289, \"hospital_id\": 6}</td></tr><tr><td>{\"patient_id\": \"54594ab4-c25a-423e-bd61-eb4b7251c8a2\", \"gender\": \"Male\", \"age\": 84, \"department\": \"Pediatrics\", \"admission_time\": \"2025-09-20T20:03:35.286410\", \"discharge_time\": \"2025-09-23T18:03:35.286410\", \"bed_id\": 387, \"hospital_id\": 7}</td></tr><tr><td>{\"patient_id\": \"06c62367-676b-4146-8dd6-45e86a80a67a\", \"gender\": \"Male\", \"age\": 84, \"department\": \"Surgery\", \"admission_time\": \"2025-09-24T05:55:57.988661\", \"discharge_time\": \"2025-09-22T22:55:57.988587\", \"bed_id\": 107, \"hospital_id\": 6}</td></tr><tr><td>{\"patient_id\": \"1686db03-f4b4-439f-89a9-814db8c9b870\", \"gender\": \"Male\", \"age\": 84, \"department\": \"Cardiology\", \"admission_time\": \"2025-09-20T23:06:01.384224\", \"discharge_time\": \"2025-09-22T17:06:01.384224\", \"bed_id\": 165, \"hospital_id\": 7}</td></tr><tr><td>{\"patient_id\": \"a62f1ce0-5b4b-4f8f-9726-aa59c6c96d08\", \"gender\": \"Male\", \"age\": 29, \"department\": \"Pediatrics\", \"admission_time\": \"2025-09-21T03:08:06.471435\", \"discharge_time\": \"2025-09-21T20:08:06.471435\", \"bed_id\": 209, \"hospital_id\": 4}</td></tr><tr><td>{\"patient_id\": \"f4089849-18da-48cb-916f-e1998f328572\", \"gender\": \"Female\", \"age\": 32, \"department\": \"Surgery\", \"admission_time\": \"2025-09-23T04:07:27.443911\", \"discharge_time\": \"2025-09-25T08:07:27.443911\", \"bed_id\": 485, \"hospital_id\": 6}</td></tr><tr><td>{\"patient_id\": \"edd5cb1b-14bb-4619-a94e-830d01d86386\", \"gender\": \"Female\", \"age\": 80, \"department\": \"Emergency\", \"admission_time\": \"2025-09-22T04:02:18.234361\", \"discharge_time\": \"2025-09-23T07:02:18.234361\", \"bed_id\": 83, \"hospital_id\": 5}</td></tr><tr><td>{\"patient_id\": \"22dcc0a1-ec94-4932-8cda-035220f127cf\", \"gender\": \"Female\", \"age\": 75, \"department\": \"Emergency\", \"admission_time\": \"2025-09-20T15:02:49.254848\", \"discharge_time\": \"2025-09-22T00:02:49.254848\", \"bed_id\": 58, \"hospital_id\": 1}</td></tr><tr><td>{\"patient_id\": \"eb8484c2-69d0-4826-9ace-fda4ce3c1dfb\", \"gender\": \"Male\", \"age\": 107, \"department\": \"Cardiology\", \"admission_time\": \"2025-09-20T08:07:22.440421\", \"discharge_time\": \"2025-09-22T12:07:22.440421\", \"bed_id\": 134, \"hospital_id\": 5}</td></tr><tr><td>{\"patient_id\": \"bc3228e0-446c-47e1-8470-a7a256dbb96e\", \"gender\": \"Female\", \"age\": 59, \"department\": \"Oncology\", \"admission_time\": \"2025-09-21T19:25:39.320042\", \"discharge_time\": \"2025-09-22T15:25:39.320042\", \"bed_id\": 359, \"hospital_id\": 5}</td></tr><tr><td>{\"patient_id\": \"54731358-aafb-4dd9-9d79-5c845ed24499\", \"gender\": \"Female\", \"age\": 62, \"department\": \"Surgery\", \"admission_time\": \"2025-09-21T10:59:52.140885\", \"discharge_time\": \"2025-09-23T17:59:52.140885\", \"bed_id\": 367, \"hospital_id\": 2}</td></tr><tr><td>{\"patient_id\": \"8dca66ed-a82d-48db-a14e-d216a50ac896\", \"gender\": \"Female\", \"age\": 29, \"department\": \"Emergency\", \"admission_time\": \"2025-09-21T21:59:51.139935\", \"discharge_time\": \"2025-09-22T11:59:51.139935\", \"bed_id\": 61, \"hospital_id\": 3}</td></tr><tr><td>{\"patient_id\": \"c195597d-02c8-4b89-b943-9b5e998132dd\", \"gender\": \"Male\", \"age\": 23, \"department\": \"Cardiology\", \"admission_time\": \"2025-09-20T11:59:17.118466\", \"discharge_time\": \"2025-09-20T20:59:17.118466\", \"bed_id\": 390, \"hospital_id\": 6}</td></tr><tr><td>{\"patient_id\": \"aea340ca-441d-47ad-95b3-35eadca40e79\", \"gender\": \"Male\", \"age\": 46, \"department\": \"Pediatrics\", \"admission_time\": \"2025-09-20T11:03:20.277433\", \"discharge_time\": \"2025-09-20T20:03:20.277433\", \"bed_id\": 248, \"hospital_id\": 2}</td></tr><tr><td>{\"patient_id\": \"d2815d10-661f-4c1b-be76-dad240a8eabd\", \"gender\": \"Female\", \"age\": 42, \"department\": \"Emergency\", \"admission_time\": \"2025-09-22T22:07:31.447691\", \"discharge_time\": \"2025-09-25T09:07:31.447691\", \"bed_id\": 81, \"hospital_id\": 4}</td></tr><tr><td>{\"patient_id\": \"618f6ef6-9a3a-47d0-9972-5eca7251dafa\", \"gender\": \"Female\", \"age\": 76, \"department\": \"Emergency\", \"admission_time\": \"2025-09-22T15:09:48.534333\", \"discharge_time\": \"2025-09-25T09:09:48.534333\", \"bed_id\": 17, \"hospital_id\": 7}</td></tr><tr><td>{\"patient_id\": \"78d06908-9743-4eb7-8237-ea4e94f928fb\", \"gender\": \"Male\", \"age\": 20, \"department\": \"Cardiology\", \"admission_time\": \"2025-09-21T06:03:12.271281\", \"discharge_time\": \"2025-09-21T14:03:12.271281\", \"bed_id\": 471, \"hospital_id\": 1}</td></tr><tr><td>{\"patient_id\": \"21114158-8e45-4730-9513-ab1fbe160190\", \"gender\": \"Female\", \"age\": 67, \"department\": \"Maternity\", \"admission_time\": \"2025-09-22T01:02:24.240118\", \"discharge_time\": \"2025-09-24T05:02:24.240118\", \"bed_id\": 30, \"hospital_id\": 6}</td></tr><tr><td>{\"patient_id\": \"64543bce-d88d-46e9-b981-db529c9ecef8\", \"gender\": \"Female\", \"age\": 38, \"department\": \"Oncology\", \"admission_time\": \"2025-09-20T07:56:52.024602\", \"discharge_time\": \"2025-09-20T20:56:52.024602\", \"bed_id\": 139, \"hospital_id\": 2}</td></tr><tr><td>{\"patient_id\": \"96dad433-6ab9-400c-a99d-33c76c5b8c6b\", \"gender\": \"Male\", \"age\": 73, \"department\": \"Cardiology\", \"admission_time\": \"2025-09-20T09:10:30.564294\", \"discharge_time\": \"2025-09-20T17:10:30.564294\", \"bed_id\": 239, \"hospital_id\": 2}</td></tr><tr><td>{\"patient_id\": \"4a7d5951-69ff-498e-bf20-77ed5bdec767\", \"gender\": \"Male\", \"age\": 34, \"department\": \"Cardiology\", \"admission_time\": \"2025-09-22T04:59:00.106493\", \"discharge_time\": \"2025-09-22T18:59:00.106493\", \"bed_id\": 111, \"hospital_id\": 2}</td></tr><tr><td>{\"patient_id\": \"50193a01-d81c-4c67-a2c8-15190e874ac4\", \"gender\": \"Female\", \"age\": 48, \"department\": \"Maternity\", \"admission_time\": \"2025-09-21T16:52:55.863382\", \"discharge_time\": \"2025-09-22T03:52:55.863382\", \"bed_id\": 55, \"hospital_id\": 4}</td></tr><tr><td>{\"patient_id\": \"0ce9ceec-615b-4889-9f65-322bf2c0800f\", \"gender\": \"Female\", \"age\": 49, \"department\": \"Emergency\", \"admission_time\": \"2025-09-20T11:57:11.037260\", \"discharge_time\": \"2025-09-21T17:57:11.037260\", \"bed_id\": 89, \"hospital_id\": 3}</td></tr><tr><td>{\"patient_id\": \"71c284b3-5dd1-422f-8125-f1f163d1c718\", \"gender\": \"Male\", \"age\": 49, \"department\": \"Pediatrics\", \"admission_time\": \"2025-09-22T15:55:06.955155\", \"discharge_time\": \"2025-09-22T20:55:06.955155\", \"bed_id\": 368, \"hospital_id\": 6}</td></tr><tr><td>{\"patient_id\": \"e3b1ea87-b483-40a0-bb06-1a3cc5b9d7a3\", \"gender\": \"Male\", \"age\": 97, \"department\": \"Cardiology\", \"admission_time\": \"2025-09-22T02:01:00.180954\", \"discharge_time\": \"2025-09-22T13:01:00.180954\", \"bed_id\": 204, \"hospital_id\": 4}</td></tr><tr><td>{\"patient_id\": \"09f13188-b243-4ae9-9fdf-9aef2a0f5775\", \"gender\": \"Male\", \"age\": 24, \"department\": \"Pediatrics\", \"admission_time\": \"2025-09-23T01:06:50.420418\", \"discharge_time\": \"2025-09-23T08:06:50.420418\", \"bed_id\": 193, \"hospital_id\": 1}</td></tr><tr><td>{\"patient_id\": \"683812b2-88a0-41f5-a98a-46e3ff118b2e\", \"gender\": \"Female\", \"age\": 73, \"department\": \"Emergency\", \"admission_time\": \"2025-09-22T02:10:27.562601\", \"discharge_time\": \"2025-09-24T06:10:27.562601\", \"bed_id\": 21, \"hospital_id\": 3}</td></tr><tr><td>{\"patient_id\": \"c0958f6e-e421-40e9-a6ed-51cbcb566129\", \"gender\": \"Female\", \"age\": 26, \"department\": \"Emergency\", \"admission_time\": \"2025-09-22T17:26:40.360973\", \"discharge_time\": \"2025-09-24T06:26:40.360973\", \"bed_id\": 96, \"hospital_id\": 2}</td></tr><tr><td>{\"patient_id\": \"60e98485-1e54-47cc-a4e1-9086ddc2f8be\", \"gender\": \"Female\", \"age\": 59, \"department\": \"Maternity\", \"admission_time\": \"2025-09-21T21:04:19.319428\", \"discharge_time\": \"2025-09-22T16:04:19.319428\", \"bed_id\": 23, \"hospital_id\": 1}</td></tr><tr><td>{\"patient_id\": \"ef94038b-4057-4807-947a-3abf6d82ec0f\", \"gender\": \"Female\", \"age\": 46, \"department\": \"Pediatrics\", \"admission_time\": \"2025-09-20T14:59:07.111891\", \"discharge_time\": \"2025-09-22T07:59:07.111891\", \"bed_id\": 28, \"hospital_id\": 3}</td></tr><tr><td>{\"patient_id\": \"bb4811cb-036a-4e41-a752-dc0b7fcc14b0\", \"gender\": \"Female\", \"age\": 98, \"department\": \"Cardiology\", \"admission_time\": \"2025-09-21T06:53:36.893593\", \"discharge_time\": \"2025-09-22T14:53:36.893593\", \"bed_id\": 10, \"hospital_id\": 6}</td></tr><tr><td>{\"patient_id\": \"e7333cce-efad-46c2-8e98-c66d4943151e\", \"gender\": \"Female\", \"age\": 77, \"department\": \"Oncology\", \"admission_time\": \"2025-09-22T00:52:39.854389\", \"discharge_time\": \"2025-09-22T23:52:39.854389\", \"bed_id\": 479, \"hospital_id\": 2}</td></tr><tr><td>{\"patient_id\": \"4205c425-011f-4616-aec3-74edb90f33c0\", \"gender\": \"Female\", \"age\": 35, \"department\": \"Maternity\", \"admission_time\": \"2025-09-21T09:00:38.167496\", \"discharge_time\": \"2025-09-22T16:00:38.167496\", \"bed_id\": 83, \"hospital_id\": 2}</td></tr><tr><td>{\"patient_id\": \"c8c94f96-053e-4220-8955-8254c5859bbd\", \"gender\": \"Female\", \"age\": 76, \"department\": \"Emergency\", \"admission_time\": \"2025-09-20T11:53:18.881979\", \"discharge_time\": \"2025-09-21T14:53:18.881979\", \"bed_id\": 62, \"hospital_id\": 6}</td></tr><tr><td>{\"patient_id\": \"4c47a11a-f72d-4344-af4a-ff5e903a278f\", \"gender\": \"Female\", \"age\": 83, \"department\": \"Maternity\", \"admission_time\": \"2025-09-22T21:58:34.089254\", \"discharge_time\": \"2025-09-25T16:58:34.089254\", \"bed_id\": 18, \"hospital_id\": 1}</td></tr><tr><td>{\"patient_id\": \"5baa8b16-2b2e-45e5-9946-2cf0718998ca\", \"gender\": \"Female\", \"age\": 58, \"department\": \"Maternity\", \"admission_time\": \"2025-09-22T21:03:49.296004\", \"discharge_time\": \"2025-09-24T15:03:49.296004\", \"bed_id\": 32, \"hospital_id\": 2}</td></tr><tr><td>{\"patient_id\": \"b5ed4cda-8116-4833-a560-180cdcf4a790\", \"gender\": \"Male\", \"age\": 57, \"department\": \"Cardiology\", \"admission_time\": \"2025-09-23T02:57:10.036814\", \"discharge_time\": \"2025-09-23T20:57:10.036814\", \"bed_id\": 474, \"hospital_id\": 7}</td></tr><tr><td>{\"patient_id\": \"bc89a93e-6591-4d91-aa1c-fb1eb0b8d690\", \"gender\": \"Female\", \"age\": 38, \"department\": \"Maternity\", \"admission_time\": \"2025-09-20T23:04:24.322299\", \"discharge_time\": \"2025-09-23T00:04:24.322299\", \"bed_id\": 79, \"hospital_id\": 6}</td></tr><tr><td>{\"patient_id\": \"936a4db3-64ee-421e-9159-f926bf363592\", \"gender\": \"Female\", \"age\": 65, \"department\": \"Emergency\", \"admission_time\": \"2025-09-21T21:59:15.116437\", \"discharge_time\": \"2025-09-24T21:59:15.116437\", \"bed_id\": 89, \"hospital_id\": 5}</td></tr><tr><td>{\"patient_id\": \"db68290d-13ec-4459-8b71-4c3053359da9\", \"gender\": \"Female\", \"age\": 35, \"department\": \"Surgery\", \"admission_time\": \"2025-09-23T01:09:39.528404\", \"discharge_time\": \"2025-09-25T07:09:39.528404\", \"bed_id\": 198, \"hospital_id\": 3}</td></tr><tr><td>{\"patient_id\": \"f6de44c6-bd31-498b-b679-eac1541b2a3f\", \"gender\": \"Female\", \"age\": 68, \"department\": \"Pediatrics\", \"admission_time\": \"2025-09-22T12:56:12.999604\", \"discharge_time\": \"2025-09-24T02:56:12.999604\", \"bed_id\": 56, \"hospital_id\": 4}</td></tr><tr><td>{\"patient_id\": \"376ad453-9781-4aa8-a4d8-01d6b8f79f52\", \"gender\": \"Female\", \"age\": 9, \"department\": \"Cardiology\", \"admission_time\": \"2025-09-22T22:05:06.348526\", \"discharge_time\": \"2025-09-24T21:05:06.348526\", \"bed_id\": 475, \"hospital_id\": 2}</td></tr><tr><td>{\"patient_id\": \"0b2af933-acfb-4559-b238-0515de2aa15e\", \"gender\": \"Male\", \"age\": 64, \"department\": \"Pediatrics\", \"admission_time\": \"2025-09-22T10:59:46.136815\", \"discharge_time\": \"2025-09-22T12:59:46.136815\", \"bed_id\": 439, \"hospital_id\": 6}</td></tr><tr><td>{\"patient_id\": \"1e5a7435-5477-43ad-b179-3b7d4ee9796b\", \"gender\": \"Female\", \"age\": 50, \"department\": \"Surgery\", \"admission_time\": \"2025-09-21T04:03:31.284121\", \"discharge_time\": \"2025-09-22T21:03:31.284121\", \"bed_id\": 183, \"hospital_id\": 4}</td></tr><tr><td>{\"patient_id\": \"2d3ca10c-4fdd-4c93-b422-16386a78b633\", \"gender\": \"Female\", \"age\": 15, \"department\": \"Surgery\", \"admission_time\": \"2025-09-21T15:55:58.989503\", \"discharge_time\": \"2025-09-22T15:55:58.989503\", \"bed_id\": 376, \"hospital_id\": 3}</td></tr><tr><td>{\"patient_id\": \"a45a6d29-fc8d-4854-acf7-ed4dd714f485\", \"gender\": \"Female\", \"age\": 30, \"department\": \"Surgery\", \"admission_time\": \"2025-09-21T06:08:22.481173\", \"discharge_time\": \"2025-09-22T01:08:22.481173\", \"bed_id\": 251, \"hospital_id\": 5}</td></tr><tr><td>{\"patient_id\": \"5b2019e5-5b1c-4b10-9534-6b65606bfb79\", \"gender\": \"Male\", \"age\": 49, \"department\": \"Pediatrics\", \"admission_time\": \"2025-09-21T15:03:13.272476\", \"discharge_time\": \"2025-09-21T17:03:13.272476\", \"bed_id\": 322, \"hospital_id\": 4}</td></tr><tr><td>{\"patient_id\": \"df115d6f-acef-4e21-91c7-ab87c3f0204b\", \"gender\": \"Female\", \"age\": 91, \"department\": \"Surgery\", \"admission_time\": \"2025-09-20T09:53:46.899409\", \"discharge_time\": \"2025-09-22T21:53:46.899409\", \"bed_id\": 388, \"hospital_id\": 5}</td></tr><tr><td>{\"patient_id\": \"d0a4cd9b-0ee6-42ac-8e03-f225c46a432c\", \"gender\": \"Female\", \"age\": 2, \"department\": \"Maternity\", \"admission_time\": \"2025-09-25T17:00:05.148762\", \"discharge_time\": \"2025-09-22T16:00:05.148688\", \"bed_id\": 378, \"hospital_id\": 7}</td></tr><tr><td>{\"patient_id\": \"ed8ded49-da60-4833-b544-5d9f981b89e1\", \"gender\": \"Female\", \"age\": 62, \"department\": \"Cardiology\", \"admission_time\": \"2025-09-21T01:56:16.001196\", \"discharge_time\": \"2025-09-21T12:56:16.001196\", \"bed_id\": 59, \"hospital_id\": 1}</td></tr><tr><td>{\"patient_id\": \"4b64935a-32b5-416b-aa0e-6ebed9dcfaaa\", \"gender\": \"Female\", \"age\": 10, \"department\": \"Surgery\", \"admission_time\": \"2025-09-22T22:10:42.573160\", \"discharge_time\": \"2025-09-24T15:10:42.573160\", \"bed_id\": 321, \"hospital_id\": 7}</td></tr><tr><td>{\"patient_id\": \"159c0c33-2e89-459f-af32-a3b429e4639f\", \"gender\": \"Female\", \"age\": 19, \"department\": \"Surgery\", \"admission_time\": \"2025-09-20T15:58:06.071701\", \"discharge_time\": \"2025-09-23T04:58:06.071701\", \"bed_id\": 443, \"hospital_id\": 2}</td></tr><tr><td>{\"patient_id\": \"253f679a-7b9c-45af-8ecb-b1bd47aba709\", \"gender\": \"Female\", \"age\": 10, \"department\": \"Surgery\", \"admission_time\": \"2025-09-21T23:57:35.052021\", \"discharge_time\": \"2025-09-24T17:57:35.052021\", \"bed_id\": 141, \"hospital_id\": 1}</td></tr><tr><td>{\"patient_id\": \"90fcde42-e341-4170-9d85-3f5469f6bfb0\", \"gender\": \"Female\", \"age\": 25, \"department\": \"Surgery\", \"admission_time\": \"2025-09-20T10:55:47.983037\", \"discharge_time\": \"2025-09-22T08:55:47.983037\", \"bed_id\": 407, \"hospital_id\": 2}</td></tr><tr><td>{\"patient_id\": \"6f64b510-2f0f-449c-b313-93c6fefaa15e\", \"gender\": \"Female\", \"age\": 57, \"department\": \"Surgery\", \"admission_time\": \"2025-09-21T09:07:42.456607\", \"discharge_time\": \"2025-09-23T05:07:42.456607\", \"bed_id\": 409, \"hospital_id\": 6}</td></tr><tr><td>{\"patient_id\": \"1fd4b0a5-ed45-4999-a250-d2ac8cc53429\", \"gender\": \"Female\", \"age\": 79, \"department\": \"Surgery\", \"admission_time\": \"2025-09-20T20:54:21.922500\", \"discharge_time\": \"2025-09-22T16:54:21.922500\", \"bed_id\": 235, \"hospital_id\": 1}</td></tr><tr><td>{\"patient_id\": \"885d2f31-ce62-44da-9cfa-6cda05ea452a\", \"gender\": \"Female\", \"age\": 83, \"department\": \"Surgery\", \"admission_time\": \"2025-09-22T09:59:39.132191\", \"discharge_time\": \"2025-09-23T01:59:39.132191\", \"bed_id\": 313, \"hospital_id\": 4}</td></tr><tr><td>{\"patient_id\": \"efb96eb0-cc42-4c96-a99e-5cc0f15a9a55\", \"gender\": \"Female\", \"age\": 31, \"department\": \"Surgery\", \"admission_time\": \"2025-09-20T23:05:12.352069\", \"discharge_time\": \"2025-09-22T14:05:12.352069\", \"bed_id\": 139, \"hospital_id\": 7}</td></tr><tr><td>{\"patient_id\": \"426d2a90-2fd1-4bac-b6f6-69a3df774dc4\", \"gender\": \"Female\", \"age\": 57, \"department\": \"Surgery\", \"admission_time\": \"2025-09-20T13:53:10.875652\", \"discharge_time\": \"2025-09-21T05:53:10.875652\", \"bed_id\": 238, \"hospital_id\": 1}</td></tr><tr><td>{\"patient_id\": \"6d52709a-1ea9-466b-9715-c0debe6dc7ea\", \"gender\": \"Male\", \"age\": 116, \"department\": \"Pediatrics\", \"admission_time\": \"2025-09-20T09:55:30.972472\", \"discharge_time\": \"2025-09-22T11:55:30.972472\", \"bed_id\": 336, \"hospital_id\": 1}</td></tr><tr><td>{\"patient_id\": \"b5afc556-ca86-4a1d-af92-363510c0ba76\", \"gender\": \"Female\", \"age\": 87, \"department\": \"Pediatrics\", \"admission_time\": \"2025-09-20T07:06:11.391303\", \"discharge_time\": \"2025-09-20T16:06:11.391303\", \"bed_id\": 58, \"hospital_id\": 1}</td></tr><tr><td>{\"patient_id\": \"97dff65c-7111-4bde-9009-a9f8a410a88b\", \"gender\": \"Female\", \"age\": 27, \"department\": \"Surgery\", \"admission_time\": \"2025-09-22T21:54:20.922052\", \"discharge_time\": \"2025-09-23T08:54:20.922052\", \"bed_id\": 328, \"hospital_id\": 5}</td></tr><tr><td>{\"patient_id\": \"d81b6220-5225-45cd-85d2-2ec429bead01\", \"gender\": \"Female\", \"age\": 4, \"department\": \"Cardiology\", \"admission_time\": \"2025-09-20T23:10:04.544772\", \"discharge_time\": \"2025-09-23T21:10:04.544772\", \"bed_id\": 379, \"hospital_id\": 4}</td></tr><tr><td>{\"patient_id\": \"b759b1aa-846b-4907-9e5f-63460bf3c98a\", \"gender\": \"Female\", \"age\": 54, \"department\": \"Surgery\", \"admission_time\": \"2025-09-21T09:57:33.051013\", \"discharge_time\": \"2025-09-22T18:57:33.051013\", \"bed_id\": 181, \"hospital_id\": 2}</td></tr><tr><td>{\"patient_id\": \"9675bddd-4630-4d75-9c0a-ecdcc68d7c48\", \"gender\": \"Female\", \"age\": 44, \"department\": \"Oncology\", \"admission_time\": \"2025-09-22T10:59:49.138345\", \"discharge_time\": \"2025-09-22T13:59:49.138345\", \"bed_id\": 394, \"hospital_id\": 4}</td></tr><tr><td>{\"patient_id\": \"c3db6e45-bed3-4076-b26f-223eca1c120c\", \"gender\": \"Male\", \"age\": 11, \"department\": \"Pediatrics\", \"admission_time\": \"2025-09-21T21:06:15.394882\", \"discharge_time\": \"2025-09-21T22:06:15.394882\", \"bed_id\": 286, \"hospital_id\": 7}</td></tr><tr><td>{\"patient_id\": \"45c41bd9-d9da-4474-883e-aebe809cd7f8\", \"gender\": \"Female\", \"age\": 76, \"department\": \"Surgery\", \"admission_time\": \"2025-09-21T10:00:36.166453\", \"discharge_time\": \"2025-09-23T12:00:36.166453\", \"bed_id\": 182, \"hospital_id\": 5}</td></tr><tr><td>{\"patient_id\": \"de4e1ef2-5f54-4170-8c95-5900b12215f6\", \"gender\": \"Female\", \"age\": 83, \"department\": \"Surgery\", \"admission_time\": \"2025-09-21T07:10:03.544279\", \"discharge_time\": \"2025-09-24T00:10:03.544279\", \"bed_id\": 434, \"hospital_id\": 4}</td></tr><tr><td>{\"patient_id\": \"9bba5099-72e5-4efb-a398-e4ff358586f6\", \"gender\": \"Female\", \"age\": 15, \"department\": \"Surgery\", \"admission_time\": \"2025-09-20T12:56:10.998060\", \"discharge_time\": \"2025-09-23T10:56:10.998060\", \"bed_id\": 432, \"hospital_id\": 2}</td></tr><tr><td>{\"patient_id\": \"4c109a3f-8d89-44fc-8526-7a96e198e2a3\", \"gender\": \"Female\", \"age\": 2, \"department\": \"Pediatrics\", \"admission_time\": \"2025-09-21T14:02:59.262241\", \"discharge_time\": \"2025-09-22T07:02:59.262241\", \"bed_id\": 386, \"hospital_id\": 5}</td></tr><tr><td>{\"patient_id\": \"0d2ce607-6b20-46ab-873d-c99f5811152d\", \"gender\": \"Female\", \"age\": 62, \"department\": \"Surgery\", \"admission_time\": \"2025-09-22T19:05:49.374816\", \"discharge_time\": \"2025-09-25T02:05:49.374816\", \"bed_id\": 493, \"hospital_id\": 4}</td></tr><tr><td>{\"patient_id\": \"5e874ccd-1d63-460d-a004-4523eb636e67\", \"gender\": \"Female\", \"age\": 1, \"department\": \"Pediatrics\", \"admission_time\": \"2025-09-22T13:53:41.896293\", \"discharge_time\": \"2025-09-23T02:53:41.896293\", \"bed_id\": 152, \"hospital_id\": 5}</td></tr><tr><td>{\"patient_id\": \"b0d6b76a-54b5-404b-bdfd-45d2fc1f7b4e\", \"gender\": \"Female\", \"age\": 86, \"department\": \"Surgery\", \"admission_time\": \"2025-09-22T11:04:05.307140\", \"discharge_time\": \"2025-09-23T13:04:05.307140\", \"bed_id\": 113, \"hospital_id\": 3}</td></tr><tr><td>{\"patient_id\": \"956ab47f-fcbc-4860-be6b-cae9a82ac6c8\", \"gender\": \"Female\", \"age\": 97, \"department\": \"Surgery\", \"admission_time\": \"2025-09-23T02:09:40.528871\", \"discharge_time\": \"2025-09-25T06:09:40.528871\", \"bed_id\": 122, \"hospital_id\": 6}</td></tr><tr><td>{\"patient_id\": \"c7ad7fbe-34b2-4186-bd6f-f5fef6d2c7c8\", \"gender\": \"Female\", \"age\": 43, \"department\": \"Surgery\", \"admission_time\": \"2025-09-22T22:57:53.063684\", \"discharge_time\": \"2025-09-24T15:57:53.063684\", \"bed_id\": 231, \"hospital_id\": 4}</td></tr><tr><td>{\"patient_id\": \"274d4314-e511-4fb3-8e80-fc51efa9d242\", \"gender\": \"Female\", \"age\": 76, \"department\": \"Surgery\", \"admission_time\": \"2025-09-21T23:55:12.959651\", \"discharge_time\": \"2025-09-24T02:55:12.959651\", \"bed_id\": 478, \"hospital_id\": 5}</td></tr><tr><td>{\"patient_id\": \"ccdddbfd-0aff-4d5b-bf66-d08ea1dd1635\", \"gender\": \"Female\", \"age\": 8, \"department\": \"Pediatrics\", \"admission_time\": \"2025-09-22T23:55:40.978260\", \"discharge_time\": \"2025-09-24T09:55:40.978260\", \"bed_id\": 457, \"hospital_id\": 4}</td></tr><tr><td>{\"patient_id\": \"163e2859-6c49-4bca-abeb-b62304053f1f\", \"gender\": \"Male\", \"age\": 22, \"department\": \"Pediatrics\", \"admission_time\": \"2025-09-20T12:04:23.321876\", \"discharge_time\": \"2025-09-20T16:04:23.321876\", \"bed_id\": 409, \"hospital_id\": 2}</td></tr><tr><td>{\"patient_id\": \"60d24d3a-c5dd-43e6-b2f3-91627c228836\", \"gender\": \"Female\", \"age\": 69, \"department\": \"Surgery\", \"admission_time\": \"2025-09-20T14:25:52.326863\", \"discharge_time\": \"2025-09-21T12:25:52.326863\", \"bed_id\": 360, \"hospital_id\": 6}</td></tr><tr><td>{\"patient_id\": \"221f1424-52de-4255-a092-6836003e8ef2\", \"gender\": \"Female\", \"age\": 45, \"department\": \"Surgery\", \"admission_time\": \"2025-09-22T18:08:59.501033\", \"discharge_time\": \"2025-09-23T03:08:59.501033\", \"bed_id\": 129, \"hospital_id\": 3}</td></tr><tr><td>{\"patient_id\": \"f5c8e084-cdde-4550-890a-16f60b48736e\", \"gender\": \"Female\", \"age\": 9, \"department\": \"Pediatrics\", \"admission_time\": \"2025-09-23T04:58:07.072339\", \"discharge_time\": \"2025-09-24T01:58:07.072339\", \"bed_id\": 201, \"hospital_id\": 7}</td></tr><tr><td>{\"patient_id\": \"57f76a0b-bdf2-4980-92a7-1d3a91e0c96d\", \"gender\": \"Female\", \"age\": 16, \"department\": \"Surgery\", \"admission_time\": \"2025-09-22T08:53:40.895398\", \"discharge_time\": \"2025-09-24T16:53:40.895398\", \"bed_id\": 278, \"hospital_id\": 2}</td></tr><tr><td>{\"patient_id\": \"b198305b-09b8-4ef9-9c49-7464265faf4f\", \"gender\": \"Female\", \"age\": 29, \"department\": \"Surgery\", \"admission_time\": \"2025-09-20T10:57:27.048088\", \"discharge_time\": \"2025-09-21T05:57:27.048088\", \"bed_id\": 223, \"hospital_id\": 5}</td></tr><tr><td>{\"patient_id\": \"d793fcec-dfe2-472a-88eb-58b79e4b4cef\", \"gender\": \"Male\", \"age\": 77, \"department\": \"Pediatrics\", \"admission_time\": \"2025-09-21T04:57:39.054860\", \"discharge_time\": \"2025-09-21T07:57:39.054860\", \"bed_id\": 279, \"hospital_id\": 5}</td></tr><tr><td>{\"patient_id\": \"bebf4f4b-a886-49f7-a3e9-7b70ab7ca498\", \"gender\": \"Female\", \"age\": 16, \"department\": \"Surgery\", \"admission_time\": \"2025-09-22T05:25:37.318681\", \"discharge_time\": \"2025-09-24T15:25:37.318681\", \"bed_id\": 454, \"hospital_id\": 4}</td></tr><tr><td>{\"patient_id\": \"afa81f45-10b6-4c39-b36c-b489b40ab9e1\", \"gender\": \"Female\", \"age\": 39, \"department\": \"Surgery\", \"admission_time\": \"2025-09-22T07:10:25.561142\", \"discharge_time\": \"2025-09-23T13:10:25.561142\", \"bed_id\": 241, \"hospital_id\": 7}</td></tr><tr><td>{\"patient_id\": \"fd705acf-d949-4119-a692-5020fffb5a0c\", \"gender\": \"Female\", \"age\": 1, \"department\": \"Cardiology\", \"admission_time\": \"2025-09-25T18:54:58.948107\", \"discharge_time\": \"2025-09-24T06:54:58.948032\", \"bed_id\": 28, \"hospital_id\": 7}</td></tr><tr><td>{\"patient_id\": \"dd166e77-597c-45bb-8ef7-0869630527f5\", \"gender\": \"Female\", \"age\": 61, \"department\": \"Oncology\", \"admission_time\": \"2025-09-22T00:26:39.360463\", \"discharge_time\": \"2025-09-22T09:26:39.360463\", \"bed_id\": 106, \"hospital_id\": 1}</td></tr><tr><td>{\"patient_id\": \"0ef44aba-7b81-4530-932a-145d8b6f92fc\", \"gender\": \"Female\", \"age\": 45, \"department\": \"Cardiology\", \"admission_time\": \"2025-09-22T04:07:35.451736\", \"discharge_time\": \"2025-09-22T15:07:35.451736\", \"bed_id\": 46, \"hospital_id\": 5}</td></tr><tr><td>{\"patient_id\": \"d9165111-191e-4222-a0cd-33d98172042d\", \"gender\": \"Female\", \"age\": 86, \"department\": \"Surgery\", \"admission_time\": \"2025-09-20T20:25:36.317511\", \"discharge_time\": \"2025-09-23T07:25:36.317511\", \"bed_id\": 333, \"hospital_id\": 6}</td></tr><tr><td>{\"patient_id\": \"9a490b4a-8549-4cad-9114-99b4bec9d11a\", \"gender\": \"Female\", \"age\": 18, \"department\": \"Surgery\", \"admission_time\": \"2025-09-22T16:56:20.003058\", \"discharge_time\": \"2025-09-24T01:56:20.003058\", \"bed_id\": 234, \"hospital_id\": 5}</td></tr><tr><td>{\"patient_id\": \"9b54a80c-edc6-4d98-ac22-2f681308d942\", \"gender\": \"Female\", \"age\": 55, \"department\": \"Surgery\", \"admission_time\": \"2025-09-20T19:05:14.353077\", \"discharge_time\": \"2025-09-22T02:05:14.353077\", \"bed_id\": 499, \"hospital_id\": 4}</td></tr><tr><td>{\"patient_id\": \"3f07b6b1-5623-4989-8260-779055484000\", \"gender\": \"Female\", \"age\": 7, \"department\": \"Oncology\", \"admission_time\": \"2025-09-21T20:01:08.185196\", \"discharge_time\": \"2025-09-24T03:01:08.185196\", \"bed_id\": 311, \"hospital_id\": 6}</td></tr><tr><td>{\"patient_id\": \"5d086711-e091-46ef-86d0-afa4bb067c0a\", \"gender\": \"Female\", \"age\": 15, \"department\": \"Surgery\", \"admission_time\": \"2025-09-20T20:53:27.886489\", \"discharge_time\": \"2025-09-21T12:53:27.886489\", \"bed_id\": 254, \"hospital_id\": 7}</td></tr><tr><td>{\"patient_id\": \"6fad7464-3d1c-4594-b6e0-f2b169e4a2c0\", \"gender\": \"Male\", \"age\": 144, \"department\": \"Pediatrics\", \"admission_time\": \"2025-09-22T14:09:22.517687\", \"discharge_time\": \"2025-09-25T06:09:22.517687\", \"bed_id\": 491, \"hospital_id\": 6}</td></tr><tr><td>{\"patient_id\": \"13071f64-c2fc-47ea-b189-047f93faf578\", \"gender\": \"Female\", \"age\": 60, \"department\": \"Surgery\", \"admission_time\": \"2025-09-21T00:05:22.357781\", \"discharge_time\": \"2025-09-23T20:05:22.357781\", \"bed_id\": 386, \"hospital_id\": 6}</td></tr><tr><td>{\"patient_id\": \"74b829aa-6453-4ad0-bee5-34110a1c2f48\", \"gender\": \"Male\", \"age\": 56, \"department\": \"Cardiology\", \"admission_time\": \"2025-09-21T21:03:03.264965\", \"discharge_time\": \"2025-09-21T23:03:03.264965\", \"bed_id\": 121, \"hospital_id\": 3}</td></tr><tr><td>{\"patient_id\": \"07a88bb3-9de0-40cf-bd46-dd393db84b11\", \"gender\": \"Male\", \"age\": 51, \"department\": \"Pediatrics\", \"admission_time\": \"2025-09-21T10:00:08.150704\", \"discharge_time\": \"2025-09-21T14:00:08.150704\", \"bed_id\": 100, \"hospital_id\": 1}</td></tr><tr><td>{\"patient_id\": \"bc39c2f0-a546-4ddb-8c1f-48d0896b7c7b\", \"gender\": \"Female\", \"age\": 24, \"department\": \"Surgery\", \"admission_time\": \"2025-09-20T16:03:34.285987\", \"discharge_time\": \"2025-09-21T17:03:34.285987\", \"bed_id\": 206, \"hospital_id\": 2}</td></tr><tr><td>{\"patient_id\": \"7b6ca4e9-8452-4ea9-937a-b12a9a5ad74a\", \"gender\": \"Female\", \"age\": 12, \"department\": \"Oncology\", \"admission_time\": \"2025-09-22T03:58:40.093393\", \"discharge_time\": \"2025-09-22T21:58:40.093393\", \"bed_id\": 207, \"hospital_id\": 4}</td></tr><tr><td>{\"patient_id\": \"00e40388-0843-491d-bc72-266fdbc1ad15\", \"gender\": \"Female\", \"age\": 1, \"department\": \"Pediatrics\", \"admission_time\": \"2025-09-23T04:57:46.059044\", \"discharge_time\": \"2025-09-25T08:57:46.059044\", \"bed_id\": 462, \"hospital_id\": 5}</td></tr><tr><td>{\"patient_id\": \"b57e231f-6f7e-451c-aed9-1453dd655dd8\", \"gender\": \"Female\", \"age\": 23, \"department\": \"Surgery\", \"admission_time\": \"2025-09-20T18:26:49.367831\", \"discharge_time\": \"2025-09-23T09:26:49.367831\", \"bed_id\": 297, \"hospital_id\": 7}</td></tr><tr><td>{\"patient_id\": \"ad9a7590-538c-41ff-90f7-b36d0b657896\", \"gender\": \"Female\", \"age\": 61, \"department\": \"Maternity\", \"admission_time\": \"2025-09-22T04:09:38.527983\", \"discharge_time\": \"2025-09-25T03:09:38.527983\", \"bed_id\": 461, \"hospital_id\": 4}</td></tr><tr><td>{\"patient_id\": \"b2f8d6be-6f11-438c-9739-ea8d641ac1d6\", \"gender\": \"Female\", \"age\": 87, \"department\": \"Emergency\", \"admission_time\": \"2025-09-21T19:25:35.316306\", \"discharge_time\": \"2025-09-21T22:25:35.316306\", \"bed_id\": 68, \"hospital_id\": 7}</td></tr><tr><td>{\"patient_id\": \"f7b9ea86-f11e-4590-86bb-729e622bd683\", \"gender\": \"Male\", \"age\": 148, \"department\": \"Cardiology\", \"admission_time\": \"2025-09-20T17:08:28.484324\", \"discharge_time\": \"2025-09-22T23:08:28.484324\", \"bed_id\": 192, \"hospital_id\": 2}</td></tr><tr><td>{\"patient_id\": \"1e76f39a-7601-4a5f-8b66-f1f19ee0561e\", \"gender\": \"Male\", \"age\": 28, \"department\": \"Pediatrics\", \"admission_time\": \"2025-09-21T05:06:34.408030\", \"discharge_time\": \"2025-09-22T23:06:34.408030\", \"bed_id\": 26, \"hospital_id\": 4}</td></tr><tr><td>{\"patient_id\": \"84848448-adae-4237-bd46-a0ff8f33db0a\", \"gender\": \"Male\", \"age\": 74, \"department\": \"Cardiology\", \"admission_time\": \"2025-09-22T13:01:14.188357\", \"discharge_time\": \"2025-09-23T16:01:14.188357\", \"bed_id\": 482, \"hospital_id\": 7}</td></tr><tr><td>{\"patient_id\": \"45a72db2-4818-4ca6-9627-7717d2f8573d\", \"gender\": \"Female\", \"age\": 79, \"department\": \"Surgery\", \"admission_time\": \"2025-09-22T23:09:29.521656\", \"discharge_time\": \"2025-09-24T11:09:29.521656\", \"bed_id\": 292, \"hospital_id\": 2}</td></tr><tr><td>{\"patient_id\": \"0f4fbb90-2aae-45fe-a0bb-5da2d445fe93\", \"gender\": \"Female\", \"age\": 56, \"department\": \"Emergency\", \"admission_time\": \"2025-09-20T07:54:02.909432\", \"discharge_time\": \"2025-09-20T17:54:02.909432\", \"bed_id\": 67, \"hospital_id\": 2}</td></tr><tr><td>{\"patient_id\": \"22dd6746-2009-470c-828b-e3e41163c819\", \"gender\": \"Female\", \"age\": 55, \"department\": \"Maternity\", \"admission_time\": \"2025-09-22T16:06:08.388281\", \"discharge_time\": \"2025-09-22T22:06:08.388281\", \"bed_id\": 92, \"hospital_id\": 1}</td></tr><tr><td>{\"patient_id\": \"1ba6ea66-4e72-4d86-b988-6c10811066a4\", \"gender\": \"Male\", \"age\": 63, \"department\": \"Pediatrics\", \"admission_time\": \"2025-09-20T23:58:42.095282\", \"discharge_time\": \"2025-09-21T04:58:42.095282\", \"bed_id\": 84, \"hospital_id\": 3}</td></tr><tr><td>{\"patient_id\": \"2a9cbcc6-c361-4892-8794-0e95378fcdd8\", \"gender\": \"Male\", \"age\": 106, \"department\": \"Cardiology\", \"admission_time\": \"2025-09-20T08:26:17.346277\", \"discharge_time\": \"2025-09-21T23:26:17.346277\", \"bed_id\": 222, \"hospital_id\": 2}</td></tr><tr><td>{\"patient_id\": \"be2b9d13-502a-4fd4-98b5-486501b737bc\", \"gender\": \"Male\", \"age\": 34, \"department\": \"Cardiology\", \"admission_time\": \"2025-09-21T09:06:48.419030\", \"discharge_time\": \"2025-09-22T14:06:48.419030\", \"bed_id\": 41, \"hospital_id\": 6}</td></tr><tr><td>{\"patient_id\": \"e710a120-8d1a-484a-bbd2-722520905abf\", \"gender\": \"Female\", \"age\": 43, \"department\": \"Pediatrics\", \"admission_time\": \"2025-09-22T00:57:19.043074\", \"discharge_time\": \"2025-09-22T04:57:19.043074\", \"bed_id\": 16, \"hospital_id\": 5}</td></tr><tr><td>{\"patient_id\": \"22cb07c3-e8cd-48c2-83a9-9fd73607deb7\", \"gender\": \"Female\", \"age\": 55, \"department\": \"Emergency\", \"admission_time\": \"2025-09-23T00:00:41.170182\", \"discharge_time\": \"2025-09-23T07:00:41.170182\", \"bed_id\": 57, \"hospital_id\": 2}</td></tr><tr><td>{\"patient_id\": \"59296b13-b83a-412c-be92-085e0716e835\", \"gender\": \"Female\", \"age\": 84, \"department\": \"Oncology\", \"admission_time\": \"2025-09-22T00:59:30.127011\", \"discharge_time\": \"2025-09-23T10:59:30.127011\", \"bed_id\": 99, \"hospital_id\": 7}</td></tr><tr><td>{\"patient_id\": \"8a1f3ac3-561e-4fb4-9cb5-4352d1816239\", \"gender\": \"Female\", \"age\": 62, \"department\": \"Surgery\", \"admission_time\": \"2025-09-22T03:06:14.393838\", \"discharge_time\": \"2025-09-24T05:06:14.393838\", \"bed_id\": 462, \"hospital_id\": 4}</td></tr><tr><td>{\"patient_id\": \"873aae12-8d0e-4613-b8ca-2d9007088dd1\", \"gender\": \"Male\", \"age\": 47, \"department\": \"Cardiology\", \"admission_time\": \"2025-09-22T11:08:53.497849\", \"discharge_time\": \"2025-09-23T03:08:53.497849\", \"bed_id\": 78, \"hospital_id\": 1}</td></tr><tr><td>{\"patient_id\": \"3d529071-1e16-4568-a0a0-716381884a45\", \"gender\": \"Male\", \"age\": 70, \"department\": \"Pediatrics\", \"admission_time\": \"2025-09-22T04:58:00.067782\", \"discharge_time\": \"2025-09-25T00:58:00.067782\", \"bed_id\": 47, \"hospital_id\": 7}</td></tr><tr><td>{\"patient_id\": \"bf3575d9-d73b-4699-a4bc-78321dca2580\", \"gender\": \"Female\", \"age\": 79, \"department\": \"Oncology\", \"admission_time\": \"2025-09-21T11:08:41.491735\", \"discharge_time\": \"2025-09-23T16:08:41.491735\", \"bed_id\": 46, \"hospital_id\": 1}</td></tr><tr><td>{\"patient_id\": \"979af9d2-c0db-4e91-a40b-8214c47b1149\", \"gender\": \"Female\", \"age\": 59, \"department\": \"Surgery\", \"admission_time\": \"2025-09-21T00:06:45.416286\", \"discharge_time\": \"2025-09-21T08:06:45.416286\", \"bed_id\": 486, \"hospital_id\": 7}</td></tr><tr><td>{\"patient_id\": \"8039a66d-ba65-4533-83f6-a154f1ba0cfe\", \"gender\": \"Male\", \"age\": 48, \"department\": \"Pediatrics\", \"admission_time\": \"2025-09-21T14:04:14.315328\", \"discharge_time\": \"2025-09-22T17:04:14.315328\", \"bed_id\": 94, \"hospital_id\": 4}</td></tr><tr><td>{\"patient_id\": \"08c0de02-fe2e-4bfa-bb51-1643dd17d73b\", \"gender\": \"Female\", \"age\": 60, \"department\": \"Oncology\", \"admission_time\": \"2025-09-21T01:54:25.925709\", \"discharge_time\": \"2025-09-23T08:54:25.925709\", \"bed_id\": 63, \"hospital_id\": 3}</td></tr><tr><td>{\"patient_id\": \"056c94fb-ad83-4fdd-b4f5-a471e5da44f3\", \"gender\": \"Female\", \"age\": 92, \"department\": \"Surgery\", \"admission_time\": \"2025-09-20T22:55:15.961014\", \"discharge_time\": \"2025-09-22T07:55:15.961014\", \"bed_id\": 392, \"hospital_id\": 1}</td></tr><tr><td>{\"patient_id\": \"a4a075de-8d2a-4e68-a7ed-b8a0dfa11684\", \"gender\": \"Female\", \"age\": 2, \"department\": \"Pediatrics\", \"admission_time\": \"2025-09-23T00:55:59.990453\", \"discharge_time\": \"2025-09-23T18:55:59.990453\", \"bed_id\": 419, \"hospital_id\": 4}</td></tr><tr><td>{\"patient_id\": \"95d498af-39ba-43b6-b967-374d5e4fe82d\", \"gender\": \"Male\", \"age\": 69, \"department\": \"Pediatrics\", \"admission_time\": \"2025-09-22T09:55:28.971608\", \"discharge_time\": \"2025-09-24T03:55:28.971608\", \"bed_id\": 18, \"hospital_id\": 1}</td></tr><tr><td>{\"patient_id\": \"4b1583b7-f111-4a5e-aeea-f919f732dbfb\", \"gender\": \"Female\", \"age\": 49, \"department\": \"Maternity\", \"admission_time\": \"2025-09-21T12:52:49.859498\", \"discharge_time\": \"2025-09-21T17:52:49.859498\", \"bed_id\": 83, \"hospital_id\": 2}</td></tr><tr><td>{\"patient_id\": \"edc88cae-8493-451b-9fec-186e3ebec3b9\", \"gender\": \"Male\", \"age\": 33, \"department\": \"Cardiology\", \"admission_time\": \"2025-09-22T23:59:44.135798\", \"discharge_time\": \"2025-09-23T07:59:44.135798\", \"bed_id\": 84, \"hospital_id\": 6}</td></tr><tr><td>{\"patient_id\": \"e0db1c77-3e1f-49b8-b995-0fe462006256\", \"gender\": \"Male\", \"age\": 83, \"department\": \"Cardiology\", \"admission_time\": \"2025-09-21T07:53:50.901286\", \"discharge_time\": \"2025-09-23T21:53:50.901286\", \"bed_id\": 76, \"hospital_id\": 5}</td></tr><tr><td>{\"patient_id\": \"a20ea976-f131-413e-92e1-5302cfed02f0\", \"gender\": \"Female\", \"age\": 46, \"department\": \"Oncology\", \"admission_time\": \"2025-09-20T21:06:36.409394\", \"discharge_time\": \"2025-09-22T01:06:36.409394\", \"bed_id\": 70, \"hospital_id\": 1}</td></tr><tr><td>{\"patient_id\": \"82d6fcdc-8170-4502-841c-7d00f68336b0\", \"gender\": \"Female\", \"age\": 5, \"department\": \"Maternity\", \"admission_time\": \"2025-09-22T06:00:51.176492\", \"discharge_time\": \"2025-09-23T10:00:51.176492\", \"bed_id\": 343, \"hospital_id\": 3}</td></tr><tr><td>{\"patient_id\": \"b583b42e-e8d5-4d96-9b32-4c7036b10e51\", \"gender\": \"Male\", \"age\": 46, \"department\": \"Cardiology\", \"admission_time\": \"2025-09-21T08:25:54.328705\", \"discharge_time\": \"2025-09-23T13:25:54.328705\", \"bed_id\": 80, \"hospital_id\": 4}</td></tr><tr><td>{\"patient_id\": \"f411a2a1-0936-4402-a856-89695025dc38\", \"gender\": \"Male\", \"age\": 28, \"department\": \"Pediatrics\", \"admission_time\": \"2025-09-21T10:04:54.341320\", \"discharge_time\": \"2025-09-24T09:04:54.341320\", \"bed_id\": 12, \"hospital_id\": 1}</td></tr><tr><td>{\"patient_id\": \"a116649b-0c46-4ef2-9b89-70d161c522f2\", \"gender\": \"Male\", \"age\": 93, \"department\": \"Pediatrics\", \"admission_time\": \"2025-09-21T19:03:42.289897\", \"discharge_time\": \"2025-09-22T13:03:42.289897\", \"bed_id\": 58, \"hospital_id\": 2}</td></tr><tr><td>{\"patient_id\": \"2b313581-07eb-4e38-af32-70681b6cb89d\", \"gender\": \"Male\", \"age\": 145, \"department\": \"Pediatrics\", \"admission_time\": \"2025-09-25T07:58:10.075048\", \"discharge_time\": \"2025-09-23T16:58:10.074968\", \"bed_id\": 26, \"hospital_id\": 6}</td></tr><tr><td>{\"patient_id\": \"e502d110-9cf3-4f9f-92df-191f3370847d\", \"gender\": \"Male\", \"age\": 4, \"department\": \"Cardiology\", \"admission_time\": \"2025-09-25T08:03:48.295103\", \"discharge_time\": \"2025-09-22T20:03:48.295025\", \"bed_id\": 149, \"hospital_id\": 7}</td></tr><tr><td>{\"patient_id\": \"5e0c081d-1b4f-4854-86ed-6d590112b67a\", \"gender\": \"Female\", \"age\": 38, \"department\": \"Surgery\", \"admission_time\": \"2025-09-21T09:05:07.349011\", \"discharge_time\": \"2025-09-21T19:05:07.349011\", \"bed_id\": 318, \"hospital_id\": 3}</td></tr><tr><td>{\"patient_id\": \"8fc96936-b0dc-4edc-ba7e-bc76442f119b\", \"gender\": \"Female\", \"age\": 89, \"department\": \"Surgery\", \"admission_time\": \"2025-09-21T07:02:26.240963\", \"discharge_time\": \"2025-09-21T14:02:26.240963\", \"bed_id\": 329, \"hospital_id\": 3}</td></tr><tr><td>{\"patient_id\": \"90c8cf4a-a270-4724-a25d-1be49e634625\", \"gender\": \"Female\", \"age\": 10, \"department\": \"Oncology\", \"admission_time\": \"2025-09-21T00:08:31.486829\", \"discharge_time\": \"2025-09-22T10:08:31.486829\", \"bed_id\": 83, \"hospital_id\": 3}</td></tr><tr><td>{\"patient_id\": \"10340cbb-c6cb-4baf-a1e9-dde7ffaddb4b\", \"gender\": \"Female\", \"age\": 5, \"department\": \"Cardiology\", \"admission_time\": \"2025-09-23T06:59:36.130980\", \"discharge_time\": \"2025-09-23T11:59:36.130980\", \"bed_id\": 379, \"hospital_id\": 3}</td></tr><tr><td>{\"patient_id\": \"df6ed200-b7f1-4e9b-81bf-825dfa19360f\", \"gender\": \"Female\", \"age\": 62, \"department\": \"Oncology\", \"admission_time\": \"2025-09-20T09:26:23.350578\", \"discharge_time\": \"2025-09-23T05:26:23.350578\", \"bed_id\": 52, \"hospital_id\": 3}</td></tr><tr><td>{\"patient_id\": \"107130f3-f9ca-45fc-b4c6-031a95ec9696\", \"gender\": \"Female\", \"age\": 22, \"department\": \"Oncology\", \"admission_time\": \"2025-09-23T01:25:42.322163\", \"discharge_time\": \"2025-09-25T05:25:42.322163\", \"bed_id\": 46, \"hospital_id\": 5}</td></tr><tr><td>{\"patient_id\": \"073427c9-3f94-4557-ad9b-325ac5a4789b\", \"gender\": \"Male\", \"age\": 77, \"department\": \"Pediatrics\", \"admission_time\": \"2025-09-20T13:02:02.223421\", \"discharge_time\": \"2025-09-21T05:02:02.223421\", \"bed_id\": 36, \"hospital_id\": 6}</td></tr><tr><td>{\"patient_id\": \"f0e21cb7-f746-4cec-b684-c4f9cb4e51aa\", \"gender\": \"Male\", \"age\": 80, \"department\": \"Pediatrics\", \"admission_time\": \"2025-09-20T10:57:38.054390\", \"discharge_time\": \"2025-09-22T09:57:38.054390\", \"bed_id\": 59, \"hospital_id\": 3}</td></tr><tr><td>{\"patient_id\": \"96aa0870-bed2-46c3-ab34-73beaeaf9c3a\", \"gender\": \"Female\", \"age\": 84, \"department\": \"Oncology\", \"admission_time\": \"2025-09-23T04:54:39.935582\", \"discharge_time\": \"2025-09-24T16:54:39.935582\", \"bed_id\": 27, \"hospital_id\": 7}</td></tr><tr><td>{\"patient_id\": \"ae0b0b88-c7c2-452e-aeed-4612fb3d36b9\", \"gender\": \"Female\", \"age\": 20, \"department\": \"Oncology\", \"admission_time\": \"2025-09-22T12:00:28.162132\", \"discharge_time\": \"2025-09-25T10:00:28.162132\", \"bed_id\": 84, \"hospital_id\": 6}</td></tr><tr><td>{\"patient_id\": \"d2621ebc-000b-494e-a469-f90f58121f7b\", \"gender\": \"Female\", \"age\": 18, \"department\": \"Surgery\", \"admission_time\": \"2025-09-22T11:54:51.943670\", \"discharge_time\": \"2025-09-22T19:54:51.943670\", \"bed_id\": 292, \"hospital_id\": 1}</td></tr><tr><td>{\"patient_id\": \"ed8f704e-56d7-4636-aed5-c3335d50ae2f\", \"gender\": \"Female\", \"age\": 93, \"department\": \"Surgery\", \"admission_time\": \"2025-09-21T04:58:38.092468\", \"discharge_time\": \"2025-09-21T07:58:38.092468\", \"bed_id\": 116, \"hospital_id\": 7}</td></tr><tr><td>{\"patient_id\": \"c29c1272-d156-4528-967a-bbcaea7715ab\", \"gender\": \"Female\", \"age\": 9, \"department\": \"Oncology\", \"admission_time\": \"2025-09-20T11:04:58.343950\", \"discharge_time\": \"2025-09-21T18:04:58.343950\", \"bed_id\": 258, \"hospital_id\": 6}</td></tr><tr><td>{\"patient_id\": \"cd898a10-83b2-418e-9d7e-f3f32c4f4c65\", \"gender\": \"Female\", \"age\": 29, \"department\": \"Oncology\", \"admission_time\": \"2025-09-20T11:53:35.892674\", \"discharge_time\": \"2025-09-21T07:53:35.892674\", \"bed_id\": 84, \"hospital_id\": 4}</td></tr><tr><td>{\"patient_id\": \"61d04495-09d1-4b13-b3d4-a1c1a23e5cf4\", \"gender\": \"Female\", \"age\": 80, \"department\": \"Oncology\", \"admission_time\": \"2025-09-22T22:59:27.125081\", \"discharge_time\": \"2025-09-23T18:59:27.125081\", \"bed_id\": 1, \"hospital_id\": 7}</td></tr><tr><td>{\"patient_id\": \"dcfc529a-97bc-4ae8-83a1-d0e7c4f63f37\", \"gender\": \"Female\", \"age\": 69, \"department\": \"Oncology\", \"admission_time\": \"2025-09-22T12:05:44.371497\", \"discharge_time\": \"2025-09-23T21:05:44.371497\", \"bed_id\": 63, \"hospital_id\": 7}</td></tr><tr><td>{\"patient_id\": \"c255ca8e-5c6a-45f7-ba1b-395338bc41b4\", \"gender\": \"Male\", \"age\": 48, \"department\": \"Pediatrics\", \"admission_time\": \"2025-09-22T07:53:56.905557\", \"discharge_time\": \"2025-09-22T18:53:56.905557\", \"bed_id\": 82, \"hospital_id\": 3}</td></tr><tr><td>{\"patient_id\": \"539e991a-73a4-4753-b63e-fda4bf4f912e\", \"gender\": \"Male\", \"age\": 81, \"department\": \"Pediatrics\", \"admission_time\": \"2025-09-22T11:04:32.327708\", \"discharge_time\": \"2025-09-25T03:04:32.327708\", \"bed_id\": 40, \"hospital_id\": 2}</td></tr><tr><td>{\"patient_id\": \"b94545c6-bfbc-46d2-8f3d-e71d43420629\", \"gender\": \"Male\", \"age\": 128, \"department\": \"Cardiology\", \"admission_time\": \"2025-09-21T08:54:30.928739\", \"discharge_time\": \"2025-09-21T16:54:30.928739\", \"bed_id\": 152, \"hospital_id\": 6}</td></tr><tr><td>{\"patient_id\": \"6b795af9-3b4f-4be0-85db-87b8a1e3c2d2\", \"gender\": \"Male\", \"age\": 49, \"department\": \"Pediatrics\", \"admission_time\": \"2025-09-21T13:07:00.426711\", \"discharge_time\": \"2025-09-21T21:07:00.426711\", \"bed_id\": 80, \"hospital_id\": 1}</td></tr><tr><td>{\"patient_id\": \"2909c11e-13fe-4c58-8e2a-8c863604db76\", \"gender\": \"Male\", \"age\": 4, \"department\": \"Cardiology\", \"admission_time\": \"2025-09-24T22:26:28.354118\", \"discharge_time\": \"2025-09-23T17:26:28.354044\", \"bed_id\": 429, \"hospital_id\": 6}</td></tr><tr><td>{\"patient_id\": \"7e004f6e-290b-4246-b142-825b8e6fb937\", \"gender\": \"Male\", \"age\": 16, \"department\": \"Surgery\", \"admission_time\": \"2025-09-21T03:57:26.047535\", \"discharge_time\": \"2025-09-22T22:57:26.047535\", \"bed_id\": 319, \"hospital_id\": 2}</td></tr><tr><td>{\"patient_id\": \"8c083e2a-b23b-42ea-a278-ad861217f531\", \"gender\": \"Female\", \"age\": 4, \"department\": \"Cardiology\", \"admission_time\": \"2025-09-20T10:09:56.539452\", \"discharge_time\": \"2025-09-21T11:09:56.539452\", \"bed_id\": 32, \"hospital_id\": 4}</td></tr><tr><td>{\"patient_id\": \"0d09d23d-fb9c-4e4a-93e2-73aa86181045\", \"gender\": \"Female\", \"age\": 9, \"department\": \"Cardiology\", \"admission_time\": \"2025-09-22T02:59:50.139483\", \"discharge_time\": \"2025-09-22T12:59:50.139483\", \"bed_id\": 359, \"hospital_id\": 4}</td></tr><tr><td>{\"patient_id\": \"c996c6a4-761f-45f2-928a-0fe98681aa07\", \"gender\": \"Female\", \"age\": 7, \"department\": \"Pediatrics\", \"admission_time\": \"2025-09-20T10:03:38.287832\", \"discharge_time\": \"2025-09-22T10:03:38.287832\", \"bed_id\": 208, \"hospital_id\": 6}</td></tr><tr><td>{\"patient_id\": \"c7dc3dbd-517a-449b-ad02-90fb98f000fb\", \"gender\": \"Female\", \"age\": 52, \"department\": \"Surgery\", \"admission_time\": \"2025-09-20T16:08:03.469587\", \"discharge_time\": \"2025-09-21T19:08:03.469587\", \"bed_id\": 24, \"hospital_id\": 2}</td></tr><tr><td>{\"patient_id\": \"464fbc13-a3d1-4e6a-a212-aae5b22ccdae\", \"gender\": \"Male\", \"age\": 34, \"department\": \"Maternity\", \"admission_time\": \"2025-09-24T18:00:30.163759\", \"discharge_time\": \"2025-09-22T04:00:30.163684\", \"bed_id\": 150, \"hospital_id\": 5}</td></tr><tr><td>{\"patient_id\": \"4e4e43ca-d5de-46d8-855c-63b494cd97f6\", \"gender\": \"Female\", \"age\": 76, \"department\": \"Maternity\", \"admission_time\": \"2025-09-20T13:07:06.429520\", \"discharge_time\": \"2025-09-22T23:07:06.429520\", \"bed_id\": 8, \"hospital_id\": 4}</td></tr><tr><td>{\"patient_id\": \"95f66446-c775-47f7-8d96-10a29ef467ff\", \"gender\": \"Male\", \"age\": 74, \"department\": \"Oncology\", \"admission_time\": \"2025-09-24T19:07:07.430390\", \"discharge_time\": \"2025-09-23T08:07:07.430321\", \"bed_id\": 484, \"hospital_id\": 2}</td></tr><tr><td>{\"patient_id\": \"7f4b96ef-a08e-4e7d-b1c9-48423adbe1a9\", \"gender\": \"Male\", \"age\": 20, \"department\": \"Pediatrics\", \"admission_time\": \"2025-09-23T08:26:32.356564\", \"discharge_time\": \"2025-09-23T19:26:32.356564\", \"bed_id\": 51, \"hospital_id\": 2}</td></tr><tr><td>{\"patient_id\": \"b079d47b-7d5e-46ff-93fb-f2bb437bcd69\", \"gender\": \"Male\", \"age\": 41, \"department\": \"Pediatrics\", \"admission_time\": \"2025-09-23T07:26:48.367365\", \"discharge_time\": \"2025-09-23T19:26:48.367365\", \"bed_id\": 40, \"hospital_id\": 5}</td></tr><tr><td>{\"patient_id\": \"b71303b4-a43b-4331-9e7c-6aa9cbc24645\", \"gender\": \"Female\", \"age\": 12, \"department\": \"Surgery\", \"admission_time\": \"2025-09-20T10:59:37.131385\", \"discharge_time\": \"2025-09-22T10:59:37.131385\", \"bed_id\": 161, \"hospital_id\": 6}</td></tr><tr><td>{\"patient_id\": \"9efc429d-c5ff-48a0-a70b-1a31c7e484da\", \"gender\": \"Male\", \"age\": 87, \"department\": \"Emergency\", \"admission_time\": \"2025-09-24T21:54:41.936621\", \"discharge_time\": \"2025-09-22T04:54:41.936495\", \"bed_id\": 159, \"hospital_id\": 2}</td></tr><tr><td>{\"patient_id\": \"11932db6-f54a-408e-aef3-0ff1ef3a6ef1\", \"gender\": \"Female\", \"age\": 1, \"department\": \"Emergency\", \"admission_time\": \"2025-09-23T01:54:03.909897\", \"discharge_time\": \"2025-09-26T00:54:03.909897\", \"bed_id\": 441, \"hospital_id\": 7}</td></tr><tr><td>{\"patient_id\": \"ba69b2fa-90d9-4e0e-9e12-f6d768e94799\", \"gender\": \"Male\", \"age\": 16, \"department\": \"Maternity\", \"admission_time\": \"2025-09-26T04:00:01.146244\", \"discharge_time\": \"2025-09-24T18:00:01.146173\", \"bed_id\": 169, \"hospital_id\": 4}</td></tr><tr><td>{\"patient_id\": \"5c7729bc-db2e-49ae-aec8-ab9f11b1f130\", \"gender\": \"Female\", \"age\": 93, \"department\": \"ICU\", \"admission_time\": \"2025-09-21T19:59:35.129730\", \"discharge_time\": \"2025-09-22T05:59:35.129730\", \"bed_id\": 23, \"hospital_id\": 4}</td></tr><tr><td>{\"patient_id\": \"edb68d2c-0b76-4e23-a704-b3d29c0aafd1\", \"gender\": \"Female\", \"age\": 9, \"department\": \"Maternity\", \"admission_time\": \"2025-09-20T08:10:18.555313\", \"discharge_time\": \"2025-09-22T03:10:18.555313\", \"bed_id\": 182, \"hospital_id\": 2}</td></tr><tr><td>{\"patient_id\": \"e867118f-1761-43e4-9807-ec329f6a5c0e\", \"gender\": \"Female\", \"age\": 12, \"department\": \"Oncology\", \"admission_time\": \"2025-09-21T11:00:37.167054\", \"discharge_time\": \"2025-09-21T13:00:37.167054\", \"bed_id\": 67, \"hospital_id\": 3}</td></tr><tr><td>{\"patient_id\": \"50c6c72c-6c9e-4204-9830-532919b9cf8b\", \"gender\": \"Female\", \"age\": 3, \"department\": \"Emergency\", \"admission_time\": \"2025-09-20T22:26:36.359125\", \"discharge_time\": \"2025-09-21T11:26:36.359125\", \"bed_id\": 404, \"hospital_id\": 5}</td></tr><tr><td>{\"patient_id\": \"d192abda-9585-42ef-a526-39b9f7b305b5\", \"gender\": \"Female\", \"age\": 7, \"department\": \"Emergency\", \"admission_time\": \"2025-09-20T11:59:34.129320\", \"discharge_time\": \"2025-09-21T23:59:34.129320\", \"bed_id\": 424, \"hospital_id\": 5}</td></tr><tr><td>{\"patient_id\": \"1e87223a-5feb-4e12-bb88-ade3a51b4dca\", \"gender\": \"Female\", \"age\": 8, \"department\": \"Maternity\", \"admission_time\": \"2025-09-20T07:00:10.151617\", \"discharge_time\": \"2025-09-22T20:00:10.151617\", \"bed_id\": 192, \"hospital_id\": 1}</td></tr><tr><td>{\"patient_id\": \"01561f53-e69c-435b-b2aa-129ba72343a3\", \"gender\": \"Female\", \"age\": 7, \"department\": \"Emergency\", \"admission_time\": \"2025-09-20T19:57:32.050569\", \"discharge_time\": \"2025-09-21T02:57:32.050569\", \"bed_id\": 150, \"hospital_id\": 1}</td></tr><tr><td>{\"patient_id\": \"05d5e11c-b896-450a-ba74-741c7193b2d8\", \"gender\": \"Male\", \"age\": 46, \"department\": \"Emergency\", \"admission_time\": \"2025-09-25T08:56:00.990957\", \"discharge_time\": \"2025-09-21T13:56:00.990885\", \"bed_id\": 393, \"hospital_id\": 1}</td></tr><tr><td>{\"patient_id\": \"cf26bcaf-e604-42d4-ae4c-e80474ffc81d\", \"gender\": \"Male\", \"age\": 63, \"department\": \"Maternity\", \"admission_time\": \"2025-09-25T17:56:22.004609\", \"discharge_time\": \"2025-09-22T14:56:22.004492\", \"bed_id\": 178, \"hospital_id\": 2}</td></tr><tr><td>{\"patient_id\": \"d2e7b1cb-17dd-4c8b-8128-35ba8e1151cc\", \"gender\": \"Female\", \"age\": 86, \"department\": \"Surgery\", \"admission_time\": \"2025-09-22T18:59:26.124666\", \"discharge_time\": \"2025-09-24T01:59:26.124666\", \"bed_id\": 54, \"hospital_id\": 7}</td></tr><tr><td>{\"patient_id\": \"601aebdf-3f8e-4ac4-9f64-78cbcd7c52a3\", \"gender\": \"Female\", \"age\": 83, \"department\": \"Surgery\", \"admission_time\": \"2025-09-22T15:10:19.556268\", \"discharge_time\": \"2025-09-23T01:10:19.556268\", \"bed_id\": 23, \"hospital_id\": 3}</td></tr><tr><td>{\"patient_id\": \"45dd2e01-31b1-4d47-aac4-86a21e0b87a5\", \"gender\": \"Female\", \"age\": 58, \"department\": \"Oncology\", \"admission_time\": \"2025-09-23T00:00:59.180467\", \"discharge_time\": \"2025-09-23T04:00:59.180467\", \"bed_id\": 44, \"hospital_id\": 7}</td></tr><tr><td>{\"patient_id\": \"49cb6fbe-6286-436a-bfa5-44896d0dbf44\", \"gender\": \"Male\", \"age\": 100, \"department\": \"Maternity\", \"admission_time\": \"2025-09-21T17:52:46.857593\", \"discharge_time\": \"2025-09-22T08:52:46.857593\", \"bed_id\": 146, \"hospital_id\": 7}</td></tr><tr><td>{\"patient_id\": \"78b7733b-2e22-4cb1-8959-586e2621032d\", \"gender\": \"Male\", \"age\": 61, \"department\": \"Cardiology\", \"admission_time\": \"2025-09-21T06:09:52.536914\", \"discharge_time\": \"2025-09-21T07:09:52.536914\", \"bed_id\": 50, \"hospital_id\": 4}</td></tr><tr><td>{\"patient_id\": \"8b1d1471-e9d0-4a9e-8699-4505261029ad\", \"gender\": \"Female\", \"age\": 27, \"department\": \"Oncology\", \"admission_time\": \"2025-09-23T04:56:03.994044\", \"discharge_time\": \"2025-09-23T09:56:03.994044\", \"bed_id\": 28, \"hospital_id\": 1}</td></tr><tr><td>{\"patient_id\": \"f0debc15-2bae-4e02-aae5-cf34c062dba2\", \"gender\": \"Female\", \"age\": 29, \"department\": \"Surgery\", \"admission_time\": \"2025-09-21T03:57:43.057141\", \"discharge_time\": \"2025-09-22T12:57:43.057141\", \"bed_id\": 34, \"hospital_id\": 6}</td></tr><tr><td>{\"patient_id\": \"ba096e1a-02c7-4953-8f0a-7b5d3123b8d0\", \"gender\": \"Male\", \"age\": 41, \"department\": \"Oncology\", \"admission_time\": \"2025-09-21T03:03:41.289415\", \"discharge_time\": \"2025-09-21T21:03:41.289415\", \"bed_id\": 155, \"hospital_id\": 2}</td></tr><tr><td>{\"patient_id\": \"765432f7-4499-4e56-ab49-74ff13fcebc5\", \"gender\": \"Male\", \"age\": 34, \"department\": \"Oncology\", \"admission_time\": \"2025-09-20T08:04:13.314886\", \"discharge_time\": \"2025-09-22T22:04:13.314886\", \"bed_id\": 113, \"hospital_id\": 7}</td></tr><tr><td>{\"patient_id\": \"78692144-52c9-4d11-ad17-4880882234a9\", \"gender\": \"Female\", \"age\": 12, \"department\": \"Cardiology\", \"admission_time\": \"2025-09-22T11:59:02.108485\", \"discharge_time\": \"2025-09-22T13:59:02.108485\", \"bed_id\": 2, \"hospital_id\": 3}</td></tr><tr><td>{\"patient_id\": \"fc7b9deb-b568-46ee-93c7-cf1cba1c851f\", \"gender\": \"Male\", \"age\": 3, \"department\": \"Oncology\", \"admission_time\": \"2025-09-21T17:04:50.339086\", \"discharge_time\": \"2025-09-24T09:04:50.339086\", \"bed_id\": 290, \"hospital_id\": 3}</td></tr><tr><td>{\"patient_id\": \"146097b8-dfa6-46ac-af31-1ba3c95acf3a\", \"gender\": \"Male\", \"age\": 1, \"department\": \"Oncology\", \"admission_time\": \"2025-09-22T21:00:15.154220\", \"discharge_time\": \"2025-09-24T16:00:15.154220\", \"bed_id\": 431, \"hospital_id\": 6}</td></tr><tr><td>{\"patient_id\": \"fc8ab784-7101-4de8-9baa-7dbda5e3bbe4\", \"gender\": \"Male\", \"age\": 48, \"department\": \"Surgery\", \"admission_time\": \"2025-09-25T07:53:01.868051\", \"discharge_time\": \"2025-09-23T18:53:01.867981\", \"bed_id\": 300, \"hospital_id\": 1}</td></tr><tr><td>{\"patient_id\": \"de8f8c18-3001-44cc-98cb-0c1fdbff8692\", \"gender\": \"Male\", \"age\": 98, \"department\": \"Surgery\", \"admission_time\": \"2025-09-22T00:55:21.966661\", \"discharge_time\": \"2025-09-22T11:55:21.966661\", \"bed_id\": 234, \"hospital_id\": 4}</td></tr><tr><td>{\"patient_id\": \"be0867ed-fc21-433e-8712-e3d560cc1bcd\", \"gender\": \"Female\", \"age\": 6, \"department\": \"Cardiology\", \"admission_time\": \"2025-09-21T22:58:54.102077\", \"discharge_time\": \"2025-09-22T14:58:54.102077\", \"bed_id\": 26, \"hospital_id\": 7}</td></tr><tr><td>{\"patient_id\": \"1d4b51b0-3f78-4c7a-a00a-baf1be9def4a\", \"gender\": \"Male\", \"age\": 4, \"department\": \"Oncology\", \"admission_time\": \"2025-09-21T10:07:16.435214\", \"discharge_time\": \"2025-09-22T06:07:16.435214\", \"bed_id\": 409, \"hospital_id\": 2}</td></tr><tr><td>{\"patient_id\": \"a4e45176-000d-42e4-960d-bdeb32e040cd\", \"gender\": \"Male\", \"age\": 149, \"department\": \"Maternity\", \"admission_time\": \"2025-09-20T23:09:30.522260\", \"discharge_time\": \"2025-09-22T14:09:30.522260\", \"bed_id\": 298, \"hospital_id\": 6}</td></tr><tr><td>{\"patient_id\": \"f3495b0b-57d6-4423-9e6a-ddc7921992d3\", \"gender\": \"Female\", \"age\": 6, \"department\": \"Maternity\", \"admission_time\": \"2025-09-20T16:00:47.173251\", \"discharge_time\": \"2025-09-23T09:00:47.173251\", \"bed_id\": 326, \"hospital_id\": 6}</td></tr><tr><td>{\"patient_id\": \"f31db1c5-3857-47cb-81df-5a216e5e13dc\", \"gender\": \"Male\", \"age\": 77, \"department\": \"Maternity\", \"admission_time\": \"2025-09-22T08:02:20.236678\", \"discharge_time\": \"2025-09-24T15:02:20.236678\", \"bed_id\": 167, \"hospital_id\": 4}</td></tr><tr><td>{\"patient_id\": \"41733a83-ea20-4822-bd7e-c33d02255db2\", \"gender\": \"Male\", \"age\": 69, \"department\": \"Emergency\", \"admission_time\": \"2025-09-24T21:09:02.502656\", \"discharge_time\": \"2025-09-24T07:09:02.502584\", \"bed_id\": 123, \"hospital_id\": 6}</td></tr><tr><td>{\"patient_id\": \"2e5f778f-f5d5-4f8f-b337-e6498ebc1f18\", \"gender\": \"Female\", \"age\": 9, \"department\": \"Maternity\", \"admission_time\": \"2025-09-22T00:56:25.007676\", \"discharge_time\": \"2025-09-22T15:56:25.007676\", \"bed_id\": 210, \"hospital_id\": 5}</td></tr><tr><td>{\"patient_id\": \"ac1dc191-caad-4a5b-a75b-cdff94cab759\", \"gender\": \"Male\", \"age\": 83, \"department\": \"Surgery\", \"admission_time\": \"2025-09-24T01:01:06.184335\", \"discharge_time\": \"2025-09-21T12:01:06.184255\", \"bed_id\": 319, \"hospital_id\": 2}</td></tr><tr><td>{\"patient_id\": \"fdd8cbf7-c83a-4167-bfc4-dc049b5e7c4b\", \"gender\": \"Female\", \"age\": 1, \"department\": \"Emergency\", \"admission_time\": \"2025-09-21T13:52:47.858591\", \"discharge_time\": \"2025-09-24T10:52:47.858591\", \"bed_id\": 471, \"hospital_id\": 4}</td></tr><tr><td>{\"patient_id\": \"9c6f538a-8969-4435-b103-540b276f6d7a\", \"gender\": \"Female\", \"age\": 4, \"department\": \"Maternity\", \"admission_time\": \"2025-09-20T17:08:36.489487\", \"discharge_time\": \"2025-09-20T20:08:36.489487\", \"bed_id\": 427, \"hospital_id\": 5}</td></tr><tr><td>{\"patient_id\": \"e2659c28-69d4-4cbe-a567-01796f565d19\", \"gender\": \"Male\", \"age\": 86, \"department\": \"Emergency\", \"admission_time\": \"2025-09-24T07:59:14.115495\", \"discharge_time\": \"2025-09-25T23:59:14.115415\", \"bed_id\": 116, \"hospital_id\": 3}</td></tr><tr><td>{\"patient_id\": \"bf788163-2b2f-463e-a880-f8e6cb5f705c\", \"gender\": \"Male\", \"age\": 23, \"department\": \"Pediatrics\", \"admission_time\": \"2025-09-23T02:07:56.465487\", \"discharge_time\": \"2025-09-24T11:07:56.465487\", \"bed_id\": 8, \"hospital_id\": 6}</td></tr><tr><td>{\"patient_id\": \"2d8bc8d1-67bd-43e6-916b-3201d5c0d28f\", \"gender\": \"Male\", \"age\": 76, \"department\": \"Maternity\", \"admission_time\": \"2025-09-21T19:04:38.331800\", \"discharge_time\": \"2025-09-24T00:04:38.331800\", \"bed_id\": 170, \"hospital_id\": 7}</td></tr><tr><td>{\"patient_id\": \"d602b464-7b99-41ea-b82e-3098f8c4974a\", \"gender\": \"Female\", \"age\": 89, \"department\": \"Surgery\", \"admission_time\": \"2025-09-22T06:58:15.077943\", \"discharge_time\": \"2025-09-22T18:58:15.077943\", \"bed_id\": 59, \"hospital_id\": 3}</td></tr><tr><td>{\"patient_id\": \"776a9cdf-fd91-4d73-8bf2-05a702d7063d\", \"gender\": \"Female\", \"age\": 34, \"department\": \"Oncology\", \"admission_time\": \"2025-09-22T04:55:16.961437\", \"discharge_time\": \"2025-09-24T04:55:16.961437\", \"bed_id\": 5, \"hospital_id\": 1}</td></tr><tr><td>{\"patient_id\": \"af3d86c7-8be3-40a6-a5f5-6ef009ccc1b3\", \"gender\": \"Male\", \"age\": 69, \"department\": \"Emergency\", \"admission_time\": \"2025-09-23T03:04:12.313915\", \"discharge_time\": \"2025-09-24T12:04:12.313915\", \"bed_id\": 156, \"hospital_id\": 2}</td></tr><tr><td>{\"patient_id\": \"4fd5d3aa-57a9-474e-af5e-716317859bb5\", \"gender\": \"Male\", \"age\": 74, \"department\": \"Surgery\", \"admission_time\": \"2025-09-21T04:02:25.240516\", \"discharge_time\": \"2025-09-23T09:02:25.240516\", \"bed_id\": 224, \"hospital_id\": 5}</td></tr><tr><td>{\"patient_id\": \"4a572bc3-4819-41d1-b0dd-2c984832566e\", \"gender\": \"Male\", \"age\": 39, \"department\": \"Emergency\", \"admission_time\": \"2025-09-20T09:07:17.435647\", \"discharge_time\": \"2025-09-22T12:07:17.435647\", \"bed_id\": 469, \"hospital_id\": 3}</td></tr><tr><td>{\"patient_id\": \"3cc3640e-f4b7-4d3d-a69f-bb43f24b1663\", \"gender\": \"Male\", \"age\": 100, \"department\": \"Oncology\", \"admission_time\": \"2025-09-20T21:04:18.318983\", \"discharge_time\": \"2025-09-23T13:04:18.318983\", \"bed_id\": 314, \"hospital_id\": 6}</td></tr><tr><td>{\"patient_id\": \"5dde523b-1b03-4574-a7e4-72ac6e019100\", \"gender\": \"Male\", \"age\": 41, \"department\": \"Emergency\", \"admission_time\": \"2025-09-22T06:04:11.312439\", \"discharge_time\": \"2025-09-23T20:04:11.312439\", \"bed_id\": 460, \"hospital_id\": 5}</td></tr><tr><td>{\"patient_id\": \"c5ebf82b-362c-4018-beda-7aee1fe8d218\", \"gender\": \"Male\", \"age\": 53, \"department\": \"Surgery\", \"admission_time\": \"2025-09-22T03:08:37.489947\", \"discharge_time\": \"2025-09-24T06:08:37.489947\", \"bed_id\": 216, \"hospital_id\": 7}</td></tr><tr><td>{\"patient_id\": \"3b602c77-f17a-4a83-bca7-19b8bbf5941e\", \"gender\": \"Male\", \"age\": 30, \"department\": \"Maternity\", \"admission_time\": \"2025-09-22T00:04:48.338189\", \"discharge_time\": \"2025-09-22T08:04:48.338189\", \"bed_id\": 452, \"hospital_id\": 7}</td></tr><tr><td>{\"patient_id\": \"86561778-1b82-4319-9a96-8a249b5e4104\", \"gender\": \"Female\", \"age\": 2, \"department\": \"Oncology\", \"admission_time\": \"2025-09-22T04:04:31.326682\", \"discharge_time\": \"2025-09-23T02:04:31.326682\", \"bed_id\": 164, \"hospital_id\": 6}</td></tr><tr><td>{\"patient_id\": \"8cabfa82-1a09-4fed-97bd-9afb9ddb6759\", \"gender\": \"Male\", \"age\": 40, \"department\": \"Maternity\", \"admission_time\": \"2025-09-20T17:53:38.894448\", \"discharge_time\": \"2025-09-22T02:53:38.894448\", \"bed_id\": 104, \"hospital_id\": 1}</td></tr><tr><td>{\"patient_id\": \"80832e94-1f4f-4142-8ab9-e8817aea58a7\", \"gender\": \"Female\", \"age\": 1, \"department\": \"Maternity\", \"admission_time\": \"2025-09-22T00:01:07.184766\", \"discharge_time\": \"2025-09-24T08:01:07.184766\", \"bed_id\": 19, \"hospital_id\": 5}</td></tr><tr><td>{\"patient_id\": \"26436536-878e-486c-a5ff-619cbf959a4e\", \"gender\": \"Male\", \"age\": 10, \"department\": \"Maternity\", \"admission_time\": \"2025-09-20T07:04:29.325349\", \"discharge_time\": \"2025-09-21T13:04:29.325349\", \"bed_id\": 310, \"hospital_id\": 5}</td></tr><tr><td>{\"patient_id\": \"7382861a-1ec7-43f8-8395-48c8ab1a6c41\", \"gender\": \"Male\", \"age\": 76, \"department\": \"Oncology\", \"admission_time\": \"2025-09-21T03:09:03.503015\", \"discharge_time\": \"2025-09-22T14:09:03.503015\", \"bed_id\": 261, \"hospital_id\": 6}</td></tr><tr><td>{\"patient_id\": \"05cf37f6-1bc8-4ac5-a770-206eae898086\", \"gender\": \"Male\", \"age\": 22, \"department\": \"Maternity\", \"admission_time\": \"2025-09-22T00:10:05.545201\", \"discharge_time\": \"2025-09-24T16:10:05.545201\", \"bed_id\": 332, \"hospital_id\": 3}</td></tr><tr><td>{\"patient_id\": \"e7b545c3-1709-4af4-b54f-711a4d479f5b\", \"gender\": \"Male\", \"age\": 27, \"department\": \"Emergency\", \"admission_time\": \"2025-09-21T09:03:28.282220\", \"discharge_time\": \"2025-09-23T18:03:28.282220\", \"bed_id\": 181, \"hospital_id\": 3}</td></tr><tr><td>{\"patient_id\": \"9582f448-19b2-4719-a993-159a267d37ac\", \"gender\": \"Male\", \"age\": 5, \"department\": \"Emergency\", \"admission_time\": \"2025-09-21T06:53:17.881573\", \"discharge_time\": \"2025-09-22T08:53:17.881573\", \"bed_id\": 468, \"hospital_id\": 3}</td></tr><tr><td>{\"patient_id\": \"0b14b427-8ae8-48d7-977c-1b758207852a\", \"gender\": \"Male\", \"age\": 19, \"department\": \"Maternity\", \"admission_time\": \"2025-09-20T07:59:28.125651\", \"discharge_time\": \"2025-09-21T14:59:28.125651\", \"bed_id\": 162, \"hospital_id\": 3}</td></tr><tr><td>{\"patient_id\": \"7769b3a3-2b9c-4a01-8d9d-1de9fc8a2099\", \"gender\": \"Male\", \"age\": 67, \"department\": \"Emergency\", \"admission_time\": \"2025-09-20T17:10:39.570841\", \"discharge_time\": \"2025-09-21T15:10:39.570841\", \"bed_id\": 178, \"hospital_id\": 6}</td></tr><tr><td>{\"patient_id\": \"4dba4f1a-29eb-469d-8647-3f146eb44e5c\", \"gender\": \"Male\", \"age\": 76, \"department\": \"Surgery\", \"admission_time\": \"2025-09-22T23:04:04.306600\", \"discharge_time\": \"2025-09-23T20:04:04.306600\", \"bed_id\": 251, \"hospital_id\": 6}</td></tr><tr><td>{\"patient_id\": \"8a340f1c-98bd-4aad-b980-dca0cd9f184f\", \"gender\": \"Male\", \"age\": 30, \"department\": \"Emergency\", \"admission_time\": \"2025-09-22T04:59:22.122154\", \"discharge_time\": \"2025-09-24T18:59:22.122154\", \"bed_id\": 138, \"hospital_id\": 2}</td></tr><tr><td>{\"patient_id\": \"5753bb0e-3e0a-45fb-b11c-0961df38f192\", \"gender\": \"Male\", \"age\": 34, \"department\": \"Emergency\", \"admission_time\": \"2025-09-20T21:55:24.969124\", \"discharge_time\": \"2025-09-23T04:55:24.969124\", \"bed_id\": 315, \"hospital_id\": 1}</td></tr><tr><td>{\"patient_id\": \"a6c28fb5-2669-4874-9f3d-922e84c89c29\", \"gender\": \"Male\", \"age\": 61, \"department\": \"Emergency\", \"admission_time\": \"2025-09-21T00:25:49.325527\", \"discharge_time\": \"2025-09-23T19:25:49.325527\", \"bed_id\": 490, \"hospital_id\": 3}</td></tr><tr><td>{\"patient_id\": \"1f1e7510-fd49-48f3-8566-406330a8ec75\", \"gender\": \"Male\", \"age\": 99, \"department\": \"Emergency\", \"admission_time\": \"2025-09-21T10:25:46.324176\", \"discharge_time\": \"2025-09-22T04:25:46.324176\", \"bed_id\": 110, \"hospital_id\": 2}</td></tr><tr><td>{\"patient_id\": \"914a9e8a-f1b1-4534-838e-fa24e23c898e\", \"gender\": \"Male\", \"age\": 98, \"department\": \"Emergency\", \"admission_time\": \"2025-09-22T16:03:11.270497\", \"discharge_time\": \"2025-09-24T15:03:11.270497\", \"bed_id\": 188, \"hospital_id\": 4}</td></tr><tr><td>{\"patient_id\": \"f3e892f4-65fa-4311-93bb-2a0be6d46d60\", \"gender\": \"Male\", \"age\": 60, \"department\": \"Emergency\", \"admission_time\": \"2025-09-22T01:03:07.267241\", \"discharge_time\": \"2025-09-22T08:03:07.267241\", \"bed_id\": 164, \"hospital_id\": 5}</td></tr><tr><td>{\"patient_id\": \"432e338a-e6d7-4b81-bcca-a4c5be4ee6f6\", \"gender\": \"Male\", \"age\": 64, \"department\": \"Oncology\", \"admission_time\": \"2025-09-22T11:09:08.507789\", \"discharge_time\": \"2025-09-23T06:09:08.507789\", \"bed_id\": 110, \"hospital_id\": 4}</td></tr><tr><td>{\"patient_id\": \"2852e20c-c224-4f4a-a3e6-7f5c3e2a1fb8\", \"gender\": \"Male\", \"age\": 71, \"department\": \"Oncology\", \"admission_time\": \"2025-09-22T21:55:55.987692\", \"discharge_time\": \"2025-09-25T04:55:55.987692\", \"bed_id\": 460, \"hospital_id\": 5}</td></tr><tr><td>{\"patient_id\": \"da8f8dc6-75a0-4f28-9694-77c141f2cea8\", \"gender\": \"Male\", \"age\": 54, \"department\": \"Surgery\", \"admission_time\": \"2025-09-20T10:01:13.187930\", \"discharge_time\": \"2025-09-21T08:01:13.187930\", \"bed_id\": 289, \"hospital_id\": 5}</td></tr><tr><td>{\"patient_id\": \"6f006a30-0dff-4226-b26c-ffbb6153c877\", \"gender\": \"Male\", \"age\": 26, \"department\": \"Maternity\", \"admission_time\": \"2025-09-22T21:03:47.294432\", \"discharge_time\": \"2025-09-24T13:03:47.294432\", \"bed_id\": 457, \"hospital_id\": 1}</td></tr><tr><td>{\"patient_id\": \"465bd942-2e24-488f-89e4-d9c355cef252\", \"gender\": \"Male\", \"age\": 35, \"department\": \"Maternity\", \"admission_time\": \"2025-09-21T17:59:48.137931\", \"discharge_time\": \"2025-09-23T16:59:48.137931\", \"bed_id\": 370, \"hospital_id\": 2}</td></tr><tr><td>{\"patient_id\": \"89925d33-8dd9-44de-a094-cd02acad931e\", \"gender\": \"Male\", \"age\": 46, \"department\": \"Emergency\", \"admission_time\": \"2025-09-21T15:07:45.457904\", \"discharge_time\": \"2025-09-24T12:07:45.457904\", \"bed_id\": 177, \"hospital_id\": 6}</td></tr><tr><td>{\"patient_id\": \"3aff83ad-a2ca-48fa-bca0-2df03cec45ae\", \"gender\": \"Male\", \"age\": 58, \"department\": \"Emergency\", \"admission_time\": \"2025-09-21T03:06:56.424937\", \"discharge_time\": \"2025-09-22T09:06:56.424937\", \"bed_id\": 148, \"hospital_id\": 1}</td></tr><tr><td>{\"patient_id\": \"2aaef356-8926-49f3-8fb5-cae7209c0878\", \"gender\": \"Male\", \"age\": 78, \"department\": \"Surgery\", \"admission_time\": \"2025-09-22T08:57:24.046593\", \"discharge_time\": \"2025-09-23T22:57:24.046593\", \"bed_id\": 325, \"hospital_id\": 3}</td></tr><tr><td>{\"patient_id\": \"c1716b37-fd80-4534-82c6-d8f7e021b8d2\", \"gender\": \"Male\", \"age\": 90, \"department\": \"Emergency\", \"admission_time\": \"2025-09-21T10:08:33.488149\", \"discharge_time\": \"2025-09-22T03:08:33.488149\", \"bed_id\": 468, \"hospital_id\": 4}</td></tr><tr><td>{\"patient_id\": \"387060de-4617-4167-af1a-2c6e050d702b\", \"gender\": \"Male\", \"age\": 37, \"department\": \"Maternity\", \"admission_time\": \"2025-09-20T22:25:53.327483\", \"discharge_time\": \"2025-09-22T00:25:53.327483\", \"bed_id\": 282, \"hospital_id\": 6}</td></tr><tr><td>{\"patient_id\": \"286dee9e-f4b4-44a2-acb4-4b6d769a9fb6\", \"gender\": \"Female\", \"age\": 56, \"department\": \"Oncology\", \"admission_time\": \"2025-09-21T19:01:59.221044\", \"discharge_time\": \"2025-09-24T16:01:59.221044\", \"bed_id\": 187, \"hospital_id\": 5}</td></tr><tr><td>{\"patient_id\": \"b68a6944-4f7d-4ea7-8418-a70de77a7ebd\", \"gender\": \"Female\", \"age\": 1, \"department\": \"Oncology\", \"admission_time\": \"2025-09-22T08:57:57.065776\", \"discharge_time\": \"2025-09-25T07:57:57.065776\", \"bed_id\": 218, \"hospital_id\": 2}</td></tr><tr><td>{\"patient_id\": \"61c8cfe3-1ead-400c-9a7d-26028c8de8e8\", \"gender\": \"Female\", \"age\": 115, \"department\": \"ICU\", \"admission_time\": \"2025-09-23T19:04:44.335728\", \"discharge_time\": \"2025-09-21T06:04:44.335653\", \"bed_id\": 251, \"hospital_id\": 7}</td></tr><tr><td>{\"patient_id\": \"f9de17b3-a177-417a-8723-142c7fba8059\", \"gender\": \"Male\", \"age\": 26, \"department\": \"Maternity\", \"admission_time\": \"2025-09-22T23:06:54.424030\", \"discharge_time\": \"2025-09-25T07:06:54.424030\", \"bed_id\": 431, \"hospital_id\": 6}</td></tr><tr><td>{\"patient_id\": \"fa7f7425-ffce-4798-90bd-a2f108a4fad0\", \"gender\": \"Male\", \"age\": 81, \"department\": \"Emergency\", \"admission_time\": \"2025-09-23T04:03:21.278032\", \"discharge_time\": \"2025-09-24T06:03:21.278032\", \"bed_id\": 222, \"hospital_id\": 4}</td></tr><tr><td>{\"patient_id\": \"b746b1c9-b107-4728-8d3f-30a0cc224db8\", \"gender\": \"Male\", \"age\": 22, \"department\": \"Emergency\", \"admission_time\": \"2025-09-22T01:56:17.001667\", \"discharge_time\": \"2025-09-24T07:56:17.001667\", \"bed_id\": 403, \"hospital_id\": 1}</td></tr><tr><td>{\"patient_id\": \"17f0b37c-6a46-4153-afec-6119c08fa63c\", \"gender\": \"Male\", \"age\": 19, \"department\": \"Oncology\", \"admission_time\": \"2025-09-23T18:56:55.026683\", \"discharge_time\": \"2025-09-24T06:56:55.026606\", \"bed_id\": 458, \"hospital_id\": 5}</td></tr><tr><td>{\"patient_id\": \"649c71fa-95d0-4fb1-9915-41d19a507c53\", \"gender\": \"Male\", \"age\": 87, \"department\": \"Emergency\", \"admission_time\": \"2025-09-22T02:26:52.370704\", \"discharge_time\": \"2025-09-23T07:26:52.370704\", \"bed_id\": 319, \"hospital_id\": 3}</td></tr><tr><td>{\"patient_id\": \"61975d0e-5a31-4dc9-986c-ee33b68fec12\", \"gender\": \"Male\", \"age\": 27, \"department\": \"Emergency\", \"admission_time\": \"2025-09-22T15:00:11.152041\", \"discharge_time\": \"2025-09-23T09:00:11.152041\", \"bed_id\": 380, \"hospital_id\": 2}</td></tr><tr><td>{\"patient_id\": \"9686fbe4-0bb9-4cd3-a36a-b9f6e5f45f09\", \"gender\": \"Male\", \"age\": 82, \"department\": \"Emergency\", \"admission_time\": \"2025-09-21T09:07:49.461161\", \"discharge_time\": \"2025-09-22T07:07:49.461161\", \"bed_id\": 105, \"hospital_id\": 5}</td></tr><tr><td>{\"patient_id\": \"b98f1d57-1abb-4cf3-a900-12e2debc55e7\", \"gender\": \"Male\", \"age\": 18, \"department\": \"Emergency\", \"admission_time\": \"2025-09-21T09:57:16.041471\", \"discharge_time\": \"2025-09-22T14:57:16.041471\", \"bed_id\": 470, \"hospital_id\": 1}</td></tr><tr><td>{\"patient_id\": \"816b7bac-757f-4e21-83a8-40ab16cbd087\", \"gender\": \"Male\", \"age\": 26, \"department\": \"Emergency\", \"admission_time\": \"2025-09-21T16:53:44.897643\", \"discharge_time\": \"2025-09-22T13:53:44.897643\", \"bed_id\": 391, \"hospital_id\": 5}</td></tr><tr><td>{\"patient_id\": \"f94a9af3-7812-4c3c-a32a-7f20176f7825\", \"gender\": \"Male\", \"age\": 97, \"department\": \"Emergency\", \"admission_time\": \"2025-09-20T15:25:45.323753\", \"discharge_time\": \"2025-09-21T07:25:45.323753\", \"bed_id\": 458, \"hospital_id\": 2}</td></tr><tr><td>{\"patient_id\": \"f65953dc-b691-4986-9b7e-a259fa58c74e\", \"gender\": \"Male\", \"age\": 45, \"department\": \"Maternity\", \"admission_time\": \"2025-09-21T07:05:38.367469\", \"discharge_time\": \"2025-09-23T09:05:38.367469\", \"bed_id\": 162, \"hospital_id\": 6}</td></tr><tr><td>{\"patient_id\": \"ff83eb7a-1b6b-4c73-8391-70f7fd99a288\", \"gender\": \"Female\", \"age\": 47, \"department\": \"Surgery\", \"admission_time\": \"2025-09-22T23:56:32.012645\", \"discharge_time\": \"2025-09-25T19:56:32.012645\", \"bed_id\": 8, \"hospital_id\": 1}</td></tr><tr><td>{\"patient_id\": \"585c7c5a-395d-422f-bfa2-e5ea46fffc8b\", \"gender\": \"Male\", \"age\": 66, \"department\": \"Emergency\", \"admission_time\": \"2025-09-21T17:08:58.500599\", \"discharge_time\": \"2025-09-21T21:08:58.500599\", \"bed_id\": 493, \"hospital_id\": 5}</td></tr><tr><td>{\"patient_id\": \"2efa3e7f-2902-4ad1-92b2-0b34f76d7973\", \"gender\": \"Male\", \"age\": 14, \"department\": \"Maternity\", \"admission_time\": \"2025-09-22T13:52:56.864647\", \"discharge_time\": \"2025-09-23T14:52:56.864647\", \"bed_id\": 133, \"hospital_id\": 3}</td></tr><tr><td>{\"patient_id\": \"f99424cf-3d40-4b37-af9e-a2d712e6a1d2\", \"gender\": \"Male\", \"age\": 37, \"department\": \"Maternity\", \"admission_time\": \"2025-09-21T22:07:18.436433\", \"discharge_time\": \"2025-09-23T18:07:18.436433\", \"bed_id\": 400, \"hospital_id\": 6}</td></tr><tr><td>{\"patient_id\": \"667a51c5-577c-4d99-b7cf-9b3cf49cef53\", \"gender\": \"Male\", \"age\": 16, \"department\": \"Maternity\", \"admission_time\": \"2025-09-22T10:56:37.015380\", \"discharge_time\": \"2025-09-23T08:56:37.015380\", \"bed_id\": 306, \"hospital_id\": 7}</td></tr><tr><td>{\"patient_id\": \"7c3b7760-74c0-4a55-95b8-5f4e4a48aec8\", \"gender\": \"Male\", \"age\": 21, \"department\": \"Maternity\", \"admission_time\": \"2025-09-20T16:57:09.036318\", \"discharge_time\": \"2025-09-21T20:57:09.036318\", \"bed_id\": 303, \"hospital_id\": 5}</td></tr><tr><td>{\"patient_id\": \"6c7de709-9e22-4c87-bad7-6090cd9fa44c\", \"gender\": \"Male\", \"age\": 44, \"department\": \"Emergency\", \"admission_time\": \"2025-09-23T00:00:14.153720\", \"discharge_time\": \"2025-09-24T07:00:14.153720\", \"bed_id\": 378, \"hospital_id\": 1}</td></tr><tr><td>{\"patient_id\": \"717cda00-95ba-452b-92f1-75305dd1204b\", \"gender\": \"Male\", \"age\": 78, \"department\": \"Maternity\", \"admission_time\": \"2025-09-21T18:55:54.987251\", \"discharge_time\": \"2025-09-22T10:55:54.987251\", \"bed_id\": 283, \"hospital_id\": 2}</td></tr><tr><td>{\"patient_id\": \"b797adaf-dddf-4c48-86e4-a1197a31bcdc\", \"gender\": \"Male\", \"age\": 90, \"department\": \"Emergency\", \"admission_time\": \"2025-09-21T11:58:50.099721\", \"discharge_time\": \"2025-09-22T00:58:50.099721\", \"bed_id\": 172, \"hospital_id\": 1}</td></tr><tr><td>{\"patient_id\": \"6b74f407-648a-4145-a58b-99605f9dd47e\", \"gender\": \"Male\", \"age\": 87, \"department\": \"Maternity\", \"admission_time\": \"2025-09-21T01:02:40.249786\", \"discharge_time\": \"2025-09-22T17:02:40.249786\", \"bed_id\": 254, \"hospital_id\": 4}</td></tr><tr><td>{\"patient_id\": \"385592ef-ac7f-46f7-a216-2cf196924931\", \"gender\": \"Male\", \"age\": 75, \"department\": \"Emergency\", \"admission_time\": \"2025-09-22T21:54:43.937935\", \"discharge_time\": \"2025-09-25T20:54:43.937935\", \"bed_id\": 291, \"hospital_id\": 6}</td></tr><tr><td>{\"patient_id\": \"e23aeb66-468f-4764-bd91-377b87fb65cf\", \"gender\": \"Male\", \"age\": 83, \"department\": \"Maternity\", \"admission_time\": \"2025-09-20T14:59:12.114519\", \"discharge_time\": \"2025-09-21T11:59:12.114519\", \"bed_id\": 438, \"hospital_id\": 2}</td></tr><tr><td>{\"patient_id\": \"c0ca0ebb-3fd2-4915-9633-5d5a0c465ecb\", \"gender\": \"Male\", \"age\": 31, \"department\": \"Emergency\", \"admission_time\": \"2025-09-20T18:57:47.059491\", \"discharge_time\": \"2025-09-21T21:57:47.059491\", \"bed_id\": 132, \"hospital_id\": 2}</td></tr><tr><td>{\"patient_id\": \"7e22bf3b-17b3-4e1f-b888-2e12ff180220\", \"gender\": \"Male\", \"age\": 90, \"department\": \"Emergency\", \"admission_time\": \"2025-09-21T15:59:01.107459\", \"discharge_time\": \"2025-09-24T04:59:01.107459\", \"bed_id\": 254, \"hospital_id\": 5}</td></tr><tr><td>{\"patient_id\": \"ac6dae6a-8a7c-476f-b209-f17c31556a34\", \"gender\": \"Male\", \"age\": 56, \"department\": \"Maternity\", \"admission_time\": \"2025-09-20T17:10:15.551602\", \"discharge_time\": \"2025-09-22T02:10:15.551602\", \"bed_id\": 227, \"hospital_id\": 1}</td></tr><tr><td>{\"patient_id\": \"feaf2cc2-1575-426e-b0a3-90896ea418ff\", \"gender\": \"Male\", \"age\": 19, \"department\": \"Emergency\", \"admission_time\": \"2025-09-21T05:57:51.061885\", \"discharge_time\": \"2025-09-23T09:57:51.061885\", \"bed_id\": 127, \"hospital_id\": 4}</td></tr><tr><td>{\"patient_id\": \"32a00406-6606-4572-9fc1-a65674209798\", \"gender\": \"Male\", \"age\": 98, \"department\": \"Emergency\", \"admission_time\": \"2025-09-20T18:04:55.341791\", \"discharge_time\": \"2025-09-20T23:04:55.341791\", \"bed_id\": 234, \"hospital_id\": 7}</td></tr><tr><td>{\"patient_id\": \"49d1f149-95be-47c5-8af9-3c017a5e05da\", \"gender\": \"Male\", \"age\": 15, \"department\": \"Maternity\", \"admission_time\": \"2025-09-21T05:55:19.964267\", \"discharge_time\": \"2025-09-24T03:55:19.964267\", \"bed_id\": 491, \"hospital_id\": 7}</td></tr><tr><td>{\"patient_id\": \"37706993-d936-416e-870c-71c6b74ec65e\", \"gender\": \"Male\", \"age\": 39, \"department\": \"Emergency\", \"admission_time\": \"2025-09-22T06:09:49.535294\", \"discharge_time\": \"2025-09-24T05:09:49.535294\", \"bed_id\": 341, \"hospital_id\": 1}</td></tr><tr><td>{\"patient_id\": \"eb9403b4-bb84-4d45-84a7-8d09d33fe822\", \"gender\": \"Male\", \"age\": 72, \"department\": \"Maternity\", \"admission_time\": \"2025-09-21T08:56:48.022776\", \"discharge_time\": \"2025-09-23T10:56:48.022776\", \"bed_id\": 207, \"hospital_id\": 7}</td></tr><tr><td>{\"patient_id\": \"5a828d23-d243-4316-9dda-bf620b12d1cb\", \"gender\": \"Male\", \"age\": 27, \"department\": \"Maternity\", \"admission_time\": \"2025-09-22T02:58:27.086021\", \"discharge_time\": \"2025-09-23T11:58:27.086021\", \"bed_id\": 292, \"hospital_id\": 3}</td></tr><tr><td>{\"patient_id\": \"b768512c-51cf-4a5f-ac42-38559dc4b9a3\", \"gender\": \"Male\", \"age\": 33, \"department\": \"Emergency\", \"admission_time\": \"2025-09-22T21:54:12.917054\", \"discharge_time\": \"2025-09-23T23:54:12.917054\", \"bed_id\": 205, \"hospital_id\": 4}</td></tr><tr><td>{\"patient_id\": \"3d07a907-f529-4559-ab12-24b8bf7dfaec\", \"gender\": \"Male\", \"age\": 77, \"department\": \"Emergency\", \"admission_time\": \"2025-09-20T16:26:13.342620\", \"discharge_time\": \"2025-09-23T14:26:13.342620\", \"bed_id\": 188, \"hospital_id\": 4}</td></tr><tr><td>{\"patient_id\": \"f4a829de-746e-444d-8e0c-30b02e7aac75\", \"gender\": \"Male\", \"age\": 80, \"department\": \"Maternity\", \"admission_time\": \"2025-09-20T14:02:14.231621\", \"discharge_time\": \"2025-09-21T10:02:14.231621\", \"bed_id\": 138, \"hospital_id\": 4}</td></tr><tr><td>{\"patient_id\": \"53004259-8912-48c0-b963-9d4ab31e5446\", \"gender\": \"Male\", \"age\": 25, \"department\": \"Emergency\", \"admission_time\": \"2025-09-20T18:56:51.024110\", \"discharge_time\": \"2025-09-23T13:56:51.024110\", \"bed_id\": 344, \"hospital_id\": 5}</td></tr><tr><td>{\"patient_id\": \"b4357afd-1f81-4cca-825a-ba2d6feedec6\", \"gender\": \"Male\", \"age\": 58, \"department\": \"Emergency\", \"admission_time\": \"2025-09-20T20:58:04.070099\", \"discharge_time\": \"2025-09-21T18:58:04.070099\", \"bed_id\": 259, \"hospital_id\": 6}</td></tr><tr><td>{\"patient_id\": \"88e02124-d0ce-42ab-82ec-a8057996d5e3\", \"gender\": \"Male\", \"age\": 26, \"department\": \"Maternity\", \"admission_time\": \"2025-09-20T19:53:48.900267\", \"discharge_time\": \"2025-09-22T08:53:48.900267\", \"bed_id\": 474, \"hospital_id\": 3}</td></tr><tr><td>{\"patient_id\": \"da76efdb-bef0-4524-b322-53efaa424f09\", \"gender\": \"Male\", \"age\": 68, \"department\": \"Maternity\", \"admission_time\": \"2025-09-23T02:25:43.322793\", \"discharge_time\": \"2025-09-25T23:25:43.322793\", \"bed_id\": 268, \"hospital_id\": 2}</td></tr><tr><td>{\"patient_id\": \"57b05ff6-077e-4576-8343-25cfce0d85e7\", \"gender\": \"Male\", \"age\": 26, \"department\": \"Maternity\", \"admission_time\": \"2025-09-21T16:05:15.354384\", \"discharge_time\": \"2025-09-24T00:05:15.354384\", \"bed_id\": 200, \"hospital_id\": 3}</td></tr><tr><td>{\"patient_id\": \"577af256-b0ca-4748-b843-400678b770e3\", \"gender\": \"Male\", \"age\": 14, \"department\": \"Maternity\", \"admission_time\": \"2025-09-23T06:57:30.049600\", \"discharge_time\": \"2025-09-25T02:57:30.049600\", \"bed_id\": 174, \"hospital_id\": 2}</td></tr><tr><td>{\"patient_id\": \"aaf056c6-cb95-4ef7-b16f-695ba491970c\", \"gender\": \"Male\", \"age\": 127, \"department\": \"Oncology\", \"admission_time\": \"2025-09-21T12:59:43.134620\", \"discharge_time\": \"2025-09-23T18:59:43.134620\", \"bed_id\": 500, \"hospital_id\": 6}</td></tr><tr><td>{\"patient_id\": \"b0e6def2-9a6d-4e70-87fe-35b1f3b1780f\", \"gender\": \"Female\", \"age\": 7, \"department\": \"Oncology\", \"admission_time\": \"2025-09-22T19:55:38.977321\", \"discharge_time\": \"2025-09-24T14:55:38.977321\", \"bed_id\": 162, \"hospital_id\": 1}</td></tr><tr><td>{\"patient_id\": \"28cac694-d893-4b2e-b5e1-a18c305f742f\", \"gender\": \"Male\", \"age\": 44, \"department\": \"Emergency\", \"admission_time\": \"2025-09-22T21:06:17.396389\", \"discharge_time\": \"2025-09-24T22:06:17.396389\", \"bed_id\": 280, \"hospital_id\": 1}</td></tr><tr><td>{\"patient_id\": \"cc073872-e238-48b8-877e-4064282b1a2e\", \"gender\": \"Male\", \"age\": 10, \"department\": \"Emergency\", \"admission_time\": \"2025-09-21T22:05:05.348100\", \"discharge_time\": \"2025-09-22T10:05:05.348100\", \"bed_id\": 142, \"hospital_id\": 5}</td></tr><tr><td>{\"patient_id\": \"af6a1299-eaff-4a52-9ef5-65b83d84fe3e\", \"gender\": \"Male\", \"age\": 65, \"department\": \"Emergency\", \"admission_time\": \"2025-09-22T20:54:16.919576\", \"discharge_time\": \"2025-09-24T14:54:16.919576\", \"bed_id\": 468, \"hospital_id\": 5}</td></tr><tr><td>{\"patient_id\": \"c508fa6e-9eb2-4b03-93f9-79dcc6219eba\", \"gender\": \"Male\", \"age\": 79, \"department\": \"Emergency\", \"admission_time\": \"2025-09-20T15:53:30.888234\", \"discharge_time\": \"2025-09-21T11:53:30.888234\", \"bed_id\": 461, \"hospital_id\": 4}</td></tr><tr><td>{\"patient_id\": \"aabe9076-7e05-48bc-aa98-07e1d9c604b1\", \"gender\": \"Male\", \"age\": 92, \"department\": \"Maternity\", \"admission_time\": \"2025-09-22T14:07:51.462019\", \"discharge_time\": \"2025-09-23T10:07:51.462019\", \"bed_id\": 196, \"hospital_id\": 5}</td></tr><tr><td>{\"patient_id\": \"e4a4aab8-4899-4e2f-adef-6f93f6d12f95\", \"gender\": \"Male\", \"age\": 6, \"department\": \"Surgery\", \"admission_time\": \"2025-09-23T02:02:00.221468\", \"discharge_time\": \"2025-09-25T00:02:00.221468\", \"bed_id\": 436, \"hospital_id\": 7}</td></tr><tr><td>{\"patient_id\": \"8c5e1bbd-27db-41b9-b324-547dad20bc47\", \"gender\": \"Male\", \"age\": 55, \"department\": \"Maternity\", \"admission_time\": \"2025-09-22T02:09:42.529970\", \"discharge_time\": \"2025-09-24T06:09:42.529970\", \"bed_id\": 115, \"hospital_id\": 1}</td></tr><tr><td>{\"patient_id\": \"ae7444a1-4275-4890-98fc-cbee958f6bfc\", \"gender\": \"Male\", \"age\": 69, \"department\": \"Maternity\", \"admission_time\": \"2025-09-21T02:54:50.943060\", \"discharge_time\": \"2025-09-22T04:54:50.943060\", \"bed_id\": 150, \"hospital_id\": 4}</td></tr><tr><td>{\"patient_id\": \"4af716b7-2b19-47a0-b9a8-746abd7730c1\", \"gender\": \"Male\", \"age\": 12, \"department\": \"Emergency\", \"admission_time\": \"2025-09-21T04:55:46.982302\", \"discharge_time\": \"2025-09-23T20:55:46.982302\", \"bed_id\": 206, \"hospital_id\": 2}</td></tr><tr><td>{\"patient_id\": \"f2394e03-8ee2-4f6d-94ee-24a0fd54dc93\", \"gender\": \"Male\", \"age\": 78, \"department\": \"Emergency\", \"admission_time\": \"2025-09-22T01:59:58.144616\", \"discharge_time\": \"2025-09-24T15:59:58.144616\", \"bed_id\": 287, \"hospital_id\": 2}</td></tr><tr><td>{\"patient_id\": \"13fa9d8c-f98b-4609-964b-19444f5da411\", \"gender\": \"Male\", \"age\": 55, \"department\": \"Emergency\", \"admission_time\": \"2025-09-20T17:05:19.356424\", \"discharge_time\": \"2025-09-22T23:05:19.356424\", \"bed_id\": 368, \"hospital_id\": 7}</td></tr><tr><td>{\"patient_id\": \"c1788fa7-8307-45d7-8258-bed598d230ce\", \"gender\": \"Male\", \"age\": 9, \"department\": \"Pediatrics\", \"admission_time\": \"2025-09-20T09:57:44.057593\", \"discharge_time\": \"2025-09-22T18:57:44.057593\", \"bed_id\": 372, \"hospital_id\": 1}</td></tr><tr><td>{\"patient_id\": \"7288b5db-71fd-4daa-b2a9-96127c8440d6\", \"gender\": \"Male\", \"age\": 34, \"department\": \"Emergency\", \"admission_time\": \"2025-09-22T14:00:33.165037\", \"discharge_time\": \"2025-09-23T11:00:33.165037\", \"bed_id\": 289, \"hospital_id\": 7}</td></tr><tr><td>{\"patient_id\": \"09c50ca6-270a-4dd3-a2e3-a40b22bfbcd9\", \"gender\": \"Male\", \"age\": 61, \"department\": \"Emergency\", \"admission_time\": \"2025-09-22T12:07:20.438580\", \"discharge_time\": \"2025-09-25T04:07:20.438580\", \"bed_id\": 335, \"hospital_id\": 6}</td></tr><tr><td>{\"patient_id\": \"de804b8f-53af-4854-83d6-251f3bc94dcd\", \"gender\": \"Male\", \"age\": 32, \"department\": \"Maternity\", \"admission_time\": \"2025-09-20T18:01:54.217081\", \"discharge_time\": \"2025-09-22T19:01:54.217081\", \"bed_id\": 193, \"hospital_id\": 7}</td></tr><tr><td>{\"patient_id\": \"b0a9c66e-a842-4938-adcd-65cb5b3e839d\", \"gender\": \"Male\", \"age\": 91, \"department\": \"Emergency\", \"admission_time\": \"2025-09-21T22:02:45.252231\", \"discharge_time\": \"2025-09-23T03:02:45.252231\", \"bed_id\": 463, \"hospital_id\": 7}</td></tr><tr><td>{\"patient_id\": \"4b4939ea-e0e3-4e95-8eb8-0b01ecd29c65\", \"gender\": \"Male\", \"age\": 16, \"department\": \"Maternity\", \"admission_time\": \"2025-09-20T17:54:09.915577\", \"discharge_time\": \"2025-09-23T03:54:09.915577\", \"bed_id\": 162, \"hospital_id\": 7}</td></tr><tr><td>{\"patient_id\": \"f951dad7-1126-4e71-a910-a2f6195ec82a\", \"gender\": \"Male\", \"age\": 97, \"department\": \"Maternity\", \"admission_time\": \"2025-09-22T23:57:36.052508\", \"discharge_time\": \"2025-09-24T09:57:36.052508\", \"bed_id\": 168, \"hospital_id\": 7}</td></tr><tr><td>{\"patient_id\": \"c7dd551c-a3bf-4566-be9b-1c582e8922ee\", \"gender\": \"Male\", \"age\": 38, \"department\": \"Maternity\", \"admission_time\": \"2025-09-23T06:54:40.936028\", \"discharge_time\": \"2025-09-25T23:54:40.936028\", \"bed_id\": 315, \"hospital_id\": 5}</td></tr><tr><td>{\"patient_id\": \"e5649d7a-1b29-4453-a349-dc7b1c1192ab\", \"gender\": \"Female\", \"age\": 8, \"department\": \"Maternity\", \"admission_time\": \"2025-09-20T22:56:34.013514\", \"discharge_time\": \"2025-09-21T02:56:34.013514\", \"bed_id\": 33, \"hospital_id\": 5}</td></tr><tr><td>{\"patient_id\": \"c1cb4dc0-a95c-49cc-a5e9-721afa5142ab\", \"gender\": \"Male\", \"age\": 18, \"department\": \"Surgery\", \"admission_time\": \"2025-09-20T21:06:05.386441\", \"discharge_time\": \"2025-09-23T03:06:05.386441\", \"bed_id\": 137, \"hospital_id\": 6}</td></tr><tr><td>{\"patient_id\": \"77b68281-e6e8-4a1e-a7fe-3526422da13e\", \"gender\": \"Male\", \"age\": 48, \"department\": \"Emergency\", \"admission_time\": \"2025-09-21T12:00:58.179823\", \"discharge_time\": \"2025-09-24T02:00:58.179823\", \"bed_id\": 220, \"hospital_id\": 6}</td></tr><tr><td>{\"patient_id\": \"0a8fd26b-8b70-4432-becd-3c26f02d4b06\", \"gender\": \"Male\", \"age\": 74, \"department\": \"Emergency\", \"admission_time\": \"2025-09-22T01:03:18.275998\", \"discharge_time\": \"2025-09-22T23:03:18.275998\", \"bed_id\": 359, \"hospital_id\": 4}</td></tr><tr><td>{\"patient_id\": \"29a3e73d-4333-4fc8-b185-e71977fa1e25\", \"gender\": \"Male\", \"age\": 19, \"department\": \"Maternity\", \"admission_time\": \"2025-09-21T16:26:30.354945\", \"discharge_time\": \"2025-09-23T20:26:30.354945\", \"bed_id\": 343, \"hospital_id\": 3}</td></tr><tr><td>{\"patient_id\": \"85e9f84f-6659-4b95-92a5-c1690d6c3e00\", \"gender\": \"Female\", \"age\": 5, \"department\": \"Oncology\", \"admission_time\": \"2025-09-22T02:02:46.253239\", \"discharge_time\": \"2025-09-23T16:02:46.253239\", \"bed_id\": 195, \"hospital_id\": 5}</td></tr><tr><td>{\"patient_id\": \"15b70fef-3323-4237-8449-3b5949cf4bd8\", \"gender\": \"Male\", \"age\": 81, \"department\": \"Maternity\", \"admission_time\": \"2025-09-21T13:09:13.511167\", \"discharge_time\": \"2025-09-21T22:09:13.511167\", \"bed_id\": 186, \"hospital_id\": 7}</td></tr><tr><td>{\"patient_id\": \"dba9e219-4312-4fcf-8c6a-06e336a01cba\", \"gender\": \"Male\", \"age\": 26, \"department\": \"Surgery\", \"admission_time\": \"2025-09-22T17:01:17.190826\", \"discharge_time\": \"2025-09-24T18:01:17.190826\", \"bed_id\": 261, \"hospital_id\": 4}</td></tr><tr><td>{\"patient_id\": \"623d314b-7cb4-44e9-8b13-e560c0e5ed09\", \"gender\": \"Male\", \"age\": 54, \"department\": \"Oncology\", \"admission_time\": \"2025-09-21T23:08:34.488611\", \"discharge_time\": \"2025-09-22T15:08:34.488611\", \"bed_id\": 196, \"hospital_id\": 6}</td></tr><tr><td>{\"patient_id\": \"6d839db8-fc32-4754-8dfe-69ccd39553c5\", \"gender\": \"Male\", \"age\": 7, \"department\": \"Oncology\", \"admission_time\": \"2025-09-21T09:54:14.918083\", \"discharge_time\": \"2025-09-24T03:54:14.918083\", \"bed_id\": 56, \"hospital_id\": 2}</td></tr><tr><td>{\"patient_id\": \"f22e788b-3d3b-4f34-8389-4c35226ea580\", \"gender\": \"Male\", \"age\": 8, \"department\": \"Surgery\", \"admission_time\": \"2025-09-23T14:05:42.370662\", \"discharge_time\": \"2025-09-23T01:05:42.370591\", \"bed_id\": 199, \"hospital_id\": 6}</td></tr><tr><td>{\"patient_id\": \"b38d2399-7b8e-4892-8b16-a9effac790f3\", \"gender\": \"Female\", \"age\": 3, \"department\": \"Oncology\", \"admission_time\": \"2025-09-22T15:58:31.087880\", \"discharge_time\": \"2025-09-23T01:58:31.087880\", \"bed_id\": 393, \"hospital_id\": 6}</td></tr><tr><td>{\"patient_id\": \"20ead479-b756-47ce-8b72-3373d9aa143b\", \"gender\": \"Male\", \"age\": 75, \"department\": \"Emergency\", \"admission_time\": \"2025-09-21T00:03:43.291011\", \"discharge_time\": \"2025-09-21T22:03:43.291011\", \"bed_id\": 402, \"hospital_id\": 7}</td></tr><tr><td>{\"patient_id\": \"c0ef7788-59a1-4589-9349-9cd9ad13a93a\", \"gender\": \"Male\", \"age\": 27, \"department\": \"Maternity\", \"admission_time\": \"2025-09-22T02:01:35.205034\", \"discharge_time\": \"2025-09-24T12:01:35.205034\", \"bed_id\": 435, \"hospital_id\": 3}</td></tr><tr><td>{\"patient_id\": \"2833a9e7-64bf-4305-9161-169a700a45a6\", \"gender\": \"Male\", \"age\": 24, \"department\": \"Surgery\", \"admission_time\": \"2025-09-23T07:04:42.334025\", \"discharge_time\": \"2025-09-25T12:04:42.334025\", \"bed_id\": 341, \"hospital_id\": 3}</td></tr><tr><td>{\"patient_id\": \"4573cfd7-01cc-4376-ba6b-e4b2127a9783\", \"gender\": \"Male\", \"age\": 9, \"department\": \"Pediatrics\", \"admission_time\": \"2025-09-20T09:05:23.358219\", \"discharge_time\": \"2025-09-22T23:05:23.358219\", \"bed_id\": 302, \"hospital_id\": 2}</td></tr><tr><td>{\"patient_id\": \"8a160ddf-90cd-4cf0-bbdf-86ff70b5c310\", \"gender\": \"Male\", \"age\": 69, \"department\": \"Oncology\", \"admission_time\": \"2025-09-22T23:04:17.318564\", \"discharge_time\": \"2025-09-25T07:04:17.318564\", \"bed_id\": 42, \"hospital_id\": 1}</td></tr><tr><td>{\"patient_id\": \"364012ab-6c04-4e1c-bd87-e38cfa707574\", \"gender\": \"Male\", \"age\": 94, \"department\": \"Oncology\", \"admission_time\": \"2025-09-21T20:02:30.244087\", \"discharge_time\": \"2025-09-24T08:02:30.244087\", \"bed_id\": 288, \"hospital_id\": 5}</td></tr><tr><td>{\"patient_id\": \"1c174a83-fb9b-493d-bb81-cbf05436083e\", \"gender\": \"Male\", \"age\": 54, \"department\": \"Emergency\", \"admission_time\": \"2025-09-22T02:07:13.433498\", \"discharge_time\": \"2025-09-23T20:07:13.433498\", \"bed_id\": 392, \"hospital_id\": 2}</td></tr><tr><td>{\"patient_id\": \"a449b69e-5a76-4074-adfe-b6bcf80edc61\", \"gender\": \"Male\", \"age\": 89, \"department\": \"Oncology\", \"admission_time\": \"2025-09-23T07:04:02.305479\", \"discharge_time\": \"2025-09-23T17:04:02.305479\", \"bed_id\": 468, \"hospital_id\": 7}</td></tr><tr><td>{\"patient_id\": \"44560078-829c-461e-8e1b-a84964caf622\", \"gender\": \"Male\", \"age\": 55, \"department\": \"Emergency\", \"admission_time\": \"2025-09-23T04:56:36.014937\", \"discharge_time\": \"2025-09-24T14:56:36.014937\", \"bed_id\": 470, \"hospital_id\": 3}</td></tr><tr><td>{\"patient_id\": \"2eb2b462-0a1d-44bd-a7c3-0ca4a7e9d97e\", \"gender\": \"Male\", \"age\": 144, \"department\": \"Emergency\", \"admission_time\": \"2025-09-21T05:08:56.499459\", \"discharge_time\": \"2025-09-22T20:08:56.499459\", \"bed_id\": 13, \"hospital_id\": 7}</td></tr><tr><td>{\"patient_id\": \"ae2f4ae7-729c-4e8b-a4dd-3ad7e5c5bb60\", \"gender\": \"Male\", \"age\": 29, \"department\": \"Emergency\", \"admission_time\": \"2025-09-21T04:10:02.543824\", \"discharge_time\": \"2025-09-22T14:10:02.543824\", \"bed_id\": 212, \"hospital_id\": 1}</td></tr><tr><td>{\"patient_id\": \"b8b0ad29-2951-4457-8009-229bb5826bbb\", \"gender\": \"Male\", \"age\": 2, \"department\": \"Maternity\", \"admission_time\": \"2025-09-23T22:00:44.171635\", \"discharge_time\": \"2025-09-22T07:00:44.171558\", \"bed_id\": 351, \"hospital_id\": 7}</td></tr><tr><td>{\"patient_id\": \"83718208-663a-404f-bd86-248ea2c323b0\", \"gender\": \"Male\", \"age\": 74, \"department\": \"Oncology\", \"admission_time\": \"2025-09-25T09:58:28.086592\", \"discharge_time\": \"2025-09-25T02:58:28.086487\", \"bed_id\": 281, \"hospital_id\": 1}</td></tr><tr><td>{\"patient_id\": \"be549b52-dd61-40ec-9efb-e5cf9951f11b\", \"gender\": \"Male\", \"age\": 42, \"department\": \"Oncology\", \"admission_time\": \"2025-09-24T10:56:59.028996\", \"discharge_time\": \"2025-09-24T22:56:59.028918\", \"bed_id\": 151, \"hospital_id\": 2}</td></tr><tr><td>{\"patient_id\": \"05145624-2a2d-476c-ace6-be5bce90dd49\", \"gender\": \"Male\", \"age\": 94, \"department\": \"Emergency\", \"admission_time\": \"2025-09-21T17:54:07.913814\", \"discharge_time\": \"2025-09-22T01:54:07.913814\", \"bed_id\": 431, \"hospital_id\": 2}</td></tr><tr><td>{\"patient_id\": \"dc96c709-22c6-4cdc-b6aa-1b07fd283932\", \"gender\": \"Male\", \"age\": 83, \"department\": \"Surgery\", \"admission_time\": \"2025-09-22T11:58:05.070569\", \"discharge_time\": \"2025-09-23T09:58:05.070569\", \"bed_id\": 235, \"hospital_id\": 6}</td></tr><tr><td>{\"patient_id\": \"3707ca7b-c3c8-47b4-a08b-9b38121d4a79\", \"gender\": \"Male\", \"age\": 76, \"department\": \"Surgery\", \"admission_time\": \"2025-09-23T04:10:29.563668\", \"discharge_time\": \"2025-09-25T20:10:29.563668\", \"bed_id\": 273, \"hospital_id\": 2}</td></tr><tr><td>{\"patient_id\": \"1a5fbc0e-38a8-4df4-8de5-e67c7cef0a9d\", \"gender\": \"Male\", \"age\": 16, \"department\": \"Emergency\", \"admission_time\": \"2025-09-21T12:00:02.146608\", \"discharge_time\": \"2025-09-23T22:00:02.146608\", \"bed_id\": 268, \"hospital_id\": 5}</td></tr><tr><td>{\"patient_id\": \"6f4f9db1-ddda-44bc-8d87-59cf66fb33d8\", \"gender\": \"Male\", \"age\": 93, \"department\": \"Surgery\", \"admission_time\": \"2025-09-21T01:04:51.339522\", \"discharge_time\": \"2025-09-22T09:04:51.339522\", \"bed_id\": 286, \"hospital_id\": 2}</td></tr><tr><td>{\"patient_id\": \"86b4a593-d869-49ab-a6e7-05017c57d4eb\", \"gender\": \"Male\", \"age\": 12, \"department\": \"Oncology\", \"admission_time\": \"2025-09-23T05:08:26.483386\", \"discharge_time\": \"2025-09-24T18:08:26.483386\", \"bed_id\": 337, \"hospital_id\": 6}</td></tr><tr><td>{\"patient_id\": \"87fb0fa5-f54b-4120-a060-8b555bc43013\", \"gender\": \"Male\", \"age\": 26, \"department\": \"Surgery\", \"admission_time\": \"2025-09-22T06:55:37.976907\", \"discharge_time\": \"2025-09-24T19:55:37.976907\", \"bed_id\": 127, \"hospital_id\": 4}</td></tr><tr><td>{\"patient_id\": \"3416c81b-0884-4ef8-98a3-5318977deda9\", \"gender\": \"Male\", \"age\": 72, \"department\": \"Oncology\", \"admission_time\": \"2025-09-21T08:07:57.466266\", \"discharge_time\": \"2025-09-24T05:07:57.466266\", \"bed_id\": 148, \"hospital_id\": 7}</td></tr><tr><td>{\"patient_id\": \"0c63278e-44b2-4ae6-ac3c-16bb3aceeedf\", \"gender\": \"Male\", \"age\": 80, \"department\": \"Surgery\", \"admission_time\": \"2025-09-21T07:03:59.304121\", \"discharge_time\": \"2025-09-23T21:03:59.304121\", \"bed_id\": 374, \"hospital_id\": 7}</td></tr><tr><td>{\"patient_id\": \"9940dc2a-6a0d-4206-8d7c-ba711767c881\", \"gender\": \"Male\", \"age\": 34, \"department\": \"Surgery\", \"admission_time\": \"2025-09-23T06:55:03.952487\", \"discharge_time\": \"2025-09-24T14:55:03.952487\", \"bed_id\": 114, \"hospital_id\": 6}</td></tr><tr><td>{\"patient_id\": \"748be81c-7c9a-4859-a77c-a9b09b2d7f07\", \"gender\": \"Male\", \"age\": 12, \"department\": \"Surgery\", \"admission_time\": \"2025-09-20T16:59:38.131831\", \"discharge_time\": \"2025-09-21T11:59:38.131831\", \"bed_id\": 267, \"hospital_id\": 5}</td></tr><tr><td>{\"patient_id\": \"abfab016-d76b-4bb5-9bf2-5424cd6eadb9\", \"gender\": \"Male\", \"age\": 19, \"department\": \"Maternity\", \"admission_time\": \"2025-09-22T00:57:37.053928\", \"discharge_time\": \"2025-09-22T18:57:37.053928\", \"bed_id\": 173, \"hospital_id\": 2}</td></tr><tr><td>{\"patient_id\": \"a06ea869-85c3-41ed-947c-f3bf122e08a9\", \"gender\": \"Male\", \"age\": 73, \"department\": \"Emergency\", \"admission_time\": \"2025-09-23T02:09:50.535752\", \"discharge_time\": \"2025-09-23T20:09:50.535752\", \"bed_id\": 122, \"hospital_id\": 6}</td></tr><tr><td>{\"patient_id\": \"b52402b7-a676-4c0a-be4a-8da39a7c3108\", \"gender\": \"Male\", \"age\": 21, \"department\": \"Maternity\", \"admission_time\": \"2025-09-20T09:54:32.930312\", \"discharge_time\": \"2025-09-20T20:54:32.930312\", \"bed_id\": 447, \"hospital_id\": 3}</td></tr><tr><td>{\"patient_id\": \"c67f7df4-4e6d-4d52-9eaa-e781ceeb3748\", \"gender\": \"Male\", \"age\": 68, \"department\": \"Emergency\", \"admission_time\": \"2025-09-21T06:00:50.175922\", \"discharge_time\": \"2025-09-21T14:00:50.175922\", \"bed_id\": 388, \"hospital_id\": 6}</td></tr><tr><td>{\"patient_id\": \"cb01ff1f-39d9-4ba3-b152-8407dc952bbc\", \"gender\": \"Male\", \"age\": 37, \"department\": \"Oncology\", \"admission_time\": \"2025-09-22T09:53:03.870968\", \"discharge_time\": \"2025-09-25T04:53:03.870968\", \"bed_id\": 191, \"hospital_id\": 7}</td></tr><tr><td>{\"patient_id\": \"e621e554-020f-4bc5-8f87-6ddc38eb14d2\", \"gender\": \"Male\", \"age\": 75, \"department\": \"Maternity\", \"admission_time\": \"2025-09-21T01:26:29.354473\", \"discharge_time\": \"2025-09-22T21:26:29.354473\", \"bed_id\": 416, \"hospital_id\": 2}</td></tr><tr><td>{\"patient_id\": \"4dd8d802-a002-45bd-833d-a57d39227a15\", \"gender\": \"Male\", \"age\": 93, \"department\": \"Oncology\", \"admission_time\": \"2025-09-25T20:03:39.288360\", \"discharge_time\": \"2025-09-22T16:03:39.288289\", \"bed_id\": 42, \"hospital_id\": 2}</td></tr><tr><td>{\"patient_id\": \"93edb4a7-fc76-437a-81b1-b81a888a3e1f\", \"gender\": \"Male\", \"age\": 88, \"department\": \"Maternity\", \"admission_time\": \"2025-09-22T05:56:35.014471\", \"discharge_time\": \"2025-09-23T05:56:35.014471\", \"bed_id\": 289, \"hospital_id\": 5}</td></tr><tr><td>{\"patient_id\": \"28824f4d-b86d-4c39-a93c-f8db0af271f9\", \"gender\": \"Male\", \"age\": 73, \"department\": \"Emergency\", \"admission_time\": \"2025-09-22T12:53:31.888670\", \"discharge_time\": \"2025-09-22T23:53:31.888670\", \"bed_id\": 259, \"hospital_id\": 5}</td></tr><tr><td>{\"patient_id\": \"9d3cf3c3-ab2a-450e-a7a3-174b71f7d0a3\", \"gender\": \"Male\", \"age\": 52, \"department\": \"Surgery\", \"admission_time\": \"2025-09-22T21:05:17.355294\", \"discharge_time\": \"2025-09-23T16:05:17.355294\", \"bed_id\": 426, \"hospital_id\": 6}</td></tr><tr><td>{\"patient_id\": \"be3143e4-c046-45eb-b84b-ba75f4082851\", \"gender\": \"Male\", \"age\": 85, \"department\": \"Surgery\", \"admission_time\": \"2025-09-21T15:58:33.088823\", \"discharge_time\": \"2025-09-24T03:58:33.088823\", \"bed_id\": 454, \"hospital_id\": 7}</td></tr><tr><td>{\"patient_id\": \"dafa795b-26f1-4497-b69e-314adaa86050\", \"gender\": \"Male\", \"age\": 84, \"department\": \"Oncology\", \"admission_time\": \"2025-09-22T07:56:39.016327\", \"discharge_time\": \"2025-09-24T14:56:39.016327\", \"bed_id\": 494, \"hospital_id\": 2}</td></tr><tr><td>{\"patient_id\": \"64dede47-4b65-4009-b31b-f2fed5565441\", \"gender\": \"Male\", \"age\": 107, \"department\": \"Oncology\", \"admission_time\": \"2025-09-21T12:05:53.378389\", \"discharge_time\": \"2025-09-22T10:05:53.378389\", \"bed_id\": 207, \"hospital_id\": 4}</td></tr><tr><td>{\"patient_id\": \"bf8a64e0-fd2f-44c3-b08b-433489eb5e3f\", \"gender\": \"Female\", \"age\": 94, \"department\": \"Surgery\", \"admission_time\": \"2025-09-23T05:58:56.104767\", \"discharge_time\": \"2025-09-23T18:58:56.104767\", \"bed_id\": 2, \"hospital_id\": 5}</td></tr><tr><td>{\"patient_id\": \"bc94f9f1-7756-4267-8e23-0aa65da2b22c\", \"gender\": \"Male\", \"age\": 16, \"department\": \"Surgery\", \"admission_time\": \"2025-09-20T10:10:06.545642\", \"discharge_time\": \"2025-09-23T07:10:06.545642\", \"bed_id\": 393, \"hospital_id\": 3}</td></tr><tr><td>{\"patient_id\": \"1c7fa5c8-94e6-4039-b997-0edb44bcca0f\", \"gender\": \"Male\", \"age\": 98, \"department\": \"Surgery\", \"admission_time\": \"2025-09-21T20:10:16.552341\", \"discharge_time\": \"2025-09-23T01:10:16.552341\", \"bed_id\": 275, \"hospital_id\": 1}</td></tr><tr><td>{\"patient_id\": \"3594881e-e2d6-45d9-a286-5c5f194ce45b\", \"gender\": \"Male\", \"age\": 80, \"department\": \"Surgery\", \"admission_time\": \"2025-09-20T11:09:58.540367\", \"discharge_time\": \"2025-09-22T15:09:58.540367\", \"bed_id\": 279, \"hospital_id\": 5}</td></tr><tr><td>{\"patient_id\": \"715f0c9b-0b8b-413a-87c2-37e205c81e6e\", \"gender\": \"Male\", \"age\": 57, \"department\": \"Maternity\", \"admission_time\": \"2025-09-21T11:54:05.911269\", \"discharge_time\": \"2025-09-21T23:54:05.911269\", \"bed_id\": 283, \"hospital_id\": 3}</td></tr><tr><td>{\"patient_id\": \"546da290-e915-4a61-8dec-baee0e57acb8\", \"gender\": \"Male\", \"age\": 14, \"department\": \"Oncology\", \"admission_time\": \"2025-09-21T22:03:19.276453\", \"discharge_time\": \"2025-09-23T19:03:19.276453\", \"bed_id\": 379, \"hospital_id\": 5}</td></tr><tr><td>{\"patient_id\": \"edef462b-8c43-497c-9ecf-979fc18afdb7\", \"gender\": \"Male\", \"age\": 58, \"department\": \"Surgery\", \"admission_time\": \"2025-09-23T00:09:05.503904\", \"discharge_time\": \"2025-09-25T23:09:05.503904\", \"bed_id\": 251, \"hospital_id\": 3}</td></tr><tr><td>{\"patient_id\": \"fe744a16-b896-44b7-be99-e3a33b1fc91d\", \"gender\": \"Male\", \"age\": 47, \"department\": \"Oncology\", \"admission_time\": \"2025-09-21T08:00:54.178042\", \"discharge_time\": \"2025-09-22T22:00:54.178042\", \"bed_id\": 410, \"hospital_id\": 3}</td></tr><tr><td>{\"patient_id\": \"e957e233-3cb7-4919-9010-7dba17483fb9\", \"gender\": \"Male\", \"age\": 65, \"department\": \"Surgery\", \"admission_time\": \"2025-09-21T11:10:24.560688\", \"discharge_time\": \"2025-09-24T09:10:24.560688\", \"bed_id\": 330, \"hospital_id\": 2}</td></tr><tr><td>{\"patient_id\": \"55cb3953-a608-43a4-a4b5-b473bf1fa8c9\", \"gender\": \"Male\", \"age\": 5, \"department\": \"Emergency\", \"admission_time\": \"2025-09-20T16:01:39.208322\", \"discharge_time\": \"2025-09-22T14:01:39.208322\", \"bed_id\": 125, \"hospital_id\": 6}</td></tr><tr><td>{\"patient_id\": \"673d3cc2-b7d8-4cd6-a5f7-d1e9e8e76a1e\", \"gender\": \"Male\", \"age\": 140, \"department\": \"Oncology\", \"admission_time\": \"2025-09-23T04:57:58.066717\", \"discharge_time\": \"2025-09-24T07:57:58.066717\", \"bed_id\": 190, \"hospital_id\": 2}</td></tr><tr><td>{\"patient_id\": \"f0896403-25d1-4215-ba30-20faf941fe17\", \"gender\": \"Male\", \"age\": 16, \"department\": \"Maternity\", \"admission_time\": \"2025-09-21T00:55:20.965917\", \"discharge_time\": \"2025-09-21T23:55:20.965917\", \"bed_id\": 316, \"hospital_id\": 6}</td></tr><tr><td>{\"patient_id\": \"a134e813-56bd-49f2-800c-2402ffcad914\", \"gender\": \"Male\", \"age\": 91, \"department\": \"Surgery\", \"admission_time\": \"2025-09-20T14:01:38.207902\", \"discharge_time\": \"2025-09-22T20:01:38.207902\", \"bed_id\": 295, \"hospital_id\": 7}</td></tr><tr><td>{\"patient_id\": \"421ef3e1-eff6-4306-b287-fd4bcc170c75\", \"gender\": \"Male\", \"age\": 74, \"department\": \"Emergency\", \"admission_time\": \"2025-09-22T18:05:03.347206\", \"discharge_time\": \"2025-09-24T18:05:03.347206\", \"bed_id\": 238, \"hospital_id\": 4}</td></tr><tr><td>{\"patient_id\": \"7e3448b0-0fa9-48e4-ba7c-9fdbfe45f4e5\", \"gender\": \"Male\", \"age\": 50, \"department\": \"Emergency\", \"admission_time\": \"2025-09-22T05:10:22.559720\", \"discharge_time\": \"2025-09-25T05:10:22.559720\", \"bed_id\": 259, \"hospital_id\": 1}</td></tr><tr><td>{\"patient_id\": \"7ebcb120-5098-4839-9876-2dabcc25ffc6\", \"gender\": \"Male\", \"age\": 83, \"department\": \"Oncology\", \"admission_time\": \"2025-09-22T16:01:25.197520\", \"discharge_time\": \"2025-09-24T07:01:25.197520\", \"bed_id\": 492, \"hospital_id\": 5}</td></tr><tr><td>{\"patient_id\": \"7ecb29bd-410d-46d6-9cc9-a06d923767ef\", \"gender\": \"Male\", \"age\": 81, \"department\": \"Oncology\", \"admission_time\": \"2025-09-21T14:08:09.474028\", \"discharge_time\": \"2025-09-22T13:08:09.474028\", \"bed_id\": 446, \"hospital_id\": 6}</td></tr><tr><td>{\"patient_id\": \"ce9ce02a-a830-4fca-8c51-013edf2a156e\", \"gender\": \"Male\", \"age\": 47, \"department\": \"Emergency\", \"admission_time\": \"2025-09-21T05:57:01.030369\", \"discharge_time\": \"2025-09-21T13:57:01.030369\", \"bed_id\": 416, \"hospital_id\": 1}</td></tr><tr><td>{\"patient_id\": \"2bdc94a4-df53-4b1c-a6ed-8d00e8aa2c5c\", \"gender\": \"Male\", \"age\": 93, \"department\": \"Oncology\", \"admission_time\": \"2025-09-20T21:03:26.281216\", \"discharge_time\": \"2025-09-21T22:03:26.281216\", \"bed_id\": 320, \"hospital_id\": 6}</td></tr><tr><td>{\"patient_id\": \"c5418215-cc96-4a35-8c25-d626742d3eb6\", \"gender\": \"Male\", \"age\": 97, \"department\": \"Surgery\", \"admission_time\": \"2025-09-22T17:08:57.499916\", \"discharge_time\": \"2025-09-25T01:08:57.499916\", \"bed_id\": 437, \"hospital_id\": 4}</td></tr><tr><td>{\"patient_id\": \"c10e3292-b916-427a-8761-7fc12b065a36\", \"gender\": \"Male\", \"age\": 99, \"department\": \"Emergency\", \"admission_time\": \"2025-09-22T00:02:39.249344\", \"discharge_time\": \"2025-09-22T05:02:39.249344\", \"bed_id\": 395, \"hospital_id\": 7}</td></tr><tr><td>{\"patient_id\": \"bce8ebe1-645a-413f-bbf4-2a5dc6d67250\", \"gender\": \"Male\", \"age\": 42, \"department\": \"Maternity\", \"admission_time\": \"2025-09-23T06:06:49.419482\", \"discharge_time\": \"2025-09-23T23:06:49.419482\", \"bed_id\": 105, \"hospital_id\": 1}</td></tr><tr><td>{\"patient_id\": \"58406b3b-3c4f-4fcf-99a4-fb83163f3758\", \"gender\": \"Male\", \"age\": 85, \"department\": \"Surgery\", \"admission_time\": \"2025-09-20T23:05:34.364900\", \"discharge_time\": \"2025-09-21T17:05:34.364900\", \"bed_id\": 387, \"hospital_id\": 7}</td></tr><tr><td>{\"patient_id\": \"a687d4a1-e67b-4cf7-86e7-1306054474bb\", \"gender\": \"Male\", \"age\": 70, \"department\": \"Emergency\", \"admission_time\": \"2025-09-21T04:26:51.369581\", \"discharge_time\": \"2025-09-21T21:26:51.369581\", \"bed_id\": 465, \"hospital_id\": 3}</td></tr><tr><td>{\"patient_id\": \"a8309b6d-3c5c-4a8b-a2de-ff2e415c322d\", \"gender\": \"Male\", \"age\": 75, \"department\": \"Oncology\", \"admission_time\": \"2025-09-22T15:26:25.351480\", \"discharge_time\": \"2025-09-25T03:26:25.351480\", \"bed_id\": 278, \"hospital_id\": 1}</td></tr><tr><td>{\"patient_id\": \"bb39c102-a038-4b40-8849-37fc92b2cb59\", \"gender\": \"Male\", \"age\": 18, \"department\": \"Surgery\", \"admission_time\": \"2025-09-20T13:05:11.351641\", \"discharge_time\": \"2025-09-21T11:05:11.351641\", \"bed_id\": 145, \"hospital_id\": 4}</td></tr><tr><td>{\"patient_id\": \"21d1cf9e-728b-4f58-bb78-8740cc163f6e\", \"gender\": \"Male\", \"age\": 77, \"department\": \"Emergency\", \"admission_time\": \"2025-09-20T10:54:53.945084\", \"discharge_time\": \"2025-09-20T14:54:53.945084\", \"bed_id\": 195, \"hospital_id\": 6}</td></tr><tr><td>{\"patient_id\": \"782a692d-28d8-42a8-b88d-70e3036575fd\", \"gender\": \"Male\", \"age\": 47, \"department\": \"Oncology\", \"admission_time\": \"2025-09-22T07:07:47.458800\", \"discharge_time\": \"2025-09-23T10:07:47.458800\", \"bed_id\": 209, \"hospital_id\": 4}</td></tr><tr><td>{\"patient_id\": \"a2bddee1-1ce6-49be-a301-ee0071b50700\", \"gender\": \"Male\", \"age\": 21, \"department\": \"Oncology\", \"admission_time\": \"2025-09-22T18:01:10.186425\", \"discharge_time\": \"2025-09-24T14:01:10.186425\", \"bed_id\": 108, \"hospital_id\": 4}</td></tr><tr><td>{\"patient_id\": \"8d6d4382-9364-42b5-8e4e-397a682ef409\", \"gender\": \"Male\", \"age\": 1, \"department\": \"Maternity\", \"admission_time\": \"2025-09-21T02:04:39.332198\", \"discharge_time\": \"2025-09-23T12:04:39.332198\", \"bed_id\": 255, \"hospital_id\": 7}</td></tr><tr><td>{\"patient_id\": \"52fa3fce-7f82-4cbe-be0a-6f12bcc809a7\", \"gender\": \"Male\", \"age\": 37, \"department\": \"Oncology\", \"admission_time\": \"2025-09-22T05:05:36.365810\", \"discharge_time\": \"2025-09-24T11:05:36.365810\", \"bed_id\": 389, \"hospital_id\": 7}</td></tr><tr><td>{\"patient_id\": \"1b3d7aa1-8469-41b0-b24a-f407eeb6d856\", \"gender\": \"Male\", \"age\": 46, \"department\": \"Oncology\", \"admission_time\": \"2025-09-21T11:56:05.995327\", \"discharge_time\": \"2025-09-23T03:56:05.995327\", \"bed_id\": 304, \"hospital_id\": 1}</td></tr><tr><td>{\"patient_id\": \"d0462f17-1e88-4047-92e1-487257229981\", \"gender\": \"Male\", \"age\": 55, \"department\": \"Oncology\", \"admission_time\": \"2025-09-20T22:26:43.363647\", \"discharge_time\": \"2025-09-22T03:26:43.363647\", \"bed_id\": 157, \"hospital_id\": 4}</td></tr><tr><td>{\"patient_id\": \"64f85a61-2075-4b3a-b52b-93546e0d3d92\", \"gender\": \"Male\", \"age\": 51, \"department\": \"Oncology\", \"admission_time\": \"2025-09-20T08:05:29.362179\", \"discharge_time\": \"2025-09-21T08:05:29.362179\", \"bed_id\": 156, \"hospital_id\": 4}</td></tr><tr><td>{\"patient_id\": \"700493af-2ed6-45e8-bbf3-9e5d6fc76daf\", \"gender\": \"Male\", \"age\": 60, \"department\": \"Oncology\", \"admission_time\": \"2025-09-21T23:56:15.000757\", \"discharge_time\": \"2025-09-22T00:56:15.000757\", \"bed_id\": 488, \"hospital_id\": 3}</td></tr><tr><td>{\"patient_id\": \"c7e80336-64bc-436c-acb7-66b344494733\", \"gender\": \"Male\", \"age\": 11, \"department\": \"Oncology\", \"admission_time\": \"2025-09-21T07:07:44.457450\", \"discharge_time\": \"2025-09-23T15:07:44.457450\", \"bed_id\": 388, \"hospital_id\": 4}</td></tr><tr><td>{\"patient_id\": \"f9f95983-8c2e-4506-9908-1adb83b019f9\", \"gender\": \"Male\", \"age\": 36, \"department\": \"Oncology\", \"admission_time\": \"2025-09-21T19:58:30.087400\", \"discharge_time\": \"2025-09-23T18:58:30.087400\", \"bed_id\": 168, \"hospital_id\": 6}</td></tr><tr><td>{\"patient_id\": \"5a8d0d48-383b-4bbd-ba6e-518d28d0a450\", \"gender\": \"Male\", \"age\": 59, \"department\": \"Oncology\", \"admission_time\": \"2025-09-20T14:59:40.132760\", \"discharge_time\": \"2025-09-22T22:59:40.132760\", \"bed_id\": 131, \"hospital_id\": 2}</td></tr><tr><td>{\"patient_id\": \"799416ca-61bc-4ffe-bb96-39f3ec9f16d0\", \"gender\": \"Male\", \"age\": 63, \"department\": \"Oncology\", \"admission_time\": \"2025-09-20T20:00:26.160608\", \"discharge_time\": \"2025-09-21T12:00:26.160608\", \"bed_id\": 399, \"hospital_id\": 6}</td></tr><tr><td>{\"patient_id\": \"b56bf54a-9a18-4b5e-88f7-6a12f6efbdf0\", \"gender\": \"Male\", \"age\": 73, \"department\": \"Oncology\", \"admission_time\": \"2025-09-20T07:05:26.360359\", \"discharge_time\": \"2025-09-21T10:05:26.360359\", \"bed_id\": 416, \"hospital_id\": 5}</td></tr><tr><td>{\"patient_id\": \"80f650ac-55e8-45b6-8f32-8ebd254e1841\", \"gender\": \"Male\", \"age\": 25, \"department\": \"Oncology\", \"admission_time\": \"2025-09-20T21:00:23.158744\", \"discharge_time\": \"2025-09-23T14:00:23.158744\", \"bed_id\": 245, \"hospital_id\": 4}</td></tr><tr><td>{\"patient_id\": \"53b30317-99d9-40f5-83c9-823306120503\", \"gender\": \"Male\", \"age\": 58, \"department\": \"Oncology\", \"admission_time\": \"2025-09-22T13:59:47.137363\", \"discharge_time\": \"2025-09-24T17:59:47.137363\", \"bed_id\": 268, \"hospital_id\": 2}</td></tr><tr><td>{\"patient_id\": \"fdf064e5-6fd1-426f-9dc6-699189972063\", \"gender\": \"Male\", \"age\": 58, \"department\": \"Oncology\", \"admission_time\": \"2025-09-22T22:53:29.887816\", \"discharge_time\": \"2025-09-24T09:53:29.887816\", \"bed_id\": 346, \"hospital_id\": 2}</td></tr><tr><td>{\"patient_id\": \"c7a35489-8e41-4603-88db-910f35918c5f\", \"gender\": \"Male\", \"age\": 81, \"department\": \"Oncology\", \"admission_time\": \"2025-09-22T07:07:53.464106\", \"discharge_time\": \"2025-09-23T05:07:53.464106\", \"bed_id\": 463, \"hospital_id\": 3}</td></tr><tr><td>{\"patient_id\": \"dc398f31-2983-4263-b57d-3baec12df3e2\", \"gender\": \"Male\", \"age\": 96, \"department\": \"Oncology\", \"admission_time\": \"2025-09-23T06:54:31.929174\", \"discharge_time\": \"2025-09-25T18:54:31.929174\", \"bed_id\": 162, \"hospital_id\": 1}</td></tr><tr><td>{\"patient_id\": \"089eda25-6363-4f07-b9ea-9ea767918afc\", \"gender\": \"Male\", \"age\": 96, \"department\": \"Oncology\", \"admission_time\": \"2025-09-20T19:05:58.381646\", \"discharge_time\": \"2025-09-21T05:05:58.381646\", \"bed_id\": 118, \"hospital_id\": 6}</td></tr><tr><td>{\"patient_id\": \"b15bd612-163d-4d1e-8446-b2d16609aca6\", \"gender\": \"Male\", \"age\": 43, \"department\": \"Oncology\", \"admission_time\": \"2025-09-20T14:57:21.043999\", \"discharge_time\": \"2025-09-21T12:57:21.043999\", \"bed_id\": 236, \"hospital_id\": 5}</td></tr><tr><td>{\"patient_id\": \"23d85244-2fb1-4c48-a0a6-f15415ed0ea5\", \"gender\": \"Male\", \"age\": 81, \"department\": \"Maternity\", \"admission_time\": \"2025-09-21T19:03:45.293066\", \"discharge_time\": \"2025-09-22T19:03:45.293066\", \"bed_id\": 488, \"hospital_id\": 7}</td></tr><tr><td>{\"patient_id\": \"18797478-15fa-45bc-b888-ca7ef7ca9953\", \"gender\": \"Male\", \"age\": 34, \"department\": \"Oncology\", \"admission_time\": \"2025-09-22T18:26:37.359578\", \"discharge_time\": \"2025-09-24T20:26:37.359578\", \"bed_id\": 397, \"hospital_id\": 1}</td></tr><tr><td>{\"patient_id\": \"a5dd5aa9-0f7f-4585-844e-20396b54da23\", \"gender\": \"Male\", \"age\": 75, \"department\": \"Oncology\", \"admission_time\": \"2025-09-22T16:01:50.214220\", \"discharge_time\": \"2025-09-24T12:01:50.214220\", \"bed_id\": 251, \"hospital_id\": 2}</td></tr><tr><td>{\"patient_id\": \"3f8e0cac-b8a4-4c8d-8311-5de3b333abac\", \"gender\": \"Male\", \"age\": 57, \"department\": \"Oncology\", \"admission_time\": \"2025-09-22T09:08:55.499022\", \"discharge_time\": \"2025-09-23T05:08:55.499022\", \"bed_id\": 232, \"hospital_id\": 5}</td></tr><tr><td>{\"patient_id\": \"b634c283-2559-4290-869d-b594ba1a1640\", \"gender\": \"Male\", \"age\": 95, \"department\": \"Maternity\", \"admission_time\": \"2025-09-22T03:04:16.317317\", \"discharge_time\": \"2025-09-23T02:04:16.317317\", \"bed_id\": 46, \"hospital_id\": 1}</td></tr><tr><td>{\"patient_id\": \"e2264f8c-6874-4436-8b64-e48b4adc82b5\", \"gender\": \"Male\", \"age\": 11, \"department\": \"Maternity\", \"admission_time\": \"2025-09-22T01:10:21.558443\", \"discharge_time\": \"2025-09-23T19:10:21.558443\", \"bed_id\": 87, \"hospital_id\": 7}</td></tr><tr><td>{\"patient_id\": \"6a525eb0-3c8b-4065-af34-fad3d57a1c7b\", \"gender\": \"Male\", \"age\": 58, \"department\": \"Oncology\", \"admission_time\": \"2025-09-21T19:54:04.910327\", \"discharge_time\": \"2025-09-22T21:54:04.910327\", \"bed_id\": 416, \"hospital_id\": 6}</td></tr><tr><td>{\"patient_id\": \"d2ba1148-07dd-487f-bd3d-9186795dfa11\", \"gender\": \"Male\", \"age\": 45, \"department\": \"Emergency\", \"admission_time\": \"2025-09-22T22:59:20.120337\", \"discharge_time\": \"2025-09-25T03:59:20.120337\", \"bed_id\": 40, \"hospital_id\": 2}</td></tr><tr><td>{\"patient_id\": \"82d18798-b1ba-4f1f-bde7-335beb9d69e9\", \"gender\": \"Male\", \"age\": 11, \"department\": \"Surgery\", \"admission_time\": \"2025-09-20T18:07:04.428618\", \"discharge_time\": \"2025-09-21T12:07:04.428618\", \"bed_id\": 318, \"hospital_id\": 3}</td></tr><tr><td>{\"patient_id\": \"baa1d03b-1cf9-4709-96a3-a502c4efb9ef\", \"gender\": \"Male\", \"age\": 48, \"department\": \"Oncology\", \"admission_time\": \"2025-09-20T13:00:19.156929\", \"discharge_time\": \"2025-09-22T09:00:19.156929\", \"bed_id\": 217, \"hospital_id\": 6}</td></tr><tr><td>{\"patient_id\": \"c490cb5d-756d-4f4e-91f4-1f53fe82fa54\", \"gender\": \"Male\", \"age\": 9, \"department\": \"Emergency\", \"admission_time\": \"2025-09-20T08:58:19.079891\", \"discharge_time\": \"2025-09-22T06:58:19.079891\", \"bed_id\": 327, \"hospital_id\": 7}</td></tr><tr><td>{\"patient_id\": \"0836201e-0897-48e6-bdff-748dc73c9f2d\", \"gender\": \"Male\", \"age\": 20, \"department\": \"Emergency\", \"admission_time\": \"2025-09-23T02:54:55.946013\", \"discharge_time\": \"2025-09-23T03:54:55.946013\", \"bed_id\": 297, \"hospital_id\": 3}</td></tr><tr><td>{\"patient_id\": \"d32b2ee5-9d46-4414-8a5b-f0dbccb9d8b6\", \"gender\": \"Male\", \"age\": 88, \"department\": \"Oncology\", \"admission_time\": \"2025-09-20T19:01:01.181397\", \"discharge_time\": \"2025-09-21T18:01:01.181397\", \"bed_id\": 435, \"hospital_id\": 5}</td></tr><tr><td>{\"patient_id\": \"5cba4d16-f58e-48e7-9f48-b9828749152d\", \"gender\": \"Male\", \"age\": 78, \"department\": \"Oncology\", \"admission_time\": \"2025-09-22T00:54:49.942475\", \"discharge_time\": \"2025-09-24T15:54:49.942475\", \"bed_id\": 316, \"hospital_id\": 4}</td></tr><tr><td>{\"patient_id\": \"da14645a-e90c-4d6a-92ad-132499174f74\", \"gender\": \"Male\", \"age\": 35, \"department\": \"Oncology\", \"admission_time\": \"2025-09-21T10:53:14.878712\", \"discharge_time\": \"2025-09-22T05:53:14.878712\", \"bed_id\": 132, \"hospital_id\": 4}</td></tr><tr><td>{\"patient_id\": \"db59e8e7-bc3a-4151-9f4c-49fb445fb085\", \"gender\": \"Male\", \"age\": 84, \"department\": \"Oncology\", \"admission_time\": \"2025-09-22T04:56:42.019038\", \"discharge_time\": \"2025-09-25T00:56:42.019038\", \"bed_id\": 320, \"hospital_id\": 3}</td></tr><tr><td>{\"patient_id\": \"1f20ed5d-d398-4ca7-ba58-031894e2bb94\", \"gender\": \"Male\", \"age\": 66, \"department\": \"Surgery\", \"admission_time\": \"2025-09-20T07:57:54.064358\", \"discharge_time\": \"2025-09-21T09:57:54.064358\", \"bed_id\": 263, \"hospital_id\": 5}</td></tr><tr><td>{\"patient_id\": \"cef29531-5dfb-436c-927b-79f968d75450\", \"gender\": \"Male\", \"age\": 18, \"department\": \"Oncology\", \"admission_time\": \"2025-09-21T04:06:47.417852\", \"discharge_time\": \"2025-09-22T10:06:47.417852\", \"bed_id\": 293, \"hospital_id\": 1}</td></tr><tr><td>{\"patient_id\": \"ceac38f8-f80b-46dc-85c6-ec845278d05c\", \"gender\": \"Male\", \"age\": 32, \"department\": \"Oncology\", \"admission_time\": \"2025-09-20T15:27:00.374713\", \"discharge_time\": \"2025-09-23T09:27:00.374713\", \"bed_id\": 178, \"hospital_id\": 6}</td></tr><tr><td>{\"patient_id\": \"a7510f23-84e6-4a54-b2ed-8faa15e471f9\", \"gender\": \"Male\", \"age\": 37, \"department\": \"Surgery\", \"admission_time\": \"2025-09-23T06:58:57.105204\", \"discharge_time\": \"2025-09-23T10:58:57.105204\", \"bed_id\": 115, \"hospital_id\": 1}</td></tr><tr><td>{\"patient_id\": \"40023fca-024e-4e42-b6cc-d254ec862894\", \"gender\": \"Female\", \"age\": 6, \"department\": \"Surgery\", \"admission_time\": \"2025-09-23T06:57:22.044746\", \"discharge_time\": \"2025-09-25T08:57:22.044746\", \"bed_id\": 294, \"hospital_id\": 3}</td></tr><tr><td>{\"patient_id\": \"fd769e77-be2c-435f-8ef5-8f66871e73b7\", \"gender\": \"Male\", \"age\": 64, \"department\": \"Oncology\", \"admission_time\": \"2025-09-22T06:26:26.352132\", \"discharge_time\": \"2025-09-23T21:26:26.352132\", \"bed_id\": 475, \"hospital_id\": 2}</td></tr><tr><td>{\"patient_id\": \"2627beec-9b7c-4b84-a11b-e21a93845fae\", \"gender\": \"Male\", \"age\": 91, \"department\": \"Oncology\", \"admission_time\": \"2025-09-22T08:52:45.857139\", \"discharge_time\": \"2025-09-23T17:52:45.857139\", \"bed_id\": 52, \"hospital_id\": 5}</td></tr><tr><td>{\"patient_id\": \"bd721ade-f4f0-4a82-a2f6-9d0ff935b0e7\", \"gender\": \"Male\", \"age\": 4, \"department\": \"Cardiology\", \"admission_time\": \"2025-09-21T15:07:25.442567\", \"discharge_time\": \"2025-09-21T17:07:25.442567\", \"bed_id\": 392, \"hospital_id\": 3}</td></tr><tr><td>{\"patient_id\": \"5a1bb7bb-4114-4340-8b99-4318b8d73911\", \"gender\": \"Male\", \"age\": 84, \"department\": \"Surgery\", \"admission_time\": \"2025-09-21T13:53:49.900872\", \"discharge_time\": \"2025-09-21T22:53:49.900872\", \"bed_id\": 453, \"hospital_id\": 7}</td></tr><tr><td>{\"patient_id\": \"d50b000f-f2da-4fcd-aec2-84b7ec8f5e47\", \"gender\": \"Male\", \"age\": 17, \"department\": \"Surgery\", \"admission_time\": \"2025-09-21T02:59:23.122595\", \"discharge_time\": \"2025-09-21T21:59:23.122595\", \"bed_id\": 347, \"hospital_id\": 6}</td></tr><tr><td>{\"patient_id\": \"240112cd-2743-4789-b2f2-1a7ef92abc5a\", \"gender\": \"Male\", \"age\": 89, \"department\": \"Surgery\", \"admission_time\": \"2025-09-23T02:55:18.963028\", \"discharge_time\": \"2025-09-23T13:55:18.963028\", \"bed_id\": 100, \"hospital_id\": 6}</td></tr><tr><td>{\"patient_id\": \"8ea43413-4d22-43b5-b514-84c953f249c3\", \"gender\": \"Male\", \"age\": 9, \"department\": \"Emergency\", \"admission_time\": \"2025-09-20T06:53:42.896768\", \"discharge_time\": \"2025-09-22T17:53:42.896768\", \"bed_id\": 98, \"hospital_id\": 6}</td></tr><tr><td>{\"patient_id\": \"7970dd22-5b5c-4ffa-8d37-d93e89d67afa\", \"gender\": \"Male\", \"age\": 67, \"department\": \"Emergency\", \"admission_time\": \"2025-09-20T08:02:29.243659\", \"discharge_time\": \"2025-09-22T02:02:29.243659\", \"bed_id\": 58, \"hospital_id\": 2}</td></tr><tr><td>{\"patient_id\": \"d7e457fd-0004-4478-8cd3-1a7fd6ef7239\", \"gender\": \"Male\", \"age\": 20, \"department\": \"Surgery\", \"admission_time\": \"2025-09-22T04:03:15.273658\", \"discharge_time\": \"2025-09-22T23:03:15.273658\", \"bed_id\": 446, \"hospital_id\": 5}</td></tr><tr><td>{\"patient_id\": \"f241f32c-0fbb-4a02-a8bc-cabc269a0c14\", \"gender\": \"Female\", \"age\": 22, \"department\": \"ICU\", \"admission_time\": \"2025-09-23T10:09:14.512475\", \"discharge_time\": \"2025-09-25T20:09:14.512403\", \"bed_id\": 270, \"hospital_id\": 3}</td></tr><tr><td>{\"patient_id\": \"178c5dab-46ec-40b3-9684-bd04936e1f55\", \"gender\": \"Female\", \"age\": 120, \"department\": \"ICU\", \"admission_time\": \"2025-09-21T15:10:12.550298\", \"discharge_time\": \"2025-09-22T01:10:12.550298\", \"bed_id\": 491, \"hospital_id\": 6}</td></tr><tr><td>{\"patient_id\": \"eb02b39b-344e-4d63-a269-1252cb43b529\", \"gender\": \"Male\", \"age\": 42, \"department\": \"Surgery\", \"admission_time\": \"2025-09-22T07:54:01.908998\", \"discharge_time\": \"2025-09-22T11:54:01.908998\", \"bed_id\": 235, \"hospital_id\": 3}</td></tr><tr><td>{\"patient_id\": \"f7402bd5-ad81-43e6-b861-ca6e7e9cc368\", \"gender\": \"Male\", \"age\": 17, \"department\": \"Surgery\", \"admission_time\": \"2025-09-21T01:02:03.223889\", \"discharge_time\": \"2025-09-21T19:02:03.223889\", \"bed_id\": 335, \"hospital_id\": 7}</td></tr><tr><td>{\"patient_id\": \"d646a475-d139-4a2f-9e67-6db6c0252083\", \"gender\": \"Male\", \"age\": 52, \"department\": \"Oncology\", \"admission_time\": \"2025-09-21T08:07:14.434154\", \"discharge_time\": \"2025-09-21T15:07:14.434154\", \"bed_id\": 108, \"hospital_id\": 6}</td></tr><tr><td>{\"patient_id\": \"c56db11d-31ec-47ec-b8c3-7aea8e2ab50b\", \"gender\": \"Male\", \"age\": 29, \"department\": \"Oncology\", \"admission_time\": \"2025-09-20T16:08:51.496618\", \"discharge_time\": \"2025-09-21T06:08:51.496618\", \"bed_id\": 284, \"hospital_id\": 1}</td></tr><tr><td>{\"patient_id\": \"49239972-c0ff-4e86-a1b1-bf81701a097f\", \"gender\": \"Male\", \"age\": 24, \"department\": \"Oncology\", \"admission_time\": \"2025-09-22T13:04:45.336122\", \"discharge_time\": \"2025-09-23T23:04:45.336122\", \"bed_id\": 57, \"hospital_id\": 1}</td></tr><tr><td>{\"patient_id\": \"7b9f3d69-ca8f-46f1-b889-761a0bfa4c90\", \"gender\": \"Male\", \"age\": 98, \"department\": \"Maternity\", \"admission_time\": \"2025-09-20T14:07:02.427731\", \"discharge_time\": \"2025-09-21T12:07:02.427731\", \"bed_id\": 74, \"hospital_id\": 7}</td></tr><tr><td>{\"patient_id\": \"67e11345-2de3-4df4-9c84-d7906dcc4a82\", \"gender\": \"Male\", \"age\": 14, \"department\": \"Surgery\", \"admission_time\": \"2025-09-22T06:04:37.331347\", \"discharge_time\": \"2025-09-22T08:04:37.331347\", \"bed_id\": 142, \"hospital_id\": 6}</td></tr><tr><td>{\"patient_id\": \"c935ab9f-7e72-4ae9-9237-a31aa54d190e\", \"gender\": \"Male\", \"age\": 81, \"department\": \"Surgery\", \"admission_time\": \"2025-09-20T08:57:20.043531\", \"discharge_time\": \"2025-09-20T09:57:20.043531\", \"bed_id\": 206, \"hospital_id\": 1}</td></tr><tr><td>{\"patient_id\": \"29067e4a-34b5-4235-941f-6705a5901f97\", \"gender\": \"Male\", \"age\": 2, \"department\": \"Emergency\", \"admission_time\": \"2025-09-22T17:56:02.992607\", \"discharge_time\": \"2025-09-23T10:56:02.992607\", \"bed_id\": 282, \"hospital_id\": 1}</td></tr><tr><td>{\"patient_id\": \"5deb0d5e-1e19-49ec-8160-80f201525f35\", \"gender\": \"Male\", \"age\": 37, \"department\": \"Maternity\", \"admission_time\": \"2025-09-21T15:55:52.986097\", \"discharge_time\": \"2025-09-22T06:55:52.986097\", \"bed_id\": 44, \"hospital_id\": 2}</td></tr><tr><td>{\"patient_id\": \"401fa0c7-672d-446c-aca9-7efe50a75356\", \"gender\": \"Female\", \"age\": 117, \"department\": \"ICU\", \"admission_time\": \"2025-09-20T21:55:22.967102\", \"discharge_time\": \"2025-09-22T23:55:22.967102\", \"bed_id\": 483, \"hospital_id\": 1}</td></tr><tr><td>{\"patient_id\": \"54d0b99b-3ef2-4c8b-8019-ff491ed6bec5\", \"gender\": \"Female\", \"age\": 8, \"department\": \"Surgery\", \"admission_time\": \"2025-09-22T06:58:45.096683\", \"discharge_time\": \"2025-09-23T19:58:45.096683\", \"bed_id\": 169, \"hospital_id\": 3}</td></tr><tr><td>{\"patient_id\": \"d37f41d1-ff1b-4488-a288-b1b72ea31116\", \"gender\": \"Male\", \"age\": 108, \"department\": \"Oncology\", \"admission_time\": \"2025-09-21T13:07:03.428160\", \"discharge_time\": \"2025-09-24T02:07:03.428160\", \"bed_id\": 10, \"hospital_id\": 2}</td></tr><tr><td>{\"patient_id\": \"5fc25b92-d9eb-40e0-8076-32bad727618b\", \"gender\": \"Male\", \"age\": 99, \"department\": \"Oncology\", \"admission_time\": \"2025-09-23T00:00:12.152467\", \"discharge_time\": \"2025-09-23T01:00:12.152467\", \"bed_id\": 156, \"hospital_id\": 3}</td></tr><tr><td>{\"patient_id\": \"a37f74a5-d25a-4245-8a84-26fa464ef395\", \"gender\": \"Male\", \"age\": 4, \"department\": \"Cardiology\", \"admission_time\": \"2025-09-20T17:01:27.199451\", \"discharge_time\": \"2025-09-23T15:01:27.199451\", \"bed_id\": 89, \"hospital_id\": 7}</td></tr><tr><td>{\"patient_id\": \"0193dedc-51fa-458e-b003-252711fa8397\", \"gender\": \"Female\", \"age\": 5, \"department\": \"Surgery\", \"admission_time\": \"2025-09-23T03:56:09.997618\", \"discharge_time\": \"2025-09-25T10:56:09.997618\", \"bed_id\": 116, \"hospital_id\": 4}</td></tr><tr><td>{\"patient_id\": \"6fde966d-4f47-4451-a75e-233f53870700\", \"gender\": \"Male\", \"age\": 8, \"department\": \"Surgery\", \"admission_time\": \"2025-09-21T00:26:15.344704\", \"discharge_time\": \"2025-09-22T18:26:15.344704\", \"bed_id\": 333, \"hospital_id\": 2}</td></tr><tr><td>{\"patient_id\": \"e69605fe-62e0-4b91-887f-5f078bc2cd69\", \"gender\": \"Male\", \"age\": 5, \"department\": \"Maternity\", \"admission_time\": \"2025-09-21T10:54:27.926586\", \"discharge_time\": \"2025-09-23T15:54:27.926586\", \"bed_id\": 496, \"hospital_id\": 5}</td></tr><tr><td>{\"patient_id\": \"f8db1ea7-39ad-4672-83b0-e53929aa9fef\", \"gender\": \"Male\", \"age\": 3, \"department\": \"Cardiology\", \"admission_time\": \"2025-09-20T15:53:02.869380\", \"discharge_time\": \"2025-09-21T13:53:02.869380\", \"bed_id\": 23, \"hospital_id\": 3}</td></tr><tr><td>{\"patient_id\": \"d2fda68d-3823-4ced-ad47-16c9a0791ac5\", \"gender\": \"Male\", \"age\": 7, \"department\": \"Surgery\", \"admission_time\": \"2025-09-22T21:06:28.404571\", \"discharge_time\": \"2025-09-23T01:06:28.404571\", \"bed_id\": 377, \"hospital_id\": 1}</td></tr><tr><td>{\"patient_id\": \"73bae133-aee6-4596-b977-a637c188f1cb\", \"gender\": \"Male\", \"age\": 99, \"department\": \"Maternity\", \"admission_time\": \"2025-09-22T09:07:34.451269\", \"discharge_time\": \"2025-09-23T04:07:34.451269\", \"bed_id\": 60, \"hospital_id\": 7}</td></tr><tr><td>{\"patient_id\": \"47f0f88b-5871-4266-bd00-06e92a470d71\", \"gender\": \"Male\", \"age\": 94, \"department\": \"Maternity\", \"admission_time\": \"2025-09-20T06:55:02.951267\", \"discharge_time\": \"2025-09-21T05:55:02.951267\", \"bed_id\": 92, \"hospital_id\": 1}</td></tr><tr><td>{\"patient_id\": \"8f59d5ab-a890-44e8-8249-9735ae7aac9a\", \"gender\": \"Male\", \"age\": 58, \"department\": \"Maternity\", \"admission_time\": \"2025-09-20T22:05:41.369849\", \"discharge_time\": \"2025-09-21T18:05:41.369849\", \"bed_id\": 10, \"hospital_id\": 1}</td></tr><tr><td>{\"patient_id\": \"a21e1d62-143e-4e6e-9485-4878458a1492\", \"gender\": \"Male\", \"age\": 86, \"department\": \"Oncology\", \"admission_time\": \"2025-09-23T00:55:26.970703\", \"discharge_time\": \"2025-09-23T16:55:26.970703\", \"bed_id\": 481, \"hospital_id\": 2}</td></tr><tr><td>{\"patient_id\": \"dcc36f1e-aa95-43e6-b6b2-a31db4f10409\", \"gender\": \"Male\", \"age\": 6, \"department\": \"Emergency\", \"admission_time\": \"2025-09-21T09:05:30.362613\", \"discharge_time\": \"2025-09-21T14:05:30.362613\", \"bed_id\": 438, \"hospital_id\": 5}</td></tr><tr><td>{\"patient_id\": \"483759be-6cd5-4072-a235-202f2236afbd\", \"gender\": \"Male\", \"age\": 99, \"department\": \"Surgery\", \"admission_time\": \"2025-09-21T00:10:07.546746\", \"discharge_time\": \"2025-09-21T02:10:07.546746\", \"bed_id\": 477, \"hospital_id\": 7}</td></tr><tr><td>{\"patient_id\": \"76942c1d-d1ee-46de-bb65-d741d1cfcc5d\", \"gender\": \"Female\", \"age\": 9, \"department\": \"Surgery\", \"admission_time\": \"2025-09-20T07:05:59.383181\", \"discharge_time\": \"2025-09-21T14:05:59.383181\", \"bed_id\": 236, \"hospital_id\": 2}</td></tr><tr><td>{\"patient_id\": \"202efa04-8abf-44e6-be90-90b641ec21c3\", \"gender\": \"Male\", \"age\": 82, \"department\": \"Emergency\", \"admission_time\": \"2025-09-21T21:04:07.309036\", \"discharge_time\": \"2025-09-23T05:04:07.309036\", \"bed_id\": 45, \"hospital_id\": 4}</td></tr><tr><td>{\"patient_id\": \"fc39dbb1-e58b-4751-8ac2-41d5986a37c3\", \"gender\": \"Male\", \"age\": 60, \"department\": \"Emergency\", \"admission_time\": \"2025-09-20T18:06:06.386915\", \"discharge_time\": \"2025-09-23T04:06:06.386915\", \"bed_id\": 96, \"hospital_id\": 4}</td></tr><tr><td>{\"patient_id\": \"5932a56a-b281-4501-99c5-7911c1ffb482\", \"gender\": \"Male\", \"age\": 76, \"department\": \"Oncology\", \"admission_time\": \"2025-09-20T06:56:44.020343\", \"discharge_time\": \"2025-09-20T13:56:44.020343\", \"bed_id\": 364, \"hospital_id\": 1}</td></tr><tr><td>{\"patient_id\": \"cf19aa7f-c34a-4bf9-8de2-546229857df2\", \"gender\": \"Male\", \"age\": 92, \"department\": \"Emergency\", \"admission_time\": \"2025-09-22T17:25:51.326405\", \"discharge_time\": \"2025-09-25T00:25:51.326405\", \"bed_id\": 96, \"hospital_id\": 3}</td></tr><tr><td>{\"patient_id\": \"300bbe8d-c2ab-4ddb-a4f0-7547cb9416ea\", \"gender\": \"Female\", \"age\": 105, \"department\": \"ICU\", \"admission_time\": \"2025-09-22T22:01:57.219257\", \"discharge_time\": \"2025-09-23T22:01:57.219257\", \"bed_id\": 394, \"hospital_id\": 1}</td></tr><tr><td>{\"patient_id\": \"ecba713a-385b-444b-b749-19ee07f68a28\", \"gender\": \"Male\", \"age\": 18, \"department\": \"Emergency\", \"admission_time\": \"2025-09-20T10:06:57.425383\", \"discharge_time\": \"2025-09-23T09:06:57.425383\", \"bed_id\": 90, \"hospital_id\": 4}</td></tr><tr><td>{\"patient_id\": \"8731ce53-f4af-429e-94d0-b38b01e0bfdb\", \"gender\": \"Male\", \"age\": 136, \"department\": \"Surgery\", \"admission_time\": \"2025-09-20T08:03:37.287340\", \"discharge_time\": \"2025-09-20T20:03:37.287340\", \"bed_id\": 367, \"hospital_id\": 7}</td></tr><tr><td>{\"patient_id\": \"ebbe3c47-4960-42c7-b4ee-7123de40a443\", \"gender\": \"Male\", \"age\": 91, \"department\": \"Surgery\", \"admission_time\": \"2025-09-21T06:03:06.266298\", \"discharge_time\": \"2025-09-23T22:03:06.266298\", \"bed_id\": 83, \"hospital_id\": 6}</td></tr><tr><td>{\"patient_id\": \"f38fb588-a09b-4f07-9182-e64d813357aa\", \"gender\": \"Male\", \"age\": 5, \"department\": \"Maternity\", \"admission_time\": \"2025-09-23T05:53:12.876456\", \"discharge_time\": \"2025-09-24T13:53:12.876456\", \"bed_id\": 288, \"hospital_id\": 3}</td></tr><tr><td>{\"patient_id\": \"76f0630f-aaa5-4400-b08a-bf182b384b17\", \"gender\": \"Male\", \"age\": 66, \"department\": \"Emergency\", \"admission_time\": \"2025-09-22T02:02:44.251794\", \"discharge_time\": \"2025-09-23T23:02:44.251794\", \"bed_id\": 77, \"hospital_id\": 1}</td></tr><tr><td>{\"patient_id\": \"26ee0f50-9267-4109-9ca5-c19b081d91b8\", \"gender\": \"Male\", \"age\": 34, \"department\": \"Surgery\", \"admission_time\": \"2025-09-20T06:54:59.948472\", \"discharge_time\": \"2025-09-21T03:54:59.948472\", \"bed_id\": 102, \"hospital_id\": 4}</td></tr><tr><td>{\"patient_id\": \"2f523d34-c80b-4598-a9c4-72dd8bc2578c\", \"gender\": \"Male\", \"age\": 28, \"department\": \"Surgery\", \"admission_time\": \"2025-09-21T16:58:41.094319\", \"discharge_time\": \"2025-09-23T10:58:41.094319\", \"bed_id\": 139, \"hospital_id\": 2}</td></tr><tr><td>{\"patient_id\": \"f0b95234-6f75-44e5-a2f0-e3e9da6c20e4\", \"gender\": \"Female\", \"age\": 66, \"department\": \"ICU\", \"admission_time\": \"2025-09-24T15:57:23.045213\", \"discharge_time\": \"2025-09-24T02:57:23.045141\", \"bed_id\": 266, \"hospital_id\": 1}</td></tr><tr><td>{\"patient_id\": \"91e0efcf-254b-40dd-ab08-23f77150d6a6\", \"gender\": \"Male\", \"age\": 95, \"department\": \"Surgery\", \"admission_time\": \"2025-09-21T16:59:55.142753\", \"discharge_time\": \"2025-09-22T00:59:55.142753\", \"bed_id\": 70, \"hospital_id\": 1}</td></tr><tr><td>{\"patient_id\": \"a0bb8fba-0ede-46a8-baa0-22aae61b250c\", \"gender\": \"Male\", \"age\": 44, \"department\": \"Maternity\", \"admission_time\": \"2025-09-22T00:02:54.258461\", \"discharge_time\": \"2025-09-23T04:02:54.258461\", \"bed_id\": 33, \"hospital_id\": 7}</td></tr><tr><td>{\"patient_id\": \"d80b1235-01c4-469b-bf3e-b20a1971138e\", \"gender\": \"Male\", \"age\": 71, \"department\": \"Oncology\", \"admission_time\": \"2025-09-20T19:02:56.260155\", \"discharge_time\": \"2025-09-23T08:02:56.260155\", \"bed_id\": 21, \"hospital_id\": 6}</td></tr><tr><td>{\"patient_id\": \"c8c6a603-b993-446e-bfed-e418a7c85d7f\", \"gender\": \"Male\", \"age\": 40, \"department\": \"Oncology\", \"admission_time\": \"2025-09-22T15:58:43.095803\", \"discharge_time\": \"2025-09-25T15:58:43.095803\", \"bed_id\": 315, \"hospital_id\": 7}</td></tr><tr><td>{\"patient_id\": \"8a660757-9d09-46bf-9f55-c235eebd59ef\", \"gender\": \"Male\", \"age\": 117, \"department\": \"Oncology\", \"admission_time\": \"2025-09-22T14:26:55.372003\", \"discharge_time\": \"2025-09-24T11:26:55.372003\", \"bed_id\": 25, \"hospital_id\": 4}</td></tr><tr><td>{\"patient_id\": \"59c8ea32-923c-4152-950c-07ab7378a732\", \"gender\": \"Male\", \"age\": 38, \"department\": \"Surgery\", \"admission_time\": \"2025-09-21T19:03:57.302559\", \"discharge_time\": \"2025-09-23T10:03:57.302559\", \"bed_id\": 15, \"hospital_id\": 2}</td></tr><tr><td>{\"patient_id\": \"b0863e44-5699-43d8-83c2-923795ed8a85\", \"gender\": \"Female\", \"age\": 95, \"department\": \"ICU\", \"admission_time\": \"2025-09-21T22:04:03.306140\", \"discharge_time\": \"2025-09-22T08:04:03.306140\", \"bed_id\": 230, \"hospital_id\": 7}</td></tr><tr><td>{\"patient_id\": \"7610b448-a6eb-4b96-9100-183bbbc6c481\", \"gender\": \"Male\", \"age\": 45, \"department\": \"Surgery\", \"admission_time\": \"2025-09-21T15:54:48.941277\", \"discharge_time\": \"2025-09-24T00:54:48.941277\", \"bed_id\": 33, \"hospital_id\": 4}</td></tr><tr><td>{\"patient_id\": \"acaddd27-967e-4570-ba4e-98e4523326ff\", \"gender\": \"Male\", \"age\": 75, \"department\": \"Maternity\", \"admission_time\": \"2025-09-20T09:01:37.206676\", \"discharge_time\": \"2025-09-20T10:01:37.206676\", \"bed_id\": 90, \"hospital_id\": 3}</td></tr><tr><td>{\"patient_id\": \"7fa2f416-6140-4c64-8ef9-5126501735fd\", \"gender\": \"Male\", \"age\": 30, \"department\": \"Surgery\", \"admission_time\": \"2025-09-20T11:26:18.347178\", \"discharge_time\": \"2025-09-21T01:26:18.347178\", \"bed_id\": 154, \"hospital_id\": 7}</td></tr><tr><td>{\"patient_id\": \"820488a7-02fe-45fd-ba82-c1303dff61ff\", \"gender\": \"Female\", \"age\": 70, \"department\": \"ICU\", \"admission_time\": \"2025-09-21T07:09:06.505501\", \"discharge_time\": \"2025-09-22T08:09:06.505501\", \"bed_id\": 451, \"hospital_id\": 3}</td></tr><tr><td>{\"patient_id\": \"7523c29a-a0d7-4608-99a6-e0da69d1a3c4\", \"gender\": \"Male\", \"age\": 63, \"department\": \"Surgery\", \"admission_time\": \"2025-09-21T18:03:55.300435\", \"discharge_time\": \"2025-09-22T02:03:55.300435\", \"bed_id\": 91, \"hospital_id\": 6}</td></tr><tr><td>{\"patient_id\": \"2193365d-d261-4cf8-ad9f-88c109681dd6\", \"gender\": \"Male\", \"age\": 11, \"department\": \"Surgery\", \"admission_time\": \"2025-09-22T19:58:29.086972\", \"discharge_time\": \"2025-09-25T07:58:29.086972\", \"bed_id\": 253, \"hospital_id\": 4}</td></tr><tr><td>{\"patient_id\": \"4479a509-c0af-4a7c-927d-5c067ba5781e\", \"gender\": \"Male\", \"age\": 54, \"department\": \"Oncology\", \"admission_time\": \"2025-09-22T17:03:23.278921\", \"discharge_time\": \"2025-09-24T10:03:23.278921\", \"bed_id\": 67, \"hospital_id\": 5}</td></tr><tr><td>{\"patient_id\": \"a2e4b4b2-d387-4b62-8cda-3983121b1282\", \"gender\": \"Male\", \"age\": 17, \"department\": \"Maternity\", \"admission_time\": \"2025-09-20T11:01:53.216060\", \"discharge_time\": \"2025-09-20T23:01:53.216060\", \"bed_id\": 50, \"hospital_id\": 3}</td></tr><tr><td>{\"patient_id\": \"800f9dea-ec15-448c-9ff0-19563947c5ca\", \"gender\": \"Male\", \"age\": 88, \"department\": \"Emergency\", \"admission_time\": \"2025-09-23T04:52:53.861630\", \"discharge_time\": \"2025-09-23T06:52:53.861630\", \"bed_id\": 39, \"hospital_id\": 2}</td></tr><tr><td>{\"patient_id\": \"33982cb6-7089-4c42-954b-d96135ce8e9e\", \"gender\": \"Male\", \"age\": 91, \"department\": \"Surgery\", \"admission_time\": \"2025-09-22T16:26:19.347611\", \"discharge_time\": \"2025-09-23T14:26:19.347611\", \"bed_id\": 53, \"hospital_id\": 5}</td></tr><tr><td>{\"patient_id\": \"aa3d398d-0bec-4554-bc11-6fbdb2bef013\", \"gender\": \"Male\", \"age\": 1, \"department\": \"Emergency\", \"admission_time\": \"2025-09-22T20:52:48.859034\", \"discharge_time\": \"2025-09-23T16:52:48.859034\", \"bed_id\": 68, \"hospital_id\": 6}</td></tr><tr><td>{\"patient_id\": \"d91fcea0-05a5-4838-b118-d60df1e25fea\", \"gender\": \"Female\", \"age\": 61, \"department\": \"ICU\", \"admission_time\": \"2025-09-21T21:10:20.557583\", \"discharge_time\": \"2025-09-22T05:10:20.557583\", \"bed_id\": 298, \"hospital_id\": 7}</td></tr><tr><td>{\"patient_id\": \"65659c86-050f-4a20-8148-dff9fa9e658e\", \"gender\": \"Male\", \"age\": 47, \"department\": \"Surgery\", \"admission_time\": \"2025-09-20T16:25:47.324621\", \"discharge_time\": \"2025-09-23T16:25:47.324621\", \"bed_id\": 372, \"hospital_id\": 5}</td></tr><tr><td>{\"patient_id\": \"6aecc26e-0976-4aba-adda-746d67f7e40c\", \"gender\": \"Male\", \"age\": 64, \"department\": \"Surgery\", \"admission_time\": \"2025-09-20T18:25:41.321644\", \"discharge_time\": \"2025-09-22T13:25:41.321644\", \"bed_id\": 33, \"hospital_id\": 6}</td></tr><tr><td>{\"patient_id\": \"9cbebbbc-6652-4696-ac88-c4dc18409f59\", \"gender\": \"Male\", \"age\": 73, \"department\": \"Oncology\", \"admission_time\": \"2025-09-22T05:55:41.979180\", \"discharge_time\": \"2025-09-22T15:55:41.979180\", \"bed_id\": 201, \"hospital_id\": 5}</td></tr><tr><td>{\"patient_id\": \"3f867962-e975-4b98-9b37-de66f24eac3f\", \"gender\": \"Male\", \"age\": 98, \"department\": \"Surgery\", \"admission_time\": \"2025-09-20T08:54:47.940349\", \"discharge_time\": \"2025-09-22T08:54:47.940349\", \"bed_id\": 369, \"hospital_id\": 1}</td></tr><tr><td>{\"patient_id\": \"22b01947-40ca-41f2-8a37-e52ee2d73c79\", \"gender\": \"Male\", \"age\": 4, \"department\": \"Oncology\", \"admission_time\": \"2025-09-21T18:01:18.191435\", \"discharge_time\": \"2025-09-23T08:01:18.191435\", \"bed_id\": 244, \"hospital_id\": 7}</td></tr><tr><td>{\"patient_id\": \"786bd830-deec-46aa-8ad5-eb1c6689d041\", \"gender\": \"Male\", \"age\": 34, \"department\": \"Surgery\", \"admission_time\": \"2025-09-20T21:09:15.513410\", \"discharge_time\": \"2025-09-23T02:09:15.513410\", \"bed_id\": 54, \"hospital_id\": 1}</td></tr><tr><td>{\"patient_id\": \"ab3b604f-673a-453a-b0a4-5c89c033ce55\", \"gender\": \"Male\", \"age\": 42, \"department\": \"Surgery\", \"admission_time\": \"2025-09-20T21:58:37.091851\", \"discharge_time\": \"2025-09-23T12:58:37.091851\", \"bed_id\": 46, \"hospital_id\": 6}</td></tr><tr><td>{\"patient_id\": \"856e08c4-f304-4708-a3cf-834bd6844411\", \"gender\": \"Male\", \"age\": 56, \"department\": \"Emergency\", \"admission_time\": \"2025-09-21T14:06:44.415849\", \"discharge_time\": \"2025-09-21T23:06:44.415849\", \"bed_id\": 29, \"hospital_id\": 2}</td></tr><tr><td>{\"patient_id\": \"184698dc-4782-48a8-837f-5bb527ec0424\", \"gender\": \"Female\", \"age\": 31, \"department\": \"ICU\", \"admission_time\": \"2025-09-20T11:04:59.344380\", \"discharge_time\": \"2025-09-22T06:04:59.344380\", \"bed_id\": 393, \"hospital_id\": 2}</td></tr><tr><td>{\"patient_id\": \"b989662d-df79-479b-b784-9c3abce0438f\", \"gender\": \"Female\", \"age\": 45, \"department\": \"ICU\", \"admission_time\": \"2025-09-23T02:02:31.244605\", \"discharge_time\": \"2025-09-24T19:02:31.244605\", \"bed_id\": 387, \"hospital_id\": 1}</td></tr><tr><td>{\"patient_id\": \"7229f470-8e57-4aa4-b99d-c1e21aca4f3a\", \"gender\": \"Female\", \"age\": 57, \"department\": \"ICU\", \"admission_time\": \"2025-09-21T04:58:44.096242\", \"discharge_time\": \"2025-09-22T23:58:44.096242\", \"bed_id\": 374, \"hospital_id\": 2}</td></tr><tr><td>{\"patient_id\": \"094e57e9-0ed1-4935-87d4-7e619bb95b0b\", \"gender\": \"Female\", \"age\": 33, \"department\": \"ICU\", \"admission_time\": \"2025-09-22T11:05:20.356917\", \"discharge_time\": \"2025-09-23T00:05:20.356917\", \"bed_id\": 347, \"hospital_id\": 4}</td></tr><tr><td>{\"patient_id\": \"421ef7aa-7457-454a-9445-3f579e3292bf\", \"gender\": \"Female\", \"age\": 71, \"department\": \"ICU\", \"admission_time\": \"2025-09-21T12:07:23.441233\", \"discharge_time\": \"2025-09-23T01:07:23.441233\", \"bed_id\": 252, \"hospital_id\": 7}</td></tr><tr><td>{\"patient_id\": \"331f1f5e-7f10-465c-b099-f8316731238c\", \"gender\": \"Female\", \"age\": 32, \"department\": \"ICU\", \"admission_time\": \"2025-09-21T07:00:32.164598\", \"discharge_time\": \"2025-09-22T14:00:32.164598\", \"bed_id\": 354, \"hospital_id\": 1}</td></tr><tr><td>{\"patient_id\": \"2a1c8fbd-27cd-4526-aed1-f5aa84ece172\", \"gender\": \"Male\", \"age\": 52, \"department\": \"Maternity\", \"admission_time\": \"2025-09-21T06:59:29.126071\", \"discharge_time\": \"2025-09-23T06:59:29.126071\", \"bed_id\": 88, \"hospital_id\": 3}</td></tr><tr><td>{\"patient_id\": \"f3371e94-d02c-4b5a-9c5e-46c7df9fa267\", \"gender\": \"Male\", \"age\": 69, \"department\": \"Oncology\", \"admission_time\": \"2025-09-21T13:06:31.406051\", \"discharge_time\": \"2025-09-23T16:06:31.406051\", \"bed_id\": 65, \"hospital_id\": 3}</td></tr><tr><td>{\"patient_id\": \"0ebde6cf-4f98-43c6-9c61-af89c45d99fb\", \"gender\": \"Male\", \"age\": 80, \"department\": \"Oncology\", \"admission_time\": \"2025-09-23T01:01:26.198094\", \"discharge_time\": \"2025-09-25T04:01:26.198094\", \"bed_id\": 96, \"hospital_id\": 3}</td></tr><tr><td>{\"patient_id\": \"3311290d-635e-4839-8051-1cb6190f45de\", \"gender\": \"Male\", \"age\": 53, \"department\": \"Maternity\", \"admission_time\": \"2025-09-21T16:53:57.906462\", \"discharge_time\": \"2025-09-21T18:53:57.906462\", \"bed_id\": 74, \"hospital_id\": 4}</td></tr><tr><td>{\"patient_id\": \"aeb9fde3-84e5-4b92-bf6c-d3469142b00c\", \"gender\": \"Female\", \"age\": 79, \"department\": \"ICU\", \"admission_time\": \"2025-09-20T21:07:40.454681\", \"discharge_time\": \"2025-09-21T04:07:40.454681\", \"bed_id\": 367, \"hospital_id\": 7}</td></tr><tr><td>{\"patient_id\": \"c8b51c54-6235-4721-9726-e027f1898191\", \"gender\": \"Female\", \"age\": 12, \"department\": \"ICU\", \"admission_time\": \"2025-09-21T13:58:59.106054\", \"discharge_time\": \"2025-09-23T17:58:59.106054\", \"bed_id\": 488, \"hospital_id\": 6}</td></tr><tr><td>{\"patient_id\": \"913034db-b007-473e-8e22-694c1014d80f\", \"gender\": \"Female\", \"age\": 93, \"department\": \"ICU\", \"admission_time\": \"2025-09-20T23:07:54.464598\", \"discharge_time\": \"2025-09-21T02:07:54.464598\", \"bed_id\": 123, \"hospital_id\": 2}</td></tr><tr><td>{\"patient_id\": \"fd9e19eb-c803-4ff7-bc64-3bd8fb73a41c\", \"gender\": \"Female\", \"age\": 49, \"department\": \"ICU\", \"admission_time\": \"2025-09-22T20:04:57.342955\", \"discharge_time\": \"2025-09-23T19:04:57.342955\", \"bed_id\": 404, \"hospital_id\": 1}</td></tr><tr><td>{\"patient_id\": \"2c8bfa6b-451c-4b9d-ab12-0ea7f53c60fb\", \"gender\": \"Female\", \"age\": 35, \"department\": \"ICU\", \"admission_time\": \"2025-09-22T20:55:32.974103\", \"discharge_time\": \"2025-09-25T01:55:32.974103\", \"bed_id\": 489, \"hospital_id\": 7}</td></tr><tr><td>{\"patient_id\": \"fb51db3d-4b26-4885-b32e-cbc8bd85c64d\", \"gender\": \"Female\", \"age\": 63, \"department\": \"ICU\", \"admission_time\": \"2025-09-22T10:03:14.273067\", \"discharge_time\": \"2025-09-24T04:03:14.273067\", \"bed_id\": 404, \"hospital_id\": 5}</td></tr><tr><td>{\"patient_id\": \"2d41db8d-1b37-428a-bd4b-11375b529461\", \"gender\": \"Female\", \"age\": 12, \"department\": \"ICU\", \"admission_time\": \"2025-09-21T06:58:21.081333\", \"discharge_time\": \"2025-09-22T19:58:21.081333\", \"bed_id\": 160, \"hospital_id\": 7}</td></tr><tr><td>{\"patient_id\": \"b86a24e8-12df-4222-a52b-5fad83017f9f\", \"gender\": \"Female\", \"age\": 67, \"department\": \"ICU\", \"admission_time\": \"2025-09-20T12:06:26.403650\", \"discharge_time\": \"2025-09-22T00:06:26.403650\", \"bed_id\": 142, \"hospital_id\": 3}</td></tr><tr><td>{\"patient_id\": \"11d05261-c8bc-41b3-b5a3-b5d3f648eaa3\", \"gender\": \"Female\", \"age\": 66, \"department\": \"ICU\", \"admission_time\": \"2025-09-22T02:55:50.984363\", \"discharge_time\": \"2025-09-23T10:55:50.984363\", \"bed_id\": 158, \"hospital_id\": 7}</td></tr><tr><td>{\"patient_id\": \"a6f02022-53bc-4bb4-b5fe-17fbf336e8d1\", \"gender\": \"Female\", \"age\": 23, \"department\": \"ICU\", \"admission_time\": \"2025-09-21T13:08:42.492190\", \"discharge_time\": \"2025-09-23T04:08:42.492190\", \"bed_id\": 308, \"hospital_id\": 2}</td></tr><tr><td>{\"patient_id\": \"9d3ddbaa-3d7d-4ce8-8086-875d5b63bc6d\", \"gender\": \"Female\", \"age\": 66, \"department\": \"ICU\", \"admission_time\": \"2025-09-21T08:59:53.141860\", \"discharge_time\": \"2025-09-23T01:59:53.141860\", \"bed_id\": 484, \"hospital_id\": 3}</td></tr><tr><td>{\"patient_id\": \"6b540e7f-8c80-48bc-a58a-1aa831c0ac57\", \"gender\": \"Female\", \"age\": 41, \"department\": \"ICU\", \"admission_time\": \"2025-09-21T07:05:10.350972\", \"discharge_time\": \"2025-09-22T14:05:10.350972\", \"bed_id\": 383, \"hospital_id\": 1}</td></tr><tr><td>{\"patient_id\": \"80047f3d-755a-44ad-9f0d-4a90572c78ab\", \"gender\": \"Female\", \"age\": 19, \"department\": \"ICU\", \"admission_time\": \"2025-09-21T01:07:41.455297\", \"discharge_time\": \"2025-09-22T15:07:41.455297\", \"bed_id\": 131, \"hospital_id\": 2}</td></tr><tr><td>{\"patient_id\": \"97e8bdfd-c060-4083-badb-24775c42b77e\", \"gender\": \"Female\", \"age\": 29, \"department\": \"ICU\", \"admission_time\": \"2025-09-21T19:53:11.876061\", \"discharge_time\": \"2025-09-24T16:53:11.876061\", \"bed_id\": 137, \"hospital_id\": 7}</td></tr><tr><td>{\"patient_id\": \"42694bca-a432-453f-a7a6-750b44d2b8e5\", \"gender\": \"Female\", \"age\": 82, \"department\": \"ICU\", \"admission_time\": \"2025-09-21T20:06:35.408479\", \"discharge_time\": \"2025-09-22T23:06:35.408479\", \"bed_id\": 290, \"hospital_id\": 2}</td></tr><tr><td>{\"patient_id\": \"014b817b-ec75-4ae5-8f2b-94c4fa27692a\", \"gender\": \"Female\", \"age\": 72, \"department\": \"ICU\", \"admission_time\": \"2025-09-21T17:56:18.002118\", \"discharge_time\": \"2025-09-23T21:56:18.002118\", \"bed_id\": 209, \"hospital_id\": 5}</td></tr><tr><td>{\"patient_id\": \"80d84452-f950-41f8-b4cb-0290b6b921e7\", \"gender\": \"Female\", \"age\": 81, \"department\": \"ICU\", \"admission_time\": \"2025-09-20T22:01:23.195190\", \"discharge_time\": \"2025-09-21T09:01:23.195190\", \"bed_id\": 129, \"hospital_id\": 4}</td></tr><tr><td>{\"patient_id\": \"2fc7c09e-f135-49e4-b502-bebf31dd6c2f\", \"gender\": \"Female\", \"age\": 20, \"department\": \"ICU\", \"admission_time\": \"2025-09-20T10:00:04.147572\", \"discharge_time\": \"2025-09-21T03:00:04.147572\", \"bed_id\": 127, \"hospital_id\": 1}</td></tr><tr><td>{\"patient_id\": \"7269cd91-2b43-47d3-87d5-e78609ad4ce9\", \"gender\": \"Female\", \"age\": 53, \"department\": \"ICU\", \"admission_time\": \"2025-09-22T00:54:13.917627\", \"discharge_time\": \"2025-09-24T00:54:13.917627\", \"bed_id\": 330, \"hospital_id\": 4}</td></tr><tr><td>{\"patient_id\": \"92766db1-ad20-49b9-99ad-911c058a344c\", \"gender\": \"Male\", \"age\": 78, \"department\": \"Oncology\", \"admission_time\": \"2025-09-21T02:02:38.248411\", \"discharge_time\": \"2025-09-23T21:02:38.248411\", \"bed_id\": 80, \"hospital_id\": 5}</td></tr><tr><td>{\"patient_id\": \"10d0bc7d-15de-4307-83a7-7bf2fad04a50\", \"gender\": \"Female\", \"age\": 99, \"department\": \"ICU\", \"admission_time\": \"2025-09-22T12:05:18.355791\", \"discharge_time\": \"2025-09-23T09:05:18.355791\", \"bed_id\": 105, \"hospital_id\": 2}</td></tr><tr><td>{\"patient_id\": \"02f9fd4b-7a75-4597-b843-c03edf5e1bc6\", \"gender\": \"Female\", \"age\": 20, \"department\": \"ICU\", \"admission_time\": \"2025-09-21T21:59:04.109880\", \"discharge_time\": \"2025-09-23T21:59:04.109880\", \"bed_id\": 123, \"hospital_id\": 3}</td></tr><tr><td>{\"patient_id\": \"38ecd9a6-74a8-48c1-98ae-2a4dbcac9880\", \"gender\": \"Male\", \"age\": 12, \"department\": \"Surgery\", \"admission_time\": \"2025-09-22T02:07:39.453738\", \"discharge_time\": \"2025-09-22T15:07:39.453738\", \"bed_id\": 98, \"hospital_id\": 4}</td></tr><tr><td>{\"patient_id\": \"517a86ce-8717-4bad-8372-c6dfa9148d83\", \"gender\": \"Female\", \"age\": 67, \"department\": \"ICU\", \"admission_time\": \"2025-09-22T10:03:27.281678\", \"discharge_time\": \"2025-09-25T07:03:27.281678\", \"bed_id\": 292, \"hospital_id\": 7}</td></tr><tr><td>{\"patient_id\": \"c82285d8-f6e1-4807-bd9d-ebf624b9378c\", \"gender\": \"Female\", \"age\": 47, \"department\": \"ICU\", \"admission_time\": \"2025-09-20T17:09:54.537799\", \"discharge_time\": \"2025-09-22T07:09:54.537799\", \"bed_id\": 100, \"hospital_id\": 3}</td></tr><tr><td>{\"patient_id\": \"f6326078-4b12-4035-87da-0b4cda84327b\", \"gender\": \"Female\", \"age\": 67, \"department\": \"ICU\", \"admission_time\": \"2025-09-20T08:09:57.539890\", \"discharge_time\": \"2025-09-23T01:09:57.539890\", \"bed_id\": 342, \"hospital_id\": 3}</td></tr><tr><td>{\"patient_id\": \"ccb3935f-5906-42de-b65b-06dd6cd8e155\", \"gender\": \"Female\", \"age\": 68, \"department\": \"ICU\", \"admission_time\": \"2025-09-20T14:54:23.923700\", \"discharge_time\": \"2025-09-22T22:54:23.923700\", \"bed_id\": 356, \"hospital_id\": 5}</td></tr><tr><td>{\"patient_id\": \"7eb8eefc-0915-46f4-841e-bda8266cb702\", \"gender\": \"Female\", \"age\": 46, \"department\": \"ICU\", \"admission_time\": \"2025-09-21T14:01:36.206242\", \"discharge_time\": \"2025-09-24T09:01:36.206242\", \"bed_id\": 291, \"hospital_id\": 6}</td></tr><tr><td>{\"patient_id\": \"090aedad-be0b-4b02-bc82-6b4300f9fa6e\", \"gender\": \"Female\", \"age\": 19, \"department\": \"ICU\", \"admission_time\": \"2025-09-20T13:57:29.049123\", \"discharge_time\": \"2025-09-22T06:57:29.049123\", \"bed_id\": 416, \"hospital_id\": 3}</td></tr><tr><td>{\"patient_id\": \"f6b6f002-ac56-4369-8ee2-f14a4a809798\", \"gender\": \"Female\", \"age\": 56, \"department\": \"ICU\", \"admission_time\": \"2025-09-22T00:09:51.536189\", \"discharge_time\": \"2025-09-23T10:09:51.536189\", \"bed_id\": 237, \"hospital_id\": 3}</td></tr><tr><td>{\"patient_id\": \"5fd0d66e-8d44-4676-9c80-8c77c6337f80\", \"gender\": \"Female\", \"age\": 60, \"department\": \"ICU\", \"admission_time\": \"2025-09-22T21:03:36.286890\", \"discharge_time\": \"2025-09-23T17:03:36.286890\", \"bed_id\": 306, \"hospital_id\": 1}</td></tr><tr><td>{\"patient_id\": \"33c89a7c-07fb-4619-9fb3-e107f0d1231c\", \"gender\": \"Female\", \"age\": 58, \"department\": \"ICU\", \"admission_time\": \"2025-09-21T16:09:59.541368\", \"discharge_time\": \"2025-09-22T15:09:59.541368\", \"bed_id\": 434, \"hospital_id\": 4}</td></tr><tr><td>{\"patient_id\": \"bb16a3dc-b63f-4c74-a324-4958ebeac600\", \"gender\": \"Male\", \"age\": 67, \"department\": \"Emergency\", \"admission_time\": \"2025-09-21T06:06:30.405630\", \"discharge_time\": \"2025-09-21T16:06:30.405630\", \"bed_id\": 63, \"hospital_id\": 5}</td></tr><tr><td>{\"patient_id\": \"d1f70e2e-66e4-437b-aa35-dada1dca34ec\", \"gender\": \"Male\", \"age\": 77, \"department\": \"Oncology\", \"admission_time\": \"2025-09-22T04:54:28.927018\", \"discharge_time\": \"2025-09-24T12:54:28.927018\", \"bed_id\": 11, \"hospital_id\": 6}</td></tr><tr><td>{\"patient_id\": \"28789177-7506-4a3e-916e-c1997101415b\", \"gender\": \"Female\", \"age\": 66, \"department\": \"ICU\", \"admission_time\": \"2025-09-23T02:01:58.220605\", \"discharge_time\": \"2025-09-24T22:01:58.220605\", \"bed_id\": 191, \"hospital_id\": 3}</td></tr><tr><td>{\"patient_id\": \"c29b267d-7018-4100-bff7-daaab2bc9145\", \"gender\": \"Female\", \"age\": 80, \"department\": \"ICU\", \"admission_time\": \"2025-09-22T17:06:10.390862\", \"discharge_time\": \"2025-09-24T03:06:10.390862\", \"bed_id\": 354, \"hospital_id\": 5}</td></tr><tr><td>{\"patient_id\": \"edfb6441-b732-4adc-92b0-3ac3a8e75a75\", \"gender\": \"Female\", \"age\": 59, \"department\": \"ICU\", \"admission_time\": \"2025-09-21T05:08:23.481613\", \"discharge_time\": \"2025-09-23T06:08:23.481613\", \"bed_id\": 257, \"hospital_id\": 1}</td></tr><tr><td>{\"patient_id\": \"4a3feba8-e5e3-4eb5-9df2-82165becebf6\", \"gender\": \"Female\", \"age\": 97, \"department\": \"ICU\", \"admission_time\": \"2025-09-22T22:00:20.157368\", \"discharge_time\": \"2025-09-23T07:00:20.157368\", \"bed_id\": 401, \"hospital_id\": 1}</td></tr><tr><td>{\"patient_id\": \"0c210a72-b10c-43fd-b67a-860f463b0d24\", \"gender\": \"Female\", \"age\": 33, \"department\": \"ICU\", \"admission_time\": \"2025-09-21T01:06:29.405037\", \"discharge_time\": \"2025-09-22T09:06:29.405037\", \"bed_id\": 187, \"hospital_id\": 3}</td></tr><tr><td>{\"patient_id\": \"ee970194-a53e-4e99-9515-d3a22e2a1955\", \"gender\": \"Female\", \"age\": 54, \"department\": \"ICU\", \"admission_time\": \"2025-09-23T06:00:29.162594\", \"discharge_time\": \"2025-09-24T01:00:29.162594\", \"bed_id\": 496, \"hospital_id\": 2}</td></tr><tr><td>{\"patient_id\": \"1e54f7e8-519f-43f5-835a-3f9dfdb81572\", \"gender\": \"Male\", \"age\": 16, \"department\": \"Oncology\", \"admission_time\": \"2025-09-22T13:05:52.377943\", \"discharge_time\": \"2025-09-25T03:05:52.377943\", \"bed_id\": 11, \"hospital_id\": 1}</td></tr><tr><td>{\"patient_id\": \"dfa24dae-4b80-438c-a82c-448e97b81d22\", \"gender\": \"Female\", \"age\": 11, \"department\": \"ICU\", \"admission_time\": \"2025-09-22T22:57:00.029390\", \"discharge_time\": \"2025-09-25T21:57:00.029390\", \"bed_id\": 144, \"hospital_id\": 7}</td></tr><tr><td>{\"patient_id\": \"5f162ff3-bafd-483f-a151-c6e3535a6397\", \"gender\": \"Male\", \"age\": 10, \"department\": \"Oncology\", \"admission_time\": \"2025-09-22T00:26:54.371585\", \"discharge_time\": \"2025-09-24T14:26:54.371585\", \"bed_id\": 10, \"hospital_id\": 6}</td></tr><tr><td>{\"patient_id\": \"87e6c435-03d5-48dd-bfd3-bf6a00fac642\", \"gender\": \"Female\", \"age\": 58, \"department\": \"ICU\", \"admission_time\": \"2025-09-25T19:26:24.351083\", \"discharge_time\": \"2025-09-23T15:26:24.351007\", \"bed_id\": 62, \"hospital_id\": 1}</td></tr><tr><td>{\"patient_id\": \"b16bdb96-94f9-4ed6-a4a8-bb341a431326\", \"gender\": \"Female\", \"age\": 70, \"department\": \"ICU\", \"admission_time\": \"2025-09-22T04:02:22.238223\", \"discharge_time\": \"2025-09-22T14:02:22.238223\", \"bed_id\": 200, \"hospital_id\": 1}</td></tr><tr><td>{\"patient_id\": \"d8584785-b71b-4619-866e-852dd69c9b03\", \"gender\": \"Female\", \"age\": 13, \"department\": \"ICU\", \"admission_time\": \"2025-09-22T00:53:23.884777\", \"discharge_time\": \"2025-09-22T20:53:23.884777\", \"bed_id\": 429, \"hospital_id\": 5}</td></tr><tr><td>{\"patient_id\": \"8fcced9d-f411-4ec9-a0a4-28f34fd9e837\", \"gender\": \"Female\", \"age\": 44, \"department\": \"ICU\", \"admission_time\": \"2025-09-22T21:10:26.562160\", \"discharge_time\": \"2025-09-25T00:10:26.562160\", \"bed_id\": 300, \"hospital_id\": 1}</td></tr><tr><td>{\"patient_id\": \"6224368c-f5c0-46af-a080-61f659367975\", \"gender\": \"Female\", \"age\": 17, \"department\": \"ICU\", \"admission_time\": \"2025-09-21T03:58:22.082242\", \"discharge_time\": \"2025-09-22T17:58:22.082242\", \"bed_id\": 495, \"hospital_id\": 7}</td></tr><tr><td>{\"patient_id\": \"26af4def-3de6-4e0d-b9bd-2caf04facd94\", \"gender\": \"Female\", \"age\": 94, \"department\": \"ICU\", \"admission_time\": \"2025-09-23T00:00:17.155419\", \"discharge_time\": \"2025-09-23T20:00:17.155419\", \"bed_id\": 150, \"hospital_id\": 2}</td></tr><tr><td>{\"patient_id\": \"9a925f5c-da2b-453a-b5f9-69cf18156ab5\", \"gender\": \"Female\", \"age\": 20, \"department\": \"ICU\", \"admission_time\": \"2025-09-21T05:55:36.976456\", \"discharge_time\": \"2025-09-21T19:55:36.976456\", \"bed_id\": 406, \"hospital_id\": 1}</td></tr><tr><td>{\"patient_id\": \"292a7e0b-6559-4685-9b71-c521bd9a9745\", \"gender\": \"Female\", \"age\": 92, \"department\": \"ICU\", \"admission_time\": \"2025-09-22T02:06:27.404091\", \"discharge_time\": \"2025-09-22T10:06:27.404091\", \"bed_id\": 344, \"hospital_id\": 1}</td></tr><tr><td>{\"patient_id\": \"9b847824-b686-4463-8f18-d254c1ce2df4\", \"gender\": \"Female\", \"age\": 13, \"department\": \"ICU\", \"admission_time\": \"2025-09-22T09:02:32.245047\", \"discharge_time\": \"2025-09-24T07:02:32.245047\", \"bed_id\": 55, \"hospital_id\": 5}</td></tr><tr><td>{\"patient_id\": \"6b088e63-cd78-469b-8596-3400ff357a48\", \"gender\": \"Male\", \"age\": 3, \"department\": \"Maternity\", \"admission_time\": \"2025-09-21T10:08:35.489044\", \"discharge_time\": \"2025-09-21T18:08:35.489044\", \"bed_id\": 150, \"hospital_id\": 7}</td></tr><tr><td>{\"patient_id\": \"605376ff-31e2-40a0-b054-2f92ad875c24\", \"gender\": \"Female\", \"age\": 22, \"department\": \"ICU\", \"admission_time\": \"2025-09-21T22:59:10.113304\", \"discharge_time\": \"2025-09-23T22:59:10.113304\", \"bed_id\": 160, \"hospital_id\": 7}</td></tr><tr><td>{\"patient_id\": \"8254e581-fa22-4afe-813d-df79fcfa875d\", \"gender\": \"Female\", \"age\": 27, \"department\": \"ICU\", \"admission_time\": \"2025-09-24T01:09:16.514898\", \"discharge_time\": \"2025-09-23T17:09:16.514828\", \"bed_id\": 36, \"hospital_id\": 7}</td></tr><tr><td>{\"patient_id\": \"287eff68-c13b-4f92-a02c-1a2bc2ba2ae5\", \"gender\": \"Female\", \"age\": 19, \"department\": \"ICU\", \"admission_time\": \"2025-09-20T19:58:55.103180\", \"discharge_time\": \"2025-09-20T20:58:55.103180\", \"bed_id\": 395, \"hospital_id\": 5}</td></tr><tr><td>{\"patient_id\": \"fcab0127-0177-47f0-9c47-2037f95c2dc5\", \"gender\": \"Male\", \"age\": 5, \"department\": \"Emergency\", \"admission_time\": \"2025-09-22T00:07:58.466740\", \"discharge_time\": \"2025-09-22T16:07:58.466740\", \"bed_id\": 43, \"hospital_id\": 1}</td></tr><tr><td>{\"patient_id\": \"cba2fe74-7cc4-4606-8faa-1d6ac1bcc316\", \"gender\": \"Female\", \"age\": 16, \"department\": \"ICU\", \"admission_time\": \"2025-09-21T13:09:34.524401\", \"discharge_time\": \"2025-09-21T15:09:34.524401\", \"bed_id\": 207, \"hospital_id\": 5}</td></tr><tr><td>{\"patient_id\": \"4d5617a3-08a0-405f-8fc7-52a4cd17d096\", \"gender\": \"Female\", \"age\": 22, \"department\": \"ICU\", \"admission_time\": \"2025-09-20T12:00:31.164120\", \"discharge_time\": \"2025-09-20T18:00:31.164120\", \"bed_id\": 130, \"hospital_id\": 2}</td></tr><tr><td>{\"patient_id\": \"740594eb-35bd-4457-a0e9-0a7b634f8caa\", \"gender\": \"Female\", \"age\": 49, \"department\": \"ICU\", \"admission_time\": \"2025-09-22T20:55:31.973692\", \"discharge_time\": \"2025-09-24T13:55:31.973692\", \"bed_id\": 349, \"hospital_id\": 7}</td></tr><tr><td>{\"patient_id\": \"afa996a6-3898-4a0e-ad12-92e64f6e3887\", \"gender\": \"Female\", \"age\": 68, \"department\": \"ICU\", \"admission_time\": \"2025-09-20T19:02:15.232050\", \"discharge_time\": \"2025-09-22T05:02:15.232050\", \"bed_id\": 58, \"hospital_id\": 3}</td></tr><tr><td>{\"patient_id\": \"19667926-d747-41ab-832b-cc5625c17996\", \"gender\": \"Female\", \"age\": 112, \"department\": \"ICU\", \"admission_time\": \"2025-09-22T04:03:16.274713\", \"discharge_time\": \"2025-09-22T16:03:16.274713\", \"bed_id\": 98, \"hospital_id\": 7}</td></tr><tr><td>{\"patient_id\": \"c295b3f3-cab9-4644-adb2-73ff63710008\", \"gender\": \"Female\", \"age\": 16, \"department\": \"ICU\", \"admission_time\": \"2025-09-20T10:02:10.229125\", \"discharge_time\": \"2025-09-20T13:02:10.229125\", \"bed_id\": 184, \"hospital_id\": 7}</td></tr><tr><td>{\"patient_id\": \"91aab80e-d844-41b0-b5ad-639dd3d92e60\", \"gender\": \"Female\", \"age\": 104, \"department\": \"ICU\", \"admission_time\": \"2025-09-21T20:26:22.349608\", \"discharge_time\": \"2025-09-22T11:26:22.349608\", \"bed_id\": 89, \"hospital_id\": 3}</td></tr><tr><td>{\"patient_id\": \"9c43b0fd-dd52-4a4b-a9e1-c02a510b188c\", \"gender\": \"Male\", \"age\": 5, \"department\": \"Emergency\", \"admission_time\": \"2025-09-21T06:57:28.048529\", \"discharge_time\": \"2025-09-22T06:57:28.048529\", \"bed_id\": 79, \"hospital_id\": 4}</td></tr><tr><td>{\"patient_id\": \"94e7990b-4c7b-4f37-bec9-e1a100c6606e\", \"gender\": \"Male\", \"age\": 57, \"department\": \"Oncology\", \"admission_time\": \"2025-09-22T11:56:40.016803\", \"discharge_time\": \"2025-09-24T20:56:40.016803\", \"bed_id\": 8, \"hospital_id\": 5}</td></tr><tr><td>{\"patient_id\": \"261fe9b5-3624-455c-b9b6-8a7cc617ac93\", \"gender\": \"Male\", \"age\": 68, \"department\": \"Surgery\", \"admission_time\": \"2025-09-20T11:55:29.972045\", \"discharge_time\": \"2025-09-22T03:55:29.972045\", \"bed_id\": 66, \"hospital_id\": 2}</td></tr><tr><td>{\"patient_id\": \"c4500ee3-d9dc-4283-835c-5322c6106226\", \"gender\": \"Female\", \"age\": 86, \"department\": \"ICU\", \"admission_time\": \"2025-09-22T08:07:33.449524\", \"discharge_time\": \"2025-09-24T02:07:33.449524\", \"bed_id\": 44, \"hospital_id\": 5}</td></tr><tr><td>{\"patient_id\": \"ae41f4a5-d4be-45f2-9674-1f0dca4249de\", \"gender\": \"Female\", \"age\": 72, \"department\": \"ICU\", \"admission_time\": \"2025-09-21T09:26:34.358114\", \"discharge_time\": \"2025-09-23T22:26:34.358114\", \"bed_id\": 35, \"hospital_id\": 6}</td></tr><tr><td>{\"patient_id\": \"29a67271-41fe-414e-ac4c-2c183201fdd8\", \"gender\": \"Female\", \"age\": 69, \"department\": \"ICU\", \"admission_time\": \"2025-09-20T16:03:02.264496\", \"discharge_time\": \"2025-09-21T18:03:02.264496\", \"bed_id\": 50, \"hospital_id\": 2}</td></tr><tr><td>{\"patient_id\": \"c17be048-7b1f-4b03-9d3d-e1a14f3aaf57\", \"gender\": \"Male\", \"age\": 8, \"department\": \"Pediatrics\", \"admission_time\": \"2025-09-22T17:09:12.510481\", \"discharge_time\": \"2025-09-25T17:09:12.510481\", \"bed_id\": 6, \"hospital_id\": 6}</td></tr><tr><td>{\"patient_id\": \"1bb29a7e-3a3b-494a-8ae6-206ccb3482e6\", \"gender\": \"Female\", \"age\": 83, \"department\": \"ICU\", \"admission_time\": \"2025-09-21T19:54:10.916001\", \"discharge_time\": \"2025-09-24T19:54:10.916001\", \"bed_id\": 10, \"hospital_id\": 7}</td></tr><tr><td>{\"patient_id\": \"be6878a9-fc4a-4b49-a5d5-5d567d27ccde\", \"gender\": \"Female\", \"age\": 10, \"department\": \"ICU\", \"admission_time\": \"2025-09-20T09:01:49.213740\", \"discharge_time\": \"2025-09-21T17:01:49.213740\", \"bed_id\": 22, \"hospital_id\": 6}</td></tr><tr><td>{\"patient_id\": \"759accf3-b735-4fa2-b10e-0594f581ad19\", \"gender\": \"Female\", \"age\": 65, \"department\": \"ICU\", \"admission_time\": \"2025-09-21T23:08:44.493083\", \"discharge_time\": \"2025-09-24T14:08:44.493083\", \"bed_id\": 18, \"hospital_id\": 2}</td></tr><tr><td>{\"patient_id\": \"a14acb43-c2eb-46be-835e-384e6babf9bf\", \"gender\": \"Female\", \"age\": 99, \"department\": \"ICU\", \"admission_time\": \"2025-09-22T09:06:33.407599\", \"discharge_time\": \"2025-09-24T04:06:33.407599\", \"bed_id\": 82, \"hospital_id\": 2}</td></tr><tr><td>{\"patient_id\": \"b7aa7a92-9343-467a-99e4-c7b39f33c100\", \"gender\": \"Female\", \"age\": 28, \"department\": \"ICU\", \"admission_time\": \"2025-09-20T11:00:07.150059\", \"discharge_time\": \"2025-09-21T14:00:07.150059\", \"bed_id\": 33, \"hospital_id\": 6}</td></tr><tr><td>{\"patient_id\": \"6d42d59a-4878-4bc2-b79b-048310d9fdf6\", \"gender\": \"Female\", \"age\": 79, \"department\": \"ICU\", \"admission_time\": \"2025-09-20T16:04:25.322745\", \"discharge_time\": \"2025-09-22T07:04:25.322745\", \"bed_id\": 38, \"hospital_id\": 6}</td></tr><tr><td>{\"patient_id\": \"577bf56a-edd3-4fab-954b-cb5bf2c21715\", \"gender\": \"Female\", \"age\": 75, \"department\": \"ICU\", \"admission_time\": \"2025-09-22T11:02:08.227635\", \"discharge_time\": \"2025-09-24T06:02:08.227635\", \"bed_id\": 59, \"hospital_id\": 7}</td></tr><tr><td>{\"patient_id\": \"145c769a-1360-40ae-a2b1-8b5137e44a87\", \"gender\": \"Female\", \"age\": 51, \"department\": \"ICU\", \"admission_time\": \"2025-09-21T15:02:35.246432\", \"discharge_time\": \"2025-09-23T17:02:35.246432\", \"bed_id\": 82, \"hospital_id\": 2}</td></tr><tr><td>{\"patient_id\": \"6dc18cac-e514-447d-ab78-ab120bb5a0af\", \"gender\": \"Female\", \"age\": 59, \"department\": \"ICU\", \"admission_time\": \"2025-09-22T07:06:24.402638\", \"discharge_time\": \"2025-09-25T03:06:24.402638\", \"bed_id\": 36, \"hospital_id\": 4}</td></tr><tr><td>{\"patient_id\": \"c6198e56-5fa0-4e7c-a22e-f7914c08c226\", \"gender\": \"Male\", \"age\": 21, \"department\": \"Oncology\", \"admission_time\": \"2025-09-20T22:26:57.373385\", \"discharge_time\": \"2025-09-22T19:26:57.373385\", \"bed_id\": 5, \"hospital_id\": 4}</td></tr><tr><td>{\"patient_id\": \"faacbcf1-ad32-4f66-9c35-18203a563ae3\", \"gender\": \"Male\", \"age\": 13, \"department\": \"Oncology\", \"admission_time\": \"2025-09-21T16:00:53.177583\", \"discharge_time\": \"2025-09-23T18:00:53.177583\", \"bed_id\": 3, \"hospital_id\": 2}</td></tr><tr><td>{\"patient_id\": \"aad71f4c-0d5b-422f-a792-026160f60a4a\", \"gender\": \"Male\", \"age\": 28, \"department\": \"Oncology\", \"admission_time\": \"2025-09-21T13:06:04.386014\", \"discharge_time\": \"2025-09-23T13:06:04.386014\", \"bed_id\": 6, \"hospital_id\": 4}</td></tr><tr><td>{\"patient_id\": \"de21f9df-d8e4-4eca-bf49-7f783df4ca1c\", \"gender\": \"Female\", \"age\": 41, \"department\": \"ICU\", \"admission_time\": \"2025-09-21T12:05:54.378841\", \"discharge_time\": \"2025-09-22T15:05:54.378841\", \"bed_id\": 71, \"hospital_id\": 3}</td></tr><tr><td>{\"patient_id\": \"7af82940-c9fb-4bf0-a108-53e07cd29fde\", \"gender\": \"Male\", \"age\": 61, \"department\": \"Oncology\", \"admission_time\": \"2025-09-21T06:07:29.445896\", \"discharge_time\": \"2025-09-21T23:07:29.445896\", \"bed_id\": 1, \"hospital_id\": 4}</td></tr><tr><td>{\"patient_id\": \"cf12fbb8-bf66-4a6c-a7ae-3bd9eece6915\", \"gender\": \"Male\", \"age\": 5, \"department\": \"ICU\", \"admission_time\": \"2025-09-23T03:06:58.425833\", \"discharge_time\": \"2025-09-24T09:06:58.425833\", \"bed_id\": 152, \"hospital_id\": 7}</td></tr><tr><td>{\"patient_id\": \"3f4ccfd3-03ad-453b-b1ed-977b518b03b6\", \"gender\": \"Male\", \"age\": 3, \"department\": \"ICU\", \"admission_time\": \"2025-09-21T14:06:51.421318\", \"discharge_time\": \"2025-09-22T11:06:51.421318\", \"bed_id\": 253, \"hospital_id\": 1}</td></tr><tr><td>{\"patient_id\": \"fdb0b5f8-f922-481f-b743-1b64fc037934\", \"gender\": \"Male\", \"age\": 57, \"department\": \"ICU\", \"admission_time\": \"2025-09-24T08:00:57.179434\", \"discharge_time\": \"2025-09-23T07:00:57.179362\", \"bed_id\": 343, \"hospital_id\": 1}</td></tr><tr><td>{\"patient_id\": \"09b6f0aa-59c7-47fa-b46f-8c844ef3b444\", \"gender\": \"Male\", \"age\": 2, \"department\": \"ICU\", \"admission_time\": \"2025-09-21T20:03:40.288974\", \"discharge_time\": \"2025-09-22T21:03:40.288974\", \"bed_id\": 283, \"hospital_id\": 6}</td></tr><tr><td>{\"patient_id\": \"0cf899cd-c7b0-481e-b460-2f63c6efd386\", \"gender\": \"Male\", \"age\": 2, \"department\": \"ICU\", \"admission_time\": \"2025-09-23T01:53:45.898985\", \"discharge_time\": \"2025-09-24T20:53:45.898985\", \"bed_id\": 284, \"hospital_id\": 2}</td></tr><tr><td>{\"patient_id\": \"bc605664-b738-483e-ac72-65e11771aafe\", \"gender\": \"Male\", \"age\": 4, \"department\": \"ICU\", \"admission_time\": \"2025-09-20T12:25:33.314436\", \"discharge_time\": \"2025-09-22T05:25:33.314436\", \"bed_id\": 109, \"hospital_id\": 4}</td></tr><tr><td>{\"patient_id\": \"521b7399-c728-4eab-bc4d-74bc31b2932c\", \"gender\": \"Male\", \"age\": 8, \"department\": \"ICU\", \"admission_time\": \"2025-09-20T10:58:35.090241\", \"discharge_time\": \"2025-09-21T04:58:35.090241\", \"bed_id\": 220, \"hospital_id\": 7}</td></tr><tr><td>{\"patient_id\": \"0b9efb26-a812-42b2-9c31-034a96124fa4\", \"gender\": \"Male\", \"age\": 5, \"department\": \"ICU\", \"admission_time\": \"2025-09-22T06:05:33.364439\", \"discharge_time\": \"2025-09-23T07:05:33.364439\", \"bed_id\": 315, \"hospital_id\": 2}</td></tr><tr><td>{\"patient_id\": \"84490a9d-ec63-4fbc-9d61-e9ec3eb70f59\", \"gender\": \"Female\", \"age\": 86, \"department\": \"ICU\", \"admission_time\": \"2025-09-22T09:59:16.117520\", \"discharge_time\": \"2025-09-22T12:59:16.117520\", \"bed_id\": 9, \"hospital_id\": 1}</td></tr><tr><td>{\"patient_id\": \"0aed0408-6d51-4b74-887f-5e48efc94294\", \"gender\": \"Male\", \"age\": 9, \"department\": \"ICU\", \"admission_time\": \"2025-09-21T14:58:08.073455\", \"discharge_time\": \"2025-09-21T20:58:08.073455\", \"bed_id\": 321, \"hospital_id\": 4}</td></tr><tr><td>{\"patient_id\": \"406051b9-5f2c-4aec-97b1-39118593ef5a\", \"gender\": \"Female\", \"age\": 4, \"department\": \"ICU\", \"admission_time\": \"2025-09-21T14:04:26.323175\", \"discharge_time\": \"2025-09-24T00:04:26.323175\", \"bed_id\": 410, \"hospital_id\": 2}</td></tr><tr><td>{\"patient_id\": \"079069bd-5573-423e-993b-07321ca5febb\", \"gender\": \"Male\", \"age\": 55, \"department\": \"ICU\", \"admission_time\": \"2025-09-21T07:04:53.340625\", \"discharge_time\": \"2025-09-21T20:04:53.340625\", \"bed_id\": 482, \"hospital_id\": 7}</td></tr><tr><td>{\"patient_id\": \"1f5697aa-02d4-4c11-a53c-6cdac4bb1fb9\", \"gender\": \"Male\", \"age\": 69, \"department\": \"ICU\", \"admission_time\": \"2025-09-26T07:04:08.309586\", \"discharge_time\": \"2025-09-24T00:04:08.309480\", \"bed_id\": 43, \"hospital_id\": 4}</td></tr><tr><td>{\"patient_id\": \"4678bd03-43ef-4eb2-97ce-773a2ae029af\", \"gender\": \"Male\", \"age\": 6, \"department\": \"ICU\", \"admission_time\": \"2025-09-22T07:09:33.523947\", \"discharge_time\": \"2025-09-24T17:09:33.523947\", \"bed_id\": 464, \"hospital_id\": 6}</td></tr><tr><td>{\"patient_id\": \"eb76c1ea-ec7f-4ea4-9a3e-ac2147b622b8\", \"gender\": \"Male\", \"age\": 15, \"department\": \"ICU\", \"admission_time\": \"2025-09-22T07:00:22.158280\", \"discharge_time\": \"2025-09-24T23:00:22.158280\", \"bed_id\": 231, \"hospital_id\": 1}</td></tr><tr><td>{\"patient_id\": \"2117d07d-6a55-4f70-a4f4-4a18fbee9db3\", \"gender\": \"Male\", \"age\": 86, \"department\": \"ICU\", \"admission_time\": \"2025-09-20T20:08:32.487270\", \"discharge_time\": \"2025-09-21T18:08:32.487270\", \"bed_id\": 381, \"hospital_id\": 6}</td></tr><tr><td>{\"patient_id\": \"f6bd4abf-464e-4b50-ad14-84055f7961de\", \"gender\": \"Male\", \"age\": 89, \"department\": \"ICU\", \"admission_time\": \"2025-09-23T07:26:45.364572\", \"discharge_time\": \"2025-09-25T04:26:45.364572\", \"bed_id\": 258, \"hospital_id\": 6}</td></tr><tr><td>{\"patient_id\": \"0afcfba5-f574-477e-98fc-258e9f100141\", \"gender\": \"Male\", \"age\": 61, \"department\": \"ICU\", \"admission_time\": \"2025-09-22T02:26:53.371159\", \"discharge_time\": \"2025-09-23T19:26:53.371159\", \"bed_id\": 332, \"hospital_id\": 1}</td></tr><tr><td>{\"patient_id\": \"3ecf42de-bacc-4b5f-90c0-274d8b75c669\", \"gender\": \"Male\", \"age\": 38, \"department\": \"ICU\", \"admission_time\": \"2025-09-21T02:00:00.145506\", \"discharge_time\": \"2025-09-22T21:00:00.145506\", \"bed_id\": 287, \"hospital_id\": 7}</td></tr><tr><td>{\"patient_id\": \"7858c191-fb0f-484c-b391-71a3085935a2\", \"gender\": \"Male\", \"age\": 53, \"department\": \"ICU\", \"admission_time\": \"2025-09-23T05:55:39.977818\", \"discharge_time\": \"2025-09-24T23:55:39.977818\", \"bed_id\": 269, \"hospital_id\": 5}</td></tr><tr><td>{\"patient_id\": \"4dc3d331-cf36-4cc4-8016-f45fb09f9cbd\", \"gender\": \"Female\", \"age\": 9, \"department\": \"ICU\", \"admission_time\": \"2025-09-20T07:06:13.393148\", \"discharge_time\": \"2025-09-22T08:06:13.393148\", \"bed_id\": 247, \"hospital_id\": 3}</td></tr><tr><td>{\"patient_id\": \"554e7929-25fa-416f-a2d5-7e59a989a289\", \"gender\": \"Male\", \"age\": 18, \"department\": \"ICU\", \"admission_time\": \"2025-09-23T00:56:26.008395\", \"discharge_time\": \"2025-09-24T06:56:26.008395\", \"bed_id\": 222, \"hospital_id\": 1}</td></tr><tr><td>{\"patient_id\": \"9845675f-dfdb-414a-a2c6-7cbf5d382886\", \"gender\": \"Male\", \"age\": 53, \"department\": \"ICU\", \"admission_time\": \"2025-09-23T13:10:35.569147\", \"discharge_time\": \"2025-09-26T03:10:35.569076\", \"bed_id\": 258, \"hospital_id\": 2}</td></tr><tr><td>{\"patient_id\": \"358e2e5d-42fc-4a88-80cf-6f96a0e653bd\", \"gender\": \"Male\", \"age\": 62, \"department\": \"ICU\", \"admission_time\": \"2025-09-25T06:26:27.353685\", \"discharge_time\": \"2025-09-22T18:26:27.353612\", \"bed_id\": 24, \"hospital_id\": 3}</td></tr><tr><td>{\"patient_id\": \"d2f527ec-66a3-4b15-8849-b181d601feea\", \"gender\": \"Female\", \"age\": 3, \"department\": \"ICU\", \"admission_time\": \"2025-09-20T20:09:24.518906\", \"discharge_time\": \"2025-09-22T05:09:24.518906\", \"bed_id\": 224, \"hospital_id\": 4}</td></tr><tr><td>{\"patient_id\": \"9f8859f6-d414-4d50-ba4d-11eab9254087\", \"gender\": \"Female\", \"age\": 1, \"department\": \"ICU\", \"admission_time\": \"2025-09-23T00:04:52.340086\", \"discharge_time\": \"2025-09-23T15:04:52.340086\", \"bed_id\": 140, \"hospital_id\": 4}</td></tr><tr><td>{\"patient_id\": \"87360dfe-9789-4343-9075-c303af8e4b22\", \"gender\": \"Male\", \"age\": 15, \"department\": \"ICU\", \"admission_time\": \"2025-09-23T00:56:46.021244\", \"discharge_time\": \"2025-09-23T18:56:46.021244\", \"bed_id\": 184, \"hospital_id\": 1}</td></tr><tr><td>{\"patient_id\": \"d27ca297-890d-4f19-886f-0cbd968d49e5\", \"gender\": \"Female\", \"age\": 1, \"department\": \"ICU\", \"admission_time\": \"2025-09-22T15:02:43.251339\", \"discharge_time\": \"2025-09-23T11:02:43.251339\", \"bed_id\": 346, \"hospital_id\": 2}</td></tr><tr><td>{\"patient_id\": \"ffa00912-958c-4e7a-9bd3-b428e1ff94e6\", \"gender\": \"Male\", \"age\": 139, \"department\": \"ICU\", \"admission_time\": \"2025-09-23T08:53:54.904251\", \"discharge_time\": \"2025-09-22T04:53:54.904163\", \"bed_id\": 67, \"hospital_id\": 2}</td></tr><tr><td>{\"patient_id\": \"801e8900-adbd-4c1b-b38c-04bb0f5d6c49\", \"gender\": \"Male\", \"age\": 39, \"department\": \"ICU\", \"admission_time\": \"2025-09-23T01:07:01.427272\", \"discharge_time\": \"2025-09-25T12:07:01.427272\", \"bed_id\": 327, \"hospital_id\": 7}</td></tr><tr><td>{\"patient_id\": \"af7c433c-4710-462c-940a-9787780ec2d2\", \"gender\": \"Male\", \"age\": 100, \"department\": \"ICU\", \"admission_time\": \"2025-09-21T09:05:02.346763\", \"discharge_time\": \"2025-09-22T20:05:02.346763\", \"bed_id\": 159, \"hospital_id\": 1}</td></tr><tr><td>{\"patient_id\": \"178997e5-a1ae-4973-9117-bf5b724cef7c\", \"gender\": \"Male\", \"age\": 12, \"department\": \"ICU\", \"admission_time\": \"2025-09-23T05:08:38.490386\", \"discharge_time\": \"2025-09-25T11:08:38.490386\", \"bed_id\": 462, \"hospital_id\": 7}</td></tr><tr><td>{\"patient_id\": \"b8651460-9933-429e-bcc4-d3cc69f947b5\", \"gender\": \"Male\", \"age\": 63, \"department\": \"ICU\", \"admission_time\": \"2025-09-20T06:57:18.042657\", \"discharge_time\": \"2025-09-22T15:57:18.042657\", \"bed_id\": 378, \"hospital_id\": 7}</td></tr><tr><td>{\"patient_id\": \"5bec4d97-dfc2-4107-a31f-e2343bc6bd3a\", \"gender\": \"Male\", \"age\": 66, \"department\": \"ICU\", \"admission_time\": \"2025-09-22T22:03:32.285113\", \"discharge_time\": \"2025-09-24T13:03:32.285113\", \"bed_id\": 473, \"hospital_id\": 4}</td></tr><tr><td>{\"patient_id\": \"37721c57-a9f6-4284-9161-4c9a89be133e\", \"gender\": \"Male\", \"age\": 16, \"department\": \"ICU\", \"admission_time\": \"2025-09-22T03:26:41.361921\", \"discharge_time\": \"2025-09-23T20:26:41.361921\", \"bed_id\": 105, \"hospital_id\": 1}</td></tr><tr><td>{\"patient_id\": \"f27f439b-08b8-44c2-a39b-389207088c4a\", \"gender\": \"Male\", \"age\": 120, \"department\": \"ICU\", \"admission_time\": \"2025-09-23T06:53:37.894026\", \"discharge_time\": \"2025-09-25T00:53:37.894026\", \"bed_id\": 341, \"hospital_id\": 1}</td></tr><tr><td>{\"patient_id\": \"46aa45cf-d58a-4ddf-9380-1492d756d7ba\", \"gender\": \"Male\", \"age\": 24, \"department\": \"ICU\", \"admission_time\": \"2025-09-23T06:07:05.429083\", \"discharge_time\": \"2025-09-26T05:07:05.429083\", \"bed_id\": 149, \"hospital_id\": 5}</td></tr><tr><td>{\"patient_id\": \"95a656b1-7aee-4327-bd8f-74321bb68b40\", \"gender\": \"Male\", \"age\": 60, \"department\": \"ICU\", \"admission_time\": \"2025-09-21T11:04:49.338641\", \"discharge_time\": \"2025-09-22T10:04:49.338641\", \"bed_id\": 173, \"hospital_id\": 1}</td></tr><tr><td>{\"patient_id\": \"b9f651b6-be4b-49bd-8ad7-d606ec50600f\", \"gender\": \"Male\", \"age\": 66, \"department\": \"ICU\", \"admission_time\": \"2025-09-21T19:26:14.343590\", \"discharge_time\": \"2025-09-23T11:26:14.343590\", \"bed_id\": 459, \"hospital_id\": 7}</td></tr><tr><td>{\"patient_id\": \"1ba523ea-a100-4f6c-adb4-16cdf3776d07\", \"gender\": \"Male\", \"age\": 74, \"department\": \"ICU\", \"admission_time\": \"2025-09-21T09:07:26.443450\", \"discharge_time\": \"2025-09-24T04:07:26.443450\", \"bed_id\": 455, \"hospital_id\": 6}</td></tr><tr><td>{\"patient_id\": \"47fac059-749b-4a67-87ab-2b801a4b6195\", \"gender\": \"Male\", \"age\": 70, \"department\": \"ICU\", \"admission_time\": \"2025-09-22T19:55:27.971144\", \"discharge_time\": \"2025-09-23T11:55:27.971144\", \"bed_id\": 190, \"hospital_id\": 2}</td></tr><tr><td>{\"patient_id\": \"9a420239-c567-4354-a79d-1e487b2681b2\", \"gender\": \"Male\", \"age\": 49, \"department\": \"ICU\", \"admission_time\": \"2025-09-20T19:08:27.483870\", \"discharge_time\": \"2025-09-22T16:08:27.483870\", \"bed_id\": 110, \"hospital_id\": 5}</td></tr><tr><td>{\"patient_id\": \"88fda607-6a50-4d30-888b-626d25084ea9\", \"gender\": \"Male\", \"age\": 58, \"department\": \"ICU\", \"admission_time\": \"2025-09-22T13:52:52.860990\", \"discharge_time\": \"2025-09-23T20:52:52.860990\", \"bed_id\": 431, \"hospital_id\": 2}</td></tr><tr><td>{\"patient_id\": \"f8c13500-04c5-4799-b1af-68b37e9e67ac\", \"gender\": \"Male\", \"age\": 50, \"department\": \"ICU\", \"admission_time\": \"2025-09-20T13:57:03.031901\", \"discharge_time\": \"2025-09-23T04:57:03.031901\", \"bed_id\": 205, \"hospital_id\": 2}</td></tr><tr><td>{\"patient_id\": \"7e4282c4-617e-4983-9ed9-20f6e0ea1f12\", \"gender\": \"Male\", \"age\": 13, \"department\": \"ICU\", \"admission_time\": \"2025-09-20T07:58:49.099265\", \"discharge_time\": \"2025-09-21T20:58:49.099265\", \"bed_id\": 160, \"hospital_id\": 2}</td></tr><tr><td>{\"patient_id\": \"e192ecf2-3aba-45e0-b929-ab61a2f740e7\", \"gender\": \"Male\", \"age\": 64, \"department\": \"ICU\", \"admission_time\": \"2025-09-21T14:09:46.532969\", \"discharge_time\": \"2025-09-22T22:09:46.532969\", \"bed_id\": 406, \"hospital_id\": 7}</td></tr><tr><td>{\"patient_id\": \"119878d9-08c3-4255-84ef-5507eec61f44\", \"gender\": \"Male\", \"age\": 94, \"department\": \"ICU\", \"admission_time\": \"2025-09-21T12:10:28.563231\", \"discharge_time\": \"2025-09-22T04:10:28.563231\", \"bed_id\": 393, \"hospital_id\": 4}</td></tr><tr><td>{\"patient_id\": \"7225b4fc-db87-492d-b134-b42b466bd74d\", \"gender\": \"Male\", \"age\": 85, \"department\": \"ICU\", \"admission_time\": \"2025-09-21T20:09:45.532439\", \"discharge_time\": \"2025-09-24T10:09:45.532439\", \"bed_id\": 305, \"hospital_id\": 3}</td></tr><tr><td>{\"patient_id\": \"4cc02882-33d4-446d-9970-db4e81297df1\", \"gender\": \"Male\", \"age\": 79, \"department\": \"ICU\", \"admission_time\": \"2025-09-22T02:53:25.885636\", \"discharge_time\": \"2025-09-24T05:53:25.885636\", \"bed_id\": 260, \"hospital_id\": 1}</td></tr><tr><td>{\"patient_id\": \"ab22d0b4-8604-4e7e-a872-261f2ef7728b\", \"gender\": \"Male\", \"age\": 51, \"department\": \"ICU\", \"admission_time\": \"2025-09-21T07:02:07.226678\", \"discharge_time\": \"2025-09-22T10:02:07.226678\", \"bed_id\": 497, \"hospital_id\": 3}</td></tr><tr><td>{\"patient_id\": \"9fe5c65a-fb95-43ac-a72f-72338ab85e0f\", \"gender\": \"Male\", \"age\": 87, \"department\": \"ICU\", \"admission_time\": \"2025-09-22T22:10:13.550744\", \"discharge_time\": \"2025-09-23T19:10:13.550744\", \"bed_id\": 316, \"hospital_id\": 2}</td></tr><tr><td>{\"patient_id\": \"981df670-7bf0-4de3-8a91-0e8ca8228ed1\", \"gender\": \"Male\", \"age\": 99, \"department\": \"ICU\", \"admission_time\": \"2025-09-22T15:03:10.270061\", \"discharge_time\": \"2025-09-23T11:03:10.270061\", \"bed_id\": 416, \"hospital_id\": 1}</td></tr><tr><td>{\"patient_id\": \"67d951fe-1ca4-48a4-9dde-aee71f41ca8c\", \"gender\": \"Male\", \"age\": 87, \"department\": \"ICU\", \"admission_time\": \"2025-09-20T13:10:31.565271\", \"discharge_time\": \"2025-09-22T05:10:31.565271\", \"bed_id\": 341, \"hospital_id\": 7}</td></tr><tr><td>{\"patient_id\": \"4017858f-c6ba-4097-9ef5-526b8e33cba2\", \"gender\": \"Male\", \"age\": 89, \"department\": \"ICU\", \"admission_time\": \"2025-09-22T18:54:46.939415\", \"discharge_time\": \"2025-09-24T05:54:46.939415\", \"bed_id\": 274, \"hospital_id\": 5}</td></tr><tr><td>{\"patient_id\": \"06c1d4d7-aba2-4be8-8bdc-f5fcb9dc580c\", \"gender\": \"Male\", \"age\": 61, \"department\": \"ICU\", \"admission_time\": \"2025-09-23T05:02:42.250641\", \"discharge_time\": \"2025-09-25T10:02:42.250641\", \"bed_id\": 450, \"hospital_id\": 1}</td></tr><tr><td>{\"patient_id\": \"1425b7d9-b39b-45ef-a2c5-7ab9078c15c4\", \"gender\": \"Male\", \"age\": 22, \"department\": \"ICU\", \"admission_time\": \"2025-09-20T12:00:18.156448\", \"discharge_time\": \"2025-09-22T06:00:18.156448\", \"bed_id\": 187, \"hospital_id\": 2}</td></tr><tr><td>{\"patient_id\": \"3c9ec03c-6408-43a1-aee2-da23e471c347\", \"gender\": \"Male\", \"age\": 25, \"department\": \"ICU\", \"admission_time\": \"2025-09-21T23:05:32.364026\", \"discharge_time\": \"2025-09-24T00:05:32.364026\", \"bed_id\": 277, \"hospital_id\": 4}</td></tr><tr><td>{\"patient_id\": \"710e7891-d41a-4a22-9238-1965616a1b85\", \"gender\": \"Male\", \"age\": 80, \"department\": \"ICU\", \"admission_time\": \"2025-09-21T10:55:25.969592\", \"discharge_time\": \"2025-09-23T18:55:25.969592\", \"bed_id\": 272, \"hospital_id\": 3}</td></tr><tr><td>{\"patient_id\": \"bfcb1c1b-aa89-4f26-a3c5-5949a2776877\", \"gender\": \"Male\", \"age\": 83, \"department\": \"ICU\", \"admission_time\": \"2025-09-20T12:02:19.235750\", \"discharge_time\": \"2025-09-22T19:02:19.235750\", \"bed_id\": 150, \"hospital_id\": 1}</td></tr><tr><td>{\"patient_id\": \"dc876c3b-9e73-4e9e-be4a-7401e4c2ef0e\", \"gender\": \"Female\", \"age\": 9, \"department\": \"ICU\", \"admission_time\": \"2025-09-22T07:55:43.980604\", \"discharge_time\": \"2025-09-22T22:55:43.980604\", \"bed_id\": 260, \"hospital_id\": 3}</td></tr><tr><td>{\"patient_id\": \"748bf350-e580-4090-a3f1-30aa5dcb06e1\", \"gender\": \"Male\", \"age\": 12, \"department\": \"ICU\", \"admission_time\": \"2025-09-22T21:58:32.088326\", \"discharge_time\": \"2025-09-24T04:58:32.088326\", \"bed_id\": 166, \"hospital_id\": 7}</td></tr><tr><td>{\"patient_id\": \"9ddfce12-b91b-4ba2-934f-ac5c0be6d777\", \"gender\": \"Male\", \"age\": 50, \"department\": \"ICU\", \"admission_time\": \"2025-09-23T01:26:58.373841\", \"discharge_time\": \"2025-09-24T22:26:58.373841\", \"bed_id\": 207, \"hospital_id\": 4}</td></tr><tr><td>{\"patient_id\": \"58a82551-b768-4a46-9142-7dbe7435bb38\", \"gender\": \"Male\", \"age\": 63, \"department\": \"ICU\", \"admission_time\": \"2025-09-21T01:01:20.192507\", \"discharge_time\": \"2025-09-22T21:01:20.192507\", \"bed_id\": 379, \"hospital_id\": 3}</td></tr><tr><td>{\"patient_id\": \"a40250c8-8051-4fe4-938d-7eaad155b067\", \"gender\": \"Male\", \"age\": 74, \"department\": \"ICU\", \"admission_time\": \"2025-09-22T23:59:45.136214\", \"discharge_time\": \"2025-09-23T22:59:45.136214\", \"bed_id\": 244, \"hospital_id\": 5}</td></tr><tr><td>{\"patient_id\": \"27670aac-08c5-4e5a-88ea-f545d67fa410\", \"gender\": \"Male\", \"age\": 67, \"department\": \"ICU\", \"admission_time\": \"2025-09-21T21:00:55.178471\", \"discharge_time\": \"2025-09-22T19:00:55.178471\", \"bed_id\": 341, \"hospital_id\": 1}</td></tr><tr><td>{\"patient_id\": \"5582ad19-f492-4519-bd06-8fbbc20ce58a\", \"gender\": \"Male\", \"age\": 87, \"department\": \"ICU\", \"admission_time\": \"2025-09-23T00:59:09.112825\", \"discharge_time\": \"2025-09-23T12:59:09.112825\", \"bed_id\": 281, \"hospital_id\": 1}</td></tr><tr><td>{\"patient_id\": \"7f8863a7-ff94-4661-8381-d2e1a91e335b\", \"gender\": \"Male\", \"age\": 56, \"department\": \"ICU\", \"admission_time\": \"2025-09-22T10:54:11.916533\", \"discharge_time\": \"2025-09-24T04:54:11.916533\", \"bed_id\": 374, \"hospital_id\": 3}</td></tr><tr><td>{\"patient_id\": \"5d25f008-d78f-404b-a01a-bdac44fb5ec3\", \"gender\": \"Male\", \"age\": 96, \"department\": \"ICU\", \"admission_time\": \"2025-09-22T04:01:43.210790\", \"discharge_time\": \"2025-09-23T14:01:43.210790\", \"bed_id\": 187, \"hospital_id\": 6}</td></tr><tr><td>{\"patient_id\": \"b5079dbb-b8d5-4d21-b915-07d090c13cf1\", \"gender\": \"Male\", \"age\": 99, \"department\": \"ICU\", \"admission_time\": \"2025-09-23T02:55:10.958463\", \"discharge_time\": \"2025-09-25T07:55:10.958463\", \"bed_id\": 46, \"hospital_id\": 2}</td></tr><tr><td>{\"patient_id\": \"48f1062c-1b26-4117-8dfd-be3895554eb6\", \"gender\": \"Male\", \"age\": 47, \"department\": \"ICU\", \"admission_time\": \"2025-09-23T03:27:01.375792\", \"discharge_time\": \"2025-09-24T23:27:01.375792\", \"bed_id\": 182, \"hospital_id\": 6}</td></tr><tr><td>{\"patient_id\": \"217ec813-046e-440a-b4e5-444be3476838\", \"gender\": \"Male\", \"age\": 74, \"department\": \"ICU\", \"admission_time\": \"2025-09-20T20:05:04.347667\", \"discharge_time\": \"2025-09-22T22:05:04.347667\", \"bed_id\": 437, \"hospital_id\": 6}</td></tr><tr><td>{\"patient_id\": \"c55ef455-3f57-4cf6-863f-48f6a8bbd807\", \"gender\": \"Male\", \"age\": 94, \"department\": \"ICU\", \"admission_time\": \"2025-09-22T08:58:03.069661\", \"discharge_time\": \"2025-09-22T20:58:03.069661\", \"bed_id\": 361, \"hospital_id\": 7}</td></tr><tr><td>{\"patient_id\": \"670c702f-57dc-4be9-9d05-8f9784308496\", \"gender\": \"Male\", \"age\": 96, \"department\": \"ICU\", \"admission_time\": \"2025-09-21T00:06:12.392718\", \"discharge_time\": \"2025-09-21T14:06:12.392718\", \"bed_id\": 174, \"hospital_id\": 5}</td></tr><tr><td>{\"patient_id\": \"2b532c7d-4c6c-4455-aae8-cf7e8f7ac8c8\", \"gender\": \"Male\", \"age\": 50, \"department\": \"ICU\", \"admission_time\": \"2025-09-22T16:54:44.938563\", \"discharge_time\": \"2025-09-25T08:54:44.938563\", \"bed_id\": 363, \"hospital_id\": 5}</td></tr><tr><td>{\"patient_id\": \"78d6372f-323b-412c-ac9c-4f3ee482170d\", \"gender\": \"Male\", \"age\": 46, \"department\": \"ICU\", \"admission_time\": \"2025-09-21T04:05:51.376290\", \"discharge_time\": \"2025-09-22T03:05:51.376290\", \"bed_id\": 12, \"hospital_id\": 7}</td></tr><tr><td>{\"patient_id\": \"12cb09b0-7b6e-4e69-84a8-d2c88825e9af\", \"gender\": \"Male\", \"age\": 71, \"department\": \"ICU\", \"admission_time\": \"2025-09-21T05:57:56.065307\", \"discharge_time\": \"2025-09-24T05:57:56.065307\", \"bed_id\": 422, \"hospital_id\": 5}</td></tr><tr><td>{\"patient_id\": \"9a83ff77-4555-45f4-b151-123b546d6445\", \"gender\": \"Male\", \"age\": 77, \"department\": \"ICU\", \"admission_time\": \"2025-09-23T00:05:25.359787\", \"discharge_time\": \"2025-09-23T07:05:25.359787\", \"bed_id\": 116, \"hospital_id\": 4}</td></tr><tr><td>{\"patient_id\": \"7c695297-ab01-4768-a22f-a84850ac2f03\", \"gender\": \"Male\", \"age\": 14, \"department\": \"ICU\", \"admission_time\": \"2025-09-20T10:06:18.397010\", \"discharge_time\": \"2025-09-23T10:06:18.397010\", \"bed_id\": 202, \"hospital_id\": 3}</td></tr><tr><td>{\"patient_id\": \"1b454d59-6ac9-4f63-b8f7-8a7724c3d75a\", \"gender\": \"Male\", \"age\": 83, \"department\": \"ICU\", \"admission_time\": \"2025-09-21T04:09:09.508741\", \"discharge_time\": \"2025-09-21T05:09:09.508741\", \"bed_id\": 122, \"hospital_id\": 5}</td></tr><tr><td>{\"patient_id\": \"22ca9d33-3338-41dd-934a-3029449da44e\", \"gender\": \"Male\", \"age\": 8, \"department\": \"ICU\", \"admission_time\": \"2025-09-21T12:08:54.498591\", \"discharge_time\": \"2025-09-22T10:08:54.498591\", \"bed_id\": 242, \"hospital_id\": 1}</td></tr><tr><td>{\"patient_id\": \"689f1794-9c04-4702-825a-460e163e434d\", \"gender\": \"Male\", \"age\": 90, \"department\": \"ICU\", \"admission_time\": \"2025-09-22T02:00:39.168436\", \"discharge_time\": \"2025-09-23T17:00:39.168436\", \"bed_id\": 64, \"hospital_id\": 3}</td></tr><tr><td>{\"patient_id\": \"44e1522d-85b8-4ad7-b48f-87ae09e514b1\", \"gender\": \"Male\", \"age\": 60, \"department\": \"ICU\", \"admission_time\": \"2025-09-20T10:04:10.312014\", \"discharge_time\": \"2025-09-21T15:04:10.312014\", \"bed_id\": 11, \"hospital_id\": 7}</td></tr><tr><td>{\"patient_id\": \"405979d9-99d1-4fc8-97fe-b7f210888b14\", \"gender\": \"Male\", \"age\": 56, \"department\": \"ICU\", \"admission_time\": \"2025-09-22T22:59:08.112334\", \"discharge_time\": \"2025-09-23T01:59:08.112334\", \"bed_id\": 11, \"hospital_id\": 7}</td></tr><tr><td>{\"patient_id\": \"8f2cbf66-cc51-4197-9242-317d381dc065\", \"gender\": \"Male\", \"age\": 12, \"department\": \"ICU\", \"admission_time\": \"2025-09-20T21:07:43.457015\", \"discharge_time\": \"2025-09-21T19:07:43.457015\", \"bed_id\": 91, \"hospital_id\": 5}</td></tr><tr><td>{\"patient_id\": \"e12e3257-947a-4830-b685-a8231a2c4400\", \"gender\": \"Male\", \"age\": 75, \"department\": \"ICU\", \"admission_time\": \"2025-09-22T19:26:35.358592\", \"discharge_time\": \"2025-09-24T23:26:35.358592\", \"bed_id\": 19, \"hospital_id\": 1}</td></tr><tr><td>{\"patient_id\": \"41e90d88-c0ec-4995-9e9c-d84b4fbd16c9\", \"gender\": \"Male\", \"age\": 86, \"department\": \"ICU\", \"admission_time\": \"2025-09-22T00:58:36.090703\", \"discharge_time\": \"2025-09-24T17:58:36.090703\", \"bed_id\": 77, \"hospital_id\": 5}</td></tr><tr><td>{\"patient_id\": \"e6499126-3cce-429a-8405-bd49be4c3f51\", \"gender\": \"Male\", \"age\": 93, \"department\": \"ICU\", \"admission_time\": \"2025-09-20T20:55:33.974561\", \"discharge_time\": \"2025-09-23T19:55:33.974561\", \"bed_id\": 99, \"hospital_id\": 3}</td></tr><tr><td>{\"patient_id\": \"246cea41-179a-404e-9933-c7090a18a32e\", \"gender\": \"Male\", \"age\": 13, \"department\": \"ICU\", \"admission_time\": \"2025-09-22T07:59:13.114977\", \"discharge_time\": \"2025-09-24T00:59:13.114977\", \"bed_id\": 36, \"hospital_id\": 6}</td></tr><tr><td>{\"patient_id\": \"14252983-56dd-47a6-bfce-d506ae68bf03\", \"gender\": \"Male\", \"age\": 37, \"department\": \"ICU\", \"admission_time\": \"2025-09-22T08:55:56.988113\", \"discharge_time\": \"2025-09-24T00:55:56.988113\", \"bed_id\": 68, \"hospital_id\": 3}</td></tr><tr><td>{\"patient_id\": \"18c247af-b058-46ee-96a3-ed094d555bdf\", \"gender\": \"Male\", \"age\": 66, \"department\": \"ICU\", \"admission_time\": \"2025-09-21T03:10:09.548433\", \"discharge_time\": \"2025-09-21T20:10:09.548433\", \"bed_id\": 58, \"hospital_id\": 4}</td></tr><tr><td>{\"patient_id\": \"cf851a02-b01f-4263-9587-65ddd574ca31\", \"gender\": \"Male\", \"age\": 72, \"department\": \"ICU\", \"admission_time\": \"2025-09-21T05:26:16.345307\", \"discharge_time\": \"2025-09-23T05:26:16.345307\", \"bed_id\": 99, \"hospital_id\": 5}</td></tr><tr><td>{\"patient_id\": \"0c5cf1e0-f1b8-4872-aefb-70a2dd5f6b8a\", \"gender\": \"Female\", \"age\": 31, \"department\": \"ICU\", \"admission_time\": \"2025-09-22T05:53:19.882386\", \"discharge_time\": \"2025-09-24T07:53:19.882386\", \"bed_id\": 306, \"hospital_id\": 3}</td></tr><tr><td>{\"patient_id\": \"b2664645-9a2d-4b86-96b7-9e76fa75e401\", \"gender\": \"Female\", \"age\": 150, \"department\": \"Surgery\", \"admission_time\": \"2025-09-23T06:53:20.882811\", \"discharge_time\": \"2025-09-23T19:53:20.882811\", \"bed_id\": 493, \"hospital_id\": 5}</td></tr><tr><td>{\"patient_id\": \"7a97a33b-29ea-441d-bd7d-dc2d171335d3\", \"gender\": \"Female\", \"age\": 96, \"department\": \"Pediatrics\", \"admission_time\": \"2025-09-22T09:53:21.883239\", \"discharge_time\": \"2025-09-24T10:53:21.883239\", \"bed_id\": 101, \"hospital_id\": 6}</td></tr><tr><td>{\"patient_id\": \"156d0cf4-6102-4712-a331-6edad920678c\", \"gender\": \"Male\", \"age\": 48, \"department\": \"Pediatrics\", \"admission_time\": \"2025-09-20T12:53:22.883992\", \"discharge_time\": \"2025-09-22T19:53:22.883992\", \"bed_id\": 311, \"hospital_id\": 4}</td></tr><tr><td>{\"patient_id\": \"f6d8dfc3-8408-48f5-9261-fb34f09cc2cc\", \"gender\": \"Female\", \"age\": 34, \"department\": \"ICU\", \"admission_time\": \"2025-09-22T07:52:40.854850\", \"discharge_time\": \"2025-09-23T04:52:40.854850\", \"bed_id\": 186, \"hospital_id\": 5}</td></tr><tr><td>{\"patient_id\": \"34998668-ec05-40be-a1c6-ea44b39b6afd\", \"gender\": \"Female\", \"age\": 18, \"department\": \"Cardiology\", \"admission_time\": \"2025-09-22T04:52:41.855306\", \"discharge_time\": \"2025-09-24T10:52:41.855306\", \"bed_id\": 79, \"hospital_id\": 4}</td></tr><tr><td>{\"patient_id\": \"9848f6b7-8bef-4ce8-a2fd-840bcd5009f6\", \"gender\": \"Male\", \"age\": 55, \"department\": \"Pediatrics\", \"admission_time\": \"2025-09-22T01:52:42.855749\", \"discharge_time\": \"2025-09-24T02:52:42.855749\", \"bed_id\": 409, \"hospital_id\": 4}</td></tr><tr><td>{\"patient_id\": \"2a32aa32-0b72-47e2-a99c-3843f6e005aa\", \"gender\": \"Female\", \"age\": 17, \"department\": \"Emergency\", \"admission_time\": \"2025-09-22T08:57:04.032329\", \"discharge_time\": \"2025-09-24T06:57:04.032329\", \"bed_id\": 495, \"hospital_id\": 6}</td></tr><tr><td>{\"patient_id\": \"d64a8df0-32ad-4cbb-b777-c198a3c7fbf0\", \"gender\": \"Female\", \"age\": 43, \"department\": \"Maternity\", \"admission_time\": \"2025-09-20T06:57:05.034025\", \"discharge_time\": \"2025-09-22T11:57:05.034025\", \"bed_id\": 467, \"hospital_id\": 3}</td></tr><tr><td>{\"patient_id\": \"cc131249-728b-4714-add6-9f5657280d85\", \"gender\": \"Female\", \"age\": 51, \"department\": \"Pediatrics\", \"admission_time\": \"2025-09-23T11:59:32.128433\", \"discharge_time\": \"2025-09-21T11:59:32.128358\", \"bed_id\": 237, \"hospital_id\": 4}</td></tr><tr><td>{\"patient_id\": \"c53cde80-608e-4323-b247-ec0ec88285a1\", \"gender\": \"Male\", \"age\": 42, \"department\": \"Maternity\", \"admission_time\": \"2025-09-21T05:59:33.128874\", \"discharge_time\": \"2025-09-23T12:59:33.128874\", \"bed_id\": 56, \"hospital_id\": 5}</td></tr><tr><td>{\"patient_id\": \"01ba7e1e-382a-48be-bd8d-26bbb4a40550\", \"gender\": \"Female\", \"age\": 29, \"department\": \"Surgery\", \"admission_time\": \"2025-09-22T12:54:33.931322\", \"discharge_time\": \"2025-09-23T09:54:33.931322\", \"bed_id\": 118, \"hospital_id\": 4}</td></tr><tr><td>{\"patient_id\": \"65669a57-6609-44c9-982f-d59a89fe8a04\", \"gender\": \"Female\", \"age\": 92, \"department\": \"Pediatrics\", \"admission_time\": \"2025-09-23T02:54:34.932256\", \"discharge_time\": \"2025-09-23T10:54:34.932256\", \"bed_id\": 340, \"hospital_id\": 7}</td></tr><tr><td>{\"patient_id\": \"57237c22-3ee4-45ef-86b7-71eaea704ee2\", \"gender\": \"Male\", \"age\": 15, \"department\": \"Pediatrics\", \"admission_time\": \"2025-09-20T13:03:00.262699\", \"discharge_time\": \"2025-09-21T21:03:00.262699\", \"bed_id\": 422, \"hospital_id\": 2}</td></tr><tr><td>{\"patient_id\": \"e071ad7d-9fda-48dc-836f-b3118de289cf\", \"gender\": \"Female\", \"age\": 57, \"department\": \"Oncology\", \"admission_time\": \"2025-09-22T13:03:01.263642\", \"discharge_time\": \"2025-09-23T19:03:01.263642\", \"bed_id\": 365, \"hospital_id\": 4}</td></tr><tr><td>{\"patient_id\": \"e5269b7d-3fd4-4494-b51b-f408db53f217\", \"gender\": \"Male\", \"age\": 42, \"department\": \"ICU\", \"admission_time\": \"2025-09-21T14:10:00.541834\", \"discharge_time\": \"2025-09-23T04:10:00.541834\", \"bed_id\": 168, \"hospital_id\": 3}</td></tr><tr><td>{\"patient_id\": \"e55d15fd-c1c2-4493-a20c-cb01363b6141\", \"gender\": \"Female\", \"age\": 35, \"department\": \"Maternity\", \"admission_time\": \"2025-09-25T15:10:01.543236\", \"discharge_time\": \"2025-09-24T15:10:01.543162\", \"bed_id\": 252, \"hospital_id\": 1}</td></tr><tr><td>{\"patient_id\": \"0f36892f-78ac-4c0a-a6eb-c405f384c43f\", \"gender\": \"Female\", \"age\": 24, \"department\": \"Cardiology\", \"admission_time\": \"2025-09-20T10:25:29.311153\", \"discharge_time\": \"2025-09-22T12:25:29.311153\", \"bed_id\": 108, \"hospital_id\": 5}</td></tr><tr><td>{\"patient_id\": \"b6096ac3-1f0e-4cbe-bf61-d306597f6ca0\", \"gender\": \"Male\", \"age\": 21, \"department\": \"Emergency\", \"admission_time\": \"2025-09-21T02:25:30.312090\", \"discharge_time\": \"2025-09-22T17:25:30.312090\", \"bed_id\": 413, \"hospital_id\": 6}</td></tr><tr><td>{\"patient_id\": \"5a8d491c-a576-4e52-b223-dedfe681cf08\", \"gender\": \"Female\", \"age\": 49, \"department\": \"Oncology\", \"admission_time\": \"2025-09-21T23:08:17.478469\", \"discharge_time\": \"2025-09-22T07:08:17.478469\", \"bed_id\": 245, \"hospital_id\": 5}</td></tr><tr><td>{\"patient_id\": \"af33450c-18cd-42d2-a999-226fb86bbffc\", \"gender\": \"Male\", \"age\": 68, \"department\": \"Cardiology\", \"admission_time\": \"2025-09-20T13:08:18.479364\", \"discharge_time\": \"2025-09-22T16:08:18.479364\", \"bed_id\": 465, \"hospital_id\": 7}</td></tr><tr><td>{\"patient_id\": \"0b23a694-3ab5-42fb-b6c6-d7b14779de1d\", \"gender\": \"Male\", \"age\": 13, \"department\": \"Cardiology\", \"admission_time\": \"2025-09-23T02:02:05.225806\", \"discharge_time\": \"2025-09-23T03:02:05.225806\", \"bed_id\": 161, \"hospital_id\": 5}</td></tr><tr><td>{\"patient_id\": \"9a4288e4-8574-432c-b43e-42a6708bf714\", \"gender\": \"Female\", \"age\": 75, \"department\": \"ICU\", \"admission_time\": \"2025-09-22T00:02:06.226244\", \"discharge_time\": \"2025-09-24T18:02:06.226244\", \"bed_id\": 426, \"hospital_id\": 2}</td></tr><tr><td>{\"patient_id\": \"19002171-b8e4-4f9a-a0f9-349f261e3866\", \"gender\": \"Male\", \"age\": 17, \"department\": \"Surgery\", \"admission_time\": \"2025-09-20T10:02:36.246874\", \"discharge_time\": \"2025-09-21T17:02:36.246874\", \"bed_id\": 436, \"hospital_id\": 3}</td></tr><tr><td>{\"patient_id\": \"d954e62c-1d6c-4acc-9c66-30c515343b4d\", \"gender\": \"Female\", \"age\": 85, \"department\": \"Oncology\", \"admission_time\": \"2025-09-21T10:02:37.247981\", \"discharge_time\": \"2025-09-22T13:02:37.247981\", \"bed_id\": 436, \"hospital_id\": 5}</td></tr><tr><td>{\"patient_id\": \"ce5c5f2b-5765-417e-b06e-d6a1c58c0943\", \"gender\": \"Female\", \"age\": 9, \"department\": \"Pediatrics\", \"admission_time\": \"2025-09-21T23:06:52.421778\", \"discharge_time\": \"2025-09-24T21:06:52.421778\", \"bed_id\": 54, \"hospital_id\": 2}</td></tr><tr><td>{\"patient_id\": \"de8090d3-9717-4163-b235-3a7a5fbe4e00\", \"gender\": \"Male\", \"age\": 79, \"department\": \"Surgery\", \"admission_time\": \"2025-09-23T06:06:53.423528\", \"discharge_time\": \"2025-09-26T06:06:53.423528\", \"bed_id\": 362, \"hospital_id\": 4}</td></tr><tr><td>{\"patient_id\": \"e9780fad-c23a-4b11-b946-626a70015475\", \"gender\": \"Female\", \"age\": 98, \"department\": \"Emergency\", \"admission_time\": \"2025-09-21T16:57:41.056242\", \"discharge_time\": \"2025-09-22T06:57:41.056242\", \"bed_id\": 416, \"hospital_id\": 7}</td></tr><tr><td>{\"patient_id\": \"dd59c8d2-1dfc-4e70-be8e-bc9511e4ba94\", \"gender\": \"Male\", \"age\": 82, \"department\": \"Emergency\", \"admission_time\": \"2025-09-20T23:57:42.056694\", \"discharge_time\": \"2025-09-21T04:57:42.056694\", \"bed_id\": 183, \"hospital_id\": 4}</td></tr><tr><td>{\"patient_id\": \"b034a445-550a-48f5-a882-3f4c08b5692a\", \"gender\": \"Male\", \"age\": 12, \"department\": \"Maternity\", \"admission_time\": \"2025-09-22T01:53:58.906923\", \"discharge_time\": \"2025-09-22T22:53:58.906923\", \"bed_id\": 220, \"hospital_id\": 7}</td></tr><tr><td>{\"patient_id\": \"8071199f-60ef-454c-a019-30889f0eaa7e\", \"gender\": \"Female\", \"age\": 136, \"department\": \"Emergency\", \"admission_time\": \"2025-09-20T20:53:59.907596\", \"discharge_time\": \"2025-09-20T21:53:59.907596\", \"bed_id\": 453, \"hospital_id\": 3}</td></tr><tr><td>{\"patient_id\": \"833e3bd2-30fb-4377-a3ea-4e7e596c87a1\", \"gender\": \"Female\", \"age\": 85, \"department\": \"Pediatrics\", \"admission_time\": \"2025-09-22T02:52:43.856186\", \"discharge_time\": \"2025-09-22T22:52:43.856186\", \"bed_id\": 65, \"hospital_id\": 7}</td></tr><tr><td>{\"patient_id\": \"35f8e18a-b739-45d5-aa8f-d6be07395bb8\", \"gender\": \"Female\", \"age\": 68, \"department\": \"Emergency\", \"admission_time\": \"2025-09-21T19:52:44.856715\", \"discharge_time\": \"2025-09-24T10:52:44.856715\", \"bed_id\": 10, \"hospital_id\": 2}</td></tr><tr><td>{\"patient_id\": \"ddeafdb4-bb8b-4ad3-b548-6b0f64ef4c99\", \"gender\": \"Male\", \"age\": 13, \"department\": \"ICU\", \"admission_time\": \"2025-09-20T21:26:46.365032\", \"discharge_time\": \"2025-09-22T08:26:46.365032\", \"bed_id\": 219, \"hospital_id\": 4}</td></tr><tr><td>{\"patient_id\": \"513f019c-c264-4ef4-b5c4-49c001ce797a\", \"gender\": \"Female\", \"age\": 30, \"department\": \"Cardiology\", \"admission_time\": \"2025-09-22T00:26:47.366902\", \"discharge_time\": \"2025-09-22T17:26:47.366902\", \"bed_id\": 303, \"hospital_id\": 3}</td></tr><tr><td>{\"patient_id\": \"c477d45e-34c5-4545-b87a-55866a1cf21f\", \"gender\": \"Female\", \"age\": 42, \"department\": \"ICU\", \"admission_time\": \"2025-09-21T21:03:50.296447\", \"discharge_time\": \"2025-09-24T00:03:50.296447\", \"bed_id\": 343, \"hospital_id\": 3}</td></tr><tr><td>{\"patient_id\": \"40706ae3-d00f-4d89-976a-a9f7857b5568\", \"gender\": \"Female\", \"age\": 45, \"department\": \"Oncology\", \"admission_time\": \"2025-09-21T00:03:51.297752\", \"discharge_time\": \"2025-09-23T01:03:51.297752\", \"bed_id\": 118, \"hospital_id\": 5}</td></tr><tr><td>{\"patient_id\": \"f191e7da-bee5-4506-ba77-13cda7b20a87\", \"gender\": \"Male\", \"age\": 8, \"department\": \"Emergency\", \"admission_time\": \"2025-09-21T03:57:48.060452\", \"discharge_time\": \"2025-09-23T13:57:48.060452\", \"bed_id\": 322, \"hospital_id\": 7}</td></tr><tr><td>{\"patient_id\": \"719d256f-d858-4b6e-be92-548ea77c5bd4\", \"gender\": \"Male\", \"age\": 60, \"department\": \"Pediatrics\", \"admission_time\": \"2025-09-22T08:57:49.060944\", \"discharge_time\": \"2025-09-22T21:57:49.060944\", \"bed_id\": 81, \"hospital_id\": 5}</td></tr><tr><td>{\"patient_id\": \"5f1a92e2-ba10-4960-ae15-ef4dcb3756a8\", \"gender\": \"Female\", \"age\": 64, \"department\": \"Cardiology\", \"admission_time\": \"2025-09-20T14:54:36.933611\", \"discharge_time\": \"2025-09-20T19:54:36.933611\", \"bed_id\": 158, \"hospital_id\": 7}</td></tr><tr><td>{\"patient_id\": \"2aa72a46-abb8-406b-af26-e5170d6cd4bd\", \"gender\": \"Male\", \"age\": 9, \"department\": \"ICU\", \"admission_time\": \"2025-09-22T00:54:37.934054\", \"discharge_time\": \"2025-09-23T07:54:37.934054\", \"bed_id\": 209, \"hospital_id\": 1}</td></tr><tr><td>{\"patient_id\": \"76a16111-aa6c-43d5-ae9c-89166f87e8a7\", \"gender\": \"Male\", \"age\": 92, \"department\": \"Pediatrics\", \"admission_time\": \"2025-09-21T18:54:56.946736\", \"discharge_time\": \"2025-09-22T08:54:56.946736\", \"bed_id\": 354, \"hospital_id\": 4}</td></tr><tr><td>{\"patient_id\": \"f4e62a60-4a36-4dd0-a29f-d18600802a9e\", \"gender\": \"Male\", \"age\": 89, \"department\": \"ICU\", \"admission_time\": \"2025-09-22T21:54:57.947223\", \"discharge_time\": \"2025-09-23T18:54:57.947223\", \"bed_id\": 184, \"hospital_id\": 6}</td></tr><tr><td>{\"patient_id\": \"c35a26f4-2f18-4f01-b8ca-44a9ea6e0c9f\", \"gender\": \"Male\", \"age\": 67, \"department\": \"Maternity\", \"admission_time\": \"2025-09-23T22:08:19.479900\", \"discharge_time\": \"2025-09-23T13:08:19.479826\", \"bed_id\": 288, \"hospital_id\": 5}</td></tr><tr><td>{\"patient_id\": \"0a0d0cc8-d3f0-4f61-8875-8c5a1463c744\", \"gender\": \"Female\", \"age\": 25, \"department\": \"ICU\", \"admission_time\": \"2025-09-20T07:08:20.480278\", \"discharge_time\": \"2025-09-21T21:08:20.480278\", \"bed_id\": 26, \"hospital_id\": 7}</td></tr><tr><td>{\"patient_id\": \"20577761-4392-440a-9cbf-f16013a4dbf1\", \"gender\": \"Male\", \"age\": 42, \"department\": \"Cardiology\", \"admission_time\": \"2025-09-22T14:56:27.009389\", \"discharge_time\": \"2025-09-22T17:56:27.009389\", \"bed_id\": 186, \"hospital_id\": 6}</td></tr><tr><td>{\"patient_id\": \"e4351855-fd50-4e94-8bdc-3114a6bd006e\", \"gender\": \"Female\", \"age\": 42, \"department\": \"Cardiology\", \"admission_time\": \"2025-09-22T20:56:28.010359\", \"discharge_time\": \"2025-09-24T19:56:28.010359\", \"bed_id\": 386, \"hospital_id\": 6}</td></tr><tr><td>{\"patient_id\": \"8936a0cb-a886-4ba2-ad66-24b38525fbe4\", \"gender\": \"Male\", \"age\": 44, \"department\": \"Pediatrics\", \"admission_time\": \"2025-09-21T23:58:12.076359\", \"discharge_time\": \"2025-09-22T08:58:12.076359\", \"bed_id\": 456, \"hospital_id\": 3}</td></tr><tr><td>{\"patient_id\": \"4eae9262-a09e-42c5-af11-2338a9e72594\", \"gender\": \"Male\", \"age\": 15, \"department\": \"ICU\", \"admission_time\": \"2025-09-22T23:58:13.076846\", \"discharge_time\": \"2025-09-23T04:58:13.076846\", \"bed_id\": 235, \"hospital_id\": 3}</td></tr><tr><td>{\"patient_id\": \"67b30416-6a91-455c-93f8-f26aec145625\", \"gender\": \"Male\", \"age\": 44, \"department\": \"Surgery\", \"admission_time\": \"2025-09-23T03:26:09.339506\", \"discharge_time\": \"2025-09-24T17:26:09.339506\", \"bed_id\": 408, \"hospital_id\": 6}</td></tr><tr><td>{\"patient_id\": \"aa62c40b-5859-4230-a54c-27408a01abd9\", \"gender\": \"Male\", \"age\": 95, \"department\": \"ICU\", \"admission_time\": \"2025-09-22T09:26:10.340096\", \"discharge_time\": \"2025-09-24T00:26:10.340096\", \"bed_id\": 247, \"hospital_id\": 4}</td></tr><tr><td>{\"patient_id\": \"13325ea1-509d-4ddc-8cd3-49030fc63f72\", \"gender\": \"Male\", \"age\": 150, \"department\": \"Oncology\", \"admission_time\": \"2025-09-21T11:08:47.494410\", \"discharge_time\": \"2025-09-22T02:08:47.494410\", \"bed_id\": 141, \"hospital_id\": 7}</td></tr><tr><td>{\"patient_id\": \"e8cd73a6-ab0d-4622-baa8-0dfc39b19284\", \"gender\": \"Male\", \"age\": 22, \"department\": \"Pediatrics\", \"admission_time\": \"2025-09-21T02:08:48.494894\", \"discharge_time\": \"2025-09-23T05:08:48.494894\", \"bed_id\": 165, \"hospital_id\": 4}</td></tr><tr><td>{\"patient_id\": \"20bfd124-2dbc-4779-bcab-1add7e57893c\", \"gender\": \"Male\", \"age\": 141, \"department\": \"Surgery\", \"admission_time\": \"2025-09-23T06:08:13.475848\", \"discharge_time\": \"2025-09-24T16:08:13.475848\", \"bed_id\": 356, \"hospital_id\": 2}</td></tr><tr><td>{\"patient_id\": \"e8ff771b-8d04-4c6f-b1c3-82637d2ea105\", \"gender\": \"Female\", \"age\": 22, \"department\": \"Cardiology\", \"admission_time\": \"2025-09-22T14:08:14.477163\", \"discharge_time\": \"2025-09-23T14:08:14.477163\", \"bed_id\": 153, \"hospital_id\": 2}</td></tr><tr><td>{\"patient_id\": \"673eaf0c-8c2f-4ce1-a222-4e1b9ef2bc88\", \"gender\": \"Female\", \"age\": 7, \"department\": \"ICU\", \"admission_time\": \"2025-09-22T07:07:11.432534\", \"discharge_time\": \"2025-09-24T01:07:11.432534\", \"bed_id\": 184, \"hospital_id\": 6}</td></tr><tr><td>{\"patient_id\": \"d3607c49-5b6e-4923-a331-569781453975\", \"gender\": \"Male\", \"age\": 65, \"department\": \"Maternity\", \"admission_time\": \"2025-09-22T09:07:12.433046\", \"discharge_time\": \"2025-09-23T20:07:12.433046\", \"bed_id\": 443, \"hospital_id\": 1}</td></tr><tr><td>{\"patient_id\": \"60c1719d-47e1-4048-b86a-a719f3c187b7\", \"gender\": \"Male\", \"age\": 82, \"department\": \"Emergency\", \"admission_time\": \"2025-09-21T03:05:39.368403\", \"discharge_time\": \"2025-09-22T21:05:39.368403\", \"bed_id\": 119, \"hospital_id\": 2}</td></tr><tr><td>{\"patient_id\": \"6c4d1e6e-afbf-4e12-9ccb-d77d9bc9bfd0\", \"gender\": \"Male\", \"age\": 40, \"department\": \"ICU\", \"admission_time\": \"2025-09-22T16:05:40.369372\", \"discharge_time\": \"2025-09-24T20:05:40.369372\", \"bed_id\": 368, \"hospital_id\": 6}</td></tr><tr><td>{\"patient_id\": \"bd4d51ec-04cb-4264-a376-327d39df6d37\", \"gender\": \"Male\", \"age\": 115, \"department\": \"Emergency\", \"admission_time\": \"2025-09-21T13:08:15.477594\", \"discharge_time\": \"2025-09-22T01:08:15.477594\", \"bed_id\": 77, \"hospital_id\": 1}</td></tr><tr><td>{\"patient_id\": \"29aa419d-1929-43a0-bcf1-6bc1bf9a44ff\", \"gender\": \"Male\", \"age\": 136, \"department\": \"Surgery\", \"admission_time\": \"2025-09-24T20:08:16.478106\", \"discharge_time\": \"2025-09-22T10:08:16.478035\", \"bed_id\": 358, \"hospital_id\": 5}</td></tr><tr><td>{\"patient_id\": \"01cb2862-68c7-454c-8b29-db469a9acdc0\", \"gender\": \"Male\", \"age\": 95, \"department\": \"Oncology\", \"admission_time\": \"2025-09-23T05:53:05.871839\", \"discharge_time\": \"2025-09-25T18:53:05.871839\", \"bed_id\": 491, \"hospital_id\": 1}</td></tr><tr><td>{\"patient_id\": \"2537f36e-7a09-41e6-adbf-05662256767f\", \"gender\": \"Male\", \"age\": 21, \"department\": \"Cardiology\", \"admission_time\": \"2025-09-21T04:53:06.872274\", \"discharge_time\": \"2025-09-22T02:53:06.872274\", \"bed_id\": 468, \"hospital_id\": 7}</td></tr><tr><td>{\"patient_id\": \"28787a88-d423-444b-82a4-cc39a3a91b66\", \"gender\": \"Male\", \"age\": 30, \"department\": \"Cardiology\", \"admission_time\": \"2025-09-23T03:08:11.474955\", \"discharge_time\": \"2025-09-26T02:08:11.474955\", \"bed_id\": 193, \"hospital_id\": 7}</td></tr><tr><td>{\"patient_id\": \"4a13df86-c2b5-4fda-9a34-4154118f4362\", \"gender\": \"Male\", \"age\": 25, \"department\": \"Cardiology\", \"admission_time\": \"2025-09-21T00:08:12.475408\", \"discharge_time\": \"2025-09-22T02:08:12.475408\", \"bed_id\": 295, \"hospital_id\": 3}</td></tr><tr><td>{\"patient_id\": \"edac863d-a3e8-41bc-bcc1-9baf41b15834\", \"gender\": \"Male\", \"age\": 14, \"department\": \"Emergency\", \"admission_time\": \"2025-09-23T07:10:37.569983\", \"discharge_time\": \"2025-09-26T00:10:37.569983\", \"bed_id\": 341, \"hospital_id\": 4}</td></tr><tr><td>{\"patient_id\": \"9a5da561-d658-44a2-b4fe-56d9cfdc72a7\", \"gender\": \"Female\", \"age\": 68, \"department\": \"Emergency\", \"admission_time\": \"2025-09-21T01:10:38.570394\", \"discharge_time\": \"2025-09-23T19:10:38.570394\", \"bed_id\": 274, \"hospital_id\": 4}</td></tr><tr><td>{\"patient_id\": \"3c43d178-a469-4ced-915b-4c3e5bd79a5b\", \"gender\": \"Male\", \"age\": 25, \"department\": \"Cardiology\", \"admission_time\": \"2025-09-20T16:25:31.312525\", \"discharge_time\": \"2025-09-22T08:25:31.312525\", \"bed_id\": 88, \"hospital_id\": 3}</td></tr><tr><td>{\"patient_id\": \"5569817a-193f-4742-b615-b03c6331b508\", \"gender\": \"Male\", \"age\": 9, \"department\": \"ICU\", \"admission_time\": \"2025-09-20T08:25:32.313737\", \"discharge_time\": \"2025-09-21T07:25:32.313737\", \"bed_id\": 388, \"hospital_id\": 3}</td></tr><tr><td>{\"patient_id\": \"cf3b7bc3-c071-4115-ab96-709fa5741623\", \"gender\": \"Male\", \"age\": 33, \"department\": \"Oncology\", \"admission_time\": \"2025-09-21T00:01:03.182932\", \"discharge_time\": \"2025-09-23T03:01:03.182932\", \"bed_id\": 76, \"hospital_id\": 7}</td></tr><tr><td>{\"patient_id\": \"9bdd7307-7c51-4d8d-8f9c-03dd7abe224a\", \"gender\": \"Male\", \"age\": 21, \"department\": \"ICU\", \"admission_time\": \"2025-09-22T19:01:04.183365\", \"discharge_time\": \"2025-09-23T22:01:04.183365\", \"bed_id\": 36, \"hospital_id\": 4}</td></tr><tr><td>{\"patient_id\": \"d3b8a294-2bf5-4b55-99d7-02d6e56a8fda\", \"gender\": \"Male\", \"age\": 31, \"department\": \"ICU\", \"admission_time\": \"2025-09-22T09:00:45.172310\", \"discharge_time\": \"2025-09-24T19:00:45.172310\", \"bed_id\": 496, \"hospital_id\": 6}</td></tr><tr><td>{\"patient_id\": \"cc4c8885-c715-451c-9ff0-37abaedb5663\", \"gender\": \"Male\", \"age\": 36, \"department\": \"ICU\", \"admission_time\": \"2025-09-21T09:00:46.172817\", \"discharge_time\": \"2025-09-23T19:00:46.172817\", \"bed_id\": 318, \"hospital_id\": 4}</td></tr></tbody></table></div>"
      ]
     },
     "metadata": {
      "application/vnd.databricks.v1+output": {
       "addedWidgets": {},
       "aggData": [],
       "aggError": "",
       "aggOverflow": false,
       "aggSchema": [],
       "aggSeriesLimitReached": false,
       "aggType": "",
       "arguments": {},
       "columnCustomDisplayInfos": {},
       "data": [
        [
         "{\"patient_id\": \"3c4f6a4d-9327-48f3-b5e5-d56120e03bf4\", \"gender\": \"Female\", \"age\": 58, \"department\": \"Emergency\", \"admission_time\": \"2025-09-21T01:25:05.038845\", \"discharge_time\": \"2025-09-23T06:25:05.038845\", \"bed_id\": 193, \"hospital_id\": 5}"
        ],
        [
         "{\"patient_id\": \"0ba2f27c-2d57-4908-99e4-a213ed08f065\", \"gender\": \"Female\", \"age\": 43, \"department\": \"Maternity\", \"admission_time\": \"2025-09-21T06:25:06.294223\", \"discharge_time\": \"2025-09-21T15:25:06.294223\", \"bed_id\": 31, \"hospital_id\": 3}"
        ],
        [
         "{\"patient_id\": \"87ecb86b-ccdd-4c1d-bc1e-179791f00ce2\", \"gender\": \"Male\", \"age\": 14, \"department\": \"Oncology\", \"admission_time\": \"2025-09-20T13:25:07.295149\", \"discharge_time\": \"2025-09-23T07:25:07.295149\", \"bed_id\": 468, \"hospital_id\": 3}"
        ],
        [
         "{\"patient_id\": \"061c6042-40f2-4aed-a453-48f8e8f8ab58\", \"gender\": \"Male\", \"age\": 54, \"department\": \"Pediatrics\", \"admission_time\": \"2025-09-25T02:25:08.295772\", \"discharge_time\": \"2025-09-24T05:25:08.295635\", \"bed_id\": 195, \"hospital_id\": 4}"
        ],
        [
         "{\"patient_id\": \"a57eace0-08bc-46d1-a839-9ad50bbc0cd6\", \"gender\": \"Female\", \"age\": 65, \"department\": \"Emergency\", \"admission_time\": \"2025-09-20T17:25:09.296344\", \"discharge_time\": \"2025-09-22T04:25:09.296344\", \"bed_id\": 51, \"hospital_id\": 7}"
        ],
        [
         "{\"patient_id\": \"6ad58d86-2058-4011-a350-25e7597e473d\", \"gender\": \"Female\", \"age\": 94, \"department\": \"Pediatrics\", \"admission_time\": \"2025-09-21T01:25:10.298410\", \"discharge_time\": \"2025-09-23T23:25:10.298410\", \"bed_id\": 35, \"hospital_id\": 7}"
        ],
        [
         "{\"patient_id\": \"308951c7-79b6-4461-a5d5-ebb11cb2a2c8\", \"gender\": \"Female\", \"age\": 88, \"department\": \"Emergency\", \"admission_time\": \"2025-09-20T15:25:11.299584\", \"discharge_time\": \"2025-09-21T01:25:11.299584\", \"bed_id\": 161, \"hospital_id\": 3}"
        ],
        [
         "{\"patient_id\": \"242159b6-a085-4f70-bd3e-344718f6fb6d\", \"gender\": \"Female\", \"age\": 80, \"department\": \"Pediatrics\", \"admission_time\": \"2025-09-22T17:25:12.300253\", \"discharge_time\": \"2025-09-23T15:25:12.300253\", \"bed_id\": 398, \"hospital_id\": 5}"
        ],
        [
         "{\"patient_id\": \"ba9e103f-b22d-4cc2-8cf6-3c56fd06f758\", \"gender\": \"Female\", \"age\": 67, \"department\": \"Pediatrics\", \"admission_time\": \"2025-09-21T14:25:13.301379\", \"discharge_time\": \"2025-09-22T00:25:13.301379\", \"bed_id\": 176, \"hospital_id\": 7}"
        ],
        [
         "{\"patient_id\": \"1eb560c6-3121-4f9e-a528-fe7d28641fa8\", \"gender\": \"Female\", \"age\": 71, \"department\": \"Cardiology\", \"admission_time\": \"2025-09-21T07:25:14.301824\", \"discharge_time\": \"2025-09-22T13:25:14.301824\", \"bed_id\": 206, \"hospital_id\": 3}"
        ],
        [
         "{\"patient_id\": \"257b3e80-7155-47a3-a35a-8e9d7addc9bd\", \"gender\": \"Female\", \"age\": 27, \"department\": \"Oncology\", \"admission_time\": \"2025-09-23T02:25:15.302262\", \"discharge_time\": \"2025-09-24T14:25:15.302262\", \"bed_id\": 424, \"hospital_id\": 5}"
        ],
        [
         "{\"patient_id\": \"828d0984-883c-472b-be04-6a56200acfa7\", \"gender\": \"Female\", \"age\": 26, \"department\": \"Surgery\", \"admission_time\": \"2025-09-24T16:25:16.303276\", \"discharge_time\": \"2025-09-25T07:25:16.303193\", \"bed_id\": 237, \"hospital_id\": 6}"
        ],
        [
         "{\"patient_id\": \"d0ad850f-ab84-443a-aa6b-c4b9f00883f7\", \"gender\": \"Male\", \"age\": 87, \"department\": \"Cardiology\", \"admission_time\": \"2025-09-20T18:25:17.303638\", \"discharge_time\": \"2025-09-21T04:25:17.303638\", \"bed_id\": 209, \"hospital_id\": 6}"
        ],
        [
         "{\"patient_id\": \"20a76e0c-eebd-4cd7-8a45-bfec77c392b3\", \"gender\": \"Male\", \"age\": 16, \"department\": \"Surgery\", \"admission_time\": \"2025-09-21T20:25:18.304209\", \"discharge_time\": \"2025-09-23T16:25:18.304209\", \"bed_id\": 165, \"hospital_id\": 5}"
        ],
        [
         "{\"patient_id\": \"65360648-4ccc-43fa-972a-fdcecb02fc3e\", \"gender\": \"Female\", \"age\": 74, \"department\": \"Pediatrics\", \"admission_time\": \"2025-09-22T23:25:19.305137\", \"discharge_time\": \"2025-09-25T06:25:19.305137\", \"bed_id\": 343, \"hospital_id\": 6}"
        ],
        [
         "{\"patient_id\": \"4a8e1a2e-eaa4-4e1f-8ea5-9c4aae36f17e\", \"gender\": \"Female\", \"age\": 6, \"department\": \"Emergency\", \"admission_time\": \"2025-09-21T17:25:20.305593\", \"discharge_time\": \"2025-09-24T09:25:20.305593\", \"bed_id\": 391, \"hospital_id\": 5}"
        ],
        [
         "{\"patient_id\": \"ee580a25-d9bd-4615-968f-f1edb8d6b970\", \"gender\": \"Male\", \"age\": 68, \"department\": \"Oncology\", \"admission_time\": \"2025-09-22T20:25:21.306525\", \"discharge_time\": \"2025-09-23T22:25:21.306525\", \"bed_id\": 429, \"hospital_id\": 7}"
        ],
        [
         "{\"patient_id\": \"4490eea4-8927-48ea-9855-fff45ec1c2bc\", \"gender\": \"Female\", \"age\": 91, \"department\": \"Emergency\", \"admission_time\": \"2025-09-21T16:25:22.306985\", \"discharge_time\": \"2025-09-21T19:25:22.306985\", \"bed_id\": 351, \"hospital_id\": 4}"
        ],
        [
         "{\"patient_id\": \"974a35fd-97bb-476c-8117-0990ee1b8b27\", \"gender\": \"Male\", \"age\": 30, \"department\": \"Pediatrics\", \"admission_time\": \"2025-09-22T02:25:23.307413\", \"discharge_time\": \"2025-09-23T19:25:23.307413\", \"bed_id\": 75, \"hospital_id\": 1}"
        ],
        [
         "{\"patient_id\": \"30572a3e-ff8e-4aa9-a6dc-35295c52a554\", \"gender\": \"Male\", \"age\": 41, \"department\": \"Maternity\", \"admission_time\": \"2025-09-22T14:25:24.307890\", \"discharge_time\": \"2025-09-25T08:25:24.307890\", \"bed_id\": 63, \"hospital_id\": 7}"
        ],
        [
         "{\"patient_id\": \"85a3311c-014c-48fd-829a-346dadb8cfe0\", \"gender\": \"Female\", \"age\": 44, \"department\": \"Oncology\", \"admission_time\": \"2025-09-23T12:25:25.308941\", \"discharge_time\": \"2025-09-24T02:25:25.308871\", \"bed_id\": 397, \"hospital_id\": 6}"
        ],
        [
         "{\"patient_id\": \"bf216871-150d-495b-96e0-1e62de110afd\", \"gender\": \"Male\", \"age\": 87, \"department\": \"Maternity\", \"admission_time\": \"2025-09-24T17:25:26.309377\", \"discharge_time\": \"2025-09-22T17:25:26.309307\", \"bed_id\": 107, \"hospital_id\": 7}"
        ],
        [
         "{\"patient_id\": \"ded430c3-f4bc-4602-b0ba-97370ff1926e\", \"gender\": \"Male\", \"age\": 30, \"department\": \"Pediatrics\", \"admission_time\": \"2025-09-22T13:25:27.310246\", \"discharge_time\": \"2025-09-23T01:25:27.310246\", \"bed_id\": 442, \"hospital_id\": 1}"
        ],
        [
         "{\"patient_id\": \"a80db7e2-07bb-41a6-81fd-1c9eb1e9b620\", \"gender\": \"Male\", \"age\": 56, \"department\": \"Emergency\", \"admission_time\": \"2025-09-25T14:25:28.310787\", \"discharge_time\": \"2025-09-22T20:25:28.310717\", \"bed_id\": 63, \"hospital_id\": 7}"
        ],
        [
         "{\"patient_id\": \"984e31d7-a3fb-4057-aae8-abb0af1eed4c\", \"gender\": \"Male\", \"age\": 98, \"department\": \"Maternity\", \"admission_time\": \"2025-09-20T23:25:55.329592\", \"discharge_time\": \"2025-09-21T20:25:55.329592\", \"bed_id\": 299, \"hospital_id\": 7}"
        ],
        [
         "{\"patient_id\": \"cedfe68e-c83a-429a-955a-812651388b3b\", \"gender\": \"Male\", \"age\": 86, \"department\": \"Pediatrics\", \"admission_time\": \"2025-09-21T13:25:56.330041\", \"discharge_time\": \"2025-09-22T07:25:56.330041\", \"bed_id\": 277, \"hospital_id\": 2}"
        ],
        [
         "{\"patient_id\": \"a38814ba-2cd6-4cd9-90a2-5b58681519ea\", \"gender\": \"Female\", \"age\": 81, \"department\": \"Oncology\", \"admission_time\": \"2025-09-20T14:25:57.330989\", \"discharge_time\": \"2025-09-20T17:25:57.330989\", \"bed_id\": 85, \"hospital_id\": 1}"
        ],
        [
         "{\"patient_id\": \"0c12741f-5efe-46d4-9aad-72f5021e97e0\", \"gender\": \"Male\", \"age\": 42, \"department\": \"Cardiology\", \"admission_time\": \"2025-09-22T13:25:58.331412\", \"discharge_time\": \"2025-09-22T15:25:58.331412\", \"bed_id\": 160, \"hospital_id\": 2}"
        ],
        [
         "{\"patient_id\": \"349a48dd-5377-4a3e-97e8-6846dc2b71e9\", \"gender\": \"Female\", \"age\": 68, \"department\": \"Emergency\", \"admission_time\": \"2025-09-21T21:25:59.332395\", \"discharge_time\": \"2025-09-22T01:25:59.332395\", \"bed_id\": 213, \"hospital_id\": 2}"
        ],
        [
         "{\"patient_id\": \"bf1ce393-e8a8-44ca-a9ff-318466c400cb\", \"gender\": \"Female\", \"age\": 47, \"department\": \"Cardiology\", \"admission_time\": \"2025-09-20T20:26:00.333624\", \"discharge_time\": \"2025-09-22T17:26:00.333624\", \"bed_id\": 74, \"hospital_id\": 4}"
        ],
        [
         "{\"patient_id\": \"71b6d971-489d-48da-8eee-8639eca2a9f7\", \"gender\": \"Male\", \"age\": 99, \"department\": \"Oncology\", \"admission_time\": \"2025-09-22T17:26:01.334409\", \"discharge_time\": \"2025-09-24T00:26:01.334409\", \"bed_id\": 260, \"hospital_id\": 4}"
        ],
        [
         "{\"patient_id\": \"a981f21c-6b8e-4040-aa4c-58c951977a6c\", \"gender\": \"Male\", \"age\": 3, \"department\": \"Maternity\", \"admission_time\": \"2025-09-21T19:26:02.335605\", \"discharge_time\": \"2025-09-23T02:26:02.335605\", \"bed_id\": 188, \"hospital_id\": 6}"
        ],
        [
         "{\"patient_id\": \"e6c5e6ef-5650-4351-a7e7-c21266d77b51\", \"gender\": \"Male\", \"age\": 13, \"department\": \"Oncology\", \"admission_time\": \"2025-09-21T16:26:03.336362\", \"discharge_time\": \"2025-09-22T14:26:03.336362\", \"bed_id\": 175, \"hospital_id\": 4}"
        ],
        [
         "{\"patient_id\": \"0c515e7a-e7fc-4c4e-a421-969f3e3b003f\", \"gender\": \"Male\", \"age\": 56, \"department\": \"ICU\", \"admission_time\": \"2025-09-23T08:26:04.336838\", \"discharge_time\": \"2025-09-23T12:26:04.336838\", \"bed_id\": 441, \"hospital_id\": 2}"
        ],
        [
         "{\"patient_id\": \"1b4a2b97-f6e0-42e3-8e7d-456336920139\", \"gender\": \"Male\", \"age\": 100, \"department\": \"Cardiology\", \"admission_time\": \"2025-09-23T05:26:05.337259\", \"discharge_time\": \"2025-09-25T00:26:05.337259\", \"bed_id\": 23, \"hospital_id\": 5}"
        ],
        [
         "{\"patient_id\": \"0d239eae-51f8-4819-ac77-cf2d22de154e\", \"gender\": \"Female\", \"age\": 67, \"department\": \"Emergency\", \"admission_time\": \"2025-09-21T16:26:06.338215\", \"discharge_time\": \"2025-09-24T11:26:06.338215\", \"bed_id\": 339, \"hospital_id\": 7}"
        ],
        [
         "{\"patient_id\": \"6381bf1e-9383-4f20-b6a5-2e2215604e23\", \"gender\": \"Female\", \"age\": 36, \"department\": \"Cardiology\", \"admission_time\": \"2025-09-21T13:26:07.338640\", \"discharge_time\": \"2025-09-22T07:26:07.338640\", \"bed_id\": 146, \"hospital_id\": 7}"
        ],
        [
         "{\"patient_id\": \"5ca0ebc6-0ab6-435d-91d3-9c939e2dfb9f\", \"gender\": \"Male\", \"age\": 13, \"department\": \"Cardiology\", \"admission_time\": \"2025-09-22T15:26:08.339078\", \"discharge_time\": \"2025-09-24T07:26:08.339078\", \"bed_id\": 207, \"hospital_id\": 5}"
        ],
        [
         "{\"patient_id\": \"edf0f166-6d42-447d-89dd-2f8f1277c55c\", \"gender\": \"Female\", \"age\": 22, \"department\": \"Emergency\", \"admission_time\": \"2025-09-21T22:52:09.836955\", \"discharge_time\": \"2025-09-23T17:52:09.836955\", \"bed_id\": 406, \"hospital_id\": 5}"
        ],
        [
         "{\"patient_id\": \"edf0f166-6d42-447d-89dd-2f8f1277c55c\", \"gender\": \"Female\", \"age\": 22, \"department\": \"Emergency\", \"admission_time\": \"2025-09-21T22:52:09.836955\", \"discharge_time\": \"2025-09-23T17:52:09.836955\", \"bed_id\": 406, \"hospital_id\": 5}"
        ],
        [
         "{\"patient_id\": \"edf0f166-6d42-447d-89dd-2f8f1277c55c\", \"gender\": \"Female\", \"age\": 22, \"department\": \"Emergency\", \"admission_time\": \"2025-09-21T22:52:09.836955\", \"discharge_time\": \"2025-09-23T17:52:09.836955\", \"bed_id\": 406, \"hospital_id\": 5}"
        ],
        [
         "{\"patient_id\": \"edf0f166-6d42-447d-89dd-2f8f1277c55c\", \"gender\": \"Female\", \"age\": 22, \"department\": \"Emergency\", \"admission_time\": \"2025-09-21T22:52:09.836955\", \"discharge_time\": \"2025-09-23T17:52:09.836955\", \"bed_id\": 406, \"hospital_id\": 5}"
        ],
        [
         "{\"patient_id\": \"edf0f166-6d42-447d-89dd-2f8f1277c55c\", \"gender\": \"Female\", \"age\": 22, \"department\": \"Emergency\", \"admission_time\": \"2025-09-21T22:52:09.836955\", \"discharge_time\": \"2025-09-23T17:52:09.836955\", \"bed_id\": 406, \"hospital_id\": 5}"
        ],
        [
         "{\"patient_id\": \"4ea3bc47-d7d4-43e1-96ed-3111a373541a\", \"gender\": \"Female\", \"age\": 86, \"department\": \"Oncology\", \"admission_time\": \"2025-09-22T03:58:14.077268\", \"discharge_time\": \"2025-09-24T21:58:14.077268\", \"bed_id\": 361, \"hospital_id\": 1}"
        ],
        [
         "{\"patient_id\": \"da11ec7a-4f7d-44b8-984d-4cdd2defc385\", \"gender\": \"Female\", \"age\": 113, \"department\": \"Cardiology\", \"admission_time\": \"2025-09-20T18:00:16.154970\", \"discharge_time\": \"2025-09-21T13:00:16.154970\", \"bed_id\": 154, \"hospital_id\": 3}"
        ],
        [
         "{\"patient_id\": \"a685b0fa-e4ca-454e-9c5c-c317944024a9\", \"gender\": \"Female\", \"age\": 68, \"department\": \"Pediatrics\", \"admission_time\": \"2025-09-24T09:08:46.494041\", \"discharge_time\": \"2025-09-23T11:08:46.493967\", \"bed_id\": 299, \"hospital_id\": 4}"
        ],
        [
         "{\"patient_id\": \"d023dfac-f7c4-4b1b-8379-03f252741adb\", \"gender\": \"Female\", \"age\": 61, \"department\": \"Emergency\", \"admission_time\": \"2025-09-24T18:00:35.166056\", \"discharge_time\": \"2025-09-22T21:00:35.165978\", \"bed_id\": 105, \"hospital_id\": 4}"
        ],
        [
         "{\"patient_id\": \"06d4204b-568d-43bc-9c65-03408e734457\", \"gender\": \"Female\", \"age\": 100, \"department\": \"Pediatrics\", \"admission_time\": \"2025-09-20T07:03:56.301354\", \"discharge_time\": \"2025-09-22T10:03:56.301354\", \"bed_id\": 155, \"hospital_id\": 5}"
        ],
        [
         "{\"patient_id\": \"396b17ce-1129-4115-b8f7-c1be5248b51a\", \"gender\": \"Female\", \"age\": 58, \"department\": \"Pediatrics\", \"admission_time\": \"2025-09-20T14:04:09.310741\", \"discharge_time\": \"2025-09-21T12:04:09.310741\", \"bed_id\": 136, \"hospital_id\": 7}"
        ],
        [
         "{\"patient_id\": \"18788b5b-e9a6-4b02-91d3-4c5a34608749\", \"gender\": \"Male\", \"age\": 64, \"department\": \"Cardiology\", \"admission_time\": \"2025-09-22T00:02:01.222452\", \"discharge_time\": \"2025-09-24T06:02:01.222452\", \"bed_id\": 437, \"hospital_id\": 4}"
        ],
        [
         "{\"patient_id\": \"22e9400f-d88a-49a5-bdb7-90b5b3452833\", \"gender\": \"Female\", \"age\": 22, \"department\": \"Pediatrics\", \"admission_time\": \"2025-09-25T06:01:47.212889\", \"discharge_time\": \"2025-09-23T12:01:47.212815\", \"bed_id\": 390, \"hospital_id\": 2}"
        ],
        [
         "{\"patient_id\": \"07f87482-c12f-4ed3-a9f9-f4394460387d\", \"gender\": \"Male\", \"age\": 60, \"department\": \"Cardiology\", \"admission_time\": \"2025-09-23T10:02:57.261389\", \"discharge_time\": \"2025-09-24T03:02:57.261315\", \"bed_id\": 284, \"hospital_id\": 4}"
        ],
        [
         "{\"patient_id\": \"60f7cab7-c941-4092-aaeb-ccd91dd8b18f\", \"gender\": \"Female\", \"age\": 70, \"department\": \"Cardiology\", \"admission_time\": \"2025-09-24T20:59:42.134277\", \"discharge_time\": \"2025-09-23T21:59:42.134209\", \"bed_id\": 153, \"hospital_id\": 3}"
        ],
        [
         "{\"patient_id\": \"2e088773-ec58-42f3-bb80-31a3585bb0aa\", \"gender\": \"Female\", \"age\": 146, \"department\": \"Maternity\", \"admission_time\": \"2025-09-25T09:06:46.417325\", \"discharge_time\": \"2025-09-24T08:06:46.417252\", \"bed_id\": 400, \"hospital_id\": 3}"
        ],
        [
         "{\"patient_id\": \"cab2d253-7ff7-4444-8eca-5664718df858\", \"gender\": \"Female\", \"age\": 27, \"department\": \"Emergency\", \"admission_time\": \"2025-09-25T18:09:00.501740\", \"discharge_time\": \"2025-09-23T01:09:00.501669\", \"bed_id\": 357, \"hospital_id\": 5}"
        ],
        [
         "{\"patient_id\": \"7ea5ce0d-597c-45fb-8ccb-cdc966a59517\", \"gender\": \"Female\", \"age\": 97, \"department\": \"Maternity\", \"admission_time\": \"2025-09-21T15:01:55.217856\", \"discharge_time\": \"2025-09-24T07:01:55.217856\", \"bed_id\": 179, \"hospital_id\": 4}"
        ],
        [
         "{\"patient_id\": \"b98b665d-e533-48c6-ba93-4ab01a67061f\", \"gender\": \"Female\", \"age\": 13, \"department\": \"Cardiology\", \"admission_time\": \"2025-09-25T12:01:56.218376\", \"discharge_time\": \"2025-09-23T01:01:56.218308\", \"bed_id\": 227, \"hospital_id\": 7}"
        ],
        [
         "{\"patient_id\": \"246743ec-5f67-4d92-8e73-2b0d278f4e32\", \"gender\": \"Female\", \"age\": 73, \"department\": \"Emergency\", \"admission_time\": \"2025-09-21T14:06:02.384671\", \"discharge_time\": \"2025-09-24T03:06:02.384671\", \"bed_id\": 409, \"hospital_id\": 1}"
        ],
        [
         "{\"patient_id\": \"0267d11a-22d3-42e5-9355-01023c63d169\", \"gender\": \"Female\", \"age\": 22, \"department\": \"Emergency\", \"admission_time\": \"2025-09-23T04:01:11.187045\", \"discharge_time\": \"2025-09-25T07:01:11.187045\", \"bed_id\": 221, \"hospital_id\": 1}"
        ],
        [
         "{\"patient_id\": \"ac7f8b60-16ff-4082-968e-414e24f220a0\", \"gender\": \"Female\", \"age\": 14, \"department\": \"Cardiology\", \"admission_time\": \"2025-09-22T19:06:07.387341\", \"discharge_time\": \"2025-09-25T11:06:07.387341\", \"bed_id\": 100, \"hospital_id\": 7}"
        ],
        [
         "{\"patient_id\": \"57896564-0ac8-4a03-b1ab-649c13b117ec\", \"gender\": \"Female\", \"age\": 48, \"department\": \"Pediatrics\", \"admission_time\": \"2025-09-21T12:56:21.003518\", \"discharge_time\": \"2025-09-22T10:56:21.003518\", \"bed_id\": 404, \"hospital_id\": 1}"
        ],
        [
         "{\"patient_id\": \"ca78279a-1bb1-4fad-b81e-3cf7addc27f9\", \"gender\": \"Female\", \"age\": 31, \"department\": \"Cardiology\", \"admission_time\": \"2025-09-22T21:04:47.337583\", \"discharge_time\": \"2025-09-23T02:04:47.337583\", \"bed_id\": 123, \"hospital_id\": 5}"
        ],
        [
         "{\"patient_id\": \"a3ed504a-95cc-4afc-831b-d8471c1937df\", \"gender\": \"Female\", \"age\": 100, \"department\": \"Oncology\", \"admission_time\": \"2025-09-23T14:00:40.169223\", \"discharge_time\": \"2025-09-23T00:00:40.169149\", \"bed_id\": 235, \"hospital_id\": 6}"
        ],
        [
         "{\"patient_id\": \"19bbb418-b6d8-471f-84e7-668dcb75b4b8\", \"gender\": \"Female\", \"age\": 50, \"department\": \"Pediatrics\", \"admission_time\": \"2025-09-20T23:04:00.304612\", \"discharge_time\": \"2025-09-21T06:04:00.304612\", \"bed_id\": 421, \"hospital_id\": 4}"
        ],
        [
         "{\"patient_id\": \"9e219929-bcfc-4d40-86f2-4c0f17fcbfcc\", \"gender\": \"Female\", \"age\": 23, \"department\": \"Pediatrics\", \"admission_time\": \"2025-09-22T22:09:18.515730\", \"discharge_time\": \"2025-09-25T00:09:18.515730\", \"bed_id\": 409, \"hospital_id\": 1}"
        ],
        [
         "{\"patient_id\": \"8ee9a78e-d486-46b1-91ba-72a5d6dced7f\", \"gender\": \"Female\", \"age\": 85, \"department\": \"Pediatrics\", \"admission_time\": \"2025-09-22T17:04:15.316382\", \"discharge_time\": \"2025-09-23T06:04:15.316382\", \"bed_id\": 257, \"hospital_id\": 7}"
        ],
        [
         "{\"patient_id\": \"f1bedbee-ada5-40b1-9ee7-80564acea33f\", \"gender\": \"Female\", \"age\": 67, \"department\": \"Surgery\", \"admission_time\": \"2025-09-25T09:25:44.323352\", \"discharge_time\": \"2025-09-22T03:25:44.323270\", \"bed_id\": 390, \"hospital_id\": 3}"
        ],
        [
         "{\"patient_id\": \"71aa8d4f-db08-4838-945e-7e32713e8b8a\", \"gender\": \"Female\", \"age\": 90, \"department\": \"Pediatrics\", \"admission_time\": \"2025-09-22T09:09:32.523287\", \"discharge_time\": \"2025-09-23T17:09:32.523287\", \"bed_id\": 496, \"hospital_id\": 5}"
        ],
        [
         "{\"patient_id\": \"debb9cdd-da64-4912-a6d1-e13dc6633855\", \"gender\": \"Female\", \"age\": 18, \"department\": \"Cardiology\", \"admission_time\": \"2025-09-21T06:01:31.201409\", \"discharge_time\": \"2025-09-23T07:01:31.201409\", \"bed_id\": 416, \"hospital_id\": 5}"
        ],
        [
         "{\"patient_id\": \"0e293343-5863-4166-9cd8-24868ec966d0\", \"gender\": \"Female\", \"age\": 89, \"department\": \"Emergency\", \"admission_time\": \"2025-09-25T02:08:01.468113\", \"discharge_time\": \"2025-09-23T13:08:01.468039\", \"bed_id\": 489, \"hospital_id\": 5}"
        ],
        [
         "{\"patient_id\": \"0c1aebc7-5df1-4c35-a111-59e21e971838\", \"gender\": \"Female\", \"age\": 148, \"department\": \"Pediatrics\", \"admission_time\": \"2025-09-20T23:00:56.178918\", \"discharge_time\": \"2025-09-22T12:00:56.178918\", \"bed_id\": 426, \"hospital_id\": 4}"
        ],
        [
         "{\"patient_id\": \"c1e1d441-8d01-45fd-9202-800007d12e44\", \"gender\": \"Female\", \"age\": 71, \"department\": \"Pediatrics\", \"admission_time\": \"2025-09-22T07:55:35.976015\", \"discharge_time\": \"2025-09-23T00:55:35.976015\", \"bed_id\": 484, \"hospital_id\": 6}"
        ],
        [
         "{\"patient_id\": \"6a9d83d3-8cad-4b0d-bb93-0d17f94b83a3\", \"gender\": \"Female\", \"age\": 63, \"department\": \"Cardiology\", \"admission_time\": \"2025-09-22T21:59:24.123511\", \"discharge_time\": \"2025-09-24T16:59:24.123511\", \"bed_id\": 227, \"hospital_id\": 5}"
        ],
        [
         "{\"patient_id\": \"4ce90f3c-aec3-48bd-abef-1e01799c8c7b\", \"gender\": \"Female\", \"age\": 47, \"department\": \"Pediatrics\", \"admission_time\": \"2025-09-20T23:59:54.142297\", \"discharge_time\": \"2025-09-23T10:59:54.142297\", \"bed_id\": 404, \"hospital_id\": 3}"
        ],
        [
         "{\"patient_id\": \"46b14caf-d3c8-41b8-9dc7-0d45b45bdb7a\", \"gender\": \"Female\", \"age\": 15, \"department\": \"Cardiology\", \"admission_time\": \"2025-09-20T10:58:53.101627\", \"discharge_time\": \"2025-09-21T00:58:53.101627\", \"bed_id\": 295, \"hospital_id\": 2}"
        ],
        [
         "{\"patient_id\": \"4388abb1-2f41-4557-b8cc-6244441c9681\", \"gender\": \"Female\", \"age\": 57, \"department\": \"Pediatrics\", \"admission_time\": \"2025-09-21T13:54:17.920069\", \"discharge_time\": \"2025-09-24T04:54:17.920069\", \"bed_id\": 309, \"hospital_id\": 6}"
        ],
        [
         "{\"patient_id\": \"554d66a8-25b6-4e7c-a431-18a6480af8b6\", \"gender\": \"Female\", \"age\": 16, \"department\": \"Cardiology\", \"admission_time\": \"2025-09-22T16:55:17.962603\", \"discharge_time\": \"2025-09-25T05:55:17.962603\", \"bed_id\": 310, \"hospital_id\": 5}"
        ],
        [
         "{\"patient_id\": \"803117db-5203-4716-ad06-e0fe0b8468ba\", \"gender\": \"Female\", \"age\": 36, \"department\": \"Oncology\", \"admission_time\": \"2025-09-25T20:05:01.345861\", \"discharge_time\": \"2025-09-24T04:05:01.345783\", \"bed_id\": 377, \"hospital_id\": 1}"
        ],
        [
         "{\"patient_id\": \"1b303348-6c67-44c2-a383-a1e3f0ff0be7\", \"gender\": \"Female\", \"age\": 61, \"department\": \"Cardiology\", \"admission_time\": \"2025-09-21T03:00:52.176959\", \"discharge_time\": \"2025-09-23T19:00:52.176959\", \"bed_id\": 393, \"hospital_id\": 1}"
        ],
        [
         "{\"patient_id\": \"1f6e9867-c4d4-4652-95a3-a6c2beda7327\", \"gender\": \"Female\", \"age\": 69, \"department\": \"Cardiology\", \"admission_time\": \"2025-09-21T12:03:44.291952\", \"discharge_time\": \"2025-09-22T06:03:44.291952\", \"bed_id\": 452, \"hospital_id\": 2}"
        ],
        [
         "{\"patient_id\": \"e40fd0f7-73de-4c29-ac7c-cc9307265ae3\", \"gender\": \"Female\", \"age\": 130, \"department\": \"Pediatrics\", \"admission_time\": \"2025-09-23T07:01:52.215622\", \"discharge_time\": \"2025-09-23T17:01:52.215622\", \"bed_id\": 359, \"hospital_id\": 6}"
        ],
        [
         "{\"patient_id\": \"dcdc4afa-cd76-4b03-a92d-8008d8f982c0\", \"gender\": \"Male\", \"age\": 51, \"department\": \"Cardiology\", \"admission_time\": \"2025-09-25T23:07:37.452702\", \"discharge_time\": \"2025-09-21T06:07:37.452632\", \"bed_id\": 127, \"hospital_id\": 6}"
        ],
        [
         "{\"patient_id\": \"16012ccc-580b-4651-9a06-148698211075\", \"gender\": \"Male\", \"age\": 80, \"department\": \"Cardiology\", \"admission_time\": \"2025-09-24T09:55:11.959275\", \"discharge_time\": \"2025-09-22T00:55:11.959188\", \"bed_id\": 131, \"hospital_id\": 4}"
        ],
        [
         "{\"patient_id\": \"aedc0f9b-3486-4d2a-998f-e2f79bcc3c6c\", \"gender\": \"Female\", \"age\": 89, \"department\": \"Pediatrics\", \"admission_time\": \"2025-09-20T20:54:52.944649\", \"discharge_time\": \"2025-09-22T22:54:52.944649\", \"bed_id\": 151, \"hospital_id\": 1}"
        ],
        [
         "{\"patient_id\": \"ac877f16-b4f6-4c0e-8017-8dcab16b4a50\", \"gender\": \"Female\", \"age\": 77, \"department\": \"Cardiology\", \"admission_time\": \"2025-09-20T16:09:01.502120\", \"discharge_time\": \"2025-09-23T12:09:01.502120\", \"bed_id\": 453, \"hospital_id\": 7}"
        ],
        [
         "{\"patient_id\": \"11bdb318-8ffb-4f9d-8763-2c69474a86a7\", \"gender\": \"Female\", \"age\": 53, \"department\": \"Oncology\", \"admission_time\": \"2025-09-21T06:53:28.887362\", \"discharge_time\": \"2025-09-22T19:53:28.887362\", \"bed_id\": 136, \"hospital_id\": 7}"
        ],
        [
         "{\"patient_id\": \"ee7eca74-6cea-451a-bc4a-f89bbf3da48c\", \"gender\": \"Female\", \"age\": 41, \"department\": \"Pediatrics\", \"admission_time\": \"2025-09-25T21:05:00.345405\", \"discharge_time\": \"2025-09-23T14:05:00.345334\", \"bed_id\": 55, \"hospital_id\": 5}"
        ],
        [
         "{\"patient_id\": \"e8106db6-9279-4407-b7b2-be3c77b7c7d7\", \"gender\": \"Female\", \"age\": 10, \"department\": \"Pediatrics\", \"admission_time\": \"2025-09-20T09:07:15.434616\", \"discharge_time\": \"2025-09-22T18:07:15.434616\", \"bed_id\": 216, \"hospital_id\": 3}"
        ],
        [
         "{\"patient_id\": \"b9577b2c-f359-4d04-9c6c-df007489381e\", \"gender\": \"Female\", \"age\": 49, \"department\": \"Cardiology\", \"admission_time\": \"2025-09-23T01:57:50.061389\", \"discharge_time\": \"2025-09-25T18:57:50.061389\", \"bed_id\": 181, \"hospital_id\": 1}"
        ],
        [
         "{\"patient_id\": \"b6fe2fb2-166c-4042-8087-041595b1d2ba\", \"gender\": \"Female\", \"age\": 60, \"department\": \"Pediatrics\", \"admission_time\": \"2025-09-23T02:10:34.568474\", \"discharge_time\": \"2025-09-24T05:10:34.568474\", \"bed_id\": 463, \"hospital_id\": 1}"
        ],
        [
         "{\"patient_id\": \"39afc638-34fb-4d38-b454-49f1b6fe3ad2\", \"gender\": \"Female\", \"age\": 24, \"department\": \"Pediatrics\", \"admission_time\": \"2025-09-21T19:53:26.886058\", \"discharge_time\": \"2025-09-23T23:53:26.886058\", \"bed_id\": 375, \"hospital_id\": 5}"
        ],
        [
         "{\"patient_id\": \"dc0a9e1d-a239-4410-b62d-21c351b923b7\", \"gender\": \"Female\", \"age\": 148, \"department\": \"Pediatrics\", \"admission_time\": \"2025-09-21T06:59:19.119903\", \"discharge_time\": \"2025-09-22T21:59:19.119903\", \"bed_id\": 66, \"hospital_id\": 4}"
        ],
        [
         "{\"patient_id\": \"752d3191-21ab-42f1-be19-599550bb7f83\", \"gender\": \"Male\", \"age\": 63, \"department\": \"Pediatrics\", \"admission_time\": \"2025-09-26T04:58:48.098833\", \"discharge_time\": \"2025-09-25T15:58:48.098756\", \"bed_id\": 354, \"hospital_id\": 1}"
        ],
        [
         "{\"patient_id\": \"561fd35e-f60d-4948-ba46-be874fb653ad\", \"gender\": \"Female\", \"age\": 55, \"department\": \"Pediatrics\", \"admission_time\": \"2025-09-23T04:09:19.516171\", \"discharge_time\": \"2025-09-25T07:09:19.516171\", \"bed_id\": 420, \"hospital_id\": 5}"
        ],
        [
         "{\"patient_id\": \"037f3a5d-b7b1-499e-9536-50c3c995304e\", \"gender\": \"Female\", \"age\": 97, \"department\": \"Pediatrics\", \"admission_time\": \"2025-09-21T21:59:05.110310\", \"discharge_time\": \"2025-09-24T00:59:05.110310\", \"bed_id\": 277, \"hospital_id\": 5}"
        ],
        [
         "{\"patient_id\": \"b5fb265c-8b88-44d3-8bc6-d1da59982a22\", \"gender\": \"Female\", \"age\": 35, \"department\": \"Pediatrics\", \"admission_time\": \"2025-09-23T02:53:53.903079\", \"discharge_time\": \"2025-09-24T23:53:53.903079\", \"bed_id\": 167, \"hospital_id\": 5}"
        ],
        [
         "{\"patient_id\": \"a00599a6-46c3-4375-9807-8cbe207dd1a2\", \"gender\": \"Female\", \"age\": 66, \"department\": \"Pediatrics\", \"admission_time\": \"2025-09-21T02:05:48.374013\", \"discharge_time\": \"2025-09-23T13:05:48.374013\", \"bed_id\": 393, \"hospital_id\": 7}"
        ],
        [
         "{\"patient_id\": \"0a48702b-688f-4d6b-9fa3-d4f71c1586d7\", \"gender\": \"Male\", \"age\": 58, \"department\": \"Pediatrics\", \"admission_time\": \"2025-09-24T23:55:07.956007\", \"discharge_time\": \"2025-09-25T23:55:07.955927\", \"bed_id\": 379, \"hospital_id\": 3}"
        ],
        [
         "{\"patient_id\": \"2a97d1db-9c83-4e92-b5bc-9a16c2911177\", \"gender\": \"Female\", \"age\": 88, \"department\": \"Cardiology\", \"admission_time\": \"2025-09-21T16:53:47.899868\", \"discharge_time\": \"2025-09-22T19:53:47.899868\", \"bed_id\": 292, \"hospital_id\": 3}"
        ],
        [
         "{\"patient_id\": \"86b3c931-3966-43d6-a7de-c3a0f1aea38f\", \"gender\": \"Female\", \"age\": 43, \"department\": \"Pediatrics\", \"admission_time\": \"2025-09-21T19:06:32.406655\", \"discharge_time\": \"2025-09-23T16:06:32.406655\", \"bed_id\": 423, \"hospital_id\": 3}"
        ],
        [
         "{\"patient_id\": \"7e6dd638-915b-4477-b932-96675de1d100\", \"gender\": \"Female\", \"age\": 39, \"department\": \"Maternity\", \"admission_time\": \"2025-09-21T22:03:22.278460\", \"discharge_time\": \"2025-09-23T16:03:22.278460\", \"bed_id\": 111, \"hospital_id\": 5}"
        ],
        [
         "{\"patient_id\": \"088940c5-8d97-4162-a712-9717c79c5a89\", \"gender\": \"Female\", \"age\": 45, \"department\": \"Cardiology\", \"admission_time\": \"2025-09-20T10:10:40.571491\", \"discharge_time\": \"2025-09-21T07:10:40.571491\", \"bed_id\": 343, \"hospital_id\": 4}"
        ],
        [
         "{\"patient_id\": \"3d3e4067-e81c-40a0-b395-8273387f54c2\", \"gender\": \"Female\", \"age\": 62, \"department\": \"Pediatrics\", \"admission_time\": \"2025-09-20T12:07:21.439841\", \"discharge_time\": \"2025-09-23T11:07:21.439841\", \"bed_id\": 471, \"hospital_id\": 7}"
        ],
        [
         "{\"patient_id\": \"ba1492c1-18ac-4ed9-89a3-68c51635a333\", \"gender\": \"Female\", \"age\": 75, \"department\": \"Oncology\", \"admission_time\": \"2025-09-22T20:55:00.949444\", \"discharge_time\": \"2025-09-23T11:55:00.949444\", \"bed_id\": 423, \"hospital_id\": 6}"
        ],
        [
         "{\"patient_id\": \"e567d857-6c13-4bb3-b89b-6acb67f0da5e\", \"gender\": \"Female\", \"age\": 125, \"department\": \"Pediatrics\", \"admission_time\": \"2025-09-20T15:02:47.253965\", \"discharge_time\": \"2025-09-22T10:02:47.253965\", \"bed_id\": 16, \"hospital_id\": 5}"
        ],
        [
         "{\"patient_id\": \"a975ad85-415e-4709-b0e6-8c18a955821b\", \"gender\": \"Female\", \"age\": 69, \"department\": \"Cardiology\", \"admission_time\": \"2025-09-21T09:02:48.254423\", \"discharge_time\": \"2025-09-23T03:02:48.254423\", \"bed_id\": 492, \"hospital_id\": 5}"
        ],
        [
         "{\"patient_id\": \"436b45af-e04b-4f64-a89d-6ce95ef9cbed\", \"gender\": \"Female\", \"age\": 77, \"department\": \"Pediatrics\", \"admission_time\": \"2025-09-21T20:06:38.410597\", \"discharge_time\": \"2025-09-24T09:06:38.410597\", \"bed_id\": 145, \"hospital_id\": 7}"
        ],
        [
         "{\"patient_id\": \"9e137561-a155-4a80-a869-f986f7403b95\", \"gender\": \"Female\", \"age\": 34, \"department\": \"Cardiology\", \"admission_time\": \"2025-09-20T21:01:02.182396\", \"discharge_time\": \"2025-09-22T00:01:02.182396\", \"bed_id\": 334, \"hospital_id\": 5}"
        ],
        [
         "{\"patient_id\": \"dfd26c42-2e14-4413-8c6e-4730adf68153\", \"gender\": \"Female\", \"age\": 46, \"department\": \"Pediatrics\", \"admission_time\": \"2025-09-20T17:57:08.035881\", \"discharge_time\": \"2025-09-23T12:57:08.035881\", \"bed_id\": 463, \"hospital_id\": 6}"
        ],
        [
         "{\"patient_id\": \"c9ab7343-718e-4921-bfa3-8fcc957f10c8\", \"gender\": \"Female\", \"age\": 46, \"department\": \"Cardiology\", \"admission_time\": \"2025-09-22T22:01:32.202346\", \"discharge_time\": \"2025-09-25T17:01:32.202346\", \"bed_id\": 343, \"hospital_id\": 6}"
        ],
        [
         "{\"patient_id\": \"b002d94a-108c-4d4a-ac22-a33073ff9ead\", \"gender\": \"Female\", \"age\": 48, \"department\": \"Pediatrics\", \"admission_time\": \"2025-09-20T08:57:52.062329\", \"discharge_time\": \"2025-09-22T19:57:52.062329\", \"bed_id\": 284, \"hospital_id\": 1}"
        ],
        [
         "{\"patient_id\": \"03c51c58-b04b-4f0f-91fc-e97c64fff92e\", \"gender\": \"Female\", \"age\": 22, \"department\": \"Cardiology\", \"admission_time\": \"2025-09-21T16:00:48.173735\", \"discharge_time\": \"2025-09-23T14:00:48.173735\", \"bed_id\": 283, \"hospital_id\": 3}"
        ],
        [
         "{\"patient_id\": \"e3966f0a-7c1b-4059-934f-876912c51fdb\", \"gender\": \"Female\", \"age\": 67, \"department\": \"Pediatrics\", \"admission_time\": \"2025-09-20T12:54:29.928226\", \"discharge_time\": \"2025-09-22T21:54:29.928226\", \"bed_id\": 245, \"hospital_id\": 5}"
        ],
        [
         "{\"patient_id\": \"90c181f6-d110-4a8d-9838-924ce5a1df68\", \"gender\": \"Female\", \"age\": 24, \"department\": \"Emergency\", \"admission_time\": \"2025-09-25T20:06:21.399262\", \"discharge_time\": \"2025-09-24T13:06:21.399182\", \"bed_id\": 64, \"hospital_id\": 4}"
        ],
        [
         "{\"patient_id\": \"f3e51ebc-ed39-4f3b-8081-744c0561cb2a\", \"gender\": \"Female\", \"age\": 71, \"department\": \"Emergency\", \"admission_time\": \"2025-09-22T02:57:07.035057\", \"discharge_time\": \"2025-09-24T18:57:07.035057\", \"bed_id\": 483, \"hospital_id\": 2}"
        ],
        [
         "{\"patient_id\": \"18cd1d59-f5f3-486c-92ba-4a9cd037315d\", \"gender\": \"Female\", \"age\": 62, \"department\": \"Pediatrics\", \"admission_time\": \"2025-09-22T22:06:20.398393\", \"discharge_time\": \"2025-09-24T21:06:20.398393\", \"bed_id\": 149, \"hospital_id\": 6}"
        ],
        [
         "{\"patient_id\": \"b19014f1-2435-4307-ba89-8f4ef28c3477\", \"gender\": \"Female\", \"age\": 50, \"department\": \"Maternity\", \"admission_time\": \"2025-09-20T13:56:29.010809\", \"discharge_time\": \"2025-09-21T11:56:29.010809\", \"bed_id\": 253, \"hospital_id\": 1}"
        ],
        [
         "{\"patient_id\": \"0b939a6b-b1e2-4b29-97dd-14513300c0bd\", \"gender\": \"Female\", \"age\": 90, \"department\": \"Pediatrics\", \"admission_time\": \"2025-09-22T14:57:14.039994\", \"discharge_time\": \"2025-09-24T15:57:14.039994\", \"bed_id\": 357, \"hospital_id\": 5}"
        ],
        [
         "{\"patient_id\": \"bc30df40-fa39-49db-80ab-03345241631c\", \"gender\": \"Female\", \"age\": 33, \"department\": \"Maternity\", \"admission_time\": \"2025-09-22T04:59:56.143189\", \"discharge_time\": \"2025-09-24T07:59:56.143189\", \"bed_id\": 454, \"hospital_id\": 4}"
        ],
        [
         "{\"patient_id\": \"e5799775-d827-419d-8172-bf286db3d042\", \"gender\": \"Female\", \"age\": 39, \"department\": \"Oncology\", \"admission_time\": \"2025-09-22T04:02:52.257067\", \"discharge_time\": \"2025-09-24T07:02:52.257067\", \"bed_id\": 306, \"hospital_id\": 5}"
        ],
        [
         "{\"patient_id\": \"418bd70d-fefa-4d85-b4b8-d7154950f534\", \"gender\": \"Female\", \"age\": 58, \"department\": \"Cardiology\", \"admission_time\": \"2025-09-21T05:06:00.383783\", \"discharge_time\": \"2025-09-24T03:06:00.383783\", \"bed_id\": 472, \"hospital_id\": 4}"
        ],
        [
         "{\"patient_id\": \"c1cdd61d-21b3-4942-a405-b98b2d48093e\", \"gender\": \"Female\", \"age\": 54, \"department\": \"Cardiology\", \"admission_time\": \"2025-09-21T10:00:21.157842\", \"discharge_time\": \"2025-09-23T18:00:21.157842\", \"bed_id\": 425, \"hospital_id\": 5}"
        ],
        [
         "{\"patient_id\": \"efd1cdbf-4f2f-4ac8-a6c9-dd86c622052a\", \"gender\": \"Female\", \"age\": 91, \"department\": \"Pediatrics\", \"admission_time\": \"2025-09-23T09:25:48.325144\", \"discharge_time\": \"2025-09-24T09:25:48.325062\", \"bed_id\": 40, \"hospital_id\": 5}"
        ],
        [
         "{\"patient_id\": \"65a6c2d3-07cd-4e6b-9e5b-0667daa7551d\", \"gender\": \"Female\", \"age\": 14, \"department\": \"Cardiology\", \"admission_time\": \"2025-09-22T20:25:50.325971\", \"discharge_time\": \"2025-09-24T21:25:50.325971\", \"bed_id\": 263, \"hospital_id\": 4}"
        ],
        [
         "{\"patient_id\": \"82000744-29ca-4fb9-b14b-17c7d1c9ee5b\", \"gender\": \"Female\", \"age\": 51, \"department\": \"Pediatrics\", \"admission_time\": \"2025-09-20T08:53:13.877573\", \"discharge_time\": \"2025-09-21T01:53:13.877573\", \"bed_id\": 421, \"hospital_id\": 3}"
        ],
        [
         "{\"patient_id\": \"5c2fad88-55d9-48e3-9690-962e55ee9e42\", \"gender\": \"Female\", \"age\": 142, \"department\": \"Emergency\", \"admission_time\": \"2025-09-21T15:56:06.996287\", \"discharge_time\": \"2025-09-23T06:56:06.996287\", \"bed_id\": 174, \"hospital_id\": 3}"
        ],
        [
         "{\"patient_id\": \"ec3c03e6-aebd-4ac4-a645-9e400519be49\", \"gender\": \"Female\", \"age\": 82, \"department\": \"Pediatrics\", \"admission_time\": \"2025-09-22T14:58:18.079416\", \"discharge_time\": \"2025-09-25T13:58:18.079416\", \"bed_id\": 300, \"hospital_id\": 6}"
        ],
        [
         "{\"patient_id\": \"6fb5b956-cd63-47da-9c9b-0aecd350a04a\", \"gender\": \"Female\", \"age\": 88, \"department\": \"Maternity\", \"admission_time\": \"2025-09-21T23:04:33.328148\", \"discharge_time\": \"2025-09-24T08:04:33.328148\", \"bed_id\": 155, \"hospital_id\": 2}"
        ],
        [
         "{\"patient_id\": \"681ebdfc-45bf-4822-afc8-179d122e1162\", \"gender\": \"Female\", \"age\": 80, \"department\": \"Pediatrics\", \"admission_time\": \"2025-09-20T18:06:42.414103\", \"discharge_time\": \"2025-09-23T14:06:42.414103\", \"bed_id\": 111, \"hospital_id\": 6}"
        ],
        [
         "{\"patient_id\": \"b1bf4034-810e-48f2-8f58-4160c574e615\", \"gender\": \"Female\", \"age\": 48, \"department\": \"Pediatrics\", \"admission_time\": \"2025-09-21T05:58:46.097140\", \"discharge_time\": \"2025-09-23T19:58:46.097140\", \"bed_id\": 458, \"hospital_id\": 7}"
        ],
        [
         "{\"patient_id\": \"b1aeaec6-22d0-452e-bd50-c40d9dee4e42\", \"gender\": \"Female\", \"age\": 91, \"department\": \"Pediatrics\", \"admission_time\": \"2025-09-22T17:53:51.901807\", \"discharge_time\": \"2025-09-23T02:53:51.901807\", \"bed_id\": 326, \"hospital_id\": 5}"
        ],
        [
         "{\"patient_id\": \"154d00e0-298d-4525-8ce2-c9865de2b42c\", \"gender\": \"Female\", \"age\": 96, \"department\": \"Pediatrics\", \"admission_time\": \"2025-09-21T00:02:58.261820\", \"discharge_time\": \"2025-09-22T09:02:58.261820\", \"bed_id\": 261, \"hospital_id\": 3}"
        ],
        [
         "{\"patient_id\": \"8840d55a-6df3-4482-9c4c-26baff854517\", \"gender\": \"Female\", \"age\": 16, \"department\": \"Pediatrics\", \"admission_time\": \"2025-09-23T04:52:54.862954\", \"discharge_time\": \"2025-09-25T15:52:54.862954\", \"bed_id\": 221, \"hospital_id\": 5}"
        ],
        [
         "{\"patient_id\": \"41ff0fd6-8aab-4a5e-a9a0-d85c80f4c5d7\", \"gender\": \"Female\", \"age\": 98, \"department\": \"Pediatrics\", \"admission_time\": \"2025-09-20T11:56:53.025011\", \"discharge_time\": \"2025-09-23T03:56:53.025011\", \"bed_id\": 491, \"hospital_id\": 3}"
        ],
        [
         "{\"patient_id\": \"b59c8d74-0421-48e4-bf42-537cb3172412\", \"gender\": \"Female\", \"age\": 67, \"department\": \"Pediatrics\", \"admission_time\": \"2025-09-23T01:06:55.424465\", \"discharge_time\": \"2025-09-24T18:06:55.424465\", \"bed_id\": 383, \"hospital_id\": 6}"
        ],
        [
         "{\"patient_id\": \"2eb9fa14-72ef-4482-827d-ae7d88a969b7\", \"gender\": \"Female\", \"age\": 19, \"department\": \"Maternity\", \"admission_time\": \"2025-09-21T09:04:27.323848\", \"discharge_time\": \"2025-09-24T06:04:27.323848\", \"bed_id\": 135, \"hospital_id\": 3}"
        ],
        [
         "{\"patient_id\": \"c5cfd4d0-69ab-4882-8c97-2da00b72b7f8\", \"gender\": \"Female\", \"age\": 93, \"department\": \"Pediatrics\", \"admission_time\": \"2025-09-21T04:54:08.914252\", \"discharge_time\": \"2025-09-23T11:54:08.914252\", \"bed_id\": 105, \"hospital_id\": 6}"
        ],
        [
         "{\"patient_id\": \"a7f78b51-9b8a-4240-8a6f-8364a0a6d079\", \"gender\": \"Female\", \"age\": 11, \"department\": \"Cardiology\", \"admission_time\": \"2025-09-21T07:58:23.082676\", \"discharge_time\": \"2025-09-22T16:58:23.082676\", \"bed_id\": 217, \"hospital_id\": 4}"
        ],
        [
         "{\"patient_id\": \"8c31914c-0d3f-497c-ab2b-3d856ba5d263\", \"gender\": \"Female\", \"age\": 47, \"department\": \"Maternity\", \"admission_time\": \"2025-09-20T21:08:43.492631\", \"discharge_time\": \"2025-09-23T01:08:43.492631\", \"bed_id\": 391, \"hospital_id\": 5}"
        ],
        [
         "{\"patient_id\": \"4c6e76dd-94f3-42e7-ab14-055c37575005\", \"gender\": \"Female\", \"age\": 98, \"department\": \"Cardiology\", \"admission_time\": \"2025-09-20T13:08:00.467613\", \"discharge_time\": \"2025-09-20T19:08:00.467613\", \"bed_id\": 410, \"hospital_id\": 3}"
        ],
        [
         "{\"patient_id\": \"550a99ff-b6d9-40dc-bed0-9346b1e7ab2c\", \"gender\": \"Female\", \"age\": 44, \"department\": \"Pediatrics\", \"admission_time\": \"2025-09-22T19:07:38.453061\", \"discharge_time\": \"2025-09-23T16:07:38.453061\", \"bed_id\": 150, \"hospital_id\": 2}"
        ],
        [
         "{\"patient_id\": \"a2dace02-212a-400e-b7f3-4d2502000fff\", \"gender\": \"Female\", \"age\": 71, \"department\": \"Pediatrics\", \"admission_time\": \"2025-09-20T18:02:53.257792\", \"discharge_time\": \"2025-09-22T03:02:53.257792\", \"bed_id\": 241, \"hospital_id\": 1}"
        ],
        [
         "{\"patient_id\": \"3bf77805-7955-4558-943b-90175e7a5d97\", \"gender\": \"Female\", \"age\": 105, \"department\": \"Maternity\", \"admission_time\": \"2025-09-20T14:08:45.493501\", \"discharge_time\": \"2025-09-21T15:08:45.493501\", \"bed_id\": 288, \"hospital_id\": 1}"
        ],
        [
         "{\"patient_id\": \"5d933a2d-9ddd-4834-8ecb-0669890cc2ca\", \"gender\": \"Female\", \"age\": 40, \"department\": \"Cardiology\", \"admission_time\": \"2025-09-20T22:53:00.867254\", \"discharge_time\": \"2025-09-22T23:53:00.867254\", \"bed_id\": 185, \"hospital_id\": 2}"
        ],
        [
         "{\"patient_id\": \"68e972a7-4320-4191-a4a7-d55f8b230473\", \"gender\": \"Female\", \"age\": 80, \"department\": \"Cardiology\", \"admission_time\": \"2025-09-21T12:03:58.303176\", \"discharge_time\": \"2025-09-21T19:03:58.303176\", \"bed_id\": 332, \"hospital_id\": 2}"
        ],
        [
         "{\"patient_id\": \"49ded9d0-7dee-42ae-8494-7247baa08572\", \"gender\": \"Female\", \"age\": 52, \"department\": \"Cardiology\", \"admission_time\": \"2025-09-20T10:10:32.566195\", \"discharge_time\": \"2025-09-22T15:10:32.566195\", \"bed_id\": 382, \"hospital_id\": 5}"
        ],
        [
         "{\"patient_id\": \"5f3adc66-e5bf-4a61-b071-004a41c3bc2a\", \"gender\": \"Male\", \"age\": 94, \"department\": \"Pediatrics\", \"admission_time\": \"2025-09-24T14:53:32.890983\", \"discharge_time\": \"2025-09-23T05:53:32.890907\", \"bed_id\": 346, \"hospital_id\": 4}"
        ],
        [
         "{\"patient_id\": \"9ecc5ab5-454d-48f6-90d2-09a94004931d\", \"gender\": \"Female\", \"age\": 49, \"department\": \"Pediatrics\", \"admission_time\": \"2025-09-22T06:55:53.986531\", \"discharge_time\": \"2025-09-24T11:55:53.986531\", \"bed_id\": 169, \"hospital_id\": 7}"
        ],
        [
         "{\"patient_id\": \"2319408c-f539-46be-9d84-dfc3a5ea2ff1\", \"gender\": \"Female\", \"age\": 73, \"department\": \"Emergency\", \"admission_time\": \"2025-09-21T02:25:38.319612\", \"discharge_time\": \"2025-09-23T07:25:38.319612\", \"bed_id\": 278, \"hospital_id\": 2}"
        ],
        [
         "{\"patient_id\": \"cae3e742-902a-43f9-9890-bac6acce766e\", \"gender\": \"Female\", \"age\": 125, \"department\": \"Emergency\", \"admission_time\": \"2025-09-21T17:02:04.224342\", \"discharge_time\": \"2025-09-22T01:02:04.224342\", \"bed_id\": 272, \"hospital_id\": 5}"
        ],
        [
         "{\"patient_id\": \"76a17e40-ff4f-48d1-bca0-61f4782557d5\", \"gender\": \"Female\", \"age\": 49, \"department\": \"Cardiology\", \"admission_time\": \"2025-09-22T17:02:21.237111\", \"discharge_time\": \"2025-09-23T23:02:21.237111\", \"bed_id\": 360, \"hospital_id\": 4}"
        ],
        [
         "{\"patient_id\": \"8bb92bfc-39a0-4f2b-9571-d8066e2860c2\", \"gender\": \"Male\", \"age\": 45, \"department\": \"Cardiology\", \"admission_time\": \"2025-09-22T02:56:08.997175\", \"discharge_time\": \"2025-09-24T14:56:08.997175\", \"bed_id\": 309, \"hospital_id\": 6}"
        ],
        [
         "{\"patient_id\": \"75dfee05-837b-4e1f-9e9d-9b45c18f030c\", \"gender\": \"Female\", \"age\": 140, \"department\": \"Cardiology\", \"admission_time\": \"2025-09-23T06:55:05.954672\", \"discharge_time\": \"2025-09-24T11:55:05.954672\", \"bed_id\": 15, \"hospital_id\": 6}"
        ],
        [
         "{\"patient_id\": \"67f39dd6-507a-44a3-a399-5ab7ea3110bb\", \"gender\": \"Female\", \"age\": 24, \"department\": \"Cardiology\", \"admission_time\": \"2025-09-22T05:09:27.520766\", \"discharge_time\": \"2025-09-23T17:09:27.520766\", \"bed_id\": 446, \"hospital_id\": 1}"
        ],
        [
         "{\"patient_id\": \"9b782643-6e32-4552-bc4e-be491ded0c5d\", \"gender\": \"Female\", \"age\": 58, \"department\": \"Emergency\", \"admission_time\": \"2025-09-23T02:09:35.525302\", \"discharge_time\": \"2025-09-24T11:09:35.525302\", \"bed_id\": 303, \"hospital_id\": 1}"
        ],
        [
         "{\"patient_id\": \"9d00d14f-75b2-4762-b755-79ab99658f5d\", \"gender\": \"Female\", \"age\": 82, \"department\": \"Maternity\", \"admission_time\": \"2025-09-20T23:02:12.230167\", \"discharge_time\": \"2025-09-21T07:02:12.230167\", \"bed_id\": 350, \"hospital_id\": 5}"
        ],
        [
         "{\"patient_id\": \"cfb70032-cadf-4b2c-a635-93ca8b3585f5\", \"gender\": \"Female\", \"age\": 98, \"department\": \"Pediatrics\", \"admission_time\": \"2025-09-22T19:01:51.214671\", \"discharge_time\": \"2025-09-23T18:01:51.214671\", \"bed_id\": 398, \"hospital_id\": 6}"
        ],
        [
         "{\"patient_id\": \"f581569c-2052-4f84-ba9a-e9db2e1ee3f9\", \"gender\": \"Female\", \"age\": 26, \"department\": \"Emergency\", \"admission_time\": \"2025-09-21T13:55:49.983922\", \"discharge_time\": \"2025-09-22T05:55:49.983922\", \"bed_id\": 177, \"hospital_id\": 5}"
        ],
        [
         "{\"patient_id\": \"583cfffe-b2ff-4581-9d26-c286ef0b7b77\", \"gender\": \"Female\", \"age\": 36, \"department\": \"Maternity\", \"admission_time\": \"2025-09-20T20:01:15.189389\", \"discharge_time\": \"2025-09-21T23:01:15.189389\", \"bed_id\": 472, \"hospital_id\": 2}"
        ],
        [
         "{\"patient_id\": \"50fa6886-69db-4e31-9a0a-e38c96d0ebc6\", \"gender\": \"Female\", \"age\": 95, \"department\": \"Emergency\", \"admission_time\": \"2025-09-21T11:55:44.981056\", \"discharge_time\": \"2025-09-23T23:55:44.981056\", \"bed_id\": 365, \"hospital_id\": 6}"
        ],
        [
         "{\"patient_id\": \"45a089ab-16b1-45b3-b719-cf25414a0e15\", \"gender\": \"Female\", \"age\": 121, \"department\": \"Oncology\", \"admission_time\": \"2025-09-20T12:53:04.871401\", \"discharge_time\": \"2025-09-22T07:53:04.871401\", \"bed_id\": 153, \"hospital_id\": 5}"
        ],
        [
         "{\"patient_id\": \"e4a3c743-36da-40cf-a9ed-483e52c95232\", \"gender\": \"Female\", \"age\": 74, \"department\": \"Emergency\", \"admission_time\": \"2025-09-22T05:57:40.055306\", \"discharge_time\": \"2025-09-23T17:57:40.055306\", \"bed_id\": 297, \"hospital_id\": 7}"
        ],
        [
         "{\"patient_id\": \"60da3cb9-c3bd-4a4b-951a-472ea9750d04\", \"gender\": \"Female\", \"age\": 92, \"department\": \"Maternity\", \"admission_time\": \"2025-09-22T03:03:25.280261\", \"discharge_time\": \"2025-09-24T17:03:25.280261\", \"bed_id\": 426, \"hospital_id\": 4}"
        ],
        [
         "{\"patient_id\": \"c15e687f-a5be-40b7-ab70-f13e674c986c\", \"gender\": \"Female\", \"age\": 73, \"department\": \"Emergency\", \"admission_time\": \"2025-09-20T22:08:50.496155\", \"discharge_time\": \"2025-09-21T09:08:50.496155\", \"bed_id\": 391, \"hospital_id\": 3}"
        ],
        [
         "{\"patient_id\": \"256c6422-a6ea-42f9-8716-075ebe14240c\", \"gender\": \"Female\", \"age\": 87, \"department\": \"Maternity\", \"admission_time\": \"2025-09-20T09:06:41.413186\", \"discharge_time\": \"2025-09-21T01:06:41.413186\", \"bed_id\": 408, \"hospital_id\": 1}"
        ],
        [
         "{\"patient_id\": \"ca88b43b-65f8-4efd-b1ad-c0e7a2150f20\", \"gender\": \"Female\", \"age\": 76, \"department\": \"Emergency\", \"admission_time\": \"2025-09-23T05:02:55.259711\", \"discharge_time\": \"2025-09-24T10:02:55.259711\", \"bed_id\": 235, \"hospital_id\": 4}"
        ],
        [
         "{\"patient_id\": \"d6cc591d-b8a9-4617-bf7d-08fb41cdcc4e\", \"gender\": \"Female\", \"age\": 54, \"department\": \"Maternity\", \"admission_time\": \"2025-09-23T01:10:10.548917\", \"discharge_time\": \"2025-09-26T00:10:10.548917\", \"bed_id\": 338, \"hospital_id\": 4}"
        ],
        [
         "{\"patient_id\": \"cebee790-7d0a-4837-93a4-2b6f23f48d03\", \"gender\": \"Male\", \"age\": 146, \"department\": \"Pediatrics\", \"admission_time\": \"2025-09-20T16:01:46.212314\", \"discharge_time\": \"2025-09-21T15:01:46.212314\", \"bed_id\": 459, \"hospital_id\": 7}"
        ],
        [
         "{\"patient_id\": \"9219218e-36cb-450d-8301-075bd4d1ef9a\", \"gender\": \"Female\", \"age\": 29, \"department\": \"Maternity\", \"admission_time\": \"2025-09-22T02:56:07.996768\", \"discharge_time\": \"2025-09-23T10:56:07.996768\", \"bed_id\": 220, \"hospital_id\": 5}"
        ],
        [
         "{\"patient_id\": \"2a49d99f-7748-4213-be09-91ee97ab5974\", \"gender\": \"Female\", \"age\": 29, \"department\": \"Emergency\", \"admission_time\": \"2025-09-22T01:03:53.298962\", \"discharge_time\": \"2025-09-24T10:03:53.298962\", \"bed_id\": 488, \"hospital_id\": 2}"
        ],
        [
         "{\"patient_id\": \"f950ef28-4487-49b2-893d-946580871175\", \"gender\": \"Female\", \"age\": 77, \"department\": \"Emergency\", \"admission_time\": \"2025-09-20T22:01:30.200987\", \"discharge_time\": \"2025-09-23T16:01:30.200987\", \"bed_id\": 406, \"hospital_id\": 3}"
        ],
        [
         "{\"patient_id\": \"f2296d86-a2de-402f-8185-f335948fc48e\", \"gender\": \"Female\", \"age\": 12, \"department\": \"Maternity\", \"admission_time\": \"2025-09-22T22:56:30.011249\", \"discharge_time\": \"2025-09-23T13:56:30.011249\", \"bed_id\": 373, \"hospital_id\": 1}"
        ],
        [
         "{\"patient_id\": \"8f40610e-0f09-457a-98f0-fce2b51c49cf\", \"gender\": \"Female\", \"age\": 18, \"department\": \"Emergency\", \"admission_time\": \"2025-09-21T05:53:34.892229\", \"discharge_time\": \"2025-09-22T18:53:34.892229\", \"bed_id\": 176, \"hospital_id\": 6}"
        ],
        [
         "{\"patient_id\": \"aa6f1042-b867-4d64-b860-91fcabf3c39c\", \"gender\": \"Female\", \"age\": 99, \"department\": \"Maternity\", \"admission_time\": \"2025-09-22T07:04:22.321419\", \"discharge_time\": \"2025-09-23T18:04:22.321419\", \"bed_id\": 336, \"hospital_id\": 3}"
        ],
        [
         "{\"patient_id\": \"7e1860cb-f963-4fd1-a9b0-7ebd80f6621b\", \"gender\": \"Female\", \"age\": 24, \"department\": \"Emergency\", \"admission_time\": \"2025-09-20T19:02:28.242380\", \"discharge_time\": \"2025-09-22T07:02:28.242380\", \"bed_id\": 150, \"hospital_id\": 6}"
        ],
        [
         "{\"patient_id\": \"fa9bf641-15b5-4222-98d4-692644f4daaa\", \"gender\": \"Female\", \"age\": 80, \"department\": \"Maternity\", \"admission_time\": \"2025-09-23T00:00:24.159718\", \"discharge_time\": \"2025-09-24T00:00:24.159718\", \"bed_id\": 359, \"hospital_id\": 4}"
        ],
        [
         "{\"patient_id\": \"8b50222c-41cc-4535-ae0e-c4f590564113\", \"gender\": \"Female\", \"age\": 87, \"department\": \"Maternity\", \"admission_time\": \"2025-09-20T16:04:56.342500\", \"discharge_time\": \"2025-09-23T01:04:56.342500\", \"bed_id\": 471, \"hospital_id\": 6}"
        ],
        [
         "{\"patient_id\": \"6a90e7fc-f1df-464a-8695-c1bebb0a9e77\", \"gender\": \"Female\", \"age\": 90, \"department\": \"Maternity\", \"admission_time\": \"2025-09-20T17:06:23.401789\", \"discharge_time\": \"2025-09-21T04:06:23.401789\", \"bed_id\": 478, \"hospital_id\": 4}"
        ],
        [
         "{\"patient_id\": \"9f876bc7-fa22-4270-9a25-29fcbf2febb0\", \"gender\": \"Female\", \"age\": 68, \"department\": \"Maternity\", \"admission_time\": \"2025-09-20T10:52:58.865882\", \"discharge_time\": \"2025-09-21T12:52:58.865882\", \"bed_id\": 483, \"hospital_id\": 4}"
        ],
        [
         "{\"patient_id\": \"4907bf8b-add2-4582-9696-57b9f29cc226\", \"gender\": \"Male\", \"age\": 17, \"department\": \"Pediatrics\", \"admission_time\": \"2025-09-21T09:26:44.364114\", \"discharge_time\": \"2025-09-23T20:26:44.364114\", \"bed_id\": 483, \"hospital_id\": 6}"
        ],
        [
         "{\"patient_id\": \"83d38ce2-b0e1-4dfe-a322-6f8d741c47f1\", \"gender\": \"Female\", \"age\": 51, \"department\": \"Maternity\", \"admission_time\": \"2025-09-22T13:09:43.531166\", \"discharge_time\": \"2025-09-25T03:09:43.531166\", \"bed_id\": 250, \"hospital_id\": 3}"
        ],
        [
         "{\"patient_id\": \"b3aecf17-c56a-437f-a6c6-e82db92228d4\", \"gender\": \"Female\", \"age\": 23, \"department\": \"Pediatrics\", \"admission_time\": \"2025-09-21T23:10:33.567533\", \"discharge_time\": \"2025-09-22T03:10:33.567533\", \"bed_id\": 312, \"hospital_id\": 5}"
        ],
        [
         "{\"patient_id\": \"2c87bfdb-2ada-4354-9202-e0ecd6d37228\", \"gender\": \"Female\", \"age\": 18, \"department\": \"Maternity\", \"admission_time\": \"2025-09-22T07:26:42.362735\", \"discharge_time\": \"2025-09-25T01:26:42.362735\", \"bed_id\": 284, \"hospital_id\": 2}"
        ],
        [
         "{\"patient_id\": \"19929a32-9589-408c-9b6f-47e459e97324\", \"gender\": \"Female\", \"age\": 62, \"department\": \"Emergency\", \"admission_time\": \"2025-09-21T21:04:28.324894\", \"discharge_time\": \"2025-09-24T11:04:28.324894\", \"bed_id\": 492, \"hospital_id\": 4}"
        ],
        [
         "{\"patient_id\": \"a5dfad72-861f-4f39-9e90-8741b2d5e40a\", \"gender\": \"Female\", \"age\": 44, \"department\": \"Maternity\", \"admission_time\": \"2025-09-21T23:55:09.958041\", \"discharge_time\": \"2025-09-22T02:55:09.958041\", \"bed_id\": 370, \"hospital_id\": 5}"
        ],
        [
         "{\"patient_id\": \"6222bc90-dc19-4594-a57b-828833e790ef\", \"gender\": \"Female\", \"age\": 90, \"department\": \"Maternity\", \"admission_time\": \"2025-09-23T05:05:47.373361\", \"discharge_time\": \"2025-09-26T05:05:47.373361\", \"bed_id\": 412, \"hospital_id\": 4}"
        ],
        [
         "{\"patient_id\": \"39470121-848d-432d-a883-5715343adb2f\", \"gender\": \"Female\", \"age\": 29, \"department\": \"Maternity\", \"admission_time\": \"2025-09-21T11:02:09.228073\", \"discharge_time\": \"2025-09-24T02:02:09.228073\", \"bed_id\": 360, \"hospital_id\": 4}"
        ],
        [
         "{\"patient_id\": \"22267310-48ba-40d9-88e3-3bed71f5de4f\", \"gender\": \"Female\", \"age\": 14, \"department\": \"Maternity\", \"admission_time\": \"2025-09-21T20:25:34.315866\", \"discharge_time\": \"2025-09-23T07:25:34.315866\", \"bed_id\": 351, \"hospital_id\": 4}"
        ],
        [
         "{\"patient_id\": \"72f167d9-61df-4b86-ba38-8e0014fc6644\", \"gender\": \"Female\", \"age\": 73, \"department\": \"Emergency\", \"admission_time\": \"2025-09-23T02:54:15.918595\", \"discharge_time\": \"2025-09-25T11:54:15.918595\", \"bed_id\": 396, \"hospital_id\": 4}"
        ],
        [
         "{\"patient_id\": \"bfb609fb-1d75-45ed-9a12-7dde466b3d2e\", \"gender\": \"Female\", \"age\": 47, \"department\": \"Emergency\", \"admission_time\": \"2025-09-22T03:07:59.467176\", \"discharge_time\": \"2025-09-24T07:07:59.467176\", \"bed_id\": 243, \"hospital_id\": 3}"
        ],
        [
         "{\"patient_id\": \"8a8e47a7-594a-48b6-815c-548aeb036691\", \"gender\": \"Female\", \"age\": 76, \"department\": \"Emergency\", \"admission_time\": \"2025-09-20T09:54:35.933183\", \"discharge_time\": \"2025-09-21T21:54:35.933183\", \"bed_id\": 450, \"hospital_id\": 5}"
        ],
        [
         "{\"patient_id\": \"b9f68c4e-c947-435a-85bc-8730ed49a665\", \"gender\": \"Female\", \"age\": 76, \"department\": \"Pediatrics\", \"admission_time\": \"2025-09-22T16:55:23.968122\", \"discharge_time\": \"2025-09-24T06:55:23.968122\", \"bed_id\": 440, \"hospital_id\": 5}"
        ],
        [
         "{\"patient_id\": \"a6da67b4-789d-4d90-8b49-89c2a6612d69\", \"gender\": \"Female\", \"age\": 85, \"department\": \"Cardiology\", \"admission_time\": \"2025-09-22T00:59:21.121277\", \"discharge_time\": \"2025-09-22T06:59:21.121277\", \"bed_id\": 475, \"hospital_id\": 4}"
        ],
        [
         "{\"patient_id\": \"6d798ca0-878a-4baa-bb80-eea28abfbbed\", \"gender\": \"Male\", \"age\": 136, \"department\": \"Pediatrics\", \"admission_time\": \"2025-09-20T22:58:20.080896\", \"discharge_time\": \"2025-09-21T16:58:20.080896\", \"bed_id\": 430, \"hospital_id\": 1}"
        ],
        [
         "{\"patient_id\": \"e95efddb-ddf4-4a09-b410-2ec2322cd9c5\", \"gender\": \"Female\", \"age\": 38, \"department\": \"Maternity\", \"admission_time\": \"2025-09-22T15:09:11.509606\", \"discharge_time\": \"2025-09-23T04:09:11.509606\", \"bed_id\": 404, \"hospital_id\": 5}"
        ],
        [
         "{\"patient_id\": \"3a9b36a9-7258-446b-a0c8-401b5358c13a\", \"gender\": \"Female\", \"age\": 34, \"department\": \"Maternity\", \"admission_time\": \"2025-09-22T19:54:06.911970\", \"discharge_time\": \"2025-09-24T08:54:06.911970\", \"bed_id\": 454, \"hospital_id\": 6}"
        ],
        [
         "{\"patient_id\": \"aaa28cd6-c1fb-4337-a46e-e9d39aeb9612\", \"gender\": \"Female\", \"age\": 95, \"department\": \"Emergency\", \"admission_time\": \"2025-09-22T23:57:02.031442\", \"discharge_time\": \"2025-09-23T15:57:02.031442\", \"bed_id\": 100, \"hospital_id\": 2}"
        ],
        [
         "{\"patient_id\": \"1140c867-b82d-4f2b-9d38-83380a6faaa1\", \"gender\": \"Female\", \"age\": 41, \"department\": \"Maternity\", \"admission_time\": \"2025-09-22T15:59:25.124222\", \"discharge_time\": \"2025-09-25T04:59:25.124222\", \"bed_id\": 450, \"hospital_id\": 2}"
        ],
        [
         "{\"patient_id\": \"9c70541c-b08b-448e-b29e-c7c213db9792\", \"gender\": \"Female\", \"age\": 133, \"department\": \"Emergency\", \"admission_time\": \"2025-09-21T16:10:17.554884\", \"discharge_time\": \"2025-09-23T02:10:17.554884\", \"bed_id\": 112, \"hospital_id\": 3}"
        ],
        [
         "{\"patient_id\": \"59665afb-09cb-47cc-ab6d-92901f499079\", \"gender\": \"Female\", \"age\": 50, \"department\": \"Maternity\", \"admission_time\": \"2025-09-20T07:04:43.334868\", \"discharge_time\": \"2025-09-21T23:04:43.334868\", \"bed_id\": 210, \"hospital_id\": 2}"
        ],
        [
         "{\"patient_id\": \"339821dc-02da-4629-b451-a76dfd0441d6\", \"gender\": \"Female\", \"age\": 54, \"department\": \"Maternity\", \"admission_time\": \"2025-09-20T22:10:08.547179\", \"discharge_time\": \"2025-09-22T09:10:08.547179\", \"bed_id\": 297, \"hospital_id\": 4}"
        ],
        [
         "{\"patient_id\": \"40802ff5-c7df-4d07-aded-e5f0dc4d5f3c\", \"gender\": \"Female\", \"age\": 49, \"department\": \"Oncology\", \"admission_time\": \"2025-09-23T13:04:30.326353\", \"discharge_time\": \"2025-09-23T10:04:30.326276\", \"bed_id\": 397, \"hospital_id\": 1}"
        ],
        [
         "{\"patient_id\": \"1d997c7b-bfd0-4d04-be0b-113ddc33916a\", \"gender\": \"Female\", \"age\": 85, \"department\": \"Maternity\", \"admission_time\": \"2025-09-22T13:26:11.340533\", \"discharge_time\": \"2025-09-25T05:26:11.340533\", \"bed_id\": 450, \"hospital_id\": 1}"
        ],
        [
         "{\"patient_id\": \"dd28fc04-1292-49ce-8894-d5e91e5109fa\", \"gender\": \"Female\", \"age\": 30, \"department\": \"Maternity\", \"admission_time\": \"2025-09-22T17:07:10.432083\", \"discharge_time\": \"2025-09-23T06:07:10.432083\", \"bed_id\": 187, \"hospital_id\": 3}"
        ],
        [
         "{\"patient_id\": \"fc5c1eef-cfd2-4b32-9437-777f9eade57c\", \"gender\": \"Female\", \"age\": 62, \"department\": \"Emergency\", \"admission_time\": \"2025-09-21T20:53:08.874206\", \"discharge_time\": \"2025-09-22T20:53:08.874206\", \"bed_id\": 107, \"hospital_id\": 6}"
        ],
        [
         "{\"patient_id\": \"d853a10e-a5de-4969-b2dd-73647f038a3f\", \"gender\": \"Female\", \"age\": 66, \"department\": \"Emergency\", \"admission_time\": \"2025-09-22T08:58:02.069229\", \"discharge_time\": \"2025-09-23T03:58:02.069229\", \"bed_id\": 320, \"hospital_id\": 1}"
        ],
        [
         "{\"patient_id\": \"952fa1f6-cb84-4edb-9994-759aff6e0c6f\", \"gender\": \"Female\", \"age\": 17, \"department\": \"Emergency\", \"admission_time\": \"2025-09-20T10:03:33.285528\", \"discharge_time\": \"2025-09-22T23:03:33.285528\", \"bed_id\": 317, \"hospital_id\": 2}"
        ],
        [
         "{\"patient_id\": \"6ed78ba9-568e-47c0-8459-c81ce5a72b3e\", \"gender\": \"Female\", \"age\": 26, \"department\": \"Emergency\", \"admission_time\": \"2025-09-21T10:55:51.985599\", \"discharge_time\": \"2025-09-23T19:55:51.985599\", \"bed_id\": 494, \"hospital_id\": 1}"
        ],
        [
         "{\"patient_id\": \"66e25fd6-f92d-40f5-876a-5cf6accd437a\", \"gender\": \"Female\", \"age\": 20, \"department\": \"Pediatrics\", \"admission_time\": \"2025-09-22T03:55:42.979630\", \"discharge_time\": \"2025-09-24T03:55:42.979630\", \"bed_id\": 368, \"hospital_id\": 6}"
        ],
        [
         "{\"patient_id\": \"1155f796-5698-4d60-9e80-58f509102be2\", \"gender\": \"Female\", \"age\": 128, \"department\": \"Maternity\", \"admission_time\": \"2025-09-21T07:08:25.482469\", \"discharge_time\": \"2025-09-24T05:08:25.482469\", \"bed_id\": 125, \"hospital_id\": 1}"
        ],
        [
         "{\"patient_id\": \"8d1adc96-8467-4678-bfdb-79578da127a7\", \"gender\": \"Female\", \"age\": 127, \"department\": \"Oncology\", \"admission_time\": \"2025-09-21T13:08:02.469145\", \"discharge_time\": \"2025-09-23T05:08:02.469145\", \"bed_id\": 297, \"hospital_id\": 1}"
        ],
        [
         "{\"patient_id\": \"43f4cad7-a5b3-4865-af70-987aaa4ad56d\", \"gender\": \"Female\", \"age\": 25, \"department\": \"Maternity\", \"admission_time\": \"2025-09-20T18:08:04.470606\", \"discharge_time\": \"2025-09-22T07:08:04.470606\", \"bed_id\": 446, \"hospital_id\": 6}"
        ],
        [
         "{\"patient_id\": \"a117b8d8-8325-4673-8630-bf9fd4e2b635\", \"gender\": \"Female\", \"age\": 20, \"department\": \"Emergency\", \"admission_time\": \"2025-09-21T11:03:46.293502\", \"discharge_time\": \"2025-09-24T00:03:46.293502\", \"bed_id\": 381, \"hospital_id\": 3}"
        ],
        [
         "{\"patient_id\": \"e9a04dc6-ad59-4575-9e4e-878ada283b92\", \"gender\": \"Female\", \"age\": 78, \"department\": \"Emergency\", \"admission_time\": \"2025-09-22T03:08:30.485924\", \"discharge_time\": \"2025-09-23T02:08:30.485924\", \"bed_id\": 206, \"hospital_id\": 3}"
        ],
        [
         "{\"patient_id\": \"db43dfd2-5699-44fb-b9ba-b17ba27bae6a\", \"gender\": \"Female\", \"age\": 71, \"department\": \"Maternity\", \"admission_time\": \"2025-09-20T23:57:06.034615\", \"discharge_time\": \"2025-09-21T07:57:06.034615\", \"bed_id\": 116, \"hospital_id\": 4}"
        ],
        [
         "{\"patient_id\": \"4bbcfa7c-def5-4b68-a45c-ab632405d7a7\", \"gender\": \"Female\", \"age\": 65, \"department\": \"Maternity\", \"admission_time\": \"2025-09-21T19:09:25.519331\", \"discharge_time\": \"2025-09-22T16:09:25.519331\", \"bed_id\": 110, \"hospital_id\": 2}"
        ],
        [
         "{\"patient_id\": \"7b70f11b-9a3f-43aa-a3e8-362a0ff114a4\", \"gender\": \"Female\", \"age\": 37, \"department\": \"Maternity\", \"admission_time\": \"2025-09-20T13:02:11.229747\", \"discharge_time\": \"2025-09-21T16:02:11.229747\", \"bed_id\": 203, \"hospital_id\": 1}"
        ],
        [
         "{\"patient_id\": \"7444740d-b5f3-4982-80b6-af9f8a70a245\", \"gender\": \"Female\", \"age\": 28, \"department\": \"Maternity\", \"admission_time\": \"2025-09-21T17:26:38.360018\", \"discharge_time\": \"2025-09-23T06:26:38.360018\", \"bed_id\": 142, \"hospital_id\": 6}"
        ],
        [
         "{\"patient_id\": \"5cf011e1-43ac-4ed0-9b82-3495955422cb\", \"gender\": \"Female\", \"age\": 21, \"department\": \"Maternity\", \"admission_time\": \"2025-09-20T21:09:04.503467\", \"discharge_time\": \"2025-09-22T10:09:04.503467\", \"bed_id\": 266, \"hospital_id\": 3}"
        ],
        [
         "{\"patient_id\": \"d38fea45-0219-4bea-8dc2-54f3cded050e\", \"gender\": \"Female\", \"age\": 44, \"department\": \"Maternity\", \"admission_time\": \"2025-09-23T07:25:40.321184\", \"discharge_time\": \"2025-09-26T00:25:40.321184\", \"bed_id\": 341, \"hospital_id\": 5}"
        ],
        [
         "{\"patient_id\": \"aa93857b-0840-4d6c-8c6f-2e2f661cd5ff\", \"gender\": \"Female\", \"age\": 61, \"department\": \"Emergency\", \"admission_time\": \"2025-09-20T14:03:09.268613\", \"discharge_time\": \"2025-09-21T20:03:09.268613\", \"bed_id\": 360, \"hospital_id\": 7}"
        ],
        [
         "{\"patient_id\": \"de9a23d2-fe73-4aa1-9807-466ec699c329\", \"gender\": \"Female\", \"age\": 34, \"department\": \"Pediatrics\", \"admission_time\": \"2025-09-21T07:54:24.924315\", \"discharge_time\": \"2025-09-22T17:54:24.924315\", \"bed_id\": 460, \"hospital_id\": 7}"
        ],
        [
         "{\"patient_id\": \"aed541f0-e711-4a53-b032-d2e368336598\", \"gender\": \"Female\", \"age\": 86, \"department\": \"Emergency\", \"admission_time\": \"2025-09-21T20:53:39.894980\", \"discharge_time\": \"2025-09-22T01:53:39.894980\", \"bed_id\": 164, \"hospital_id\": 6}"
        ],
        [
         "{\"patient_id\": \"d73ce1f2-9f99-4c2f-9bd2-0e6616dab92a\", \"gender\": \"Female\", \"age\": 63, \"department\": \"Emergency\", \"admission_time\": \"2025-09-21T11:09:55.538252\", \"discharge_time\": \"2025-09-23T03:09:55.538252\", \"bed_id\": 372, \"hospital_id\": 2}"
        ],
        [
         "{\"patient_id\": \"d49d0458-7580-4853-afa2-454d4715276a\", \"gender\": \"Female\", \"age\": 19, \"department\": \"Maternity\", \"admission_time\": \"2025-09-21T15:53:55.904651\", \"discharge_time\": \"2025-09-22T01:53:55.904651\", \"bed_id\": 467, \"hospital_id\": 5}"
        ],
        [
         "{\"patient_id\": \"2a936b48-1192-420d-bb38-6292dc40c86c\", \"gender\": \"Female\", \"age\": 81, \"department\": \"Emergency\", \"admission_time\": \"2025-09-22T15:56:11.998509\", \"discharge_time\": \"2025-09-23T17:56:11.998509\", \"bed_id\": 474, \"hospital_id\": 5}"
        ],
        [
         "{\"patient_id\": \"d6f5f458-33b2-4e56-8278-05961deb289b\", \"gender\": \"Female\", \"age\": 49, \"department\": \"Emergency\", \"admission_time\": \"2025-09-21T16:09:53.537340\", \"discharge_time\": \"2025-09-23T18:09:53.537340\", \"bed_id\": 97, \"hospital_id\": 2}"
        ],
        [
         "{\"patient_id\": \"010d7c5e-fcc0-4998-96d0-d4a1f45d3dc8\", \"gender\": \"Female\", \"age\": 71, \"department\": \"Emergency\", \"admission_time\": \"2025-09-22T00:04:41.333079\", \"discharge_time\": \"2025-09-24T10:04:41.333079\", \"bed_id\": 163, \"hospital_id\": 2}"
        ],
        [
         "{\"patient_id\": \"6c69cebb-592d-4916-b3a6-57a9610105d6\", \"gender\": \"Female\", \"age\": 22, \"department\": \"Emergency\", \"admission_time\": \"2025-09-20T19:05:45.372438\", \"discharge_time\": \"2025-09-22T12:05:45.372438\", \"bed_id\": 193, \"hospital_id\": 5}"
        ],
        [
         "{\"patient_id\": \"099b3bf0-9558-487e-baae-9f4525725f36\", \"gender\": \"Female\", \"age\": 13, \"department\": \"Maternity\", \"admission_time\": \"2025-09-22T02:57:55.064858\", \"discharge_time\": \"2025-09-24T17:57:55.064858\", \"bed_id\": 451, \"hospital_id\": 3}"
        ],
        [
         "{\"patient_id\": \"2aa4e4eb-ab7e-4977-b007-e0a49b30606a\", \"gender\": \"Female\", \"age\": 38, \"department\": \"Emergency\", \"admission_time\": \"2025-09-21T14:09:31.522841\", \"discharge_time\": \"2025-09-24T11:09:31.522841\", \"bed_id\": 128, \"hospital_id\": 6}"
        ],
        [
         "{\"patient_id\": \"c29e0a10-983b-44b3-ae22-adaaf237d349\", \"gender\": \"Female\", \"age\": 48, \"department\": \"Maternity\", \"admission_time\": \"2025-09-21T16:07:32.448130\", \"discharge_time\": \"2025-09-23T06:07:32.448130\", \"bed_id\": 127, \"hospital_id\": 2}"
        ],
        [
         "{\"patient_id\": \"ed10d0c6-34dc-420e-aa70-9689d27bad61\", \"gender\": \"Female\", \"age\": 23, \"department\": \"Emergency\", \"admission_time\": \"2025-09-21T10:58:16.078386\", \"discharge_time\": \"2025-09-23T07:58:16.078386\", \"bed_id\": 145, \"hospital_id\": 5}"
        ],
        [
         "{\"patient_id\": \"31a34745-5645-4e98-af66-d32841cff11b\", \"gender\": \"Female\", \"age\": 96, \"department\": \"Maternity\", \"admission_time\": \"2025-09-22T08:04:01.305044\", \"discharge_time\": \"2025-09-24T23:04:01.305044\", \"bed_id\": 435, \"hospital_id\": 3}"
        ],
        [
         "{\"patient_id\": \"32d1c68d-d7a3-4ae2-b972-1662b115de3e\", \"gender\": \"Female\", \"age\": 80, \"department\": \"Cardiology\", \"admission_time\": \"2025-09-22T08:10:36.569517\", \"discharge_time\": \"2025-09-24T12:10:36.569517\", \"bed_id\": 275, \"hospital_id\": 6}"
        ],
        [
         "{\"patient_id\": \"c870e8fd-2aee-4a89-b094-15acd712af13\", \"gender\": \"Female\", \"age\": 96, \"department\": \"Cardiology\", \"admission_time\": \"2025-09-22T08:00:34.165483\", \"discharge_time\": \"2025-09-24T09:00:34.165483\", \"bed_id\": 483, \"hospital_id\": 4}"
        ],
        [
         "{\"patient_id\": \"21d3cb9d-4f5d-44b8-967f-5c943fa1291d\", \"gender\": \"Female\", \"age\": 52, \"department\": \"Emergency\", \"admission_time\": \"2025-09-21T00:01:29.200471\", \"discharge_time\": \"2025-09-23T17:01:29.200471\", \"bed_id\": 259, \"hospital_id\": 4}"
        ],
        [
         "{\"patient_id\": \"2d2c37a3-cc4a-443f-9c58-56636642f050\", \"gender\": \"Female\", \"age\": 26, \"department\": \"Maternity\", \"admission_time\": \"2025-09-21T11:02:27.241983\", \"discharge_time\": \"2025-09-24T07:02:27.241983\", \"bed_id\": 333, \"hospital_id\": 4}"
        ],
        [
         "{\"patient_id\": \"602b19a1-e5c8-41f3-bff4-f7012c3a6708\", \"gender\": \"Female\", \"age\": 82, \"department\": \"Maternity\", \"admission_time\": \"2025-09-21T14:08:21.480739\", \"discharge_time\": \"2025-09-22T05:08:21.480739\", \"bed_id\": 360, \"hospital_id\": 7}"
        ],
        [
         "{\"patient_id\": \"4bcf55a1-4e10-478e-9c16-dd06dd90129f\", \"gender\": \"Female\", \"age\": 75, \"department\": \"Maternity\", \"admission_time\": \"2025-09-23T06:02:33.245595\", \"discharge_time\": \"2025-09-25T09:02:33.245595\", \"bed_id\": 98, \"hospital_id\": 4}"
        ],
        [
         "{\"patient_id\": \"4652ca44-d2d3-4ca5-9330-f9361e218db7\", \"gender\": \"Female\", \"age\": 65, \"department\": \"Pediatrics\", \"admission_time\": \"2025-09-21T10:05:08.349450\", \"discharge_time\": \"2025-09-21T23:05:08.349450\", \"bed_id\": 203, \"hospital_id\": 6}"
        ],
        [
         "{\"patient_id\": \"67af6069-b30a-4a38-a5e9-9c4bbe406243\", \"gender\": \"Female\", \"age\": 90, \"department\": \"Emergency\", \"admission_time\": \"2025-09-21T19:09:36.526256\", \"discharge_time\": \"2025-09-24T07:09:36.526256\", \"bed_id\": 211, \"hospital_id\": 2}"
        ],
        [
         "{\"patient_id\": \"36301bfd-4c43-4fa6-8eea-08cc02938ea2\", \"gender\": \"Female\", \"age\": 11, \"department\": \"Maternity\", \"admission_time\": \"2025-09-23T07:26:59.374259\", \"discharge_time\": \"2025-09-25T22:26:59.374259\", \"bed_id\": 360, \"hospital_id\": 4}"
        ],
        [
         "{\"patient_id\": \"739351a6-24a3-43c3-af0a-3d1d41b8db59\", \"gender\": \"Female\", \"age\": 20, \"department\": \"Cardiology\", \"admission_time\": \"2025-09-23T02:00:09.151156\", \"discharge_time\": \"2025-09-26T02:00:09.151156\", \"bed_id\": 234, \"hospital_id\": 5}"
        ],
        [
         "{\"patient_id\": \"b0837196-9869-4666-87ba-1bb7a87f3961\", \"gender\": \"Female\", \"age\": 37, \"department\": \"Pediatrics\", \"admission_time\": \"2025-09-20T10:06:40.412752\", \"discharge_time\": \"2025-09-20T22:06:40.412752\", \"bed_id\": 213, \"hospital_id\": 6}"
        ],
        [
         "{\"patient_id\": \"346619cc-3f61-443c-98e3-d08ba4a74bb3\", \"gender\": \"Female\", \"age\": 87, \"department\": \"Pediatrics\", \"admission_time\": \"2025-09-22T01:54:00.908527\", \"discharge_time\": \"2025-09-22T23:54:00.908527\", \"bed_id\": 173, \"hospital_id\": 2}"
        ],
        [
         "{\"patient_id\": \"9aad9200-e925-4259-96bf-8c74d7523b1e\", \"gender\": \"Female\", \"age\": 87, \"department\": \"Maternity\", \"admission_time\": \"2025-09-21T16:54:54.945498\", \"discharge_time\": \"2025-09-22T23:54:54.945498\", \"bed_id\": 254, \"hospital_id\": 1}"
        ],
        [
         "{\"patient_id\": \"199492d9-9845-43f3-a20e-bba3dab87a83\", \"gender\": \"Female\", \"age\": 16, \"department\": \"Emergency\", \"admission_time\": \"2025-09-20T19:07:52.463074\", \"discharge_time\": \"2025-09-22T23:07:52.463074\", \"bed_id\": 210, \"hospital_id\": 3}"
        ],
        [
         "{\"patient_id\": \"e8e61406-a7f4-4aed-a6fd-4e6ef2c9bb12\", \"gender\": \"Female\", \"age\": 19, \"department\": \"Pediatrics\", \"admission_time\": \"2025-09-22T02:08:05.471007\", \"discharge_time\": \"2025-09-22T09:08:05.471007\", \"bed_id\": 377, \"hospital_id\": 5}"
        ],
        [
         "{\"patient_id\": \"8905e0e6-3923-48f3-b4ab-1587641480a5\", \"gender\": \"Female\", \"age\": 10, \"department\": \"Cardiology\", \"admission_time\": \"2025-09-20T23:55:48.983465\", \"discharge_time\": \"2025-09-23T00:55:48.983465\", \"bed_id\": 322, \"hospital_id\": 3}"
        ],
        [
         "{\"patient_id\": \"152addb1-162d-4eec-ad72-7c98cef34089\", \"gender\": \"Female\", \"age\": 25, \"department\": \"Emergency\", \"admission_time\": \"2025-09-21T06:01:12.187486\", \"discharge_time\": \"2025-09-21T11:01:12.187486\", \"bed_id\": 448, \"hospital_id\": 7}"
        ],
        [
         "{\"patient_id\": \"b85d556d-bad7-490e-8c17-0fa17425c2df\", \"gender\": \"Female\", \"age\": 90, \"department\": \"Pediatrics\", \"admission_time\": \"2025-09-21T01:05:55.379833\", \"discharge_time\": \"2025-09-21T13:05:55.379833\", \"bed_id\": 487, \"hospital_id\": 5}"
        ],
        [
         "{\"patient_id\": \"84c284da-9b36-49d4-9810-a8e1791e1309\", \"gender\": \"Female\", \"age\": 47, \"department\": \"Pediatrics\", \"admission_time\": \"2025-09-20T09:04:06.307921\", \"discharge_time\": \"2025-09-21T18:04:06.307921\", \"bed_id\": 15, \"hospital_id\": 7}"
        ],
        [
         "{\"patient_id\": \"4faff738-6967-4731-8d8e-2c63c4a5b779\", \"gender\": \"Female\", \"age\": 11, \"department\": \"Maternity\", \"admission_time\": \"2025-09-21T04:53:16.880470\", \"discharge_time\": \"2025-09-23T18:53:16.880470\", \"bed_id\": 164, \"hospital_id\": 3}"
        ],
        [
         "{\"patient_id\": \"82eb120d-f37c-4717-bdd7-b6415301c959\", \"gender\": \"Female\", \"age\": 16, \"department\": \"Surgery\", \"admission_time\": \"2025-09-25T15:03:08.268167\", \"discharge_time\": \"2025-09-23T00:03:08.268096\", \"bed_id\": 136, \"hospital_id\": 3}"
        ],
        [
         "{\"patient_id\": \"513aae61-a8fb-4f79-ba7d-2d32a698e0c7\", \"gender\": \"Female\", \"age\": 72, \"department\": \"Cardiology\", \"admission_time\": \"2025-09-22T10:07:36.452187\", \"discharge_time\": \"2025-09-25T04:07:36.452187\", \"bed_id\": 272, \"hospital_id\": 6}"
        ],
        [
         "{\"patient_id\": \"b8a2cb13-e1bb-4817-87aa-b4b4819c82a3\", \"gender\": \"Female\", \"age\": 74, \"department\": \"Pediatrics\", \"admission_time\": \"2025-09-20T15:54:38.934513\", \"discharge_time\": \"2025-09-21T10:54:38.934513\", \"bed_id\": 203, \"hospital_id\": 4}"
        ],
        [
         "{\"patient_id\": \"5a375c3e-f860-4835-8d04-e6ce4dff03e4\", \"gender\": \"Female\", \"age\": 76, \"department\": \"Pediatrics\", \"admission_time\": \"2025-09-22T07:01:24.196123\", \"discharge_time\": \"2025-09-22T12:01:24.196123\", \"bed_id\": 280, \"hospital_id\": 2}"
        ],
        [
         "{\"patient_id\": \"b901d528-813b-4406-a795-9e56d338257a\", \"gender\": \"Female\", \"age\": 61, \"department\": \"Surgery\", \"admission_time\": \"2025-09-24T22:53:07.873731\", \"discharge_time\": \"2025-09-23T00:53:07.873660\", \"bed_id\": 202, \"hospital_id\": 5}"
        ],
        [
         "{\"patient_id\": \"98a67fc9-9710-4c53-a57c-946242bc2021\", \"gender\": \"Female\", \"age\": 71, \"department\": \"Surgery\", \"admission_time\": \"2025-09-24T18:01:48.213335\", \"discharge_time\": \"2025-09-25T09:01:48.213259\", \"bed_id\": 159, \"hospital_id\": 3}"
        ],
        [
         "{\"patient_id\": \"3ae63750-4c72-4150-89c1-3b743c435d75\", \"gender\": \"Female\", \"age\": 34, \"department\": \"Cardiology\", \"admission_time\": \"2025-09-20T22:03:54.299589\", \"discharge_time\": \"2025-09-20T23:03:54.299589\", \"bed_id\": 380, \"hospital_id\": 2}"
        ],
        [
         "{\"patient_id\": \"649aa8c4-1962-46fb-9eb7-bc3e42e040be\", \"gender\": \"Male\", \"age\": 91, \"department\": \"Cardiology\", \"admission_time\": \"2025-09-23T15:06:25.403282\", \"discharge_time\": \"2025-09-23T00:06:25.403204\", \"bed_id\": 385, \"hospital_id\": 3}"
        ],
        [
         "{\"patient_id\": \"bd978a7f-d50c-49cb-96bb-13841c36beaa\", \"gender\": \"Female\", \"age\": 20, \"department\": \"Pediatrics\", \"admission_time\": \"2025-09-22T05:08:49.495707\", \"discharge_time\": \"2025-09-23T23:08:49.495707\", \"bed_id\": 79, \"hospital_id\": 6}"
        ],
        [
         "{\"patient_id\": \"932c3910-7bab-48ae-b0a7-2985f71bf0f4\", \"gender\": \"Female\", \"age\": 49, \"department\": \"Pediatrics\", \"admission_time\": \"2025-09-21T06:56:19.002586\", \"discharge_time\": \"2025-09-21T11:56:19.002586\", \"bed_id\": 279, \"hospital_id\": 5}"
        ],
        [
         "{\"patient_id\": \"5c0adf72-fa1f-4700-804a-7f0f021f5d6f\", \"gender\": \"Female\", \"age\": 29, \"department\": \"Cardiology\", \"admission_time\": \"2025-09-20T11:56:23.005634\", \"discharge_time\": \"2025-09-20T20:56:23.005634\", \"bed_id\": 274, \"hospital_id\": 7}"
        ],
        [
         "{\"patient_id\": \"956c30bc-24e5-4560-8898-e4a4126925a1\", \"gender\": \"Female\", \"age\": 108, \"department\": \"Maternity\", \"admission_time\": \"2025-09-23T07:07:09.431571\", \"discharge_time\": \"2025-09-24T04:07:09.431571\", \"bed_id\": 448, \"hospital_id\": 4}"
        ],
        [
         "{\"patient_id\": \"6854afc0-8759-4e31-b15d-318aa2ef3cf7\", \"gender\": \"Female\", \"age\": 133, \"department\": \"Emergency\", \"admission_time\": \"2025-09-22T07:09:47.533399\", \"discharge_time\": \"2025-09-22T13:09:47.533399\", \"bed_id\": 321, \"hospital_id\": 7}"
        ],
        [
         "{\"patient_id\": \"14a68edc-c4b1-4f23-b363-f28361ff5ebb\", \"gender\": \"Female\", \"age\": 80, \"department\": \"Maternity\", \"admission_time\": \"2025-09-22T07:06:37.410139\", \"discharge_time\": \"2025-09-22T08:06:37.410139\", \"bed_id\": 151, \"hospital_id\": 5}"
        ],
        [
         "{\"patient_id\": \"fe956d98-e4be-477e-85d0-4ae5c9dbe5b2\", \"gender\": \"Female\", \"age\": 54, \"department\": \"Surgery\", \"admission_time\": \"2025-09-21T21:08:40.491262\", \"discharge_time\": \"2025-09-24T03:08:40.491262\", \"bed_id\": 416, \"hospital_id\": 4}"
        ],
        [
         "{\"patient_id\": \"46bb7a62-ab97-448e-9b29-782f9021d7d1\", \"gender\": \"Male\", \"age\": 27, \"department\": \"Pediatrics\", \"admission_time\": \"2025-09-21T16:53:33.891331\", \"discharge_time\": \"2025-09-23T04:53:33.891331\", \"bed_id\": 333, \"hospital_id\": 1}"
        ],
        [
         "{\"patient_id\": \"a5fbc59b-da9c-4de2-9227-078c9a64c03f\", \"gender\": \"Female\", \"age\": 15, \"department\": \"Surgery\", \"admission_time\": \"2025-09-20T16:09:17.515269\", \"discharge_time\": \"2025-09-22T10:09:17.515269\", \"bed_id\": 109, \"hospital_id\": 7}"
        ],
        [
         "{\"patient_id\": \"8dc0c919-b94d-4f60-ae63-700a7161bddc\", \"gender\": \"Female\", \"age\": 67, \"department\": \"Cardiology\", \"admission_time\": \"2025-09-21T02:26:33.357009\", \"discharge_time\": \"2025-09-24T02:26:33.357009\", \"bed_id\": 282, \"hospital_id\": 7}"
        ],
        [
         "{\"patient_id\": \"44c78223-4087-47bc-bb0d-43f0a45ee7a6\", \"gender\": \"Female\", \"age\": 52, \"department\": \"Oncology\", \"admission_time\": \"2025-09-23T00:08:08.473590\", \"discharge_time\": \"2025-09-25T21:08:08.473590\", \"bed_id\": 350, \"hospital_id\": 3}"
        ],
        [
         "{\"patient_id\": \"7866ebca-0bfe-4823-ac36-57051569210a\", \"gender\": \"Male\", \"age\": 90, \"department\": \"Cardiology\", \"admission_time\": \"2025-09-21T10:57:13.039533\", \"discharge_time\": \"2025-09-24T10:57:13.039533\", \"bed_id\": 128, \"hospital_id\": 3}"
        ],
        [
         "{\"patient_id\": \"74a6f85d-0cf9-4a4a-91fe-f1fa0562eb7a\", \"gender\": \"Female\", \"age\": 28, \"department\": \"Emergency\", \"admission_time\": \"2025-09-20T13:52:59.866314\", \"discharge_time\": \"2025-09-20T21:52:59.866314\", \"bed_id\": 217, \"hospital_id\": 4}"
        ],
        [
         "{\"patient_id\": \"4e0a43d7-48e4-4867-8f5c-be2a273feff4\", \"gender\": \"Female\", \"age\": 42, \"department\": \"Oncology\", \"admission_time\": \"2025-09-20T19:58:52.101184\", \"discharge_time\": \"2025-09-23T19:58:52.101184\", \"bed_id\": 139, \"hospital_id\": 3}"
        ],
        [
         "{\"patient_id\": \"7374e360-394a-44b2-8340-2c8f6ea685f2\", \"gender\": \"Male\", \"age\": 97, \"department\": \"Cardiology\", \"admission_time\": \"2025-09-21T09:08:07.471900\", \"discharge_time\": \"2025-09-22T16:08:07.471900\", \"bed_id\": 443, \"hospital_id\": 5}"
        ],
        [
         "{\"patient_id\": \"2670a0ed-9a5f-4680-9e42-2079cb70dc0a\", \"gender\": \"Female\", \"age\": 94, \"department\": \"Surgery\", \"admission_time\": \"2025-09-22T07:02:41.250207\", \"discharge_time\": \"2025-09-23T11:02:41.250207\", \"bed_id\": 410, \"hospital_id\": 2}"
        ],
        [
         "{\"patient_id\": \"fb8b12da-74bb-41d4-a9d1-f0f54f3c7a8a\", \"gender\": \"Male\", \"age\": 54, \"department\": \"Cardiology\", \"admission_time\": \"2025-09-20T12:52:50.859948\", \"discharge_time\": \"2025-09-23T10:52:50.859948\", \"bed_id\": 496, \"hospital_id\": 4}"
        ],
        [
         "{\"patient_id\": \"a74d94af-ab12-4081-a08f-c84dc6744e20\", \"gender\": \"Female\", \"age\": 41, \"department\": \"Cardiology\", \"admission_time\": \"2025-09-21T23:05:46.372920\", \"discharge_time\": \"2025-09-23T03:05:46.372920\", \"bed_id\": 161, \"hospital_id\": 2}"
        ],
        [
         "{\"patient_id\": \"7437ffc8-bc0b-4adb-b9c6-0651532ddb60\", \"gender\": \"Female\", \"age\": 23, \"department\": \"Oncology\", \"admission_time\": \"2025-09-22T13:56:31.011697\", \"discharge_time\": \"2025-09-25T05:56:31.011697\", \"bed_id\": 250, \"hospital_id\": 5}"
        ],
        [
         "{\"patient_id\": \"c5cfd05d-3c8d-47f5-a5dd-da3015366ad4\", \"gender\": \"Female\", \"age\": 67, \"department\": \"Maternity\", \"admission_time\": \"2025-09-23T02:02:16.232478\", \"discharge_time\": \"2025-09-23T11:02:16.232478\", \"bed_id\": 279, \"hospital_id\": 2}"
        ],
        [
         "{\"patient_id\": \"80d5905c-4c4c-4ff6-ba7f-0577491e45e0\", \"gender\": \"Female\", \"age\": 61, \"department\": \"Emergency\", \"admission_time\": \"2025-09-20T09:09:10.509184\", \"discharge_time\": \"2025-09-20T22:09:10.509184\", \"bed_id\": 140, \"hospital_id\": 6}"
        ],
        [
         "{\"patient_id\": \"9c8cfe0d-6874-4bee-ad60-48305d5b6321\", \"gender\": \"Female\", \"age\": 93, \"department\": \"Maternity\", \"admission_time\": \"2025-09-21T06:08:52.497049\", \"discharge_time\": \"2025-09-21T10:08:52.497049\", \"bed_id\": 295, \"hospital_id\": 4}"
        ],
        [
         "{\"patient_id\": \"572e865d-3bb6-452f-808c-f0928433848b\", \"gender\": \"Female\", \"age\": 87, \"department\": \"Cardiology\", \"admission_time\": \"2025-09-21T03:54:19.921519\", \"discharge_time\": \"2025-09-23T00:54:19.921519\", \"bed_id\": 47, \"hospital_id\": 6}"
        ],
        [
         "{\"patient_id\": \"976f75b4-36bc-4524-9943-ad62dadb952e\", \"gender\": \"Female\", \"age\": 79, \"department\": \"Emergency\", \"admission_time\": \"2025-09-22T02:05:57.381230\", \"discharge_time\": \"2025-09-22T14:05:57.381230\", \"bed_id\": 313, \"hospital_id\": 3}"
        ],
        [
         "{\"patient_id\": \"db94f637-b7b1-4008-880d-a80917d6b8f6\", \"gender\": \"Female\", \"age\": 79, \"department\": \"Pediatrics\", \"admission_time\": \"2025-09-21T00:55:01.950229\", \"discharge_time\": \"2025-09-23T00:55:01.950229\", \"bed_id\": 247, \"hospital_id\": 6}"
        ],
        [
         "{\"patient_id\": \"b68c8653-5f4a-46b0-a4a6-8b8a5c4bcc4d\", \"gender\": \"Female\", \"age\": 77, \"department\": \"Maternity\", \"admission_time\": \"2025-09-20T09:01:22.194763\", \"discharge_time\": \"2025-09-20T22:01:22.194763\", \"bed_id\": 251, \"hospital_id\": 3}"
        ],
        [
         "{\"patient_id\": \"9d4b1f8e-7036-46d2-bce6-86c40e8df603\", \"gender\": \"Female\", \"age\": 18, \"department\": \"Oncology\", \"admission_time\": \"2025-09-25T01:10:11.549928\", \"discharge_time\": \"2025-09-24T14:10:11.549852\", \"bed_id\": 62, \"hospital_id\": 4}"
        ],
        [
         "{\"patient_id\": \"1dc97efe-7221-4d8c-83f4-49a2d880dea0\", \"gender\": \"Female\", \"age\": 10, \"department\": \"Surgery\", \"admission_time\": \"2025-09-24T08:56:04.994963\", \"discharge_time\": \"2025-09-23T19:56:04.994889\", \"bed_id\": 115, \"hospital_id\": 4}"
        ],
        [
         "{\"patient_id\": \"2306b5c9-186e-4a2a-b530-01a6d9678e74\", \"gender\": \"Female\", \"age\": 62, \"department\": \"Cardiology\", \"admission_time\": \"2025-09-20T10:05:56.380281\", \"discharge_time\": \"2025-09-23T10:05:56.380281\", \"bed_id\": 115, \"hospital_id\": 4}"
        ],
        [
         "{\"patient_id\": \"4e741c18-163d-420f-869d-a2204752d507\", \"gender\": \"Male\", \"age\": 72, \"department\": \"Cardiology\", \"admission_time\": \"2025-09-21T09:01:33.203245\", \"discharge_time\": \"2025-09-23T08:01:33.203245\", \"bed_id\": 238, \"hospital_id\": 4}"
        ],
        [
         "{\"patient_id\": \"de60a05a-e8da-435d-af7f-d23f842929b4\", \"gender\": \"Female\", \"age\": 27, \"department\": \"Maternity\", \"admission_time\": \"2025-09-20T16:02:13.231175\", \"discharge_time\": \"2025-09-20T20:02:13.231175\", \"bed_id\": 311, \"hospital_id\": 2}"
        ],
        [
         "{\"patient_id\": \"2b1f0143-3ca0-4ee2-ba69-80df9a5d6665\", \"gender\": \"Female\", \"age\": 33, \"department\": \"ICU\", \"admission_time\": \"2025-09-23T04:56:56.027047\", \"discharge_time\": \"2025-09-25T18:56:56.027047\", \"bed_id\": 249, \"hospital_id\": 1}"
        ],
        [
         "{\"patient_id\": \"13c81f55-c866-4dd7-b910-fe3aad1bb839\", \"gender\": \"Male\", \"age\": 42, \"department\": \"Cardiology\", \"admission_time\": \"2025-09-22T22:04:34.328608\", \"discharge_time\": \"2025-09-25T18:04:34.328608\", \"bed_id\": 270, \"hospital_id\": 2}"
        ],
        [
         "{\"patient_id\": \"e0e9fbb1-28f2-4ca9-96b3-0954ffce041e\", \"gender\": \"Female\", \"age\": 27, \"department\": \"Emergency\", \"admission_time\": \"2025-09-21T09:57:17.042222\", \"discharge_time\": \"2025-09-21T18:57:17.042222\", \"bed_id\": 338, \"hospital_id\": 3}"
        ],
        [
         "{\"patient_id\": \"03a32649-7eb5-4a5c-bc82-09fc37580f52\", \"gender\": \"Female\", \"age\": 109, \"department\": \"Surgery\", \"admission_time\": \"2025-09-22T15:56:57.027504\", \"discharge_time\": \"2025-09-23T17:56:57.027504\", \"bed_id\": 281, \"hospital_id\": 6}"
        ],
        [
         "{\"patient_id\": \"65e9064a-6fec-4883-bd22-fd786569c671\", \"gender\": \"Female\", \"age\": 92, \"department\": \"Pediatrics\", \"admission_time\": \"2025-09-21T15:07:08.430778\", \"discharge_time\": \"2025-09-24T15:07:08.430778\", \"bed_id\": 311, \"hospital_id\": 5}"
        ],
        [
         "{\"patient_id\": \"a07bf4d7-2a4c-46a3-b5a5-7e93f3861cdc\", \"gender\": \"Male\", \"age\": 21, \"department\": \"Cardiology\", \"admission_time\": \"2025-09-21T23:58:51.100174\", \"discharge_time\": \"2025-09-23T17:58:51.100174\", \"bed_id\": 187, \"hospital_id\": 1}"
        ],
        [
         "{\"patient_id\": \"c5b1c222-1224-4ee0-97f7-47d6efcdd08a\", \"gender\": \"Female\", \"age\": 30, \"department\": \"Oncology\", \"admission_time\": \"2025-09-21T20:04:21.320339\", \"discharge_time\": \"2025-09-24T04:04:21.320339\", \"bed_id\": 418, \"hospital_id\": 1}"
        ],
        [
         "{\"patient_id\": \"05645f17-609b-4c4e-acce-e9d59e6781b6\", \"gender\": \"Female\", \"age\": 56, \"department\": \"Emergency\", \"admission_time\": \"2025-09-22T18:58:17.078876\", \"discharge_time\": \"2025-09-25T11:58:17.078876\", \"bed_id\": 256, \"hospital_id\": 2}"
        ],
        [
         "{\"patient_id\": \"7d710108-c557-4f25-95f9-99ccbdc69562\", \"gender\": \"Female\", \"age\": 92, \"department\": \"Pediatrics\", \"admission_time\": \"2025-09-20T12:03:30.283620\", \"discharge_time\": \"2025-09-23T12:03:30.283620\", \"bed_id\": 363, \"hospital_id\": 1}"
        ],
        [
         "{\"patient_id\": \"4e97516c-3b2c-4229-950b-fcc8b742e9ff\", \"gender\": \"Female\", \"age\": 60, \"department\": \"Emergency\", \"admission_time\": \"2025-09-23T03:56:24.006411\", \"discharge_time\": \"2025-09-23T18:56:24.006411\", \"bed_id\": 478, \"hospital_id\": 4}"
        ],
        [
         "{\"patient_id\": \"6af1b81d-6144-42f8-8001-6552a62a256b\", \"gender\": \"Female\", \"age\": 84, \"department\": \"Pediatrics\", \"admission_time\": \"2025-09-22T00:00:06.149119\", \"discharge_time\": \"2025-09-24T00:00:06.149119\", \"bed_id\": 146, \"hospital_id\": 1}"
        ],
        [
         "{\"patient_id\": \"c81fe5d4-4739-4dba-840b-3200e8ed0e6f\", \"gender\": \"Male\", \"age\": 90, \"department\": \"Cardiology\", \"admission_time\": \"2025-09-20T19:59:06.110783\", \"discharge_time\": \"2025-09-22T15:59:06.110783\", \"bed_id\": 458, \"hospital_id\": 4}"
        ],
        [
         "{\"patient_id\": \"d846b610-3c0a-4523-8368-2aebf4eff3c5\", \"gender\": \"Female\", \"age\": 99, \"department\": \"Pediatrics\", \"admission_time\": \"2025-09-23T04:01:16.190364\", \"discharge_time\": \"2025-09-23T05:01:16.190364\", \"bed_id\": 461, \"hospital_id\": 7}"
        ],
        [
         "{\"patient_id\": \"49daf154-2ba5-4a2b-aa69-ecee0016fc64\", \"gender\": \"Female\", \"age\": 18, \"department\": \"Oncology\", \"admission_time\": \"2025-09-20T13:00:13.152938\", \"discharge_time\": \"2025-09-21T08:00:13.152938\", \"bed_id\": 448, \"hospital_id\": 6}"
        ],
        [
         "{\"patient_id\": \"e85e27c7-bb3e-4da9-b770-4742de208bb8\", \"gender\": \"Female\", \"age\": 14, \"department\": \"Maternity\", \"admission_time\": \"2025-09-22T06:55:04.954089\", \"discharge_time\": \"2025-09-22T14:55:04.954089\", \"bed_id\": 116, \"hospital_id\": 5}"
        ],
        [
         "{\"patient_id\": \"35b50201-cd57-42f8-9ffc-575283d81ec7\", \"gender\": \"Female\", \"age\": 18, \"department\": \"Surgery\", \"admission_time\": \"2025-09-22T19:06:03.385104\", \"discharge_time\": \"2025-09-24T00:06:03.385104\", \"bed_id\": 208, \"hospital_id\": 4}"
        ],
        [
         "{\"patient_id\": \"2a625d5f-d42d-4a1c-9b87-41c400d21436\", \"gender\": \"Female\", \"age\": 97, \"department\": \"Surgery\", \"admission_time\": \"2025-09-21T15:26:56.372426\", \"discharge_time\": \"2025-09-22T14:26:56.372426\", \"bed_id\": 304, \"hospital_id\": 4}"
        ],
        [
         "{\"patient_id\": \"12ee598e-5b96-4dcf-b3ac-3996aac215a5\", \"gender\": \"Female\", \"age\": 91, \"department\": \"Oncology\", \"admission_time\": \"2025-09-22T21:03:29.282651\", \"discharge_time\": \"2025-09-24T06:03:29.282651\", \"bed_id\": 163, \"hospital_id\": 1}"
        ],
        [
         "{\"patient_id\": \"e0da5a1e-651d-474e-a393-de91a23cc496\", \"gender\": \"Male\", \"age\": 90, \"department\": \"Pediatrics\", \"admission_time\": \"2025-09-21T00:06:39.411465\", \"discharge_time\": \"2025-09-22T00:06:39.411465\", \"bed_id\": 420, \"hospital_id\": 1}"
        ],
        [
         "{\"patient_id\": \"d0911454-e6c5-4cc3-8109-04298fbdf373\", \"gender\": \"Female\", \"age\": 62, \"department\": \"Oncology\", \"admission_time\": \"2025-09-22T20:00:03.147090\", \"discharge_time\": \"2025-09-23T03:00:03.147090\", \"bed_id\": 135, \"hospital_id\": 2}"
        ],
        [
         "{\"patient_id\": \"0e026e9c-db85-48f0-a2e8-9f1375e861d7\", \"gender\": \"Male\", \"age\": 48, \"department\": \"Pediatrics\", \"admission_time\": \"2025-09-21T04:54:42.936993\", \"discharge_time\": \"2025-09-22T16:54:42.936993\", \"bed_id\": 389, \"hospital_id\": 2}"
        ],
        [
         "{\"patient_id\": \"62cb6510-b7e5-4b1f-ad6c-25d6f4af5944\", \"gender\": \"Female\", \"age\": 56, \"department\": \"Maternity\", \"admission_time\": \"2025-09-21T04:58:58.105631\", \"discharge_time\": \"2025-09-21T05:58:58.105631\", \"bed_id\": 334, \"hospital_id\": 7}"
        ],
        [
         "{\"patient_id\": \"77fc8e3e-efa4-4729-960a-4ecaa8511266\", \"gender\": \"Male\", \"age\": 62, \"department\": \"Pediatrics\", \"admission_time\": \"2025-09-22T08:00:43.171096\", \"discharge_time\": \"2025-09-23T15:00:43.171096\", \"bed_id\": 366, \"hospital_id\": 2}"
        ],
        [
         "{\"patient_id\": \"ba6d781b-bbc0-4b27-9be1-6107e3cb6a27\", \"gender\": \"Male\", \"age\": 83, \"department\": \"Cardiology\", \"admission_time\": \"2025-09-23T02:06:16.395481\", \"discharge_time\": \"2025-09-24T10:06:16.395481\", \"bed_id\": 128, \"hospital_id\": 3}"
        ],
        [
         "{\"patient_id\": \"0265cc8f-ebe1-4f69-ab52-9a0b620781d8\", \"gender\": \"Female\", \"age\": 44, \"department\": \"Oncology\", \"admission_time\": \"2025-09-22T19:57:45.058576\", \"discharge_time\": \"2025-09-23T03:57:45.058576\", \"bed_id\": 453, \"hospital_id\": 7}"
        ],
        [
         "{\"patient_id\": \"1a12ef62-dd6a-47c9-ac0e-5e1f2f68c645\", \"gender\": \"Male\", \"age\": 81, \"department\": \"Pediatrics\", \"admission_time\": \"2025-09-20T17:05:24.359163\", \"discharge_time\": \"2025-09-23T16:05:24.359163\", \"bed_id\": 408, \"hospital_id\": 6}"
        ],
        [
         "{\"patient_id\": \"17bb67e1-21a0-4665-9bc3-b29dbc4eb08a\", \"gender\": \"Male\", \"age\": 86, \"department\": \"Cardiology\", \"admission_time\": \"2025-09-21T11:53:09.874738\", \"discharge_time\": \"2025-09-23T05:53:09.874738\", \"bed_id\": 335, \"hospital_id\": 1}"
        ],
        [
         "{\"patient_id\": \"1ec7eb14-8bdc-4bcd-91a9-273981f2f0a4\", \"gender\": \"Female\", \"age\": 145, \"department\": \"Surgery\", \"admission_time\": \"2025-09-20T08:57:31.050029\", \"discharge_time\": \"2025-09-21T00:57:31.050029\", \"bed_id\": 159, \"hospital_id\": 6}"
        ],
        [
         "{\"patient_id\": \"75df2a54-929e-4bfa-a900-1b8a36039450\", \"gender\": \"Female\", \"age\": 80, \"department\": \"Oncology\", \"admission_time\": \"2025-09-20T15:26:31.356102\", \"discharge_time\": \"2025-09-22T14:26:31.356102\", \"bed_id\": 238, \"hospital_id\": 2}"
        ],
        [
         "{\"patient_id\": \"4c4f4335-7441-4603-94ec-1f0a5f06da53\", \"gender\": \"Male\", \"age\": 42, \"department\": \"Cardiology\", \"admission_time\": \"2025-09-21T10:01:44.211276\", \"discharge_time\": \"2025-09-22T06:01:44.211276\", \"bed_id\": 254, \"hospital_id\": 6}"
        ],
        [
         "{\"patient_id\": \"e0d44a97-628b-41e8-8d2d-74a6a1096179\", \"gender\": \"Female\", \"age\": 51, \"department\": \"Oncology\", \"admission_time\": \"2025-09-20T11:58:26.085189\", \"discharge_time\": \"2025-09-21T21:58:26.085189\", \"bed_id\": 439, \"hospital_id\": 1}"
        ],
        [
         "{\"patient_id\": \"d9863561-7643-4a18-8c66-ea6d2a430c8c\", \"gender\": \"Female\", \"age\": 69, \"department\": \"Oncology\", \"admission_time\": \"2025-09-22T08:06:43.414658\", \"discharge_time\": \"2025-09-24T19:06:43.414658\", \"bed_id\": 257, \"hospital_id\": 1}"
        ],
        [
         "{\"patient_id\": \"ad838de2-871f-4074-b01d-a9776aa32656\", \"gender\": \"Female\", \"age\": 92, \"department\": \"Maternity\", \"admission_time\": \"2025-09-22T08:07:48.460609\", \"discharge_time\": \"2025-09-25T05:07:48.460609\", \"bed_id\": 178, \"hospital_id\": 5}"
        ],
        [
         "{\"patient_id\": \"2d3c167f-1254-4ca8-be15-a6a1e57e1f97\", \"gender\": \"Female\", \"age\": 34, \"department\": \"Oncology\", \"admission_time\": \"2025-09-20T13:56:41.017239\", \"discharge_time\": \"2025-09-22T16:56:41.017239\", \"bed_id\": 402, \"hospital_id\": 1}"
        ],
        [
         "{\"patient_id\": \"991c4adc-7614-49b4-8403-5541ce1f7ec0\", \"gender\": \"Female\", \"age\": 54, \"department\": \"Oncology\", \"admission_time\": \"2025-09-22T03:55:34.974999\", \"discharge_time\": \"2025-09-25T01:55:34.974999\", \"bed_id\": 321, \"hospital_id\": 5}"
        ],
        [
         "{\"patient_id\": \"5d2307cc-9662-45df-bf10-f3e444b4471a\", \"gender\": \"Male\", \"age\": 10, \"department\": \"Pediatrics\", \"admission_time\": \"2025-09-22T04:04:46.337139\", \"discharge_time\": \"2025-09-24T20:04:46.337139\", \"bed_id\": 394, \"hospital_id\": 2}"
        ],
        [
         "{\"patient_id\": \"1123b240-e60a-483b-9ff8-f2147b44067b\", \"gender\": \"Male\", \"age\": 66, \"department\": \"Cardiology\", \"admission_time\": \"2025-09-22T10:59:57.144142\", \"discharge_time\": \"2025-09-23T00:59:57.144142\", \"bed_id\": 283, \"hospital_id\": 3}"
        ],
        [
         "{\"patient_id\": \"7d67387a-3d9c-4152-affb-a912562806df\", \"gender\": \"Male\", \"age\": 97, \"department\": \"Pediatrics\", \"admission_time\": \"2025-09-22T23:53:52.902625\", \"discharge_time\": \"2025-09-24T18:53:52.902625\", \"bed_id\": 460, \"hospital_id\": 4}"
        ],
        [
         "{\"patient_id\": \"856fb6be-e788-4f77-b7bb-c80a1559687a\", \"gender\": \"Female\", \"age\": 31, \"department\": \"Emergency\", \"admission_time\": \"2025-09-21T14:09:20.516664\", \"discharge_time\": \"2025-09-21T17:09:20.516664\", \"bed_id\": 322, \"hospital_id\": 4}"
        ],
        [
         "{\"patient_id\": \"a272e09e-afc4-48a9-8fd0-5485289106c3\", \"gender\": \"Male\", \"age\": 70, \"department\": \"Pediatrics\", \"admission_time\": \"2025-09-21T13:10:14.551182\", \"discharge_time\": \"2025-09-22T05:10:14.551182\", \"bed_id\": 294, \"hospital_id\": 2}"
        ],
        [
         "{\"patient_id\": \"ad8ec2d2-715e-48cf-80a0-85ef61b2154b\", \"gender\": \"Female\", \"age\": 88, \"department\": \"Oncology\", \"admission_time\": \"2025-09-20T12:52:57.865066\", \"discharge_time\": \"2025-09-22T05:52:57.865066\", \"bed_id\": 245, \"hospital_id\": 3}"
        ],
        [
         "{\"patient_id\": \"db378c0b-f224-4bf2-a8f3-74d0be5537df\", \"gender\": \"Male\", \"age\": 58, \"department\": \"Pediatrics\", \"admission_time\": \"2025-09-23T04:05:27.360865\", \"discharge_time\": \"2025-09-25T07:05:27.360865\", \"bed_id\": 215, \"hospital_id\": 1}"
        ],
        [
         "{\"patient_id\": \"f685f305-4fb6-418e-9227-22ec360c6099\", \"gender\": \"Female\", \"age\": 92, \"department\": \"Emergency\", \"admission_time\": \"2025-09-23T03:07:50.461594\", \"discharge_time\": \"2025-09-23T05:07:50.461594\", \"bed_id\": 324, \"hospital_id\": 5}"
        ],
        [
         "{\"patient_id\": \"adf72c6f-bdcc-40ab-bcc9-50210d5b2ef2\", \"gender\": \"Male\", \"age\": 42, \"department\": \"Pediatrics\", \"admission_time\": \"2025-09-23T05:57:34.051581\", \"discharge_time\": \"2025-09-25T05:57:34.051581\", \"bed_id\": 162, \"hospital_id\": 5}"
        ],
        [
         "{\"patient_id\": \"1b88eb9d-de51-4912-aa36-44ed88db9aa6\", \"gender\": \"Male\", \"age\": 93, \"department\": \"Pediatrics\", \"admission_time\": \"2025-09-22T21:00:49.174299\", \"discharge_time\": \"2025-09-23T20:00:49.174299\", \"bed_id\": 480, \"hospital_id\": 7}"
        ],
        [
         "{\"patient_id\": \"3b9baade-f6fa-4ffa-9d2f-d8c06219e1b5\", \"gender\": \"Female\", \"age\": 15, \"department\": \"Oncology\", \"admission_time\": \"2025-09-21T06:26:20.348072\", \"discharge_time\": \"2025-09-23T19:26:20.348072\", \"bed_id\": 270, \"hospital_id\": 1}"
        ],
        [
         "{\"patient_id\": \"c3fc4849-9720-4e6b-9670-cc00c8f2011f\", \"gender\": \"Male\", \"age\": 41, \"department\": \"Cardiology\", \"admission_time\": \"2025-09-22T18:01:28.199927\", \"discharge_time\": \"2025-09-23T16:01:28.199927\", \"bed_id\": 495, \"hospital_id\": 3}"
        ],
        [
         "{\"patient_id\": \"622bdd76-3cdf-4382-b52a-92cc15fa043c\", \"gender\": \"Female\", \"age\": 93, \"department\": \"Oncology\", \"admission_time\": \"2025-09-21T23:04:36.330345\", \"discharge_time\": \"2025-09-24T22:04:36.330345\", \"bed_id\": 110, \"hospital_id\": 2}"
        ],
        [
         "{\"patient_id\": \"e72a9aaa-ee4d-45c9-8c95-45ad31c06281\", \"gender\": \"Female\", \"age\": 115, \"department\": \"Surgery\", \"admission_time\": \"2025-09-20T15:01:09.185913\", \"discharge_time\": \"2025-09-23T04:01:09.185913\", \"bed_id\": 260, \"hospital_id\": 3}"
        ],
        [
         "{\"patient_id\": \"f68b84d6-9514-4ca7-977d-77a32dc46795\", \"gender\": \"Female\", \"age\": 81, \"department\": \"Oncology\", \"admission_time\": \"2025-09-20T13:02:50.256118\", \"discharge_time\": \"2025-09-21T21:02:50.256118\", \"bed_id\": 309, \"hospital_id\": 4}"
        ],
        [
         "{\"patient_id\": \"603a12e6-7dfe-42b6-a9f1-9bdb7d56e28c\", \"gender\": \"Female\", \"age\": 47, \"department\": \"Oncology\", \"admission_time\": \"2025-09-25T14:01:41.209674\", \"discharge_time\": \"2025-09-24T07:01:41.209604\", \"bed_id\": 22, \"hospital_id\": 7}"
        ],
        [
         "{\"patient_id\": \"22abe0f7-37b1-451c-8177-f9e85b1275da\", \"gender\": \"Female\", \"age\": 53, \"department\": \"Oncology\", \"admission_time\": \"2025-09-22T23:03:05.265856\", \"discharge_time\": \"2025-09-25T21:03:05.265856\", \"bed_id\": 198, \"hospital_id\": 6}"
        ],
        [
         "{\"patient_id\": \"f49e5e8e-d585-4d37-b1d9-339995196794\", \"gender\": \"Female\", \"age\": 52, \"department\": \"Oncology\", \"admission_time\": \"2025-09-22T13:01:42.210309\", \"discharge_time\": \"2025-09-23T05:01:42.210309\", \"bed_id\": 145, \"hospital_id\": 1}"
        ],
        [
         "{\"patient_id\": \"3d546c5e-3c4d-4286-bbf6-725e3fbf0af1\", \"gender\": \"Male\", \"age\": 46, \"department\": \"Cardiology\", \"admission_time\": \"2025-09-22T19:59:41.133168\", \"discharge_time\": \"2025-09-24T08:59:41.133168\", \"bed_id\": 462, \"hospital_id\": 6}"
        ],
        [
         "{\"patient_id\": \"c124525b-3c62-4fef-91db-110aba7d98ef\", \"gender\": \"Female\", \"age\": 73, \"department\": \"Oncology\", \"admission_time\": \"2025-09-22T19:53:24.885200\", \"discharge_time\": \"2025-09-25T16:53:24.885200\", \"bed_id\": 221, \"hospital_id\": 2}"
        ],
        [
         "{\"patient_id\": \"408f59ab-6445-402d-b6a3-68a937ae8732\", \"gender\": \"Male\", \"age\": 74, \"department\": \"Pediatrics\", \"admission_time\": \"2025-09-20T23:10:41.572452\", \"discharge_time\": \"2025-09-21T23:10:41.572452\", \"bed_id\": 129, \"hospital_id\": 5}"
        ],
        [
         "{\"patient_id\": \"5c6e9343-12cc-4894-89d7-02a18409277b\", \"gender\": \"Male\", \"age\": 84, \"department\": \"Pediatrics\", \"admission_time\": \"2025-09-21T14:06:09.389585\", \"discharge_time\": \"2025-09-22T14:06:09.389585\", \"bed_id\": 424, \"hospital_id\": 7}"
        ],
        [
         "{\"patient_id\": \"247e6123-c733-474f-96b1-a89b697395a1\", \"gender\": \"Male\", \"age\": 43, \"department\": \"Cardiology\", \"admission_time\": \"2025-09-20T08:09:37.527188\", \"discharge_time\": \"2025-09-22T21:09:37.527188\", \"bed_id\": 294, \"hospital_id\": 5}"
        ],
        [
         "{\"patient_id\": \"799c5acf-ec60-4223-bd22-c348fac8150f\", \"gender\": \"Female\", \"age\": 65, \"department\": \"Oncology\", \"admission_time\": \"2025-09-22T15:58:24.083773\", \"discharge_time\": \"2025-09-23T20:58:24.083773\", \"bed_id\": 310, \"hospital_id\": 6}"
        ],
        [
         "{\"patient_id\": \"9698cf9b-0a0a-4dca-8c88-ce62f55f418a\", \"gender\": \"Female\", \"age\": 77, \"department\": \"Oncology\", \"admission_time\": \"2025-09-21T08:57:15.040404\", \"discharge_time\": \"2025-09-23T23:57:15.040404\", \"bed_id\": 260, \"hospital_id\": 6}"
        ],
        [
         "{\"patient_id\": \"61223b0f-d78c-4d9b-afa2-8da8c1e40caa\", \"gender\": \"Male\", \"age\": 30, \"department\": \"Pediatrics\", \"admission_time\": \"2025-09-21T08:55:13.960093\", \"discharge_time\": \"2025-09-23T18:55:13.960093\", \"bed_id\": 200, \"hospital_id\": 7}"
        ],
        [
         "{\"patient_id\": \"b240ab3e-7375-49ce-be69-5bc7511f5c24\", \"gender\": \"Female\", \"age\": 76, \"department\": \"Maternity\", \"admission_time\": \"2025-09-22T21:58:09.074497\", \"discharge_time\": \"2025-09-22T22:58:09.074497\", \"bed_id\": 282, \"hospital_id\": 4}"
        ],
        [
         "{\"patient_id\": \"ba251406-eaca-41e9-80ab-08c4f6961ec7\", \"gender\": \"Male\", \"age\": 55, \"department\": \"Pediatrics\", \"admission_time\": \"2025-09-22T18:57:12.038193\", \"discharge_time\": \"2025-09-25T03:57:12.038193\", \"bed_id\": 429, \"hospital_id\": 6}"
        ],
        [
         "{\"patient_id\": \"e6f95c7a-a079-4b90-8a3e-4b53bab9ae06\", \"gender\": \"Male\", \"age\": 75, \"department\": \"Pediatrics\", \"admission_time\": \"2025-09-22T17:07:28.444357\", \"discharge_time\": \"2025-09-25T09:07:28.444357\", \"bed_id\": 246, \"hospital_id\": 7}"
        ],
        [
         "{\"patient_id\": \"1a0a78ab-8692-4ef4-9924-3339214d715c\", \"gender\": \"Female\", \"age\": 116, \"department\": \"Surgery\", \"admission_time\": \"2025-09-21T03:26:21.348656\", \"discharge_time\": \"2025-09-22T12:26:21.348656\", \"bed_id\": 162, \"hospital_id\": 5}"
        ],
        [
         "{\"patient_id\": \"8e1cd2d0-b831-4e54-8d3a-c6ab3baa2428\", \"gender\": \"Female\", \"age\": 44, \"department\": \"Emergency\", \"admission_time\": \"2025-09-21T11:59:03.109419\", \"discharge_time\": \"2025-09-21T15:59:03.109419\", \"bed_id\": 275, \"hospital_id\": 2}"
        ],
        [
         "{\"patient_id\": \"3285d62f-45e5-4bec-b4f9-645663686b43\", \"gender\": \"Male\", \"age\": 10, \"department\": \"Cardiology\", \"admission_time\": \"2025-09-20T14:56:47.022110\", \"discharge_time\": \"2025-09-23T14:56:47.022110\", \"bed_id\": 252, \"hospital_id\": 7}"
        ],
        [
         "{\"patient_id\": \"2211826a-137d-4dec-bee3-b057473b79d8\", \"gender\": \"Male\", \"age\": 65, \"department\": \"Cardiology\", \"admission_time\": \"2025-09-20T23:06:19.397951\", \"discharge_time\": \"2025-09-23T22:06:19.397951\", \"bed_id\": 299, \"hospital_id\": 4}"
        ],
        [
         "{\"patient_id\": \"5cbb1f81-d5dd-4d3b-8273-47b4d9e7320d\", \"gender\": \"Female\", \"age\": 37, \"department\": \"Oncology\", \"admission_time\": \"2025-09-22T20:03:52.298174\", \"discharge_time\": \"2025-09-24T22:03:52.298174\", \"bed_id\": 231, \"hospital_id\": 1}"
        ],
        [
         "{\"patient_id\": \"f3c5c9e7-fe76-4fc7-9df9-89a96e231aed\", \"gender\": \"Male\", \"age\": 26, \"department\": \"Cardiology\", \"admission_time\": \"2025-09-20T09:07:46.458342\", \"discharge_time\": \"2025-09-22T21:07:46.458342\", \"bed_id\": 223, \"hospital_id\": 1}"
        ],
        [
         "{\"patient_id\": \"872d6fa4-8024-457c-8db4-570b97450ab9\", \"gender\": \"Female\", \"age\": 37, \"department\": \"Oncology\", \"admission_time\": \"2025-09-21T23:09:07.506829\", \"discharge_time\": \"2025-09-22T11:09:07.506829\", \"bed_id\": 135, \"hospital_id\": 6}"
        ],
        [
         "{\"patient_id\": \"ec40cf76-c4a4-4f09-a19a-dacc1861827e\", \"gender\": \"Male\", \"age\": 18, \"department\": \"Pediatrics\", \"admission_time\": \"2025-09-22T09:03:04.265395\", \"discharge_time\": \"2025-09-24T15:03:04.265395\", \"bed_id\": 448, \"hospital_id\": 1}"
        ],
        [
         "{\"patient_id\": \"de9429bf-d28d-46aa-9399-d922b24839de\", \"gender\": \"Female\", \"age\": 39, \"department\": \"Oncology\", \"admission_time\": \"2025-09-21T10:53:15.880060\", \"discharge_time\": \"2025-09-23T03:53:15.880060\", \"bed_id\": 372, \"hospital_id\": 4}"
        ],
        [
         "{\"patient_id\": \"10510c61-c6d8-4ba4-88f8-76ab91022a9b\", \"gender\": \"Female\", \"age\": 39, \"department\": \"Oncology\", \"admission_time\": \"2025-09-22T20:09:41.529289\", \"discharge_time\": \"2025-09-23T13:09:41.529289\", \"bed_id\": 163, \"hospital_id\": 1}"
        ],
        [
         "{\"patient_id\": \"727b9d05-0ee2-4484-b6a5-a2f818880f9a\", \"gender\": \"Male\", \"age\": 22, \"department\": \"Pediatrics\", \"admission_time\": \"2025-09-22T00:56:50.023673\", \"discharge_time\": \"2025-09-24T17:56:50.023673\", \"bed_id\": 318, \"hospital_id\": 6}"
        ],
        [
         "{\"patient_id\": \"11985953-bb78-450e-bdfa-31f7624e3077\", \"gender\": \"Male\", \"age\": 44, \"department\": \"Cardiology\", \"admission_time\": \"2025-09-21T03:59:59.145041\", \"discharge_time\": \"2025-09-23T16:59:59.145041\", \"bed_id\": 237, \"hospital_id\": 4}"
        ],
        [
         "{\"patient_id\": \"602dccec-def8-4ca0-80aa-1ee2540b2ce2\", \"gender\": \"Female\", \"age\": 57, \"department\": \"Oncology\", \"admission_time\": \"2025-09-21T17:56:43.019766\", \"discharge_time\": \"2025-09-23T09:56:43.019766\", \"bed_id\": 105, \"hospital_id\": 2}"
        ],
        [
         "{\"patient_id\": \"221888f6-dee6-4d6e-8eb3-c9dbdd1e21e3\", \"gender\": \"Male\", \"age\": 14, \"department\": \"Cardiology\", \"admission_time\": \"2025-09-21T09:54:22.922964\", \"discharge_time\": \"2025-09-23T13:54:22.922964\", \"bed_id\": 131, \"hospital_id\": 5}"
        ],
        [
         "{\"patient_id\": \"5ca0e7be-72e3-49fe-b818-7f5c19aee725\", \"gender\": \"Male\", \"age\": 52, \"department\": \"Cardiology\", \"admission_time\": \"2025-09-23T04:05:31.363018\", \"discharge_time\": \"2025-09-24T16:05:31.363018\", \"bed_id\": 403, \"hospital_id\": 6}"
        ],
        [
         "{\"patient_id\": \"b85c7687-9976-4dc8-b7d6-17087d3434eb\", \"gender\": \"Male\", \"age\": 49, \"department\": \"Pediatrics\", \"admission_time\": \"2025-09-22T23:56:58.028447\", \"discharge_time\": \"2025-09-25T09:56:58.028447\", \"bed_id\": 148, \"hospital_id\": 4}"
        ],
        [
         "{\"patient_id\": \"13011ed2-d571-49f5-aab1-43fb506c52dc\", \"gender\": \"Female\", \"age\": 58, \"department\": \"Oncology\", \"admission_time\": \"2025-09-22T13:02:17.233379\", \"discharge_time\": \"2025-09-23T15:02:17.233379\", \"bed_id\": 348, \"hospital_id\": 6}"
        ],
        [
         "{\"patient_id\": \"352b8cbe-94a9-4e53-8d2b-23135a0b3b5f\", \"gender\": \"Male\", \"age\": 24, \"department\": \"Cardiology\", \"admission_time\": \"2025-09-21T15:09:26.520303\", \"discharge_time\": \"2025-09-24T14:09:26.520303\", \"bed_id\": 288, \"hospital_id\": 1}"
        ],
        [
         "{\"patient_id\": \"6ee32b6d-d893-4c71-a9cd-7e38ffb4ebe7\", \"gender\": \"Female\", \"age\": 32, \"department\": \"Oncology\", \"admission_time\": \"2025-09-22T06:07:55.465041\", \"discharge_time\": \"2025-09-24T10:07:55.465041\", \"bed_id\": 261, \"hospital_id\": 1}"
        ],
        [
         "{\"patient_id\": \"29a7143e-910d-486f-8381-7a8fa05376d9\", \"gender\": \"Male\", \"age\": 32, \"department\": \"Cardiology\", \"admission_time\": \"2025-09-21T18:08:24.482047\", \"discharge_time\": \"2025-09-24T11:08:24.482047\", \"bed_id\": 188, \"hospital_id\": 4}"
        ],
        [
         "{\"patient_id\": \"8e9a651c-dab3-4353-8bfc-5922003a08e4\", \"gender\": \"Female\", \"age\": 99, \"department\": \"Oncology\", \"admission_time\": \"2025-09-21T11:58:11.075919\", \"discharge_time\": \"2025-09-22T14:58:11.075919\", \"bed_id\": 222, \"hospital_id\": 3}"
        ],
        [
         "{\"patient_id\": \"676c56af-b84a-41d8-a8ba-13b385f5262d\", \"gender\": \"Male\", \"age\": 13, \"department\": \"Cardiology\", \"admission_time\": \"2025-09-20T23:01:05.183823\", \"discharge_time\": \"2025-09-21T05:01:05.183823\", \"bed_id\": 252, \"hospital_id\": 2}"
        ],
        [
         "{\"patient_id\": \"e87a08f2-6944-41ec-8d75-32be28fe9ea8\", \"gender\": \"Male\", \"age\": 37, \"department\": \"Pediatrics\", \"admission_time\": \"2025-09-23T05:57:25.047035\", \"discharge_time\": \"2025-09-24T23:57:25.047035\", \"bed_id\": 327, \"hospital_id\": 2}"
        ],
        [
         "{\"patient_id\": \"07dd2bb1-a738-4494-9017-ecdd1e623095\", \"gender\": \"Male\", \"age\": 35, \"department\": \"Pediatrics\", \"admission_time\": \"2025-09-20T10:58:01.068234\", \"discharge_time\": \"2025-09-21T17:58:01.068234\", \"bed_id\": 393, \"hospital_id\": 3}"
        ],
        [
         "{\"patient_id\": \"6f17f2a2-d7e5-4098-a56a-c2e31cd76750\", \"gender\": \"Male\", \"age\": 86, \"department\": \"Pediatrics\", \"admission_time\": \"2025-09-21T22:07:24.441905\", \"discharge_time\": \"2025-09-23T00:07:24.441905\", \"bed_id\": 257, \"hospital_id\": 5}"
        ],
        [
         "{\"patient_id\": \"ef9e8319-648d-452d-8e03-7014c2b576d6\", \"gender\": \"Male\", \"age\": 24, \"department\": \"Cardiology\", \"admission_time\": \"2025-09-22T17:05:50.375273\", \"discharge_time\": \"2025-09-25T16:05:50.375273\", \"bed_id\": 341, \"hospital_id\": 2}"
        ],
        [
         "{\"patient_id\": \"721a4ac9-06bc-44ae-9ad0-f9e20ba80156\", \"gender\": \"Male\", \"age\": 39, \"department\": \"Pediatrics\", \"admission_time\": \"2025-09-21T09:09:21.517102\", \"discharge_time\": \"2025-09-24T06:09:21.517102\", \"bed_id\": 409, \"hospital_id\": 4}"
        ],
        [
         "{\"patient_id\": \"70339744-b9e5-470c-be6a-2a2cad2749f1\", \"gender\": \"Male\", \"age\": 30, \"department\": \"Cardiology\", \"admission_time\": \"2025-09-21T06:58:47.098175\", \"discharge_time\": \"2025-09-22T13:58:47.098175\", \"bed_id\": 402, \"hospital_id\": 2}"
        ],
        [
         "{\"patient_id\": \"549e383e-ad4a-4978-9b1f-0e9a6d7d67a3\", \"gender\": \"Male\", \"age\": 14, \"department\": \"Pediatrics\", \"admission_time\": \"2025-09-21T02:05:37.366267\", \"discharge_time\": \"2025-09-22T02:05:37.366267\", \"bed_id\": 396, \"hospital_id\": 6}"
        ],
        [
         "{\"patient_id\": \"2ec0ae4a-7736-436d-9ae3-a5dc97e2e5be\", \"gender\": \"Female\", \"age\": 25, \"department\": \"Oncology\", \"admission_time\": \"2025-09-20T12:57:59.067321\", \"discharge_time\": \"2025-09-21T03:57:59.067321\", \"bed_id\": 255, \"hospital_id\": 2}"
        ],
        [
         "{\"patient_id\": \"ef5e9c8d-6167-4e70-8ce7-3388f91a81b2\", \"gender\": \"Female\", \"age\": 77, \"department\": \"Oncology\", \"admission_time\": \"2025-09-20T22:56:14.000033\", \"discharge_time\": \"2025-09-23T11:56:14.000033\", \"bed_id\": 176, \"hospital_id\": 6}"
        ],
        [
         "{\"patient_id\": \"409e9953-4bd3-4eb2-bdf8-dcb335262153\", \"gender\": \"Male\", \"age\": 39, \"department\": \"Pediatrics\", \"admission_time\": \"2025-09-21T13:07:19.437640\", \"discharge_time\": \"2025-09-23T10:07:19.437640\", \"bed_id\": 129, \"hospital_id\": 4}"
        ],
        [
         "{\"patient_id\": \"7199ade1-701c-467d-8d7b-bc131bc28304\", \"gender\": \"Female\", \"age\": 76, \"department\": \"Oncology\", \"admission_time\": \"2025-09-21T19:01:40.208751\", \"discharge_time\": \"2025-09-24T05:01:40.208751\", \"bed_id\": 102, \"hospital_id\": 5}"
        ],
        [
         "{\"patient_id\": \"4c485cc5-c362-498b-aeb5-1bba2aecf190\", \"gender\": \"Male\", \"age\": 54, \"department\": \"Pediatrics\", \"admission_time\": \"2025-09-21T07:05:43.371027\", \"discharge_time\": \"2025-09-22T12:05:43.371027\", \"bed_id\": 236, \"hospital_id\": 1}"
        ],
        [
         "{\"patient_id\": \"7d222def-8ed8-4d97-b634-d851e511e81d\", \"gender\": \"Male\", \"age\": 51, \"department\": \"Pediatrics\", \"admission_time\": \"2025-09-21T04:58:25.084759\", \"discharge_time\": \"2025-09-23T10:58:25.084759\", \"bed_id\": 416, \"hospital_id\": 5}"
        ],
        [
         "{\"patient_id\": \"09d00402-8537-443b-8fc2-18db8bdc7ce1\", \"gender\": \"Male\", \"age\": 69, \"department\": \"Pediatrics\", \"admission_time\": \"2025-09-22T06:05:21.357320\", \"discharge_time\": \"2025-09-23T17:05:21.357320\", \"bed_id\": 318, \"hospital_id\": 3}"
        ],
        [
         "{\"patient_id\": \"6fb0a4fd-4411-4096-9bb6-7475fda0efee\", \"gender\": \"Female\", \"age\": 142, \"department\": \"Surgery\", \"admission_time\": \"2025-09-22T10:01:45.211756\", \"discharge_time\": \"2025-09-23T12:01:45.211756\", \"bed_id\": 215, \"hospital_id\": 2}"
        ],
        [
         "{\"patient_id\": \"891bbf33-d3af-4aa1-b33b-8a163e268856\", \"gender\": \"Male\", \"age\": 53, \"department\": \"Pediatrics\", \"admission_time\": \"2025-09-21T13:09:44.532009\", \"discharge_time\": \"2025-09-24T12:09:44.532009\", \"bed_id\": 324, \"hospital_id\": 5}"
        ],
        [
         "{\"patient_id\": \"767e3bc3-2ce7-44c1-b8bc-e79b6910d9b1\", \"gender\": \"Male\", \"age\": 41, \"department\": \"Pediatrics\", \"admission_time\": \"2025-09-23T03:05:09.350522\", \"discharge_time\": \"2025-09-24T10:05:09.350522\", \"bed_id\": 266, \"hospital_id\": 7}"
        ],
        [
         "{\"patient_id\": \"d0e05bb2-36ea-44e0-9d42-21c84c9b646e\", \"gender\": \"Male\", \"age\": 71, \"department\": \"Pediatrics\", \"admission_time\": \"2025-09-21T15:00:27.161690\", \"discharge_time\": \"2025-09-22T12:00:27.161690\", \"bed_id\": 451, \"hospital_id\": 2}"
        ],
        [
         "{\"patient_id\": \"b4ce9c59-1e17-4194-8982-10623c2c3a95\", \"gender\": \"Male\", \"age\": 40, \"department\": \"Pediatrics\", \"admission_time\": \"2025-09-22T21:08:39.490832\", \"discharge_time\": \"2025-09-25T03:08:39.490832\", \"bed_id\": 180, \"hospital_id\": 1}"
        ],
        [
         "{\"patient_id\": \"678b3e74-a20f-4dc2-bdad-bb14d2849c56\", \"gender\": \"Male\", \"age\": 38, \"department\": \"Pediatrics\", \"admission_time\": \"2025-09-22T11:56:49.023246\", \"discharge_time\": \"2025-09-24T14:56:49.023246\", \"bed_id\": 308, \"hospital_id\": 5}"
        ],
        [
         "{\"patient_id\": \"7b66be3c-9027-4dd6-af70-a9d80b168e18\", \"gender\": \"Male\", \"age\": 89, \"department\": \"Pediatrics\", \"admission_time\": \"2025-09-21T09:10:23.560136\", \"discharge_time\": \"2025-09-23T15:10:23.560136\", \"bed_id\": 246, \"hospital_id\": 4}"
        ],
        [
         "{\"patient_id\": \"f546a36c-c35f-416c-84d6-3fcc5529aebf\", \"gender\": \"Male\", \"age\": 98, \"department\": \"Pediatrics\", \"admission_time\": \"2025-09-20T19:56:33.013075\", \"discharge_time\": \"2025-09-22T19:56:33.013075\", \"bed_id\": 402, \"hospital_id\": 6}"
        ],
        [
         "{\"patient_id\": \"8e6a91b8-83c9-4041-91ad-266c3cc92656\", \"gender\": \"Male\", \"age\": 11, \"department\": \"Pediatrics\", \"admission_time\": \"2025-09-22T13:00:25.160166\", \"discharge_time\": \"2025-09-23T04:00:25.160166\", \"bed_id\": 398, \"hospital_id\": 6}"
        ],
        [
         "{\"patient_id\": \"503826b0-962a-4363-b3fe-b7d2a1f988e8\", \"gender\": \"Male\", \"age\": 92, \"department\": \"Pediatrics\", \"admission_time\": \"2025-09-23T06:02:23.239207\", \"discharge_time\": \"2025-09-25T22:02:23.239207\", \"bed_id\": 102, \"hospital_id\": 5}"
        ],
        [
         "{\"patient_id\": \"e8b28b16-b93c-4243-9e81-97f82c997fbf\", \"gender\": \"Male\", \"age\": 48, \"department\": \"Pediatrics\", \"admission_time\": \"2025-09-23T06:01:19.191903\", \"discharge_time\": \"2025-09-25T22:01:19.191903\", \"bed_id\": 189, \"hospital_id\": 6}"
        ],
        [
         "{\"patient_id\": \"82aaf95f-9d7c-4ecf-9488-7bc9886e5157\", \"gender\": \"Male\", \"age\": 76, \"department\": \"Cardiology\", \"admission_time\": \"2025-09-20T14:06:22.399884\", \"discharge_time\": \"2025-09-21T16:06:22.399884\", \"bed_id\": 452, \"hospital_id\": 7}"
        ],
        [
         "{\"patient_id\": \"88123402-dd61-47e3-b616-4e612395600f\", \"gender\": \"Male\", \"age\": 11, \"department\": \"Pediatrics\", \"admission_time\": \"2025-09-22T18:08:10.474472\", \"discharge_time\": \"2025-09-24T11:08:10.474472\", \"bed_id\": 171, \"hospital_id\": 4}"
        ],
        [
         "{\"patient_id\": \"f5012eec-b640-4b83-a844-3df9cf4a1f73\", \"gender\": \"Female\", \"age\": 39, \"department\": \"Emergency\", \"admission_time\": \"2025-09-21T13:59:31.127927\", \"discharge_time\": \"2025-09-21T15:59:31.127927\", \"bed_id\": 308, \"hospital_id\": 4}"
        ],
        [
         "{\"patient_id\": \"5aa17e71-a8c2-4c0e-ae1d-e8122dbed801\", \"gender\": \"Male\", \"age\": 86, \"department\": \"Pediatrics\", \"admission_time\": \"2025-09-22T02:56:45.020805\", \"discharge_time\": \"2025-09-24T22:56:45.020805\", \"bed_id\": 266, \"hospital_id\": 4}"
        ],
        [
         "{\"patient_id\": \"b6cb6c54-b51a-4d5f-8220-30c1ebfb7ed8\", \"gender\": \"Female\", \"age\": 140, \"department\": \"Emergency\", \"admission_time\": \"2025-09-22T02:05:35.365331\", \"discharge_time\": \"2025-09-22T05:05:35.365331\", \"bed_id\": 431, \"hospital_id\": 2}"
        ],
        [
         "{\"patient_id\": \"7c4c9fae-e197-4042-ad39-92d1ce3561b7\", \"gender\": \"Male\", \"age\": 35, \"department\": \"Pediatrics\", \"admission_time\": \"2025-09-21T19:04:35.329889\", \"discharge_time\": \"2025-09-24T16:04:35.329889\", \"bed_id\": 202, \"hospital_id\": 5}"
        ],
        [
         "{\"patient_id\": \"5d439fe8-304d-464d-af0d-b472ccf863f8\", \"gender\": \"Male\", \"age\": 34, \"department\": \"Pediatrics\", \"admission_time\": \"2025-09-22T23:54:18.920506\", \"discharge_time\": \"2025-09-23T16:54:18.920506\", \"bed_id\": 218, \"hospital_id\": 3}"
        ],
        [
         "{\"patient_id\": \"0a71f75d-b280-42e9-b9af-f567e6aea1f3\", \"gender\": \"Female\", \"age\": 84, \"department\": \"Oncology\", \"admission_time\": \"2025-09-20T14:04:40.332649\", \"discharge_time\": \"2025-09-22T14:04:40.332649\", \"bed_id\": 140, \"hospital_id\": 6}"
        ],
        [
         "{\"patient_id\": \"410a80a2-c8bd-4325-88e7-96d0b9bb87fa\", \"gender\": \"Female\", \"age\": 33, \"department\": \"Oncology\", \"admission_time\": \"2025-09-22T13:02:51.256631\", \"discharge_time\": \"2025-09-23T11:02:51.256631\", \"bed_id\": 390, \"hospital_id\": 2}"
        ],
        [
         "{\"patient_id\": \"7aba7a73-8c25-4ff2-9c48-d9034e8d8c33\", \"gender\": \"Male\", \"age\": 16, \"department\": \"Cardiology\", \"admission_time\": \"2025-09-23T00:09:28.521207\", \"discharge_time\": \"2025-09-24T01:09:28.521207\", \"bed_id\": 149, \"hospital_id\": 5}"
        ],
        [
         "{\"patient_id\": \"5f27c925-7ec3-4881-b9af-809a483aa436\", \"gender\": \"Male\", \"age\": 70, \"department\": \"Pediatrics\", \"admission_time\": \"2025-09-21T02:56:01.992034\", \"discharge_time\": \"2025-09-23T09:56:01.992034\", \"bed_id\": 473, \"hospital_id\": 6}"
        ],
        [
         "{\"patient_id\": \"4b246b81-3c94-430a-a5f5-9d174f01e3fa\", \"gender\": \"Male\", \"age\": 66, \"department\": \"Pediatrics\", \"admission_time\": \"2025-09-21T08:02:34.246003\", \"discharge_time\": \"2025-09-24T04:02:34.246003\", \"bed_id\": 202, \"hospital_id\": 1}"
        ],
        [
         "{\"patient_id\": \"3a0d1307-1f28-4f81-80f1-65d40ce702c0\", \"gender\": \"Female\", \"age\": 25, \"department\": \"Oncology\", \"admission_time\": \"2025-09-21T20:03:24.279864\", \"discharge_time\": \"2025-09-23T16:03:24.279864\", \"bed_id\": 192, \"hospital_id\": 6}"
        ],
        [
         "{\"patient_id\": \"531ed7c3-4c3a-44e9-b64c-32a13a936406\", \"gender\": \"Female\", \"age\": 34, \"department\": \"Oncology\", \"admission_time\": \"2025-09-21T07:03:17.275146\", \"discharge_time\": \"2025-09-23T13:03:17.275146\", \"bed_id\": 402, \"hospital_id\": 7}"
        ],
        [
         "{\"patient_id\": \"a486ab80-e13c-4560-b88d-a3b27b9cdf71\", \"gender\": \"Female\", \"age\": 63, \"department\": \"Oncology\", \"admission_time\": \"2025-09-20T11:59:18.119108\", \"discharge_time\": \"2025-09-21T11:59:18.119108\", \"bed_id\": 333, \"hospital_id\": 1}"
        ],
        [
         "{\"patient_id\": \"b88fef24-497f-4977-ae33-23962c4193a8\", \"gender\": \"Female\", \"age\": 59, \"department\": \"Oncology\", \"admission_time\": \"2025-09-20T16:06:59.426246\", \"discharge_time\": \"2025-09-23T11:06:59.426246\", \"bed_id\": 476, \"hospital_id\": 1}"
        ],
        [
         "{\"patient_id\": \"2f8acf65-7e39-4222-8859-f23394c7507e\", \"gender\": \"Female\", \"age\": 43, \"department\": \"Cardiology\", \"admission_time\": \"2025-09-22T05:08:29.485304\", \"discharge_time\": \"2025-09-24T08:08:29.485304\", \"bed_id\": 39, \"hospital_id\": 4}"
        ],
        [
         "{\"patient_id\": \"7d18f5b3-ef34-4d3f-9452-99ae3030f00d\", \"gender\": \"Male\", \"age\": 87, \"department\": \"Pediatrics\", \"admission_time\": \"2025-09-21T16:00:42.170687\", \"discharge_time\": \"2025-09-22T07:00:42.170687\", \"bed_id\": 297, \"hospital_id\": 5}"
        ],
        [
         "{\"patient_id\": \"95df07e1-9984-4b60-98b4-4816e4f03e77\", \"gender\": \"Male\", \"age\": 76, \"department\": \"Cardiology\", \"admission_time\": \"2025-09-21T14:58:39.092968\", \"discharge_time\": \"2025-09-24T04:58:39.092968\", \"bed_id\": 471, \"hospital_id\": 5}"
        ],
        [
         "{\"patient_id\": \"e89baaeb-69b3-4c05-a057-d4e8546ce573\", \"gender\": \"Female\", \"age\": 94, \"department\": \"Maternity\", \"admission_time\": \"2025-09-22T16:09:23.518233\", \"discharge_time\": \"2025-09-22T17:09:23.518233\", \"bed_id\": 340, \"hospital_id\": 5}"
        ],
        [
         "{\"patient_id\": \"b726d379-dc7c-40d8-b4e5-19dbf0912adf\", \"gender\": \"Male\", \"age\": 58, \"department\": \"Cardiology\", \"admission_time\": \"2025-09-22T17:26:50.368607\", \"discharge_time\": \"2025-09-24T08:26:50.368607\", \"bed_id\": 479, \"hospital_id\": 6}"
        ],
        [
         "{\"patient_id\": \"144b095c-dd37-4603-a6c7-d40ecc35c3f9\", \"gender\": \"Female\", \"age\": 82, \"department\": \"Oncology\", \"admission_time\": \"2025-09-21T09:27:02.376235\", \"discharge_time\": \"2025-09-23T14:27:02.376235\", \"bed_id\": 490, \"hospital_id\": 2}"
        ],
        [
         "{\"patient_id\": \"85d30661-a2b5-4b82-96d1-c6ffbf4de71c\", \"gender\": \"Female\", \"age\": 77, \"department\": \"Cardiology\", \"admission_time\": \"2025-09-22T09:56:54.025976\", \"discharge_time\": \"2025-09-25T00:56:54.025976\", \"bed_id\": 97, \"hospital_id\": 2}"
        ],
        [
         "{\"patient_id\": \"b7c1091e-0764-45cd-be64-a50e2ad8d416\", \"gender\": \"Female\", \"age\": 58, \"department\": \"Pediatrics\", \"admission_time\": \"2025-09-21T13:26:12.341512\", \"discharge_time\": \"2025-09-24T07:26:12.341512\", \"bed_id\": 35, \"hospital_id\": 3}"
        ],
        [
         "{\"patient_id\": \"9c237ea5-99a2-4a88-b9e5-16486eebc11d\", \"gender\": \"Female\", \"age\": 12, \"department\": \"Cardiology\", \"admission_time\": \"2025-09-22T14:52:51.860501\", \"discharge_time\": \"2025-09-25T12:52:51.860501\", \"bed_id\": 91, \"hospital_id\": 6}"
        ],
        [
         "{\"patient_id\": \"b8793e0f-68bd-475d-a5f9-9e774fb36389\", \"gender\": \"Female\", \"age\": 40, \"department\": \"Cardiology\", \"admission_time\": \"2025-09-20T09:54:26.926141\", \"discharge_time\": \"2025-09-23T04:54:26.926141\", \"bed_id\": 80, \"hospital_id\": 7}"
        ],
        [
         "{\"patient_id\": \"d7c00bf5-faa0-4853-89b3-38e16dc562e2\", \"gender\": \"Female\", \"age\": 52, \"department\": \"Cardiology\", \"admission_time\": \"2025-09-22T10:07:30.446693\", \"discharge_time\": \"2025-09-24T22:07:30.446693\", \"bed_id\": 99, \"hospital_id\": 5}"
        ],
        [
         "{\"patient_id\": \"3909308c-77b4-4aea-9c1d-3a96919fb5e9\", \"gender\": \"Male\", \"age\": 58, \"department\": \"Cardiology\", \"admission_time\": \"2025-09-21T12:05:13.352508\", \"discharge_time\": \"2025-09-22T04:05:13.352508\", \"bed_id\": 414, \"hospital_id\": 7}"
        ],
        [
         "{\"patient_id\": \"be5df02a-4cec-4b43-b8f3-fb262dd686a2\", \"gender\": \"Female\", \"age\": 71, \"department\": \"Pediatrics\", \"admission_time\": \"2025-09-21T01:56:38.015862\", \"discharge_time\": \"2025-09-21T09:56:38.015862\", \"bed_id\": 165, \"hospital_id\": 3}"
        ],
        [
         "{\"patient_id\": \"c335baf9-51f3-44fb-b82d-6021b7586760\", \"gender\": \"Female\", \"age\": 91, \"department\": \"Cardiology\", \"admission_time\": \"2025-09-21T20:55:08.956391\", \"discharge_time\": \"2025-09-24T05:55:08.956391\", \"bed_id\": 82, \"hospital_id\": 2}"
        ],
        [
         "{\"patient_id\": \"aafc87a4-bcdf-4cad-8fdb-08e8ea4ebd78\", \"gender\": \"Female\", \"age\": 41, \"department\": \"Pediatrics\", \"admission_time\": \"2025-09-22T06:05:16.354841\", \"discharge_time\": \"2025-09-24T00:05:16.354841\", \"bed_id\": 77, \"hospital_id\": 7}"
        ],
        [
         "{\"patient_id\": \"6480374e-0869-4d1f-ac01-b919955c14a6\", \"gender\": \"Female\", \"age\": 24, \"department\": \"Cardiology\", \"admission_time\": \"2025-09-22T01:55:14.960531\", \"discharge_time\": \"2025-09-22T16:55:14.960531\", \"bed_id\": 59, \"hospital_id\": 3}"
        ],
        [
         "{\"patient_id\": \"160fbfda-6aa8-47d0-a665-3c8b89a27e37\", \"gender\": \"Male\", \"age\": 78, \"department\": \"Cardiology\", \"admission_time\": \"2025-09-20T13:53:43.897198\", \"discharge_time\": \"2025-09-21T07:53:43.897198\", \"bed_id\": 314, \"hospital_id\": 7}"
        ],
        [
         "{\"patient_id\": \"ed503015-722a-4508-8b35-a91478b90661\", \"gender\": \"Female\", \"age\": 102, \"department\": \"Maternity\", \"admission_time\": \"2025-09-23T06:55:45.981505\", \"discharge_time\": \"2025-09-25T17:55:45.981505\", \"bed_id\": 60, \"hospital_id\": 4}"
        ],
        [
         "{\"patient_id\": \"780efcf9-62b6-4850-9c58-0c7ed4f1b8a0\", \"gender\": \"Female\", \"age\": 76, \"department\": \"Oncology\", \"admission_time\": \"2025-09-20T17:05:28.361735\", \"discharge_time\": \"2025-09-20T21:05:28.361735\", \"bed_id\": 272, \"hospital_id\": 3}"
        ],
        [
         "{\"patient_id\": \"2f588995-eec9-4ff1-a1a8-be558bef8a31\", \"gender\": \"Female\", \"age\": 84, \"department\": \"Pediatrics\", \"admission_time\": \"2025-09-22T10:01:34.204605\", \"discharge_time\": \"2025-09-25T09:01:34.204605\", \"bed_id\": 94, \"hospital_id\": 5}"
        ],
        [
         "{\"patient_id\": \"5d4ad0be-e814-4e5b-ad7d-cb6f8c0c0a23\", \"gender\": \"Female\", \"age\": 15, \"department\": \"Cardiology\", \"admission_time\": \"2025-09-20T20:01:21.193597\", \"discharge_time\": \"2025-09-21T01:01:21.193597\", \"bed_id\": 90, \"hospital_id\": 1}"
        ],
        [
         "{\"patient_id\": \"69b0f811-57c2-4c58-af71-29e0533c3fff\", \"gender\": \"Male\", \"age\": 15, \"department\": \"Pediatrics\", \"admission_time\": \"2025-09-22T11:54:45.938996\", \"discharge_time\": \"2025-09-22T23:54:45.938996\", \"bed_id\": 459, \"hospital_id\": 6}"
        ],
        [
         "{\"patient_id\": \"968ee47b-1ea3-456e-bb55-64d4968a96a4\", \"gender\": \"Female\", \"age\": 1, \"department\": \"Cardiology\", \"admission_time\": \"2025-09-20T07:04:20.319905\", \"discharge_time\": \"2025-09-22T10:04:20.319905\", \"bed_id\": 154, \"hospital_id\": 2}"
        ],
        [
         "{\"patient_id\": \"36e505fe-77d7-4475-8cb9-cec982f847dd\", \"gender\": \"Female\", \"age\": 42, \"department\": \"Oncology\", \"admission_time\": \"2025-09-22T02:59:11.114015\", \"discharge_time\": \"2025-09-24T15:59:11.114015\", \"bed_id\": 289, \"hospital_id\": 6}"
        ],
        [
         "{\"patient_id\": \"54594ab4-c25a-423e-bd61-eb4b7251c8a2\", \"gender\": \"Male\", \"age\": 84, \"department\": \"Pediatrics\", \"admission_time\": \"2025-09-20T20:03:35.286410\", \"discharge_time\": \"2025-09-23T18:03:35.286410\", \"bed_id\": 387, \"hospital_id\": 7}"
        ],
        [
         "{\"patient_id\": \"06c62367-676b-4146-8dd6-45e86a80a67a\", \"gender\": \"Male\", \"age\": 84, \"department\": \"Surgery\", \"admission_time\": \"2025-09-24T05:55:57.988661\", \"discharge_time\": \"2025-09-22T22:55:57.988587\", \"bed_id\": 107, \"hospital_id\": 6}"
        ],
        [
         "{\"patient_id\": \"1686db03-f4b4-439f-89a9-814db8c9b870\", \"gender\": \"Male\", \"age\": 84, \"department\": \"Cardiology\", \"admission_time\": \"2025-09-20T23:06:01.384224\", \"discharge_time\": \"2025-09-22T17:06:01.384224\", \"bed_id\": 165, \"hospital_id\": 7}"
        ],
        [
         "{\"patient_id\": \"a62f1ce0-5b4b-4f8f-9726-aa59c6c96d08\", \"gender\": \"Male\", \"age\": 29, \"department\": \"Pediatrics\", \"admission_time\": \"2025-09-21T03:08:06.471435\", \"discharge_time\": \"2025-09-21T20:08:06.471435\", \"bed_id\": 209, \"hospital_id\": 4}"
        ],
        [
         "{\"patient_id\": \"f4089849-18da-48cb-916f-e1998f328572\", \"gender\": \"Female\", \"age\": 32, \"department\": \"Surgery\", \"admission_time\": \"2025-09-23T04:07:27.443911\", \"discharge_time\": \"2025-09-25T08:07:27.443911\", \"bed_id\": 485, \"hospital_id\": 6}"
        ],
        [
         "{\"patient_id\": \"edd5cb1b-14bb-4619-a94e-830d01d86386\", \"gender\": \"Female\", \"age\": 80, \"department\": \"Emergency\", \"admission_time\": \"2025-09-22T04:02:18.234361\", \"discharge_time\": \"2025-09-23T07:02:18.234361\", \"bed_id\": 83, \"hospital_id\": 5}"
        ],
        [
         "{\"patient_id\": \"22dcc0a1-ec94-4932-8cda-035220f127cf\", \"gender\": \"Female\", \"age\": 75, \"department\": \"Emergency\", \"admission_time\": \"2025-09-20T15:02:49.254848\", \"discharge_time\": \"2025-09-22T00:02:49.254848\", \"bed_id\": 58, \"hospital_id\": 1}"
        ],
        [
         "{\"patient_id\": \"eb8484c2-69d0-4826-9ace-fda4ce3c1dfb\", \"gender\": \"Male\", \"age\": 107, \"department\": \"Cardiology\", \"admission_time\": \"2025-09-20T08:07:22.440421\", \"discharge_time\": \"2025-09-22T12:07:22.440421\", \"bed_id\": 134, \"hospital_id\": 5}"
        ],
        [
         "{\"patient_id\": \"bc3228e0-446c-47e1-8470-a7a256dbb96e\", \"gender\": \"Female\", \"age\": 59, \"department\": \"Oncology\", \"admission_time\": \"2025-09-21T19:25:39.320042\", \"discharge_time\": \"2025-09-22T15:25:39.320042\", \"bed_id\": 359, \"hospital_id\": 5}"
        ],
        [
         "{\"patient_id\": \"54731358-aafb-4dd9-9d79-5c845ed24499\", \"gender\": \"Female\", \"age\": 62, \"department\": \"Surgery\", \"admission_time\": \"2025-09-21T10:59:52.140885\", \"discharge_time\": \"2025-09-23T17:59:52.140885\", \"bed_id\": 367, \"hospital_id\": 2}"
        ],
        [
         "{\"patient_id\": \"8dca66ed-a82d-48db-a14e-d216a50ac896\", \"gender\": \"Female\", \"age\": 29, \"department\": \"Emergency\", \"admission_time\": \"2025-09-21T21:59:51.139935\", \"discharge_time\": \"2025-09-22T11:59:51.139935\", \"bed_id\": 61, \"hospital_id\": 3}"
        ],
        [
         "{\"patient_id\": \"c195597d-02c8-4b89-b943-9b5e998132dd\", \"gender\": \"Male\", \"age\": 23, \"department\": \"Cardiology\", \"admission_time\": \"2025-09-20T11:59:17.118466\", \"discharge_time\": \"2025-09-20T20:59:17.118466\", \"bed_id\": 390, \"hospital_id\": 6}"
        ],
        [
         "{\"patient_id\": \"aea340ca-441d-47ad-95b3-35eadca40e79\", \"gender\": \"Male\", \"age\": 46, \"department\": \"Pediatrics\", \"admission_time\": \"2025-09-20T11:03:20.277433\", \"discharge_time\": \"2025-09-20T20:03:20.277433\", \"bed_id\": 248, \"hospital_id\": 2}"
        ],
        [
         "{\"patient_id\": \"d2815d10-661f-4c1b-be76-dad240a8eabd\", \"gender\": \"Female\", \"age\": 42, \"department\": \"Emergency\", \"admission_time\": \"2025-09-22T22:07:31.447691\", \"discharge_time\": \"2025-09-25T09:07:31.447691\", \"bed_id\": 81, \"hospital_id\": 4}"
        ],
        [
         "{\"patient_id\": \"618f6ef6-9a3a-47d0-9972-5eca7251dafa\", \"gender\": \"Female\", \"age\": 76, \"department\": \"Emergency\", \"admission_time\": \"2025-09-22T15:09:48.534333\", \"discharge_time\": \"2025-09-25T09:09:48.534333\", \"bed_id\": 17, \"hospital_id\": 7}"
        ],
        [
         "{\"patient_id\": \"78d06908-9743-4eb7-8237-ea4e94f928fb\", \"gender\": \"Male\", \"age\": 20, \"department\": \"Cardiology\", \"admission_time\": \"2025-09-21T06:03:12.271281\", \"discharge_time\": \"2025-09-21T14:03:12.271281\", \"bed_id\": 471, \"hospital_id\": 1}"
        ],
        [
         "{\"patient_id\": \"21114158-8e45-4730-9513-ab1fbe160190\", \"gender\": \"Female\", \"age\": 67, \"department\": \"Maternity\", \"admission_time\": \"2025-09-22T01:02:24.240118\", \"discharge_time\": \"2025-09-24T05:02:24.240118\", \"bed_id\": 30, \"hospital_id\": 6}"
        ],
        [
         "{\"patient_id\": \"64543bce-d88d-46e9-b981-db529c9ecef8\", \"gender\": \"Female\", \"age\": 38, \"department\": \"Oncology\", \"admission_time\": \"2025-09-20T07:56:52.024602\", \"discharge_time\": \"2025-09-20T20:56:52.024602\", \"bed_id\": 139, \"hospital_id\": 2}"
        ],
        [
         "{\"patient_id\": \"96dad433-6ab9-400c-a99d-33c76c5b8c6b\", \"gender\": \"Male\", \"age\": 73, \"department\": \"Cardiology\", \"admission_time\": \"2025-09-20T09:10:30.564294\", \"discharge_time\": \"2025-09-20T17:10:30.564294\", \"bed_id\": 239, \"hospital_id\": 2}"
        ],
        [
         "{\"patient_id\": \"4a7d5951-69ff-498e-bf20-77ed5bdec767\", \"gender\": \"Male\", \"age\": 34, \"department\": \"Cardiology\", \"admission_time\": \"2025-09-22T04:59:00.106493\", \"discharge_time\": \"2025-09-22T18:59:00.106493\", \"bed_id\": 111, \"hospital_id\": 2}"
        ],
        [
         "{\"patient_id\": \"50193a01-d81c-4c67-a2c8-15190e874ac4\", \"gender\": \"Female\", \"age\": 48, \"department\": \"Maternity\", \"admission_time\": \"2025-09-21T16:52:55.863382\", \"discharge_time\": \"2025-09-22T03:52:55.863382\", \"bed_id\": 55, \"hospital_id\": 4}"
        ],
        [
         "{\"patient_id\": \"0ce9ceec-615b-4889-9f65-322bf2c0800f\", \"gender\": \"Female\", \"age\": 49, \"department\": \"Emergency\", \"admission_time\": \"2025-09-20T11:57:11.037260\", \"discharge_time\": \"2025-09-21T17:57:11.037260\", \"bed_id\": 89, \"hospital_id\": 3}"
        ],
        [
         "{\"patient_id\": \"71c284b3-5dd1-422f-8125-f1f163d1c718\", \"gender\": \"Male\", \"age\": 49, \"department\": \"Pediatrics\", \"admission_time\": \"2025-09-22T15:55:06.955155\", \"discharge_time\": \"2025-09-22T20:55:06.955155\", \"bed_id\": 368, \"hospital_id\": 6}"
        ],
        [
         "{\"patient_id\": \"e3b1ea87-b483-40a0-bb06-1a3cc5b9d7a3\", \"gender\": \"Male\", \"age\": 97, \"department\": \"Cardiology\", \"admission_time\": \"2025-09-22T02:01:00.180954\", \"discharge_time\": \"2025-09-22T13:01:00.180954\", \"bed_id\": 204, \"hospital_id\": 4}"
        ],
        [
         "{\"patient_id\": \"09f13188-b243-4ae9-9fdf-9aef2a0f5775\", \"gender\": \"Male\", \"age\": 24, \"department\": \"Pediatrics\", \"admission_time\": \"2025-09-23T01:06:50.420418\", \"discharge_time\": \"2025-09-23T08:06:50.420418\", \"bed_id\": 193, \"hospital_id\": 1}"
        ],
        [
         "{\"patient_id\": \"683812b2-88a0-41f5-a98a-46e3ff118b2e\", \"gender\": \"Female\", \"age\": 73, \"department\": \"Emergency\", \"admission_time\": \"2025-09-22T02:10:27.562601\", \"discharge_time\": \"2025-09-24T06:10:27.562601\", \"bed_id\": 21, \"hospital_id\": 3}"
        ],
        [
         "{\"patient_id\": \"c0958f6e-e421-40e9-a6ed-51cbcb566129\", \"gender\": \"Female\", \"age\": 26, \"department\": \"Emergency\", \"admission_time\": \"2025-09-22T17:26:40.360973\", \"discharge_time\": \"2025-09-24T06:26:40.360973\", \"bed_id\": 96, \"hospital_id\": 2}"
        ],
        [
         "{\"patient_id\": \"60e98485-1e54-47cc-a4e1-9086ddc2f8be\", \"gender\": \"Female\", \"age\": 59, \"department\": \"Maternity\", \"admission_time\": \"2025-09-21T21:04:19.319428\", \"discharge_time\": \"2025-09-22T16:04:19.319428\", \"bed_id\": 23, \"hospital_id\": 1}"
        ],
        [
         "{\"patient_id\": \"ef94038b-4057-4807-947a-3abf6d82ec0f\", \"gender\": \"Female\", \"age\": 46, \"department\": \"Pediatrics\", \"admission_time\": \"2025-09-20T14:59:07.111891\", \"discharge_time\": \"2025-09-22T07:59:07.111891\", \"bed_id\": 28, \"hospital_id\": 3}"
        ],
        [
         "{\"patient_id\": \"bb4811cb-036a-4e41-a752-dc0b7fcc14b0\", \"gender\": \"Female\", \"age\": 98, \"department\": \"Cardiology\", \"admission_time\": \"2025-09-21T06:53:36.893593\", \"discharge_time\": \"2025-09-22T14:53:36.893593\", \"bed_id\": 10, \"hospital_id\": 6}"
        ],
        [
         "{\"patient_id\": \"e7333cce-efad-46c2-8e98-c66d4943151e\", \"gender\": \"Female\", \"age\": 77, \"department\": \"Oncology\", \"admission_time\": \"2025-09-22T00:52:39.854389\", \"discharge_time\": \"2025-09-22T23:52:39.854389\", \"bed_id\": 479, \"hospital_id\": 2}"
        ],
        [
         "{\"patient_id\": \"4205c425-011f-4616-aec3-74edb90f33c0\", \"gender\": \"Female\", \"age\": 35, \"department\": \"Maternity\", \"admission_time\": \"2025-09-21T09:00:38.167496\", \"discharge_time\": \"2025-09-22T16:00:38.167496\", \"bed_id\": 83, \"hospital_id\": 2}"
        ],
        [
         "{\"patient_id\": \"c8c94f96-053e-4220-8955-8254c5859bbd\", \"gender\": \"Female\", \"age\": 76, \"department\": \"Emergency\", \"admission_time\": \"2025-09-20T11:53:18.881979\", \"discharge_time\": \"2025-09-21T14:53:18.881979\", \"bed_id\": 62, \"hospital_id\": 6}"
        ],
        [
         "{\"patient_id\": \"4c47a11a-f72d-4344-af4a-ff5e903a278f\", \"gender\": \"Female\", \"age\": 83, \"department\": \"Maternity\", \"admission_time\": \"2025-09-22T21:58:34.089254\", \"discharge_time\": \"2025-09-25T16:58:34.089254\", \"bed_id\": 18, \"hospital_id\": 1}"
        ],
        [
         "{\"patient_id\": \"5baa8b16-2b2e-45e5-9946-2cf0718998ca\", \"gender\": \"Female\", \"age\": 58, \"department\": \"Maternity\", \"admission_time\": \"2025-09-22T21:03:49.296004\", \"discharge_time\": \"2025-09-24T15:03:49.296004\", \"bed_id\": 32, \"hospital_id\": 2}"
        ],
        [
         "{\"patient_id\": \"b5ed4cda-8116-4833-a560-180cdcf4a790\", \"gender\": \"Male\", \"age\": 57, \"department\": \"Cardiology\", \"admission_time\": \"2025-09-23T02:57:10.036814\", \"discharge_time\": \"2025-09-23T20:57:10.036814\", \"bed_id\": 474, \"hospital_id\": 7}"
        ],
        [
         "{\"patient_id\": \"bc89a93e-6591-4d91-aa1c-fb1eb0b8d690\", \"gender\": \"Female\", \"age\": 38, \"department\": \"Maternity\", \"admission_time\": \"2025-09-20T23:04:24.322299\", \"discharge_time\": \"2025-09-23T00:04:24.322299\", \"bed_id\": 79, \"hospital_id\": 6}"
        ],
        [
         "{\"patient_id\": \"936a4db3-64ee-421e-9159-f926bf363592\", \"gender\": \"Female\", \"age\": 65, \"department\": \"Emergency\", \"admission_time\": \"2025-09-21T21:59:15.116437\", \"discharge_time\": \"2025-09-24T21:59:15.116437\", \"bed_id\": 89, \"hospital_id\": 5}"
        ],
        [
         "{\"patient_id\": \"db68290d-13ec-4459-8b71-4c3053359da9\", \"gender\": \"Female\", \"age\": 35, \"department\": \"Surgery\", \"admission_time\": \"2025-09-23T01:09:39.528404\", \"discharge_time\": \"2025-09-25T07:09:39.528404\", \"bed_id\": 198, \"hospital_id\": 3}"
        ],
        [
         "{\"patient_id\": \"f6de44c6-bd31-498b-b679-eac1541b2a3f\", \"gender\": \"Female\", \"age\": 68, \"department\": \"Pediatrics\", \"admission_time\": \"2025-09-22T12:56:12.999604\", \"discharge_time\": \"2025-09-24T02:56:12.999604\", \"bed_id\": 56, \"hospital_id\": 4}"
        ],
        [
         "{\"patient_id\": \"376ad453-9781-4aa8-a4d8-01d6b8f79f52\", \"gender\": \"Female\", \"age\": 9, \"department\": \"Cardiology\", \"admission_time\": \"2025-09-22T22:05:06.348526\", \"discharge_time\": \"2025-09-24T21:05:06.348526\", \"bed_id\": 475, \"hospital_id\": 2}"
        ],
        [
         "{\"patient_id\": \"0b2af933-acfb-4559-b238-0515de2aa15e\", \"gender\": \"Male\", \"age\": 64, \"department\": \"Pediatrics\", \"admission_time\": \"2025-09-22T10:59:46.136815\", \"discharge_time\": \"2025-09-22T12:59:46.136815\", \"bed_id\": 439, \"hospital_id\": 6}"
        ],
        [
         "{\"patient_id\": \"1e5a7435-5477-43ad-b179-3b7d4ee9796b\", \"gender\": \"Female\", \"age\": 50, \"department\": \"Surgery\", \"admission_time\": \"2025-09-21T04:03:31.284121\", \"discharge_time\": \"2025-09-22T21:03:31.284121\", \"bed_id\": 183, \"hospital_id\": 4}"
        ],
        [
         "{\"patient_id\": \"2d3ca10c-4fdd-4c93-b422-16386a78b633\", \"gender\": \"Female\", \"age\": 15, \"department\": \"Surgery\", \"admission_time\": \"2025-09-21T15:55:58.989503\", \"discharge_time\": \"2025-09-22T15:55:58.989503\", \"bed_id\": 376, \"hospital_id\": 3}"
        ],
        [
         "{\"patient_id\": \"a45a6d29-fc8d-4854-acf7-ed4dd714f485\", \"gender\": \"Female\", \"age\": 30, \"department\": \"Surgery\", \"admission_time\": \"2025-09-21T06:08:22.481173\", \"discharge_time\": \"2025-09-22T01:08:22.481173\", \"bed_id\": 251, \"hospital_id\": 5}"
        ],
        [
         "{\"patient_id\": \"5b2019e5-5b1c-4b10-9534-6b65606bfb79\", \"gender\": \"Male\", \"age\": 49, \"department\": \"Pediatrics\", \"admission_time\": \"2025-09-21T15:03:13.272476\", \"discharge_time\": \"2025-09-21T17:03:13.272476\", \"bed_id\": 322, \"hospital_id\": 4}"
        ],
        [
         "{\"patient_id\": \"df115d6f-acef-4e21-91c7-ab87c3f0204b\", \"gender\": \"Female\", \"age\": 91, \"department\": \"Surgery\", \"admission_time\": \"2025-09-20T09:53:46.899409\", \"discharge_time\": \"2025-09-22T21:53:46.899409\", \"bed_id\": 388, \"hospital_id\": 5}"
        ],
        [
         "{\"patient_id\": \"d0a4cd9b-0ee6-42ac-8e03-f225c46a432c\", \"gender\": \"Female\", \"age\": 2, \"department\": \"Maternity\", \"admission_time\": \"2025-09-25T17:00:05.148762\", \"discharge_time\": \"2025-09-22T16:00:05.148688\", \"bed_id\": 378, \"hospital_id\": 7}"
        ],
        [
         "{\"patient_id\": \"ed8ded49-da60-4833-b544-5d9f981b89e1\", \"gender\": \"Female\", \"age\": 62, \"department\": \"Cardiology\", \"admission_time\": \"2025-09-21T01:56:16.001196\", \"discharge_time\": \"2025-09-21T12:56:16.001196\", \"bed_id\": 59, \"hospital_id\": 1}"
        ],
        [
         "{\"patient_id\": \"4b64935a-32b5-416b-aa0e-6ebed9dcfaaa\", \"gender\": \"Female\", \"age\": 10, \"department\": \"Surgery\", \"admission_time\": \"2025-09-22T22:10:42.573160\", \"discharge_time\": \"2025-09-24T15:10:42.573160\", \"bed_id\": 321, \"hospital_id\": 7}"
        ],
        [
         "{\"patient_id\": \"159c0c33-2e89-459f-af32-a3b429e4639f\", \"gender\": \"Female\", \"age\": 19, \"department\": \"Surgery\", \"admission_time\": \"2025-09-20T15:58:06.071701\", \"discharge_time\": \"2025-09-23T04:58:06.071701\", \"bed_id\": 443, \"hospital_id\": 2}"
        ],
        [
         "{\"patient_id\": \"253f679a-7b9c-45af-8ecb-b1bd47aba709\", \"gender\": \"Female\", \"age\": 10, \"department\": \"Surgery\", \"admission_time\": \"2025-09-21T23:57:35.052021\", \"discharge_time\": \"2025-09-24T17:57:35.052021\", \"bed_id\": 141, \"hospital_id\": 1}"
        ],
        [
         "{\"patient_id\": \"90fcde42-e341-4170-9d85-3f5469f6bfb0\", \"gender\": \"Female\", \"age\": 25, \"department\": \"Surgery\", \"admission_time\": \"2025-09-20T10:55:47.983037\", \"discharge_time\": \"2025-09-22T08:55:47.983037\", \"bed_id\": 407, \"hospital_id\": 2}"
        ],
        [
         "{\"patient_id\": \"6f64b510-2f0f-449c-b313-93c6fefaa15e\", \"gender\": \"Female\", \"age\": 57, \"department\": \"Surgery\", \"admission_time\": \"2025-09-21T09:07:42.456607\", \"discharge_time\": \"2025-09-23T05:07:42.456607\", \"bed_id\": 409, \"hospital_id\": 6}"
        ],
        [
         "{\"patient_id\": \"1fd4b0a5-ed45-4999-a250-d2ac8cc53429\", \"gender\": \"Female\", \"age\": 79, \"department\": \"Surgery\", \"admission_time\": \"2025-09-20T20:54:21.922500\", \"discharge_time\": \"2025-09-22T16:54:21.922500\", \"bed_id\": 235, \"hospital_id\": 1}"
        ],
        [
         "{\"patient_id\": \"885d2f31-ce62-44da-9cfa-6cda05ea452a\", \"gender\": \"Female\", \"age\": 83, \"department\": \"Surgery\", \"admission_time\": \"2025-09-22T09:59:39.132191\", \"discharge_time\": \"2025-09-23T01:59:39.132191\", \"bed_id\": 313, \"hospital_id\": 4}"
        ],
        [
         "{\"patient_id\": \"efb96eb0-cc42-4c96-a99e-5cc0f15a9a55\", \"gender\": \"Female\", \"age\": 31, \"department\": \"Surgery\", \"admission_time\": \"2025-09-20T23:05:12.352069\", \"discharge_time\": \"2025-09-22T14:05:12.352069\", \"bed_id\": 139, \"hospital_id\": 7}"
        ],
        [
         "{\"patient_id\": \"426d2a90-2fd1-4bac-b6f6-69a3df774dc4\", \"gender\": \"Female\", \"age\": 57, \"department\": \"Surgery\", \"admission_time\": \"2025-09-20T13:53:10.875652\", \"discharge_time\": \"2025-09-21T05:53:10.875652\", \"bed_id\": 238, \"hospital_id\": 1}"
        ],
        [
         "{\"patient_id\": \"6d52709a-1ea9-466b-9715-c0debe6dc7ea\", \"gender\": \"Male\", \"age\": 116, \"department\": \"Pediatrics\", \"admission_time\": \"2025-09-20T09:55:30.972472\", \"discharge_time\": \"2025-09-22T11:55:30.972472\", \"bed_id\": 336, \"hospital_id\": 1}"
        ],
        [
         "{\"patient_id\": \"b5afc556-ca86-4a1d-af92-363510c0ba76\", \"gender\": \"Female\", \"age\": 87, \"department\": \"Pediatrics\", \"admission_time\": \"2025-09-20T07:06:11.391303\", \"discharge_time\": \"2025-09-20T16:06:11.391303\", \"bed_id\": 58, \"hospital_id\": 1}"
        ],
        [
         "{\"patient_id\": \"97dff65c-7111-4bde-9009-a9f8a410a88b\", \"gender\": \"Female\", \"age\": 27, \"department\": \"Surgery\", \"admission_time\": \"2025-09-22T21:54:20.922052\", \"discharge_time\": \"2025-09-23T08:54:20.922052\", \"bed_id\": 328, \"hospital_id\": 5}"
        ],
        [
         "{\"patient_id\": \"d81b6220-5225-45cd-85d2-2ec429bead01\", \"gender\": \"Female\", \"age\": 4, \"department\": \"Cardiology\", \"admission_time\": \"2025-09-20T23:10:04.544772\", \"discharge_time\": \"2025-09-23T21:10:04.544772\", \"bed_id\": 379, \"hospital_id\": 4}"
        ],
        [
         "{\"patient_id\": \"b759b1aa-846b-4907-9e5f-63460bf3c98a\", \"gender\": \"Female\", \"age\": 54, \"department\": \"Surgery\", \"admission_time\": \"2025-09-21T09:57:33.051013\", \"discharge_time\": \"2025-09-22T18:57:33.051013\", \"bed_id\": 181, \"hospital_id\": 2}"
        ],
        [
         "{\"patient_id\": \"9675bddd-4630-4d75-9c0a-ecdcc68d7c48\", \"gender\": \"Female\", \"age\": 44, \"department\": \"Oncology\", \"admission_time\": \"2025-09-22T10:59:49.138345\", \"discharge_time\": \"2025-09-22T13:59:49.138345\", \"bed_id\": 394, \"hospital_id\": 4}"
        ],
        [
         "{\"patient_id\": \"c3db6e45-bed3-4076-b26f-223eca1c120c\", \"gender\": \"Male\", \"age\": 11, \"department\": \"Pediatrics\", \"admission_time\": \"2025-09-21T21:06:15.394882\", \"discharge_time\": \"2025-09-21T22:06:15.394882\", \"bed_id\": 286, \"hospital_id\": 7}"
        ],
        [
         "{\"patient_id\": \"45c41bd9-d9da-4474-883e-aebe809cd7f8\", \"gender\": \"Female\", \"age\": 76, \"department\": \"Surgery\", \"admission_time\": \"2025-09-21T10:00:36.166453\", \"discharge_time\": \"2025-09-23T12:00:36.166453\", \"bed_id\": 182, \"hospital_id\": 5}"
        ],
        [
         "{\"patient_id\": \"de4e1ef2-5f54-4170-8c95-5900b12215f6\", \"gender\": \"Female\", \"age\": 83, \"department\": \"Surgery\", \"admission_time\": \"2025-09-21T07:10:03.544279\", \"discharge_time\": \"2025-09-24T00:10:03.544279\", \"bed_id\": 434, \"hospital_id\": 4}"
        ],
        [
         "{\"patient_id\": \"9bba5099-72e5-4efb-a398-e4ff358586f6\", \"gender\": \"Female\", \"age\": 15, \"department\": \"Surgery\", \"admission_time\": \"2025-09-20T12:56:10.998060\", \"discharge_time\": \"2025-09-23T10:56:10.998060\", \"bed_id\": 432, \"hospital_id\": 2}"
        ],
        [
         "{\"patient_id\": \"4c109a3f-8d89-44fc-8526-7a96e198e2a3\", \"gender\": \"Female\", \"age\": 2, \"department\": \"Pediatrics\", \"admission_time\": \"2025-09-21T14:02:59.262241\", \"discharge_time\": \"2025-09-22T07:02:59.262241\", \"bed_id\": 386, \"hospital_id\": 5}"
        ],
        [
         "{\"patient_id\": \"0d2ce607-6b20-46ab-873d-c99f5811152d\", \"gender\": \"Female\", \"age\": 62, \"department\": \"Surgery\", \"admission_time\": \"2025-09-22T19:05:49.374816\", \"discharge_time\": \"2025-09-25T02:05:49.374816\", \"bed_id\": 493, \"hospital_id\": 4}"
        ],
        [
         "{\"patient_id\": \"5e874ccd-1d63-460d-a004-4523eb636e67\", \"gender\": \"Female\", \"age\": 1, \"department\": \"Pediatrics\", \"admission_time\": \"2025-09-22T13:53:41.896293\", \"discharge_time\": \"2025-09-23T02:53:41.896293\", \"bed_id\": 152, \"hospital_id\": 5}"
        ],
        [
         "{\"patient_id\": \"b0d6b76a-54b5-404b-bdfd-45d2fc1f7b4e\", \"gender\": \"Female\", \"age\": 86, \"department\": \"Surgery\", \"admission_time\": \"2025-09-22T11:04:05.307140\", \"discharge_time\": \"2025-09-23T13:04:05.307140\", \"bed_id\": 113, \"hospital_id\": 3}"
        ],
        [
         "{\"patient_id\": \"956ab47f-fcbc-4860-be6b-cae9a82ac6c8\", \"gender\": \"Female\", \"age\": 97, \"department\": \"Surgery\", \"admission_time\": \"2025-09-23T02:09:40.528871\", \"discharge_time\": \"2025-09-25T06:09:40.528871\", \"bed_id\": 122, \"hospital_id\": 6}"
        ],
        [
         "{\"patient_id\": \"c7ad7fbe-34b2-4186-bd6f-f5fef6d2c7c8\", \"gender\": \"Female\", \"age\": 43, \"department\": \"Surgery\", \"admission_time\": \"2025-09-22T22:57:53.063684\", \"discharge_time\": \"2025-09-24T15:57:53.063684\", \"bed_id\": 231, \"hospital_id\": 4}"
        ],
        [
         "{\"patient_id\": \"274d4314-e511-4fb3-8e80-fc51efa9d242\", \"gender\": \"Female\", \"age\": 76, \"department\": \"Surgery\", \"admission_time\": \"2025-09-21T23:55:12.959651\", \"discharge_time\": \"2025-09-24T02:55:12.959651\", \"bed_id\": 478, \"hospital_id\": 5}"
        ],
        [
         "{\"patient_id\": \"ccdddbfd-0aff-4d5b-bf66-d08ea1dd1635\", \"gender\": \"Female\", \"age\": 8, \"department\": \"Pediatrics\", \"admission_time\": \"2025-09-22T23:55:40.978260\", \"discharge_time\": \"2025-09-24T09:55:40.978260\", \"bed_id\": 457, \"hospital_id\": 4}"
        ],
        [
         "{\"patient_id\": \"163e2859-6c49-4bca-abeb-b62304053f1f\", \"gender\": \"Male\", \"age\": 22, \"department\": \"Pediatrics\", \"admission_time\": \"2025-09-20T12:04:23.321876\", \"discharge_time\": \"2025-09-20T16:04:23.321876\", \"bed_id\": 409, \"hospital_id\": 2}"
        ],
        [
         "{\"patient_id\": \"60d24d3a-c5dd-43e6-b2f3-91627c228836\", \"gender\": \"Female\", \"age\": 69, \"department\": \"Surgery\", \"admission_time\": \"2025-09-20T14:25:52.326863\", \"discharge_time\": \"2025-09-21T12:25:52.326863\", \"bed_id\": 360, \"hospital_id\": 6}"
        ],
        [
         "{\"patient_id\": \"221f1424-52de-4255-a092-6836003e8ef2\", \"gender\": \"Female\", \"age\": 45, \"department\": \"Surgery\", \"admission_time\": \"2025-09-22T18:08:59.501033\", \"discharge_time\": \"2025-09-23T03:08:59.501033\", \"bed_id\": 129, \"hospital_id\": 3}"
        ],
        [
         "{\"patient_id\": \"f5c8e084-cdde-4550-890a-16f60b48736e\", \"gender\": \"Female\", \"age\": 9, \"department\": \"Pediatrics\", \"admission_time\": \"2025-09-23T04:58:07.072339\", \"discharge_time\": \"2025-09-24T01:58:07.072339\", \"bed_id\": 201, \"hospital_id\": 7}"
        ],
        [
         "{\"patient_id\": \"57f76a0b-bdf2-4980-92a7-1d3a91e0c96d\", \"gender\": \"Female\", \"age\": 16, \"department\": \"Surgery\", \"admission_time\": \"2025-09-22T08:53:40.895398\", \"discharge_time\": \"2025-09-24T16:53:40.895398\", \"bed_id\": 278, \"hospital_id\": 2}"
        ],
        [
         "{\"patient_id\": \"b198305b-09b8-4ef9-9c49-7464265faf4f\", \"gender\": \"Female\", \"age\": 29, \"department\": \"Surgery\", \"admission_time\": \"2025-09-20T10:57:27.048088\", \"discharge_time\": \"2025-09-21T05:57:27.048088\", \"bed_id\": 223, \"hospital_id\": 5}"
        ],
        [
         "{\"patient_id\": \"d793fcec-dfe2-472a-88eb-58b79e4b4cef\", \"gender\": \"Male\", \"age\": 77, \"department\": \"Pediatrics\", \"admission_time\": \"2025-09-21T04:57:39.054860\", \"discharge_time\": \"2025-09-21T07:57:39.054860\", \"bed_id\": 279, \"hospital_id\": 5}"
        ],
        [
         "{\"patient_id\": \"bebf4f4b-a886-49f7-a3e9-7b70ab7ca498\", \"gender\": \"Female\", \"age\": 16, \"department\": \"Surgery\", \"admission_time\": \"2025-09-22T05:25:37.318681\", \"discharge_time\": \"2025-09-24T15:25:37.318681\", \"bed_id\": 454, \"hospital_id\": 4}"
        ],
        [
         "{\"patient_id\": \"afa81f45-10b6-4c39-b36c-b489b40ab9e1\", \"gender\": \"Female\", \"age\": 39, \"department\": \"Surgery\", \"admission_time\": \"2025-09-22T07:10:25.561142\", \"discharge_time\": \"2025-09-23T13:10:25.561142\", \"bed_id\": 241, \"hospital_id\": 7}"
        ],
        [
         "{\"patient_id\": \"fd705acf-d949-4119-a692-5020fffb5a0c\", \"gender\": \"Female\", \"age\": 1, \"department\": \"Cardiology\", \"admission_time\": \"2025-09-25T18:54:58.948107\", \"discharge_time\": \"2025-09-24T06:54:58.948032\", \"bed_id\": 28, \"hospital_id\": 7}"
        ],
        [
         "{\"patient_id\": \"dd166e77-597c-45bb-8ef7-0869630527f5\", \"gender\": \"Female\", \"age\": 61, \"department\": \"Oncology\", \"admission_time\": \"2025-09-22T00:26:39.360463\", \"discharge_time\": \"2025-09-22T09:26:39.360463\", \"bed_id\": 106, \"hospital_id\": 1}"
        ],
        [
         "{\"patient_id\": \"0ef44aba-7b81-4530-932a-145d8b6f92fc\", \"gender\": \"Female\", \"age\": 45, \"department\": \"Cardiology\", \"admission_time\": \"2025-09-22T04:07:35.451736\", \"discharge_time\": \"2025-09-22T15:07:35.451736\", \"bed_id\": 46, \"hospital_id\": 5}"
        ],
        [
         "{\"patient_id\": \"d9165111-191e-4222-a0cd-33d98172042d\", \"gender\": \"Female\", \"age\": 86, \"department\": \"Surgery\", \"admission_time\": \"2025-09-20T20:25:36.317511\", \"discharge_time\": \"2025-09-23T07:25:36.317511\", \"bed_id\": 333, \"hospital_id\": 6}"
        ],
        [
         "{\"patient_id\": \"9a490b4a-8549-4cad-9114-99b4bec9d11a\", \"gender\": \"Female\", \"age\": 18, \"department\": \"Surgery\", \"admission_time\": \"2025-09-22T16:56:20.003058\", \"discharge_time\": \"2025-09-24T01:56:20.003058\", \"bed_id\": 234, \"hospital_id\": 5}"
        ],
        [
         "{\"patient_id\": \"9b54a80c-edc6-4d98-ac22-2f681308d942\", \"gender\": \"Female\", \"age\": 55, \"department\": \"Surgery\", \"admission_time\": \"2025-09-20T19:05:14.353077\", \"discharge_time\": \"2025-09-22T02:05:14.353077\", \"bed_id\": 499, \"hospital_id\": 4}"
        ],
        [
         "{\"patient_id\": \"3f07b6b1-5623-4989-8260-779055484000\", \"gender\": \"Female\", \"age\": 7, \"department\": \"Oncology\", \"admission_time\": \"2025-09-21T20:01:08.185196\", \"discharge_time\": \"2025-09-24T03:01:08.185196\", \"bed_id\": 311, \"hospital_id\": 6}"
        ],
        [
         "{\"patient_id\": \"5d086711-e091-46ef-86d0-afa4bb067c0a\", \"gender\": \"Female\", \"age\": 15, \"department\": \"Surgery\", \"admission_time\": \"2025-09-20T20:53:27.886489\", \"discharge_time\": \"2025-09-21T12:53:27.886489\", \"bed_id\": 254, \"hospital_id\": 7}"
        ],
        [
         "{\"patient_id\": \"6fad7464-3d1c-4594-b6e0-f2b169e4a2c0\", \"gender\": \"Male\", \"age\": 144, \"department\": \"Pediatrics\", \"admission_time\": \"2025-09-22T14:09:22.517687\", \"discharge_time\": \"2025-09-25T06:09:22.517687\", \"bed_id\": 491, \"hospital_id\": 6}"
        ],
        [
         "{\"patient_id\": \"13071f64-c2fc-47ea-b189-047f93faf578\", \"gender\": \"Female\", \"age\": 60, \"department\": \"Surgery\", \"admission_time\": \"2025-09-21T00:05:22.357781\", \"discharge_time\": \"2025-09-23T20:05:22.357781\", \"bed_id\": 386, \"hospital_id\": 6}"
        ],
        [
         "{\"patient_id\": \"74b829aa-6453-4ad0-bee5-34110a1c2f48\", \"gender\": \"Male\", \"age\": 56, \"department\": \"Cardiology\", \"admission_time\": \"2025-09-21T21:03:03.264965\", \"discharge_time\": \"2025-09-21T23:03:03.264965\", \"bed_id\": 121, \"hospital_id\": 3}"
        ],
        [
         "{\"patient_id\": \"07a88bb3-9de0-40cf-bd46-dd393db84b11\", \"gender\": \"Male\", \"age\": 51, \"department\": \"Pediatrics\", \"admission_time\": \"2025-09-21T10:00:08.150704\", \"discharge_time\": \"2025-09-21T14:00:08.150704\", \"bed_id\": 100, \"hospital_id\": 1}"
        ],
        [
         "{\"patient_id\": \"bc39c2f0-a546-4ddb-8c1f-48d0896b7c7b\", \"gender\": \"Female\", \"age\": 24, \"department\": \"Surgery\", \"admission_time\": \"2025-09-20T16:03:34.285987\", \"discharge_time\": \"2025-09-21T17:03:34.285987\", \"bed_id\": 206, \"hospital_id\": 2}"
        ],
        [
         "{\"patient_id\": \"7b6ca4e9-8452-4ea9-937a-b12a9a5ad74a\", \"gender\": \"Female\", \"age\": 12, \"department\": \"Oncology\", \"admission_time\": \"2025-09-22T03:58:40.093393\", \"discharge_time\": \"2025-09-22T21:58:40.093393\", \"bed_id\": 207, \"hospital_id\": 4}"
        ],
        [
         "{\"patient_id\": \"00e40388-0843-491d-bc72-266fdbc1ad15\", \"gender\": \"Female\", \"age\": 1, \"department\": \"Pediatrics\", \"admission_time\": \"2025-09-23T04:57:46.059044\", \"discharge_time\": \"2025-09-25T08:57:46.059044\", \"bed_id\": 462, \"hospital_id\": 5}"
        ],
        [
         "{\"patient_id\": \"b57e231f-6f7e-451c-aed9-1453dd655dd8\", \"gender\": \"Female\", \"age\": 23, \"department\": \"Surgery\", \"admission_time\": \"2025-09-20T18:26:49.367831\", \"discharge_time\": \"2025-09-23T09:26:49.367831\", \"bed_id\": 297, \"hospital_id\": 7}"
        ],
        [
         "{\"patient_id\": \"ad9a7590-538c-41ff-90f7-b36d0b657896\", \"gender\": \"Female\", \"age\": 61, \"department\": \"Maternity\", \"admission_time\": \"2025-09-22T04:09:38.527983\", \"discharge_time\": \"2025-09-25T03:09:38.527983\", \"bed_id\": 461, \"hospital_id\": 4}"
        ],
        [
         "{\"patient_id\": \"b2f8d6be-6f11-438c-9739-ea8d641ac1d6\", \"gender\": \"Female\", \"age\": 87, \"department\": \"Emergency\", \"admission_time\": \"2025-09-21T19:25:35.316306\", \"discharge_time\": \"2025-09-21T22:25:35.316306\", \"bed_id\": 68, \"hospital_id\": 7}"
        ],
        [
         "{\"patient_id\": \"f7b9ea86-f11e-4590-86bb-729e622bd683\", \"gender\": \"Male\", \"age\": 148, \"department\": \"Cardiology\", \"admission_time\": \"2025-09-20T17:08:28.484324\", \"discharge_time\": \"2025-09-22T23:08:28.484324\", \"bed_id\": 192, \"hospital_id\": 2}"
        ],
        [
         "{\"patient_id\": \"1e76f39a-7601-4a5f-8b66-f1f19ee0561e\", \"gender\": \"Male\", \"age\": 28, \"department\": \"Pediatrics\", \"admission_time\": \"2025-09-21T05:06:34.408030\", \"discharge_time\": \"2025-09-22T23:06:34.408030\", \"bed_id\": 26, \"hospital_id\": 4}"
        ],
        [
         "{\"patient_id\": \"84848448-adae-4237-bd46-a0ff8f33db0a\", \"gender\": \"Male\", \"age\": 74, \"department\": \"Cardiology\", \"admission_time\": \"2025-09-22T13:01:14.188357\", \"discharge_time\": \"2025-09-23T16:01:14.188357\", \"bed_id\": 482, \"hospital_id\": 7}"
        ],
        [
         "{\"patient_id\": \"45a72db2-4818-4ca6-9627-7717d2f8573d\", \"gender\": \"Female\", \"age\": 79, \"department\": \"Surgery\", \"admission_time\": \"2025-09-22T23:09:29.521656\", \"discharge_time\": \"2025-09-24T11:09:29.521656\", \"bed_id\": 292, \"hospital_id\": 2}"
        ],
        [
         "{\"patient_id\": \"0f4fbb90-2aae-45fe-a0bb-5da2d445fe93\", \"gender\": \"Female\", \"age\": 56, \"department\": \"Emergency\", \"admission_time\": \"2025-09-20T07:54:02.909432\", \"discharge_time\": \"2025-09-20T17:54:02.909432\", \"bed_id\": 67, \"hospital_id\": 2}"
        ],
        [
         "{\"patient_id\": \"22dd6746-2009-470c-828b-e3e41163c819\", \"gender\": \"Female\", \"age\": 55, \"department\": \"Maternity\", \"admission_time\": \"2025-09-22T16:06:08.388281\", \"discharge_time\": \"2025-09-22T22:06:08.388281\", \"bed_id\": 92, \"hospital_id\": 1}"
        ],
        [
         "{\"patient_id\": \"1ba6ea66-4e72-4d86-b988-6c10811066a4\", \"gender\": \"Male\", \"age\": 63, \"department\": \"Pediatrics\", \"admission_time\": \"2025-09-20T23:58:42.095282\", \"discharge_time\": \"2025-09-21T04:58:42.095282\", \"bed_id\": 84, \"hospital_id\": 3}"
        ],
        [
         "{\"patient_id\": \"2a9cbcc6-c361-4892-8794-0e95378fcdd8\", \"gender\": \"Male\", \"age\": 106, \"department\": \"Cardiology\", \"admission_time\": \"2025-09-20T08:26:17.346277\", \"discharge_time\": \"2025-09-21T23:26:17.346277\", \"bed_id\": 222, \"hospital_id\": 2}"
        ],
        [
         "{\"patient_id\": \"be2b9d13-502a-4fd4-98b5-486501b737bc\", \"gender\": \"Male\", \"age\": 34, \"department\": \"Cardiology\", \"admission_time\": \"2025-09-21T09:06:48.419030\", \"discharge_time\": \"2025-09-22T14:06:48.419030\", \"bed_id\": 41, \"hospital_id\": 6}"
        ],
        [
         "{\"patient_id\": \"e710a120-8d1a-484a-bbd2-722520905abf\", \"gender\": \"Female\", \"age\": 43, \"department\": \"Pediatrics\", \"admission_time\": \"2025-09-22T00:57:19.043074\", \"discharge_time\": \"2025-09-22T04:57:19.043074\", \"bed_id\": 16, \"hospital_id\": 5}"
        ],
        [
         "{\"patient_id\": \"22cb07c3-e8cd-48c2-83a9-9fd73607deb7\", \"gender\": \"Female\", \"age\": 55, \"department\": \"Emergency\", \"admission_time\": \"2025-09-23T00:00:41.170182\", \"discharge_time\": \"2025-09-23T07:00:41.170182\", \"bed_id\": 57, \"hospital_id\": 2}"
        ],
        [
         "{\"patient_id\": \"59296b13-b83a-412c-be92-085e0716e835\", \"gender\": \"Female\", \"age\": 84, \"department\": \"Oncology\", \"admission_time\": \"2025-09-22T00:59:30.127011\", \"discharge_time\": \"2025-09-23T10:59:30.127011\", \"bed_id\": 99, \"hospital_id\": 7}"
        ],
        [
         "{\"patient_id\": \"8a1f3ac3-561e-4fb4-9cb5-4352d1816239\", \"gender\": \"Female\", \"age\": 62, \"department\": \"Surgery\", \"admission_time\": \"2025-09-22T03:06:14.393838\", \"discharge_time\": \"2025-09-24T05:06:14.393838\", \"bed_id\": 462, \"hospital_id\": 4}"
        ],
        [
         "{\"patient_id\": \"873aae12-8d0e-4613-b8ca-2d9007088dd1\", \"gender\": \"Male\", \"age\": 47, \"department\": \"Cardiology\", \"admission_time\": \"2025-09-22T11:08:53.497849\", \"discharge_time\": \"2025-09-23T03:08:53.497849\", \"bed_id\": 78, \"hospital_id\": 1}"
        ],
        [
         "{\"patient_id\": \"3d529071-1e16-4568-a0a0-716381884a45\", \"gender\": \"Male\", \"age\": 70, \"department\": \"Pediatrics\", \"admission_time\": \"2025-09-22T04:58:00.067782\", \"discharge_time\": \"2025-09-25T00:58:00.067782\", \"bed_id\": 47, \"hospital_id\": 7}"
        ],
        [
         "{\"patient_id\": \"bf3575d9-d73b-4699-a4bc-78321dca2580\", \"gender\": \"Female\", \"age\": 79, \"department\": \"Oncology\", \"admission_time\": \"2025-09-21T11:08:41.491735\", \"discharge_time\": \"2025-09-23T16:08:41.491735\", \"bed_id\": 46, \"hospital_id\": 1}"
        ],
        [
         "{\"patient_id\": \"979af9d2-c0db-4e91-a40b-8214c47b1149\", \"gender\": \"Female\", \"age\": 59, \"department\": \"Surgery\", \"admission_time\": \"2025-09-21T00:06:45.416286\", \"discharge_time\": \"2025-09-21T08:06:45.416286\", \"bed_id\": 486, \"hospital_id\": 7}"
        ],
        [
         "{\"patient_id\": \"8039a66d-ba65-4533-83f6-a154f1ba0cfe\", \"gender\": \"Male\", \"age\": 48, \"department\": \"Pediatrics\", \"admission_time\": \"2025-09-21T14:04:14.315328\", \"discharge_time\": \"2025-09-22T17:04:14.315328\", \"bed_id\": 94, \"hospital_id\": 4}"
        ],
        [
         "{\"patient_id\": \"08c0de02-fe2e-4bfa-bb51-1643dd17d73b\", \"gender\": \"Female\", \"age\": 60, \"department\": \"Oncology\", \"admission_time\": \"2025-09-21T01:54:25.925709\", \"discharge_time\": \"2025-09-23T08:54:25.925709\", \"bed_id\": 63, \"hospital_id\": 3}"
        ],
        [
         "{\"patient_id\": \"056c94fb-ad83-4fdd-b4f5-a471e5da44f3\", \"gender\": \"Female\", \"age\": 92, \"department\": \"Surgery\", \"admission_time\": \"2025-09-20T22:55:15.961014\", \"discharge_time\": \"2025-09-22T07:55:15.961014\", \"bed_id\": 392, \"hospital_id\": 1}"
        ],
        [
         "{\"patient_id\": \"a4a075de-8d2a-4e68-a7ed-b8a0dfa11684\", \"gender\": \"Female\", \"age\": 2, \"department\": \"Pediatrics\", \"admission_time\": \"2025-09-23T00:55:59.990453\", \"discharge_time\": \"2025-09-23T18:55:59.990453\", \"bed_id\": 419, \"hospital_id\": 4}"
        ],
        [
         "{\"patient_id\": \"95d498af-39ba-43b6-b967-374d5e4fe82d\", \"gender\": \"Male\", \"age\": 69, \"department\": \"Pediatrics\", \"admission_time\": \"2025-09-22T09:55:28.971608\", \"discharge_time\": \"2025-09-24T03:55:28.971608\", \"bed_id\": 18, \"hospital_id\": 1}"
        ],
        [
         "{\"patient_id\": \"4b1583b7-f111-4a5e-aeea-f919f732dbfb\", \"gender\": \"Female\", \"age\": 49, \"department\": \"Maternity\", \"admission_time\": \"2025-09-21T12:52:49.859498\", \"discharge_time\": \"2025-09-21T17:52:49.859498\", \"bed_id\": 83, \"hospital_id\": 2}"
        ],
        [
         "{\"patient_id\": \"edc88cae-8493-451b-9fec-186e3ebec3b9\", \"gender\": \"Male\", \"age\": 33, \"department\": \"Cardiology\", \"admission_time\": \"2025-09-22T23:59:44.135798\", \"discharge_time\": \"2025-09-23T07:59:44.135798\", \"bed_id\": 84, \"hospital_id\": 6}"
        ],
        [
         "{\"patient_id\": \"e0db1c77-3e1f-49b8-b995-0fe462006256\", \"gender\": \"Male\", \"age\": 83, \"department\": \"Cardiology\", \"admission_time\": \"2025-09-21T07:53:50.901286\", \"discharge_time\": \"2025-09-23T21:53:50.901286\", \"bed_id\": 76, \"hospital_id\": 5}"
        ],
        [
         "{\"patient_id\": \"a20ea976-f131-413e-92e1-5302cfed02f0\", \"gender\": \"Female\", \"age\": 46, \"department\": \"Oncology\", \"admission_time\": \"2025-09-20T21:06:36.409394\", \"discharge_time\": \"2025-09-22T01:06:36.409394\", \"bed_id\": 70, \"hospital_id\": 1}"
        ],
        [
         "{\"patient_id\": \"82d6fcdc-8170-4502-841c-7d00f68336b0\", \"gender\": \"Female\", \"age\": 5, \"department\": \"Maternity\", \"admission_time\": \"2025-09-22T06:00:51.176492\", \"discharge_time\": \"2025-09-23T10:00:51.176492\", \"bed_id\": 343, \"hospital_id\": 3}"
        ],
        [
         "{\"patient_id\": \"b583b42e-e8d5-4d96-9b32-4c7036b10e51\", \"gender\": \"Male\", \"age\": 46, \"department\": \"Cardiology\", \"admission_time\": \"2025-09-21T08:25:54.328705\", \"discharge_time\": \"2025-09-23T13:25:54.328705\", \"bed_id\": 80, \"hospital_id\": 4}"
        ],
        [
         "{\"patient_id\": \"f411a2a1-0936-4402-a856-89695025dc38\", \"gender\": \"Male\", \"age\": 28, \"department\": \"Pediatrics\", \"admission_time\": \"2025-09-21T10:04:54.341320\", \"discharge_time\": \"2025-09-24T09:04:54.341320\", \"bed_id\": 12, \"hospital_id\": 1}"
        ],
        [
         "{\"patient_id\": \"a116649b-0c46-4ef2-9b89-70d161c522f2\", \"gender\": \"Male\", \"age\": 93, \"department\": \"Pediatrics\", \"admission_time\": \"2025-09-21T19:03:42.289897\", \"discharge_time\": \"2025-09-22T13:03:42.289897\", \"bed_id\": 58, \"hospital_id\": 2}"
        ],
        [
         "{\"patient_id\": \"2b313581-07eb-4e38-af32-70681b6cb89d\", \"gender\": \"Male\", \"age\": 145, \"department\": \"Pediatrics\", \"admission_time\": \"2025-09-25T07:58:10.075048\", \"discharge_time\": \"2025-09-23T16:58:10.074968\", \"bed_id\": 26, \"hospital_id\": 6}"
        ],
        [
         "{\"patient_id\": \"e502d110-9cf3-4f9f-92df-191f3370847d\", \"gender\": \"Male\", \"age\": 4, \"department\": \"Cardiology\", \"admission_time\": \"2025-09-25T08:03:48.295103\", \"discharge_time\": \"2025-09-22T20:03:48.295025\", \"bed_id\": 149, \"hospital_id\": 7}"
        ],
        [
         "{\"patient_id\": \"5e0c081d-1b4f-4854-86ed-6d590112b67a\", \"gender\": \"Female\", \"age\": 38, \"department\": \"Surgery\", \"admission_time\": \"2025-09-21T09:05:07.349011\", \"discharge_time\": \"2025-09-21T19:05:07.349011\", \"bed_id\": 318, \"hospital_id\": 3}"
        ],
        [
         "{\"patient_id\": \"8fc96936-b0dc-4edc-ba7e-bc76442f119b\", \"gender\": \"Female\", \"age\": 89, \"department\": \"Surgery\", \"admission_time\": \"2025-09-21T07:02:26.240963\", \"discharge_time\": \"2025-09-21T14:02:26.240963\", \"bed_id\": 329, \"hospital_id\": 3}"
        ],
        [
         "{\"patient_id\": \"90c8cf4a-a270-4724-a25d-1be49e634625\", \"gender\": \"Female\", \"age\": 10, \"department\": \"Oncology\", \"admission_time\": \"2025-09-21T00:08:31.486829\", \"discharge_time\": \"2025-09-22T10:08:31.486829\", \"bed_id\": 83, \"hospital_id\": 3}"
        ],
        [
         "{\"patient_id\": \"10340cbb-c6cb-4baf-a1e9-dde7ffaddb4b\", \"gender\": \"Female\", \"age\": 5, \"department\": \"Cardiology\", \"admission_time\": \"2025-09-23T06:59:36.130980\", \"discharge_time\": \"2025-09-23T11:59:36.130980\", \"bed_id\": 379, \"hospital_id\": 3}"
        ],
        [
         "{\"patient_id\": \"df6ed200-b7f1-4e9b-81bf-825dfa19360f\", \"gender\": \"Female\", \"age\": 62, \"department\": \"Oncology\", \"admission_time\": \"2025-09-20T09:26:23.350578\", \"discharge_time\": \"2025-09-23T05:26:23.350578\", \"bed_id\": 52, \"hospital_id\": 3}"
        ],
        [
         "{\"patient_id\": \"107130f3-f9ca-45fc-b4c6-031a95ec9696\", \"gender\": \"Female\", \"age\": 22, \"department\": \"Oncology\", \"admission_time\": \"2025-09-23T01:25:42.322163\", \"discharge_time\": \"2025-09-25T05:25:42.322163\", \"bed_id\": 46, \"hospital_id\": 5}"
        ],
        [
         "{\"patient_id\": \"073427c9-3f94-4557-ad9b-325ac5a4789b\", \"gender\": \"Male\", \"age\": 77, \"department\": \"Pediatrics\", \"admission_time\": \"2025-09-20T13:02:02.223421\", \"discharge_time\": \"2025-09-21T05:02:02.223421\", \"bed_id\": 36, \"hospital_id\": 6}"
        ],
        [
         "{\"patient_id\": \"f0e21cb7-f746-4cec-b684-c4f9cb4e51aa\", \"gender\": \"Male\", \"age\": 80, \"department\": \"Pediatrics\", \"admission_time\": \"2025-09-20T10:57:38.054390\", \"discharge_time\": \"2025-09-22T09:57:38.054390\", \"bed_id\": 59, \"hospital_id\": 3}"
        ],
        [
         "{\"patient_id\": \"96aa0870-bed2-46c3-ab34-73beaeaf9c3a\", \"gender\": \"Female\", \"age\": 84, \"department\": \"Oncology\", \"admission_time\": \"2025-09-23T04:54:39.935582\", \"discharge_time\": \"2025-09-24T16:54:39.935582\", \"bed_id\": 27, \"hospital_id\": 7}"
        ],
        [
         "{\"patient_id\": \"ae0b0b88-c7c2-452e-aeed-4612fb3d36b9\", \"gender\": \"Female\", \"age\": 20, \"department\": \"Oncology\", \"admission_time\": \"2025-09-22T12:00:28.162132\", \"discharge_time\": \"2025-09-25T10:00:28.162132\", \"bed_id\": 84, \"hospital_id\": 6}"
        ],
        [
         "{\"patient_id\": \"d2621ebc-000b-494e-a469-f90f58121f7b\", \"gender\": \"Female\", \"age\": 18, \"department\": \"Surgery\", \"admission_time\": \"2025-09-22T11:54:51.943670\", \"discharge_time\": \"2025-09-22T19:54:51.943670\", \"bed_id\": 292, \"hospital_id\": 1}"
        ],
        [
         "{\"patient_id\": \"ed8f704e-56d7-4636-aed5-c3335d50ae2f\", \"gender\": \"Female\", \"age\": 93, \"department\": \"Surgery\", \"admission_time\": \"2025-09-21T04:58:38.092468\", \"discharge_time\": \"2025-09-21T07:58:38.092468\", \"bed_id\": 116, \"hospital_id\": 7}"
        ],
        [
         "{\"patient_id\": \"c29c1272-d156-4528-967a-bbcaea7715ab\", \"gender\": \"Female\", \"age\": 9, \"department\": \"Oncology\", \"admission_time\": \"2025-09-20T11:04:58.343950\", \"discharge_time\": \"2025-09-21T18:04:58.343950\", \"bed_id\": 258, \"hospital_id\": 6}"
        ],
        [
         "{\"patient_id\": \"cd898a10-83b2-418e-9d7e-f3f32c4f4c65\", \"gender\": \"Female\", \"age\": 29, \"department\": \"Oncology\", \"admission_time\": \"2025-09-20T11:53:35.892674\", \"discharge_time\": \"2025-09-21T07:53:35.892674\", \"bed_id\": 84, \"hospital_id\": 4}"
        ],
        [
         "{\"patient_id\": \"61d04495-09d1-4b13-b3d4-a1c1a23e5cf4\", \"gender\": \"Female\", \"age\": 80, \"department\": \"Oncology\", \"admission_time\": \"2025-09-22T22:59:27.125081\", \"discharge_time\": \"2025-09-23T18:59:27.125081\", \"bed_id\": 1, \"hospital_id\": 7}"
        ],
        [
         "{\"patient_id\": \"dcfc529a-97bc-4ae8-83a1-d0e7c4f63f37\", \"gender\": \"Female\", \"age\": 69, \"department\": \"Oncology\", \"admission_time\": \"2025-09-22T12:05:44.371497\", \"discharge_time\": \"2025-09-23T21:05:44.371497\", \"bed_id\": 63, \"hospital_id\": 7}"
        ],
        [
         "{\"patient_id\": \"c255ca8e-5c6a-45f7-ba1b-395338bc41b4\", \"gender\": \"Male\", \"age\": 48, \"department\": \"Pediatrics\", \"admission_time\": \"2025-09-22T07:53:56.905557\", \"discharge_time\": \"2025-09-22T18:53:56.905557\", \"bed_id\": 82, \"hospital_id\": 3}"
        ],
        [
         "{\"patient_id\": \"539e991a-73a4-4753-b63e-fda4bf4f912e\", \"gender\": \"Male\", \"age\": 81, \"department\": \"Pediatrics\", \"admission_time\": \"2025-09-22T11:04:32.327708\", \"discharge_time\": \"2025-09-25T03:04:32.327708\", \"bed_id\": 40, \"hospital_id\": 2}"
        ],
        [
         "{\"patient_id\": \"b94545c6-bfbc-46d2-8f3d-e71d43420629\", \"gender\": \"Male\", \"age\": 128, \"department\": \"Cardiology\", \"admission_time\": \"2025-09-21T08:54:30.928739\", \"discharge_time\": \"2025-09-21T16:54:30.928739\", \"bed_id\": 152, \"hospital_id\": 6}"
        ],
        [
         "{\"patient_id\": \"6b795af9-3b4f-4be0-85db-87b8a1e3c2d2\", \"gender\": \"Male\", \"age\": 49, \"department\": \"Pediatrics\", \"admission_time\": \"2025-09-21T13:07:00.426711\", \"discharge_time\": \"2025-09-21T21:07:00.426711\", \"bed_id\": 80, \"hospital_id\": 1}"
        ],
        [
         "{\"patient_id\": \"2909c11e-13fe-4c58-8e2a-8c863604db76\", \"gender\": \"Male\", \"age\": 4, \"department\": \"Cardiology\", \"admission_time\": \"2025-09-24T22:26:28.354118\", \"discharge_time\": \"2025-09-23T17:26:28.354044\", \"bed_id\": 429, \"hospital_id\": 6}"
        ],
        [
         "{\"patient_id\": \"7e004f6e-290b-4246-b142-825b8e6fb937\", \"gender\": \"Male\", \"age\": 16, \"department\": \"Surgery\", \"admission_time\": \"2025-09-21T03:57:26.047535\", \"discharge_time\": \"2025-09-22T22:57:26.047535\", \"bed_id\": 319, \"hospital_id\": 2}"
        ],
        [
         "{\"patient_id\": \"8c083e2a-b23b-42ea-a278-ad861217f531\", \"gender\": \"Female\", \"age\": 4, \"department\": \"Cardiology\", \"admission_time\": \"2025-09-20T10:09:56.539452\", \"discharge_time\": \"2025-09-21T11:09:56.539452\", \"bed_id\": 32, \"hospital_id\": 4}"
        ],
        [
         "{\"patient_id\": \"0d09d23d-fb9c-4e4a-93e2-73aa86181045\", \"gender\": \"Female\", \"age\": 9, \"department\": \"Cardiology\", \"admission_time\": \"2025-09-22T02:59:50.139483\", \"discharge_time\": \"2025-09-22T12:59:50.139483\", \"bed_id\": 359, \"hospital_id\": 4}"
        ],
        [
         "{\"patient_id\": \"c996c6a4-761f-45f2-928a-0fe98681aa07\", \"gender\": \"Female\", \"age\": 7, \"department\": \"Pediatrics\", \"admission_time\": \"2025-09-20T10:03:38.287832\", \"discharge_time\": \"2025-09-22T10:03:38.287832\", \"bed_id\": 208, \"hospital_id\": 6}"
        ],
        [
         "{\"patient_id\": \"c7dc3dbd-517a-449b-ad02-90fb98f000fb\", \"gender\": \"Female\", \"age\": 52, \"department\": \"Surgery\", \"admission_time\": \"2025-09-20T16:08:03.469587\", \"discharge_time\": \"2025-09-21T19:08:03.469587\", \"bed_id\": 24, \"hospital_id\": 2}"
        ],
        [
         "{\"patient_id\": \"464fbc13-a3d1-4e6a-a212-aae5b22ccdae\", \"gender\": \"Male\", \"age\": 34, \"department\": \"Maternity\", \"admission_time\": \"2025-09-24T18:00:30.163759\", \"discharge_time\": \"2025-09-22T04:00:30.163684\", \"bed_id\": 150, \"hospital_id\": 5}"
        ],
        [
         "{\"patient_id\": \"4e4e43ca-d5de-46d8-855c-63b494cd97f6\", \"gender\": \"Female\", \"age\": 76, \"department\": \"Maternity\", \"admission_time\": \"2025-09-20T13:07:06.429520\", \"discharge_time\": \"2025-09-22T23:07:06.429520\", \"bed_id\": 8, \"hospital_id\": 4}"
        ],
        [
         "{\"patient_id\": \"95f66446-c775-47f7-8d96-10a29ef467ff\", \"gender\": \"Male\", \"age\": 74, \"department\": \"Oncology\", \"admission_time\": \"2025-09-24T19:07:07.430390\", \"discharge_time\": \"2025-09-23T08:07:07.430321\", \"bed_id\": 484, \"hospital_id\": 2}"
        ],
        [
         "{\"patient_id\": \"7f4b96ef-a08e-4e7d-b1c9-48423adbe1a9\", \"gender\": \"Male\", \"age\": 20, \"department\": \"Pediatrics\", \"admission_time\": \"2025-09-23T08:26:32.356564\", \"discharge_time\": \"2025-09-23T19:26:32.356564\", \"bed_id\": 51, \"hospital_id\": 2}"
        ],
        [
         "{\"patient_id\": \"b079d47b-7d5e-46ff-93fb-f2bb437bcd69\", \"gender\": \"Male\", \"age\": 41, \"department\": \"Pediatrics\", \"admission_time\": \"2025-09-23T07:26:48.367365\", \"discharge_time\": \"2025-09-23T19:26:48.367365\", \"bed_id\": 40, \"hospital_id\": 5}"
        ],
        [
         "{\"patient_id\": \"b71303b4-a43b-4331-9e7c-6aa9cbc24645\", \"gender\": \"Female\", \"age\": 12, \"department\": \"Surgery\", \"admission_time\": \"2025-09-20T10:59:37.131385\", \"discharge_time\": \"2025-09-22T10:59:37.131385\", \"bed_id\": 161, \"hospital_id\": 6}"
        ],
        [
         "{\"patient_id\": \"9efc429d-c5ff-48a0-a70b-1a31c7e484da\", \"gender\": \"Male\", \"age\": 87, \"department\": \"Emergency\", \"admission_time\": \"2025-09-24T21:54:41.936621\", \"discharge_time\": \"2025-09-22T04:54:41.936495\", \"bed_id\": 159, \"hospital_id\": 2}"
        ],
        [
         "{\"patient_id\": \"11932db6-f54a-408e-aef3-0ff1ef3a6ef1\", \"gender\": \"Female\", \"age\": 1, \"department\": \"Emergency\", \"admission_time\": \"2025-09-23T01:54:03.909897\", \"discharge_time\": \"2025-09-26T00:54:03.909897\", \"bed_id\": 441, \"hospital_id\": 7}"
        ],
        [
         "{\"patient_id\": \"ba69b2fa-90d9-4e0e-9e12-f6d768e94799\", \"gender\": \"Male\", \"age\": 16, \"department\": \"Maternity\", \"admission_time\": \"2025-09-26T04:00:01.146244\", \"discharge_time\": \"2025-09-24T18:00:01.146173\", \"bed_id\": 169, \"hospital_id\": 4}"
        ],
        [
         "{\"patient_id\": \"5c7729bc-db2e-49ae-aec8-ab9f11b1f130\", \"gender\": \"Female\", \"age\": 93, \"department\": \"ICU\", \"admission_time\": \"2025-09-21T19:59:35.129730\", \"discharge_time\": \"2025-09-22T05:59:35.129730\", \"bed_id\": 23, \"hospital_id\": 4}"
        ],
        [
         "{\"patient_id\": \"edb68d2c-0b76-4e23-a704-b3d29c0aafd1\", \"gender\": \"Female\", \"age\": 9, \"department\": \"Maternity\", \"admission_time\": \"2025-09-20T08:10:18.555313\", \"discharge_time\": \"2025-09-22T03:10:18.555313\", \"bed_id\": 182, \"hospital_id\": 2}"
        ],
        [
         "{\"patient_id\": \"e867118f-1761-43e4-9807-ec329f6a5c0e\", \"gender\": \"Female\", \"age\": 12, \"department\": \"Oncology\", \"admission_time\": \"2025-09-21T11:00:37.167054\", \"discharge_time\": \"2025-09-21T13:00:37.167054\", \"bed_id\": 67, \"hospital_id\": 3}"
        ],
        [
         "{\"patient_id\": \"50c6c72c-6c9e-4204-9830-532919b9cf8b\", \"gender\": \"Female\", \"age\": 3, \"department\": \"Emergency\", \"admission_time\": \"2025-09-20T22:26:36.359125\", \"discharge_time\": \"2025-09-21T11:26:36.359125\", \"bed_id\": 404, \"hospital_id\": 5}"
        ],
        [
         "{\"patient_id\": \"d192abda-9585-42ef-a526-39b9f7b305b5\", \"gender\": \"Female\", \"age\": 7, \"department\": \"Emergency\", \"admission_time\": \"2025-09-20T11:59:34.129320\", \"discharge_time\": \"2025-09-21T23:59:34.129320\", \"bed_id\": 424, \"hospital_id\": 5}"
        ],
        [
         "{\"patient_id\": \"1e87223a-5feb-4e12-bb88-ade3a51b4dca\", \"gender\": \"Female\", \"age\": 8, \"department\": \"Maternity\", \"admission_time\": \"2025-09-20T07:00:10.151617\", \"discharge_time\": \"2025-09-22T20:00:10.151617\", \"bed_id\": 192, \"hospital_id\": 1}"
        ],
        [
         "{\"patient_id\": \"01561f53-e69c-435b-b2aa-129ba72343a3\", \"gender\": \"Female\", \"age\": 7, \"department\": \"Emergency\", \"admission_time\": \"2025-09-20T19:57:32.050569\", \"discharge_time\": \"2025-09-21T02:57:32.050569\", \"bed_id\": 150, \"hospital_id\": 1}"
        ],
        [
         "{\"patient_id\": \"05d5e11c-b896-450a-ba74-741c7193b2d8\", \"gender\": \"Male\", \"age\": 46, \"department\": \"Emergency\", \"admission_time\": \"2025-09-25T08:56:00.990957\", \"discharge_time\": \"2025-09-21T13:56:00.990885\", \"bed_id\": 393, \"hospital_id\": 1}"
        ],
        [
         "{\"patient_id\": \"cf26bcaf-e604-42d4-ae4c-e80474ffc81d\", \"gender\": \"Male\", \"age\": 63, \"department\": \"Maternity\", \"admission_time\": \"2025-09-25T17:56:22.004609\", \"discharge_time\": \"2025-09-22T14:56:22.004492\", \"bed_id\": 178, \"hospital_id\": 2}"
        ],
        [
         "{\"patient_id\": \"d2e7b1cb-17dd-4c8b-8128-35ba8e1151cc\", \"gender\": \"Female\", \"age\": 86, \"department\": \"Surgery\", \"admission_time\": \"2025-09-22T18:59:26.124666\", \"discharge_time\": \"2025-09-24T01:59:26.124666\", \"bed_id\": 54, \"hospital_id\": 7}"
        ],
        [
         "{\"patient_id\": \"601aebdf-3f8e-4ac4-9f64-78cbcd7c52a3\", \"gender\": \"Female\", \"age\": 83, \"department\": \"Surgery\", \"admission_time\": \"2025-09-22T15:10:19.556268\", \"discharge_time\": \"2025-09-23T01:10:19.556268\", \"bed_id\": 23, \"hospital_id\": 3}"
        ],
        [
         "{\"patient_id\": \"45dd2e01-31b1-4d47-aac4-86a21e0b87a5\", \"gender\": \"Female\", \"age\": 58, \"department\": \"Oncology\", \"admission_time\": \"2025-09-23T00:00:59.180467\", \"discharge_time\": \"2025-09-23T04:00:59.180467\", \"bed_id\": 44, \"hospital_id\": 7}"
        ],
        [
         "{\"patient_id\": \"49cb6fbe-6286-436a-bfa5-44896d0dbf44\", \"gender\": \"Male\", \"age\": 100, \"department\": \"Maternity\", \"admission_time\": \"2025-09-21T17:52:46.857593\", \"discharge_time\": \"2025-09-22T08:52:46.857593\", \"bed_id\": 146, \"hospital_id\": 7}"
        ],
        [
         "{\"patient_id\": \"78b7733b-2e22-4cb1-8959-586e2621032d\", \"gender\": \"Male\", \"age\": 61, \"department\": \"Cardiology\", \"admission_time\": \"2025-09-21T06:09:52.536914\", \"discharge_time\": \"2025-09-21T07:09:52.536914\", \"bed_id\": 50, \"hospital_id\": 4}"
        ],
        [
         "{\"patient_id\": \"8b1d1471-e9d0-4a9e-8699-4505261029ad\", \"gender\": \"Female\", \"age\": 27, \"department\": \"Oncology\", \"admission_time\": \"2025-09-23T04:56:03.994044\", \"discharge_time\": \"2025-09-23T09:56:03.994044\", \"bed_id\": 28, \"hospital_id\": 1}"
        ],
        [
         "{\"patient_id\": \"f0debc15-2bae-4e02-aae5-cf34c062dba2\", \"gender\": \"Female\", \"age\": 29, \"department\": \"Surgery\", \"admission_time\": \"2025-09-21T03:57:43.057141\", \"discharge_time\": \"2025-09-22T12:57:43.057141\", \"bed_id\": 34, \"hospital_id\": 6}"
        ],
        [
         "{\"patient_id\": \"ba096e1a-02c7-4953-8f0a-7b5d3123b8d0\", \"gender\": \"Male\", \"age\": 41, \"department\": \"Oncology\", \"admission_time\": \"2025-09-21T03:03:41.289415\", \"discharge_time\": \"2025-09-21T21:03:41.289415\", \"bed_id\": 155, \"hospital_id\": 2}"
        ],
        [
         "{\"patient_id\": \"765432f7-4499-4e56-ab49-74ff13fcebc5\", \"gender\": \"Male\", \"age\": 34, \"department\": \"Oncology\", \"admission_time\": \"2025-09-20T08:04:13.314886\", \"discharge_time\": \"2025-09-22T22:04:13.314886\", \"bed_id\": 113, \"hospital_id\": 7}"
        ],
        [
         "{\"patient_id\": \"78692144-52c9-4d11-ad17-4880882234a9\", \"gender\": \"Female\", \"age\": 12, \"department\": \"Cardiology\", \"admission_time\": \"2025-09-22T11:59:02.108485\", \"discharge_time\": \"2025-09-22T13:59:02.108485\", \"bed_id\": 2, \"hospital_id\": 3}"
        ],
        [
         "{\"patient_id\": \"fc7b9deb-b568-46ee-93c7-cf1cba1c851f\", \"gender\": \"Male\", \"age\": 3, \"department\": \"Oncology\", \"admission_time\": \"2025-09-21T17:04:50.339086\", \"discharge_time\": \"2025-09-24T09:04:50.339086\", \"bed_id\": 290, \"hospital_id\": 3}"
        ],
        [
         "{\"patient_id\": \"146097b8-dfa6-46ac-af31-1ba3c95acf3a\", \"gender\": \"Male\", \"age\": 1, \"department\": \"Oncology\", \"admission_time\": \"2025-09-22T21:00:15.154220\", \"discharge_time\": \"2025-09-24T16:00:15.154220\", \"bed_id\": 431, \"hospital_id\": 6}"
        ],
        [
         "{\"patient_id\": \"fc8ab784-7101-4de8-9baa-7dbda5e3bbe4\", \"gender\": \"Male\", \"age\": 48, \"department\": \"Surgery\", \"admission_time\": \"2025-09-25T07:53:01.868051\", \"discharge_time\": \"2025-09-23T18:53:01.867981\", \"bed_id\": 300, \"hospital_id\": 1}"
        ],
        [
         "{\"patient_id\": \"de8f8c18-3001-44cc-98cb-0c1fdbff8692\", \"gender\": \"Male\", \"age\": 98, \"department\": \"Surgery\", \"admission_time\": \"2025-09-22T00:55:21.966661\", \"discharge_time\": \"2025-09-22T11:55:21.966661\", \"bed_id\": 234, \"hospital_id\": 4}"
        ],
        [
         "{\"patient_id\": \"be0867ed-fc21-433e-8712-e3d560cc1bcd\", \"gender\": \"Female\", \"age\": 6, \"department\": \"Cardiology\", \"admission_time\": \"2025-09-21T22:58:54.102077\", \"discharge_time\": \"2025-09-22T14:58:54.102077\", \"bed_id\": 26, \"hospital_id\": 7}"
        ],
        [
         "{\"patient_id\": \"1d4b51b0-3f78-4c7a-a00a-baf1be9def4a\", \"gender\": \"Male\", \"age\": 4, \"department\": \"Oncology\", \"admission_time\": \"2025-09-21T10:07:16.435214\", \"discharge_time\": \"2025-09-22T06:07:16.435214\", \"bed_id\": 409, \"hospital_id\": 2}"
        ],
        [
         "{\"patient_id\": \"a4e45176-000d-42e4-960d-bdeb32e040cd\", \"gender\": \"Male\", \"age\": 149, \"department\": \"Maternity\", \"admission_time\": \"2025-09-20T23:09:30.522260\", \"discharge_time\": \"2025-09-22T14:09:30.522260\", \"bed_id\": 298, \"hospital_id\": 6}"
        ],
        [
         "{\"patient_id\": \"f3495b0b-57d6-4423-9e6a-ddc7921992d3\", \"gender\": \"Female\", \"age\": 6, \"department\": \"Maternity\", \"admission_time\": \"2025-09-20T16:00:47.173251\", \"discharge_time\": \"2025-09-23T09:00:47.173251\", \"bed_id\": 326, \"hospital_id\": 6}"
        ],
        [
         "{\"patient_id\": \"f31db1c5-3857-47cb-81df-5a216e5e13dc\", \"gender\": \"Male\", \"age\": 77, \"department\": \"Maternity\", \"admission_time\": \"2025-09-22T08:02:20.236678\", \"discharge_time\": \"2025-09-24T15:02:20.236678\", \"bed_id\": 167, \"hospital_id\": 4}"
        ],
        [
         "{\"patient_id\": \"41733a83-ea20-4822-bd7e-c33d02255db2\", \"gender\": \"Male\", \"age\": 69, \"department\": \"Emergency\", \"admission_time\": \"2025-09-24T21:09:02.502656\", \"discharge_time\": \"2025-09-24T07:09:02.502584\", \"bed_id\": 123, \"hospital_id\": 6}"
        ],
        [
         "{\"patient_id\": \"2e5f778f-f5d5-4f8f-b337-e6498ebc1f18\", \"gender\": \"Female\", \"age\": 9, \"department\": \"Maternity\", \"admission_time\": \"2025-09-22T00:56:25.007676\", \"discharge_time\": \"2025-09-22T15:56:25.007676\", \"bed_id\": 210, \"hospital_id\": 5}"
        ],
        [
         "{\"patient_id\": \"ac1dc191-caad-4a5b-a75b-cdff94cab759\", \"gender\": \"Male\", \"age\": 83, \"department\": \"Surgery\", \"admission_time\": \"2025-09-24T01:01:06.184335\", \"discharge_time\": \"2025-09-21T12:01:06.184255\", \"bed_id\": 319, \"hospital_id\": 2}"
        ],
        [
         "{\"patient_id\": \"fdd8cbf7-c83a-4167-bfc4-dc049b5e7c4b\", \"gender\": \"Female\", \"age\": 1, \"department\": \"Emergency\", \"admission_time\": \"2025-09-21T13:52:47.858591\", \"discharge_time\": \"2025-09-24T10:52:47.858591\", \"bed_id\": 471, \"hospital_id\": 4}"
        ],
        [
         "{\"patient_id\": \"9c6f538a-8969-4435-b103-540b276f6d7a\", \"gender\": \"Female\", \"age\": 4, \"department\": \"Maternity\", \"admission_time\": \"2025-09-20T17:08:36.489487\", \"discharge_time\": \"2025-09-20T20:08:36.489487\", \"bed_id\": 427, \"hospital_id\": 5}"
        ],
        [
         "{\"patient_id\": \"e2659c28-69d4-4cbe-a567-01796f565d19\", \"gender\": \"Male\", \"age\": 86, \"department\": \"Emergency\", \"admission_time\": \"2025-09-24T07:59:14.115495\", \"discharge_time\": \"2025-09-25T23:59:14.115415\", \"bed_id\": 116, \"hospital_id\": 3}"
        ],
        [
         "{\"patient_id\": \"bf788163-2b2f-463e-a880-f8e6cb5f705c\", \"gender\": \"Male\", \"age\": 23, \"department\": \"Pediatrics\", \"admission_time\": \"2025-09-23T02:07:56.465487\", \"discharge_time\": \"2025-09-24T11:07:56.465487\", \"bed_id\": 8, \"hospital_id\": 6}"
        ],
        [
         "{\"patient_id\": \"2d8bc8d1-67bd-43e6-916b-3201d5c0d28f\", \"gender\": \"Male\", \"age\": 76, \"department\": \"Maternity\", \"admission_time\": \"2025-09-21T19:04:38.331800\", \"discharge_time\": \"2025-09-24T00:04:38.331800\", \"bed_id\": 170, \"hospital_id\": 7}"
        ],
        [
         "{\"patient_id\": \"d602b464-7b99-41ea-b82e-3098f8c4974a\", \"gender\": \"Female\", \"age\": 89, \"department\": \"Surgery\", \"admission_time\": \"2025-09-22T06:58:15.077943\", \"discharge_time\": \"2025-09-22T18:58:15.077943\", \"bed_id\": 59, \"hospital_id\": 3}"
        ],
        [
         "{\"patient_id\": \"776a9cdf-fd91-4d73-8bf2-05a702d7063d\", \"gender\": \"Female\", \"age\": 34, \"department\": \"Oncology\", \"admission_time\": \"2025-09-22T04:55:16.961437\", \"discharge_time\": \"2025-09-24T04:55:16.961437\", \"bed_id\": 5, \"hospital_id\": 1}"
        ],
        [
         "{\"patient_id\": \"af3d86c7-8be3-40a6-a5f5-6ef009ccc1b3\", \"gender\": \"Male\", \"age\": 69, \"department\": \"Emergency\", \"admission_time\": \"2025-09-23T03:04:12.313915\", \"discharge_time\": \"2025-09-24T12:04:12.313915\", \"bed_id\": 156, \"hospital_id\": 2}"
        ],
        [
         "{\"patient_id\": \"4fd5d3aa-57a9-474e-af5e-716317859bb5\", \"gender\": \"Male\", \"age\": 74, \"department\": \"Surgery\", \"admission_time\": \"2025-09-21T04:02:25.240516\", \"discharge_time\": \"2025-09-23T09:02:25.240516\", \"bed_id\": 224, \"hospital_id\": 5}"
        ],
        [
         "{\"patient_id\": \"4a572bc3-4819-41d1-b0dd-2c984832566e\", \"gender\": \"Male\", \"age\": 39, \"department\": \"Emergency\", \"admission_time\": \"2025-09-20T09:07:17.435647\", \"discharge_time\": \"2025-09-22T12:07:17.435647\", \"bed_id\": 469, \"hospital_id\": 3}"
        ],
        [
         "{\"patient_id\": \"3cc3640e-f4b7-4d3d-a69f-bb43f24b1663\", \"gender\": \"Male\", \"age\": 100, \"department\": \"Oncology\", \"admission_time\": \"2025-09-20T21:04:18.318983\", \"discharge_time\": \"2025-09-23T13:04:18.318983\", \"bed_id\": 314, \"hospital_id\": 6}"
        ],
        [
         "{\"patient_id\": \"5dde523b-1b03-4574-a7e4-72ac6e019100\", \"gender\": \"Male\", \"age\": 41, \"department\": \"Emergency\", \"admission_time\": \"2025-09-22T06:04:11.312439\", \"discharge_time\": \"2025-09-23T20:04:11.312439\", \"bed_id\": 460, \"hospital_id\": 5}"
        ],
        [
         "{\"patient_id\": \"c5ebf82b-362c-4018-beda-7aee1fe8d218\", \"gender\": \"Male\", \"age\": 53, \"department\": \"Surgery\", \"admission_time\": \"2025-09-22T03:08:37.489947\", \"discharge_time\": \"2025-09-24T06:08:37.489947\", \"bed_id\": 216, \"hospital_id\": 7}"
        ],
        [
         "{\"patient_id\": \"3b602c77-f17a-4a83-bca7-19b8bbf5941e\", \"gender\": \"Male\", \"age\": 30, \"department\": \"Maternity\", \"admission_time\": \"2025-09-22T00:04:48.338189\", \"discharge_time\": \"2025-09-22T08:04:48.338189\", \"bed_id\": 452, \"hospital_id\": 7}"
        ],
        [
         "{\"patient_id\": \"86561778-1b82-4319-9a96-8a249b5e4104\", \"gender\": \"Female\", \"age\": 2, \"department\": \"Oncology\", \"admission_time\": \"2025-09-22T04:04:31.326682\", \"discharge_time\": \"2025-09-23T02:04:31.326682\", \"bed_id\": 164, \"hospital_id\": 6}"
        ],
        [
         "{\"patient_id\": \"8cabfa82-1a09-4fed-97bd-9afb9ddb6759\", \"gender\": \"Male\", \"age\": 40, \"department\": \"Maternity\", \"admission_time\": \"2025-09-20T17:53:38.894448\", \"discharge_time\": \"2025-09-22T02:53:38.894448\", \"bed_id\": 104, \"hospital_id\": 1}"
        ],
        [
         "{\"patient_id\": \"80832e94-1f4f-4142-8ab9-e8817aea58a7\", \"gender\": \"Female\", \"age\": 1, \"department\": \"Maternity\", \"admission_time\": \"2025-09-22T00:01:07.184766\", \"discharge_time\": \"2025-09-24T08:01:07.184766\", \"bed_id\": 19, \"hospital_id\": 5}"
        ],
        [
         "{\"patient_id\": \"26436536-878e-486c-a5ff-619cbf959a4e\", \"gender\": \"Male\", \"age\": 10, \"department\": \"Maternity\", \"admission_time\": \"2025-09-20T07:04:29.325349\", \"discharge_time\": \"2025-09-21T13:04:29.325349\", \"bed_id\": 310, \"hospital_id\": 5}"
        ],
        [
         "{\"patient_id\": \"7382861a-1ec7-43f8-8395-48c8ab1a6c41\", \"gender\": \"Male\", \"age\": 76, \"department\": \"Oncology\", \"admission_time\": \"2025-09-21T03:09:03.503015\", \"discharge_time\": \"2025-09-22T14:09:03.503015\", \"bed_id\": 261, \"hospital_id\": 6}"
        ],
        [
         "{\"patient_id\": \"05cf37f6-1bc8-4ac5-a770-206eae898086\", \"gender\": \"Male\", \"age\": 22, \"department\": \"Maternity\", \"admission_time\": \"2025-09-22T00:10:05.545201\", \"discharge_time\": \"2025-09-24T16:10:05.545201\", \"bed_id\": 332, \"hospital_id\": 3}"
        ],
        [
         "{\"patient_id\": \"e7b545c3-1709-4af4-b54f-711a4d479f5b\", \"gender\": \"Male\", \"age\": 27, \"department\": \"Emergency\", \"admission_time\": \"2025-09-21T09:03:28.282220\", \"discharge_time\": \"2025-09-23T18:03:28.282220\", \"bed_id\": 181, \"hospital_id\": 3}"
        ],
        [
         "{\"patient_id\": \"9582f448-19b2-4719-a993-159a267d37ac\", \"gender\": \"Male\", \"age\": 5, \"department\": \"Emergency\", \"admission_time\": \"2025-09-21T06:53:17.881573\", \"discharge_time\": \"2025-09-22T08:53:17.881573\", \"bed_id\": 468, \"hospital_id\": 3}"
        ],
        [
         "{\"patient_id\": \"0b14b427-8ae8-48d7-977c-1b758207852a\", \"gender\": \"Male\", \"age\": 19, \"department\": \"Maternity\", \"admission_time\": \"2025-09-20T07:59:28.125651\", \"discharge_time\": \"2025-09-21T14:59:28.125651\", \"bed_id\": 162, \"hospital_id\": 3}"
        ],
        [
         "{\"patient_id\": \"7769b3a3-2b9c-4a01-8d9d-1de9fc8a2099\", \"gender\": \"Male\", \"age\": 67, \"department\": \"Emergency\", \"admission_time\": \"2025-09-20T17:10:39.570841\", \"discharge_time\": \"2025-09-21T15:10:39.570841\", \"bed_id\": 178, \"hospital_id\": 6}"
        ],
        [
         "{\"patient_id\": \"4dba4f1a-29eb-469d-8647-3f146eb44e5c\", \"gender\": \"Male\", \"age\": 76, \"department\": \"Surgery\", \"admission_time\": \"2025-09-22T23:04:04.306600\", \"discharge_time\": \"2025-09-23T20:04:04.306600\", \"bed_id\": 251, \"hospital_id\": 6}"
        ],
        [
         "{\"patient_id\": \"8a340f1c-98bd-4aad-b980-dca0cd9f184f\", \"gender\": \"Male\", \"age\": 30, \"department\": \"Emergency\", \"admission_time\": \"2025-09-22T04:59:22.122154\", \"discharge_time\": \"2025-09-24T18:59:22.122154\", \"bed_id\": 138, \"hospital_id\": 2}"
        ],
        [
         "{\"patient_id\": \"5753bb0e-3e0a-45fb-b11c-0961df38f192\", \"gender\": \"Male\", \"age\": 34, \"department\": \"Emergency\", \"admission_time\": \"2025-09-20T21:55:24.969124\", \"discharge_time\": \"2025-09-23T04:55:24.969124\", \"bed_id\": 315, \"hospital_id\": 1}"
        ],
        [
         "{\"patient_id\": \"a6c28fb5-2669-4874-9f3d-922e84c89c29\", \"gender\": \"Male\", \"age\": 61, \"department\": \"Emergency\", \"admission_time\": \"2025-09-21T00:25:49.325527\", \"discharge_time\": \"2025-09-23T19:25:49.325527\", \"bed_id\": 490, \"hospital_id\": 3}"
        ],
        [
         "{\"patient_id\": \"1f1e7510-fd49-48f3-8566-406330a8ec75\", \"gender\": \"Male\", \"age\": 99, \"department\": \"Emergency\", \"admission_time\": \"2025-09-21T10:25:46.324176\", \"discharge_time\": \"2025-09-22T04:25:46.324176\", \"bed_id\": 110, \"hospital_id\": 2}"
        ],
        [
         "{\"patient_id\": \"914a9e8a-f1b1-4534-838e-fa24e23c898e\", \"gender\": \"Male\", \"age\": 98, \"department\": \"Emergency\", \"admission_time\": \"2025-09-22T16:03:11.270497\", \"discharge_time\": \"2025-09-24T15:03:11.270497\", \"bed_id\": 188, \"hospital_id\": 4}"
        ],
        [
         "{\"patient_id\": \"f3e892f4-65fa-4311-93bb-2a0be6d46d60\", \"gender\": \"Male\", \"age\": 60, \"department\": \"Emergency\", \"admission_time\": \"2025-09-22T01:03:07.267241\", \"discharge_time\": \"2025-09-22T08:03:07.267241\", \"bed_id\": 164, \"hospital_id\": 5}"
        ],
        [
         "{\"patient_id\": \"432e338a-e6d7-4b81-bcca-a4c5be4ee6f6\", \"gender\": \"Male\", \"age\": 64, \"department\": \"Oncology\", \"admission_time\": \"2025-09-22T11:09:08.507789\", \"discharge_time\": \"2025-09-23T06:09:08.507789\", \"bed_id\": 110, \"hospital_id\": 4}"
        ],
        [
         "{\"patient_id\": \"2852e20c-c224-4f4a-a3e6-7f5c3e2a1fb8\", \"gender\": \"Male\", \"age\": 71, \"department\": \"Oncology\", \"admission_time\": \"2025-09-22T21:55:55.987692\", \"discharge_time\": \"2025-09-25T04:55:55.987692\", \"bed_id\": 460, \"hospital_id\": 5}"
        ],
        [
         "{\"patient_id\": \"da8f8dc6-75a0-4f28-9694-77c141f2cea8\", \"gender\": \"Male\", \"age\": 54, \"department\": \"Surgery\", \"admission_time\": \"2025-09-20T10:01:13.187930\", \"discharge_time\": \"2025-09-21T08:01:13.187930\", \"bed_id\": 289, \"hospital_id\": 5}"
        ],
        [
         "{\"patient_id\": \"6f006a30-0dff-4226-b26c-ffbb6153c877\", \"gender\": \"Male\", \"age\": 26, \"department\": \"Maternity\", \"admission_time\": \"2025-09-22T21:03:47.294432\", \"discharge_time\": \"2025-09-24T13:03:47.294432\", \"bed_id\": 457, \"hospital_id\": 1}"
        ],
        [
         "{\"patient_id\": \"465bd942-2e24-488f-89e4-d9c355cef252\", \"gender\": \"Male\", \"age\": 35, \"department\": \"Maternity\", \"admission_time\": \"2025-09-21T17:59:48.137931\", \"discharge_time\": \"2025-09-23T16:59:48.137931\", \"bed_id\": 370, \"hospital_id\": 2}"
        ],
        [
         "{\"patient_id\": \"89925d33-8dd9-44de-a094-cd02acad931e\", \"gender\": \"Male\", \"age\": 46, \"department\": \"Emergency\", \"admission_time\": \"2025-09-21T15:07:45.457904\", \"discharge_time\": \"2025-09-24T12:07:45.457904\", \"bed_id\": 177, \"hospital_id\": 6}"
        ],
        [
         "{\"patient_id\": \"3aff83ad-a2ca-48fa-bca0-2df03cec45ae\", \"gender\": \"Male\", \"age\": 58, \"department\": \"Emergency\", \"admission_time\": \"2025-09-21T03:06:56.424937\", \"discharge_time\": \"2025-09-22T09:06:56.424937\", \"bed_id\": 148, \"hospital_id\": 1}"
        ],
        [
         "{\"patient_id\": \"2aaef356-8926-49f3-8fb5-cae7209c0878\", \"gender\": \"Male\", \"age\": 78, \"department\": \"Surgery\", \"admission_time\": \"2025-09-22T08:57:24.046593\", \"discharge_time\": \"2025-09-23T22:57:24.046593\", \"bed_id\": 325, \"hospital_id\": 3}"
        ],
        [
         "{\"patient_id\": \"c1716b37-fd80-4534-82c6-d8f7e021b8d2\", \"gender\": \"Male\", \"age\": 90, \"department\": \"Emergency\", \"admission_time\": \"2025-09-21T10:08:33.488149\", \"discharge_time\": \"2025-09-22T03:08:33.488149\", \"bed_id\": 468, \"hospital_id\": 4}"
        ],
        [
         "{\"patient_id\": \"387060de-4617-4167-af1a-2c6e050d702b\", \"gender\": \"Male\", \"age\": 37, \"department\": \"Maternity\", \"admission_time\": \"2025-09-20T22:25:53.327483\", \"discharge_time\": \"2025-09-22T00:25:53.327483\", \"bed_id\": 282, \"hospital_id\": 6}"
        ],
        [
         "{\"patient_id\": \"286dee9e-f4b4-44a2-acb4-4b6d769a9fb6\", \"gender\": \"Female\", \"age\": 56, \"department\": \"Oncology\", \"admission_time\": \"2025-09-21T19:01:59.221044\", \"discharge_time\": \"2025-09-24T16:01:59.221044\", \"bed_id\": 187, \"hospital_id\": 5}"
        ],
        [
         "{\"patient_id\": \"b68a6944-4f7d-4ea7-8418-a70de77a7ebd\", \"gender\": \"Female\", \"age\": 1, \"department\": \"Oncology\", \"admission_time\": \"2025-09-22T08:57:57.065776\", \"discharge_time\": \"2025-09-25T07:57:57.065776\", \"bed_id\": 218, \"hospital_id\": 2}"
        ],
        [
         "{\"patient_id\": \"61c8cfe3-1ead-400c-9a7d-26028c8de8e8\", \"gender\": \"Female\", \"age\": 115, \"department\": \"ICU\", \"admission_time\": \"2025-09-23T19:04:44.335728\", \"discharge_time\": \"2025-09-21T06:04:44.335653\", \"bed_id\": 251, \"hospital_id\": 7}"
        ],
        [
         "{\"patient_id\": \"f9de17b3-a177-417a-8723-142c7fba8059\", \"gender\": \"Male\", \"age\": 26, \"department\": \"Maternity\", \"admission_time\": \"2025-09-22T23:06:54.424030\", \"discharge_time\": \"2025-09-25T07:06:54.424030\", \"bed_id\": 431, \"hospital_id\": 6}"
        ],
        [
         "{\"patient_id\": \"fa7f7425-ffce-4798-90bd-a2f108a4fad0\", \"gender\": \"Male\", \"age\": 81, \"department\": \"Emergency\", \"admission_time\": \"2025-09-23T04:03:21.278032\", \"discharge_time\": \"2025-09-24T06:03:21.278032\", \"bed_id\": 222, \"hospital_id\": 4}"
        ],
        [
         "{\"patient_id\": \"b746b1c9-b107-4728-8d3f-30a0cc224db8\", \"gender\": \"Male\", \"age\": 22, \"department\": \"Emergency\", \"admission_time\": \"2025-09-22T01:56:17.001667\", \"discharge_time\": \"2025-09-24T07:56:17.001667\", \"bed_id\": 403, \"hospital_id\": 1}"
        ],
        [
         "{\"patient_id\": \"17f0b37c-6a46-4153-afec-6119c08fa63c\", \"gender\": \"Male\", \"age\": 19, \"department\": \"Oncology\", \"admission_time\": \"2025-09-23T18:56:55.026683\", \"discharge_time\": \"2025-09-24T06:56:55.026606\", \"bed_id\": 458, \"hospital_id\": 5}"
        ],
        [
         "{\"patient_id\": \"649c71fa-95d0-4fb1-9915-41d19a507c53\", \"gender\": \"Male\", \"age\": 87, \"department\": \"Emergency\", \"admission_time\": \"2025-09-22T02:26:52.370704\", \"discharge_time\": \"2025-09-23T07:26:52.370704\", \"bed_id\": 319, \"hospital_id\": 3}"
        ],
        [
         "{\"patient_id\": \"61975d0e-5a31-4dc9-986c-ee33b68fec12\", \"gender\": \"Male\", \"age\": 27, \"department\": \"Emergency\", \"admission_time\": \"2025-09-22T15:00:11.152041\", \"discharge_time\": \"2025-09-23T09:00:11.152041\", \"bed_id\": 380, \"hospital_id\": 2}"
        ],
        [
         "{\"patient_id\": \"9686fbe4-0bb9-4cd3-a36a-b9f6e5f45f09\", \"gender\": \"Male\", \"age\": 82, \"department\": \"Emergency\", \"admission_time\": \"2025-09-21T09:07:49.461161\", \"discharge_time\": \"2025-09-22T07:07:49.461161\", \"bed_id\": 105, \"hospital_id\": 5}"
        ],
        [
         "{\"patient_id\": \"b98f1d57-1abb-4cf3-a900-12e2debc55e7\", \"gender\": \"Male\", \"age\": 18, \"department\": \"Emergency\", \"admission_time\": \"2025-09-21T09:57:16.041471\", \"discharge_time\": \"2025-09-22T14:57:16.041471\", \"bed_id\": 470, \"hospital_id\": 1}"
        ],
        [
         "{\"patient_id\": \"816b7bac-757f-4e21-83a8-40ab16cbd087\", \"gender\": \"Male\", \"age\": 26, \"department\": \"Emergency\", \"admission_time\": \"2025-09-21T16:53:44.897643\", \"discharge_time\": \"2025-09-22T13:53:44.897643\", \"bed_id\": 391, \"hospital_id\": 5}"
        ],
        [
         "{\"patient_id\": \"f94a9af3-7812-4c3c-a32a-7f20176f7825\", \"gender\": \"Male\", \"age\": 97, \"department\": \"Emergency\", \"admission_time\": \"2025-09-20T15:25:45.323753\", \"discharge_time\": \"2025-09-21T07:25:45.323753\", \"bed_id\": 458, \"hospital_id\": 2}"
        ],
        [
         "{\"patient_id\": \"f65953dc-b691-4986-9b7e-a259fa58c74e\", \"gender\": \"Male\", \"age\": 45, \"department\": \"Maternity\", \"admission_time\": \"2025-09-21T07:05:38.367469\", \"discharge_time\": \"2025-09-23T09:05:38.367469\", \"bed_id\": 162, \"hospital_id\": 6}"
        ],
        [
         "{\"patient_id\": \"ff83eb7a-1b6b-4c73-8391-70f7fd99a288\", \"gender\": \"Female\", \"age\": 47, \"department\": \"Surgery\", \"admission_time\": \"2025-09-22T23:56:32.012645\", \"discharge_time\": \"2025-09-25T19:56:32.012645\", \"bed_id\": 8, \"hospital_id\": 1}"
        ],
        [
         "{\"patient_id\": \"585c7c5a-395d-422f-bfa2-e5ea46fffc8b\", \"gender\": \"Male\", \"age\": 66, \"department\": \"Emergency\", \"admission_time\": \"2025-09-21T17:08:58.500599\", \"discharge_time\": \"2025-09-21T21:08:58.500599\", \"bed_id\": 493, \"hospital_id\": 5}"
        ],
        [
         "{\"patient_id\": \"2efa3e7f-2902-4ad1-92b2-0b34f76d7973\", \"gender\": \"Male\", \"age\": 14, \"department\": \"Maternity\", \"admission_time\": \"2025-09-22T13:52:56.864647\", \"discharge_time\": \"2025-09-23T14:52:56.864647\", \"bed_id\": 133, \"hospital_id\": 3}"
        ],
        [
         "{\"patient_id\": \"f99424cf-3d40-4b37-af9e-a2d712e6a1d2\", \"gender\": \"Male\", \"age\": 37, \"department\": \"Maternity\", \"admission_time\": \"2025-09-21T22:07:18.436433\", \"discharge_time\": \"2025-09-23T18:07:18.436433\", \"bed_id\": 400, \"hospital_id\": 6}"
        ],
        [
         "{\"patient_id\": \"667a51c5-577c-4d99-b7cf-9b3cf49cef53\", \"gender\": \"Male\", \"age\": 16, \"department\": \"Maternity\", \"admission_time\": \"2025-09-22T10:56:37.015380\", \"discharge_time\": \"2025-09-23T08:56:37.015380\", \"bed_id\": 306, \"hospital_id\": 7}"
        ],
        [
         "{\"patient_id\": \"7c3b7760-74c0-4a55-95b8-5f4e4a48aec8\", \"gender\": \"Male\", \"age\": 21, \"department\": \"Maternity\", \"admission_time\": \"2025-09-20T16:57:09.036318\", \"discharge_time\": \"2025-09-21T20:57:09.036318\", \"bed_id\": 303, \"hospital_id\": 5}"
        ],
        [
         "{\"patient_id\": \"6c7de709-9e22-4c87-bad7-6090cd9fa44c\", \"gender\": \"Male\", \"age\": 44, \"department\": \"Emergency\", \"admission_time\": \"2025-09-23T00:00:14.153720\", \"discharge_time\": \"2025-09-24T07:00:14.153720\", \"bed_id\": 378, \"hospital_id\": 1}"
        ],
        [
         "{\"patient_id\": \"717cda00-95ba-452b-92f1-75305dd1204b\", \"gender\": \"Male\", \"age\": 78, \"department\": \"Maternity\", \"admission_time\": \"2025-09-21T18:55:54.987251\", \"discharge_time\": \"2025-09-22T10:55:54.987251\", \"bed_id\": 283, \"hospital_id\": 2}"
        ],
        [
         "{\"patient_id\": \"b797adaf-dddf-4c48-86e4-a1197a31bcdc\", \"gender\": \"Male\", \"age\": 90, \"department\": \"Emergency\", \"admission_time\": \"2025-09-21T11:58:50.099721\", \"discharge_time\": \"2025-09-22T00:58:50.099721\", \"bed_id\": 172, \"hospital_id\": 1}"
        ],
        [
         "{\"patient_id\": \"6b74f407-648a-4145-a58b-99605f9dd47e\", \"gender\": \"Male\", \"age\": 87, \"department\": \"Maternity\", \"admission_time\": \"2025-09-21T01:02:40.249786\", \"discharge_time\": \"2025-09-22T17:02:40.249786\", \"bed_id\": 254, \"hospital_id\": 4}"
        ],
        [
         "{\"patient_id\": \"385592ef-ac7f-46f7-a216-2cf196924931\", \"gender\": \"Male\", \"age\": 75, \"department\": \"Emergency\", \"admission_time\": \"2025-09-22T21:54:43.937935\", \"discharge_time\": \"2025-09-25T20:54:43.937935\", \"bed_id\": 291, \"hospital_id\": 6}"
        ],
        [
         "{\"patient_id\": \"e23aeb66-468f-4764-bd91-377b87fb65cf\", \"gender\": \"Male\", \"age\": 83, \"department\": \"Maternity\", \"admission_time\": \"2025-09-20T14:59:12.114519\", \"discharge_time\": \"2025-09-21T11:59:12.114519\", \"bed_id\": 438, \"hospital_id\": 2}"
        ],
        [
         "{\"patient_id\": \"c0ca0ebb-3fd2-4915-9633-5d5a0c465ecb\", \"gender\": \"Male\", \"age\": 31, \"department\": \"Emergency\", \"admission_time\": \"2025-09-20T18:57:47.059491\", \"discharge_time\": \"2025-09-21T21:57:47.059491\", \"bed_id\": 132, \"hospital_id\": 2}"
        ],
        [
         "{\"patient_id\": \"7e22bf3b-17b3-4e1f-b888-2e12ff180220\", \"gender\": \"Male\", \"age\": 90, \"department\": \"Emergency\", \"admission_time\": \"2025-09-21T15:59:01.107459\", \"discharge_time\": \"2025-09-24T04:59:01.107459\", \"bed_id\": 254, \"hospital_id\": 5}"
        ],
        [
         "{\"patient_id\": \"ac6dae6a-8a7c-476f-b209-f17c31556a34\", \"gender\": \"Male\", \"age\": 56, \"department\": \"Maternity\", \"admission_time\": \"2025-09-20T17:10:15.551602\", \"discharge_time\": \"2025-09-22T02:10:15.551602\", \"bed_id\": 227, \"hospital_id\": 1}"
        ],
        [
         "{\"patient_id\": \"feaf2cc2-1575-426e-b0a3-90896ea418ff\", \"gender\": \"Male\", \"age\": 19, \"department\": \"Emergency\", \"admission_time\": \"2025-09-21T05:57:51.061885\", \"discharge_time\": \"2025-09-23T09:57:51.061885\", \"bed_id\": 127, \"hospital_id\": 4}"
        ],
        [
         "{\"patient_id\": \"32a00406-6606-4572-9fc1-a65674209798\", \"gender\": \"Male\", \"age\": 98, \"department\": \"Emergency\", \"admission_time\": \"2025-09-20T18:04:55.341791\", \"discharge_time\": \"2025-09-20T23:04:55.341791\", \"bed_id\": 234, \"hospital_id\": 7}"
        ],
        [
         "{\"patient_id\": \"49d1f149-95be-47c5-8af9-3c017a5e05da\", \"gender\": \"Male\", \"age\": 15, \"department\": \"Maternity\", \"admission_time\": \"2025-09-21T05:55:19.964267\", \"discharge_time\": \"2025-09-24T03:55:19.964267\", \"bed_id\": 491, \"hospital_id\": 7}"
        ],
        [
         "{\"patient_id\": \"37706993-d936-416e-870c-71c6b74ec65e\", \"gender\": \"Male\", \"age\": 39, \"department\": \"Emergency\", \"admission_time\": \"2025-09-22T06:09:49.535294\", \"discharge_time\": \"2025-09-24T05:09:49.535294\", \"bed_id\": 341, \"hospital_id\": 1}"
        ],
        [
         "{\"patient_id\": \"eb9403b4-bb84-4d45-84a7-8d09d33fe822\", \"gender\": \"Male\", \"age\": 72, \"department\": \"Maternity\", \"admission_time\": \"2025-09-21T08:56:48.022776\", \"discharge_time\": \"2025-09-23T10:56:48.022776\", \"bed_id\": 207, \"hospital_id\": 7}"
        ],
        [
         "{\"patient_id\": \"5a828d23-d243-4316-9dda-bf620b12d1cb\", \"gender\": \"Male\", \"age\": 27, \"department\": \"Maternity\", \"admission_time\": \"2025-09-22T02:58:27.086021\", \"discharge_time\": \"2025-09-23T11:58:27.086021\", \"bed_id\": 292, \"hospital_id\": 3}"
        ],
        [
         "{\"patient_id\": \"b768512c-51cf-4a5f-ac42-38559dc4b9a3\", \"gender\": \"Male\", \"age\": 33, \"department\": \"Emergency\", \"admission_time\": \"2025-09-22T21:54:12.917054\", \"discharge_time\": \"2025-09-23T23:54:12.917054\", \"bed_id\": 205, \"hospital_id\": 4}"
        ],
        [
         "{\"patient_id\": \"3d07a907-f529-4559-ab12-24b8bf7dfaec\", \"gender\": \"Male\", \"age\": 77, \"department\": \"Emergency\", \"admission_time\": \"2025-09-20T16:26:13.342620\", \"discharge_time\": \"2025-09-23T14:26:13.342620\", \"bed_id\": 188, \"hospital_id\": 4}"
        ],
        [
         "{\"patient_id\": \"f4a829de-746e-444d-8e0c-30b02e7aac75\", \"gender\": \"Male\", \"age\": 80, \"department\": \"Maternity\", \"admission_time\": \"2025-09-20T14:02:14.231621\", \"discharge_time\": \"2025-09-21T10:02:14.231621\", \"bed_id\": 138, \"hospital_id\": 4}"
        ],
        [
         "{\"patient_id\": \"53004259-8912-48c0-b963-9d4ab31e5446\", \"gender\": \"Male\", \"age\": 25, \"department\": \"Emergency\", \"admission_time\": \"2025-09-20T18:56:51.024110\", \"discharge_time\": \"2025-09-23T13:56:51.024110\", \"bed_id\": 344, \"hospital_id\": 5}"
        ],
        [
         "{\"patient_id\": \"b4357afd-1f81-4cca-825a-ba2d6feedec6\", \"gender\": \"Male\", \"age\": 58, \"department\": \"Emergency\", \"admission_time\": \"2025-09-20T20:58:04.070099\", \"discharge_time\": \"2025-09-21T18:58:04.070099\", \"bed_id\": 259, \"hospital_id\": 6}"
        ],
        [
         "{\"patient_id\": \"88e02124-d0ce-42ab-82ec-a8057996d5e3\", \"gender\": \"Male\", \"age\": 26, \"department\": \"Maternity\", \"admission_time\": \"2025-09-20T19:53:48.900267\", \"discharge_time\": \"2025-09-22T08:53:48.900267\", \"bed_id\": 474, \"hospital_id\": 3}"
        ],
        [
         "{\"patient_id\": \"da76efdb-bef0-4524-b322-53efaa424f09\", \"gender\": \"Male\", \"age\": 68, \"department\": \"Maternity\", \"admission_time\": \"2025-09-23T02:25:43.322793\", \"discharge_time\": \"2025-09-25T23:25:43.322793\", \"bed_id\": 268, \"hospital_id\": 2}"
        ],
        [
         "{\"patient_id\": \"57b05ff6-077e-4576-8343-25cfce0d85e7\", \"gender\": \"Male\", \"age\": 26, \"department\": \"Maternity\", \"admission_time\": \"2025-09-21T16:05:15.354384\", \"discharge_time\": \"2025-09-24T00:05:15.354384\", \"bed_id\": 200, \"hospital_id\": 3}"
        ],
        [
         "{\"patient_id\": \"577af256-b0ca-4748-b843-400678b770e3\", \"gender\": \"Male\", \"age\": 14, \"department\": \"Maternity\", \"admission_time\": \"2025-09-23T06:57:30.049600\", \"discharge_time\": \"2025-09-25T02:57:30.049600\", \"bed_id\": 174, \"hospital_id\": 2}"
        ],
        [
         "{\"patient_id\": \"aaf056c6-cb95-4ef7-b16f-695ba491970c\", \"gender\": \"Male\", \"age\": 127, \"department\": \"Oncology\", \"admission_time\": \"2025-09-21T12:59:43.134620\", \"discharge_time\": \"2025-09-23T18:59:43.134620\", \"bed_id\": 500, \"hospital_id\": 6}"
        ],
        [
         "{\"patient_id\": \"b0e6def2-9a6d-4e70-87fe-35b1f3b1780f\", \"gender\": \"Female\", \"age\": 7, \"department\": \"Oncology\", \"admission_time\": \"2025-09-22T19:55:38.977321\", \"discharge_time\": \"2025-09-24T14:55:38.977321\", \"bed_id\": 162, \"hospital_id\": 1}"
        ],
        [
         "{\"patient_id\": \"28cac694-d893-4b2e-b5e1-a18c305f742f\", \"gender\": \"Male\", \"age\": 44, \"department\": \"Emergency\", \"admission_time\": \"2025-09-22T21:06:17.396389\", \"discharge_time\": \"2025-09-24T22:06:17.396389\", \"bed_id\": 280, \"hospital_id\": 1}"
        ],
        [
         "{\"patient_id\": \"cc073872-e238-48b8-877e-4064282b1a2e\", \"gender\": \"Male\", \"age\": 10, \"department\": \"Emergency\", \"admission_time\": \"2025-09-21T22:05:05.348100\", \"discharge_time\": \"2025-09-22T10:05:05.348100\", \"bed_id\": 142, \"hospital_id\": 5}"
        ],
        [
         "{\"patient_id\": \"af6a1299-eaff-4a52-9ef5-65b83d84fe3e\", \"gender\": \"Male\", \"age\": 65, \"department\": \"Emergency\", \"admission_time\": \"2025-09-22T20:54:16.919576\", \"discharge_time\": \"2025-09-24T14:54:16.919576\", \"bed_id\": 468, \"hospital_id\": 5}"
        ],
        [
         "{\"patient_id\": \"c508fa6e-9eb2-4b03-93f9-79dcc6219eba\", \"gender\": \"Male\", \"age\": 79, \"department\": \"Emergency\", \"admission_time\": \"2025-09-20T15:53:30.888234\", \"discharge_time\": \"2025-09-21T11:53:30.888234\", \"bed_id\": 461, \"hospital_id\": 4}"
        ],
        [
         "{\"patient_id\": \"aabe9076-7e05-48bc-aa98-07e1d9c604b1\", \"gender\": \"Male\", \"age\": 92, \"department\": \"Maternity\", \"admission_time\": \"2025-09-22T14:07:51.462019\", \"discharge_time\": \"2025-09-23T10:07:51.462019\", \"bed_id\": 196, \"hospital_id\": 5}"
        ],
        [
         "{\"patient_id\": \"e4a4aab8-4899-4e2f-adef-6f93f6d12f95\", \"gender\": \"Male\", \"age\": 6, \"department\": \"Surgery\", \"admission_time\": \"2025-09-23T02:02:00.221468\", \"discharge_time\": \"2025-09-25T00:02:00.221468\", \"bed_id\": 436, \"hospital_id\": 7}"
        ],
        [
         "{\"patient_id\": \"8c5e1bbd-27db-41b9-b324-547dad20bc47\", \"gender\": \"Male\", \"age\": 55, \"department\": \"Maternity\", \"admission_time\": \"2025-09-22T02:09:42.529970\", \"discharge_time\": \"2025-09-24T06:09:42.529970\", \"bed_id\": 115, \"hospital_id\": 1}"
        ],
        [
         "{\"patient_id\": \"ae7444a1-4275-4890-98fc-cbee958f6bfc\", \"gender\": \"Male\", \"age\": 69, \"department\": \"Maternity\", \"admission_time\": \"2025-09-21T02:54:50.943060\", \"discharge_time\": \"2025-09-22T04:54:50.943060\", \"bed_id\": 150, \"hospital_id\": 4}"
        ],
        [
         "{\"patient_id\": \"4af716b7-2b19-47a0-b9a8-746abd7730c1\", \"gender\": \"Male\", \"age\": 12, \"department\": \"Emergency\", \"admission_time\": \"2025-09-21T04:55:46.982302\", \"discharge_time\": \"2025-09-23T20:55:46.982302\", \"bed_id\": 206, \"hospital_id\": 2}"
        ],
        [
         "{\"patient_id\": \"f2394e03-8ee2-4f6d-94ee-24a0fd54dc93\", \"gender\": \"Male\", \"age\": 78, \"department\": \"Emergency\", \"admission_time\": \"2025-09-22T01:59:58.144616\", \"discharge_time\": \"2025-09-24T15:59:58.144616\", \"bed_id\": 287, \"hospital_id\": 2}"
        ],
        [
         "{\"patient_id\": \"13fa9d8c-f98b-4609-964b-19444f5da411\", \"gender\": \"Male\", \"age\": 55, \"department\": \"Emergency\", \"admission_time\": \"2025-09-20T17:05:19.356424\", \"discharge_time\": \"2025-09-22T23:05:19.356424\", \"bed_id\": 368, \"hospital_id\": 7}"
        ],
        [
         "{\"patient_id\": \"c1788fa7-8307-45d7-8258-bed598d230ce\", \"gender\": \"Male\", \"age\": 9, \"department\": \"Pediatrics\", \"admission_time\": \"2025-09-20T09:57:44.057593\", \"discharge_time\": \"2025-09-22T18:57:44.057593\", \"bed_id\": 372, \"hospital_id\": 1}"
        ],
        [
         "{\"patient_id\": \"7288b5db-71fd-4daa-b2a9-96127c8440d6\", \"gender\": \"Male\", \"age\": 34, \"department\": \"Emergency\", \"admission_time\": \"2025-09-22T14:00:33.165037\", \"discharge_time\": \"2025-09-23T11:00:33.165037\", \"bed_id\": 289, \"hospital_id\": 7}"
        ],
        [
         "{\"patient_id\": \"09c50ca6-270a-4dd3-a2e3-a40b22bfbcd9\", \"gender\": \"Male\", \"age\": 61, \"department\": \"Emergency\", \"admission_time\": \"2025-09-22T12:07:20.438580\", \"discharge_time\": \"2025-09-25T04:07:20.438580\", \"bed_id\": 335, \"hospital_id\": 6}"
        ],
        [
         "{\"patient_id\": \"de804b8f-53af-4854-83d6-251f3bc94dcd\", \"gender\": \"Male\", \"age\": 32, \"department\": \"Maternity\", \"admission_time\": \"2025-09-20T18:01:54.217081\", \"discharge_time\": \"2025-09-22T19:01:54.217081\", \"bed_id\": 193, \"hospital_id\": 7}"
        ],
        [
         "{\"patient_id\": \"b0a9c66e-a842-4938-adcd-65cb5b3e839d\", \"gender\": \"Male\", \"age\": 91, \"department\": \"Emergency\", \"admission_time\": \"2025-09-21T22:02:45.252231\", \"discharge_time\": \"2025-09-23T03:02:45.252231\", \"bed_id\": 463, \"hospital_id\": 7}"
        ],
        [
         "{\"patient_id\": \"4b4939ea-e0e3-4e95-8eb8-0b01ecd29c65\", \"gender\": \"Male\", \"age\": 16, \"department\": \"Maternity\", \"admission_time\": \"2025-09-20T17:54:09.915577\", \"discharge_time\": \"2025-09-23T03:54:09.915577\", \"bed_id\": 162, \"hospital_id\": 7}"
        ],
        [
         "{\"patient_id\": \"f951dad7-1126-4e71-a910-a2f6195ec82a\", \"gender\": \"Male\", \"age\": 97, \"department\": \"Maternity\", \"admission_time\": \"2025-09-22T23:57:36.052508\", \"discharge_time\": \"2025-09-24T09:57:36.052508\", \"bed_id\": 168, \"hospital_id\": 7}"
        ],
        [
         "{\"patient_id\": \"c7dd551c-a3bf-4566-be9b-1c582e8922ee\", \"gender\": \"Male\", \"age\": 38, \"department\": \"Maternity\", \"admission_time\": \"2025-09-23T06:54:40.936028\", \"discharge_time\": \"2025-09-25T23:54:40.936028\", \"bed_id\": 315, \"hospital_id\": 5}"
        ],
        [
         "{\"patient_id\": \"e5649d7a-1b29-4453-a349-dc7b1c1192ab\", \"gender\": \"Female\", \"age\": 8, \"department\": \"Maternity\", \"admission_time\": \"2025-09-20T22:56:34.013514\", \"discharge_time\": \"2025-09-21T02:56:34.013514\", \"bed_id\": 33, \"hospital_id\": 5}"
        ],
        [
         "{\"patient_id\": \"c1cb4dc0-a95c-49cc-a5e9-721afa5142ab\", \"gender\": \"Male\", \"age\": 18, \"department\": \"Surgery\", \"admission_time\": \"2025-09-20T21:06:05.386441\", \"discharge_time\": \"2025-09-23T03:06:05.386441\", \"bed_id\": 137, \"hospital_id\": 6}"
        ],
        [
         "{\"patient_id\": \"77b68281-e6e8-4a1e-a7fe-3526422da13e\", \"gender\": \"Male\", \"age\": 48, \"department\": \"Emergency\", \"admission_time\": \"2025-09-21T12:00:58.179823\", \"discharge_time\": \"2025-09-24T02:00:58.179823\", \"bed_id\": 220, \"hospital_id\": 6}"
        ],
        [
         "{\"patient_id\": \"0a8fd26b-8b70-4432-becd-3c26f02d4b06\", \"gender\": \"Male\", \"age\": 74, \"department\": \"Emergency\", \"admission_time\": \"2025-09-22T01:03:18.275998\", \"discharge_time\": \"2025-09-22T23:03:18.275998\", \"bed_id\": 359, \"hospital_id\": 4}"
        ],
        [
         "{\"patient_id\": \"29a3e73d-4333-4fc8-b185-e71977fa1e25\", \"gender\": \"Male\", \"age\": 19, \"department\": \"Maternity\", \"admission_time\": \"2025-09-21T16:26:30.354945\", \"discharge_time\": \"2025-09-23T20:26:30.354945\", \"bed_id\": 343, \"hospital_id\": 3}"
        ],
        [
         "{\"patient_id\": \"85e9f84f-6659-4b95-92a5-c1690d6c3e00\", \"gender\": \"Female\", \"age\": 5, \"department\": \"Oncology\", \"admission_time\": \"2025-09-22T02:02:46.253239\", \"discharge_time\": \"2025-09-23T16:02:46.253239\", \"bed_id\": 195, \"hospital_id\": 5}"
        ],
        [
         "{\"patient_id\": \"15b70fef-3323-4237-8449-3b5949cf4bd8\", \"gender\": \"Male\", \"age\": 81, \"department\": \"Maternity\", \"admission_time\": \"2025-09-21T13:09:13.511167\", \"discharge_time\": \"2025-09-21T22:09:13.511167\", \"bed_id\": 186, \"hospital_id\": 7}"
        ],
        [
         "{\"patient_id\": \"dba9e219-4312-4fcf-8c6a-06e336a01cba\", \"gender\": \"Male\", \"age\": 26, \"department\": \"Surgery\", \"admission_time\": \"2025-09-22T17:01:17.190826\", \"discharge_time\": \"2025-09-24T18:01:17.190826\", \"bed_id\": 261, \"hospital_id\": 4}"
        ],
        [
         "{\"patient_id\": \"623d314b-7cb4-44e9-8b13-e560c0e5ed09\", \"gender\": \"Male\", \"age\": 54, \"department\": \"Oncology\", \"admission_time\": \"2025-09-21T23:08:34.488611\", \"discharge_time\": \"2025-09-22T15:08:34.488611\", \"bed_id\": 196, \"hospital_id\": 6}"
        ],
        [
         "{\"patient_id\": \"6d839db8-fc32-4754-8dfe-69ccd39553c5\", \"gender\": \"Male\", \"age\": 7, \"department\": \"Oncology\", \"admission_time\": \"2025-09-21T09:54:14.918083\", \"discharge_time\": \"2025-09-24T03:54:14.918083\", \"bed_id\": 56, \"hospital_id\": 2}"
        ],
        [
         "{\"patient_id\": \"f22e788b-3d3b-4f34-8389-4c35226ea580\", \"gender\": \"Male\", \"age\": 8, \"department\": \"Surgery\", \"admission_time\": \"2025-09-23T14:05:42.370662\", \"discharge_time\": \"2025-09-23T01:05:42.370591\", \"bed_id\": 199, \"hospital_id\": 6}"
        ],
        [
         "{\"patient_id\": \"b38d2399-7b8e-4892-8b16-a9effac790f3\", \"gender\": \"Female\", \"age\": 3, \"department\": \"Oncology\", \"admission_time\": \"2025-09-22T15:58:31.087880\", \"discharge_time\": \"2025-09-23T01:58:31.087880\", \"bed_id\": 393, \"hospital_id\": 6}"
        ],
        [
         "{\"patient_id\": \"20ead479-b756-47ce-8b72-3373d9aa143b\", \"gender\": \"Male\", \"age\": 75, \"department\": \"Emergency\", \"admission_time\": \"2025-09-21T00:03:43.291011\", \"discharge_time\": \"2025-09-21T22:03:43.291011\", \"bed_id\": 402, \"hospital_id\": 7}"
        ],
        [
         "{\"patient_id\": \"c0ef7788-59a1-4589-9349-9cd9ad13a93a\", \"gender\": \"Male\", \"age\": 27, \"department\": \"Maternity\", \"admission_time\": \"2025-09-22T02:01:35.205034\", \"discharge_time\": \"2025-09-24T12:01:35.205034\", \"bed_id\": 435, \"hospital_id\": 3}"
        ],
        [
         "{\"patient_id\": \"2833a9e7-64bf-4305-9161-169a700a45a6\", \"gender\": \"Male\", \"age\": 24, \"department\": \"Surgery\", \"admission_time\": \"2025-09-23T07:04:42.334025\", \"discharge_time\": \"2025-09-25T12:04:42.334025\", \"bed_id\": 341, \"hospital_id\": 3}"
        ],
        [
         "{\"patient_id\": \"4573cfd7-01cc-4376-ba6b-e4b2127a9783\", \"gender\": \"Male\", \"age\": 9, \"department\": \"Pediatrics\", \"admission_time\": \"2025-09-20T09:05:23.358219\", \"discharge_time\": \"2025-09-22T23:05:23.358219\", \"bed_id\": 302, \"hospital_id\": 2}"
        ],
        [
         "{\"patient_id\": \"8a160ddf-90cd-4cf0-bbdf-86ff70b5c310\", \"gender\": \"Male\", \"age\": 69, \"department\": \"Oncology\", \"admission_time\": \"2025-09-22T23:04:17.318564\", \"discharge_time\": \"2025-09-25T07:04:17.318564\", \"bed_id\": 42, \"hospital_id\": 1}"
        ],
        [
         "{\"patient_id\": \"364012ab-6c04-4e1c-bd87-e38cfa707574\", \"gender\": \"Male\", \"age\": 94, \"department\": \"Oncology\", \"admission_time\": \"2025-09-21T20:02:30.244087\", \"discharge_time\": \"2025-09-24T08:02:30.244087\", \"bed_id\": 288, \"hospital_id\": 5}"
        ],
        [
         "{\"patient_id\": \"1c174a83-fb9b-493d-bb81-cbf05436083e\", \"gender\": \"Male\", \"age\": 54, \"department\": \"Emergency\", \"admission_time\": \"2025-09-22T02:07:13.433498\", \"discharge_time\": \"2025-09-23T20:07:13.433498\", \"bed_id\": 392, \"hospital_id\": 2}"
        ],
        [
         "{\"patient_id\": \"a449b69e-5a76-4074-adfe-b6bcf80edc61\", \"gender\": \"Male\", \"age\": 89, \"department\": \"Oncology\", \"admission_time\": \"2025-09-23T07:04:02.305479\", \"discharge_time\": \"2025-09-23T17:04:02.305479\", \"bed_id\": 468, \"hospital_id\": 7}"
        ],
        [
         "{\"patient_id\": \"44560078-829c-461e-8e1b-a84964caf622\", \"gender\": \"Male\", \"age\": 55, \"department\": \"Emergency\", \"admission_time\": \"2025-09-23T04:56:36.014937\", \"discharge_time\": \"2025-09-24T14:56:36.014937\", \"bed_id\": 470, \"hospital_id\": 3}"
        ],
        [
         "{\"patient_id\": \"2eb2b462-0a1d-44bd-a7c3-0ca4a7e9d97e\", \"gender\": \"Male\", \"age\": 144, \"department\": \"Emergency\", \"admission_time\": \"2025-09-21T05:08:56.499459\", \"discharge_time\": \"2025-09-22T20:08:56.499459\", \"bed_id\": 13, \"hospital_id\": 7}"
        ],
        [
         "{\"patient_id\": \"ae2f4ae7-729c-4e8b-a4dd-3ad7e5c5bb60\", \"gender\": \"Male\", \"age\": 29, \"department\": \"Emergency\", \"admission_time\": \"2025-09-21T04:10:02.543824\", \"discharge_time\": \"2025-09-22T14:10:02.543824\", \"bed_id\": 212, \"hospital_id\": 1}"
        ],
        [
         "{\"patient_id\": \"b8b0ad29-2951-4457-8009-229bb5826bbb\", \"gender\": \"Male\", \"age\": 2, \"department\": \"Maternity\", \"admission_time\": \"2025-09-23T22:00:44.171635\", \"discharge_time\": \"2025-09-22T07:00:44.171558\", \"bed_id\": 351, \"hospital_id\": 7}"
        ],
        [
         "{\"patient_id\": \"83718208-663a-404f-bd86-248ea2c323b0\", \"gender\": \"Male\", \"age\": 74, \"department\": \"Oncology\", \"admission_time\": \"2025-09-25T09:58:28.086592\", \"discharge_time\": \"2025-09-25T02:58:28.086487\", \"bed_id\": 281, \"hospital_id\": 1}"
        ],
        [
         "{\"patient_id\": \"be549b52-dd61-40ec-9efb-e5cf9951f11b\", \"gender\": \"Male\", \"age\": 42, \"department\": \"Oncology\", \"admission_time\": \"2025-09-24T10:56:59.028996\", \"discharge_time\": \"2025-09-24T22:56:59.028918\", \"bed_id\": 151, \"hospital_id\": 2}"
        ],
        [
         "{\"patient_id\": \"05145624-2a2d-476c-ace6-be5bce90dd49\", \"gender\": \"Male\", \"age\": 94, \"department\": \"Emergency\", \"admission_time\": \"2025-09-21T17:54:07.913814\", \"discharge_time\": \"2025-09-22T01:54:07.913814\", \"bed_id\": 431, \"hospital_id\": 2}"
        ],
        [
         "{\"patient_id\": \"dc96c709-22c6-4cdc-b6aa-1b07fd283932\", \"gender\": \"Male\", \"age\": 83, \"department\": \"Surgery\", \"admission_time\": \"2025-09-22T11:58:05.070569\", \"discharge_time\": \"2025-09-23T09:58:05.070569\", \"bed_id\": 235, \"hospital_id\": 6}"
        ],
        [
         "{\"patient_id\": \"3707ca7b-c3c8-47b4-a08b-9b38121d4a79\", \"gender\": \"Male\", \"age\": 76, \"department\": \"Surgery\", \"admission_time\": \"2025-09-23T04:10:29.563668\", \"discharge_time\": \"2025-09-25T20:10:29.563668\", \"bed_id\": 273, \"hospital_id\": 2}"
        ],
        [
         "{\"patient_id\": \"1a5fbc0e-38a8-4df4-8de5-e67c7cef0a9d\", \"gender\": \"Male\", \"age\": 16, \"department\": \"Emergency\", \"admission_time\": \"2025-09-21T12:00:02.146608\", \"discharge_time\": \"2025-09-23T22:00:02.146608\", \"bed_id\": 268, \"hospital_id\": 5}"
        ],
        [
         "{\"patient_id\": \"6f4f9db1-ddda-44bc-8d87-59cf66fb33d8\", \"gender\": \"Male\", \"age\": 93, \"department\": \"Surgery\", \"admission_time\": \"2025-09-21T01:04:51.339522\", \"discharge_time\": \"2025-09-22T09:04:51.339522\", \"bed_id\": 286, \"hospital_id\": 2}"
        ],
        [
         "{\"patient_id\": \"86b4a593-d869-49ab-a6e7-05017c57d4eb\", \"gender\": \"Male\", \"age\": 12, \"department\": \"Oncology\", \"admission_time\": \"2025-09-23T05:08:26.483386\", \"discharge_time\": \"2025-09-24T18:08:26.483386\", \"bed_id\": 337, \"hospital_id\": 6}"
        ],
        [
         "{\"patient_id\": \"87fb0fa5-f54b-4120-a060-8b555bc43013\", \"gender\": \"Male\", \"age\": 26, \"department\": \"Surgery\", \"admission_time\": \"2025-09-22T06:55:37.976907\", \"discharge_time\": \"2025-09-24T19:55:37.976907\", \"bed_id\": 127, \"hospital_id\": 4}"
        ],
        [
         "{\"patient_id\": \"3416c81b-0884-4ef8-98a3-5318977deda9\", \"gender\": \"Male\", \"age\": 72, \"department\": \"Oncology\", \"admission_time\": \"2025-09-21T08:07:57.466266\", \"discharge_time\": \"2025-09-24T05:07:57.466266\", \"bed_id\": 148, \"hospital_id\": 7}"
        ],
        [
         "{\"patient_id\": \"0c63278e-44b2-4ae6-ac3c-16bb3aceeedf\", \"gender\": \"Male\", \"age\": 80, \"department\": \"Surgery\", \"admission_time\": \"2025-09-21T07:03:59.304121\", \"discharge_time\": \"2025-09-23T21:03:59.304121\", \"bed_id\": 374, \"hospital_id\": 7}"
        ],
        [
         "{\"patient_id\": \"9940dc2a-6a0d-4206-8d7c-ba711767c881\", \"gender\": \"Male\", \"age\": 34, \"department\": \"Surgery\", \"admission_time\": \"2025-09-23T06:55:03.952487\", \"discharge_time\": \"2025-09-24T14:55:03.952487\", \"bed_id\": 114, \"hospital_id\": 6}"
        ],
        [
         "{\"patient_id\": \"748be81c-7c9a-4859-a77c-a9b09b2d7f07\", \"gender\": \"Male\", \"age\": 12, \"department\": \"Surgery\", \"admission_time\": \"2025-09-20T16:59:38.131831\", \"discharge_time\": \"2025-09-21T11:59:38.131831\", \"bed_id\": 267, \"hospital_id\": 5}"
        ],
        [
         "{\"patient_id\": \"abfab016-d76b-4bb5-9bf2-5424cd6eadb9\", \"gender\": \"Male\", \"age\": 19, \"department\": \"Maternity\", \"admission_time\": \"2025-09-22T00:57:37.053928\", \"discharge_time\": \"2025-09-22T18:57:37.053928\", \"bed_id\": 173, \"hospital_id\": 2}"
        ],
        [
         "{\"patient_id\": \"a06ea869-85c3-41ed-947c-f3bf122e08a9\", \"gender\": \"Male\", \"age\": 73, \"department\": \"Emergency\", \"admission_time\": \"2025-09-23T02:09:50.535752\", \"discharge_time\": \"2025-09-23T20:09:50.535752\", \"bed_id\": 122, \"hospital_id\": 6}"
        ],
        [
         "{\"patient_id\": \"b52402b7-a676-4c0a-be4a-8da39a7c3108\", \"gender\": \"Male\", \"age\": 21, \"department\": \"Maternity\", \"admission_time\": \"2025-09-20T09:54:32.930312\", \"discharge_time\": \"2025-09-20T20:54:32.930312\", \"bed_id\": 447, \"hospital_id\": 3}"
        ],
        [
         "{\"patient_id\": \"c67f7df4-4e6d-4d52-9eaa-e781ceeb3748\", \"gender\": \"Male\", \"age\": 68, \"department\": \"Emergency\", \"admission_time\": \"2025-09-21T06:00:50.175922\", \"discharge_time\": \"2025-09-21T14:00:50.175922\", \"bed_id\": 388, \"hospital_id\": 6}"
        ],
        [
         "{\"patient_id\": \"cb01ff1f-39d9-4ba3-b152-8407dc952bbc\", \"gender\": \"Male\", \"age\": 37, \"department\": \"Oncology\", \"admission_time\": \"2025-09-22T09:53:03.870968\", \"discharge_time\": \"2025-09-25T04:53:03.870968\", \"bed_id\": 191, \"hospital_id\": 7}"
        ],
        [
         "{\"patient_id\": \"e621e554-020f-4bc5-8f87-6ddc38eb14d2\", \"gender\": \"Male\", \"age\": 75, \"department\": \"Maternity\", \"admission_time\": \"2025-09-21T01:26:29.354473\", \"discharge_time\": \"2025-09-22T21:26:29.354473\", \"bed_id\": 416, \"hospital_id\": 2}"
        ],
        [
         "{\"patient_id\": \"4dd8d802-a002-45bd-833d-a57d39227a15\", \"gender\": \"Male\", \"age\": 93, \"department\": \"Oncology\", \"admission_time\": \"2025-09-25T20:03:39.288360\", \"discharge_time\": \"2025-09-22T16:03:39.288289\", \"bed_id\": 42, \"hospital_id\": 2}"
        ],
        [
         "{\"patient_id\": \"93edb4a7-fc76-437a-81b1-b81a888a3e1f\", \"gender\": \"Male\", \"age\": 88, \"department\": \"Maternity\", \"admission_time\": \"2025-09-22T05:56:35.014471\", \"discharge_time\": \"2025-09-23T05:56:35.014471\", \"bed_id\": 289, \"hospital_id\": 5}"
        ],
        [
         "{\"patient_id\": \"28824f4d-b86d-4c39-a93c-f8db0af271f9\", \"gender\": \"Male\", \"age\": 73, \"department\": \"Emergency\", \"admission_time\": \"2025-09-22T12:53:31.888670\", \"discharge_time\": \"2025-09-22T23:53:31.888670\", \"bed_id\": 259, \"hospital_id\": 5}"
        ],
        [
         "{\"patient_id\": \"9d3cf3c3-ab2a-450e-a7a3-174b71f7d0a3\", \"gender\": \"Male\", \"age\": 52, \"department\": \"Surgery\", \"admission_time\": \"2025-09-22T21:05:17.355294\", \"discharge_time\": \"2025-09-23T16:05:17.355294\", \"bed_id\": 426, \"hospital_id\": 6}"
        ],
        [
         "{\"patient_id\": \"be3143e4-c046-45eb-b84b-ba75f4082851\", \"gender\": \"Male\", \"age\": 85, \"department\": \"Surgery\", \"admission_time\": \"2025-09-21T15:58:33.088823\", \"discharge_time\": \"2025-09-24T03:58:33.088823\", \"bed_id\": 454, \"hospital_id\": 7}"
        ],
        [
         "{\"patient_id\": \"dafa795b-26f1-4497-b69e-314adaa86050\", \"gender\": \"Male\", \"age\": 84, \"department\": \"Oncology\", \"admission_time\": \"2025-09-22T07:56:39.016327\", \"discharge_time\": \"2025-09-24T14:56:39.016327\", \"bed_id\": 494, \"hospital_id\": 2}"
        ],
        [
         "{\"patient_id\": \"64dede47-4b65-4009-b31b-f2fed5565441\", \"gender\": \"Male\", \"age\": 107, \"department\": \"Oncology\", \"admission_time\": \"2025-09-21T12:05:53.378389\", \"discharge_time\": \"2025-09-22T10:05:53.378389\", \"bed_id\": 207, \"hospital_id\": 4}"
        ],
        [
         "{\"patient_id\": \"bf8a64e0-fd2f-44c3-b08b-433489eb5e3f\", \"gender\": \"Female\", \"age\": 94, \"department\": \"Surgery\", \"admission_time\": \"2025-09-23T05:58:56.104767\", \"discharge_time\": \"2025-09-23T18:58:56.104767\", \"bed_id\": 2, \"hospital_id\": 5}"
        ],
        [
         "{\"patient_id\": \"bc94f9f1-7756-4267-8e23-0aa65da2b22c\", \"gender\": \"Male\", \"age\": 16, \"department\": \"Surgery\", \"admission_time\": \"2025-09-20T10:10:06.545642\", \"discharge_time\": \"2025-09-23T07:10:06.545642\", \"bed_id\": 393, \"hospital_id\": 3}"
        ],
        [
         "{\"patient_id\": \"1c7fa5c8-94e6-4039-b997-0edb44bcca0f\", \"gender\": \"Male\", \"age\": 98, \"department\": \"Surgery\", \"admission_time\": \"2025-09-21T20:10:16.552341\", \"discharge_time\": \"2025-09-23T01:10:16.552341\", \"bed_id\": 275, \"hospital_id\": 1}"
        ],
        [
         "{\"patient_id\": \"3594881e-e2d6-45d9-a286-5c5f194ce45b\", \"gender\": \"Male\", \"age\": 80, \"department\": \"Surgery\", \"admission_time\": \"2025-09-20T11:09:58.540367\", \"discharge_time\": \"2025-09-22T15:09:58.540367\", \"bed_id\": 279, \"hospital_id\": 5}"
        ],
        [
         "{\"patient_id\": \"715f0c9b-0b8b-413a-87c2-37e205c81e6e\", \"gender\": \"Male\", \"age\": 57, \"department\": \"Maternity\", \"admission_time\": \"2025-09-21T11:54:05.911269\", \"discharge_time\": \"2025-09-21T23:54:05.911269\", \"bed_id\": 283, \"hospital_id\": 3}"
        ],
        [
         "{\"patient_id\": \"546da290-e915-4a61-8dec-baee0e57acb8\", \"gender\": \"Male\", \"age\": 14, \"department\": \"Oncology\", \"admission_time\": \"2025-09-21T22:03:19.276453\", \"discharge_time\": \"2025-09-23T19:03:19.276453\", \"bed_id\": 379, \"hospital_id\": 5}"
        ],
        [
         "{\"patient_id\": \"edef462b-8c43-497c-9ecf-979fc18afdb7\", \"gender\": \"Male\", \"age\": 58, \"department\": \"Surgery\", \"admission_time\": \"2025-09-23T00:09:05.503904\", \"discharge_time\": \"2025-09-25T23:09:05.503904\", \"bed_id\": 251, \"hospital_id\": 3}"
        ],
        [
         "{\"patient_id\": \"fe744a16-b896-44b7-be99-e3a33b1fc91d\", \"gender\": \"Male\", \"age\": 47, \"department\": \"Oncology\", \"admission_time\": \"2025-09-21T08:00:54.178042\", \"discharge_time\": \"2025-09-22T22:00:54.178042\", \"bed_id\": 410, \"hospital_id\": 3}"
        ],
        [
         "{\"patient_id\": \"e957e233-3cb7-4919-9010-7dba17483fb9\", \"gender\": \"Male\", \"age\": 65, \"department\": \"Surgery\", \"admission_time\": \"2025-09-21T11:10:24.560688\", \"discharge_time\": \"2025-09-24T09:10:24.560688\", \"bed_id\": 330, \"hospital_id\": 2}"
        ],
        [
         "{\"patient_id\": \"55cb3953-a608-43a4-a4b5-b473bf1fa8c9\", \"gender\": \"Male\", \"age\": 5, \"department\": \"Emergency\", \"admission_time\": \"2025-09-20T16:01:39.208322\", \"discharge_time\": \"2025-09-22T14:01:39.208322\", \"bed_id\": 125, \"hospital_id\": 6}"
        ],
        [
         "{\"patient_id\": \"673d3cc2-b7d8-4cd6-a5f7-d1e9e8e76a1e\", \"gender\": \"Male\", \"age\": 140, \"department\": \"Oncology\", \"admission_time\": \"2025-09-23T04:57:58.066717\", \"discharge_time\": \"2025-09-24T07:57:58.066717\", \"bed_id\": 190, \"hospital_id\": 2}"
        ],
        [
         "{\"patient_id\": \"f0896403-25d1-4215-ba30-20faf941fe17\", \"gender\": \"Male\", \"age\": 16, \"department\": \"Maternity\", \"admission_time\": \"2025-09-21T00:55:20.965917\", \"discharge_time\": \"2025-09-21T23:55:20.965917\", \"bed_id\": 316, \"hospital_id\": 6}"
        ],
        [
         "{\"patient_id\": \"a134e813-56bd-49f2-800c-2402ffcad914\", \"gender\": \"Male\", \"age\": 91, \"department\": \"Surgery\", \"admission_time\": \"2025-09-20T14:01:38.207902\", \"discharge_time\": \"2025-09-22T20:01:38.207902\", \"bed_id\": 295, \"hospital_id\": 7}"
        ],
        [
         "{\"patient_id\": \"421ef3e1-eff6-4306-b287-fd4bcc170c75\", \"gender\": \"Male\", \"age\": 74, \"department\": \"Emergency\", \"admission_time\": \"2025-09-22T18:05:03.347206\", \"discharge_time\": \"2025-09-24T18:05:03.347206\", \"bed_id\": 238, \"hospital_id\": 4}"
        ],
        [
         "{\"patient_id\": \"7e3448b0-0fa9-48e4-ba7c-9fdbfe45f4e5\", \"gender\": \"Male\", \"age\": 50, \"department\": \"Emergency\", \"admission_time\": \"2025-09-22T05:10:22.559720\", \"discharge_time\": \"2025-09-25T05:10:22.559720\", \"bed_id\": 259, \"hospital_id\": 1}"
        ],
        [
         "{\"patient_id\": \"7ebcb120-5098-4839-9876-2dabcc25ffc6\", \"gender\": \"Male\", \"age\": 83, \"department\": \"Oncology\", \"admission_time\": \"2025-09-22T16:01:25.197520\", \"discharge_time\": \"2025-09-24T07:01:25.197520\", \"bed_id\": 492, \"hospital_id\": 5}"
        ],
        [
         "{\"patient_id\": \"7ecb29bd-410d-46d6-9cc9-a06d923767ef\", \"gender\": \"Male\", \"age\": 81, \"department\": \"Oncology\", \"admission_time\": \"2025-09-21T14:08:09.474028\", \"discharge_time\": \"2025-09-22T13:08:09.474028\", \"bed_id\": 446, \"hospital_id\": 6}"
        ],
        [
         "{\"patient_id\": \"ce9ce02a-a830-4fca-8c51-013edf2a156e\", \"gender\": \"Male\", \"age\": 47, \"department\": \"Emergency\", \"admission_time\": \"2025-09-21T05:57:01.030369\", \"discharge_time\": \"2025-09-21T13:57:01.030369\", \"bed_id\": 416, \"hospital_id\": 1}"
        ],
        [
         "{\"patient_id\": \"2bdc94a4-df53-4b1c-a6ed-8d00e8aa2c5c\", \"gender\": \"Male\", \"age\": 93, \"department\": \"Oncology\", \"admission_time\": \"2025-09-20T21:03:26.281216\", \"discharge_time\": \"2025-09-21T22:03:26.281216\", \"bed_id\": 320, \"hospital_id\": 6}"
        ],
        [
         "{\"patient_id\": \"c5418215-cc96-4a35-8c25-d626742d3eb6\", \"gender\": \"Male\", \"age\": 97, \"department\": \"Surgery\", \"admission_time\": \"2025-09-22T17:08:57.499916\", \"discharge_time\": \"2025-09-25T01:08:57.499916\", \"bed_id\": 437, \"hospital_id\": 4}"
        ],
        [
         "{\"patient_id\": \"c10e3292-b916-427a-8761-7fc12b065a36\", \"gender\": \"Male\", \"age\": 99, \"department\": \"Emergency\", \"admission_time\": \"2025-09-22T00:02:39.249344\", \"discharge_time\": \"2025-09-22T05:02:39.249344\", \"bed_id\": 395, \"hospital_id\": 7}"
        ],
        [
         "{\"patient_id\": \"bce8ebe1-645a-413f-bbf4-2a5dc6d67250\", \"gender\": \"Male\", \"age\": 42, \"department\": \"Maternity\", \"admission_time\": \"2025-09-23T06:06:49.419482\", \"discharge_time\": \"2025-09-23T23:06:49.419482\", \"bed_id\": 105, \"hospital_id\": 1}"
        ],
        [
         "{\"patient_id\": \"58406b3b-3c4f-4fcf-99a4-fb83163f3758\", \"gender\": \"Male\", \"age\": 85, \"department\": \"Surgery\", \"admission_time\": \"2025-09-20T23:05:34.364900\", \"discharge_time\": \"2025-09-21T17:05:34.364900\", \"bed_id\": 387, \"hospital_id\": 7}"
        ],
        [
         "{\"patient_id\": \"a687d4a1-e67b-4cf7-86e7-1306054474bb\", \"gender\": \"Male\", \"age\": 70, \"department\": \"Emergency\", \"admission_time\": \"2025-09-21T04:26:51.369581\", \"discharge_time\": \"2025-09-21T21:26:51.369581\", \"bed_id\": 465, \"hospital_id\": 3}"
        ],
        [
         "{\"patient_id\": \"a8309b6d-3c5c-4a8b-a2de-ff2e415c322d\", \"gender\": \"Male\", \"age\": 75, \"department\": \"Oncology\", \"admission_time\": \"2025-09-22T15:26:25.351480\", \"discharge_time\": \"2025-09-25T03:26:25.351480\", \"bed_id\": 278, \"hospital_id\": 1}"
        ],
        [
         "{\"patient_id\": \"bb39c102-a038-4b40-8849-37fc92b2cb59\", \"gender\": \"Male\", \"age\": 18, \"department\": \"Surgery\", \"admission_time\": \"2025-09-20T13:05:11.351641\", \"discharge_time\": \"2025-09-21T11:05:11.351641\", \"bed_id\": 145, \"hospital_id\": 4}"
        ],
        [
         "{\"patient_id\": \"21d1cf9e-728b-4f58-bb78-8740cc163f6e\", \"gender\": \"Male\", \"age\": 77, \"department\": \"Emergency\", \"admission_time\": \"2025-09-20T10:54:53.945084\", \"discharge_time\": \"2025-09-20T14:54:53.945084\", \"bed_id\": 195, \"hospital_id\": 6}"
        ],
        [
         "{\"patient_id\": \"782a692d-28d8-42a8-b88d-70e3036575fd\", \"gender\": \"Male\", \"age\": 47, \"department\": \"Oncology\", \"admission_time\": \"2025-09-22T07:07:47.458800\", \"discharge_time\": \"2025-09-23T10:07:47.458800\", \"bed_id\": 209, \"hospital_id\": 4}"
        ],
        [
         "{\"patient_id\": \"a2bddee1-1ce6-49be-a301-ee0071b50700\", \"gender\": \"Male\", \"age\": 21, \"department\": \"Oncology\", \"admission_time\": \"2025-09-22T18:01:10.186425\", \"discharge_time\": \"2025-09-24T14:01:10.186425\", \"bed_id\": 108, \"hospital_id\": 4}"
        ],
        [
         "{\"patient_id\": \"8d6d4382-9364-42b5-8e4e-397a682ef409\", \"gender\": \"Male\", \"age\": 1, \"department\": \"Maternity\", \"admission_time\": \"2025-09-21T02:04:39.332198\", \"discharge_time\": \"2025-09-23T12:04:39.332198\", \"bed_id\": 255, \"hospital_id\": 7}"
        ],
        [
         "{\"patient_id\": \"52fa3fce-7f82-4cbe-be0a-6f12bcc809a7\", \"gender\": \"Male\", \"age\": 37, \"department\": \"Oncology\", \"admission_time\": \"2025-09-22T05:05:36.365810\", \"discharge_time\": \"2025-09-24T11:05:36.365810\", \"bed_id\": 389, \"hospital_id\": 7}"
        ],
        [
         "{\"patient_id\": \"1b3d7aa1-8469-41b0-b24a-f407eeb6d856\", \"gender\": \"Male\", \"age\": 46, \"department\": \"Oncology\", \"admission_time\": \"2025-09-21T11:56:05.995327\", \"discharge_time\": \"2025-09-23T03:56:05.995327\", \"bed_id\": 304, \"hospital_id\": 1}"
        ],
        [
         "{\"patient_id\": \"d0462f17-1e88-4047-92e1-487257229981\", \"gender\": \"Male\", \"age\": 55, \"department\": \"Oncology\", \"admission_time\": \"2025-09-20T22:26:43.363647\", \"discharge_time\": \"2025-09-22T03:26:43.363647\", \"bed_id\": 157, \"hospital_id\": 4}"
        ],
        [
         "{\"patient_id\": \"64f85a61-2075-4b3a-b52b-93546e0d3d92\", \"gender\": \"Male\", \"age\": 51, \"department\": \"Oncology\", \"admission_time\": \"2025-09-20T08:05:29.362179\", \"discharge_time\": \"2025-09-21T08:05:29.362179\", \"bed_id\": 156, \"hospital_id\": 4}"
        ],
        [
         "{\"patient_id\": \"700493af-2ed6-45e8-bbf3-9e5d6fc76daf\", \"gender\": \"Male\", \"age\": 60, \"department\": \"Oncology\", \"admission_time\": \"2025-09-21T23:56:15.000757\", \"discharge_time\": \"2025-09-22T00:56:15.000757\", \"bed_id\": 488, \"hospital_id\": 3}"
        ],
        [
         "{\"patient_id\": \"c7e80336-64bc-436c-acb7-66b344494733\", \"gender\": \"Male\", \"age\": 11, \"department\": \"Oncology\", \"admission_time\": \"2025-09-21T07:07:44.457450\", \"discharge_time\": \"2025-09-23T15:07:44.457450\", \"bed_id\": 388, \"hospital_id\": 4}"
        ],
        [
         "{\"patient_id\": \"f9f95983-8c2e-4506-9908-1adb83b019f9\", \"gender\": \"Male\", \"age\": 36, \"department\": \"Oncology\", \"admission_time\": \"2025-09-21T19:58:30.087400\", \"discharge_time\": \"2025-09-23T18:58:30.087400\", \"bed_id\": 168, \"hospital_id\": 6}"
        ],
        [
         "{\"patient_id\": \"5a8d0d48-383b-4bbd-ba6e-518d28d0a450\", \"gender\": \"Male\", \"age\": 59, \"department\": \"Oncology\", \"admission_time\": \"2025-09-20T14:59:40.132760\", \"discharge_time\": \"2025-09-22T22:59:40.132760\", \"bed_id\": 131, \"hospital_id\": 2}"
        ],
        [
         "{\"patient_id\": \"799416ca-61bc-4ffe-bb96-39f3ec9f16d0\", \"gender\": \"Male\", \"age\": 63, \"department\": \"Oncology\", \"admission_time\": \"2025-09-20T20:00:26.160608\", \"discharge_time\": \"2025-09-21T12:00:26.160608\", \"bed_id\": 399, \"hospital_id\": 6}"
        ],
        [
         "{\"patient_id\": \"b56bf54a-9a18-4b5e-88f7-6a12f6efbdf0\", \"gender\": \"Male\", \"age\": 73, \"department\": \"Oncology\", \"admission_time\": \"2025-09-20T07:05:26.360359\", \"discharge_time\": \"2025-09-21T10:05:26.360359\", \"bed_id\": 416, \"hospital_id\": 5}"
        ],
        [
         "{\"patient_id\": \"80f650ac-55e8-45b6-8f32-8ebd254e1841\", \"gender\": \"Male\", \"age\": 25, \"department\": \"Oncology\", \"admission_time\": \"2025-09-20T21:00:23.158744\", \"discharge_time\": \"2025-09-23T14:00:23.158744\", \"bed_id\": 245, \"hospital_id\": 4}"
        ],
        [
         "{\"patient_id\": \"53b30317-99d9-40f5-83c9-823306120503\", \"gender\": \"Male\", \"age\": 58, \"department\": \"Oncology\", \"admission_time\": \"2025-09-22T13:59:47.137363\", \"discharge_time\": \"2025-09-24T17:59:47.137363\", \"bed_id\": 268, \"hospital_id\": 2}"
        ],
        [
         "{\"patient_id\": \"fdf064e5-6fd1-426f-9dc6-699189972063\", \"gender\": \"Male\", \"age\": 58, \"department\": \"Oncology\", \"admission_time\": \"2025-09-22T22:53:29.887816\", \"discharge_time\": \"2025-09-24T09:53:29.887816\", \"bed_id\": 346, \"hospital_id\": 2}"
        ],
        [
         "{\"patient_id\": \"c7a35489-8e41-4603-88db-910f35918c5f\", \"gender\": \"Male\", \"age\": 81, \"department\": \"Oncology\", \"admission_time\": \"2025-09-22T07:07:53.464106\", \"discharge_time\": \"2025-09-23T05:07:53.464106\", \"bed_id\": 463, \"hospital_id\": 3}"
        ],
        [
         "{\"patient_id\": \"dc398f31-2983-4263-b57d-3baec12df3e2\", \"gender\": \"Male\", \"age\": 96, \"department\": \"Oncology\", \"admission_time\": \"2025-09-23T06:54:31.929174\", \"discharge_time\": \"2025-09-25T18:54:31.929174\", \"bed_id\": 162, \"hospital_id\": 1}"
        ],
        [
         "{\"patient_id\": \"089eda25-6363-4f07-b9ea-9ea767918afc\", \"gender\": \"Male\", \"age\": 96, \"department\": \"Oncology\", \"admission_time\": \"2025-09-20T19:05:58.381646\", \"discharge_time\": \"2025-09-21T05:05:58.381646\", \"bed_id\": 118, \"hospital_id\": 6}"
        ],
        [
         "{\"patient_id\": \"b15bd612-163d-4d1e-8446-b2d16609aca6\", \"gender\": \"Male\", \"age\": 43, \"department\": \"Oncology\", \"admission_time\": \"2025-09-20T14:57:21.043999\", \"discharge_time\": \"2025-09-21T12:57:21.043999\", \"bed_id\": 236, \"hospital_id\": 5}"
        ],
        [
         "{\"patient_id\": \"23d85244-2fb1-4c48-a0a6-f15415ed0ea5\", \"gender\": \"Male\", \"age\": 81, \"department\": \"Maternity\", \"admission_time\": \"2025-09-21T19:03:45.293066\", \"discharge_time\": \"2025-09-22T19:03:45.293066\", \"bed_id\": 488, \"hospital_id\": 7}"
        ],
        [
         "{\"patient_id\": \"18797478-15fa-45bc-b888-ca7ef7ca9953\", \"gender\": \"Male\", \"age\": 34, \"department\": \"Oncology\", \"admission_time\": \"2025-09-22T18:26:37.359578\", \"discharge_time\": \"2025-09-24T20:26:37.359578\", \"bed_id\": 397, \"hospital_id\": 1}"
        ],
        [
         "{\"patient_id\": \"a5dd5aa9-0f7f-4585-844e-20396b54da23\", \"gender\": \"Male\", \"age\": 75, \"department\": \"Oncology\", \"admission_time\": \"2025-09-22T16:01:50.214220\", \"discharge_time\": \"2025-09-24T12:01:50.214220\", \"bed_id\": 251, \"hospital_id\": 2}"
        ],
        [
         "{\"patient_id\": \"3f8e0cac-b8a4-4c8d-8311-5de3b333abac\", \"gender\": \"Male\", \"age\": 57, \"department\": \"Oncology\", \"admission_time\": \"2025-09-22T09:08:55.499022\", \"discharge_time\": \"2025-09-23T05:08:55.499022\", \"bed_id\": 232, \"hospital_id\": 5}"
        ],
        [
         "{\"patient_id\": \"b634c283-2559-4290-869d-b594ba1a1640\", \"gender\": \"Male\", \"age\": 95, \"department\": \"Maternity\", \"admission_time\": \"2025-09-22T03:04:16.317317\", \"discharge_time\": \"2025-09-23T02:04:16.317317\", \"bed_id\": 46, \"hospital_id\": 1}"
        ],
        [
         "{\"patient_id\": \"e2264f8c-6874-4436-8b64-e48b4adc82b5\", \"gender\": \"Male\", \"age\": 11, \"department\": \"Maternity\", \"admission_time\": \"2025-09-22T01:10:21.558443\", \"discharge_time\": \"2025-09-23T19:10:21.558443\", \"bed_id\": 87, \"hospital_id\": 7}"
        ],
        [
         "{\"patient_id\": \"6a525eb0-3c8b-4065-af34-fad3d57a1c7b\", \"gender\": \"Male\", \"age\": 58, \"department\": \"Oncology\", \"admission_time\": \"2025-09-21T19:54:04.910327\", \"discharge_time\": \"2025-09-22T21:54:04.910327\", \"bed_id\": 416, \"hospital_id\": 6}"
        ],
        [
         "{\"patient_id\": \"d2ba1148-07dd-487f-bd3d-9186795dfa11\", \"gender\": \"Male\", \"age\": 45, \"department\": \"Emergency\", \"admission_time\": \"2025-09-22T22:59:20.120337\", \"discharge_time\": \"2025-09-25T03:59:20.120337\", \"bed_id\": 40, \"hospital_id\": 2}"
        ],
        [
         "{\"patient_id\": \"82d18798-b1ba-4f1f-bde7-335beb9d69e9\", \"gender\": \"Male\", \"age\": 11, \"department\": \"Surgery\", \"admission_time\": \"2025-09-20T18:07:04.428618\", \"discharge_time\": \"2025-09-21T12:07:04.428618\", \"bed_id\": 318, \"hospital_id\": 3}"
        ],
        [
         "{\"patient_id\": \"baa1d03b-1cf9-4709-96a3-a502c4efb9ef\", \"gender\": \"Male\", \"age\": 48, \"department\": \"Oncology\", \"admission_time\": \"2025-09-20T13:00:19.156929\", \"discharge_time\": \"2025-09-22T09:00:19.156929\", \"bed_id\": 217, \"hospital_id\": 6}"
        ],
        [
         "{\"patient_id\": \"c490cb5d-756d-4f4e-91f4-1f53fe82fa54\", \"gender\": \"Male\", \"age\": 9, \"department\": \"Emergency\", \"admission_time\": \"2025-09-20T08:58:19.079891\", \"discharge_time\": \"2025-09-22T06:58:19.079891\", \"bed_id\": 327, \"hospital_id\": 7}"
        ],
        [
         "{\"patient_id\": \"0836201e-0897-48e6-bdff-748dc73c9f2d\", \"gender\": \"Male\", \"age\": 20, \"department\": \"Emergency\", \"admission_time\": \"2025-09-23T02:54:55.946013\", \"discharge_time\": \"2025-09-23T03:54:55.946013\", \"bed_id\": 297, \"hospital_id\": 3}"
        ],
        [
         "{\"patient_id\": \"d32b2ee5-9d46-4414-8a5b-f0dbccb9d8b6\", \"gender\": \"Male\", \"age\": 88, \"department\": \"Oncology\", \"admission_time\": \"2025-09-20T19:01:01.181397\", \"discharge_time\": \"2025-09-21T18:01:01.181397\", \"bed_id\": 435, \"hospital_id\": 5}"
        ],
        [
         "{\"patient_id\": \"5cba4d16-f58e-48e7-9f48-b9828749152d\", \"gender\": \"Male\", \"age\": 78, \"department\": \"Oncology\", \"admission_time\": \"2025-09-22T00:54:49.942475\", \"discharge_time\": \"2025-09-24T15:54:49.942475\", \"bed_id\": 316, \"hospital_id\": 4}"
        ],
        [
         "{\"patient_id\": \"da14645a-e90c-4d6a-92ad-132499174f74\", \"gender\": \"Male\", \"age\": 35, \"department\": \"Oncology\", \"admission_time\": \"2025-09-21T10:53:14.878712\", \"discharge_time\": \"2025-09-22T05:53:14.878712\", \"bed_id\": 132, \"hospital_id\": 4}"
        ],
        [
         "{\"patient_id\": \"db59e8e7-bc3a-4151-9f4c-49fb445fb085\", \"gender\": \"Male\", \"age\": 84, \"department\": \"Oncology\", \"admission_time\": \"2025-09-22T04:56:42.019038\", \"discharge_time\": \"2025-09-25T00:56:42.019038\", \"bed_id\": 320, \"hospital_id\": 3}"
        ],
        [
         "{\"patient_id\": \"1f20ed5d-d398-4ca7-ba58-031894e2bb94\", \"gender\": \"Male\", \"age\": 66, \"department\": \"Surgery\", \"admission_time\": \"2025-09-20T07:57:54.064358\", \"discharge_time\": \"2025-09-21T09:57:54.064358\", \"bed_id\": 263, \"hospital_id\": 5}"
        ],
        [
         "{\"patient_id\": \"cef29531-5dfb-436c-927b-79f968d75450\", \"gender\": \"Male\", \"age\": 18, \"department\": \"Oncology\", \"admission_time\": \"2025-09-21T04:06:47.417852\", \"discharge_time\": \"2025-09-22T10:06:47.417852\", \"bed_id\": 293, \"hospital_id\": 1}"
        ],
        [
         "{\"patient_id\": \"ceac38f8-f80b-46dc-85c6-ec845278d05c\", \"gender\": \"Male\", \"age\": 32, \"department\": \"Oncology\", \"admission_time\": \"2025-09-20T15:27:00.374713\", \"discharge_time\": \"2025-09-23T09:27:00.374713\", \"bed_id\": 178, \"hospital_id\": 6}"
        ],
        [
         "{\"patient_id\": \"a7510f23-84e6-4a54-b2ed-8faa15e471f9\", \"gender\": \"Male\", \"age\": 37, \"department\": \"Surgery\", \"admission_time\": \"2025-09-23T06:58:57.105204\", \"discharge_time\": \"2025-09-23T10:58:57.105204\", \"bed_id\": 115, \"hospital_id\": 1}"
        ],
        [
         "{\"patient_id\": \"40023fca-024e-4e42-b6cc-d254ec862894\", \"gender\": \"Female\", \"age\": 6, \"department\": \"Surgery\", \"admission_time\": \"2025-09-23T06:57:22.044746\", \"discharge_time\": \"2025-09-25T08:57:22.044746\", \"bed_id\": 294, \"hospital_id\": 3}"
        ],
        [
         "{\"patient_id\": \"fd769e77-be2c-435f-8ef5-8f66871e73b7\", \"gender\": \"Male\", \"age\": 64, \"department\": \"Oncology\", \"admission_time\": \"2025-09-22T06:26:26.352132\", \"discharge_time\": \"2025-09-23T21:26:26.352132\", \"bed_id\": 475, \"hospital_id\": 2}"
        ],
        [
         "{\"patient_id\": \"2627beec-9b7c-4b84-a11b-e21a93845fae\", \"gender\": \"Male\", \"age\": 91, \"department\": \"Oncology\", \"admission_time\": \"2025-09-22T08:52:45.857139\", \"discharge_time\": \"2025-09-23T17:52:45.857139\", \"bed_id\": 52, \"hospital_id\": 5}"
        ],
        [
         "{\"patient_id\": \"bd721ade-f4f0-4a82-a2f6-9d0ff935b0e7\", \"gender\": \"Male\", \"age\": 4, \"department\": \"Cardiology\", \"admission_time\": \"2025-09-21T15:07:25.442567\", \"discharge_time\": \"2025-09-21T17:07:25.442567\", \"bed_id\": 392, \"hospital_id\": 3}"
        ],
        [
         "{\"patient_id\": \"5a1bb7bb-4114-4340-8b99-4318b8d73911\", \"gender\": \"Male\", \"age\": 84, \"department\": \"Surgery\", \"admission_time\": \"2025-09-21T13:53:49.900872\", \"discharge_time\": \"2025-09-21T22:53:49.900872\", \"bed_id\": 453, \"hospital_id\": 7}"
        ],
        [
         "{\"patient_id\": \"d50b000f-f2da-4fcd-aec2-84b7ec8f5e47\", \"gender\": \"Male\", \"age\": 17, \"department\": \"Surgery\", \"admission_time\": \"2025-09-21T02:59:23.122595\", \"discharge_time\": \"2025-09-21T21:59:23.122595\", \"bed_id\": 347, \"hospital_id\": 6}"
        ],
        [
         "{\"patient_id\": \"240112cd-2743-4789-b2f2-1a7ef92abc5a\", \"gender\": \"Male\", \"age\": 89, \"department\": \"Surgery\", \"admission_time\": \"2025-09-23T02:55:18.963028\", \"discharge_time\": \"2025-09-23T13:55:18.963028\", \"bed_id\": 100, \"hospital_id\": 6}"
        ],
        [
         "{\"patient_id\": \"8ea43413-4d22-43b5-b514-84c953f249c3\", \"gender\": \"Male\", \"age\": 9, \"department\": \"Emergency\", \"admission_time\": \"2025-09-20T06:53:42.896768\", \"discharge_time\": \"2025-09-22T17:53:42.896768\", \"bed_id\": 98, \"hospital_id\": 6}"
        ],
        [
         "{\"patient_id\": \"7970dd22-5b5c-4ffa-8d37-d93e89d67afa\", \"gender\": \"Male\", \"age\": 67, \"department\": \"Emergency\", \"admission_time\": \"2025-09-20T08:02:29.243659\", \"discharge_time\": \"2025-09-22T02:02:29.243659\", \"bed_id\": 58, \"hospital_id\": 2}"
        ],
        [
         "{\"patient_id\": \"d7e457fd-0004-4478-8cd3-1a7fd6ef7239\", \"gender\": \"Male\", \"age\": 20, \"department\": \"Surgery\", \"admission_time\": \"2025-09-22T04:03:15.273658\", \"discharge_time\": \"2025-09-22T23:03:15.273658\", \"bed_id\": 446, \"hospital_id\": 5}"
        ],
        [
         "{\"patient_id\": \"f241f32c-0fbb-4a02-a8bc-cabc269a0c14\", \"gender\": \"Female\", \"age\": 22, \"department\": \"ICU\", \"admission_time\": \"2025-09-23T10:09:14.512475\", \"discharge_time\": \"2025-09-25T20:09:14.512403\", \"bed_id\": 270, \"hospital_id\": 3}"
        ],
        [
         "{\"patient_id\": \"178c5dab-46ec-40b3-9684-bd04936e1f55\", \"gender\": \"Female\", \"age\": 120, \"department\": \"ICU\", \"admission_time\": \"2025-09-21T15:10:12.550298\", \"discharge_time\": \"2025-09-22T01:10:12.550298\", \"bed_id\": 491, \"hospital_id\": 6}"
        ],
        [
         "{\"patient_id\": \"eb02b39b-344e-4d63-a269-1252cb43b529\", \"gender\": \"Male\", \"age\": 42, \"department\": \"Surgery\", \"admission_time\": \"2025-09-22T07:54:01.908998\", \"discharge_time\": \"2025-09-22T11:54:01.908998\", \"bed_id\": 235, \"hospital_id\": 3}"
        ],
        [
         "{\"patient_id\": \"f7402bd5-ad81-43e6-b861-ca6e7e9cc368\", \"gender\": \"Male\", \"age\": 17, \"department\": \"Surgery\", \"admission_time\": \"2025-09-21T01:02:03.223889\", \"discharge_time\": \"2025-09-21T19:02:03.223889\", \"bed_id\": 335, \"hospital_id\": 7}"
        ],
        [
         "{\"patient_id\": \"d646a475-d139-4a2f-9e67-6db6c0252083\", \"gender\": \"Male\", \"age\": 52, \"department\": \"Oncology\", \"admission_time\": \"2025-09-21T08:07:14.434154\", \"discharge_time\": \"2025-09-21T15:07:14.434154\", \"bed_id\": 108, \"hospital_id\": 6}"
        ],
        [
         "{\"patient_id\": \"c56db11d-31ec-47ec-b8c3-7aea8e2ab50b\", \"gender\": \"Male\", \"age\": 29, \"department\": \"Oncology\", \"admission_time\": \"2025-09-20T16:08:51.496618\", \"discharge_time\": \"2025-09-21T06:08:51.496618\", \"bed_id\": 284, \"hospital_id\": 1}"
        ],
        [
         "{\"patient_id\": \"49239972-c0ff-4e86-a1b1-bf81701a097f\", \"gender\": \"Male\", \"age\": 24, \"department\": \"Oncology\", \"admission_time\": \"2025-09-22T13:04:45.336122\", \"discharge_time\": \"2025-09-23T23:04:45.336122\", \"bed_id\": 57, \"hospital_id\": 1}"
        ],
        [
         "{\"patient_id\": \"7b9f3d69-ca8f-46f1-b889-761a0bfa4c90\", \"gender\": \"Male\", \"age\": 98, \"department\": \"Maternity\", \"admission_time\": \"2025-09-20T14:07:02.427731\", \"discharge_time\": \"2025-09-21T12:07:02.427731\", \"bed_id\": 74, \"hospital_id\": 7}"
        ],
        [
         "{\"patient_id\": \"67e11345-2de3-4df4-9c84-d7906dcc4a82\", \"gender\": \"Male\", \"age\": 14, \"department\": \"Surgery\", \"admission_time\": \"2025-09-22T06:04:37.331347\", \"discharge_time\": \"2025-09-22T08:04:37.331347\", \"bed_id\": 142, \"hospital_id\": 6}"
        ],
        [
         "{\"patient_id\": \"c935ab9f-7e72-4ae9-9237-a31aa54d190e\", \"gender\": \"Male\", \"age\": 81, \"department\": \"Surgery\", \"admission_time\": \"2025-09-20T08:57:20.043531\", \"discharge_time\": \"2025-09-20T09:57:20.043531\", \"bed_id\": 206, \"hospital_id\": 1}"
        ],
        [
         "{\"patient_id\": \"29067e4a-34b5-4235-941f-6705a5901f97\", \"gender\": \"Male\", \"age\": 2, \"department\": \"Emergency\", \"admission_time\": \"2025-09-22T17:56:02.992607\", \"discharge_time\": \"2025-09-23T10:56:02.992607\", \"bed_id\": 282, \"hospital_id\": 1}"
        ],
        [
         "{\"patient_id\": \"5deb0d5e-1e19-49ec-8160-80f201525f35\", \"gender\": \"Male\", \"age\": 37, \"department\": \"Maternity\", \"admission_time\": \"2025-09-21T15:55:52.986097\", \"discharge_time\": \"2025-09-22T06:55:52.986097\", \"bed_id\": 44, \"hospital_id\": 2}"
        ],
        [
         "{\"patient_id\": \"401fa0c7-672d-446c-aca9-7efe50a75356\", \"gender\": \"Female\", \"age\": 117, \"department\": \"ICU\", \"admission_time\": \"2025-09-20T21:55:22.967102\", \"discharge_time\": \"2025-09-22T23:55:22.967102\", \"bed_id\": 483, \"hospital_id\": 1}"
        ],
        [
         "{\"patient_id\": \"54d0b99b-3ef2-4c8b-8019-ff491ed6bec5\", \"gender\": \"Female\", \"age\": 8, \"department\": \"Surgery\", \"admission_time\": \"2025-09-22T06:58:45.096683\", \"discharge_time\": \"2025-09-23T19:58:45.096683\", \"bed_id\": 169, \"hospital_id\": 3}"
        ],
        [
         "{\"patient_id\": \"d37f41d1-ff1b-4488-a288-b1b72ea31116\", \"gender\": \"Male\", \"age\": 108, \"department\": \"Oncology\", \"admission_time\": \"2025-09-21T13:07:03.428160\", \"discharge_time\": \"2025-09-24T02:07:03.428160\", \"bed_id\": 10, \"hospital_id\": 2}"
        ],
        [
         "{\"patient_id\": \"5fc25b92-d9eb-40e0-8076-32bad727618b\", \"gender\": \"Male\", \"age\": 99, \"department\": \"Oncology\", \"admission_time\": \"2025-09-23T00:00:12.152467\", \"discharge_time\": \"2025-09-23T01:00:12.152467\", \"bed_id\": 156, \"hospital_id\": 3}"
        ],
        [
         "{\"patient_id\": \"a37f74a5-d25a-4245-8a84-26fa464ef395\", \"gender\": \"Male\", \"age\": 4, \"department\": \"Cardiology\", \"admission_time\": \"2025-09-20T17:01:27.199451\", \"discharge_time\": \"2025-09-23T15:01:27.199451\", \"bed_id\": 89, \"hospital_id\": 7}"
        ],
        [
         "{\"patient_id\": \"0193dedc-51fa-458e-b003-252711fa8397\", \"gender\": \"Female\", \"age\": 5, \"department\": \"Surgery\", \"admission_time\": \"2025-09-23T03:56:09.997618\", \"discharge_time\": \"2025-09-25T10:56:09.997618\", \"bed_id\": 116, \"hospital_id\": 4}"
        ],
        [
         "{\"patient_id\": \"6fde966d-4f47-4451-a75e-233f53870700\", \"gender\": \"Male\", \"age\": 8, \"department\": \"Surgery\", \"admission_time\": \"2025-09-21T00:26:15.344704\", \"discharge_time\": \"2025-09-22T18:26:15.344704\", \"bed_id\": 333, \"hospital_id\": 2}"
        ],
        [
         "{\"patient_id\": \"e69605fe-62e0-4b91-887f-5f078bc2cd69\", \"gender\": \"Male\", \"age\": 5, \"department\": \"Maternity\", \"admission_time\": \"2025-09-21T10:54:27.926586\", \"discharge_time\": \"2025-09-23T15:54:27.926586\", \"bed_id\": 496, \"hospital_id\": 5}"
        ],
        [
         "{\"patient_id\": \"f8db1ea7-39ad-4672-83b0-e53929aa9fef\", \"gender\": \"Male\", \"age\": 3, \"department\": \"Cardiology\", \"admission_time\": \"2025-09-20T15:53:02.869380\", \"discharge_time\": \"2025-09-21T13:53:02.869380\", \"bed_id\": 23, \"hospital_id\": 3}"
        ],
        [
         "{\"patient_id\": \"d2fda68d-3823-4ced-ad47-16c9a0791ac5\", \"gender\": \"Male\", \"age\": 7, \"department\": \"Surgery\", \"admission_time\": \"2025-09-22T21:06:28.404571\", \"discharge_time\": \"2025-09-23T01:06:28.404571\", \"bed_id\": 377, \"hospital_id\": 1}"
        ],
        [
         "{\"patient_id\": \"73bae133-aee6-4596-b977-a637c188f1cb\", \"gender\": \"Male\", \"age\": 99, \"department\": \"Maternity\", \"admission_time\": \"2025-09-22T09:07:34.451269\", \"discharge_time\": \"2025-09-23T04:07:34.451269\", \"bed_id\": 60, \"hospital_id\": 7}"
        ],
        [
         "{\"patient_id\": \"47f0f88b-5871-4266-bd00-06e92a470d71\", \"gender\": \"Male\", \"age\": 94, \"department\": \"Maternity\", \"admission_time\": \"2025-09-20T06:55:02.951267\", \"discharge_time\": \"2025-09-21T05:55:02.951267\", \"bed_id\": 92, \"hospital_id\": 1}"
        ],
        [
         "{\"patient_id\": \"8f59d5ab-a890-44e8-8249-9735ae7aac9a\", \"gender\": \"Male\", \"age\": 58, \"department\": \"Maternity\", \"admission_time\": \"2025-09-20T22:05:41.369849\", \"discharge_time\": \"2025-09-21T18:05:41.369849\", \"bed_id\": 10, \"hospital_id\": 1}"
        ],
        [
         "{\"patient_id\": \"a21e1d62-143e-4e6e-9485-4878458a1492\", \"gender\": \"Male\", \"age\": 86, \"department\": \"Oncology\", \"admission_time\": \"2025-09-23T00:55:26.970703\", \"discharge_time\": \"2025-09-23T16:55:26.970703\", \"bed_id\": 481, \"hospital_id\": 2}"
        ],
        [
         "{\"patient_id\": \"dcc36f1e-aa95-43e6-b6b2-a31db4f10409\", \"gender\": \"Male\", \"age\": 6, \"department\": \"Emergency\", \"admission_time\": \"2025-09-21T09:05:30.362613\", \"discharge_time\": \"2025-09-21T14:05:30.362613\", \"bed_id\": 438, \"hospital_id\": 5}"
        ],
        [
         "{\"patient_id\": \"483759be-6cd5-4072-a235-202f2236afbd\", \"gender\": \"Male\", \"age\": 99, \"department\": \"Surgery\", \"admission_time\": \"2025-09-21T00:10:07.546746\", \"discharge_time\": \"2025-09-21T02:10:07.546746\", \"bed_id\": 477, \"hospital_id\": 7}"
        ],
        [
         "{\"patient_id\": \"76942c1d-d1ee-46de-bb65-d741d1cfcc5d\", \"gender\": \"Female\", \"age\": 9, \"department\": \"Surgery\", \"admission_time\": \"2025-09-20T07:05:59.383181\", \"discharge_time\": \"2025-09-21T14:05:59.383181\", \"bed_id\": 236, \"hospital_id\": 2}"
        ],
        [
         "{\"patient_id\": \"202efa04-8abf-44e6-be90-90b641ec21c3\", \"gender\": \"Male\", \"age\": 82, \"department\": \"Emergency\", \"admission_time\": \"2025-09-21T21:04:07.309036\", \"discharge_time\": \"2025-09-23T05:04:07.309036\", \"bed_id\": 45, \"hospital_id\": 4}"
        ],
        [
         "{\"patient_id\": \"fc39dbb1-e58b-4751-8ac2-41d5986a37c3\", \"gender\": \"Male\", \"age\": 60, \"department\": \"Emergency\", \"admission_time\": \"2025-09-20T18:06:06.386915\", \"discharge_time\": \"2025-09-23T04:06:06.386915\", \"bed_id\": 96, \"hospital_id\": 4}"
        ],
        [
         "{\"patient_id\": \"5932a56a-b281-4501-99c5-7911c1ffb482\", \"gender\": \"Male\", \"age\": 76, \"department\": \"Oncology\", \"admission_time\": \"2025-09-20T06:56:44.020343\", \"discharge_time\": \"2025-09-20T13:56:44.020343\", \"bed_id\": 364, \"hospital_id\": 1}"
        ],
        [
         "{\"patient_id\": \"cf19aa7f-c34a-4bf9-8de2-546229857df2\", \"gender\": \"Male\", \"age\": 92, \"department\": \"Emergency\", \"admission_time\": \"2025-09-22T17:25:51.326405\", \"discharge_time\": \"2025-09-25T00:25:51.326405\", \"bed_id\": 96, \"hospital_id\": 3}"
        ],
        [
         "{\"patient_id\": \"300bbe8d-c2ab-4ddb-a4f0-7547cb9416ea\", \"gender\": \"Female\", \"age\": 105, \"department\": \"ICU\", \"admission_time\": \"2025-09-22T22:01:57.219257\", \"discharge_time\": \"2025-09-23T22:01:57.219257\", \"bed_id\": 394, \"hospital_id\": 1}"
        ],
        [
         "{\"patient_id\": \"ecba713a-385b-444b-b749-19ee07f68a28\", \"gender\": \"Male\", \"age\": 18, \"department\": \"Emergency\", \"admission_time\": \"2025-09-20T10:06:57.425383\", \"discharge_time\": \"2025-09-23T09:06:57.425383\", \"bed_id\": 90, \"hospital_id\": 4}"
        ],
        [
         "{\"patient_id\": \"8731ce53-f4af-429e-94d0-b38b01e0bfdb\", \"gender\": \"Male\", \"age\": 136, \"department\": \"Surgery\", \"admission_time\": \"2025-09-20T08:03:37.287340\", \"discharge_time\": \"2025-09-20T20:03:37.287340\", \"bed_id\": 367, \"hospital_id\": 7}"
        ],
        [
         "{\"patient_id\": \"ebbe3c47-4960-42c7-b4ee-7123de40a443\", \"gender\": \"Male\", \"age\": 91, \"department\": \"Surgery\", \"admission_time\": \"2025-09-21T06:03:06.266298\", \"discharge_time\": \"2025-09-23T22:03:06.266298\", \"bed_id\": 83, \"hospital_id\": 6}"
        ],
        [
         "{\"patient_id\": \"f38fb588-a09b-4f07-9182-e64d813357aa\", \"gender\": \"Male\", \"age\": 5, \"department\": \"Maternity\", \"admission_time\": \"2025-09-23T05:53:12.876456\", \"discharge_time\": \"2025-09-24T13:53:12.876456\", \"bed_id\": 288, \"hospital_id\": 3}"
        ],
        [
         "{\"patient_id\": \"76f0630f-aaa5-4400-b08a-bf182b384b17\", \"gender\": \"Male\", \"age\": 66, \"department\": \"Emergency\", \"admission_time\": \"2025-09-22T02:02:44.251794\", \"discharge_time\": \"2025-09-23T23:02:44.251794\", \"bed_id\": 77, \"hospital_id\": 1}"
        ],
        [
         "{\"patient_id\": \"26ee0f50-9267-4109-9ca5-c19b081d91b8\", \"gender\": \"Male\", \"age\": 34, \"department\": \"Surgery\", \"admission_time\": \"2025-09-20T06:54:59.948472\", \"discharge_time\": \"2025-09-21T03:54:59.948472\", \"bed_id\": 102, \"hospital_id\": 4}"
        ],
        [
         "{\"patient_id\": \"2f523d34-c80b-4598-a9c4-72dd8bc2578c\", \"gender\": \"Male\", \"age\": 28, \"department\": \"Surgery\", \"admission_time\": \"2025-09-21T16:58:41.094319\", \"discharge_time\": \"2025-09-23T10:58:41.094319\", \"bed_id\": 139, \"hospital_id\": 2}"
        ],
        [
         "{\"patient_id\": \"f0b95234-6f75-44e5-a2f0-e3e9da6c20e4\", \"gender\": \"Female\", \"age\": 66, \"department\": \"ICU\", \"admission_time\": \"2025-09-24T15:57:23.045213\", \"discharge_time\": \"2025-09-24T02:57:23.045141\", \"bed_id\": 266, \"hospital_id\": 1}"
        ],
        [
         "{\"patient_id\": \"91e0efcf-254b-40dd-ab08-23f77150d6a6\", \"gender\": \"Male\", \"age\": 95, \"department\": \"Surgery\", \"admission_time\": \"2025-09-21T16:59:55.142753\", \"discharge_time\": \"2025-09-22T00:59:55.142753\", \"bed_id\": 70, \"hospital_id\": 1}"
        ],
        [
         "{\"patient_id\": \"a0bb8fba-0ede-46a8-baa0-22aae61b250c\", \"gender\": \"Male\", \"age\": 44, \"department\": \"Maternity\", \"admission_time\": \"2025-09-22T00:02:54.258461\", \"discharge_time\": \"2025-09-23T04:02:54.258461\", \"bed_id\": 33, \"hospital_id\": 7}"
        ],
        [
         "{\"patient_id\": \"d80b1235-01c4-469b-bf3e-b20a1971138e\", \"gender\": \"Male\", \"age\": 71, \"department\": \"Oncology\", \"admission_time\": \"2025-09-20T19:02:56.260155\", \"discharge_time\": \"2025-09-23T08:02:56.260155\", \"bed_id\": 21, \"hospital_id\": 6}"
        ],
        [
         "{\"patient_id\": \"c8c6a603-b993-446e-bfed-e418a7c85d7f\", \"gender\": \"Male\", \"age\": 40, \"department\": \"Oncology\", \"admission_time\": \"2025-09-22T15:58:43.095803\", \"discharge_time\": \"2025-09-25T15:58:43.095803\", \"bed_id\": 315, \"hospital_id\": 7}"
        ],
        [
         "{\"patient_id\": \"8a660757-9d09-46bf-9f55-c235eebd59ef\", \"gender\": \"Male\", \"age\": 117, \"department\": \"Oncology\", \"admission_time\": \"2025-09-22T14:26:55.372003\", \"discharge_time\": \"2025-09-24T11:26:55.372003\", \"bed_id\": 25, \"hospital_id\": 4}"
        ],
        [
         "{\"patient_id\": \"59c8ea32-923c-4152-950c-07ab7378a732\", \"gender\": \"Male\", \"age\": 38, \"department\": \"Surgery\", \"admission_time\": \"2025-09-21T19:03:57.302559\", \"discharge_time\": \"2025-09-23T10:03:57.302559\", \"bed_id\": 15, \"hospital_id\": 2}"
        ],
        [
         "{\"patient_id\": \"b0863e44-5699-43d8-83c2-923795ed8a85\", \"gender\": \"Female\", \"age\": 95, \"department\": \"ICU\", \"admission_time\": \"2025-09-21T22:04:03.306140\", \"discharge_time\": \"2025-09-22T08:04:03.306140\", \"bed_id\": 230, \"hospital_id\": 7}"
        ],
        [
         "{\"patient_id\": \"7610b448-a6eb-4b96-9100-183bbbc6c481\", \"gender\": \"Male\", \"age\": 45, \"department\": \"Surgery\", \"admission_time\": \"2025-09-21T15:54:48.941277\", \"discharge_time\": \"2025-09-24T00:54:48.941277\", \"bed_id\": 33, \"hospital_id\": 4}"
        ],
        [
         "{\"patient_id\": \"acaddd27-967e-4570-ba4e-98e4523326ff\", \"gender\": \"Male\", \"age\": 75, \"department\": \"Maternity\", \"admission_time\": \"2025-09-20T09:01:37.206676\", \"discharge_time\": \"2025-09-20T10:01:37.206676\", \"bed_id\": 90, \"hospital_id\": 3}"
        ],
        [
         "{\"patient_id\": \"7fa2f416-6140-4c64-8ef9-5126501735fd\", \"gender\": \"Male\", \"age\": 30, \"department\": \"Surgery\", \"admission_time\": \"2025-09-20T11:26:18.347178\", \"discharge_time\": \"2025-09-21T01:26:18.347178\", \"bed_id\": 154, \"hospital_id\": 7}"
        ],
        [
         "{\"patient_id\": \"820488a7-02fe-45fd-ba82-c1303dff61ff\", \"gender\": \"Female\", \"age\": 70, \"department\": \"ICU\", \"admission_time\": \"2025-09-21T07:09:06.505501\", \"discharge_time\": \"2025-09-22T08:09:06.505501\", \"bed_id\": 451, \"hospital_id\": 3}"
        ],
        [
         "{\"patient_id\": \"7523c29a-a0d7-4608-99a6-e0da69d1a3c4\", \"gender\": \"Male\", \"age\": 63, \"department\": \"Surgery\", \"admission_time\": \"2025-09-21T18:03:55.300435\", \"discharge_time\": \"2025-09-22T02:03:55.300435\", \"bed_id\": 91, \"hospital_id\": 6}"
        ],
        [
         "{\"patient_id\": \"2193365d-d261-4cf8-ad9f-88c109681dd6\", \"gender\": \"Male\", \"age\": 11, \"department\": \"Surgery\", \"admission_time\": \"2025-09-22T19:58:29.086972\", \"discharge_time\": \"2025-09-25T07:58:29.086972\", \"bed_id\": 253, \"hospital_id\": 4}"
        ],
        [
         "{\"patient_id\": \"4479a509-c0af-4a7c-927d-5c067ba5781e\", \"gender\": \"Male\", \"age\": 54, \"department\": \"Oncology\", \"admission_time\": \"2025-09-22T17:03:23.278921\", \"discharge_time\": \"2025-09-24T10:03:23.278921\", \"bed_id\": 67, \"hospital_id\": 5}"
        ],
        [
         "{\"patient_id\": \"a2e4b4b2-d387-4b62-8cda-3983121b1282\", \"gender\": \"Male\", \"age\": 17, \"department\": \"Maternity\", \"admission_time\": \"2025-09-20T11:01:53.216060\", \"discharge_time\": \"2025-09-20T23:01:53.216060\", \"bed_id\": 50, \"hospital_id\": 3}"
        ],
        [
         "{\"patient_id\": \"800f9dea-ec15-448c-9ff0-19563947c5ca\", \"gender\": \"Male\", \"age\": 88, \"department\": \"Emergency\", \"admission_time\": \"2025-09-23T04:52:53.861630\", \"discharge_time\": \"2025-09-23T06:52:53.861630\", \"bed_id\": 39, \"hospital_id\": 2}"
        ],
        [
         "{\"patient_id\": \"33982cb6-7089-4c42-954b-d96135ce8e9e\", \"gender\": \"Male\", \"age\": 91, \"department\": \"Surgery\", \"admission_time\": \"2025-09-22T16:26:19.347611\", \"discharge_time\": \"2025-09-23T14:26:19.347611\", \"bed_id\": 53, \"hospital_id\": 5}"
        ],
        [
         "{\"patient_id\": \"aa3d398d-0bec-4554-bc11-6fbdb2bef013\", \"gender\": \"Male\", \"age\": 1, \"department\": \"Emergency\", \"admission_time\": \"2025-09-22T20:52:48.859034\", \"discharge_time\": \"2025-09-23T16:52:48.859034\", \"bed_id\": 68, \"hospital_id\": 6}"
        ],
        [
         "{\"patient_id\": \"d91fcea0-05a5-4838-b118-d60df1e25fea\", \"gender\": \"Female\", \"age\": 61, \"department\": \"ICU\", \"admission_time\": \"2025-09-21T21:10:20.557583\", \"discharge_time\": \"2025-09-22T05:10:20.557583\", \"bed_id\": 298, \"hospital_id\": 7}"
        ],
        [
         "{\"patient_id\": \"65659c86-050f-4a20-8148-dff9fa9e658e\", \"gender\": \"Male\", \"age\": 47, \"department\": \"Surgery\", \"admission_time\": \"2025-09-20T16:25:47.324621\", \"discharge_time\": \"2025-09-23T16:25:47.324621\", \"bed_id\": 372, \"hospital_id\": 5}"
        ],
        [
         "{\"patient_id\": \"6aecc26e-0976-4aba-adda-746d67f7e40c\", \"gender\": \"Male\", \"age\": 64, \"department\": \"Surgery\", \"admission_time\": \"2025-09-20T18:25:41.321644\", \"discharge_time\": \"2025-09-22T13:25:41.321644\", \"bed_id\": 33, \"hospital_id\": 6}"
        ],
        [
         "{\"patient_id\": \"9cbebbbc-6652-4696-ac88-c4dc18409f59\", \"gender\": \"Male\", \"age\": 73, \"department\": \"Oncology\", \"admission_time\": \"2025-09-22T05:55:41.979180\", \"discharge_time\": \"2025-09-22T15:55:41.979180\", \"bed_id\": 201, \"hospital_id\": 5}"
        ],
        [
         "{\"patient_id\": \"3f867962-e975-4b98-9b37-de66f24eac3f\", \"gender\": \"Male\", \"age\": 98, \"department\": \"Surgery\", \"admission_time\": \"2025-09-20T08:54:47.940349\", \"discharge_time\": \"2025-09-22T08:54:47.940349\", \"bed_id\": 369, \"hospital_id\": 1}"
        ],
        [
         "{\"patient_id\": \"22b01947-40ca-41f2-8a37-e52ee2d73c79\", \"gender\": \"Male\", \"age\": 4, \"department\": \"Oncology\", \"admission_time\": \"2025-09-21T18:01:18.191435\", \"discharge_time\": \"2025-09-23T08:01:18.191435\", \"bed_id\": 244, \"hospital_id\": 7}"
        ],
        [
         "{\"patient_id\": \"786bd830-deec-46aa-8ad5-eb1c6689d041\", \"gender\": \"Male\", \"age\": 34, \"department\": \"Surgery\", \"admission_time\": \"2025-09-20T21:09:15.513410\", \"discharge_time\": \"2025-09-23T02:09:15.513410\", \"bed_id\": 54, \"hospital_id\": 1}"
        ],
        [
         "{\"patient_id\": \"ab3b604f-673a-453a-b0a4-5c89c033ce55\", \"gender\": \"Male\", \"age\": 42, \"department\": \"Surgery\", \"admission_time\": \"2025-09-20T21:58:37.091851\", \"discharge_time\": \"2025-09-23T12:58:37.091851\", \"bed_id\": 46, \"hospital_id\": 6}"
        ],
        [
         "{\"patient_id\": \"856e08c4-f304-4708-a3cf-834bd6844411\", \"gender\": \"Male\", \"age\": 56, \"department\": \"Emergency\", \"admission_time\": \"2025-09-21T14:06:44.415849\", \"discharge_time\": \"2025-09-21T23:06:44.415849\", \"bed_id\": 29, \"hospital_id\": 2}"
        ],
        [
         "{\"patient_id\": \"184698dc-4782-48a8-837f-5bb527ec0424\", \"gender\": \"Female\", \"age\": 31, \"department\": \"ICU\", \"admission_time\": \"2025-09-20T11:04:59.344380\", \"discharge_time\": \"2025-09-22T06:04:59.344380\", \"bed_id\": 393, \"hospital_id\": 2}"
        ],
        [
         "{\"patient_id\": \"b989662d-df79-479b-b784-9c3abce0438f\", \"gender\": \"Female\", \"age\": 45, \"department\": \"ICU\", \"admission_time\": \"2025-09-23T02:02:31.244605\", \"discharge_time\": \"2025-09-24T19:02:31.244605\", \"bed_id\": 387, \"hospital_id\": 1}"
        ],
        [
         "{\"patient_id\": \"7229f470-8e57-4aa4-b99d-c1e21aca4f3a\", \"gender\": \"Female\", \"age\": 57, \"department\": \"ICU\", \"admission_time\": \"2025-09-21T04:58:44.096242\", \"discharge_time\": \"2025-09-22T23:58:44.096242\", \"bed_id\": 374, \"hospital_id\": 2}"
        ],
        [
         "{\"patient_id\": \"094e57e9-0ed1-4935-87d4-7e619bb95b0b\", \"gender\": \"Female\", \"age\": 33, \"department\": \"ICU\", \"admission_time\": \"2025-09-22T11:05:20.356917\", \"discharge_time\": \"2025-09-23T00:05:20.356917\", \"bed_id\": 347, \"hospital_id\": 4}"
        ],
        [
         "{\"patient_id\": \"421ef7aa-7457-454a-9445-3f579e3292bf\", \"gender\": \"Female\", \"age\": 71, \"department\": \"ICU\", \"admission_time\": \"2025-09-21T12:07:23.441233\", \"discharge_time\": \"2025-09-23T01:07:23.441233\", \"bed_id\": 252, \"hospital_id\": 7}"
        ],
        [
         "{\"patient_id\": \"331f1f5e-7f10-465c-b099-f8316731238c\", \"gender\": \"Female\", \"age\": 32, \"department\": \"ICU\", \"admission_time\": \"2025-09-21T07:00:32.164598\", \"discharge_time\": \"2025-09-22T14:00:32.164598\", \"bed_id\": 354, \"hospital_id\": 1}"
        ],
        [
         "{\"patient_id\": \"2a1c8fbd-27cd-4526-aed1-f5aa84ece172\", \"gender\": \"Male\", \"age\": 52, \"department\": \"Maternity\", \"admission_time\": \"2025-09-21T06:59:29.126071\", \"discharge_time\": \"2025-09-23T06:59:29.126071\", \"bed_id\": 88, \"hospital_id\": 3}"
        ],
        [
         "{\"patient_id\": \"f3371e94-d02c-4b5a-9c5e-46c7df9fa267\", \"gender\": \"Male\", \"age\": 69, \"department\": \"Oncology\", \"admission_time\": \"2025-09-21T13:06:31.406051\", \"discharge_time\": \"2025-09-23T16:06:31.406051\", \"bed_id\": 65, \"hospital_id\": 3}"
        ],
        [
         "{\"patient_id\": \"0ebde6cf-4f98-43c6-9c61-af89c45d99fb\", \"gender\": \"Male\", \"age\": 80, \"department\": \"Oncology\", \"admission_time\": \"2025-09-23T01:01:26.198094\", \"discharge_time\": \"2025-09-25T04:01:26.198094\", \"bed_id\": 96, \"hospital_id\": 3}"
        ],
        [
         "{\"patient_id\": \"3311290d-635e-4839-8051-1cb6190f45de\", \"gender\": \"Male\", \"age\": 53, \"department\": \"Maternity\", \"admission_time\": \"2025-09-21T16:53:57.906462\", \"discharge_time\": \"2025-09-21T18:53:57.906462\", \"bed_id\": 74, \"hospital_id\": 4}"
        ],
        [
         "{\"patient_id\": \"aeb9fde3-84e5-4b92-bf6c-d3469142b00c\", \"gender\": \"Female\", \"age\": 79, \"department\": \"ICU\", \"admission_time\": \"2025-09-20T21:07:40.454681\", \"discharge_time\": \"2025-09-21T04:07:40.454681\", \"bed_id\": 367, \"hospital_id\": 7}"
        ],
        [
         "{\"patient_id\": \"c8b51c54-6235-4721-9726-e027f1898191\", \"gender\": \"Female\", \"age\": 12, \"department\": \"ICU\", \"admission_time\": \"2025-09-21T13:58:59.106054\", \"discharge_time\": \"2025-09-23T17:58:59.106054\", \"bed_id\": 488, \"hospital_id\": 6}"
        ],
        [
         "{\"patient_id\": \"913034db-b007-473e-8e22-694c1014d80f\", \"gender\": \"Female\", \"age\": 93, \"department\": \"ICU\", \"admission_time\": \"2025-09-20T23:07:54.464598\", \"discharge_time\": \"2025-09-21T02:07:54.464598\", \"bed_id\": 123, \"hospital_id\": 2}"
        ],
        [
         "{\"patient_id\": \"fd9e19eb-c803-4ff7-bc64-3bd8fb73a41c\", \"gender\": \"Female\", \"age\": 49, \"department\": \"ICU\", \"admission_time\": \"2025-09-22T20:04:57.342955\", \"discharge_time\": \"2025-09-23T19:04:57.342955\", \"bed_id\": 404, \"hospital_id\": 1}"
        ],
        [
         "{\"patient_id\": \"2c8bfa6b-451c-4b9d-ab12-0ea7f53c60fb\", \"gender\": \"Female\", \"age\": 35, \"department\": \"ICU\", \"admission_time\": \"2025-09-22T20:55:32.974103\", \"discharge_time\": \"2025-09-25T01:55:32.974103\", \"bed_id\": 489, \"hospital_id\": 7}"
        ],
        [
         "{\"patient_id\": \"fb51db3d-4b26-4885-b32e-cbc8bd85c64d\", \"gender\": \"Female\", \"age\": 63, \"department\": \"ICU\", \"admission_time\": \"2025-09-22T10:03:14.273067\", \"discharge_time\": \"2025-09-24T04:03:14.273067\", \"bed_id\": 404, \"hospital_id\": 5}"
        ],
        [
         "{\"patient_id\": \"2d41db8d-1b37-428a-bd4b-11375b529461\", \"gender\": \"Female\", \"age\": 12, \"department\": \"ICU\", \"admission_time\": \"2025-09-21T06:58:21.081333\", \"discharge_time\": \"2025-09-22T19:58:21.081333\", \"bed_id\": 160, \"hospital_id\": 7}"
        ],
        [
         "{\"patient_id\": \"b86a24e8-12df-4222-a52b-5fad83017f9f\", \"gender\": \"Female\", \"age\": 67, \"department\": \"ICU\", \"admission_time\": \"2025-09-20T12:06:26.403650\", \"discharge_time\": \"2025-09-22T00:06:26.403650\", \"bed_id\": 142, \"hospital_id\": 3}"
        ],
        [
         "{\"patient_id\": \"11d05261-c8bc-41b3-b5a3-b5d3f648eaa3\", \"gender\": \"Female\", \"age\": 66, \"department\": \"ICU\", \"admission_time\": \"2025-09-22T02:55:50.984363\", \"discharge_time\": \"2025-09-23T10:55:50.984363\", \"bed_id\": 158, \"hospital_id\": 7}"
        ],
        [
         "{\"patient_id\": \"a6f02022-53bc-4bb4-b5fe-17fbf336e8d1\", \"gender\": \"Female\", \"age\": 23, \"department\": \"ICU\", \"admission_time\": \"2025-09-21T13:08:42.492190\", \"discharge_time\": \"2025-09-23T04:08:42.492190\", \"bed_id\": 308, \"hospital_id\": 2}"
        ],
        [
         "{\"patient_id\": \"9d3ddbaa-3d7d-4ce8-8086-875d5b63bc6d\", \"gender\": \"Female\", \"age\": 66, \"department\": \"ICU\", \"admission_time\": \"2025-09-21T08:59:53.141860\", \"discharge_time\": \"2025-09-23T01:59:53.141860\", \"bed_id\": 484, \"hospital_id\": 3}"
        ],
        [
         "{\"patient_id\": \"6b540e7f-8c80-48bc-a58a-1aa831c0ac57\", \"gender\": \"Female\", \"age\": 41, \"department\": \"ICU\", \"admission_time\": \"2025-09-21T07:05:10.350972\", \"discharge_time\": \"2025-09-22T14:05:10.350972\", \"bed_id\": 383, \"hospital_id\": 1}"
        ],
        [
         "{\"patient_id\": \"80047f3d-755a-44ad-9f0d-4a90572c78ab\", \"gender\": \"Female\", \"age\": 19, \"department\": \"ICU\", \"admission_time\": \"2025-09-21T01:07:41.455297\", \"discharge_time\": \"2025-09-22T15:07:41.455297\", \"bed_id\": 131, \"hospital_id\": 2}"
        ],
        [
         "{\"patient_id\": \"97e8bdfd-c060-4083-badb-24775c42b77e\", \"gender\": \"Female\", \"age\": 29, \"department\": \"ICU\", \"admission_time\": \"2025-09-21T19:53:11.876061\", \"discharge_time\": \"2025-09-24T16:53:11.876061\", \"bed_id\": 137, \"hospital_id\": 7}"
        ],
        [
         "{\"patient_id\": \"42694bca-a432-453f-a7a6-750b44d2b8e5\", \"gender\": \"Female\", \"age\": 82, \"department\": \"ICU\", \"admission_time\": \"2025-09-21T20:06:35.408479\", \"discharge_time\": \"2025-09-22T23:06:35.408479\", \"bed_id\": 290, \"hospital_id\": 2}"
        ],
        [
         "{\"patient_id\": \"014b817b-ec75-4ae5-8f2b-94c4fa27692a\", \"gender\": \"Female\", \"age\": 72, \"department\": \"ICU\", \"admission_time\": \"2025-09-21T17:56:18.002118\", \"discharge_time\": \"2025-09-23T21:56:18.002118\", \"bed_id\": 209, \"hospital_id\": 5}"
        ],
        [
         "{\"patient_id\": \"80d84452-f950-41f8-b4cb-0290b6b921e7\", \"gender\": \"Female\", \"age\": 81, \"department\": \"ICU\", \"admission_time\": \"2025-09-20T22:01:23.195190\", \"discharge_time\": \"2025-09-21T09:01:23.195190\", \"bed_id\": 129, \"hospital_id\": 4}"
        ],
        [
         "{\"patient_id\": \"2fc7c09e-f135-49e4-b502-bebf31dd6c2f\", \"gender\": \"Female\", \"age\": 20, \"department\": \"ICU\", \"admission_time\": \"2025-09-20T10:00:04.147572\", \"discharge_time\": \"2025-09-21T03:00:04.147572\", \"bed_id\": 127, \"hospital_id\": 1}"
        ],
        [
         "{\"patient_id\": \"7269cd91-2b43-47d3-87d5-e78609ad4ce9\", \"gender\": \"Female\", \"age\": 53, \"department\": \"ICU\", \"admission_time\": \"2025-09-22T00:54:13.917627\", \"discharge_time\": \"2025-09-24T00:54:13.917627\", \"bed_id\": 330, \"hospital_id\": 4}"
        ],
        [
         "{\"patient_id\": \"92766db1-ad20-49b9-99ad-911c058a344c\", \"gender\": \"Male\", \"age\": 78, \"department\": \"Oncology\", \"admission_time\": \"2025-09-21T02:02:38.248411\", \"discharge_time\": \"2025-09-23T21:02:38.248411\", \"bed_id\": 80, \"hospital_id\": 5}"
        ],
        [
         "{\"patient_id\": \"10d0bc7d-15de-4307-83a7-7bf2fad04a50\", \"gender\": \"Female\", \"age\": 99, \"department\": \"ICU\", \"admission_time\": \"2025-09-22T12:05:18.355791\", \"discharge_time\": \"2025-09-23T09:05:18.355791\", \"bed_id\": 105, \"hospital_id\": 2}"
        ],
        [
         "{\"patient_id\": \"02f9fd4b-7a75-4597-b843-c03edf5e1bc6\", \"gender\": \"Female\", \"age\": 20, \"department\": \"ICU\", \"admission_time\": \"2025-09-21T21:59:04.109880\", \"discharge_time\": \"2025-09-23T21:59:04.109880\", \"bed_id\": 123, \"hospital_id\": 3}"
        ],
        [
         "{\"patient_id\": \"38ecd9a6-74a8-48c1-98ae-2a4dbcac9880\", \"gender\": \"Male\", \"age\": 12, \"department\": \"Surgery\", \"admission_time\": \"2025-09-22T02:07:39.453738\", \"discharge_time\": \"2025-09-22T15:07:39.453738\", \"bed_id\": 98, \"hospital_id\": 4}"
        ],
        [
         "{\"patient_id\": \"517a86ce-8717-4bad-8372-c6dfa9148d83\", \"gender\": \"Female\", \"age\": 67, \"department\": \"ICU\", \"admission_time\": \"2025-09-22T10:03:27.281678\", \"discharge_time\": \"2025-09-25T07:03:27.281678\", \"bed_id\": 292, \"hospital_id\": 7}"
        ],
        [
         "{\"patient_id\": \"c82285d8-f6e1-4807-bd9d-ebf624b9378c\", \"gender\": \"Female\", \"age\": 47, \"department\": \"ICU\", \"admission_time\": \"2025-09-20T17:09:54.537799\", \"discharge_time\": \"2025-09-22T07:09:54.537799\", \"bed_id\": 100, \"hospital_id\": 3}"
        ],
        [
         "{\"patient_id\": \"f6326078-4b12-4035-87da-0b4cda84327b\", \"gender\": \"Female\", \"age\": 67, \"department\": \"ICU\", \"admission_time\": \"2025-09-20T08:09:57.539890\", \"discharge_time\": \"2025-09-23T01:09:57.539890\", \"bed_id\": 342, \"hospital_id\": 3}"
        ],
        [
         "{\"patient_id\": \"ccb3935f-5906-42de-b65b-06dd6cd8e155\", \"gender\": \"Female\", \"age\": 68, \"department\": \"ICU\", \"admission_time\": \"2025-09-20T14:54:23.923700\", \"discharge_time\": \"2025-09-22T22:54:23.923700\", \"bed_id\": 356, \"hospital_id\": 5}"
        ],
        [
         "{\"patient_id\": \"7eb8eefc-0915-46f4-841e-bda8266cb702\", \"gender\": \"Female\", \"age\": 46, \"department\": \"ICU\", \"admission_time\": \"2025-09-21T14:01:36.206242\", \"discharge_time\": \"2025-09-24T09:01:36.206242\", \"bed_id\": 291, \"hospital_id\": 6}"
        ],
        [
         "{\"patient_id\": \"090aedad-be0b-4b02-bc82-6b4300f9fa6e\", \"gender\": \"Female\", \"age\": 19, \"department\": \"ICU\", \"admission_time\": \"2025-09-20T13:57:29.049123\", \"discharge_time\": \"2025-09-22T06:57:29.049123\", \"bed_id\": 416, \"hospital_id\": 3}"
        ],
        [
         "{\"patient_id\": \"f6b6f002-ac56-4369-8ee2-f14a4a809798\", \"gender\": \"Female\", \"age\": 56, \"department\": \"ICU\", \"admission_time\": \"2025-09-22T00:09:51.536189\", \"discharge_time\": \"2025-09-23T10:09:51.536189\", \"bed_id\": 237, \"hospital_id\": 3}"
        ],
        [
         "{\"patient_id\": \"5fd0d66e-8d44-4676-9c80-8c77c6337f80\", \"gender\": \"Female\", \"age\": 60, \"department\": \"ICU\", \"admission_time\": \"2025-09-22T21:03:36.286890\", \"discharge_time\": \"2025-09-23T17:03:36.286890\", \"bed_id\": 306, \"hospital_id\": 1}"
        ],
        [
         "{\"patient_id\": \"33c89a7c-07fb-4619-9fb3-e107f0d1231c\", \"gender\": \"Female\", \"age\": 58, \"department\": \"ICU\", \"admission_time\": \"2025-09-21T16:09:59.541368\", \"discharge_time\": \"2025-09-22T15:09:59.541368\", \"bed_id\": 434, \"hospital_id\": 4}"
        ],
        [
         "{\"patient_id\": \"bb16a3dc-b63f-4c74-a324-4958ebeac600\", \"gender\": \"Male\", \"age\": 67, \"department\": \"Emergency\", \"admission_time\": \"2025-09-21T06:06:30.405630\", \"discharge_time\": \"2025-09-21T16:06:30.405630\", \"bed_id\": 63, \"hospital_id\": 5}"
        ],
        [
         "{\"patient_id\": \"d1f70e2e-66e4-437b-aa35-dada1dca34ec\", \"gender\": \"Male\", \"age\": 77, \"department\": \"Oncology\", \"admission_time\": \"2025-09-22T04:54:28.927018\", \"discharge_time\": \"2025-09-24T12:54:28.927018\", \"bed_id\": 11, \"hospital_id\": 6}"
        ],
        [
         "{\"patient_id\": \"28789177-7506-4a3e-916e-c1997101415b\", \"gender\": \"Female\", \"age\": 66, \"department\": \"ICU\", \"admission_time\": \"2025-09-23T02:01:58.220605\", \"discharge_time\": \"2025-09-24T22:01:58.220605\", \"bed_id\": 191, \"hospital_id\": 3}"
        ],
        [
         "{\"patient_id\": \"c29b267d-7018-4100-bff7-daaab2bc9145\", \"gender\": \"Female\", \"age\": 80, \"department\": \"ICU\", \"admission_time\": \"2025-09-22T17:06:10.390862\", \"discharge_time\": \"2025-09-24T03:06:10.390862\", \"bed_id\": 354, \"hospital_id\": 5}"
        ],
        [
         "{\"patient_id\": \"edfb6441-b732-4adc-92b0-3ac3a8e75a75\", \"gender\": \"Female\", \"age\": 59, \"department\": \"ICU\", \"admission_time\": \"2025-09-21T05:08:23.481613\", \"discharge_time\": \"2025-09-23T06:08:23.481613\", \"bed_id\": 257, \"hospital_id\": 1}"
        ],
        [
         "{\"patient_id\": \"4a3feba8-e5e3-4eb5-9df2-82165becebf6\", \"gender\": \"Female\", \"age\": 97, \"department\": \"ICU\", \"admission_time\": \"2025-09-22T22:00:20.157368\", \"discharge_time\": \"2025-09-23T07:00:20.157368\", \"bed_id\": 401, \"hospital_id\": 1}"
        ],
        [
         "{\"patient_id\": \"0c210a72-b10c-43fd-b67a-860f463b0d24\", \"gender\": \"Female\", \"age\": 33, \"department\": \"ICU\", \"admission_time\": \"2025-09-21T01:06:29.405037\", \"discharge_time\": \"2025-09-22T09:06:29.405037\", \"bed_id\": 187, \"hospital_id\": 3}"
        ],
        [
         "{\"patient_id\": \"ee970194-a53e-4e99-9515-d3a22e2a1955\", \"gender\": \"Female\", \"age\": 54, \"department\": \"ICU\", \"admission_time\": \"2025-09-23T06:00:29.162594\", \"discharge_time\": \"2025-09-24T01:00:29.162594\", \"bed_id\": 496, \"hospital_id\": 2}"
        ],
        [
         "{\"patient_id\": \"1e54f7e8-519f-43f5-835a-3f9dfdb81572\", \"gender\": \"Male\", \"age\": 16, \"department\": \"Oncology\", \"admission_time\": \"2025-09-22T13:05:52.377943\", \"discharge_time\": \"2025-09-25T03:05:52.377943\", \"bed_id\": 11, \"hospital_id\": 1}"
        ],
        [
         "{\"patient_id\": \"dfa24dae-4b80-438c-a82c-448e97b81d22\", \"gender\": \"Female\", \"age\": 11, \"department\": \"ICU\", \"admission_time\": \"2025-09-22T22:57:00.029390\", \"discharge_time\": \"2025-09-25T21:57:00.029390\", \"bed_id\": 144, \"hospital_id\": 7}"
        ],
        [
         "{\"patient_id\": \"5f162ff3-bafd-483f-a151-c6e3535a6397\", \"gender\": \"Male\", \"age\": 10, \"department\": \"Oncology\", \"admission_time\": \"2025-09-22T00:26:54.371585\", \"discharge_time\": \"2025-09-24T14:26:54.371585\", \"bed_id\": 10, \"hospital_id\": 6}"
        ],
        [
         "{\"patient_id\": \"87e6c435-03d5-48dd-bfd3-bf6a00fac642\", \"gender\": \"Female\", \"age\": 58, \"department\": \"ICU\", \"admission_time\": \"2025-09-25T19:26:24.351083\", \"discharge_time\": \"2025-09-23T15:26:24.351007\", \"bed_id\": 62, \"hospital_id\": 1}"
        ],
        [
         "{\"patient_id\": \"b16bdb96-94f9-4ed6-a4a8-bb341a431326\", \"gender\": \"Female\", \"age\": 70, \"department\": \"ICU\", \"admission_time\": \"2025-09-22T04:02:22.238223\", \"discharge_time\": \"2025-09-22T14:02:22.238223\", \"bed_id\": 200, \"hospital_id\": 1}"
        ],
        [
         "{\"patient_id\": \"d8584785-b71b-4619-866e-852dd69c9b03\", \"gender\": \"Female\", \"age\": 13, \"department\": \"ICU\", \"admission_time\": \"2025-09-22T00:53:23.884777\", \"discharge_time\": \"2025-09-22T20:53:23.884777\", \"bed_id\": 429, \"hospital_id\": 5}"
        ],
        [
         "{\"patient_id\": \"8fcced9d-f411-4ec9-a0a4-28f34fd9e837\", \"gender\": \"Female\", \"age\": 44, \"department\": \"ICU\", \"admission_time\": \"2025-09-22T21:10:26.562160\", \"discharge_time\": \"2025-09-25T00:10:26.562160\", \"bed_id\": 300, \"hospital_id\": 1}"
        ],
        [
         "{\"patient_id\": \"6224368c-f5c0-46af-a080-61f659367975\", \"gender\": \"Female\", \"age\": 17, \"department\": \"ICU\", \"admission_time\": \"2025-09-21T03:58:22.082242\", \"discharge_time\": \"2025-09-22T17:58:22.082242\", \"bed_id\": 495, \"hospital_id\": 7}"
        ],
        [
         "{\"patient_id\": \"26af4def-3de6-4e0d-b9bd-2caf04facd94\", \"gender\": \"Female\", \"age\": 94, \"department\": \"ICU\", \"admission_time\": \"2025-09-23T00:00:17.155419\", \"discharge_time\": \"2025-09-23T20:00:17.155419\", \"bed_id\": 150, \"hospital_id\": 2}"
        ],
        [
         "{\"patient_id\": \"9a925f5c-da2b-453a-b5f9-69cf18156ab5\", \"gender\": \"Female\", \"age\": 20, \"department\": \"ICU\", \"admission_time\": \"2025-09-21T05:55:36.976456\", \"discharge_time\": \"2025-09-21T19:55:36.976456\", \"bed_id\": 406, \"hospital_id\": 1}"
        ],
        [
         "{\"patient_id\": \"292a7e0b-6559-4685-9b71-c521bd9a9745\", \"gender\": \"Female\", \"age\": 92, \"department\": \"ICU\", \"admission_time\": \"2025-09-22T02:06:27.404091\", \"discharge_time\": \"2025-09-22T10:06:27.404091\", \"bed_id\": 344, \"hospital_id\": 1}"
        ],
        [
         "{\"patient_id\": \"9b847824-b686-4463-8f18-d254c1ce2df4\", \"gender\": \"Female\", \"age\": 13, \"department\": \"ICU\", \"admission_time\": \"2025-09-22T09:02:32.245047\", \"discharge_time\": \"2025-09-24T07:02:32.245047\", \"bed_id\": 55, \"hospital_id\": 5}"
        ],
        [
         "{\"patient_id\": \"6b088e63-cd78-469b-8596-3400ff357a48\", \"gender\": \"Male\", \"age\": 3, \"department\": \"Maternity\", \"admission_time\": \"2025-09-21T10:08:35.489044\", \"discharge_time\": \"2025-09-21T18:08:35.489044\", \"bed_id\": 150, \"hospital_id\": 7}"
        ],
        [
         "{\"patient_id\": \"605376ff-31e2-40a0-b054-2f92ad875c24\", \"gender\": \"Female\", \"age\": 22, \"department\": \"ICU\", \"admission_time\": \"2025-09-21T22:59:10.113304\", \"discharge_time\": \"2025-09-23T22:59:10.113304\", \"bed_id\": 160, \"hospital_id\": 7}"
        ],
        [
         "{\"patient_id\": \"8254e581-fa22-4afe-813d-df79fcfa875d\", \"gender\": \"Female\", \"age\": 27, \"department\": \"ICU\", \"admission_time\": \"2025-09-24T01:09:16.514898\", \"discharge_time\": \"2025-09-23T17:09:16.514828\", \"bed_id\": 36, \"hospital_id\": 7}"
        ],
        [
         "{\"patient_id\": \"287eff68-c13b-4f92-a02c-1a2bc2ba2ae5\", \"gender\": \"Female\", \"age\": 19, \"department\": \"ICU\", \"admission_time\": \"2025-09-20T19:58:55.103180\", \"discharge_time\": \"2025-09-20T20:58:55.103180\", \"bed_id\": 395, \"hospital_id\": 5}"
        ],
        [
         "{\"patient_id\": \"fcab0127-0177-47f0-9c47-2037f95c2dc5\", \"gender\": \"Male\", \"age\": 5, \"department\": \"Emergency\", \"admission_time\": \"2025-09-22T00:07:58.466740\", \"discharge_time\": \"2025-09-22T16:07:58.466740\", \"bed_id\": 43, \"hospital_id\": 1}"
        ],
        [
         "{\"patient_id\": \"cba2fe74-7cc4-4606-8faa-1d6ac1bcc316\", \"gender\": \"Female\", \"age\": 16, \"department\": \"ICU\", \"admission_time\": \"2025-09-21T13:09:34.524401\", \"discharge_time\": \"2025-09-21T15:09:34.524401\", \"bed_id\": 207, \"hospital_id\": 5}"
        ],
        [
         "{\"patient_id\": \"4d5617a3-08a0-405f-8fc7-52a4cd17d096\", \"gender\": \"Female\", \"age\": 22, \"department\": \"ICU\", \"admission_time\": \"2025-09-20T12:00:31.164120\", \"discharge_time\": \"2025-09-20T18:00:31.164120\", \"bed_id\": 130, \"hospital_id\": 2}"
        ],
        [
         "{\"patient_id\": \"740594eb-35bd-4457-a0e9-0a7b634f8caa\", \"gender\": \"Female\", \"age\": 49, \"department\": \"ICU\", \"admission_time\": \"2025-09-22T20:55:31.973692\", \"discharge_time\": \"2025-09-24T13:55:31.973692\", \"bed_id\": 349, \"hospital_id\": 7}"
        ],
        [
         "{\"patient_id\": \"afa996a6-3898-4a0e-ad12-92e64f6e3887\", \"gender\": \"Female\", \"age\": 68, \"department\": \"ICU\", \"admission_time\": \"2025-09-20T19:02:15.232050\", \"discharge_time\": \"2025-09-22T05:02:15.232050\", \"bed_id\": 58, \"hospital_id\": 3}"
        ],
        [
         "{\"patient_id\": \"19667926-d747-41ab-832b-cc5625c17996\", \"gender\": \"Female\", \"age\": 112, \"department\": \"ICU\", \"admission_time\": \"2025-09-22T04:03:16.274713\", \"discharge_time\": \"2025-09-22T16:03:16.274713\", \"bed_id\": 98, \"hospital_id\": 7}"
        ],
        [
         "{\"patient_id\": \"c295b3f3-cab9-4644-adb2-73ff63710008\", \"gender\": \"Female\", \"age\": 16, \"department\": \"ICU\", \"admission_time\": \"2025-09-20T10:02:10.229125\", \"discharge_time\": \"2025-09-20T13:02:10.229125\", \"bed_id\": 184, \"hospital_id\": 7}"
        ],
        [
         "{\"patient_id\": \"91aab80e-d844-41b0-b5ad-639dd3d92e60\", \"gender\": \"Female\", \"age\": 104, \"department\": \"ICU\", \"admission_time\": \"2025-09-21T20:26:22.349608\", \"discharge_time\": \"2025-09-22T11:26:22.349608\", \"bed_id\": 89, \"hospital_id\": 3}"
        ],
        [
         "{\"patient_id\": \"9c43b0fd-dd52-4a4b-a9e1-c02a510b188c\", \"gender\": \"Male\", \"age\": 5, \"department\": \"Emergency\", \"admission_time\": \"2025-09-21T06:57:28.048529\", \"discharge_time\": \"2025-09-22T06:57:28.048529\", \"bed_id\": 79, \"hospital_id\": 4}"
        ],
        [
         "{\"patient_id\": \"94e7990b-4c7b-4f37-bec9-e1a100c6606e\", \"gender\": \"Male\", \"age\": 57, \"department\": \"Oncology\", \"admission_time\": \"2025-09-22T11:56:40.016803\", \"discharge_time\": \"2025-09-24T20:56:40.016803\", \"bed_id\": 8, \"hospital_id\": 5}"
        ],
        [
         "{\"patient_id\": \"261fe9b5-3624-455c-b9b6-8a7cc617ac93\", \"gender\": \"Male\", \"age\": 68, \"department\": \"Surgery\", \"admission_time\": \"2025-09-20T11:55:29.972045\", \"discharge_time\": \"2025-09-22T03:55:29.972045\", \"bed_id\": 66, \"hospital_id\": 2}"
        ],
        [
         "{\"patient_id\": \"c4500ee3-d9dc-4283-835c-5322c6106226\", \"gender\": \"Female\", \"age\": 86, \"department\": \"ICU\", \"admission_time\": \"2025-09-22T08:07:33.449524\", \"discharge_time\": \"2025-09-24T02:07:33.449524\", \"bed_id\": 44, \"hospital_id\": 5}"
        ],
        [
         "{\"patient_id\": \"ae41f4a5-d4be-45f2-9674-1f0dca4249de\", \"gender\": \"Female\", \"age\": 72, \"department\": \"ICU\", \"admission_time\": \"2025-09-21T09:26:34.358114\", \"discharge_time\": \"2025-09-23T22:26:34.358114\", \"bed_id\": 35, \"hospital_id\": 6}"
        ],
        [
         "{\"patient_id\": \"29a67271-41fe-414e-ac4c-2c183201fdd8\", \"gender\": \"Female\", \"age\": 69, \"department\": \"ICU\", \"admission_time\": \"2025-09-20T16:03:02.264496\", \"discharge_time\": \"2025-09-21T18:03:02.264496\", \"bed_id\": 50, \"hospital_id\": 2}"
        ],
        [
         "{\"patient_id\": \"c17be048-7b1f-4b03-9d3d-e1a14f3aaf57\", \"gender\": \"Male\", \"age\": 8, \"department\": \"Pediatrics\", \"admission_time\": \"2025-09-22T17:09:12.510481\", \"discharge_time\": \"2025-09-25T17:09:12.510481\", \"bed_id\": 6, \"hospital_id\": 6}"
        ],
        [
         "{\"patient_id\": \"1bb29a7e-3a3b-494a-8ae6-206ccb3482e6\", \"gender\": \"Female\", \"age\": 83, \"department\": \"ICU\", \"admission_time\": \"2025-09-21T19:54:10.916001\", \"discharge_time\": \"2025-09-24T19:54:10.916001\", \"bed_id\": 10, \"hospital_id\": 7}"
        ],
        [
         "{\"patient_id\": \"be6878a9-fc4a-4b49-a5d5-5d567d27ccde\", \"gender\": \"Female\", \"age\": 10, \"department\": \"ICU\", \"admission_time\": \"2025-09-20T09:01:49.213740\", \"discharge_time\": \"2025-09-21T17:01:49.213740\", \"bed_id\": 22, \"hospital_id\": 6}"
        ],
        [
         "{\"patient_id\": \"759accf3-b735-4fa2-b10e-0594f581ad19\", \"gender\": \"Female\", \"age\": 65, \"department\": \"ICU\", \"admission_time\": \"2025-09-21T23:08:44.493083\", \"discharge_time\": \"2025-09-24T14:08:44.493083\", \"bed_id\": 18, \"hospital_id\": 2}"
        ],
        [
         "{\"patient_id\": \"a14acb43-c2eb-46be-835e-384e6babf9bf\", \"gender\": \"Female\", \"age\": 99, \"department\": \"ICU\", \"admission_time\": \"2025-09-22T09:06:33.407599\", \"discharge_time\": \"2025-09-24T04:06:33.407599\", \"bed_id\": 82, \"hospital_id\": 2}"
        ],
        [
         "{\"patient_id\": \"b7aa7a92-9343-467a-99e4-c7b39f33c100\", \"gender\": \"Female\", \"age\": 28, \"department\": \"ICU\", \"admission_time\": \"2025-09-20T11:00:07.150059\", \"discharge_time\": \"2025-09-21T14:00:07.150059\", \"bed_id\": 33, \"hospital_id\": 6}"
        ],
        [
         "{\"patient_id\": \"6d42d59a-4878-4bc2-b79b-048310d9fdf6\", \"gender\": \"Female\", \"age\": 79, \"department\": \"ICU\", \"admission_time\": \"2025-09-20T16:04:25.322745\", \"discharge_time\": \"2025-09-22T07:04:25.322745\", \"bed_id\": 38, \"hospital_id\": 6}"
        ],
        [
         "{\"patient_id\": \"577bf56a-edd3-4fab-954b-cb5bf2c21715\", \"gender\": \"Female\", \"age\": 75, \"department\": \"ICU\", \"admission_time\": \"2025-09-22T11:02:08.227635\", \"discharge_time\": \"2025-09-24T06:02:08.227635\", \"bed_id\": 59, \"hospital_id\": 7}"
        ],
        [
         "{\"patient_id\": \"145c769a-1360-40ae-a2b1-8b5137e44a87\", \"gender\": \"Female\", \"age\": 51, \"department\": \"ICU\", \"admission_time\": \"2025-09-21T15:02:35.246432\", \"discharge_time\": \"2025-09-23T17:02:35.246432\", \"bed_id\": 82, \"hospital_id\": 2}"
        ],
        [
         "{\"patient_id\": \"6dc18cac-e514-447d-ab78-ab120bb5a0af\", \"gender\": \"Female\", \"age\": 59, \"department\": \"ICU\", \"admission_time\": \"2025-09-22T07:06:24.402638\", \"discharge_time\": \"2025-09-25T03:06:24.402638\", \"bed_id\": 36, \"hospital_id\": 4}"
        ],
        [
         "{\"patient_id\": \"c6198e56-5fa0-4e7c-a22e-f7914c08c226\", \"gender\": \"Male\", \"age\": 21, \"department\": \"Oncology\", \"admission_time\": \"2025-09-20T22:26:57.373385\", \"discharge_time\": \"2025-09-22T19:26:57.373385\", \"bed_id\": 5, \"hospital_id\": 4}"
        ],
        [
         "{\"patient_id\": \"faacbcf1-ad32-4f66-9c35-18203a563ae3\", \"gender\": \"Male\", \"age\": 13, \"department\": \"Oncology\", \"admission_time\": \"2025-09-21T16:00:53.177583\", \"discharge_time\": \"2025-09-23T18:00:53.177583\", \"bed_id\": 3, \"hospital_id\": 2}"
        ],
        [
         "{\"patient_id\": \"aad71f4c-0d5b-422f-a792-026160f60a4a\", \"gender\": \"Male\", \"age\": 28, \"department\": \"Oncology\", \"admission_time\": \"2025-09-21T13:06:04.386014\", \"discharge_time\": \"2025-09-23T13:06:04.386014\", \"bed_id\": 6, \"hospital_id\": 4}"
        ],
        [
         "{\"patient_id\": \"de21f9df-d8e4-4eca-bf49-7f783df4ca1c\", \"gender\": \"Female\", \"age\": 41, \"department\": \"ICU\", \"admission_time\": \"2025-09-21T12:05:54.378841\", \"discharge_time\": \"2025-09-22T15:05:54.378841\", \"bed_id\": 71, \"hospital_id\": 3}"
        ],
        [
         "{\"patient_id\": \"7af82940-c9fb-4bf0-a108-53e07cd29fde\", \"gender\": \"Male\", \"age\": 61, \"department\": \"Oncology\", \"admission_time\": \"2025-09-21T06:07:29.445896\", \"discharge_time\": \"2025-09-21T23:07:29.445896\", \"bed_id\": 1, \"hospital_id\": 4}"
        ],
        [
         "{\"patient_id\": \"cf12fbb8-bf66-4a6c-a7ae-3bd9eece6915\", \"gender\": \"Male\", \"age\": 5, \"department\": \"ICU\", \"admission_time\": \"2025-09-23T03:06:58.425833\", \"discharge_time\": \"2025-09-24T09:06:58.425833\", \"bed_id\": 152, \"hospital_id\": 7}"
        ],
        [
         "{\"patient_id\": \"3f4ccfd3-03ad-453b-b1ed-977b518b03b6\", \"gender\": \"Male\", \"age\": 3, \"department\": \"ICU\", \"admission_time\": \"2025-09-21T14:06:51.421318\", \"discharge_time\": \"2025-09-22T11:06:51.421318\", \"bed_id\": 253, \"hospital_id\": 1}"
        ],
        [
         "{\"patient_id\": \"fdb0b5f8-f922-481f-b743-1b64fc037934\", \"gender\": \"Male\", \"age\": 57, \"department\": \"ICU\", \"admission_time\": \"2025-09-24T08:00:57.179434\", \"discharge_time\": \"2025-09-23T07:00:57.179362\", \"bed_id\": 343, \"hospital_id\": 1}"
        ],
        [
         "{\"patient_id\": \"09b6f0aa-59c7-47fa-b46f-8c844ef3b444\", \"gender\": \"Male\", \"age\": 2, \"department\": \"ICU\", \"admission_time\": \"2025-09-21T20:03:40.288974\", \"discharge_time\": \"2025-09-22T21:03:40.288974\", \"bed_id\": 283, \"hospital_id\": 6}"
        ],
        [
         "{\"patient_id\": \"0cf899cd-c7b0-481e-b460-2f63c6efd386\", \"gender\": \"Male\", \"age\": 2, \"department\": \"ICU\", \"admission_time\": \"2025-09-23T01:53:45.898985\", \"discharge_time\": \"2025-09-24T20:53:45.898985\", \"bed_id\": 284, \"hospital_id\": 2}"
        ],
        [
         "{\"patient_id\": \"bc605664-b738-483e-ac72-65e11771aafe\", \"gender\": \"Male\", \"age\": 4, \"department\": \"ICU\", \"admission_time\": \"2025-09-20T12:25:33.314436\", \"discharge_time\": \"2025-09-22T05:25:33.314436\", \"bed_id\": 109, \"hospital_id\": 4}"
        ],
        [
         "{\"patient_id\": \"521b7399-c728-4eab-bc4d-74bc31b2932c\", \"gender\": \"Male\", \"age\": 8, \"department\": \"ICU\", \"admission_time\": \"2025-09-20T10:58:35.090241\", \"discharge_time\": \"2025-09-21T04:58:35.090241\", \"bed_id\": 220, \"hospital_id\": 7}"
        ],
        [
         "{\"patient_id\": \"0b9efb26-a812-42b2-9c31-034a96124fa4\", \"gender\": \"Male\", \"age\": 5, \"department\": \"ICU\", \"admission_time\": \"2025-09-22T06:05:33.364439\", \"discharge_time\": \"2025-09-23T07:05:33.364439\", \"bed_id\": 315, \"hospital_id\": 2}"
        ],
        [
         "{\"patient_id\": \"84490a9d-ec63-4fbc-9d61-e9ec3eb70f59\", \"gender\": \"Female\", \"age\": 86, \"department\": \"ICU\", \"admission_time\": \"2025-09-22T09:59:16.117520\", \"discharge_time\": \"2025-09-22T12:59:16.117520\", \"bed_id\": 9, \"hospital_id\": 1}"
        ],
        [
         "{\"patient_id\": \"0aed0408-6d51-4b74-887f-5e48efc94294\", \"gender\": \"Male\", \"age\": 9, \"department\": \"ICU\", \"admission_time\": \"2025-09-21T14:58:08.073455\", \"discharge_time\": \"2025-09-21T20:58:08.073455\", \"bed_id\": 321, \"hospital_id\": 4}"
        ],
        [
         "{\"patient_id\": \"406051b9-5f2c-4aec-97b1-39118593ef5a\", \"gender\": \"Female\", \"age\": 4, \"department\": \"ICU\", \"admission_time\": \"2025-09-21T14:04:26.323175\", \"discharge_time\": \"2025-09-24T00:04:26.323175\", \"bed_id\": 410, \"hospital_id\": 2}"
        ],
        [
         "{\"patient_id\": \"079069bd-5573-423e-993b-07321ca5febb\", \"gender\": \"Male\", \"age\": 55, \"department\": \"ICU\", \"admission_time\": \"2025-09-21T07:04:53.340625\", \"discharge_time\": \"2025-09-21T20:04:53.340625\", \"bed_id\": 482, \"hospital_id\": 7}"
        ],
        [
         "{\"patient_id\": \"1f5697aa-02d4-4c11-a53c-6cdac4bb1fb9\", \"gender\": \"Male\", \"age\": 69, \"department\": \"ICU\", \"admission_time\": \"2025-09-26T07:04:08.309586\", \"discharge_time\": \"2025-09-24T00:04:08.309480\", \"bed_id\": 43, \"hospital_id\": 4}"
        ],
        [
         "{\"patient_id\": \"4678bd03-43ef-4eb2-97ce-773a2ae029af\", \"gender\": \"Male\", \"age\": 6, \"department\": \"ICU\", \"admission_time\": \"2025-09-22T07:09:33.523947\", \"discharge_time\": \"2025-09-24T17:09:33.523947\", \"bed_id\": 464, \"hospital_id\": 6}"
        ],
        [
         "{\"patient_id\": \"eb76c1ea-ec7f-4ea4-9a3e-ac2147b622b8\", \"gender\": \"Male\", \"age\": 15, \"department\": \"ICU\", \"admission_time\": \"2025-09-22T07:00:22.158280\", \"discharge_time\": \"2025-09-24T23:00:22.158280\", \"bed_id\": 231, \"hospital_id\": 1}"
        ],
        [
         "{\"patient_id\": \"2117d07d-6a55-4f70-a4f4-4a18fbee9db3\", \"gender\": \"Male\", \"age\": 86, \"department\": \"ICU\", \"admission_time\": \"2025-09-20T20:08:32.487270\", \"discharge_time\": \"2025-09-21T18:08:32.487270\", \"bed_id\": 381, \"hospital_id\": 6}"
        ],
        [
         "{\"patient_id\": \"f6bd4abf-464e-4b50-ad14-84055f7961de\", \"gender\": \"Male\", \"age\": 89, \"department\": \"ICU\", \"admission_time\": \"2025-09-23T07:26:45.364572\", \"discharge_time\": \"2025-09-25T04:26:45.364572\", \"bed_id\": 258, \"hospital_id\": 6}"
        ],
        [
         "{\"patient_id\": \"0afcfba5-f574-477e-98fc-258e9f100141\", \"gender\": \"Male\", \"age\": 61, \"department\": \"ICU\", \"admission_time\": \"2025-09-22T02:26:53.371159\", \"discharge_time\": \"2025-09-23T19:26:53.371159\", \"bed_id\": 332, \"hospital_id\": 1}"
        ],
        [
         "{\"patient_id\": \"3ecf42de-bacc-4b5f-90c0-274d8b75c669\", \"gender\": \"Male\", \"age\": 38, \"department\": \"ICU\", \"admission_time\": \"2025-09-21T02:00:00.145506\", \"discharge_time\": \"2025-09-22T21:00:00.145506\", \"bed_id\": 287, \"hospital_id\": 7}"
        ],
        [
         "{\"patient_id\": \"7858c191-fb0f-484c-b391-71a3085935a2\", \"gender\": \"Male\", \"age\": 53, \"department\": \"ICU\", \"admission_time\": \"2025-09-23T05:55:39.977818\", \"discharge_time\": \"2025-09-24T23:55:39.977818\", \"bed_id\": 269, \"hospital_id\": 5}"
        ],
        [
         "{\"patient_id\": \"4dc3d331-cf36-4cc4-8016-f45fb09f9cbd\", \"gender\": \"Female\", \"age\": 9, \"department\": \"ICU\", \"admission_time\": \"2025-09-20T07:06:13.393148\", \"discharge_time\": \"2025-09-22T08:06:13.393148\", \"bed_id\": 247, \"hospital_id\": 3}"
        ],
        [
         "{\"patient_id\": \"554e7929-25fa-416f-a2d5-7e59a989a289\", \"gender\": \"Male\", \"age\": 18, \"department\": \"ICU\", \"admission_time\": \"2025-09-23T00:56:26.008395\", \"discharge_time\": \"2025-09-24T06:56:26.008395\", \"bed_id\": 222, \"hospital_id\": 1}"
        ],
        [
         "{\"patient_id\": \"9845675f-dfdb-414a-a2c6-7cbf5d382886\", \"gender\": \"Male\", \"age\": 53, \"department\": \"ICU\", \"admission_time\": \"2025-09-23T13:10:35.569147\", \"discharge_time\": \"2025-09-26T03:10:35.569076\", \"bed_id\": 258, \"hospital_id\": 2}"
        ],
        [
         "{\"patient_id\": \"358e2e5d-42fc-4a88-80cf-6f96a0e653bd\", \"gender\": \"Male\", \"age\": 62, \"department\": \"ICU\", \"admission_time\": \"2025-09-25T06:26:27.353685\", \"discharge_time\": \"2025-09-22T18:26:27.353612\", \"bed_id\": 24, \"hospital_id\": 3}"
        ],
        [
         "{\"patient_id\": \"d2f527ec-66a3-4b15-8849-b181d601feea\", \"gender\": \"Female\", \"age\": 3, \"department\": \"ICU\", \"admission_time\": \"2025-09-20T20:09:24.518906\", \"discharge_time\": \"2025-09-22T05:09:24.518906\", \"bed_id\": 224, \"hospital_id\": 4}"
        ],
        [
         "{\"patient_id\": \"9f8859f6-d414-4d50-ba4d-11eab9254087\", \"gender\": \"Female\", \"age\": 1, \"department\": \"ICU\", \"admission_time\": \"2025-09-23T00:04:52.340086\", \"discharge_time\": \"2025-09-23T15:04:52.340086\", \"bed_id\": 140, \"hospital_id\": 4}"
        ],
        [
         "{\"patient_id\": \"87360dfe-9789-4343-9075-c303af8e4b22\", \"gender\": \"Male\", \"age\": 15, \"department\": \"ICU\", \"admission_time\": \"2025-09-23T00:56:46.021244\", \"discharge_time\": \"2025-09-23T18:56:46.021244\", \"bed_id\": 184, \"hospital_id\": 1}"
        ],
        [
         "{\"patient_id\": \"d27ca297-890d-4f19-886f-0cbd968d49e5\", \"gender\": \"Female\", \"age\": 1, \"department\": \"ICU\", \"admission_time\": \"2025-09-22T15:02:43.251339\", \"discharge_time\": \"2025-09-23T11:02:43.251339\", \"bed_id\": 346, \"hospital_id\": 2}"
        ],
        [
         "{\"patient_id\": \"ffa00912-958c-4e7a-9bd3-b428e1ff94e6\", \"gender\": \"Male\", \"age\": 139, \"department\": \"ICU\", \"admission_time\": \"2025-09-23T08:53:54.904251\", \"discharge_time\": \"2025-09-22T04:53:54.904163\", \"bed_id\": 67, \"hospital_id\": 2}"
        ],
        [
         "{\"patient_id\": \"801e8900-adbd-4c1b-b38c-04bb0f5d6c49\", \"gender\": \"Male\", \"age\": 39, \"department\": \"ICU\", \"admission_time\": \"2025-09-23T01:07:01.427272\", \"discharge_time\": \"2025-09-25T12:07:01.427272\", \"bed_id\": 327, \"hospital_id\": 7}"
        ],
        [
         "{\"patient_id\": \"af7c433c-4710-462c-940a-9787780ec2d2\", \"gender\": \"Male\", \"age\": 100, \"department\": \"ICU\", \"admission_time\": \"2025-09-21T09:05:02.346763\", \"discharge_time\": \"2025-09-22T20:05:02.346763\", \"bed_id\": 159, \"hospital_id\": 1}"
        ],
        [
         "{\"patient_id\": \"178997e5-a1ae-4973-9117-bf5b724cef7c\", \"gender\": \"Male\", \"age\": 12, \"department\": \"ICU\", \"admission_time\": \"2025-09-23T05:08:38.490386\", \"discharge_time\": \"2025-09-25T11:08:38.490386\", \"bed_id\": 462, \"hospital_id\": 7}"
        ],
        [
         "{\"patient_id\": \"b8651460-9933-429e-bcc4-d3cc69f947b5\", \"gender\": \"Male\", \"age\": 63, \"department\": \"ICU\", \"admission_time\": \"2025-09-20T06:57:18.042657\", \"discharge_time\": \"2025-09-22T15:57:18.042657\", \"bed_id\": 378, \"hospital_id\": 7}"
        ],
        [
         "{\"patient_id\": \"5bec4d97-dfc2-4107-a31f-e2343bc6bd3a\", \"gender\": \"Male\", \"age\": 66, \"department\": \"ICU\", \"admission_time\": \"2025-09-22T22:03:32.285113\", \"discharge_time\": \"2025-09-24T13:03:32.285113\", \"bed_id\": 473, \"hospital_id\": 4}"
        ],
        [
         "{\"patient_id\": \"37721c57-a9f6-4284-9161-4c9a89be133e\", \"gender\": \"Male\", \"age\": 16, \"department\": \"ICU\", \"admission_time\": \"2025-09-22T03:26:41.361921\", \"discharge_time\": \"2025-09-23T20:26:41.361921\", \"bed_id\": 105, \"hospital_id\": 1}"
        ],
        [
         "{\"patient_id\": \"f27f439b-08b8-44c2-a39b-389207088c4a\", \"gender\": \"Male\", \"age\": 120, \"department\": \"ICU\", \"admission_time\": \"2025-09-23T06:53:37.894026\", \"discharge_time\": \"2025-09-25T00:53:37.894026\", \"bed_id\": 341, \"hospital_id\": 1}"
        ],
        [
         "{\"patient_id\": \"46aa45cf-d58a-4ddf-9380-1492d756d7ba\", \"gender\": \"Male\", \"age\": 24, \"department\": \"ICU\", \"admission_time\": \"2025-09-23T06:07:05.429083\", \"discharge_time\": \"2025-09-26T05:07:05.429083\", \"bed_id\": 149, \"hospital_id\": 5}"
        ],
        [
         "{\"patient_id\": \"95a656b1-7aee-4327-bd8f-74321bb68b40\", \"gender\": \"Male\", \"age\": 60, \"department\": \"ICU\", \"admission_time\": \"2025-09-21T11:04:49.338641\", \"discharge_time\": \"2025-09-22T10:04:49.338641\", \"bed_id\": 173, \"hospital_id\": 1}"
        ],
        [
         "{\"patient_id\": \"b9f651b6-be4b-49bd-8ad7-d606ec50600f\", \"gender\": \"Male\", \"age\": 66, \"department\": \"ICU\", \"admission_time\": \"2025-09-21T19:26:14.343590\", \"discharge_time\": \"2025-09-23T11:26:14.343590\", \"bed_id\": 459, \"hospital_id\": 7}"
        ],
        [
         "{\"patient_id\": \"1ba523ea-a100-4f6c-adb4-16cdf3776d07\", \"gender\": \"Male\", \"age\": 74, \"department\": \"ICU\", \"admission_time\": \"2025-09-21T09:07:26.443450\", \"discharge_time\": \"2025-09-24T04:07:26.443450\", \"bed_id\": 455, \"hospital_id\": 6}"
        ],
        [
         "{\"patient_id\": \"47fac059-749b-4a67-87ab-2b801a4b6195\", \"gender\": \"Male\", \"age\": 70, \"department\": \"ICU\", \"admission_time\": \"2025-09-22T19:55:27.971144\", \"discharge_time\": \"2025-09-23T11:55:27.971144\", \"bed_id\": 190, \"hospital_id\": 2}"
        ],
        [
         "{\"patient_id\": \"9a420239-c567-4354-a79d-1e487b2681b2\", \"gender\": \"Male\", \"age\": 49, \"department\": \"ICU\", \"admission_time\": \"2025-09-20T19:08:27.483870\", \"discharge_time\": \"2025-09-22T16:08:27.483870\", \"bed_id\": 110, \"hospital_id\": 5}"
        ],
        [
         "{\"patient_id\": \"88fda607-6a50-4d30-888b-626d25084ea9\", \"gender\": \"Male\", \"age\": 58, \"department\": \"ICU\", \"admission_time\": \"2025-09-22T13:52:52.860990\", \"discharge_time\": \"2025-09-23T20:52:52.860990\", \"bed_id\": 431, \"hospital_id\": 2}"
        ],
        [
         "{\"patient_id\": \"f8c13500-04c5-4799-b1af-68b37e9e67ac\", \"gender\": \"Male\", \"age\": 50, \"department\": \"ICU\", \"admission_time\": \"2025-09-20T13:57:03.031901\", \"discharge_time\": \"2025-09-23T04:57:03.031901\", \"bed_id\": 205, \"hospital_id\": 2}"
        ],
        [
         "{\"patient_id\": \"7e4282c4-617e-4983-9ed9-20f6e0ea1f12\", \"gender\": \"Male\", \"age\": 13, \"department\": \"ICU\", \"admission_time\": \"2025-09-20T07:58:49.099265\", \"discharge_time\": \"2025-09-21T20:58:49.099265\", \"bed_id\": 160, \"hospital_id\": 2}"
        ],
        [
         "{\"patient_id\": \"e192ecf2-3aba-45e0-b929-ab61a2f740e7\", \"gender\": \"Male\", \"age\": 64, \"department\": \"ICU\", \"admission_time\": \"2025-09-21T14:09:46.532969\", \"discharge_time\": \"2025-09-22T22:09:46.532969\", \"bed_id\": 406, \"hospital_id\": 7}"
        ],
        [
         "{\"patient_id\": \"119878d9-08c3-4255-84ef-5507eec61f44\", \"gender\": \"Male\", \"age\": 94, \"department\": \"ICU\", \"admission_time\": \"2025-09-21T12:10:28.563231\", \"discharge_time\": \"2025-09-22T04:10:28.563231\", \"bed_id\": 393, \"hospital_id\": 4}"
        ],
        [
         "{\"patient_id\": \"7225b4fc-db87-492d-b134-b42b466bd74d\", \"gender\": \"Male\", \"age\": 85, \"department\": \"ICU\", \"admission_time\": \"2025-09-21T20:09:45.532439\", \"discharge_time\": \"2025-09-24T10:09:45.532439\", \"bed_id\": 305, \"hospital_id\": 3}"
        ],
        [
         "{\"patient_id\": \"4cc02882-33d4-446d-9970-db4e81297df1\", \"gender\": \"Male\", \"age\": 79, \"department\": \"ICU\", \"admission_time\": \"2025-09-22T02:53:25.885636\", \"discharge_time\": \"2025-09-24T05:53:25.885636\", \"bed_id\": 260, \"hospital_id\": 1}"
        ],
        [
         "{\"patient_id\": \"ab22d0b4-8604-4e7e-a872-261f2ef7728b\", \"gender\": \"Male\", \"age\": 51, \"department\": \"ICU\", \"admission_time\": \"2025-09-21T07:02:07.226678\", \"discharge_time\": \"2025-09-22T10:02:07.226678\", \"bed_id\": 497, \"hospital_id\": 3}"
        ],
        [
         "{\"patient_id\": \"9fe5c65a-fb95-43ac-a72f-72338ab85e0f\", \"gender\": \"Male\", \"age\": 87, \"department\": \"ICU\", \"admission_time\": \"2025-09-22T22:10:13.550744\", \"discharge_time\": \"2025-09-23T19:10:13.550744\", \"bed_id\": 316, \"hospital_id\": 2}"
        ],
        [
         "{\"patient_id\": \"981df670-7bf0-4de3-8a91-0e8ca8228ed1\", \"gender\": \"Male\", \"age\": 99, \"department\": \"ICU\", \"admission_time\": \"2025-09-22T15:03:10.270061\", \"discharge_time\": \"2025-09-23T11:03:10.270061\", \"bed_id\": 416, \"hospital_id\": 1}"
        ],
        [
         "{\"patient_id\": \"67d951fe-1ca4-48a4-9dde-aee71f41ca8c\", \"gender\": \"Male\", \"age\": 87, \"department\": \"ICU\", \"admission_time\": \"2025-09-20T13:10:31.565271\", \"discharge_time\": \"2025-09-22T05:10:31.565271\", \"bed_id\": 341, \"hospital_id\": 7}"
        ],
        [
         "{\"patient_id\": \"4017858f-c6ba-4097-9ef5-526b8e33cba2\", \"gender\": \"Male\", \"age\": 89, \"department\": \"ICU\", \"admission_time\": \"2025-09-22T18:54:46.939415\", \"discharge_time\": \"2025-09-24T05:54:46.939415\", \"bed_id\": 274, \"hospital_id\": 5}"
        ],
        [
         "{\"patient_id\": \"06c1d4d7-aba2-4be8-8bdc-f5fcb9dc580c\", \"gender\": \"Male\", \"age\": 61, \"department\": \"ICU\", \"admission_time\": \"2025-09-23T05:02:42.250641\", \"discharge_time\": \"2025-09-25T10:02:42.250641\", \"bed_id\": 450, \"hospital_id\": 1}"
        ],
        [
         "{\"patient_id\": \"1425b7d9-b39b-45ef-a2c5-7ab9078c15c4\", \"gender\": \"Male\", \"age\": 22, \"department\": \"ICU\", \"admission_time\": \"2025-09-20T12:00:18.156448\", \"discharge_time\": \"2025-09-22T06:00:18.156448\", \"bed_id\": 187, \"hospital_id\": 2}"
        ],
        [
         "{\"patient_id\": \"3c9ec03c-6408-43a1-aee2-da23e471c347\", \"gender\": \"Male\", \"age\": 25, \"department\": \"ICU\", \"admission_time\": \"2025-09-21T23:05:32.364026\", \"discharge_time\": \"2025-09-24T00:05:32.364026\", \"bed_id\": 277, \"hospital_id\": 4}"
        ],
        [
         "{\"patient_id\": \"710e7891-d41a-4a22-9238-1965616a1b85\", \"gender\": \"Male\", \"age\": 80, \"department\": \"ICU\", \"admission_time\": \"2025-09-21T10:55:25.969592\", \"discharge_time\": \"2025-09-23T18:55:25.969592\", \"bed_id\": 272, \"hospital_id\": 3}"
        ],
        [
         "{\"patient_id\": \"bfcb1c1b-aa89-4f26-a3c5-5949a2776877\", \"gender\": \"Male\", \"age\": 83, \"department\": \"ICU\", \"admission_time\": \"2025-09-20T12:02:19.235750\", \"discharge_time\": \"2025-09-22T19:02:19.235750\", \"bed_id\": 150, \"hospital_id\": 1}"
        ],
        [
         "{\"patient_id\": \"dc876c3b-9e73-4e9e-be4a-7401e4c2ef0e\", \"gender\": \"Female\", \"age\": 9, \"department\": \"ICU\", \"admission_time\": \"2025-09-22T07:55:43.980604\", \"discharge_time\": \"2025-09-22T22:55:43.980604\", \"bed_id\": 260, \"hospital_id\": 3}"
        ],
        [
         "{\"patient_id\": \"748bf350-e580-4090-a3f1-30aa5dcb06e1\", \"gender\": \"Male\", \"age\": 12, \"department\": \"ICU\", \"admission_time\": \"2025-09-22T21:58:32.088326\", \"discharge_time\": \"2025-09-24T04:58:32.088326\", \"bed_id\": 166, \"hospital_id\": 7}"
        ],
        [
         "{\"patient_id\": \"9ddfce12-b91b-4ba2-934f-ac5c0be6d777\", \"gender\": \"Male\", \"age\": 50, \"department\": \"ICU\", \"admission_time\": \"2025-09-23T01:26:58.373841\", \"discharge_time\": \"2025-09-24T22:26:58.373841\", \"bed_id\": 207, \"hospital_id\": 4}"
        ],
        [
         "{\"patient_id\": \"58a82551-b768-4a46-9142-7dbe7435bb38\", \"gender\": \"Male\", \"age\": 63, \"department\": \"ICU\", \"admission_time\": \"2025-09-21T01:01:20.192507\", \"discharge_time\": \"2025-09-22T21:01:20.192507\", \"bed_id\": 379, \"hospital_id\": 3}"
        ],
        [
         "{\"patient_id\": \"a40250c8-8051-4fe4-938d-7eaad155b067\", \"gender\": \"Male\", \"age\": 74, \"department\": \"ICU\", \"admission_time\": \"2025-09-22T23:59:45.136214\", \"discharge_time\": \"2025-09-23T22:59:45.136214\", \"bed_id\": 244, \"hospital_id\": 5}"
        ],
        [
         "{\"patient_id\": \"27670aac-08c5-4e5a-88ea-f545d67fa410\", \"gender\": \"Male\", \"age\": 67, \"department\": \"ICU\", \"admission_time\": \"2025-09-21T21:00:55.178471\", \"discharge_time\": \"2025-09-22T19:00:55.178471\", \"bed_id\": 341, \"hospital_id\": 1}"
        ],
        [
         "{\"patient_id\": \"5582ad19-f492-4519-bd06-8fbbc20ce58a\", \"gender\": \"Male\", \"age\": 87, \"department\": \"ICU\", \"admission_time\": \"2025-09-23T00:59:09.112825\", \"discharge_time\": \"2025-09-23T12:59:09.112825\", \"bed_id\": 281, \"hospital_id\": 1}"
        ],
        [
         "{\"patient_id\": \"7f8863a7-ff94-4661-8381-d2e1a91e335b\", \"gender\": \"Male\", \"age\": 56, \"department\": \"ICU\", \"admission_time\": \"2025-09-22T10:54:11.916533\", \"discharge_time\": \"2025-09-24T04:54:11.916533\", \"bed_id\": 374, \"hospital_id\": 3}"
        ],
        [
         "{\"patient_id\": \"5d25f008-d78f-404b-a01a-bdac44fb5ec3\", \"gender\": \"Male\", \"age\": 96, \"department\": \"ICU\", \"admission_time\": \"2025-09-22T04:01:43.210790\", \"discharge_time\": \"2025-09-23T14:01:43.210790\", \"bed_id\": 187, \"hospital_id\": 6}"
        ],
        [
         "{\"patient_id\": \"b5079dbb-b8d5-4d21-b915-07d090c13cf1\", \"gender\": \"Male\", \"age\": 99, \"department\": \"ICU\", \"admission_time\": \"2025-09-23T02:55:10.958463\", \"discharge_time\": \"2025-09-25T07:55:10.958463\", \"bed_id\": 46, \"hospital_id\": 2}"
        ],
        [
         "{\"patient_id\": \"48f1062c-1b26-4117-8dfd-be3895554eb6\", \"gender\": \"Male\", \"age\": 47, \"department\": \"ICU\", \"admission_time\": \"2025-09-23T03:27:01.375792\", \"discharge_time\": \"2025-09-24T23:27:01.375792\", \"bed_id\": 182, \"hospital_id\": 6}"
        ],
        [
         "{\"patient_id\": \"217ec813-046e-440a-b4e5-444be3476838\", \"gender\": \"Male\", \"age\": 74, \"department\": \"ICU\", \"admission_time\": \"2025-09-20T20:05:04.347667\", \"discharge_time\": \"2025-09-22T22:05:04.347667\", \"bed_id\": 437, \"hospital_id\": 6}"
        ],
        [
         "{\"patient_id\": \"c55ef455-3f57-4cf6-863f-48f6a8bbd807\", \"gender\": \"Male\", \"age\": 94, \"department\": \"ICU\", \"admission_time\": \"2025-09-22T08:58:03.069661\", \"discharge_time\": \"2025-09-22T20:58:03.069661\", \"bed_id\": 361, \"hospital_id\": 7}"
        ],
        [
         "{\"patient_id\": \"670c702f-57dc-4be9-9d05-8f9784308496\", \"gender\": \"Male\", \"age\": 96, \"department\": \"ICU\", \"admission_time\": \"2025-09-21T00:06:12.392718\", \"discharge_time\": \"2025-09-21T14:06:12.392718\", \"bed_id\": 174, \"hospital_id\": 5}"
        ],
        [
         "{\"patient_id\": \"2b532c7d-4c6c-4455-aae8-cf7e8f7ac8c8\", \"gender\": \"Male\", \"age\": 50, \"department\": \"ICU\", \"admission_time\": \"2025-09-22T16:54:44.938563\", \"discharge_time\": \"2025-09-25T08:54:44.938563\", \"bed_id\": 363, \"hospital_id\": 5}"
        ],
        [
         "{\"patient_id\": \"78d6372f-323b-412c-ac9c-4f3ee482170d\", \"gender\": \"Male\", \"age\": 46, \"department\": \"ICU\", \"admission_time\": \"2025-09-21T04:05:51.376290\", \"discharge_time\": \"2025-09-22T03:05:51.376290\", \"bed_id\": 12, \"hospital_id\": 7}"
        ],
        [
         "{\"patient_id\": \"12cb09b0-7b6e-4e69-84a8-d2c88825e9af\", \"gender\": \"Male\", \"age\": 71, \"department\": \"ICU\", \"admission_time\": \"2025-09-21T05:57:56.065307\", \"discharge_time\": \"2025-09-24T05:57:56.065307\", \"bed_id\": 422, \"hospital_id\": 5}"
        ],
        [
         "{\"patient_id\": \"9a83ff77-4555-45f4-b151-123b546d6445\", \"gender\": \"Male\", \"age\": 77, \"department\": \"ICU\", \"admission_time\": \"2025-09-23T00:05:25.359787\", \"discharge_time\": \"2025-09-23T07:05:25.359787\", \"bed_id\": 116, \"hospital_id\": 4}"
        ],
        [
         "{\"patient_id\": \"7c695297-ab01-4768-a22f-a84850ac2f03\", \"gender\": \"Male\", \"age\": 14, \"department\": \"ICU\", \"admission_time\": \"2025-09-20T10:06:18.397010\", \"discharge_time\": \"2025-09-23T10:06:18.397010\", \"bed_id\": 202, \"hospital_id\": 3}"
        ],
        [
         "{\"patient_id\": \"1b454d59-6ac9-4f63-b8f7-8a7724c3d75a\", \"gender\": \"Male\", \"age\": 83, \"department\": \"ICU\", \"admission_time\": \"2025-09-21T04:09:09.508741\", \"discharge_time\": \"2025-09-21T05:09:09.508741\", \"bed_id\": 122, \"hospital_id\": 5}"
        ],
        [
         "{\"patient_id\": \"22ca9d33-3338-41dd-934a-3029449da44e\", \"gender\": \"Male\", \"age\": 8, \"department\": \"ICU\", \"admission_time\": \"2025-09-21T12:08:54.498591\", \"discharge_time\": \"2025-09-22T10:08:54.498591\", \"bed_id\": 242, \"hospital_id\": 1}"
        ],
        [
         "{\"patient_id\": \"689f1794-9c04-4702-825a-460e163e434d\", \"gender\": \"Male\", \"age\": 90, \"department\": \"ICU\", \"admission_time\": \"2025-09-22T02:00:39.168436\", \"discharge_time\": \"2025-09-23T17:00:39.168436\", \"bed_id\": 64, \"hospital_id\": 3}"
        ],
        [
         "{\"patient_id\": \"44e1522d-85b8-4ad7-b48f-87ae09e514b1\", \"gender\": \"Male\", \"age\": 60, \"department\": \"ICU\", \"admission_time\": \"2025-09-20T10:04:10.312014\", \"discharge_time\": \"2025-09-21T15:04:10.312014\", \"bed_id\": 11, \"hospital_id\": 7}"
        ],
        [
         "{\"patient_id\": \"405979d9-99d1-4fc8-97fe-b7f210888b14\", \"gender\": \"Male\", \"age\": 56, \"department\": \"ICU\", \"admission_time\": \"2025-09-22T22:59:08.112334\", \"discharge_time\": \"2025-09-23T01:59:08.112334\", \"bed_id\": 11, \"hospital_id\": 7}"
        ],
        [
         "{\"patient_id\": \"8f2cbf66-cc51-4197-9242-317d381dc065\", \"gender\": \"Male\", \"age\": 12, \"department\": \"ICU\", \"admission_time\": \"2025-09-20T21:07:43.457015\", \"discharge_time\": \"2025-09-21T19:07:43.457015\", \"bed_id\": 91, \"hospital_id\": 5}"
        ],
        [
         "{\"patient_id\": \"e12e3257-947a-4830-b685-a8231a2c4400\", \"gender\": \"Male\", \"age\": 75, \"department\": \"ICU\", \"admission_time\": \"2025-09-22T19:26:35.358592\", \"discharge_time\": \"2025-09-24T23:26:35.358592\", \"bed_id\": 19, \"hospital_id\": 1}"
        ],
        [
         "{\"patient_id\": \"41e90d88-c0ec-4995-9e9c-d84b4fbd16c9\", \"gender\": \"Male\", \"age\": 86, \"department\": \"ICU\", \"admission_time\": \"2025-09-22T00:58:36.090703\", \"discharge_time\": \"2025-09-24T17:58:36.090703\", \"bed_id\": 77, \"hospital_id\": 5}"
        ],
        [
         "{\"patient_id\": \"e6499126-3cce-429a-8405-bd49be4c3f51\", \"gender\": \"Male\", \"age\": 93, \"department\": \"ICU\", \"admission_time\": \"2025-09-20T20:55:33.974561\", \"discharge_time\": \"2025-09-23T19:55:33.974561\", \"bed_id\": 99, \"hospital_id\": 3}"
        ],
        [
         "{\"patient_id\": \"246cea41-179a-404e-9933-c7090a18a32e\", \"gender\": \"Male\", \"age\": 13, \"department\": \"ICU\", \"admission_time\": \"2025-09-22T07:59:13.114977\", \"discharge_time\": \"2025-09-24T00:59:13.114977\", \"bed_id\": 36, \"hospital_id\": 6}"
        ],
        [
         "{\"patient_id\": \"14252983-56dd-47a6-bfce-d506ae68bf03\", \"gender\": \"Male\", \"age\": 37, \"department\": \"ICU\", \"admission_time\": \"2025-09-22T08:55:56.988113\", \"discharge_time\": \"2025-09-24T00:55:56.988113\", \"bed_id\": 68, \"hospital_id\": 3}"
        ],
        [
         "{\"patient_id\": \"18c247af-b058-46ee-96a3-ed094d555bdf\", \"gender\": \"Male\", \"age\": 66, \"department\": \"ICU\", \"admission_time\": \"2025-09-21T03:10:09.548433\", \"discharge_time\": \"2025-09-21T20:10:09.548433\", \"bed_id\": 58, \"hospital_id\": 4}"
        ],
        [
         "{\"patient_id\": \"cf851a02-b01f-4263-9587-65ddd574ca31\", \"gender\": \"Male\", \"age\": 72, \"department\": \"ICU\", \"admission_time\": \"2025-09-21T05:26:16.345307\", \"discharge_time\": \"2025-09-23T05:26:16.345307\", \"bed_id\": 99, \"hospital_id\": 5}"
        ],
        [
         "{\"patient_id\": \"0c5cf1e0-f1b8-4872-aefb-70a2dd5f6b8a\", \"gender\": \"Female\", \"age\": 31, \"department\": \"ICU\", \"admission_time\": \"2025-09-22T05:53:19.882386\", \"discharge_time\": \"2025-09-24T07:53:19.882386\", \"bed_id\": 306, \"hospital_id\": 3}"
        ],
        [
         "{\"patient_id\": \"b2664645-9a2d-4b86-96b7-9e76fa75e401\", \"gender\": \"Female\", \"age\": 150, \"department\": \"Surgery\", \"admission_time\": \"2025-09-23T06:53:20.882811\", \"discharge_time\": \"2025-09-23T19:53:20.882811\", \"bed_id\": 493, \"hospital_id\": 5}"
        ],
        [
         "{\"patient_id\": \"7a97a33b-29ea-441d-bd7d-dc2d171335d3\", \"gender\": \"Female\", \"age\": 96, \"department\": \"Pediatrics\", \"admission_time\": \"2025-09-22T09:53:21.883239\", \"discharge_time\": \"2025-09-24T10:53:21.883239\", \"bed_id\": 101, \"hospital_id\": 6}"
        ],
        [
         "{\"patient_id\": \"156d0cf4-6102-4712-a331-6edad920678c\", \"gender\": \"Male\", \"age\": 48, \"department\": \"Pediatrics\", \"admission_time\": \"2025-09-20T12:53:22.883992\", \"discharge_time\": \"2025-09-22T19:53:22.883992\", \"bed_id\": 311, \"hospital_id\": 4}"
        ],
        [
         "{\"patient_id\": \"f6d8dfc3-8408-48f5-9261-fb34f09cc2cc\", \"gender\": \"Female\", \"age\": 34, \"department\": \"ICU\", \"admission_time\": \"2025-09-22T07:52:40.854850\", \"discharge_time\": \"2025-09-23T04:52:40.854850\", \"bed_id\": 186, \"hospital_id\": 5}"
        ],
        [
         "{\"patient_id\": \"34998668-ec05-40be-a1c6-ea44b39b6afd\", \"gender\": \"Female\", \"age\": 18, \"department\": \"Cardiology\", \"admission_time\": \"2025-09-22T04:52:41.855306\", \"discharge_time\": \"2025-09-24T10:52:41.855306\", \"bed_id\": 79, \"hospital_id\": 4}"
        ],
        [
         "{\"patient_id\": \"9848f6b7-8bef-4ce8-a2fd-840bcd5009f6\", \"gender\": \"Male\", \"age\": 55, \"department\": \"Pediatrics\", \"admission_time\": \"2025-09-22T01:52:42.855749\", \"discharge_time\": \"2025-09-24T02:52:42.855749\", \"bed_id\": 409, \"hospital_id\": 4}"
        ],
        [
         "{\"patient_id\": \"2a32aa32-0b72-47e2-a99c-3843f6e005aa\", \"gender\": \"Female\", \"age\": 17, \"department\": \"Emergency\", \"admission_time\": \"2025-09-22T08:57:04.032329\", \"discharge_time\": \"2025-09-24T06:57:04.032329\", \"bed_id\": 495, \"hospital_id\": 6}"
        ],
        [
         "{\"patient_id\": \"d64a8df0-32ad-4cbb-b777-c198a3c7fbf0\", \"gender\": \"Female\", \"age\": 43, \"department\": \"Maternity\", \"admission_time\": \"2025-09-20T06:57:05.034025\", \"discharge_time\": \"2025-09-22T11:57:05.034025\", \"bed_id\": 467, \"hospital_id\": 3}"
        ],
        [
         "{\"patient_id\": \"cc131249-728b-4714-add6-9f5657280d85\", \"gender\": \"Female\", \"age\": 51, \"department\": \"Pediatrics\", \"admission_time\": \"2025-09-23T11:59:32.128433\", \"discharge_time\": \"2025-09-21T11:59:32.128358\", \"bed_id\": 237, \"hospital_id\": 4}"
        ],
        [
         "{\"patient_id\": \"c53cde80-608e-4323-b247-ec0ec88285a1\", \"gender\": \"Male\", \"age\": 42, \"department\": \"Maternity\", \"admission_time\": \"2025-09-21T05:59:33.128874\", \"discharge_time\": \"2025-09-23T12:59:33.128874\", \"bed_id\": 56, \"hospital_id\": 5}"
        ],
        [
         "{\"patient_id\": \"01ba7e1e-382a-48be-bd8d-26bbb4a40550\", \"gender\": \"Female\", \"age\": 29, \"department\": \"Surgery\", \"admission_time\": \"2025-09-22T12:54:33.931322\", \"discharge_time\": \"2025-09-23T09:54:33.931322\", \"bed_id\": 118, \"hospital_id\": 4}"
        ],
        [
         "{\"patient_id\": \"65669a57-6609-44c9-982f-d59a89fe8a04\", \"gender\": \"Female\", \"age\": 92, \"department\": \"Pediatrics\", \"admission_time\": \"2025-09-23T02:54:34.932256\", \"discharge_time\": \"2025-09-23T10:54:34.932256\", \"bed_id\": 340, \"hospital_id\": 7}"
        ],
        [
         "{\"patient_id\": \"57237c22-3ee4-45ef-86b7-71eaea704ee2\", \"gender\": \"Male\", \"age\": 15, \"department\": \"Pediatrics\", \"admission_time\": \"2025-09-20T13:03:00.262699\", \"discharge_time\": \"2025-09-21T21:03:00.262699\", \"bed_id\": 422, \"hospital_id\": 2}"
        ],
        [
         "{\"patient_id\": \"e071ad7d-9fda-48dc-836f-b3118de289cf\", \"gender\": \"Female\", \"age\": 57, \"department\": \"Oncology\", \"admission_time\": \"2025-09-22T13:03:01.263642\", \"discharge_time\": \"2025-09-23T19:03:01.263642\", \"bed_id\": 365, \"hospital_id\": 4}"
        ],
        [
         "{\"patient_id\": \"e5269b7d-3fd4-4494-b51b-f408db53f217\", \"gender\": \"Male\", \"age\": 42, \"department\": \"ICU\", \"admission_time\": \"2025-09-21T14:10:00.541834\", \"discharge_time\": \"2025-09-23T04:10:00.541834\", \"bed_id\": 168, \"hospital_id\": 3}"
        ],
        [
         "{\"patient_id\": \"e55d15fd-c1c2-4493-a20c-cb01363b6141\", \"gender\": \"Female\", \"age\": 35, \"department\": \"Maternity\", \"admission_time\": \"2025-09-25T15:10:01.543236\", \"discharge_time\": \"2025-09-24T15:10:01.543162\", \"bed_id\": 252, \"hospital_id\": 1}"
        ],
        [
         "{\"patient_id\": \"0f36892f-78ac-4c0a-a6eb-c405f384c43f\", \"gender\": \"Female\", \"age\": 24, \"department\": \"Cardiology\", \"admission_time\": \"2025-09-20T10:25:29.311153\", \"discharge_time\": \"2025-09-22T12:25:29.311153\", \"bed_id\": 108, \"hospital_id\": 5}"
        ],
        [
         "{\"patient_id\": \"b6096ac3-1f0e-4cbe-bf61-d306597f6ca0\", \"gender\": \"Male\", \"age\": 21, \"department\": \"Emergency\", \"admission_time\": \"2025-09-21T02:25:30.312090\", \"discharge_time\": \"2025-09-22T17:25:30.312090\", \"bed_id\": 413, \"hospital_id\": 6}"
        ],
        [
         "{\"patient_id\": \"5a8d491c-a576-4e52-b223-dedfe681cf08\", \"gender\": \"Female\", \"age\": 49, \"department\": \"Oncology\", \"admission_time\": \"2025-09-21T23:08:17.478469\", \"discharge_time\": \"2025-09-22T07:08:17.478469\", \"bed_id\": 245, \"hospital_id\": 5}"
        ],
        [
         "{\"patient_id\": \"af33450c-18cd-42d2-a999-226fb86bbffc\", \"gender\": \"Male\", \"age\": 68, \"department\": \"Cardiology\", \"admission_time\": \"2025-09-20T13:08:18.479364\", \"discharge_time\": \"2025-09-22T16:08:18.479364\", \"bed_id\": 465, \"hospital_id\": 7}"
        ],
        [
         "{\"patient_id\": \"0b23a694-3ab5-42fb-b6c6-d7b14779de1d\", \"gender\": \"Male\", \"age\": 13, \"department\": \"Cardiology\", \"admission_time\": \"2025-09-23T02:02:05.225806\", \"discharge_time\": \"2025-09-23T03:02:05.225806\", \"bed_id\": 161, \"hospital_id\": 5}"
        ],
        [
         "{\"patient_id\": \"9a4288e4-8574-432c-b43e-42a6708bf714\", \"gender\": \"Female\", \"age\": 75, \"department\": \"ICU\", \"admission_time\": \"2025-09-22T00:02:06.226244\", \"discharge_time\": \"2025-09-24T18:02:06.226244\", \"bed_id\": 426, \"hospital_id\": 2}"
        ],
        [
         "{\"patient_id\": \"19002171-b8e4-4f9a-a0f9-349f261e3866\", \"gender\": \"Male\", \"age\": 17, \"department\": \"Surgery\", \"admission_time\": \"2025-09-20T10:02:36.246874\", \"discharge_time\": \"2025-09-21T17:02:36.246874\", \"bed_id\": 436, \"hospital_id\": 3}"
        ],
        [
         "{\"patient_id\": \"d954e62c-1d6c-4acc-9c66-30c515343b4d\", \"gender\": \"Female\", \"age\": 85, \"department\": \"Oncology\", \"admission_time\": \"2025-09-21T10:02:37.247981\", \"discharge_time\": \"2025-09-22T13:02:37.247981\", \"bed_id\": 436, \"hospital_id\": 5}"
        ],
        [
         "{\"patient_id\": \"ce5c5f2b-5765-417e-b06e-d6a1c58c0943\", \"gender\": \"Female\", \"age\": 9, \"department\": \"Pediatrics\", \"admission_time\": \"2025-09-21T23:06:52.421778\", \"discharge_time\": \"2025-09-24T21:06:52.421778\", \"bed_id\": 54, \"hospital_id\": 2}"
        ],
        [
         "{\"patient_id\": \"de8090d3-9717-4163-b235-3a7a5fbe4e00\", \"gender\": \"Male\", \"age\": 79, \"department\": \"Surgery\", \"admission_time\": \"2025-09-23T06:06:53.423528\", \"discharge_time\": \"2025-09-26T06:06:53.423528\", \"bed_id\": 362, \"hospital_id\": 4}"
        ],
        [
         "{\"patient_id\": \"e9780fad-c23a-4b11-b946-626a70015475\", \"gender\": \"Female\", \"age\": 98, \"department\": \"Emergency\", \"admission_time\": \"2025-09-21T16:57:41.056242\", \"discharge_time\": \"2025-09-22T06:57:41.056242\", \"bed_id\": 416, \"hospital_id\": 7}"
        ],
        [
         "{\"patient_id\": \"dd59c8d2-1dfc-4e70-be8e-bc9511e4ba94\", \"gender\": \"Male\", \"age\": 82, \"department\": \"Emergency\", \"admission_time\": \"2025-09-20T23:57:42.056694\", \"discharge_time\": \"2025-09-21T04:57:42.056694\", \"bed_id\": 183, \"hospital_id\": 4}"
        ],
        [
         "{\"patient_id\": \"b034a445-550a-48f5-a882-3f4c08b5692a\", \"gender\": \"Male\", \"age\": 12, \"department\": \"Maternity\", \"admission_time\": \"2025-09-22T01:53:58.906923\", \"discharge_time\": \"2025-09-22T22:53:58.906923\", \"bed_id\": 220, \"hospital_id\": 7}"
        ],
        [
         "{\"patient_id\": \"8071199f-60ef-454c-a019-30889f0eaa7e\", \"gender\": \"Female\", \"age\": 136, \"department\": \"Emergency\", \"admission_time\": \"2025-09-20T20:53:59.907596\", \"discharge_time\": \"2025-09-20T21:53:59.907596\", \"bed_id\": 453, \"hospital_id\": 3}"
        ],
        [
         "{\"patient_id\": \"833e3bd2-30fb-4377-a3ea-4e7e596c87a1\", \"gender\": \"Female\", \"age\": 85, \"department\": \"Pediatrics\", \"admission_time\": \"2025-09-22T02:52:43.856186\", \"discharge_time\": \"2025-09-22T22:52:43.856186\", \"bed_id\": 65, \"hospital_id\": 7}"
        ],
        [
         "{\"patient_id\": \"35f8e18a-b739-45d5-aa8f-d6be07395bb8\", \"gender\": \"Female\", \"age\": 68, \"department\": \"Emergency\", \"admission_time\": \"2025-09-21T19:52:44.856715\", \"discharge_time\": \"2025-09-24T10:52:44.856715\", \"bed_id\": 10, \"hospital_id\": 2}"
        ],
        [
         "{\"patient_id\": \"ddeafdb4-bb8b-4ad3-b548-6b0f64ef4c99\", \"gender\": \"Male\", \"age\": 13, \"department\": \"ICU\", \"admission_time\": \"2025-09-20T21:26:46.365032\", \"discharge_time\": \"2025-09-22T08:26:46.365032\", \"bed_id\": 219, \"hospital_id\": 4}"
        ],
        [
         "{\"patient_id\": \"513f019c-c264-4ef4-b5c4-49c001ce797a\", \"gender\": \"Female\", \"age\": 30, \"department\": \"Cardiology\", \"admission_time\": \"2025-09-22T00:26:47.366902\", \"discharge_time\": \"2025-09-22T17:26:47.366902\", \"bed_id\": 303, \"hospital_id\": 3}"
        ],
        [
         "{\"patient_id\": \"c477d45e-34c5-4545-b87a-55866a1cf21f\", \"gender\": \"Female\", \"age\": 42, \"department\": \"ICU\", \"admission_time\": \"2025-09-21T21:03:50.296447\", \"discharge_time\": \"2025-09-24T00:03:50.296447\", \"bed_id\": 343, \"hospital_id\": 3}"
        ],
        [
         "{\"patient_id\": \"40706ae3-d00f-4d89-976a-a9f7857b5568\", \"gender\": \"Female\", \"age\": 45, \"department\": \"Oncology\", \"admission_time\": \"2025-09-21T00:03:51.297752\", \"discharge_time\": \"2025-09-23T01:03:51.297752\", \"bed_id\": 118, \"hospital_id\": 5}"
        ],
        [
         "{\"patient_id\": \"f191e7da-bee5-4506-ba77-13cda7b20a87\", \"gender\": \"Male\", \"age\": 8, \"department\": \"Emergency\", \"admission_time\": \"2025-09-21T03:57:48.060452\", \"discharge_time\": \"2025-09-23T13:57:48.060452\", \"bed_id\": 322, \"hospital_id\": 7}"
        ],
        [
         "{\"patient_id\": \"719d256f-d858-4b6e-be92-548ea77c5bd4\", \"gender\": \"Male\", \"age\": 60, \"department\": \"Pediatrics\", \"admission_time\": \"2025-09-22T08:57:49.060944\", \"discharge_time\": \"2025-09-22T21:57:49.060944\", \"bed_id\": 81, \"hospital_id\": 5}"
        ],
        [
         "{\"patient_id\": \"5f1a92e2-ba10-4960-ae15-ef4dcb3756a8\", \"gender\": \"Female\", \"age\": 64, \"department\": \"Cardiology\", \"admission_time\": \"2025-09-20T14:54:36.933611\", \"discharge_time\": \"2025-09-20T19:54:36.933611\", \"bed_id\": 158, \"hospital_id\": 7}"
        ],
        [
         "{\"patient_id\": \"2aa72a46-abb8-406b-af26-e5170d6cd4bd\", \"gender\": \"Male\", \"age\": 9, \"department\": \"ICU\", \"admission_time\": \"2025-09-22T00:54:37.934054\", \"discharge_time\": \"2025-09-23T07:54:37.934054\", \"bed_id\": 209, \"hospital_id\": 1}"
        ],
        [
         "{\"patient_id\": \"76a16111-aa6c-43d5-ae9c-89166f87e8a7\", \"gender\": \"Male\", \"age\": 92, \"department\": \"Pediatrics\", \"admission_time\": \"2025-09-21T18:54:56.946736\", \"discharge_time\": \"2025-09-22T08:54:56.946736\", \"bed_id\": 354, \"hospital_id\": 4}"
        ],
        [
         "{\"patient_id\": \"f4e62a60-4a36-4dd0-a29f-d18600802a9e\", \"gender\": \"Male\", \"age\": 89, \"department\": \"ICU\", \"admission_time\": \"2025-09-22T21:54:57.947223\", \"discharge_time\": \"2025-09-23T18:54:57.947223\", \"bed_id\": 184, \"hospital_id\": 6}"
        ],
        [
         "{\"patient_id\": \"c35a26f4-2f18-4f01-b8ca-44a9ea6e0c9f\", \"gender\": \"Male\", \"age\": 67, \"department\": \"Maternity\", \"admission_time\": \"2025-09-23T22:08:19.479900\", \"discharge_time\": \"2025-09-23T13:08:19.479826\", \"bed_id\": 288, \"hospital_id\": 5}"
        ],
        [
         "{\"patient_id\": \"0a0d0cc8-d3f0-4f61-8875-8c5a1463c744\", \"gender\": \"Female\", \"age\": 25, \"department\": \"ICU\", \"admission_time\": \"2025-09-20T07:08:20.480278\", \"discharge_time\": \"2025-09-21T21:08:20.480278\", \"bed_id\": 26, \"hospital_id\": 7}"
        ],
        [
         "{\"patient_id\": \"20577761-4392-440a-9cbf-f16013a4dbf1\", \"gender\": \"Male\", \"age\": 42, \"department\": \"Cardiology\", \"admission_time\": \"2025-09-22T14:56:27.009389\", \"discharge_time\": \"2025-09-22T17:56:27.009389\", \"bed_id\": 186, \"hospital_id\": 6}"
        ],
        [
         "{\"patient_id\": \"e4351855-fd50-4e94-8bdc-3114a6bd006e\", \"gender\": \"Female\", \"age\": 42, \"department\": \"Cardiology\", \"admission_time\": \"2025-09-22T20:56:28.010359\", \"discharge_time\": \"2025-09-24T19:56:28.010359\", \"bed_id\": 386, \"hospital_id\": 6}"
        ],
        [
         "{\"patient_id\": \"8936a0cb-a886-4ba2-ad66-24b38525fbe4\", \"gender\": \"Male\", \"age\": 44, \"department\": \"Pediatrics\", \"admission_time\": \"2025-09-21T23:58:12.076359\", \"discharge_time\": \"2025-09-22T08:58:12.076359\", \"bed_id\": 456, \"hospital_id\": 3}"
        ],
        [
         "{\"patient_id\": \"4eae9262-a09e-42c5-af11-2338a9e72594\", \"gender\": \"Male\", \"age\": 15, \"department\": \"ICU\", \"admission_time\": \"2025-09-22T23:58:13.076846\", \"discharge_time\": \"2025-09-23T04:58:13.076846\", \"bed_id\": 235, \"hospital_id\": 3}"
        ],
        [
         "{\"patient_id\": \"67b30416-6a91-455c-93f8-f26aec145625\", \"gender\": \"Male\", \"age\": 44, \"department\": \"Surgery\", \"admission_time\": \"2025-09-23T03:26:09.339506\", \"discharge_time\": \"2025-09-24T17:26:09.339506\", \"bed_id\": 408, \"hospital_id\": 6}"
        ],
        [
         "{\"patient_id\": \"aa62c40b-5859-4230-a54c-27408a01abd9\", \"gender\": \"Male\", \"age\": 95, \"department\": \"ICU\", \"admission_time\": \"2025-09-22T09:26:10.340096\", \"discharge_time\": \"2025-09-24T00:26:10.340096\", \"bed_id\": 247, \"hospital_id\": 4}"
        ],
        [
         "{\"patient_id\": \"13325ea1-509d-4ddc-8cd3-49030fc63f72\", \"gender\": \"Male\", \"age\": 150, \"department\": \"Oncology\", \"admission_time\": \"2025-09-21T11:08:47.494410\", \"discharge_time\": \"2025-09-22T02:08:47.494410\", \"bed_id\": 141, \"hospital_id\": 7}"
        ],
        [
         "{\"patient_id\": \"e8cd73a6-ab0d-4622-baa8-0dfc39b19284\", \"gender\": \"Male\", \"age\": 22, \"department\": \"Pediatrics\", \"admission_time\": \"2025-09-21T02:08:48.494894\", \"discharge_time\": \"2025-09-23T05:08:48.494894\", \"bed_id\": 165, \"hospital_id\": 4}"
        ],
        [
         "{\"patient_id\": \"20bfd124-2dbc-4779-bcab-1add7e57893c\", \"gender\": \"Male\", \"age\": 141, \"department\": \"Surgery\", \"admission_time\": \"2025-09-23T06:08:13.475848\", \"discharge_time\": \"2025-09-24T16:08:13.475848\", \"bed_id\": 356, \"hospital_id\": 2}"
        ],
        [
         "{\"patient_id\": \"e8ff771b-8d04-4c6f-b1c3-82637d2ea105\", \"gender\": \"Female\", \"age\": 22, \"department\": \"Cardiology\", \"admission_time\": \"2025-09-22T14:08:14.477163\", \"discharge_time\": \"2025-09-23T14:08:14.477163\", \"bed_id\": 153, \"hospital_id\": 2}"
        ],
        [
         "{\"patient_id\": \"673eaf0c-8c2f-4ce1-a222-4e1b9ef2bc88\", \"gender\": \"Female\", \"age\": 7, \"department\": \"ICU\", \"admission_time\": \"2025-09-22T07:07:11.432534\", \"discharge_time\": \"2025-09-24T01:07:11.432534\", \"bed_id\": 184, \"hospital_id\": 6}"
        ],
        [
         "{\"patient_id\": \"d3607c49-5b6e-4923-a331-569781453975\", \"gender\": \"Male\", \"age\": 65, \"department\": \"Maternity\", \"admission_time\": \"2025-09-22T09:07:12.433046\", \"discharge_time\": \"2025-09-23T20:07:12.433046\", \"bed_id\": 443, \"hospital_id\": 1}"
        ],
        [
         "{\"patient_id\": \"60c1719d-47e1-4048-b86a-a719f3c187b7\", \"gender\": \"Male\", \"age\": 82, \"department\": \"Emergency\", \"admission_time\": \"2025-09-21T03:05:39.368403\", \"discharge_time\": \"2025-09-22T21:05:39.368403\", \"bed_id\": 119, \"hospital_id\": 2}"
        ],
        [
         "{\"patient_id\": \"6c4d1e6e-afbf-4e12-9ccb-d77d9bc9bfd0\", \"gender\": \"Male\", \"age\": 40, \"department\": \"ICU\", \"admission_time\": \"2025-09-22T16:05:40.369372\", \"discharge_time\": \"2025-09-24T20:05:40.369372\", \"bed_id\": 368, \"hospital_id\": 6}"
        ],
        [
         "{\"patient_id\": \"bd4d51ec-04cb-4264-a376-327d39df6d37\", \"gender\": \"Male\", \"age\": 115, \"department\": \"Emergency\", \"admission_time\": \"2025-09-21T13:08:15.477594\", \"discharge_time\": \"2025-09-22T01:08:15.477594\", \"bed_id\": 77, \"hospital_id\": 1}"
        ],
        [
         "{\"patient_id\": \"29aa419d-1929-43a0-bcf1-6bc1bf9a44ff\", \"gender\": \"Male\", \"age\": 136, \"department\": \"Surgery\", \"admission_time\": \"2025-09-24T20:08:16.478106\", \"discharge_time\": \"2025-09-22T10:08:16.478035\", \"bed_id\": 358, \"hospital_id\": 5}"
        ],
        [
         "{\"patient_id\": \"01cb2862-68c7-454c-8b29-db469a9acdc0\", \"gender\": \"Male\", \"age\": 95, \"department\": \"Oncology\", \"admission_time\": \"2025-09-23T05:53:05.871839\", \"discharge_time\": \"2025-09-25T18:53:05.871839\", \"bed_id\": 491, \"hospital_id\": 1}"
        ],
        [
         "{\"patient_id\": \"2537f36e-7a09-41e6-adbf-05662256767f\", \"gender\": \"Male\", \"age\": 21, \"department\": \"Cardiology\", \"admission_time\": \"2025-09-21T04:53:06.872274\", \"discharge_time\": \"2025-09-22T02:53:06.872274\", \"bed_id\": 468, \"hospital_id\": 7}"
        ],
        [
         "{\"patient_id\": \"28787a88-d423-444b-82a4-cc39a3a91b66\", \"gender\": \"Male\", \"age\": 30, \"department\": \"Cardiology\", \"admission_time\": \"2025-09-23T03:08:11.474955\", \"discharge_time\": \"2025-09-26T02:08:11.474955\", \"bed_id\": 193, \"hospital_id\": 7}"
        ],
        [
         "{\"patient_id\": \"4a13df86-c2b5-4fda-9a34-4154118f4362\", \"gender\": \"Male\", \"age\": 25, \"department\": \"Cardiology\", \"admission_time\": \"2025-09-21T00:08:12.475408\", \"discharge_time\": \"2025-09-22T02:08:12.475408\", \"bed_id\": 295, \"hospital_id\": 3}"
        ],
        [
         "{\"patient_id\": \"edac863d-a3e8-41bc-bcc1-9baf41b15834\", \"gender\": \"Male\", \"age\": 14, \"department\": \"Emergency\", \"admission_time\": \"2025-09-23T07:10:37.569983\", \"discharge_time\": \"2025-09-26T00:10:37.569983\", \"bed_id\": 341, \"hospital_id\": 4}"
        ],
        [
         "{\"patient_id\": \"9a5da561-d658-44a2-b4fe-56d9cfdc72a7\", \"gender\": \"Female\", \"age\": 68, \"department\": \"Emergency\", \"admission_time\": \"2025-09-21T01:10:38.570394\", \"discharge_time\": \"2025-09-23T19:10:38.570394\", \"bed_id\": 274, \"hospital_id\": 4}"
        ],
        [
         "{\"patient_id\": \"3c43d178-a469-4ced-915b-4c3e5bd79a5b\", \"gender\": \"Male\", \"age\": 25, \"department\": \"Cardiology\", \"admission_time\": \"2025-09-20T16:25:31.312525\", \"discharge_time\": \"2025-09-22T08:25:31.312525\", \"bed_id\": 88, \"hospital_id\": 3}"
        ],
        [
         "{\"patient_id\": \"5569817a-193f-4742-b615-b03c6331b508\", \"gender\": \"Male\", \"age\": 9, \"department\": \"ICU\", \"admission_time\": \"2025-09-20T08:25:32.313737\", \"discharge_time\": \"2025-09-21T07:25:32.313737\", \"bed_id\": 388, \"hospital_id\": 3}"
        ],
        [
         "{\"patient_id\": \"cf3b7bc3-c071-4115-ab96-709fa5741623\", \"gender\": \"Male\", \"age\": 33, \"department\": \"Oncology\", \"admission_time\": \"2025-09-21T00:01:03.182932\", \"discharge_time\": \"2025-09-23T03:01:03.182932\", \"bed_id\": 76, \"hospital_id\": 7}"
        ],
        [
         "{\"patient_id\": \"9bdd7307-7c51-4d8d-8f9c-03dd7abe224a\", \"gender\": \"Male\", \"age\": 21, \"department\": \"ICU\", \"admission_time\": \"2025-09-22T19:01:04.183365\", \"discharge_time\": \"2025-09-23T22:01:04.183365\", \"bed_id\": 36, \"hospital_id\": 4}"
        ],
        [
         "{\"patient_id\": \"d3b8a294-2bf5-4b55-99d7-02d6e56a8fda\", \"gender\": \"Male\", \"age\": 31, \"department\": \"ICU\", \"admission_time\": \"2025-09-22T09:00:45.172310\", \"discharge_time\": \"2025-09-24T19:00:45.172310\", \"bed_id\": 496, \"hospital_id\": 6}"
        ],
        [
         "{\"patient_id\": \"cc4c8885-c715-451c-9ff0-37abaedb5663\", \"gender\": \"Male\", \"age\": 36, \"department\": \"ICU\", \"admission_time\": \"2025-09-21T09:00:46.172817\", \"discharge_time\": \"2025-09-23T19:00:46.172817\", \"bed_id\": 318, \"hospital_id\": 4}"
        ]
       ],
       "datasetInfos": [],
       "dbfsResultPath": null,
       "isJsonSchema": true,
       "metadata": {},
       "overflow": false,
       "plotOptions": {
        "customPlotOptions": {},
        "displayType": "table",
        "pivotAggregation": null,
        "pivotColumns": null,
        "xColumns": null,
        "yColumns": null
       },
       "removedWidgets": [],
       "schema": [
        {
         "metadata": "{}",
         "name": "raw_json",
         "type": "\"string\""
        }
       ],
       "type": "table"
      }
     },
     "output_type": "display_data"
    }
   ],
   "source": [
    "display(spark.read.format(\"delta\").load(bronze_path))"
   ]
  }
 ],
 "metadata": {
  "application/vnd.databricks.v1+notebook": {
   "computePreferences": null,
   "dashboards": [],
   "environmentMetadata": {
    "base_environment": "",
    "environment_version": "3"
   },
   "inputWidgetPreferences": null,
   "language": "python",
   "notebookMetadata": {
    "pythonIndentUnit": 4
   },
   "notebookName": "01-bronze-rawdata",
   "widgets": {}
  },
  "language_info": {
   "name": "python"
  }
 },
 "nbformat": 4,
 "nbformat_minor": 0
}
